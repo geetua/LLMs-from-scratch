{
  "cells": [
    {
      "cell_type": "markdown",
      "id": "45398736-7e89-4263-89c8-92153baff553",
      "metadata": {
        "id": "45398736-7e89-4263-89c8-92153baff553"
      },
      "source": [
        "<table style=\"width:100%\">\n",
        "<tr>\n",
        "<td style=\"vertical-align:middle; text-align:left;\">\n",
        "<font size=\"2\">\n",
        "Supplementary code for the <a href=\"http://mng.bz/orYv\">Build a Large Language Model From Scratch</a> book by <a href=\"https://sebastianraschka.com\">Sebastian Raschka</a><br>\n",
        "<br>Code repository: <a href=\"https://github.com/rasbt/LLMs-from-scratch\">https://github.com/rasbt/LLMs-from-scratch</a>\n",
        "</font>\n",
        "</td>\n",
        "<td style=\"vertical-align:middle; text-align:left;\">\n",
        "<a href=\"http://mng.bz/orYv\"><img src=\"https://sebastianraschka.com/images/LLMs-from-scratch-images/cover-small.webp\" width=\"100px\"></a>\n",
        "</td>\n",
        "</tr>\n",
        "</table>"
      ]
    },
    {
      "cell_type": "markdown",
      "id": "66dd524e-864c-4012-b0a2-ccfc56e80024",
      "metadata": {
        "id": "66dd524e-864c-4012-b0a2-ccfc56e80024"
      },
      "source": [
        "# Chapter 5: Pretraining on Unlabeled Data"
      ]
    },
    {
      "cell_type": "markdown",
      "source": [],
      "metadata": {
        "id": "4RuHnhsd9Fqe"
      },
      "id": "4RuHnhsd9Fqe"
    },
    {
      "cell_type": "code",
      "source": [
        "! git clone https://github.com/geetua/LLMs-from-scratch\n",
        "! pip install tiktoken\n",
        "#!pip install import-ipynb\n"
      ],
      "metadata": {
        "id": "mZ2lqrPx7xW6",
        "outputId": "d123d8a1-b715-417d-c78e-3cb67aa0b5ed",
        "colab": {
          "base_uri": "https://localhost:8080/"
        }
      },
      "id": "mZ2lqrPx7xW6",
      "execution_count": 83,
      "outputs": [
        {
          "output_type": "stream",
          "name": "stdout",
          "text": [
            "Cloning into 'LLMs-from-scratch'...\n",
            "remote: Enumerating objects: 4866, done.\u001b[K\n",
            "remote: Counting objects: 100% (946/946), done.\u001b[K\n",
            "remote: Compressing objects: 100% (100/100), done.\u001b[K\n",
            "remote: Total 4866 (delta 889), reused 846 (delta 846), pack-reused 3920 (from 2)\u001b[K\n",
            "Receiving objects: 100% (4866/4866), 12.09 MiB | 14.30 MiB/s, done.\n",
            "Resolving deltas: 100% (3043/3043), done.\n",
            "Requirement already satisfied: tiktoken in /usr/local/lib/python3.11/dist-packages (0.9.0)\n",
            "Requirement already satisfied: regex>=2022.1.18 in /usr/local/lib/python3.11/dist-packages (from tiktoken) (2024.11.6)\n",
            "Requirement already satisfied: requests>=2.26.0 in /usr/local/lib/python3.11/dist-packages (from tiktoken) (2.32.3)\n",
            "Requirement already satisfied: charset-normalizer<4,>=2 in /usr/local/lib/python3.11/dist-packages (from requests>=2.26.0->tiktoken) (3.4.1)\n",
            "Requirement already satisfied: idna<4,>=2.5 in /usr/local/lib/python3.11/dist-packages (from requests>=2.26.0->tiktoken) (3.10)\n",
            "Requirement already satisfied: urllib3<3,>=1.21.1 in /usr/local/lib/python3.11/dist-packages (from requests>=2.26.0->tiktoken) (2.3.0)\n",
            "Requirement already satisfied: certifi>=2017.4.17 in /usr/local/lib/python3.11/dist-packages (from requests>=2.26.0->tiktoken) (2025.1.31)\n"
          ]
        }
      ]
    },
    {
      "cell_type": "code",
      "source": [
        "'''\n",
        "path = \"/content/LLMs-from-scratch/ch04/01_main-chapter-code\"\n",
        "!ls {path}\n",
        "\n",
        "import import_ipynb\n",
        "import sys\n",
        "\n",
        "%cd {path}\n",
        "import ch04\n",
        "'''"
      ],
      "metadata": {
        "id": "bsymnC-q790k",
        "outputId": "9f14acfa-87b8-4301-d7df-bfdd4fb0733b",
        "colab": {
          "base_uri": "https://localhost:8080/",
          "height": 35
        }
      },
      "id": "bsymnC-q790k",
      "execution_count": 84,
      "outputs": [
        {
          "output_type": "execute_result",
          "data": {
            "text/plain": [
              "'\\npath = \"/content/LLMs-from-scratch/ch04/01_main-chapter-code\"\\n!ls {path}\\n\\nimport import_ipynb\\nimport sys\\n\\n%cd {path}\\nimport ch04\\n'"
            ],
            "application/vnd.google.colaboratory.intrinsic+json": {
              "type": "string"
            }
          },
          "metadata": {},
          "execution_count": 84
        }
      ]
    },
    {
      "cell_type": "code",
      "source": [
        "#%run LLMs-from-scratch/ch04/01_main-chapter-code/ch04.ipynb\n",
        "#from previous_chapters import GPTModel"
      ],
      "metadata": {
        "id": "Vl1szpUG8IS_"
      },
      "id": "Vl1szpUG8IS_",
      "execution_count": 85,
      "outputs": []
    },
    {
      "cell_type": "code",
      "execution_count": 86,
      "id": "92b989e9-da36-4159-b212-799184764dd9",
      "metadata": {
        "id": "92b989e9-da36-4159-b212-799184764dd9",
        "outputId": "fca2e742-c3ed-4f63-e00b-a6dc407a6ea6",
        "colab": {
          "base_uri": "https://localhost:8080/"
        }
      },
      "outputs": [
        {
          "output_type": "stream",
          "name": "stdout",
          "text": [
            "matplotlib version: 3.10.0\n",
            "numpy version: 2.0.2\n",
            "tiktoken version: 0.9.0\n",
            "torch version: 2.6.0+cu124\n",
            "tensorflow version: 2.18.0\n"
          ]
        }
      ],
      "source": [
        "from importlib.metadata import version\n",
        "\n",
        "pkgs = [\"matplotlib\",\n",
        "        \"numpy\",\n",
        "        \"tiktoken\",\n",
        "        \"torch\",\n",
        "        \"tensorflow\" # For OpenAI's pretrained weights\n",
        "       ]\n",
        "for p in pkgs:\n",
        "    print(f\"{p} version: {version(p)}\")"
      ]
    },
    {
      "cell_type": "markdown",
      "id": "0a3bdf9e-2ff0-4a57-abab-ede2d955a237",
      "metadata": {
        "id": "0a3bdf9e-2ff0-4a57-abab-ede2d955a237"
      },
      "source": [
        "- In this chapter, we implement the training loop and code for basic model evaluation to pretrain an LLM\n",
        "- At the end of this chapter, we also load openly available pretrained weights from OpenAI into our model"
      ]
    },
    {
      "cell_type": "markdown",
      "id": "efd27fcc-2886-47cb-b544-046c2c31f02a",
      "metadata": {
        "id": "efd27fcc-2886-47cb-b544-046c2c31f02a"
      },
      "source": [
        "<img src=\"https://sebastianraschka.com/images/LLMs-from-scratch-images/ch05_compressed/chapter-overview.webp\" width=500px>"
      ]
    },
    {
      "cell_type": "markdown",
      "id": "0d214765-7a73-42d5-95e9-302154b29db9",
      "metadata": {
        "id": "0d214765-7a73-42d5-95e9-302154b29db9"
      },
      "source": [
        "- The topics covered in this chapter are shown below"
      ]
    },
    {
      "cell_type": "markdown",
      "id": "f67711d4-8391-4fee-aeef-07ea53dd5841",
      "metadata": {
        "id": "f67711d4-8391-4fee-aeef-07ea53dd5841"
      },
      "source": [
        "<img src=\"https://sebastianraschka.com/images/LLMs-from-scratch-images/ch05_compressed/mental-model--0.webp\" width=400px>"
      ]
    },
    {
      "cell_type": "markdown",
      "id": "0d824183-145c-4865-89e1-1f0d0a338f19",
      "metadata": {
        "id": "0d824183-145c-4865-89e1-1f0d0a338f19"
      },
      "source": [
        "## 5.1 Evaluating generative text models"
      ]
    },
    {
      "cell_type": "markdown",
      "id": "a3350f8c-5181-4f9b-a789-4523105e98f2",
      "metadata": {
        "id": "a3350f8c-5181-4f9b-a789-4523105e98f2"
      },
      "source": [
        "- We start this section with a brief recap of initializing a GPT model using the code from the previous chapter\n",
        "- Then, we discuss basic evaluation metrics for LLMs\n",
        "- Lastly, in this section, we apply these evaluation metrics to a training and validation dataset"
      ]
    },
    {
      "cell_type": "markdown",
      "id": "bdc1cf3f-82d8-46c7-9ecc-58979ce87cdd",
      "metadata": {
        "id": "bdc1cf3f-82d8-46c7-9ecc-58979ce87cdd"
      },
      "source": [
        "### 5.1.1 Using GPT to generate text"
      ]
    },
    {
      "cell_type": "markdown",
      "id": "5b3415fd-9f4a-4548-908e-9dfa56edc9bc",
      "metadata": {
        "id": "5b3415fd-9f4a-4548-908e-9dfa56edc9bc"
      },
      "source": [
        "- We initialize a GPT model using the code from the previous chapter"
      ]
    },
    {
      "cell_type": "code",
      "source": [
        "path = \"/content/LLMs-from-scratch/ch05/01_main-chapter-code/\"\n",
        "%cd {path}\n",
        "!ls\n",
        "import previous_chapters"
      ],
      "metadata": {
        "id": "19bN48ODxGWX",
        "outputId": "04d5fcb8-3834-400f-e957-dd476f86b908",
        "colab": {
          "base_uri": "https://localhost:8080/"
        }
      },
      "id": "19bN48ODxGWX",
      "execution_count": 87,
      "outputs": [
        {
          "output_type": "stream",
          "name": "stdout",
          "text": [
            "/content/LLMs-from-scratch/ch05/01_main-chapter-code\n",
            "ch05.ipynb\t\t  gpt_generate.py    model_and_optimizer.pth  README.md\n",
            "exercise-solutions.ipynb  gpt_train.py\t     model.pth\t\t      temperature-plot.pdf\n",
            "gpt2\t\t\t  LLMs-from-scratch  previous_chapters.py     tests.py\n",
            "gpt_download.py\t\t  loss-plot.pdf      __pycache__\t      the-verdict.txt\n"
          ]
        }
      ]
    },
    {
      "cell_type": "code",
      "source": [
        "#import math\n",
        "all_names = dir(previous_chapters)\n",
        "class_names = [name for name in all_names if isinstance(getattr(previous_chapters, name), type)]\n",
        "print(class_names)\n"
      ],
      "metadata": {
        "id": "sGq8B86OyToR",
        "outputId": "4dae60c3-675c-4ef8-b70d-24e81942d246",
        "colab": {
          "base_uri": "https://localhost:8080/"
        }
      },
      "id": "sGq8B86OyToR",
      "execution_count": 88,
      "outputs": [
        {
          "output_type": "stream",
          "name": "stdout",
          "text": [
            "['DataLoader', 'Dataset', 'FeedForward', 'GELU', 'GPTDatasetV1', 'GPTModel', 'LayerNorm', 'MultiHeadAttention', 'TransformerBlock']\n"
          ]
        }
      ]
    },
    {
      "cell_type": "code",
      "source": [
        "#from previous_chapters import create_dataloader_v1\n",
        "#from previous_chapters import GPTModel"
      ],
      "metadata": {
        "id": "1mUI8jYix7EA"
      },
      "id": "1mUI8jYix7EA",
      "execution_count": 89,
      "outputs": []
    },
    {
      "cell_type": "code",
      "execution_count": 90,
      "id": "86000d74-624a-48f0-86da-f41926cb9e04",
      "metadata": {
        "id": "86000d74-624a-48f0-86da-f41926cb9e04"
      },
      "outputs": [],
      "source": [
        "import torch\n",
        "#from ch04 import GPTModel\n",
        "from previous_chapters import GPTModel\n",
        "\n",
        "GPT_CONFIG_124M = {\n",
        "    \"vocab_size\": 50257,   # Vocabulary size\n",
        "    \"context_length\": 256, # Shortened context length (orig: 1024)\n",
        "    \"emb_dim\": 768,        # Embedding dimension\n",
        "    \"n_heads\": 12,         # Number of attention heads\n",
        "    \"n_layers\": 12,        # Number of layers\n",
        "    \"drop_rate\": 0.1,      # Dropout rate\n",
        "    \"qkv_bias\": False      # Query-key-value bias\n",
        "}\n",
        "\n",
        "torch.manual_seed(123)\n",
        "model = GPTModel(GPT_CONFIG_124M)\n",
        "model.eval();  # Disable dropout during inference"
      ]
    },
    {
      "cell_type": "markdown",
      "id": "09c6cf0f-7458-48a2-97fd-aa5068d65e8c",
      "metadata": {
        "id": "09c6cf0f-7458-48a2-97fd-aa5068d65e8c"
      },
      "source": [
        "- We use dropout of 0.1 above, but it's relatively common to train LLMs without dropout nowadays\n",
        "- Modern LLMs also don't use bias vectors in the `nn.Linear` layers for the query, key, and value matrices (unlike earlier GPT models), which is achieved by setting `\"qkv_bias\": False`\n",
        "- We reduce the context length (`context_length`) of only 256 tokens to reduce the computational resource requirements for training the model, whereas the original 124 million parameter GPT-2 model used 1024 tokens\n",
        "  - This is so that more readers will be able to follow and execute the code examples on their laptop computer\n",
        "  - However, please feel free to increase the `context_length` to 1024 tokens (this would not require any code changes)\n",
        "  - We will also load a model with a 1024 `context_length` later from pretrained weights"
      ]
    },
    {
      "cell_type": "markdown",
      "id": "59f80895-be35-4bb5-81cb-f357ef7367fe",
      "metadata": {
        "id": "59f80895-be35-4bb5-81cb-f357ef7367fe"
      },
      "source": [
        "- Next, we use the `generate_text_simple` function from the previous chapter to generate text\n",
        "- In addition, we define two convenience functions, `text_to_token_ids` and `token_ids_to_text`, for converting between token and text representations that we use throughout this chapter"
      ]
    },
    {
      "cell_type": "markdown",
      "id": "741881f3-cee0-49ad-b11d-b9df3b3ac234",
      "metadata": {
        "id": "741881f3-cee0-49ad-b11d-b9df3b3ac234"
      },
      "source": [
        "<img src=\"https://sebastianraschka.com/images/LLMs-from-scratch-images/ch05_compressed/gpt-process.webp\" width=500px>"
      ]
    },
    {
      "cell_type": "code",
      "execution_count": 91,
      "id": "5e062b82-3540-48ce-8eb4-009686d0d16c",
      "metadata": {
        "id": "5e062b82-3540-48ce-8eb4-009686d0d16c",
        "outputId": "7d46f014-7b33-4e7a-988c-a735a40234b1",
        "colab": {
          "base_uri": "https://localhost:8080/"
        }
      },
      "outputs": [
        {
          "output_type": "stream",
          "name": "stdout",
          "text": [
            "Output text:\n",
            " Every effort moves you rentingetic wasnم refres RexMeCHicular stren\n"
          ]
        }
      ],
      "source": [
        "import tiktoken\n",
        "from previous_chapters import generate_text_simple\n",
        "\n",
        "def text_to_token_ids(text, tokenizer):\n",
        "    encoded = tokenizer.encode(text, allowed_special={'<|endoftext|>'})\n",
        "    encoded_tensor = torch.tensor(encoded).unsqueeze(0) # add batch dimension\n",
        "    return encoded_tensor\n",
        "\n",
        "def token_ids_to_text(token_ids, tokenizer):\n",
        "    flat = token_ids.squeeze(0) # remove batch dimension\n",
        "    return tokenizer.decode(flat.tolist())\n",
        "\n",
        "start_context = \"Every effort moves you\"\n",
        "tokenizer = tiktoken.get_encoding(\"gpt2\")\n",
        "\n",
        "token_ids = generate_text_simple(\n",
        "    model=model,\n",
        "    idx=text_to_token_ids(start_context, tokenizer),\n",
        "    max_new_tokens=10,\n",
        "    context_size=GPT_CONFIG_124M[\"context_length\"]\n",
        ")\n",
        "\n",
        "print(\"Output text:\\n\", token_ids_to_text(token_ids, tokenizer))"
      ]
    },
    {
      "cell_type": "markdown",
      "id": "e4d3249b-b2a0-44c4-b589-ae4b403b8305",
      "metadata": {
        "id": "e4d3249b-b2a0-44c4-b589-ae4b403b8305"
      },
      "source": [
        "- As we can see above, the model does not produce good text because it has not been trained yet\n",
        "- How do we measure or capture what \"good text\" is, in a numeric form, to track it during training?\n",
        "- The next subsection introduces metrics to calculate a loss metric for the generated outputs that we can use to measure the training progress\n",
        "- The next chapters on finetuning LLMs will also introduce additional ways to measure model quality"
      ]
    },
    {
      "cell_type": "markdown",
      "id": "955f9e1a-7bf7-40d8-b1fa-eacabdee8d8e",
      "metadata": {
        "id": "955f9e1a-7bf7-40d8-b1fa-eacabdee8d8e"
      },
      "source": [
        "<br>"
      ]
    },
    {
      "cell_type": "markdown",
      "id": "0f3d7ea2-637f-4490-bc76-e361fc81ae98",
      "metadata": {
        "id": "0f3d7ea2-637f-4490-bc76-e361fc81ae98"
      },
      "source": [
        "### 5.1.2 Calculating the text generation loss: cross-entropy and perplexity"
      ]
    },
    {
      "cell_type": "markdown",
      "id": "9e1ba8aa-fb03-4d25-957f-fe8778762440",
      "metadata": {
        "id": "9e1ba8aa-fb03-4d25-957f-fe8778762440"
      },
      "source": [
        "- Suppose we have an `inputs` tensor containing the token IDs for 2 training examples (rows)\n",
        "- Corresponding to the `inputs`, the `targets` contain the desired token IDs that we want the model to generate\n",
        "- Notice that the `targets` are the `inputs` shifted by 1 position, as explained in chapter 2 when we implemented the data loader"
      ]
    },
    {
      "cell_type": "code",
      "execution_count": 92,
      "id": "6b5402f8-ec0c-4a44-9892-18a97779ee4f",
      "metadata": {
        "id": "6b5402f8-ec0c-4a44-9892-18a97779ee4f"
      },
      "outputs": [],
      "source": [
        "inputs = torch.tensor([[16833, 3626, 6100],   # [\"every effort moves\",\n",
        "                       [40,    1107, 588]])   #  \"I really like\"]\n",
        "\n",
        "targets = torch.tensor([[3626, 6100, 345  ],  # [\" effort moves you\",\n",
        "                        [1107,  588, 11311]]) #  \" really like chocolate\"]"
      ]
    },
    {
      "cell_type": "markdown",
      "id": "33dc0645-ac2c-4973-9b40-6da40515bede",
      "metadata": {
        "id": "33dc0645-ac2c-4973-9b40-6da40515bede"
      },
      "source": [
        "- Feeding the `inputs` to the model, we obtain the logits vector for the 2 input examples that consist of 3 tokens each\n",
        "- Each of the tokens is a 50,257-dimensional vector corresponding to the size of the vocabulary\n",
        "- Applying the softmax function, we can turn the logits tensor into a tensor of the same dimension containing probability scores"
      ]
    },
    {
      "cell_type": "code",
      "execution_count": 93,
      "id": "e7b6ec51-6f8c-49bd-a349-95ba38b46fb6",
      "metadata": {
        "id": "e7b6ec51-6f8c-49bd-a349-95ba38b46fb6",
        "outputId": "3f41b0d5-f892-4224-f440-fe24f953c1c8",
        "colab": {
          "base_uri": "https://localhost:8080/"
        }
      },
      "outputs": [
        {
          "output_type": "stream",
          "name": "stdout",
          "text": [
            "torch.Size([2, 3, 50257])\n"
          ]
        }
      ],
      "source": [
        "with torch.no_grad():\n",
        "    logits = model(inputs)\n",
        "\n",
        "probas = torch.softmax(logits, dim=-1) # Probability of each token in vocabulary\n",
        "print(probas.shape) # Shape: (batch_size, num_tokens, vocab_size)"
      ]
    },
    {
      "cell_type": "markdown",
      "id": "5c36a382-b5e2-4de6-9e65-0b69b685013b",
      "metadata": {
        "id": "5c36a382-b5e2-4de6-9e65-0b69b685013b"
      },
      "source": [
        "- The figure below, using a very small vocabulary for illustration purposes, outlines how we convert the probability scores back into text, which we discussed at the end of the previous chapter"
      ]
    },
    {
      "cell_type": "markdown",
      "id": "384d86a9-0013-476c-bb6b-274fd5f20b29",
      "metadata": {
        "id": "384d86a9-0013-476c-bb6b-274fd5f20b29"
      },
      "source": [
        "<img src=\"https://sebastianraschka.com/images/LLMs-from-scratch-images/ch05_compressed/proba-to-text.webp\" width=500px>"
      ]
    },
    {
      "cell_type": "markdown",
      "id": "e8480efd-d419-4954-9ecc-2876055334bd",
      "metadata": {
        "id": "e8480efd-d419-4954-9ecc-2876055334bd"
      },
      "source": [
        "- As discussed in the previous chapter, we can apply the `argmax` function to convert the probability scores into predicted token IDs\n",
        "- The softmax function above produced a 50,257-dimensional vector for each token; the `argmax` function returns the position of the highest probability score in this vector, which is the predicted token ID for the given token"
      ]
    },
    {
      "cell_type": "markdown",
      "id": "f3b84c9f-dd08-482e-b903-a86fe44e1144",
      "metadata": {
        "id": "f3b84c9f-dd08-482e-b903-a86fe44e1144"
      },
      "source": [
        "- Since we have 2 input batches with 3 tokens each, we obtain 2 by 3 predicted token IDs:"
      ]
    },
    {
      "cell_type": "code",
      "execution_count": 94,
      "id": "34ebd76a-16ec-4c17-8958-8a135735cc1c",
      "metadata": {
        "id": "34ebd76a-16ec-4c17-8958-8a135735cc1c",
        "outputId": "3fd06923-5bcd-43ec-efb1-7144ee7451ab",
        "colab": {
          "base_uri": "https://localhost:8080/"
        }
      },
      "outputs": [
        {
          "output_type": "stream",
          "name": "stdout",
          "text": [
            "Token IDs:\n",
            " tensor([[[16657],\n",
            "         [  339],\n",
            "         [42826]],\n",
            "\n",
            "        [[49906],\n",
            "         [29669],\n",
            "         [41751]]])\n"
          ]
        }
      ],
      "source": [
        "token_ids = torch.argmax(probas, dim=-1, keepdim=True)\n",
        "print(\"Token IDs:\\n\", token_ids)"
      ]
    },
    {
      "cell_type": "code",
      "source": [
        "token_ids.shape"
      ],
      "metadata": {
        "id": "gWAK_rJvhqW_",
        "outputId": "db89f8fd-3b36-4322-9d7b-8e124ee3de7f",
        "colab": {
          "base_uri": "https://localhost:8080/"
        }
      },
      "id": "gWAK_rJvhqW_",
      "execution_count": 95,
      "outputs": [
        {
          "output_type": "execute_result",
          "data": {
            "text/plain": [
              "torch.Size([2, 3, 1])"
            ]
          },
          "metadata": {},
          "execution_count": 95
        }
      ]
    },
    {
      "cell_type": "code",
      "source": [
        "print(torch.argmax(probas, dim=-1, keepdim=False).shape)\n",
        "torch.argmax(probas, dim=-1, keepdim=False)[0]"
      ],
      "metadata": {
        "id": "pezIZlsShvt8",
        "outputId": "8414e21d-f796-414b-8653-f0d12455b8bb",
        "colab": {
          "base_uri": "https://localhost:8080/"
        }
      },
      "id": "pezIZlsShvt8",
      "execution_count": 96,
      "outputs": [
        {
          "output_type": "stream",
          "name": "stdout",
          "text": [
            "torch.Size([2, 3])\n"
          ]
        },
        {
          "output_type": "execute_result",
          "data": {
            "text/plain": [
              "tensor([16657,   339, 42826])"
            ]
          },
          "metadata": {},
          "execution_count": 96
        }
      ]
    },
    {
      "cell_type": "code",
      "source": [
        "token_ids[0].flatten()"
      ],
      "metadata": {
        "id": "9qlY77FXihKU",
        "outputId": "e6399e9c-0c31-4c09-b55a-5c4e5f1de0a9",
        "colab": {
          "base_uri": "https://localhost:8080/"
        }
      },
      "id": "9qlY77FXihKU",
      "execution_count": 97,
      "outputs": [
        {
          "output_type": "execute_result",
          "data": {
            "text/plain": [
              "tensor([16657,   339, 42826])"
            ]
          },
          "metadata": {},
          "execution_count": 97
        }
      ]
    },
    {
      "cell_type": "markdown",
      "id": "cee4072c-21ed-4df7-8721-dd2535362573",
      "metadata": {
        "id": "cee4072c-21ed-4df7-8721-dd2535362573"
      },
      "source": [
        "- If we decode these tokens, we find that these are quite different from the tokens we want the model to predict, namely the target tokens:"
      ]
    },
    {
      "cell_type": "code",
      "execution_count": 98,
      "id": "c990ead6-53cd-49a7-a6d1-14d8c1518249",
      "metadata": {
        "id": "c990ead6-53cd-49a7-a6d1-14d8c1518249",
        "outputId": "d03c57f6-fcbc-4be6-f722-42af55f8b631",
        "colab": {
          "base_uri": "https://localhost:8080/"
        }
      },
      "outputs": [
        {
          "output_type": "stream",
          "name": "stdout",
          "text": [
            "Targets batch 1:  effort moves you\n",
            "Outputs batch 1:  Armed heNetflix\n"
          ]
        }
      ],
      "source": [
        "print(f\"Targets batch 1: {token_ids_to_text(targets[0], tokenizer)}\")\n",
        "print(f\"Outputs batch 1: {token_ids_to_text(token_ids[0].flatten(), tokenizer)}\")"
      ]
    },
    {
      "cell_type": "markdown",
      "id": "a53eb8a7-070e-46d6-930c-314ba55a6ff2",
      "metadata": {
        "id": "a53eb8a7-070e-46d6-930c-314ba55a6ff2"
      },
      "source": [
        "- That's because the model wasn't trained yet\n",
        "- To train the model, we need to know how far it is away from the correct predictions (targets)"
      ]
    },
    {
      "cell_type": "markdown",
      "id": "ad90592f-0d5d-4ec8-9ff5-e7675beab10e",
      "metadata": {
        "id": "ad90592f-0d5d-4ec8-9ff5-e7675beab10e"
      },
      "source": [
        "<img src=\"https://sebastianraschka.com/images/LLMs-from-scratch-images/ch05_compressed/proba-index.webp\" width=500px>"
      ]
    },
    {
      "cell_type": "markdown",
      "id": "c7251bf5-a079-4782-901d-68c9225d3157",
      "metadata": {
        "id": "c7251bf5-a079-4782-901d-68c9225d3157"
      },
      "source": [
        "- The token probabilities corresponding to the target indices are as follows:"
      ]
    },
    {
      "cell_type": "code",
      "source": [
        "probas"
      ],
      "metadata": {
        "id": "reVt50TejPre",
        "outputId": "56305c83-5d04-4149-f3b4-9b9f25cd5f56",
        "colab": {
          "base_uri": "https://localhost:8080/"
        }
      },
      "id": "reVt50TejPre",
      "execution_count": 99,
      "outputs": [
        {
          "output_type": "execute_result",
          "data": {
            "text/plain": [
              "tensor([[[1.8849e-05, 1.5172e-05, 1.1687e-05,  ..., 2.2409e-05,\n",
              "          6.9776e-06, 1.8776e-05],\n",
              "         [9.1569e-06, 1.0062e-05, 7.8786e-06,  ..., 2.9090e-05,\n",
              "          6.0103e-06, 1.3571e-05],\n",
              "         [2.9877e-05, 8.8507e-06, 1.5741e-05,  ..., 3.5456e-05,\n",
              "          1.4094e-05, 1.3526e-05]],\n",
              "\n",
              "        [[1.2561e-05, 2.0538e-05, 1.4332e-05,  ..., 1.0389e-05,\n",
              "          3.4784e-05, 1.4239e-05],\n",
              "         [7.2731e-06, 1.7864e-05, 1.0565e-05,  ..., 2.1206e-05,\n",
              "          1.1390e-05, 1.5559e-05],\n",
              "         [2.9496e-05, 3.3605e-05, 4.1029e-05,  ..., 6.5249e-06,\n",
              "          5.8203e-05, 1.3698e-05]]])"
            ]
          },
          "metadata": {},
          "execution_count": 99
        }
      ]
    },
    {
      "cell_type": "code",
      "source": [
        "probas.shape"
      ],
      "metadata": {
        "id": "NGVU045ojYuT",
        "outputId": "c170161e-9ab9-479a-8372-8a7574a49107",
        "colab": {
          "base_uri": "https://localhost:8080/"
        }
      },
      "id": "NGVU045ojYuT",
      "execution_count": 100,
      "outputs": [
        {
          "output_type": "execute_result",
          "data": {
            "text/plain": [
              "torch.Size([2, 3, 50257])"
            ]
          },
          "metadata": {},
          "execution_count": 100
        }
      ]
    },
    {
      "cell_type": "code",
      "source": [
        "targets"
      ],
      "metadata": {
        "id": "irt9_ljgm4jg",
        "outputId": "0a0e9b2c-48a4-4256-e5ed-efcaef962a52",
        "colab": {
          "base_uri": "https://localhost:8080/"
        }
      },
      "id": "irt9_ljgm4jg",
      "execution_count": 101,
      "outputs": [
        {
          "output_type": "execute_result",
          "data": {
            "text/plain": [
              "tensor([[ 3626,  6100,   345],\n",
              "        [ 1107,   588, 11311]])"
            ]
          },
          "metadata": {},
          "execution_count": 101
        }
      ]
    },
    {
      "cell_type": "code",
      "source": [
        "probas[0, [0, 1, 2]]"
      ],
      "metadata": {
        "id": "q7z6zBYikh8u",
        "outputId": "0ce37745-f7c4-404a-8672-5d5803514e0c",
        "colab": {
          "base_uri": "https://localhost:8080/"
        }
      },
      "id": "q7z6zBYikh8u",
      "execution_count": 102,
      "outputs": [
        {
          "output_type": "execute_result",
          "data": {
            "text/plain": [
              "tensor([[1.8849e-05, 1.5172e-05, 1.1687e-05,  ..., 2.2409e-05, 6.9776e-06,\n",
              "         1.8776e-05],\n",
              "        [9.1569e-06, 1.0062e-05, 7.8786e-06,  ..., 2.9090e-05, 6.0103e-06,\n",
              "         1.3571e-05],\n",
              "        [2.9877e-05, 8.8507e-06, 1.5741e-05,  ..., 3.5456e-05, 1.4094e-05,\n",
              "         1.3526e-05]])"
            ]
          },
          "metadata": {},
          "execution_count": 102
        }
      ]
    },
    {
      "cell_type": "code",
      "execution_count": 103,
      "id": "54aef09c-d6e3-4238-8653-b3a1b0a1077a",
      "metadata": {
        "id": "54aef09c-d6e3-4238-8653-b3a1b0a1077a",
        "outputId": "5ceb6744-8388-4312-9707-71d14676c8b3",
        "colab": {
          "base_uri": "https://localhost:8080/"
        }
      },
      "outputs": [
        {
          "output_type": "stream",
          "name": "stdout",
          "text": [
            "Text 1: tensor([7.4540e-05, 3.1061e-05, 1.1563e-05])\n",
            "Text 2: tensor([1.0337e-05, 5.6776e-05, 4.7559e-06])\n"
          ]
        }
      ],
      "source": [
        "text_idx = 0\n",
        "target_probas_1 = probas[text_idx, [0, 1, 2], targets[text_idx]]\n",
        "print(\"Text 1:\", target_probas_1)\n",
        "\n",
        "text_idx = 1\n",
        "target_probas_2 = probas[text_idx, [0, 1, 2], targets[text_idx]]\n",
        "print(\"Text 2:\", target_probas_2)"
      ]
    },
    {
      "cell_type": "markdown",
      "id": "a0e89a19-73c2-4e49-93b4-861f699f1cbf",
      "metadata": {
        "id": "a0e89a19-73c2-4e49-93b4-861f699f1cbf"
      },
      "source": [
        "- We want to maximize all these values, bringing them close to a probability of 1\n",
        "- In mathematical optimization, it is easier to maximize the logarithm of the probability score than the probability score itself; this is out of the scope of this book, but I have recorded a lecture with more details here: [L8.2 Logistic Regression Loss Function](https://www.youtube.com/watch?v=GxJe0DZvydM)"
      ]
    },
    {
      "cell_type": "code",
      "execution_count": 104,
      "id": "31402a67-a16e-4aeb-977e-70abb9c9949b",
      "metadata": {
        "id": "31402a67-a16e-4aeb-977e-70abb9c9949b",
        "outputId": "3ed4d79b-f730-472f-ac78-296a326d8679",
        "colab": {
          "base_uri": "https://localhost:8080/"
        }
      },
      "outputs": [
        {
          "output_type": "stream",
          "name": "stdout",
          "text": [
            "tensor([ -9.5042, -10.3796, -11.3677, -11.4798,  -9.7764, -12.2561])\n"
          ]
        }
      ],
      "source": [
        "# Compute logarithm of all token probabilities\n",
        "log_probas = torch.log(torch.cat((target_probas_1, target_probas_2)))\n",
        "print(log_probas)"
      ]
    },
    {
      "cell_type": "markdown",
      "id": "c4261441-a511-4633-9c4c-67998af31b84",
      "metadata": {
        "id": "c4261441-a511-4633-9c4c-67998af31b84"
      },
      "source": [
        "- Next, we compute the average log probability:"
      ]
    },
    {
      "cell_type": "code",
      "execution_count": 105,
      "id": "9b003797-161b-4d98-81dc-e68320e09fec",
      "metadata": {
        "id": "9b003797-161b-4d98-81dc-e68320e09fec",
        "outputId": "8e4a74ef-e2cf-4356-b2a5-c2eff134e840",
        "colab": {
          "base_uri": "https://localhost:8080/"
        }
      },
      "outputs": [
        {
          "output_type": "stream",
          "name": "stdout",
          "text": [
            "tensor(-10.7940)\n"
          ]
        }
      ],
      "source": [
        "# Calculate the average probability for each token\n",
        "avg_log_probas = torch.mean(log_probas)\n",
        "print(avg_log_probas)"
      ]
    },
    {
      "cell_type": "markdown",
      "id": "36d51994-ad17-4ba3-a6ec-f588b4b13585",
      "metadata": {
        "id": "36d51994-ad17-4ba3-a6ec-f588b4b13585"
      },
      "source": [
        "- The goal is to make this average log probability as large as possible by optimizing the model weights\n",
        "- Due to the log, the largest possible value is 0, and we are currently far away from 0"
      ]
    },
    {
      "cell_type": "markdown",
      "id": "3de388a1-8a0a-4c94-8894-9041dc6ad514",
      "metadata": {
        "id": "3de388a1-8a0a-4c94-8894-9041dc6ad514"
      },
      "source": [
        "- In deep learning, instead of maximizing the average log-probability, it's a standard convention to minimize the *negative* average log-probability value; in our case, instead of maximizing -10.7722 so that it approaches 0, in deep learning, we would minimize 10.7722 so that it approaches 0\n",
        "- The value negative of -10.7722, i.e., 10.7722, is also called cross-entropy loss in deep learning"
      ]
    },
    {
      "cell_type": "code",
      "execution_count": 106,
      "id": "176ddf35-1c5f-4d7c-bf17-70f3e7069bd4",
      "metadata": {
        "id": "176ddf35-1c5f-4d7c-bf17-70f3e7069bd4",
        "outputId": "e0457e58-83cb-4217-eece-1f5a56dae1ba",
        "colab": {
          "base_uri": "https://localhost:8080/"
        }
      },
      "outputs": [
        {
          "output_type": "stream",
          "name": "stdout",
          "text": [
            "tensor(10.7940)\n"
          ]
        }
      ],
      "source": [
        "neg_avg_log_probas = avg_log_probas * -1\n",
        "print(neg_avg_log_probas)"
      ]
    },
    {
      "cell_type": "markdown",
      "id": "84eeb868-abd8-4028-82db-107546bf7c2c",
      "metadata": {
        "id": "84eeb868-abd8-4028-82db-107546bf7c2c"
      },
      "source": [
        "- PyTorch already implements a `cross_entropy` function that carries out the previous steps"
      ]
    },
    {
      "cell_type": "markdown",
      "id": "5bd24b7f-b760-47ad-bc84-86d13794aa54",
      "metadata": {
        "id": "5bd24b7f-b760-47ad-bc84-86d13794aa54"
      },
      "source": [
        "<img src=\"https://sebastianraschka.com/images/LLMs-from-scratch-images/ch05_compressed/cross-entropy.webp?123\" width=400px>"
      ]
    },
    {
      "cell_type": "markdown",
      "id": "e8aaf9dd-3ee6-42bf-a63f-6e93dbfb989d",
      "metadata": {
        "id": "e8aaf9dd-3ee6-42bf-a63f-6e93dbfb989d"
      },
      "source": [
        "- Before we apply the `cross_entropy` function, let's check the shape of the logits and targets"
      ]
    },
    {
      "cell_type": "code",
      "execution_count": 107,
      "id": "695d6f64-5084-4c23-aea4-105c9e38cfe4",
      "metadata": {
        "id": "695d6f64-5084-4c23-aea4-105c9e38cfe4",
        "outputId": "fa33dc33-b2b2-4d3b-c9de-5a97825875f8",
        "colab": {
          "base_uri": "https://localhost:8080/"
        }
      },
      "outputs": [
        {
          "output_type": "stream",
          "name": "stdout",
          "text": [
            "Logits shape: torch.Size([2, 3, 50257])\n",
            "Targets shape: torch.Size([2, 3])\n"
          ]
        }
      ],
      "source": [
        "# Logits have shape (batch_size, num_tokens, vocab_size)\n",
        "print(\"Logits shape:\", logits.shape)\n",
        "\n",
        "# Targets have shape (batch_size, num_tokens)\n",
        "print(\"Targets shape:\", targets.shape)"
      ]
    },
    {
      "cell_type": "markdown",
      "id": "1d3d65f0-6566-4865-93e4-0c0bcb10cd06",
      "metadata": {
        "id": "1d3d65f0-6566-4865-93e4-0c0bcb10cd06"
      },
      "source": [
        "- For the `cross_entropy` function in PyTorch, we want to flatten these tensors by combining them over the batch dimension:"
      ]
    },
    {
      "cell_type": "code",
      "execution_count": 108,
      "id": "0e17e027-ab9f-4fb5-ac9b-a009b831c122",
      "metadata": {
        "id": "0e17e027-ab9f-4fb5-ac9b-a009b831c122",
        "outputId": "e43d99ae-49a8-4f83-9a6f-85a191388d67",
        "colab": {
          "base_uri": "https://localhost:8080/"
        }
      },
      "outputs": [
        {
          "output_type": "stream",
          "name": "stdout",
          "text": [
            "Flattened logits: torch.Size([6, 50257])\n",
            "Flattened targets: torch.Size([6])\n"
          ]
        }
      ],
      "source": [
        "logits_flat = logits.flatten(0, 1)\n",
        "targets_flat = targets.flatten()\n",
        "\n",
        "print(\"Flattened logits:\", logits_flat.shape)\n",
        "print(\"Flattened targets:\", targets_flat.shape)"
      ]
    },
    {
      "cell_type": "markdown",
      "id": "4921a57f-3a79-473e-a863-6d63b495010f",
      "metadata": {
        "id": "4921a57f-3a79-473e-a863-6d63b495010f"
      },
      "source": [
        "- Note that the targets are the token IDs, which also represent the index positions in the logits tensors that we want to maximize\n",
        "- The `cross_entropy` function in PyTorch will automatically take care of applying the softmax and log-probability computation internally over those token indices in the logits that are to be maximized"
      ]
    },
    {
      "cell_type": "code",
      "execution_count": 109,
      "id": "62d0816e-b29a-4c8f-a9a5-a167562de978",
      "metadata": {
        "id": "62d0816e-b29a-4c8f-a9a5-a167562de978",
        "outputId": "6968ae2b-7565-42aa-ca80-c895235346d7",
        "colab": {
          "base_uri": "https://localhost:8080/"
        }
      },
      "outputs": [
        {
          "output_type": "stream",
          "name": "stdout",
          "text": [
            "tensor(10.7940)\n"
          ]
        }
      ],
      "source": [
        "loss = torch.nn.functional.cross_entropy(logits_flat, targets_flat)\n",
        "print(loss)"
      ]
    },
    {
      "cell_type": "markdown",
      "id": "0f15ce17-fd7b-4d8e-99da-b237523a7a80",
      "metadata": {
        "id": "0f15ce17-fd7b-4d8e-99da-b237523a7a80"
      },
      "source": [
        "- A concept related to the cross-entropy loss is the perplexity of an LLM\n",
        "- The perplexity is simply the exponential of the cross-entropy loss"
      ]
    },
    {
      "cell_type": "code",
      "execution_count": 110,
      "id": "168952a1-b964-4aa7-8e49-966fa26add54",
      "metadata": {
        "id": "168952a1-b964-4aa7-8e49-966fa26add54",
        "outputId": "0185d39f-1ea1-4563-a217-2b900c2b2c04",
        "colab": {
          "base_uri": "https://localhost:8080/"
        }
      },
      "outputs": [
        {
          "output_type": "stream",
          "name": "stdout",
          "text": [
            "tensor(48725.8203)\n"
          ]
        }
      ],
      "source": [
        "perplexity = torch.exp(loss)\n",
        "print(perplexity)"
      ]
    },
    {
      "cell_type": "markdown",
      "id": "71ae26dd-d77e-41fd-b924-6bd103dd4ee7",
      "metadata": {
        "id": "71ae26dd-d77e-41fd-b924-6bd103dd4ee7"
      },
      "source": [
        "- The perplexity is often considered more interpretable because it can be understood as the effective vocabulary size that the model is uncertain about at each step (in the example above, that'd be 48,725 words or tokens)\n",
        "- In other words, perplexity provides a measure of how well the probability distribution predicted by the model matches the actual distribution of the words in the dataset\n",
        "- Similar to the loss, a lower perplexity indicates that the model predictions are closer to the actual distribution"
      ]
    },
    {
      "cell_type": "markdown",
      "id": "2ec6c217-e429-40c7-ad71-5d0a9da8e487",
      "metadata": {
        "id": "2ec6c217-e429-40c7-ad71-5d0a9da8e487"
      },
      "source": [
        "### 5.1.3 Calculating the training and validation set losses"
      ]
    },
    {
      "cell_type": "markdown",
      "id": "530da89e-2448-436c-8f1b-28e8a31ef85c",
      "metadata": {
        "id": "530da89e-2448-436c-8f1b-28e8a31ef85c"
      },
      "source": [
        "- We use a relatively small dataset for training the LLM (in fact, only one short story)\n",
        "- The reasons are:\n",
        "  - You can run the code examples in a few minutes on a laptop computer without a suitable GPU\n",
        "  - The training finishes relatively fast (minutes instead of weeks), which is good for educational purposes\n",
        "  - We use a text from the public domain, which can be included in this GitHub repository without violating any usage rights or bloating the repository size\n",
        "\n",
        "\n",
        "- For example, Llama 2 7B required 184,320 GPU hours on A100 GPUs to be trained on 2 trillion tokens\n",
        "  - At the time of this writing, the hourly cost of an 8xA100 cloud server at AWS is approximately \\\\$30\n",
        "  - So, via an off-the-envelope calculation, training this LLM would cost 184,320 / 8 * \\\\$30 =  \\\\$690,000\n",
        "\n",
        "- Below, we use the same dataset we used in chapter 2"
      ]
    },
    {
      "cell_type": "code",
      "execution_count": 111,
      "id": "654fde37-b2a9-4a20-a8d3-0206c056e2ff",
      "metadata": {
        "id": "654fde37-b2a9-4a20-a8d3-0206c056e2ff"
      },
      "outputs": [],
      "source": [
        "import os\n",
        "import urllib.request\n",
        "\n",
        "file_path = \"the-verdict.txt\"\n",
        "url = \"https://raw.githubusercontent.com/rasbt/LLMs-from-scratch/main/ch02/01_main-chapter-code/the-verdict.txt\"\n",
        "\n",
        "if not os.path.exists(file_path):\n",
        "    with urllib.request.urlopen(url) as response:\n",
        "        text_data = response.read().decode('utf-8')\n",
        "    with open(file_path, \"w\", encoding=\"utf-8\") as file:\n",
        "        file.write(text_data)\n",
        "else:\n",
        "    with open(file_path, \"r\", encoding=\"utf-8\") as file:\n",
        "        text_data = file.read()"
      ]
    },
    {
      "cell_type": "markdown",
      "id": "379330f1-80f4-4e34-8724-41d892b04cee",
      "metadata": {
        "id": "379330f1-80f4-4e34-8724-41d892b04cee"
      },
      "source": [
        "- A quick check that the text loaded ok by printing the first and last 100 words"
      ]
    },
    {
      "cell_type": "code",
      "execution_count": 112,
      "id": "6kgJbe4ehI4q",
      "metadata": {
        "id": "6kgJbe4ehI4q",
        "outputId": "97134c1c-9d4c-4e15-992b-0bca953fbb20",
        "colab": {
          "base_uri": "https://localhost:8080/"
        }
      },
      "outputs": [
        {
          "output_type": "stream",
          "name": "stdout",
          "text": [
            "I HAD always thought Jack Gisburn rather a cheap genius--though a good fellow enough--so it was no \n"
          ]
        }
      ],
      "source": [
        "# First 100 characters\n",
        "print(text_data[:99])"
      ]
    },
    {
      "cell_type": "code",
      "execution_count": 113,
      "id": "j2XPde_ThM_e",
      "metadata": {
        "id": "j2XPde_ThM_e",
        "outputId": "afd5ebef-1de7-47f9-cf6b-9ed039b3d0e2",
        "colab": {
          "base_uri": "https://localhost:8080/"
        }
      },
      "outputs": [
        {
          "output_type": "stream",
          "name": "stdout",
          "text": [
            "it for me! The Strouds stand alone, and happen once--but there's no exterminating our kind of art.\"\n"
          ]
        }
      ],
      "source": [
        "# Last 100 characters\n",
        "print(text_data[-99:])"
      ]
    },
    {
      "cell_type": "code",
      "execution_count": 114,
      "id": "6b46a952-d50a-4837-af09-4095698f7fd1",
      "metadata": {
        "id": "6b46a952-d50a-4837-af09-4095698f7fd1",
        "outputId": "64de6c19-7108-40ba-c7c0-39a378168e61",
        "colab": {
          "base_uri": "https://localhost:8080/"
        }
      },
      "outputs": [
        {
          "output_type": "stream",
          "name": "stdout",
          "text": [
            "Characters: 20479\n",
            "Tokens: 5145\n"
          ]
        }
      ],
      "source": [
        "total_characters = len(text_data)\n",
        "total_tokens = len(tokenizer.encode(text_data))\n",
        "\n",
        "print(\"Characters:\", total_characters)\n",
        "print(\"Tokens:\", total_tokens)"
      ]
    },
    {
      "cell_type": "markdown",
      "id": "a8830cb9-90f6-4e7c-8620-beeabc2d39f7",
      "metadata": {
        "id": "a8830cb9-90f6-4e7c-8620-beeabc2d39f7"
      },
      "source": [
        "- With 5,145 tokens, the text is very short for training an LLM, but again, it's for educational purposes (we will also load pretrained weights later)"
      ]
    },
    {
      "cell_type": "markdown",
      "id": "bedcad87-a0e8-4b9d-ac43-4e927ccbb50f",
      "metadata": {
        "id": "bedcad87-a0e8-4b9d-ac43-4e927ccbb50f"
      },
      "source": [
        "- Next, we divide the dataset into a training and a validation set and use the data loaders from chapter 2 to prepare the batches for LLM training\n",
        "- For visualization purposes, the figure below assumes a `max_length=6`, but for the training loader, we set the `max_length` equal to the context length that the LLM supports\n",
        "- The figure below only shows the input tokens for simplicity\n",
        "    - Since we train the LLM to predict the next word in the text, the targets look the same as these inputs, except that the targets are shifted by one position"
      ]
    },
    {
      "cell_type": "markdown",
      "id": "46bdaa07-ba96-4ac1-9d71-b3cc153910d9",
      "metadata": {
        "id": "46bdaa07-ba96-4ac1-9d71-b3cc153910d9"
      },
      "source": [
        "<img src=\"https://sebastianraschka.com/images/LLMs-from-scratch-images/ch05_compressed/batching.webp\" width=500px>"
      ]
    },
    {
      "cell_type": "code",
      "execution_count": 115,
      "id": "0959c855-f860-4358-8b98-bc654f047578",
      "metadata": {
        "id": "0959c855-f860-4358-8b98-bc654f047578"
      },
      "outputs": [],
      "source": [
        "from previous_chapters import create_dataloader_v1\n",
        "\n",
        "# Train/validation ratio\n",
        "train_ratio = 0.90\n",
        "split_idx = int(train_ratio * len(text_data))\n",
        "train_data = text_data[:split_idx]\n",
        "val_data = text_data[split_idx:]\n",
        "\n",
        "\n",
        "torch.manual_seed(123)\n",
        "\n",
        "train_loader = create_dataloader_v1(\n",
        "    train_data,\n",
        "    batch_size=2,\n",
        "    max_length=GPT_CONFIG_124M[\"context_length\"],\n",
        "    stride=GPT_CONFIG_124M[\"context_length\"],\n",
        "    drop_last=True,\n",
        "    shuffle=True,\n",
        "    num_workers=0\n",
        ")\n",
        "\n",
        "val_loader = create_dataloader_v1(\n",
        "    val_data,\n",
        "    batch_size=2,\n",
        "    max_length=GPT_CONFIG_124M[\"context_length\"],\n",
        "    stride=GPT_CONFIG_124M[\"context_length\"],\n",
        "    drop_last=False,\n",
        "    shuffle=False,\n",
        "    num_workers=0\n",
        ")"
      ]
    },
    {
      "cell_type": "code",
      "execution_count": 116,
      "id": "f37b3eb0-854e-4895-9898-fa7d1e67566e",
      "metadata": {
        "id": "f37b3eb0-854e-4895-9898-fa7d1e67566e"
      },
      "outputs": [],
      "source": [
        "# Sanity check\n",
        "\n",
        "if total_tokens * (train_ratio) < GPT_CONFIG_124M[\"context_length\"]:\n",
        "    print(\"Not enough tokens for the training loader. \"\n",
        "          \"Try to lower the `GPT_CONFIG_124M['context_length']` or \"\n",
        "          \"increase the `training_ratio`\")\n",
        "\n",
        "if total_tokens * (1-train_ratio) < GPT_CONFIG_124M[\"context_length\"]:\n",
        "    print(\"Not enough tokens for the validation loader. \"\n",
        "          \"Try to lower the `GPT_CONFIG_124M['context_length']` or \"\n",
        "          \"decrease the `training_ratio`\")"
      ]
    },
    {
      "cell_type": "markdown",
      "id": "e7ac3296-a4d1-4303-9ac5-376518960c33",
      "metadata": {
        "id": "e7ac3296-a4d1-4303-9ac5-376518960c33"
      },
      "source": [
        "- We use a relatively small batch size to reduce the computational resource demand, and because the dataset is very small to begin with\n",
        "- Llama 2 7B was trained with a batch size of 1024, for example"
      ]
    },
    {
      "cell_type": "code",
      "source": [
        "print(total_tokens, train_ratio, total_tokens * (train_ratio), GPT_CONFIG_124M[\"context_length\"])"
      ],
      "metadata": {
        "id": "ars1edi8EJBc",
        "outputId": "ac5492cf-4666-4024-a96f-edc409d38e3a",
        "colab": {
          "base_uri": "https://localhost:8080/"
        }
      },
      "id": "ars1edi8EJBc",
      "execution_count": 117,
      "outputs": [
        {
          "output_type": "stream",
          "name": "stdout",
          "text": [
            "5145 0.9 4630.5 256\n"
          ]
        }
      ]
    },
    {
      "cell_type": "markdown",
      "id": "a8e0514d-b990-4dc0-9afb-7721993284a0",
      "metadata": {
        "id": "a8e0514d-b990-4dc0-9afb-7721993284a0"
      },
      "source": [
        "- An optional check that the data was loaded correctly:"
      ]
    },
    {
      "cell_type": "code",
      "execution_count": 118,
      "id": "ca0116d0-d229-472c-9fbf-ebc229331c3e",
      "metadata": {
        "id": "ca0116d0-d229-472c-9fbf-ebc229331c3e",
        "outputId": "4362317e-ebcf-4ae6-ceb2-ed01c12555c5",
        "colab": {
          "base_uri": "https://localhost:8080/"
        }
      },
      "outputs": [
        {
          "output_type": "stream",
          "name": "stdout",
          "text": [
            "Train loader:\n",
            "torch.Size([2, 256]) torch.Size([2, 256])\n",
            "torch.Size([2, 256]) torch.Size([2, 256])\n",
            "torch.Size([2, 256]) torch.Size([2, 256])\n",
            "torch.Size([2, 256]) torch.Size([2, 256])\n",
            "torch.Size([2, 256]) torch.Size([2, 256])\n",
            "torch.Size([2, 256]) torch.Size([2, 256])\n",
            "torch.Size([2, 256]) torch.Size([2, 256])\n",
            "torch.Size([2, 256]) torch.Size([2, 256])\n",
            "torch.Size([2, 256]) torch.Size([2, 256])\n",
            "\n",
            "Validation loader:\n",
            "torch.Size([2, 256]) torch.Size([2, 256])\n"
          ]
        }
      ],
      "source": [
        "print(\"Train loader:\")\n",
        "for x, y in train_loader:\n",
        "    print(x.shape, y.shape)\n",
        "\n",
        "print(\"\\nValidation loader:\")\n",
        "for x, y in val_loader:\n",
        "    print(x.shape, y.shape)"
      ]
    },
    {
      "cell_type": "markdown",
      "id": "f7b9b1a4-863d-456f-a8dd-c07fb5c024ed",
      "metadata": {
        "id": "f7b9b1a4-863d-456f-a8dd-c07fb5c024ed"
      },
      "source": [
        "- Another optional check that the token sizes are in the expected ballpark:"
      ]
    },
    {
      "cell_type": "code",
      "execution_count": 119,
      "id": "eb860488-5453-41d7-9870-23b723f742a0",
      "metadata": {
        "id": "eb860488-5453-41d7-9870-23b723f742a0",
        "outputId": "9819124d-43c7-4eb2-edff-3e3e1a9fc4f3",
        "colab": {
          "base_uri": "https://localhost:8080/"
        }
      },
      "outputs": [
        {
          "output_type": "stream",
          "name": "stdout",
          "text": [
            "Training tokens: 4608\n",
            "Validation tokens: 512\n",
            "All tokens: 5120\n"
          ]
        }
      ],
      "source": [
        "train_tokens = 0\n",
        "for input_batch, target_batch in train_loader:\n",
        "    train_tokens += input_batch.numel()\n",
        "\n",
        "val_tokens = 0\n",
        "for input_batch, target_batch in val_loader:\n",
        "    val_tokens += input_batch.numel()\n",
        "\n",
        "print(\"Training tokens:\", train_tokens)\n",
        "print(\"Validation tokens:\", val_tokens)\n",
        "print(\"All tokens:\", train_tokens + val_tokens)"
      ]
    },
    {
      "cell_type": "markdown",
      "id": "5c3085e8-665e-48eb-bb41-cdde61537e06",
      "metadata": {
        "id": "5c3085e8-665e-48eb-bb41-cdde61537e06"
      },
      "source": [
        "- Next, we implement a utility function to calculate the cross-entropy loss of a given batch\n",
        "- In addition, we implement a second utility function to compute the loss for a user-specified number of batches in a data loader"
      ]
    },
    {
      "cell_type": "code",
      "execution_count": 120,
      "id": "7b9de31e-4096-47b3-976d-b6d2fdce04bc",
      "metadata": {
        "id": "7b9de31e-4096-47b3-976d-b6d2fdce04bc"
      },
      "outputs": [],
      "source": [
        "def calc_loss_batch(input_batch, target_batch, model, device):\n",
        "    input_batch, target_batch = input_batch.to(device), target_batch.to(device)\n",
        "    logits = model(input_batch)\n",
        "    loss = torch.nn.functional.cross_entropy(logits.flatten(0, 1), target_batch.flatten())\n",
        "    return loss\n",
        "\n",
        "\n",
        "def calc_loss_loader(data_loader, model, device, num_batches=None):\n",
        "    total_loss = 0.\n",
        "    if len(data_loader) == 0:\n",
        "        return float(\"nan\")\n",
        "    elif num_batches is None:\n",
        "        num_batches = len(data_loader)\n",
        "    else:\n",
        "        # Reduce the number of batches to match the total number of batches in the data loader\n",
        "        # if num_batches exceeds the number of batches in the data loader\n",
        "        num_batches = min(num_batches, len(data_loader))\n",
        "    for i, (input_batch, target_batch) in enumerate(data_loader):\n",
        "        if i < num_batches:\n",
        "            loss = calc_loss_batch(input_batch, target_batch, model, device)\n",
        "            total_loss += loss.item()\n",
        "        else:\n",
        "            break\n",
        "    return total_loss / num_batches"
      ]
    },
    {
      "cell_type": "markdown",
      "id": "f0691332-84d0-48b3-b462-a885ddeb4fca",
      "metadata": {
        "id": "f0691332-84d0-48b3-b462-a885ddeb4fca"
      },
      "source": [
        "- If you have a machine with a CUDA-supported GPU, the LLM will train on the GPU without making any changes to the code\n",
        "- Via the `device` setting, we ensure that the data is loaded onto the same device as the LLM model"
      ]
    },
    {
      "cell_type": "code",
      "execution_count": 121,
      "id": "56f5b0c9-1065-4d67-98b9-010e42fc1e2a",
      "metadata": {
        "id": "56f5b0c9-1065-4d67-98b9-010e42fc1e2a",
        "outputId": "5805dee9-d7ad-4e61-bfe4-4fe166991dc0",
        "colab": {
          "base_uri": "https://localhost:8080/"
        }
      },
      "outputs": [
        {
          "output_type": "stream",
          "name": "stdout",
          "text": [
            "Training loss: 10.987583266364204\n",
            "Validation loss: 10.981104850769043\n"
          ]
        }
      ],
      "source": [
        "device = torch.device(\"cuda\" if torch.cuda.is_available() else \"cpu\")\n",
        "\n",
        "# Note:\n",
        "# Uncommenting the following lines will allow the code to run on Apple Silicon chips, if applicable,\n",
        "# which is approximately 2x faster than on an Apple CPU (as measured on an M3 MacBook Air).\n",
        "# However, the resulting loss values may be slightly different.\n",
        "\n",
        "#if torch.cuda.is_available():\n",
        "#    device = torch.device(\"cuda\")\n",
        "#elif torch.backends.mps.is_available():\n",
        "#    device = torch.device(\"mps\")\n",
        "#else:\n",
        "#    device = torch.device(\"cpu\")\n",
        "#\n",
        "# print(f\"Using {device} device.\")\n",
        "\n",
        "\n",
        "model.to(device) # no assignment model = model.to(device) necessary for nn.Module classes\n",
        "\n",
        "\n",
        "torch.manual_seed(123) # For reproducibility due to the shuffling in the data loader\n",
        "\n",
        "with torch.no_grad(): # Disable gradient tracking for efficiency because we are not training, yet\n",
        "    train_loss = calc_loss_loader(train_loader, model, device)\n",
        "    val_loss = calc_loss_loader(val_loader, model, device)\n",
        "\n",
        "print(\"Training loss:\", train_loss)\n",
        "print(\"Validation loss:\", val_loss)"
      ]
    },
    {
      "cell_type": "markdown",
      "id": "43875e95-190f-4b17-8f9a-35034ba649ec",
      "metadata": {
        "id": "43875e95-190f-4b17-8f9a-35034ba649ec"
      },
      "source": [
        "<img src=\"https://sebastianraschka.com/images/LLMs-from-scratch-images/ch05_compressed/mental-model-1.webp\" width=400px>"
      ]
    },
    {
      "cell_type": "markdown",
      "id": "b9339f8d-00cb-4206-af67-58c32bd72055",
      "metadata": {
        "id": "b9339f8d-00cb-4206-af67-58c32bd72055"
      },
      "source": [
        "## 5.2 Training an LLM"
      ]
    },
    {
      "cell_type": "markdown",
      "id": "652a4cf4-e98f-46d9-bdec-60e7ccb8d6bd",
      "metadata": {
        "id": "652a4cf4-e98f-46d9-bdec-60e7ccb8d6bd"
      },
      "source": [
        "- In this section, we finally implement the code for training the LLM\n",
        "- We focus on a simple training function (if you are interested in augmenting this training function with more advanced techniques, such as learning rate warmup, cosine annealing, and gradient clipping, please refer to [Appendix D](../../appendix-D/01_main-chapter-code))\n",
        "\n",
        "<img src=\"https://sebastianraschka.com/images/LLMs-from-scratch-images/ch05_compressed/train-steps.webp\" width=300px>"
      ]
    },
    {
      "cell_type": "code",
      "execution_count": 122,
      "id": "Mtp4gY0ZO-qq",
      "metadata": {
        "id": "Mtp4gY0ZO-qq"
      },
      "outputs": [],
      "source": [
        "def train_model_simple(model, train_loader, val_loader, optimizer, device, num_epochs,\n",
        "                       eval_freq, eval_iter, start_context, tokenizer):\n",
        "    # Initialize lists to track losses and tokens seen\n",
        "    train_losses, val_losses, track_tokens_seen = [], [], []\n",
        "    tokens_seen, global_step = 0, -1\n",
        "\n",
        "    # Main training loop\n",
        "    for epoch in range(num_epochs):\n",
        "        model.train()  # Set model to training mode\n",
        "\n",
        "        for input_batch, target_batch in train_loader:\n",
        "            optimizer.zero_grad() # Reset loss gradients from previous batch iteration\n",
        "            loss = calc_loss_batch(input_batch, target_batch, model, device)\n",
        "            loss.backward() # Calculate loss gradients\n",
        "            optimizer.step() # Update model weights using loss gradients\n",
        "            tokens_seen += input_batch.numel()\n",
        "            global_step += 1\n",
        "\n",
        "            # Optional evaluation step\n",
        "            if global_step % eval_freq == 0:\n",
        "                train_loss, val_loss = evaluate_model(\n",
        "                    model, train_loader, val_loader, device, eval_iter)\n",
        "                train_losses.append(train_loss)\n",
        "                val_losses.append(val_loss)\n",
        "                track_tokens_seen.append(tokens_seen)\n",
        "                print(f\"Ep {epoch+1} (Step {global_step:06d}): \"\n",
        "                      f\"Train loss {train_loss:.3f}, Val loss {val_loss:.3f}\")\n",
        "\n",
        "        # Print a sample text after each epoch\n",
        "        generate_and_print_sample(\n",
        "            model, tokenizer, device, start_context\n",
        "        )\n",
        "\n",
        "    return train_losses, val_losses, track_tokens_seen\n",
        "\n",
        "\n",
        "def evaluate_model(model, train_loader, val_loader, device, eval_iter):\n",
        "    model.eval()\n",
        "    with torch.no_grad():\n",
        "        train_loss = calc_loss_loader(train_loader, model, device, num_batches=eval_iter)\n",
        "        val_loss = calc_loss_loader(val_loader, model, device, num_batches=eval_iter)\n",
        "    model.train()\n",
        "    return train_loss, val_loss\n",
        "\n",
        "\n",
        "def generate_and_print_sample(model, tokenizer, device, start_context):\n",
        "    model.eval()\n",
        "    context_size = model.pos_emb.weight.shape[0]\n",
        "    encoded = text_to_token_ids(start_context, tokenizer).to(device)\n",
        "    with torch.no_grad():\n",
        "        token_ids = generate_text_simple(\n",
        "            model=model, idx=encoded,\n",
        "            max_new_tokens=50, context_size=context_size\n",
        "        )\n",
        "    decoded_text = token_ids_to_text(token_ids, tokenizer)\n",
        "    print(decoded_text.replace(\"\\n\", \" \"))  # Compact print format\n",
        "    model.train()"
      ]
    },
    {
      "cell_type": "markdown",
      "id": "a301b333-b9d4-4eeb-a212-3a9874e3ac47",
      "metadata": {
        "id": "a301b333-b9d4-4eeb-a212-3a9874e3ac47"
      },
      "source": [
        "- Now, let's train the LLM using the training function defined above:"
      ]
    },
    {
      "cell_type": "code",
      "execution_count": 123,
      "id": "3422000b-7aa2-485b-92df-99372cd22311",
      "metadata": {
        "id": "3422000b-7aa2-485b-92df-99372cd22311",
        "outputId": "5c041b17-a1f4-4199-a241-50010c8a8be7",
        "colab": {
          "base_uri": "https://localhost:8080/"
        }
      },
      "outputs": [
        {
          "output_type": "stream",
          "name": "stdout",
          "text": [
            "Ep 1 (Step 000000): Train loss 9.818, Val loss 9.930\n",
            "Ep 1 (Step 000005): Train loss 8.066, Val loss 8.336\n",
            "Every effort moves you,,,,,,,,,,,,.                                     \n",
            "Ep 2 (Step 000010): Train loss 6.623, Val loss 7.053\n",
            "Ep 2 (Step 000015): Train loss 6.047, Val loss 6.605\n",
            "Every effort moves you, and,, and,,,,,,, and,.                                   \n",
            "Ep 3 (Step 000020): Train loss 5.532, Val loss 6.507\n",
            "Ep 3 (Step 000025): Train loss 5.399, Val loss 6.389\n",
            "Every effort moves you, and to the to the of the to the, and I had. Gis, and, and, and, and, and, and I had the, and, and, and, and, and, and, and, and, and\n",
            "Ep 4 (Step 000030): Train loss 4.895, Val loss 6.280\n",
            "Ep 4 (Step 000035): Train loss 4.648, Val loss 6.304\n",
            "Every effort moves you.  \"I the picture.                    \"I\"I the picture\"I had the the honour of the picture and I had been the picture of\n",
            "Ep 5 (Step 000040): Train loss 4.023, Val loss 6.165\n",
            "Every effort moves you know                                                 \n",
            "Ep 6 (Step 000045): Train loss 3.625, Val loss 6.172\n",
            "Ep 6 (Step 000050): Train loss 3.045, Val loss 6.144\n",
            "Every effort moves you know the was his a little the.  \"I had the last word.           \"Oh, and I had a little.   \"I looked, and I had a little of\n",
            "Ep 7 (Step 000055): Train loss 2.948, Val loss 6.183\n",
            "Ep 7 (Step 000060): Train loss 2.230, Val loss 6.128\n",
            "Every effort moves you know the picture to have been too--I felt, and Mrs.  \"I was no--and the fact, and that, and I was his pictures.  \"I looked up his pictures--and--because he was a little\n",
            "Ep 8 (Step 000065): Train loss 1.774, Val loss 6.162\n",
            "Ep 8 (Step 000070): Train loss 1.475, Val loss 6.229\n",
            "Every effort moves you?\"  \"Yes--I glanced after him, and uncertain.  \"I looked up, and the fact, and to see a smile behind his close grayish beard--as if he had the donkey. \"There were days when I\n",
            "Ep 9 (Step 000075): Train loss 1.135, Val loss 6.268\n",
            "Ep 9 (Step 000080): Train loss 0.858, Val loss 6.298\n",
            "Every effort moves you?\"  \"Yes--quite insensible to the fact with the last word.    \"I looked, and that, and I remember getting off a prodigious phrase about the honour being _mine_--because he's the first\n",
            "Ep 10 (Step 000085): Train loss 0.627, Val loss 6.382\n",
            "Every effort moves you?\"  \"Yes--quite insensible to the irony. She wanted him vindicated--and by me!\"  He laughed again, and threw back his head to look up at the sketch of the donkey. \"There were days when I\n"
          ]
        }
      ],
      "source": [
        "# Note:\n",
        "# Uncomment the following code to calculate the execution time\n",
        "# import time\n",
        "# start_time = time.time()\n",
        "\n",
        "torch.manual_seed(123)\n",
        "model = GPTModel(GPT_CONFIG_124M)\n",
        "model.to(device)\n",
        "optimizer = torch.optim.AdamW(model.parameters(), lr=0.0004, weight_decay=0.1)\n",
        "\n",
        "num_epochs = 10\n",
        "train_losses, val_losses, tokens_seen = train_model_simple(\n",
        "    model, train_loader, val_loader, optimizer, device,\n",
        "    num_epochs=num_epochs, eval_freq=5, eval_iter=5,\n",
        "    start_context=\"Every effort moves you\", tokenizer=tokenizer\n",
        ")\n",
        "\n",
        "# Note:\n",
        "# Uncomment the following code to show the execution time\n",
        "# end_time = time.time()\n",
        "# execution_time_minutes = (end_time - start_time) / 60\n",
        "# print(f\"Training completed in {execution_time_minutes:.2f} minutes.\")"
      ]
    },
    {
      "cell_type": "markdown",
      "id": "2e8b86f0-b07d-40d7-b9d3-a9218917f204",
      "metadata": {
        "id": "2e8b86f0-b07d-40d7-b9d3-a9218917f204"
      },
      "source": [
        "- Note that you might get slightly different loss values on your computer, which is not a reason for concern if they are roughly similar (a training loss below 1 and a validation loss below 7)\n",
        "- Small differences can often be due to different GPU hardware and CUDA versions or small changes in newer PyTorch versions\n",
        "- Even if you are running the example on a CPU, you may observe slight differences; a possible reason for a discrepancy is the differing behavior of `nn.Dropout` across operating systems, depending on how PyTorch was compiled, as discussed [here on the PyTorch issue tracker](https://github.com/pytorch/pytorch/issues/121595)"
      ]
    },
    {
      "cell_type": "code",
      "execution_count": 124,
      "id": "0WSRu2i0iHJE",
      "metadata": {
        "id": "0WSRu2i0iHJE",
        "outputId": "18aef030-b14e-429e-8176-675690491389",
        "colab": {
          "base_uri": "https://localhost:8080/",
          "height": 307
        }
      },
      "outputs": [
        {
          "output_type": "display_data",
          "data": {
            "text/plain": [
              "<Figure size 500x300 with 2 Axes>"
            ],
            "image/png": "[encoded data removed]"
          },
          "metadata": {}
        }
      ],
      "source": [
        "import matplotlib.pyplot as plt\n",
        "from matplotlib.ticker import MaxNLocator\n",
        "\n",
        "\n",
        "def plot_losses(epochs_seen, tokens_seen, train_losses, val_losses):\n",
        "    fig, ax1 = plt.subplots(figsize=(5, 3))\n",
        "\n",
        "    # Plot training and validation loss against epochs\n",
        "    ax1.plot(epochs_seen, train_losses, label=\"Training loss\")\n",
        "    ax1.plot(epochs_seen, val_losses, linestyle=\"-.\", label=\"Validation loss\")\n",
        "    ax1.set_xlabel(\"Epochs\")\n",
        "    ax1.set_ylabel(\"Loss\")\n",
        "    ax1.legend(loc=\"upper right\")\n",
        "    ax1.xaxis.set_major_locator(MaxNLocator(integer=True))  # only show integer labels on x-axis\n",
        "\n",
        "    # Create a second x-axis for tokens seen\n",
        "    ax2 = ax1.twiny()  # Create a second x-axis that shares the same y-axis\n",
        "    ax2.plot(tokens_seen, train_losses, alpha=0)  # Invisible plot for aligning ticks\n",
        "    ax2.set_xlabel(\"Tokens seen\")\n",
        "\n",
        "    fig.tight_layout()  # Adjust layout to make room\n",
        "    plt.savefig(\"loss-plot.pdf\")\n",
        "    plt.show()\n",
        "\n",
        "epochs_tensor = torch.linspace(0, num_epochs, len(train_losses))\n",
        "plot_losses(epochs_tensor, tokens_seen, train_losses, val_losses)"
      ]
    },
    {
      "cell_type": "markdown",
      "id": "8bc83ded-5f80-4e1c-bf4d-ccb59999d995",
      "metadata": {
        "id": "8bc83ded-5f80-4e1c-bf4d-ccb59999d995"
      },
      "source": [
        "- Looking at the results above, we can see that the model starts out generating incomprehensible strings of words, whereas towards the end, it's able to produce grammatically more or less correct sentences\n",
        "- However, based on the training and validation set losses, we can see that the model starts overfitting\n",
        "- If we were to check a few passages it writes towards the end, we would find that they are contained in the training set verbatim -- it simply memorizes the training data\n",
        "- Later, we will cover decoding strategies that can mitigate this memorization by a certain degree\n",
        "- Note that the overfitting here occurs because we have a very, very small training set, and we iterate over it so many times\n",
        "  - The LLM training here primarily serves educational purposes; we mainly want to see that the model can learn to produce coherent text\n",
        "  - Instead of spending weeks or months on training this model on vast amounts of expensive hardware, we load pretrained weights later"
      ]
    },
    {
      "cell_type": "markdown",
      "id": "eb380c42-b31c-4ee1-b8b9-244094537272",
      "metadata": {
        "id": "eb380c42-b31c-4ee1-b8b9-244094537272"
      },
      "source": [
        "<img src=\"https://sebastianraschka.com/images/LLMs-from-scratch-images/ch05_compressed/mental-model-2.webp\" width=350px>"
      ]
    },
    {
      "cell_type": "markdown",
      "id": "de713235-1561-467f-bf63-bf11ade383f0",
      "metadata": {
        "id": "de713235-1561-467f-bf63-bf11ade383f0"
      },
      "source": [
        "**If you are interested in augmenting this training function with more advanced techniques, such as learning rate warmup, cosine annealing, and gradient clipping, please refer to [Appendix D](../../appendix-D/01_main-chapter-code)**"
      ]
    },
    {
      "cell_type": "markdown",
      "id": "6d5cdf2f-09a5-4eb0-a20a-d7aac5c14c2c",
      "metadata": {
        "id": "6d5cdf2f-09a5-4eb0-a20a-d7aac5c14c2c"
      },
      "source": [
        "**If you are interested in a larger training dataset and longer training run, see [../03_bonus_pretraining_on_gutenberg](../03_bonus_pretraining_on_gutenberg)**"
      ]
    },
    {
      "cell_type": "markdown",
      "id": "699f45fc-bf78-42f2-bd24-2355db41b28f",
      "metadata": {
        "id": "699f45fc-bf78-42f2-bd24-2355db41b28f"
      },
      "source": [
        "## 5.3 Decoding strategies to control randomness"
      ]
    },
    {
      "cell_type": "markdown",
      "id": "6be9086e-2c27-41da-97d0-49137d0ba3c7",
      "metadata": {
        "id": "6be9086e-2c27-41da-97d0-49137d0ba3c7"
      },
      "source": [
        "- Inference is relatively cheap with a relatively small LLM as the GPT model we trained above, so there's no need to use a GPU for it in case you used a GPU for training it above\n",
        "- Using the `generate_text_simple` function (from the previous chapter) that we used earlier inside the simple training function, we can generate new text one word (or token) at a time\n",
        "- As explained in section 5.1.2, the next generated token is the token corresponding to the largest probability score among all tokens in the vocabulary"
      ]
    },
    {
      "cell_type": "code",
      "execution_count": 125,
      "id": "2734cee0-f6f9-42d5-b71c-fa7e0ef28b6d",
      "metadata": {
        "id": "2734cee0-f6f9-42d5-b71c-fa7e0ef28b6d",
        "outputId": "3278fb50-6516-40ff-c575-d9166e3fbfc2",
        "colab": {
          "base_uri": "https://localhost:8080/"
        }
      },
      "outputs": [
        {
          "output_type": "stream",
          "name": "stdout",
          "text": [
            "Output text:\n",
            " Every effort moves you?\"\n",
            "\n",
            "\"Yes--quite insensible to the irony. She wanted him vindicated--and by me!\"\n",
            "\n",
            "\n"
          ]
        }
      ],
      "source": [
        "model.to(\"cpu\")\n",
        "model.eval()\n",
        "\n",
        "tokenizer = tiktoken.get_encoding(\"gpt2\")\n",
        "\n",
        "token_ids = generate_text_simple(\n",
        "    model=model,\n",
        "    idx=text_to_token_ids(\"Every effort moves you\", tokenizer),\n",
        "    max_new_tokens=25,\n",
        "    context_size=GPT_CONFIG_124M[\"context_length\"]\n",
        ")\n",
        "\n",
        "print(\"Output text:\\n\", token_ids_to_text(token_ids, tokenizer))"
      ]
    },
    {
      "cell_type": "markdown",
      "id": "d25dbe31-bb7c-4893-b25b-47d0492d4aa4",
      "metadata": {
        "id": "d25dbe31-bb7c-4893-b25b-47d0492d4aa4"
      },
      "source": [
        "- Even if we execute the `generate_text_simple` function above multiple times, the LLM will always generate the same outputs\n",
        "- We now introduce two concepts, so-called decoding strategies, to modify the `generate_text_simple`: *temperature scaling* and *top-k* sampling\n",
        "- These will allow the model to control the randomness and diversity of the generated text"
      ]
    },
    {
      "cell_type": "markdown",
      "id": "4bb6f380-a798-4fd9-825c-17b7cd29a994",
      "metadata": {
        "id": "4bb6f380-a798-4fd9-825c-17b7cd29a994"
      },
      "source": [
        "### 5.3.1 Temperature scaling"
      ]
    },
    {
      "cell_type": "markdown",
      "id": "a7f4f53c-0612-43d3-aa82-52447eac50fa",
      "metadata": {
        "id": "a7f4f53c-0612-43d3-aa82-52447eac50fa"
      },
      "source": [
        "- Previously, we always sampled the token with the highest probability as the next token using `torch.argmax`\n",
        "- To add variety, we can sample the next token using The `torch.multinomial(probs, num_samples=1)`, sampling from a probability distribution\n",
        "- Here, each index's chance of being picked corresponds to its probability in the input tensor"
      ]
    },
    {
      "cell_type": "markdown",
      "id": "e7531bae-d5de-44c0-bc78-78fed077e22a",
      "metadata": {
        "id": "e7531bae-d5de-44c0-bc78-78fed077e22a"
      },
      "source": [
        "- Here's a little recap of generating the next token, assuming a very small vocabulary for illustration purposes:"
      ]
    },
    {
      "cell_type": "code",
      "execution_count": 126,
      "id": "01a5ce39-3dc8-4c35-96bc-6410a1e42412",
      "metadata": {
        "id": "01a5ce39-3dc8-4c35-96bc-6410a1e42412",
        "outputId": "70a94655-fc2b-4dcb-dd97-38f4881a4dba",
        "colab": {
          "base_uri": "https://localhost:8080/"
        }
      },
      "outputs": [
        {
          "output_type": "stream",
          "name": "stdout",
          "text": [
            "forward\n"
          ]
        }
      ],
      "source": [
        "vocab = {\n",
        "    \"closer\": 0,\n",
        "    \"every\": 1,\n",
        "    \"effort\": 2,\n",
        "    \"forward\": 3,\n",
        "    \"inches\": 4,\n",
        "    \"moves\": 5,\n",
        "    \"pizza\": 6,\n",
        "    \"toward\": 7,\n",
        "    \"you\": 8,\n",
        "}\n",
        "\n",
        "inverse_vocab = {v: k for k, v in vocab.items()}\n",
        "\n",
        "# Suppose input is \"every effort moves you\", and the LLM\n",
        "# returns the following logits for the next token:\n",
        "next_token_logits = torch.tensor(\n",
        "    [4.51, 0.89, -1.90, 6.75, 1.63, -1.62, -1.89, 6.28, 1.79]\n",
        ")\n",
        "\n",
        "probas = torch.softmax(next_token_logits, dim=0)\n",
        "next_token_id = torch.argmax(probas).item()\n",
        "\n",
        "# The next generated token is then as follows:\n",
        "print(inverse_vocab[next_token_id])"
      ]
    },
    {
      "cell_type": "code",
      "source": [
        "torch.softmax(next_token_logits, dim=-1)"
      ],
      "metadata": {
        "id": "JiDtWqNAT4KR",
        "outputId": "f9715e8b-3873-4fb9-fa13-3e5882bcb767",
        "colab": {
          "base_uri": "https://localhost:8080/"
        }
      },
      "id": "JiDtWqNAT4KR",
      "execution_count": 127,
      "outputs": [
        {
          "output_type": "execute_result",
          "data": {
            "text/plain": [
              "tensor([6.0907e-02, 1.6313e-03, 1.0019e-04, 5.7212e-01, 3.4190e-03, 1.3257e-04,\n",
              "        1.0120e-04, 3.5758e-01, 4.0122e-03])"
            ]
          },
          "metadata": {},
          "execution_count": 127
        }
      ]
    },
    {
      "cell_type": "code",
      "source": [
        "torch.softmax(next_token_logits, dim=0)"
      ],
      "metadata": {
        "id": "c8KlH7NYT9yq",
        "outputId": "f5bd1a5c-0b49-4635-96bd-a8204d45f92c",
        "colab": {
          "base_uri": "https://localhost:8080/"
        }
      },
      "id": "c8KlH7NYT9yq",
      "execution_count": 128,
      "outputs": [
        {
          "output_type": "execute_result",
          "data": {
            "text/plain": [
              "tensor([6.0907e-02, 1.6313e-03, 1.0019e-04, 5.7212e-01, 3.4190e-03, 1.3257e-04,\n",
              "        1.0120e-04, 3.5758e-01, 4.0122e-03])"
            ]
          },
          "metadata": {},
          "execution_count": 128
        }
      ]
    },
    {
      "cell_type": "code",
      "source": [
        "torch.argmax(probas).item()"
      ],
      "metadata": {
        "id": "rEskr05TUApg",
        "outputId": "d47d6272-c25c-4b91-ac98-eea01587193d",
        "colab": {
          "base_uri": "https://localhost:8080/"
        }
      },
      "id": "rEskr05TUApg",
      "execution_count": 129,
      "outputs": [
        {
          "output_type": "execute_result",
          "data": {
            "text/plain": [
              "3"
            ]
          },
          "metadata": {},
          "execution_count": 129
        }
      ]
    },
    {
      "cell_type": "code",
      "execution_count": 130,
      "id": "6400572f-b3c8-49e2-95bc-433e55c5b3a1",
      "metadata": {
        "id": "6400572f-b3c8-49e2-95bc-433e55c5b3a1",
        "outputId": "171fef47-73c3-4273-e2cb-096b2526f785",
        "colab": {
          "base_uri": "https://localhost:8080/"
        }
      },
      "outputs": [
        {
          "output_type": "stream",
          "name": "stdout",
          "text": [
            "toward\n"
          ]
        }
      ],
      "source": [
        "torch.manual_seed(123)\n",
        "next_token_id = torch.multinomial(probas, num_samples=1).item()\n",
        "print(inverse_vocab[next_token_id])"
      ]
    },
    {
      "cell_type": "code",
      "source": [
        "torch.multinomial(probas, num_samples=10, replacement=True)"
      ],
      "metadata": {
        "id": "2S5zdDfwUGoE",
        "outputId": "a0924ddf-4ac5-4116-e1ee-91b71c8e2e63",
        "colab": {
          "base_uri": "https://localhost:8080/"
        }
      },
      "id": "2S5zdDfwUGoE",
      "execution_count": 131,
      "outputs": [
        {
          "output_type": "execute_result",
          "data": {
            "text/plain": [
              "tensor([3, 3, 7, 7, 7, 3, 3, 3, 3, 3])"
            ]
          },
          "metadata": {},
          "execution_count": 131
        }
      ]
    },
    {
      "cell_type": "markdown",
      "id": "c63d0a27-830b-42b5-9986-6d1a7de04dd9",
      "metadata": {
        "id": "c63d0a27-830b-42b5-9986-6d1a7de04dd9"
      },
      "source": [
        "- Instead of determining the most likely token via `torch.argmax`, we use `torch.multinomial(probas, num_samples=1)` to determine the most likely token by sampling from the softmax distribution\n",
        "- For illustration purposes, let's see what happens when we sample the next token 1,000 times using the original softmax probabilities:"
      ]
    },
    {
      "cell_type": "code",
      "execution_count": 132,
      "id": "b23b863e-252a-403c-b5b1-62bc0a42319f",
      "metadata": {
        "id": "b23b863e-252a-403c-b5b1-62bc0a42319f",
        "outputId": "27daca32-7708-421f-92ad-63216b7fbc24",
        "colab": {
          "base_uri": "https://localhost:8080/"
        }
      },
      "outputs": [
        {
          "output_type": "stream",
          "name": "stdout",
          "text": [
            "71 x closer\n",
            "2 x every\n",
            "0 x effort\n",
            "544 x forward\n",
            "2 x inches\n",
            "1 x moves\n",
            "0 x pizza\n",
            "376 x toward\n",
            "4 x you\n"
          ]
        }
      ],
      "source": [
        "def print_sampled_tokens(probas):\n",
        "    torch.manual_seed(123) # Manual seed for reproducibility\n",
        "    sample = [torch.multinomial(probas, num_samples=1).item() for i in range(1_000)]\n",
        "    sampled_ids = torch.bincount(torch.tensor(sample))\n",
        "    for i, freq in enumerate(sampled_ids):\n",
        "        print(f\"{freq} x {inverse_vocab[i]}\")\n",
        "\n",
        "print_sampled_tokens(probas)"
      ]
    },
    {
      "cell_type": "code",
      "source": [
        "sample = [torch.multinomial(probas, num_samples=1, replacement=True).item() for i in range(10)]\n",
        "sample2 = [torch.multinomial(probas, num_samples=10, replacement=True)]"
      ],
      "metadata": {
        "id": "NMaqMueUUhvJ"
      },
      "id": "NMaqMueUUhvJ",
      "execution_count": 133,
      "outputs": []
    },
    {
      "cell_type": "code",
      "source": [
        "sample2"
      ],
      "metadata": {
        "id": "DJVzhTM2UroF",
        "outputId": "4e85b8b8-9e2a-4d84-a27a-8a01e375fa94",
        "colab": {
          "base_uri": "https://localhost:8080/"
        }
      },
      "id": "DJVzhTM2UroF",
      "execution_count": 134,
      "outputs": [
        {
          "output_type": "execute_result",
          "data": {
            "text/plain": [
              "[tensor([7, 7, 7, 7, 3, 7, 3, 0, 3, 7])]"
            ]
          },
          "metadata": {},
          "execution_count": 134
        }
      ]
    },
    {
      "cell_type": "code",
      "source": [
        "sample"
      ],
      "metadata": {
        "id": "SPItktoyUxLW",
        "outputId": "237a9cf1-eade-48f5-dcf8-72f572f0f19c",
        "colab": {
          "base_uri": "https://localhost:8080/"
        }
      },
      "id": "SPItktoyUxLW",
      "execution_count": 135,
      "outputs": [
        {
          "output_type": "execute_result",
          "data": {
            "text/plain": [
              "[7, 7, 3, 7, 3, 3, 3, 3, 7, 3]"
            ]
          },
          "metadata": {},
          "execution_count": 135
        }
      ]
    },
    {
      "cell_type": "markdown",
      "source": [],
      "metadata": {
        "id": "k1SwPsUCUrax"
      },
      "id": "k1SwPsUCUrax"
    },
    {
      "cell_type": "markdown",
      "id": "32e7d9cf-a26d-4d9a-8664-4af1efa73832",
      "metadata": {
        "id": "32e7d9cf-a26d-4d9a-8664-4af1efa73832"
      },
      "source": [
        "- We can control the distribution and selection process via a concept called temperature scaling\n",
        "- \"Temperature scaling\" is just a fancy word for dividing the logits by a number greater than 0\n",
        "- Temperatures greater than 1 will result in more uniformly distributed token probabilities after applying the softmax\n",
        "- Temperatures smaller than 1 will result in more confident (sharper or more peaky) distributions after applying the softmax"
      ]
    },
    {
      "cell_type": "code",
      "execution_count": 136,
      "id": "0759e4c8-5362-467c-bec6-b0a19d1ba43d",
      "metadata": {
        "id": "0759e4c8-5362-467c-bec6-b0a19d1ba43d"
      },
      "outputs": [],
      "source": [
        "def softmax_with_temperature(logits, temperature):\n",
        "    scaled_logits = logits / temperature\n",
        "    return torch.softmax(scaled_logits, dim=0)\n",
        "\n",
        "# Temperature values\n",
        "temperatures = [1, 0.1, 5]  # Original, higher confidence, and lower confidence\n",
        "\n",
        "# Calculate scaled probabilities\n",
        "scaled_probas = [softmax_with_temperature(next_token_logits, T) for T in temperatures]"
      ]
    },
    {
      "cell_type": "code",
      "execution_count": 137,
      "id": "2e66e613-4aca-4296-a984-ddd0d80c6578",
      "metadata": {
        "id": "2e66e613-4aca-4296-a984-ddd0d80c6578",
        "outputId": "04e6b1b7-9eae-475f-f34c-edcd339fdf75",
        "colab": {
          "base_uri": "https://localhost:8080/",
          "height": 307
        }
      },
      "outputs": [
        {
          "output_type": "display_data",
          "data": {
            "text/plain": [
              "<Figure size 500x300 with 1 Axes>"
            ],
            "image/png": "[encoded data removed]"
          },
          "metadata": {}
        }
      ],
      "source": [
        "# Plotting\n",
        "x = torch.arange(len(vocab))\n",
        "bar_width = 0.15\n",
        "\n",
        "fig, ax = plt.subplots(figsize=(5, 3))\n",
        "for i, T in enumerate(temperatures):\n",
        "    rects = ax.bar(x + i * bar_width, scaled_probas[i], bar_width, label=f'Temperature = {T}')\n",
        "\n",
        "ax.set_ylabel('Probability')\n",
        "ax.set_xticks(x)\n",
        "ax.set_xticklabels(vocab.keys(), rotation=90)\n",
        "ax.legend()\n",
        "\n",
        "plt.tight_layout()\n",
        "plt.savefig(\"temperature-plot.pdf\")\n",
        "plt.show()"
      ]
    },
    {
      "cell_type": "markdown",
      "id": "d750e989-842a-4cfa-a44b-cf44d6e49163",
      "metadata": {
        "id": "d750e989-842a-4cfa-a44b-cf44d6e49163"
      },
      "source": [
        "- We can see that the rescaling via temperature 0.1 results in a sharper distribution, approaching `torch.argmax`, such that the most likely word is almost always selected:"
      ]
    },
    {
      "cell_type": "code",
      "source": [],
      "metadata": {
        "id": "Mn6pxkB5W1UV"
      },
      "id": "Mn6pxkB5W1UV",
      "execution_count": 137,
      "outputs": []
    },
    {
      "cell_type": "code",
      "execution_count": 138,
      "id": "e4600713-c51e-4f53-bf58-040a6eb362b8",
      "metadata": {
        "id": "e4600713-c51e-4f53-bf58-040a6eb362b8",
        "outputId": "c90fba7b-51ce-46ce-c93a-1190199f7570",
        "colab": {
          "base_uri": "https://localhost:8080/"
        }
      },
      "outputs": [
        {
          "output_type": "stream",
          "name": "stdout",
          "text": [
            "0 x closer\n",
            "0 x every\n",
            "0 x effort\n",
            "992 x forward\n",
            "0 x inches\n",
            "0 x moves\n",
            "0 x pizza\n",
            "8 x toward\n"
          ]
        }
      ],
      "source": [
        "print_sampled_tokens(scaled_probas[1])"
      ]
    },
    {
      "cell_type": "markdown",
      "id": "526e93cb-8e2a-42a1-b1ba-4fd5fe64c26b",
      "metadata": {
        "id": "526e93cb-8e2a-42a1-b1ba-4fd5fe64c26b"
      },
      "source": [
        "- The rescaled probabilities via temperature 5 are more uniformly distributed:"
      ]
    },
    {
      "cell_type": "code",
      "execution_count": 139,
      "id": "9dfb48f0-bc3f-46a5-9844-33b6c9b0f4df",
      "metadata": {
        "id": "9dfb48f0-bc3f-46a5-9844-33b6c9b0f4df",
        "outputId": "311bf659-50c2-42f3-aec9-79a25c0eaba5",
        "colab": {
          "base_uri": "https://localhost:8080/"
        }
      },
      "outputs": [
        {
          "output_type": "stream",
          "name": "stdout",
          "text": [
            "153 x closer\n",
            "68 x every\n",
            "55 x effort\n",
            "223 x forward\n",
            "102 x inches\n",
            "50 x moves\n",
            "43 x pizza\n",
            "218 x toward\n",
            "88 x you\n"
          ]
        }
      ],
      "source": [
        "print_sampled_tokens(scaled_probas[2])"
      ]
    },
    {
      "cell_type": "code",
      "source": [
        "scaled_probas"
      ],
      "metadata": {
        "id": "b1AxDiGiYCMy",
        "outputId": "94c96f79-1ef3-4f2e-c3aa-75941f7e0029",
        "colab": {
          "base_uri": "https://localhost:8080/"
        }
      },
      "id": "b1AxDiGiYCMy",
      "execution_count": 140,
      "outputs": [
        {
          "output_type": "execute_result",
          "data": {
            "text/plain": [
              "[tensor([6.0907e-02, 1.6313e-03, 1.0019e-04, 5.7212e-01, 3.4190e-03, 1.3257e-04,\n",
              "         1.0120e-04, 3.5758e-01, 4.0122e-03]),\n",
              " tensor([1.8530e-10, 3.5189e-26, 2.6890e-38, 9.9099e-01, 5.7569e-23, 4.4220e-37,\n",
              "         2.9718e-38, 9.0133e-03, 2.8514e-22]),\n",
              " tensor([0.1546, 0.0750, 0.0429, 0.2421, 0.0869, 0.0454, 0.0430, 0.2203, 0.0898])]"
            ]
          },
          "metadata": {},
          "execution_count": 140
        }
      ]
    },
    {
      "cell_type": "markdown",
      "id": "0c83f0c4-3774-4375-ad7f-96440ba5fef7",
      "metadata": {
        "id": "0c83f0c4-3774-4375-ad7f-96440ba5fef7"
      },
      "source": [
        "- Assuming an LLM input \"every effort moves you\", using the approach above can sometimes result in nonsensical texts, such as \"every effort moves you pizza\", 3.2% of the time (32 out of 1000 times)"
      ]
    },
    {
      "cell_type": "markdown",
      "source": [
        "# Exercise 5.1\n",
        "\n"
      ],
      "metadata": {
        "id": "v4DzMy1cWkLC"
      },
      "id": "v4DzMy1cWkLC"
    },
    {
      "cell_type": "code",
      "source": [
        "# Temperature values\n",
        "temperatures = [1, 0.1, 5]  # Original, higher confidence, and lower confidence\n",
        "\n",
        "# Calculate scaled probabilities\n",
        "scaled_probas = [softmax_with_temperature(next_token_logits, T) for T in temperatures]\n",
        "\n",
        "for temperature in temperatures:\n",
        "    print(f\"Temperature: {temperature}\")\n",
        "    sp = softmax_with_temperature(next_token_logits, temperature)\n",
        "    print_sampled_tokens(sp)\n",
        "    print()\n",
        "\n"
      ],
      "metadata": {
        "id": "7_r2eiKRWjuV",
        "outputId": "275af94a-f7b3-45fb-d0bc-1dbf6a19bb05",
        "colab": {
          "base_uri": "https://localhost:8080/"
        }
      },
      "id": "7_r2eiKRWjuV",
      "execution_count": 141,
      "outputs": [
        {
          "output_type": "stream",
          "name": "stdout",
          "text": [
            "Temperature: 1\n",
            "71 x closer\n",
            "2 x every\n",
            "0 x effort\n",
            "544 x forward\n",
            "2 x inches\n",
            "1 x moves\n",
            "0 x pizza\n",
            "376 x toward\n",
            "4 x you\n",
            "\n",
            "Temperature: 0.1\n",
            "0 x closer\n",
            "0 x every\n",
            "0 x effort\n",
            "992 x forward\n",
            "0 x inches\n",
            "0 x moves\n",
            "0 x pizza\n",
            "8 x toward\n",
            "\n",
            "Temperature: 5\n",
            "153 x closer\n",
            "68 x every\n",
            "55 x effort\n",
            "223 x forward\n",
            "102 x inches\n",
            "50 x moves\n",
            "43 x pizza\n",
            "218 x toward\n",
            "88 x you\n",
            "\n"
          ]
        }
      ]
    },
    {
      "cell_type": "code",
      "source": [
        "next_token_logits"
      ],
      "metadata": {
        "id": "B1tZUg-0XjEj",
        "outputId": "bdf6fe3b-dab3-4edf-ba7e-01ad12a1eaa6",
        "colab": {
          "base_uri": "https://localhost:8080/"
        }
      },
      "id": "B1tZUg-0XjEj",
      "execution_count": 142,
      "outputs": [
        {
          "output_type": "execute_result",
          "data": {
            "text/plain": [
              "tensor([ 4.5100,  0.8900, -1.9000,  6.7500,  1.6300, -1.6200, -1.8900,  6.2800,\n",
              "         1.7900])"
            ]
          },
          "metadata": {},
          "execution_count": 142
        }
      ]
    },
    {
      "cell_type": "code",
      "source": [
        "vocab"
      ],
      "metadata": {
        "id": "5QjtUfGEXom5",
        "outputId": "d8558090-badd-4d26-b69d-0483050e8e9b",
        "colab": {
          "base_uri": "https://localhost:8080/"
        }
      },
      "id": "5QjtUfGEXom5",
      "execution_count": 143,
      "outputs": [
        {
          "output_type": "execute_result",
          "data": {
            "text/plain": [
              "{'closer': 0,\n",
              " 'every': 1,\n",
              " 'effort': 2,\n",
              " 'forward': 3,\n",
              " 'inches': 4,\n",
              " 'moves': 5,\n",
              " 'pizza': 6,\n",
              " 'toward': 7,\n",
              " 'you': 8}"
            ]
          },
          "metadata": {},
          "execution_count": 143
        }
      ]
    },
    {
      "cell_type": "code",
      "source": [
        "scaled_probas[2]"
      ],
      "metadata": {
        "id": "864onk8MXu86",
        "outputId": "2d163226-6ede-425b-d494-4becab1eb51a",
        "colab": {
          "base_uri": "https://localhost:8080/"
        }
      },
      "id": "864onk8MXu86",
      "execution_count": 144,
      "outputs": [
        {
          "output_type": "execute_result",
          "data": {
            "text/plain": [
              "tensor([0.1546, 0.0750, 0.0429, 0.2421, 0.0869, 0.0454, 0.0430, 0.2203, 0.0898])"
            ]
          },
          "metadata": {},
          "execution_count": 144
        }
      ]
    },
    {
      "cell_type": "markdown",
      "id": "c6e4873e-07e4-4abb-85df-bdaedcc1a6f7",
      "metadata": {
        "id": "c6e4873e-07e4-4abb-85df-bdaedcc1a6f7"
      },
      "source": [
        "### 5.3.2 Top-k sampling"
      ]
    },
    {
      "cell_type": "markdown",
      "id": "6d4da95a-8bb2-4f69-a9b0-a643531db5df",
      "metadata": {
        "id": "6d4da95a-8bb2-4f69-a9b0-a643531db5df"
      },
      "source": [
        "- To be able to use higher temperatures to increase output diversity and to reduce the probability of nonsensical sentences, we can restrict the sampled tokens to the top-k most likely tokens:"
      ]
    },
    {
      "cell_type": "markdown",
      "id": "7ae6fffd-2730-4abe-a2d3-781fc4836f17",
      "metadata": {
        "id": "7ae6fffd-2730-4abe-a2d3-781fc4836f17"
      },
      "source": [
        "<img src=\"https://sebastianraschka.com/images/LLMs-from-scratch-images/ch05_compressed/topk.webp\" width=500px>\n",
        "\n",
        "- (Please note that the numbers in this figure are truncated to two\n",
        "digits after the decimal point to reduce visual clutter. The values in the Softmax row should add up to 1.0.)"
      ]
    },
    {
      "cell_type": "markdown",
      "id": "0ba12da5-6ff1-4008-91b8-d2d537cbc14c",
      "metadata": {
        "id": "0ba12da5-6ff1-4008-91b8-d2d537cbc14c"
      },
      "source": [
        "- In code, we can implement this as follows:"
      ]
    },
    {
      "cell_type": "code",
      "execution_count": 145,
      "id": "2a7f908a-e9ec-446a-b407-fb6dbf05c806",
      "metadata": {
        "id": "2a7f908a-e9ec-446a-b407-fb6dbf05c806",
        "outputId": "c88f3369-2a19-461f-f46f-f0c2986c4665",
        "colab": {
          "base_uri": "https://localhost:8080/"
        }
      },
      "outputs": [
        {
          "output_type": "stream",
          "name": "stdout",
          "text": [
            "Top logits: tensor([6.7500, 6.2800, 4.5100])\n",
            "Top positions: tensor([3, 7, 0])\n"
          ]
        }
      ],
      "source": [
        "top_k = 3\n",
        "top_logits, top_pos = torch.topk(next_token_logits, top_k)\n",
        "\n",
        "print(\"Top logits:\", top_logits)\n",
        "print(\"Top positions:\", top_pos)"
      ]
    },
    {
      "cell_type": "code",
      "execution_count": 146,
      "id": "753865ed-79c5-48b1-b9f2-ccb132ff1d2f",
      "metadata": {
        "id": "753865ed-79c5-48b1-b9f2-ccb132ff1d2f",
        "outputId": "f3677813-01a9-465b-8f20-8b9a1493166d",
        "colab": {
          "base_uri": "https://localhost:8080/"
        }
      },
      "outputs": [
        {
          "output_type": "stream",
          "name": "stdout",
          "text": [
            "tensor([4.5100,   -inf,   -inf, 6.7500,   -inf,   -inf,   -inf, 6.2800,   -inf])\n"
          ]
        }
      ],
      "source": [
        "new_logits = torch.where(\n",
        "    condition=next_token_logits < top_logits[-1],\n",
        "    input=torch.tensor(float(\"-inf\")),\n",
        "    other=next_token_logits\n",
        ")\n",
        "\n",
        "print(new_logits)"
      ]
    },
    {
      "cell_type": "markdown",
      "id": "dfa6fa49-6e99-459d-a517-d7d0f51c4f00",
      "metadata": {
        "id": "dfa6fa49-6e99-459d-a517-d7d0f51c4f00"
      },
      "source": [
        "> NOTE:  \n",
        ">\n",
        ">  An alternative, slightly more efficient implementation of the previous code cell is the following:\n",
        ">\n",
        "> ```python\n",
        "> new_logits = torch.full_like( # create tensor containing -inf values\n",
        ">    next_token_logits, -torch.inf\n",
        ">)   \n",
        "> new_logits[top_pos] = next_token_logits[top_pos] # copy top k values into the -inf tensor\n",
        "> ```\n",
        "> <br>\n",
        "> For more details, see https://github.com/rasbt/LLMs-from-scratch/discussions/326\n"
      ]
    },
    {
      "cell_type": "code",
      "execution_count": 147,
      "id": "4844f000-c329-4e7e-aa89-16a2c4ebee43",
      "metadata": {
        "id": "4844f000-c329-4e7e-aa89-16a2c4ebee43",
        "outputId": "87265c53-6f1d-4fa2-f295-7a2e2b25d54b",
        "colab": {
          "base_uri": "https://localhost:8080/"
        }
      },
      "outputs": [
        {
          "output_type": "stream",
          "name": "stdout",
          "text": [
            "tensor([0.0615, 0.0000, 0.0000, 0.5775, 0.0000, 0.0000, 0.0000, 0.3610, 0.0000])\n"
          ]
        }
      ],
      "source": [
        "topk_probas = torch.softmax(new_logits, dim=0)\n",
        "print(topk_probas)"
      ]
    },
    {
      "cell_type": "markdown",
      "id": "56056503-a15d-4315-a3ff-46647a4c7c45",
      "metadata": {
        "id": "56056503-a15d-4315-a3ff-46647a4c7c45"
      },
      "source": [
        "### 5.3.3 Modifying the text generation function"
      ]
    },
    {
      "cell_type": "markdown",
      "id": "34770423-473d-46f6-a5fa-6b2979564d26",
      "metadata": {
        "id": "34770423-473d-46f6-a5fa-6b2979564d26"
      },
      "source": [
        "- The previous two subsections introduced temperature sampling and top-k sampling\n",
        "- Let's use these two concepts to modify the `generate_simple` function we used to generate text via the LLM earlier, creating a new `generate` function:"
      ]
    },
    {
      "cell_type": "code",
      "execution_count": 148,
      "id": "8e318891-bcc0-4d71-b147-33ce55febfa3",
      "metadata": {
        "id": "8e318891-bcc0-4d71-b147-33ce55febfa3"
      },
      "outputs": [],
      "source": [
        "def generate(model, idx, max_new_tokens, context_size, temperature=0.0, top_k=None, eos_id=None):\n",
        "\n",
        "    # For-loop is the same as before: Get logits, and only focus on last time step\n",
        "    for _ in range(max_new_tokens):\n",
        "        idx_cond = idx[:, -context_size:]\n",
        "        with torch.no_grad():\n",
        "            logits = model(idx_cond)\n",
        "        logits = logits[:, -1, :]\n",
        "\n",
        "        # New: Filter logits with top_k sampling\n",
        "        if top_k is not None:\n",
        "            # Keep only top_k values\n",
        "            top_logits, _ = torch.topk(logits, top_k)\n",
        "            min_val = top_logits[:, -1]\n",
        "            logits = torch.where(logits < min_val, torch.tensor(float(\"-inf\")).to(logits.device), logits)\n",
        "\n",
        "        # New: Apply temperature scaling\n",
        "        if temperature > 0.0:\n",
        "            logits = logits / temperature\n",
        "\n",
        "            # Apply softmax to get probabilities\n",
        "            probs = torch.softmax(logits, dim=-1)  # (batch_size, context_len)\n",
        "\n",
        "            # Sample from the distribution\n",
        "            idx_next = torch.multinomial(probs, num_samples=1)  # (batch_size, 1)\n",
        "\n",
        "        # Otherwise same as before: get idx of the vocab entry with the highest logits value\n",
        "        else:\n",
        "            idx_next = torch.argmax(logits, dim=-1, keepdim=True)  # (batch_size, 1)\n",
        "\n",
        "        if idx_next == eos_id:  # Stop generating early if end-of-sequence token is encountered and eos_id is specified\n",
        "            break\n",
        "\n",
        "        # Same as before: append sampled index to the running sequence\n",
        "        idx = torch.cat((idx, idx_next), dim=1)  # (batch_size, num_tokens+1)\n",
        "\n",
        "    return idx"
      ]
    },
    {
      "cell_type": "code",
      "execution_count": 149,
      "id": "aa2a0d7d-0457-42d1-ab9d-bd67683e7ed8",
      "metadata": {
        "id": "aa2a0d7d-0457-42d1-ab9d-bd67683e7ed8",
        "outputId": "49803a70-ad7f-4240-dc41-eb4e04b55256",
        "colab": {
          "base_uri": "https://localhost:8080/"
        }
      },
      "outputs": [
        {
          "output_type": "stream",
          "name": "stdout",
          "text": [
            "Output text:\n",
            " Every effort moves you know began to go a little wild--I was such a good; and\n"
          ]
        }
      ],
      "source": [
        "torch.manual_seed(123)\n",
        "\n",
        "token_ids = generate(\n",
        "    model=model,\n",
        "    idx=text_to_token_ids(\"Every effort moves you\", tokenizer),\n",
        "    max_new_tokens=15,\n",
        "    context_size=GPT_CONFIG_124M[\"context_length\"],\n",
        "    top_k=25,\n",
        "    temperature=1.4\n",
        ")\n",
        "\n",
        "print(\"Output text:\\n\", token_ids_to_text(token_ids, tokenizer))"
      ]
    },
    {
      "cell_type": "markdown",
      "source": [
        "## Exercise 5.2"
      ],
      "metadata": {
        "id": "cmrGl-tQOoTi"
      },
      "id": "cmrGl-tQOoTi"
    },
    {
      "cell_type": "code",
      "source": [
        "# Tempatures and Top-k settings\n",
        "\n",
        "\n",
        "torch.manual_seed(123)\n",
        "\n",
        "def get_tokens(phrase, top_k, temperature):\n",
        "  return generate(\n",
        "      model=model,\n",
        "      idx=text_to_token_ids(phrase, tokenizer),\n",
        "      max_new_tokens=15,\n",
        "      context_size=GPT_CONFIG_124M[\"context_length\"],\n",
        "      top_k=top_k,\n",
        "      temperature=temperature\n",
        "  )\n",
        "\n",
        "for top_k in [1, 3, 10]:\n",
        "  for temperature in [0.1, 1, 10]:\n",
        "      print(f\"Top-k: {top_k}, Temperature: {temperature}\")\n",
        "      token_ids = get_tokens(\"Spring exists to remind us that\", top_k=25, temperature=1.4)\n",
        "      print(\"Output text:\\n\", token_ids_to_text(token_ids, tokenizer))\n",
        "      print()\n",
        "\n",
        "for top_k in [1, 3, 10]:\n",
        "  for temperature in [0.1, 1, 10]:\n",
        "      print(f\"Top-k: {top_k}, Temperature: {temperature}\")\n",
        "      token_ids = get_tokens(\"i checked out \", top_k=25, temperature=1.4)\n",
        "      print(\"Output text:\\n\", token_ids_to_text(token_ids, tokenizer))\n",
        "      print()"
      ],
      "metadata": {
        "colab": {
          "base_uri": "https://localhost:8080/"
        },
        "id": "zo87C1yzOrGg",
        "outputId": "843d0e81-a29e-4c39-e1da-87a6e3ec0790"
      },
      "id": "zo87C1yzOrGg",
      "execution_count": 171,
      "outputs": [
        {
          "output_type": "stream",
          "name": "stdout",
          "text": [
            "Top-k: 1, Temperature: 0.1\n",
            "Output text:\n",
            " Spring exists to remind us that Mrs.\n",
            "\"Oh through to put me.\n",
            "\"When I asked\n",
            "\n",
            "Top-k: 1, Temperature: 1\n",
            "Output text:\n",
            " Spring exists to remind us that lifted on him--rather he have mentioned her so told his last I could\n",
            "\n",
            "Top-k: 1, Temperature: 10\n",
            "Output text:\n",
            " Spring exists to remind us that mighty and on my him of my work.\"\n",
            "He that last word.\n",
            "\n",
            "Top-k: 3, Temperature: 0.1\n",
            "Output text:\n",
            " Spring exists to remind us that Mrs. Thwing's glanced after him down in the donkey in him when\n",
            "\n",
            "Top-k: 3, Temperature: 1\n",
            "Output text:\n",
            " Spring exists to remind us that mighty up-stream stroke? she face the irony. Just last word so\n",
            "\n",
            "Top-k: 3, Temperature: 10\n",
            "Output text:\n",
            " Spring exists to remind us that mighty up-stream a cheap who to the down with a flash of her\n",
            "\n",
            "Top-k: 10, Temperature: 0.1\n",
            "Output text:\n",
            " Spring exists to remind us that mighty up-piece--and now it the fact with him close charming,\n",
            "\n",
            "Top-k: 10, Temperature: 1\n",
            "Output text:\n",
            " Spring exists to remind us that lifted on that pushed deprecating felt nervous: \" equanimity.\n",
            "\n",
            "Top-k: 10, Temperature: 10\n",
            "Output text:\n",
            " Spring exists to remind us that mighty up--forming, asensible to the current--it he found her\n",
            "\n",
            "Top-k: 1, Temperature: 0.1\n",
            "Output text:\n",
            " i checked out  I had his ridiculous that my dear, it stay that lifted the frame called\n",
            "\n",
            "Top-k: 1, Temperature: 1\n",
            "Output text:\n",
            " i checked out  had'd work on Mrs. Poorioms he had down with aanim\n",
            "\n",
            "Top-k: 1, Temperature: 10\n",
            "Output text:\n",
            " i checked out  thought Herm just had I had the through it--though days Mrs. .\n",
            "\n",
            "Top-k: 3, Temperature: 0.1\n",
            "Output text:\n",
            " i checked out  . . . as a my hostess after him, down down? for\n",
            "\n",
            "Top-k: 3, Temperature: 1\n",
            "Output text:\n",
            " i checked out ement through, as that tried: \" the course.\"\n",
            "I'd in\n",
            "\n",
            "Top-k: 3, Temperature: 10\n",
            "Output text:\n",
            " i checked out  thought Jack Gisburn had a cheap genius-- his irony. And wanted\n",
            "\n",
            "Top-k: 10, Temperature: 0.1\n",
            "Output text:\n",
            " i checked out  Gisburn had astream.\" \"strong he knew of the tips of\n",
            "\n",
            "Top-k: 10, Temperature: 1\n",
            "Output text:\n",
            " i checked out  had through my way of the end from _have_ his handsome, Mrs\n",
            "\n",
            "Top-k: 10, Temperature: 10\n",
            "Output text:\n",
            " i checked out  had I have to go that my for nothing--of that sketch of his\n",
            "\n"
          ]
        }
      ]
    },
    {
      "cell_type": "markdown",
      "id": "4e2002ca-f4c1-48af-9e0a-88bfc163ba0b",
      "metadata": {
        "id": "4e2002ca-f4c1-48af-9e0a-88bfc163ba0b"
      },
      "source": [
        "## 5.4 Loading and saving model weights in PyTorch"
      ]
    },
    {
      "cell_type": "markdown",
      "id": "0fc52676-f026-4566-a226-2a90269f9d53",
      "metadata": {
        "id": "0fc52676-f026-4566-a226-2a90269f9d53"
      },
      "source": [
        "- Training LLMs is computationally expensive, so it's crucial to be able to save and load LLM weights\n",
        "\n",
        "<img src=\"https://sebastianraschka.com/images/LLMs-from-scratch-images/ch05_compressed/mental-model-3.webp\" width=400px>"
      ]
    },
    {
      "cell_type": "markdown",
      "id": "10e4c7f9-592f-43d6-a00e-598fa01dfb82",
      "metadata": {
        "id": "10e4c7f9-592f-43d6-a00e-598fa01dfb82"
      },
      "source": [
        "- The recommended way in PyTorch is to save the model weights, the so-called `state_dict` via by applying the `torch.save` function to the `.state_dict()` method:"
      ]
    },
    {
      "cell_type": "code",
      "execution_count": 151,
      "id": "3d67d869-ac04-4382-bcfb-c96d1ca80d47",
      "metadata": {
        "id": "3d67d869-ac04-4382-bcfb-c96d1ca80d47"
      },
      "outputs": [],
      "source": [
        "torch.save(model.state_dict(), \"model.pth\")"
      ]
    },
    {
      "cell_type": "markdown",
      "id": "90e889e0-07bf-43e5-8f92-5c5c7aeaad9e",
      "metadata": {
        "id": "90e889e0-07bf-43e5-8f92-5c5c7aeaad9e"
      },
      "source": [
        "- Then we can load the model weights into a new `GPTModel` model instance as follows:"
      ]
    },
    {
      "cell_type": "code",
      "execution_count": 152,
      "id": "9d57d914-60a3-47f1-b499-5352f4c457cb",
      "metadata": {
        "id": "9d57d914-60a3-47f1-b499-5352f4c457cb"
      },
      "outputs": [],
      "source": [
        "model = GPTModel(GPT_CONFIG_124M)\n",
        "device = torch.device(\"cuda\" if torch.cuda.is_available() else \"cpu\")\n",
        "model.load_state_dict(torch.load(\"model.pth\", map_location=device, weights_only=True))\n",
        "model.eval();"
      ]
    },
    {
      "cell_type": "markdown",
      "id": "caa81aec-9c72-4f46-8ae2-4a4fde3edbc1",
      "metadata": {
        "id": "caa81aec-9c72-4f46-8ae2-4a4fde3edbc1"
      },
      "source": [
        "- It's common to train LLMs with adaptive optimizers like Adam or AdamW instead of regular SGD\n",
        "- These adaptive optimizers store additional parameters for each model weight, so it makes sense to save them as well in case we plan to continue the pretraining later:"
      ]
    },
    {
      "cell_type": "code",
      "execution_count": 153,
      "id": "bbd175bb-edf4-450e-a6de-d3e8913c6532",
      "metadata": {
        "id": "bbd175bb-edf4-450e-a6de-d3e8913c6532"
      },
      "outputs": [],
      "source": [
        "torch.save({\n",
        "    \"model_state_dict\": model.state_dict(),\n",
        "    \"optimizer_state_dict\": optimizer.state_dict(),\n",
        "    },\n",
        "    \"model_and_optimizer.pth\"\n",
        ")"
      ]
    },
    {
      "cell_type": "code",
      "execution_count": 154,
      "id": "8a0c7295-c822-43bf-9286-c45abc542868",
      "metadata": {
        "id": "8a0c7295-c822-43bf-9286-c45abc542868"
      },
      "outputs": [],
      "source": [
        "checkpoint = torch.load(\"model_and_optimizer.pth\", weights_only=True)\n",
        "\n",
        "model = GPTModel(GPT_CONFIG_124M)\n",
        "model.load_state_dict(checkpoint[\"model_state_dict\"])\n",
        "\n",
        "optimizer = torch.optim.AdamW(model.parameters(), lr=0.0005, weight_decay=0.1)\n",
        "optimizer.load_state_dict(checkpoint[\"optimizer_state_dict\"])\n",
        "model.train();"
      ]
    },
    {
      "cell_type": "markdown",
      "id": "4194350e-0409-4a63-8ffd-d3a896509032",
      "metadata": {
        "id": "4194350e-0409-4a63-8ffd-d3a896509032"
      },
      "source": [
        "## 5.5 Loading pretrained weights from OpenAI"
      ]
    },
    {
      "cell_type": "markdown",
      "id": "83eb6c38-7278-40e0-bd9f-8a2b1feac3ec",
      "metadata": {
        "id": "83eb6c38-7278-40e0-bd9f-8a2b1feac3ec"
      },
      "source": [
        "- Previously, we only trained a small GPT-2 model using a very small short-story book for educational purposes\n",
        "- Interested readers can also find a longer pretraining run on the complete Project Gutenberg book corpus in [../03_bonus_pretraining_on_gutenberg](../03_bonus_pretraining_on_gutenberg)\n",
        "- Fortunately, we don't have to spend tens to hundreds of thousands of dollars to pretrain the model on a large pretraining corpus but can load the pretrained weights provided by OpenAI"
      ]
    },
    {
      "cell_type": "markdown",
      "id": "127ddbdb-3878-4669-9a39-d231fbdfb834",
      "metadata": {
        "id": "127ddbdb-3878-4669-9a39-d231fbdfb834"
      },
      "source": [
        "<span style=\"color:darkred\">\n",
        "  <ul>\n",
        "    <li>For an alternative way to load the weights from the Hugging Face Hub, see <a href=\"../02_alternative_weight_loading\">../02_alternative_weight_loading</a></li>\n",
        "    <ul>\n",
        "      <li>This is useful if:</li>\n",
        "      <ul>\n",
        "        <li>the weights are temporarily unavailable</li>\n",
        "        <li>a company VPN only permits downloads from the Hugging Face Hub but not from the OpenAI CDN, for example</li>\n",
        "        <li>you are having trouble with the TensorFlow installation (the original weights are stored in TensorFlow files)</li>\n",
        "      </ul>\n",
        "    </ul>\n",
        "    <li>The <a href=\"../02_alternative_weight_loading\">../02_alternative_weight_loading</a> code notebooks are replacements for the remainder of this section 5.5</li>\n",
        "  </ul>\n",
        "</span>\n"
      ]
    },
    {
      "cell_type": "markdown",
      "id": "75cab892-a165-4f43-9601-f517bc212ab6",
      "metadata": {
        "id": "75cab892-a165-4f43-9601-f517bc212ab6"
      },
      "source": [
        "- First, some boilerplate code to download the files from OpenAI and load the weights into Python\n",
        "- Since OpenAI used [TensorFlow](https://www.tensorflow.org/), we will have to install and use TensorFlow for loading the weights; [tqdm](https://github.com/tqdm/tqdm) is a progress bar library\n",
        "- Uncomment and run the next cell to install the required libraries"
      ]
    },
    {
      "cell_type": "code",
      "execution_count": 155,
      "id": "fb9fdf02-972a-444e-bf65-8ffcaaf30ce8",
      "metadata": {
        "id": "fb9fdf02-972a-444e-bf65-8ffcaaf30ce8"
      },
      "outputs": [],
      "source": [
        "# pip install tensorflow tqdm"
      ]
    },
    {
      "cell_type": "code",
      "execution_count": 156,
      "id": "a0747edc-559c-44ef-a93f-079d60227e3f",
      "metadata": {
        "id": "a0747edc-559c-44ef-a93f-079d60227e3f",
        "outputId": "425e9be9-dbe2-4575-bbc0-ffe4652645de",
        "colab": {
          "base_uri": "https://localhost:8080/"
        }
      },
      "outputs": [
        {
          "output_type": "stream",
          "name": "stdout",
          "text": [
            "TensorFlow version: 2.18.0\n",
            "tqdm version: 4.67.1\n"
          ]
        }
      ],
      "source": [
        "print(\"TensorFlow version:\", version(\"tensorflow\"))\n",
        "print(\"tqdm version:\", version(\"tqdm\"))"
      ]
    },
    {
      "cell_type": "code",
      "execution_count": 157,
      "id": "c5bc89eb-4d39-4287-9b0c-e459ebe7f5ed",
      "metadata": {
        "id": "c5bc89eb-4d39-4287-9b0c-e459ebe7f5ed"
      },
      "outputs": [],
      "source": [
        "# Relative import from the gpt_download.py contained in this folder\n",
        "from gpt_download import download_and_load_gpt2"
      ]
    },
    {
      "cell_type": "markdown",
      "id": "ff76a736-6f9f-4328-872e-f89a7b70a2cc",
      "metadata": {
        "id": "ff76a736-6f9f-4328-872e-f89a7b70a2cc"
      },
      "source": [
        "- We can then download the model weights for the 124 million parameter model as follows:"
      ]
    },
    {
      "cell_type": "code",
      "execution_count": 158,
      "id": "76271dd7-108d-4f5b-9c01-6ae0aac4b395",
      "metadata": {
        "id": "76271dd7-108d-4f5b-9c01-6ae0aac4b395",
        "outputId": "c2316aae-9311-453e-d510-4033ebad70dc",
        "colab": {
          "base_uri": "https://localhost:8080/"
        }
      },
      "outputs": [
        {
          "output_type": "stream",
          "name": "stdout",
          "text": [
            "File already exists and is up-to-date: gpt2/124M/checkpoint\n",
            "File already exists and is up-to-date: gpt2/124M/encoder.json\n",
            "File already exists and is up-to-date: gpt2/124M/hparams.json\n",
            "File already exists and is up-to-date: gpt2/124M/model.ckpt.data-00000-of-00001\n",
            "File already exists and is up-to-date: gpt2/124M/model.ckpt.index\n",
            "File already exists and is up-to-date: gpt2/124M/model.ckpt.meta\n",
            "File already exists and is up-to-date: gpt2/124M/vocab.bpe\n"
          ]
        }
      ],
      "source": [
        "settings, params = download_and_load_gpt2(model_size=\"124M\", models_dir=\"gpt2\")"
      ]
    },
    {
      "cell_type": "code",
      "execution_count": 159,
      "id": "b1a31951-d971-4a6e-9c43-11ee1168ec6a",
      "metadata": {
        "id": "b1a31951-d971-4a6e-9c43-11ee1168ec6a",
        "outputId": "606baf70-d087-4b9c-d4db-344025486023",
        "colab": {
          "base_uri": "https://localhost:8080/"
        }
      },
      "outputs": [
        {
          "output_type": "stream",
          "name": "stdout",
          "text": [
            "Settings: {'n_vocab': 50257, 'n_ctx': 1024, 'n_embd': 768, 'n_head': 12, 'n_layer': 12}\n"
          ]
        }
      ],
      "source": [
        "print(\"Settings:\", settings)"
      ]
    },
    {
      "cell_type": "code",
      "execution_count": 160,
      "id": "857c8331-130e-46ba-921d-fa35d7a73cfe",
      "metadata": {
        "id": "857c8331-130e-46ba-921d-fa35d7a73cfe",
        "outputId": "5a74a7e0-2d4a-4735-b612-dcd7dff135b5",
        "colab": {
          "base_uri": "https://localhost:8080/"
        }
      },
      "outputs": [
        {
          "output_type": "stream",
          "name": "stdout",
          "text": [
            "Parameter dictionary keys: dict_keys(['blocks', 'b', 'g', 'wpe', 'wte'])\n"
          ]
        }
      ],
      "source": [
        "print(\"Parameter dictionary keys:\", params.keys())"
      ]
    },
    {
      "cell_type": "code",
      "execution_count": 161,
      "id": "c48dac94-8562-4a66-84ef-46c613cdc4cd",
      "metadata": {
        "id": "c48dac94-8562-4a66-84ef-46c613cdc4cd",
        "outputId": "8d4dd7e0-d0c0-40c6-b116-61c6058126e9",
        "colab": {
          "base_uri": "https://localhost:8080/"
        }
      },
      "outputs": [
        {
          "output_type": "stream",
          "name": "stdout",
          "text": [
            "[[-0.11010301 -0.03926672  0.03310751 ... -0.1363697   0.01506208\n",
            "   0.04531523]\n",
            " [ 0.04034033 -0.04861503  0.04624869 ...  0.08605453  0.00253983\n",
            "   0.04318958]\n",
            " [-0.12746179  0.04793796  0.18410145 ...  0.08991534 -0.12972379\n",
            "  -0.08785918]\n",
            " ...\n",
            " [-0.04453601 -0.05483596  0.01225674 ...  0.10435229  0.09783269\n",
            "  -0.06952604]\n",
            " [ 0.1860082   0.01665728  0.04611587 ... -0.09625227  0.07847701\n",
            "  -0.02245961]\n",
            " [ 0.05135201 -0.02768905  0.0499369  ...  0.00704835  0.15519823\n",
            "   0.12067825]]\n",
            "Token embedding weight tensor dimensions: (50257, 768)\n"
          ]
        }
      ],
      "source": [
        "print(params[\"wte\"])\n",
        "print(\"Token embedding weight tensor dimensions:\", params[\"wte\"].shape)"
      ]
    },
    {
      "cell_type": "markdown",
      "id": "466e100c-294e-4afc-a70a-2f398ac4c104",
      "metadata": {
        "id": "466e100c-294e-4afc-a70a-2f398ac4c104"
      },
      "source": [
        "- Alternatively, \"355M\", \"774M\", and \"1558M\" are also supported `model_size` arguments\n",
        "- The difference between these differently sized models is summarized in the figure below:"
      ]
    },
    {
      "cell_type": "markdown",
      "id": "20f19d32-5aae-4176-9f86-f391672c8f0d",
      "metadata": {
        "id": "20f19d32-5aae-4176-9f86-f391672c8f0d"
      },
      "source": [
        "<img src=\"https://sebastianraschka.com/images/LLMs-from-scratch-images/ch05_compressed/gpt-sizes.webp?timestamp=123\" width=500px>"
      ]
    },
    {
      "cell_type": "markdown",
      "id": "ea6e5076-f08d-41fc-bd8b-1cfe53538f41",
      "metadata": {
        "id": "ea6e5076-f08d-41fc-bd8b-1cfe53538f41"
      },
      "source": [
        "- Above, we loaded the 124M GPT-2 model weights into Python, however we still need to transfer them into our `GPTModel` instance\n",
        "- First, we initialize a new GPTModel instance\n",
        "- Note that the original GPT model initialized the linear layers for the query, key, and value matrices in the multi-head attention module with bias vectors, which is not required or recommended; however, to be able to load the weights correctly, we have to enable these too by setting `qkv_bias` to `True` in our implementation, too\n",
        "- We are also using the `1024` token context length that was used by the original GPT-2 model(s)"
      ]
    },
    {
      "cell_type": "code",
      "execution_count": 162,
      "id": "9fef90dd-0654-4667-844f-08e28339ef7d",
      "metadata": {
        "id": "9fef90dd-0654-4667-844f-08e28339ef7d"
      },
      "outputs": [],
      "source": [
        "# Define model configurations in a dictionary for compactness\n",
        "model_configs = {\n",
        "    \"gpt2-small (124M)\": {\"emb_dim\": 768, \"n_layers\": 12, \"n_heads\": 12},\n",
        "    \"gpt2-medium (355M)\": {\"emb_dim\": 1024, \"n_layers\": 24, \"n_heads\": 16},\n",
        "    \"gpt2-large (774M)\": {\"emb_dim\": 1280, \"n_layers\": 36, \"n_heads\": 20},\n",
        "    \"gpt2-xl (1558M)\": {\"emb_dim\": 1600, \"n_layers\": 48, \"n_heads\": 25},\n",
        "}\n",
        "\n",
        "# Copy the base configuration and update with specific model settings\n",
        "model_name = \"gpt2-small (124M)\"  # Example model name\n",
        "NEW_CONFIG = GPT_CONFIG_124M.copy()\n",
        "NEW_CONFIG.update(model_configs[model_name])\n",
        "NEW_CONFIG.update({\"context_length\": 1024, \"qkv_bias\": True})\n",
        "\n",
        "gpt = GPTModel(NEW_CONFIG)\n",
        "gpt.eval();"
      ]
    },
    {
      "cell_type": "markdown",
      "id": "272f29ac-8342-4b3d-a57d-9b0166ced314",
      "metadata": {
        "id": "272f29ac-8342-4b3d-a57d-9b0166ced314"
      },
      "source": [
        "- The next task is to assign the OpenAI weights to the corresponding weight tensors in our `GPTModel` instance"
      ]
    },
    {
      "cell_type": "code",
      "execution_count": 163,
      "id": "f9a92229-c002-49a6-8cfb-248297ad8296",
      "metadata": {
        "id": "f9a92229-c002-49a6-8cfb-248297ad8296"
      },
      "outputs": [],
      "source": [
        "def assign(left, right):\n",
        "    if left.shape != right.shape:\n",
        "        raise ValueError(f\"Shape mismatch. Left: {left.shape}, Right: {right.shape}\")\n",
        "    return torch.nn.Parameter(torch.tensor(right))"
      ]
    },
    {
      "cell_type": "code",
      "execution_count": 164,
      "id": "f22d5d95-ca5a-425c-a9ec-fc432a12d4e9",
      "metadata": {
        "id": "f22d5d95-ca5a-425c-a9ec-fc432a12d4e9"
      },
      "outputs": [],
      "source": [
        "import numpy as np\n",
        "\n",
        "def load_weights_into_gpt(gpt, params):\n",
        "    gpt.pos_emb.weight = assign(gpt.pos_emb.weight, params['wpe'])\n",
        "    gpt.tok_emb.weight = assign(gpt.tok_emb.weight, params['wte'])\n",
        "\n",
        "    for b in range(len(params[\"blocks\"])):\n",
        "        q_w, k_w, v_w = np.split(\n",
        "            (params[\"blocks\"][b][\"attn\"][\"c_attn\"])[\"w\"], 3, axis=-1)\n",
        "        gpt.trf_blocks[b].att.W_query.weight = assign(\n",
        "            gpt.trf_blocks[b].att.W_query.weight, q_w.T)\n",
        "        gpt.trf_blocks[b].att.W_key.weight = assign(\n",
        "            gpt.trf_blocks[b].att.W_key.weight, k_w.T)\n",
        "        gpt.trf_blocks[b].att.W_value.weight = assign(\n",
        "            gpt.trf_blocks[b].att.W_value.weight, v_w.T)\n",
        "\n",
        "        q_b, k_b, v_b = np.split(\n",
        "            (params[\"blocks\"][b][\"attn\"][\"c_attn\"])[\"b\"], 3, axis=-1)\n",
        "        gpt.trf_blocks[b].att.W_query.bias = assign(\n",
        "            gpt.trf_blocks[b].att.W_query.bias, q_b)\n",
        "        gpt.trf_blocks[b].att.W_key.bias = assign(\n",
        "            gpt.trf_blocks[b].att.W_key.bias, k_b)\n",
        "        gpt.trf_blocks[b].att.W_value.bias = assign(\n",
        "            gpt.trf_blocks[b].att.W_value.bias, v_b)\n",
        "\n",
        "        gpt.trf_blocks[b].att.out_proj.weight = assign(\n",
        "            gpt.trf_blocks[b].att.out_proj.weight,\n",
        "            params[\"blocks\"][b][\"attn\"][\"c_proj\"][\"w\"].T)\n",
        "        gpt.trf_blocks[b].att.out_proj.bias = assign(\n",
        "            gpt.trf_blocks[b].att.out_proj.bias,\n",
        "            params[\"blocks\"][b][\"attn\"][\"c_proj\"][\"b\"])\n",
        "\n",
        "        gpt.trf_blocks[b].ff.layers[0].weight = assign(\n",
        "            gpt.trf_blocks[b].ff.layers[0].weight,\n",
        "            params[\"blocks\"][b][\"mlp\"][\"c_fc\"][\"w\"].T)\n",
        "        gpt.trf_blocks[b].ff.layers[0].bias = assign(\n",
        "            gpt.trf_blocks[b].ff.layers[0].bias,\n",
        "            params[\"blocks\"][b][\"mlp\"][\"c_fc\"][\"b\"])\n",
        "        gpt.trf_blocks[b].ff.layers[2].weight = assign(\n",
        "            gpt.trf_blocks[b].ff.layers[2].weight,\n",
        "            params[\"blocks\"][b][\"mlp\"][\"c_proj\"][\"w\"].T)\n",
        "        gpt.trf_blocks[b].ff.layers[2].bias = assign(\n",
        "            gpt.trf_blocks[b].ff.layers[2].bias,\n",
        "            params[\"blocks\"][b][\"mlp\"][\"c_proj\"][\"b\"])\n",
        "\n",
        "        gpt.trf_blocks[b].norm1.scale = assign(\n",
        "            gpt.trf_blocks[b].norm1.scale,\n",
        "            params[\"blocks\"][b][\"ln_1\"][\"g\"])\n",
        "        gpt.trf_blocks[b].norm1.shift = assign(\n",
        "            gpt.trf_blocks[b].norm1.shift,\n",
        "            params[\"blocks\"][b][\"ln_1\"][\"b\"])\n",
        "        gpt.trf_blocks[b].norm2.scale = assign(\n",
        "            gpt.trf_blocks[b].norm2.scale,\n",
        "            params[\"blocks\"][b][\"ln_2\"][\"g\"])\n",
        "        gpt.trf_blocks[b].norm2.shift = assign(\n",
        "            gpt.trf_blocks[b].norm2.shift,\n",
        "            params[\"blocks\"][b][\"ln_2\"][\"b\"])\n",
        "\n",
        "    gpt.final_norm.scale = assign(gpt.final_norm.scale, params[\"g\"])\n",
        "    gpt.final_norm.shift = assign(gpt.final_norm.shift, params[\"b\"])\n",
        "    gpt.out_head.weight = assign(gpt.out_head.weight, params[\"wte\"])\n",
        "\n",
        "\n",
        "load_weights_into_gpt(gpt, params)\n",
        "gpt.to(device);"
      ]
    },
    {
      "cell_type": "markdown",
      "id": "4f7472cb-54dc-4311-96d8-b2694f885cee",
      "metadata": {
        "id": "4f7472cb-54dc-4311-96d8-b2694f885cee"
      },
      "source": [
        "- If the model is loaded correctly, we can use it to generate new text using our previous `generate` function:"
      ]
    },
    {
      "cell_type": "code",
      "execution_count": 165,
      "id": "1f690253-f845-4347-b7b6-43fabbd2affa",
      "metadata": {
        "id": "1f690253-f845-4347-b7b6-43fabbd2affa",
        "outputId": "d924d547-69eb-4acb-ee5b-b56ba53d6320",
        "colab": {
          "base_uri": "https://localhost:8080/"
        }
      },
      "outputs": [
        {
          "output_type": "stream",
          "name": "stdout",
          "text": [
            "Output text:\n",
            " Every effort moves you as far as the hand can go until the end of your turn unless something happens\n",
            "\n",
            "This would remove you from a battle\n"
          ]
        }
      ],
      "source": [
        "torch.manual_seed(123)\n",
        "\n",
        "token_ids = generate(\n",
        "    model=gpt,\n",
        "    idx=text_to_token_ids(\"Every effort moves you\", tokenizer).to(device),\n",
        "    max_new_tokens=25,\n",
        "    context_size=NEW_CONFIG[\"context_length\"],\n",
        "    top_k=50,\n",
        "    temperature=1.5\n",
        ")\n",
        "\n",
        "print(\"Output text:\\n\", token_ids_to_text(token_ids, tokenizer))"
      ]
    },
    {
      "cell_type": "markdown",
      "id": "6d079f98-a7c4-462e-8416-5a64f670861c",
      "metadata": {
        "id": "6d079f98-a7c4-462e-8416-5a64f670861c"
      },
      "source": [
        "- We know that we loaded the model weights correctly because the model can generate coherent text; if we made even a small mistake, the model would not be able to do that"
      ]
    },
    {
      "cell_type": "code",
      "source": [],
      "metadata": {
        "id": "5p7LsLFkftVh"
      },
      "id": "5p7LsLFkftVh",
      "execution_count": null,
      "outputs": []
    },
    {
      "cell_type": "code",
      "source": [
        "# Tempatures and Top-k settings\n",
        "\n",
        "\n",
        "torch.manual_seed(123)\n",
        "\n",
        "def get_tokens(phrase, top_k, temperature):\n",
        "  return generate(\n",
        "      model=gpt,\n",
        "      idx=text_to_token_ids(phrase, tokenizer).to(device),\n",
        "      max_new_tokens=15,\n",
        "      context_size=GPT_CONFIG_124M[\"context_length\"],\n",
        "      top_k=top_k,\n",
        "      temperature=temperature\n",
        "  )\n",
        "\n",
        "for top_k in [1, 3, 10]:\n",
        "  for temperature in [0.1, 1, 10]:\n",
        "      print(f\"Top-k: {top_k}, Temperature: {temperature}\")\n",
        "      token_ids = get_tokens(\"Spring exists to remind us that\", top_k=25, temperature=1.4)\n",
        "      print(\"Output text:\\n\", token_ids_to_text(token_ids, tokenizer))\n",
        "      print()\n",
        "\n",
        "for top_k in [1, 3, 10]:\n",
        "  for temperature in [0.1, 1, 10]:\n",
        "      print(f\"Top-k: {top_k}, Temperature: {temperature}\")\n",
        "      token_ids = get_tokens(\"i checked out \", top_k=25, temperature=1.4)\n",
        "      print(\"Output text:\\n\", token_ids_to_text(token_ids, tokenizer))\n",
        "      print()"
      ],
      "metadata": {
        "outputId": "0baa9dd0-ae17-4d44-8caa-425b3f91328c",
        "colab": {
          "base_uri": "https://localhost:8080/"
        },
        "id": "2-QuDeGZftsV"
      },
      "execution_count": 172,
      "outputs": [
        {
          "output_type": "stream",
          "name": "stdout",
          "text": [
            "Top-k: 1, Temperature: 0.1\n",
            "Output text:\n",
            " Spring exists to remind us that the United States has been very much like the Great Satan. It has brought\n",
            "\n",
            "Top-k: 1, Temperature: 1\n",
            "Output text:\n",
            " Spring exists to remind us that people want more than \"good\".\n",
            "\n",
            "\"To keep people working,\n",
            "\n",
            "Top-k: 1, Temperature: 10\n",
            "Output text:\n",
            " Spring exists to remind us that these are not always easy times for our own people to deal with, as\n",
            "\n",
            "Top-k: 3, Temperature: 0.1\n",
            "Output text:\n",
            " Spring exists to remind us that it has been through the years that we have experienced and learned about its culture\n",
            "\n",
            "Top-k: 3, Temperature: 1\n",
            "Output text:\n",
            " Spring exists to remind us that, despite being just one example from all our cities, our city can be\n",
            "\n",
            "Top-k: 3, Temperature: 10\n",
            "Output text:\n",
            " Spring exists to remind us that the most important issue confronting our government is that its priorities do seem to be\n",
            "\n",
            "Top-k: 10, Temperature: 0.1\n",
            "Output text:\n",
            " Spring exists to remind us that our government must be free to do what it wants when it wants,\" said\n",
            "\n",
            "Top-k: 10, Temperature: 1\n",
            "Output text:\n",
            " Spring exists to remind us that every human being is special. They deserve to have access to their own culture\n",
            "\n",
            "Top-k: 10, Temperature: 10\n",
            "Output text:\n",
            " Spring exists to remind us that this world is full of potential human development which should be used as a means\n",
            "\n",
            "Top-k: 1, Temperature: 0.1\n",
            "Output text:\n",
            " i checked out  his new video on a nearby stream of internet video of the man,\n",
            "\n",
            "Top-k: 1, Temperature: 1\n",
            "Output text:\n",
            " i checked out ____ of the new post. In it we discuss a small problem with the\n",
            "\n",
            "Top-k: 1, Temperature: 10\n",
            "Output text:\n",
            " i checked out irc.googlecodej.com and found some things. But for all\n",
            "\n",
            "Top-k: 3, Temperature: 0.1\n",
            "Output text:\n",
            " i checked out ike's book on this. The guy at his home asked me if i\n",
            "\n",
            "Top-k: 3, Temperature: 1\n",
            "Output text:\n",
            " i checked out  their Facebook account for their trip to see the famous New York Jets.\n",
            "\n",
            "Top-k: 3, Temperature: 10\n",
            "Output text:\n",
            " i checked out  a little and found no traces of the stuff I had seen on his\n",
            "\n",
            "Top-k: 10, Temperature: 0.1\n",
            "Output text:\n",
            " i checked out irc.mozilla.org and his work on the code (I don\n",
            "\n",
            "Top-k: 10, Temperature: 1\n",
            "Output text:\n",
            " i checked out 〉Mystic 〉,\n",
            "\n",
            "『This magic can be\n",
            "\n",
            "Top-k: 10, Temperature: 10\n",
            "Output text:\n",
            " i checked out 《Curse》. The girl did not want to go through\n",
            "\n"
          ]
        }
      ],
      "id": "2-QuDeGZftsV"
    },
    {
      "cell_type": "markdown",
      "source": [
        "# obersvations - Exercise 5.2 with gpt\n",
        "\n",
        "honestly I cant tell much difference either way. sigh!\n",
        "\n",
        "Also see - https://github.com/hugobowne/llm-sdlc/blob/main/workshops/workshop-2/Session_2_LLM_APIs_and_Prompt_Engineering_full.ipynb\n",
        "\n",
        "Temperature vs. Top-p: A Simple Breakdown\n",
        "Temperature – Controls randomness in the output.\n",
        "\n",
        "High temperature (e.g., >1.0) → More creative, less predictable responses.\n",
        "Low temperature (e.g., 0.2) → More focused and deterministic outputs.\n",
        "Top-p (Nucleus Sampling) – Limits the output to the most probable tokens, summing to a percentage (p).\n",
        "\n",
        "High top-p (e.g., 0.9) → More diverse responses, including less likely words.\n",
        "Low top-p (e.g., 0.3) → Restricts to the most confident, safe predictions.\n",
        "In short:\n",
        "\n",
        "Temperature – Controls randomness.\n",
        "Top-p – Controls the range of probable tokens considered.\n",
        "They often work together to balance creativity and coherence.\n",
        "\n",
        "\n",
        "lower temperature and lower top-k settings - more deterministic and safe coherent output.\n",
        "applications: constrained chat environment\n",
        "\n",
        "high temperature and high top-k settings - more creative, diverse\n",
        "applications: writing\n",
        "\n"
      ],
      "metadata": {
        "id": "yR6D7DtlgSOP"
      },
      "id": "yR6D7DtlgSOP"
    },
    {
      "cell_type": "markdown",
      "source": [
        "![Screenshot 2025-03-21 at 12.34.54 PM.png](data:image/png;base64,iVBORw0KGgoAAAANSUhEUgAABUQAAAQgCAYAAAAublavAAAMTGlDQ1BJQ0MgUHJvZmlsZQAASImVVwdYU1cbPndkQggQiICMsJcgMgPICGEFkD0EUQlJgDBiTAgqbqRYwbpFBEdFqyCKqwJSXKhVK0XBPYsDFaUWa3Er/wkBtPQfz/89z7n3ve/5znu+77vnjgMAvYsvleaimgDkSfJlsSEBrMnJKSxSD0AABuiADVh8gVzKiY6OANCGz3+319egN7TLDkqtf/b/V9MSiuQCAJBoiNOFckEexD8CgLcIpLJ8AIhSyJvPypcq8TqIdWQwQIhrlDhThVuUOF2FLw36xMdyIX4EAFmdz5dlAqDRB3lWgSAT6tBhtsBJIhRLIPaH2Dcvb4YQ4kUQ20AfOCddqc9O/0on82+a6SOafH7mCFblMmjkQLFcmsuf83+W439bXq5ieA5r2NSzZKGxypxh3R7lzAhXYnWI30rSI6Mg1gYAxcXCQX8lZmYpQhNU/qiNQM6FNQNMiCfKc+N4Q3yskB8YDrEhxBmS3MiIIZ+iDHGw0gfWD60Q5/PiIdaDuEYkD4ob8jkhmxE7PO+1DBmXM8Q/5csGY1Dqf1bkJHBU+ph2log3pI85FmbFJ0FMhTiwQJwYCbEGxJHynLjwIZ/Uwixu5LCPTBGrzMUCYplIEhKg0sfKM2TBsUP+u/Pkw7ljJ7LEvMgh3JmfFR+qqhX2SMAfjB/mgvWJJJyEYR2RfHLEcC5CUWCQKnecLJIkxKl4XE+aHxCrGovbSXOjh/zxAFFuiJI3gzheXhA3PLYgHy5OlT5eIs2PjlfFiVdm88OiVfHg+0EE4IJAwAIK2NLBDJANxO29jb3wStUTDPhABjKBCDgMMcMjkgZ7JPAYBwrB7xCJgHxkXMBgrwgUQP7TKFbJiUc41dEBZAz1KVVywGOI80A4yIXXikElyUgEieARZMT/iIgPmwDmkAubsv/f88PsF4YDmYghRjE8I4s+7EkMIgYSQ4nBRFvcAPfFvfEIePSHzRln457DeXzxJzwmdBAeEK4Sugg3p4uLZKOinAS6oH7wUH3Sv64PbgU13fAA3AeqQ2WciRsAB9wVzsPB/eDMbpDlDsWtrAprlPbfMvjqDg35UZwoKGUMxZ9iM3qkhp2G24iKstZf10cVa/pIvbkjPaPn535VfSE8h4/2xL7FDmFnsZPYeawFawQs7DjWhLVhR5V4ZMU9Glxxw7PFDsaTA3VGr5kvd1ZZSblTnVOP00dVX75odr7yYeTOkM6RiTOz8lkc+MUQsXgSgeM4lrOTsxsAyu+P6vX2Kmbwu4Iw275wS34DwOf4wMDAT1+4sOMAHPCAr4QjXzgbNvy0qAFw7ohAIStQcbjyQIBvDjp8+vSBMTAHNjAfZ+AOvIE/CAJhIArEg2QwDUafBde5DMwC88BiUALKwCqwHlSCrWA7qAF7wUHQCFrASfAzuAAugavgNlw93eA56AOvwQcEQUgIDWEg+ogJYonYI84IG/FFgpAIJBZJRtKQTESCKJB5yBKkDFmDVCLbkFrkAHIEOYmcRzqQm8h9pAf5E3mPYqg6qoMaoVboeJSNctBwNB6dimaiM9FCtBhdgVag1egetAE9iV5Ar6Jd6HO0HwOYGsbETDEHjI1xsSgsBcvAZNgCrBQrx6qxeqwZ3ufLWBfWi73DiTgDZ+EOcAWH4gm4AJ+JL8CX45V4Dd6An8Yv4/fxPvwzgUYwJNgTvAg8wmRCJmEWoYRQTthJOEw4A5+lbsJrIpHIJFoTPeCzmEzMJs4lLiduJu4jniB2EB8S+0kkkj7JnuRDiiLxSfmkEtJG0h7ScVInqZv0lqxGNiE7k4PJKWQJuYhcTt5NPkbuJD8hf6BoUiwpXpQoipAyh7KSsoPSTLlI6aZ8oGpRrak+1HhqNnUxtYJaTz1DvUN9paamZqbmqRajJlZbpFahtl/tnNp9tXfq2up26lz1VHWF+gr1Xeon1G+qv6LRaFY0f1oKLZ+2glZLO0W7R3urwdBw1OBpCDUWalRpNGh0arygU+iWdA59Gr2QXk4/RL9I79WkaFppcjX5mgs0qzSPaF7X7NdiaE3QitLK01qutVvrvNZTbZK2lXaQtlC7WHu79inthwyMYc7gMgSMJYwdjDOMbh2ijrUOTydbp0xnr067Tp+utq6rbqLubN0q3aO6XUyMacXkMXOZK5kHmdeY78cYjeGMEY1ZNqZ+TOeYN3pj9fz1RHqlevv0ruq912fpB+nn6K/Wb9S/a4Ab2BnEGMwy2GJwxqB3rM5Y77GCsaVjD469ZYga2hnGGs413G7YZthvZGwUYiQ12mh0yqjXmGnsb5xtvM74mHGPCcPE10Rsss7kuMkzli6Lw8plVbBOs/pMDU1DTRWm20zbTT+YWZslmBWZ7TO7a041Z5tnmK8zbzXvszCxmGQxz6LO4pYlxZJtmWW5wfKs5Rsra6skq6VWjVZPrfWsedaF1nXWd2xoNn42M22qba7YEm3Ztjm2m20v2aF2bnZZdlV2F+1Re3d7sf1m+45xhHGe4yTjqsddd1B34DgUONQ53HdkOkY4Fjk2Or4YbzE+Zfzq8WfHf3Zyc8p12uF0e4L2hLAJRROaJ/zpbOcscK5yvuJCcwl2WejS5PLS1d5V5LrF9YYbw22S21K3VrdP7h7uMvd69x4PC480j00e19k67Gj2cvY5T4JngOdCzxbPd17uXvleB73+8HbwzvHe7f10ovVE0cQdEx/6mPnwfbb5dPmyfNN8v/ft8jP14/tV+z3wN/cX+u/0f8Kx5WRz9nBeBDgFyAIOB7zhenHnc08EYoEhgaWB7UHaQQlBlUH3gs2CM4PrgvtC3ELmhpwIJYSGh64Ovc4z4gl4tby+MI+w+WGnw9XD48Irwx9E2EXIIponoZPCJq2ddCfSMlIS2RgFonhRa6PuRltHz4z+KYYYEx1TFfM4dkLsvNizcYy46XG7417HB8SvjL+dYJOgSGhNpCemJtYmvkkKTFqT1DV5/OT5ky8kGySLk5tSSCmJKTtT+qcETVk/pTvVLbUk9dpU66mzp56fZjAtd9rR6fTp/OmH0ghpSWm70z7yo/jV/P50Xvqm9D4BV7BB8FzoL1wn7BH5iNaInmT4ZKzJeJrpk7k2syfLL6s8q1fMFVeKX2aHZm/NfpMTlbMrZyA3KXdfHjkvLe+IRFuSIzk9w3jG7BkdUntpibRrptfM9TP7ZOGynXJEPlXelK8Df/TbFDaKbxT3C3wLqgrezkqcdWi21mzJ7LY5dnOWzXlSGFz4w1x8rmBu6zzTeYvn3Z/Pmb9tAbIgfUHrQvOFxQu7F4UsqllMXZyz+Ncip6I1RX8tSVrSXGxUvKj44Tch39SVaJTISq4v9V669Vv8W/G37ctclm1c9rlUWPpLmVNZednH5YLlv3w34buK7wZWZKxoX+m+cssq4irJqmur/VbXrNFaU7jm4dpJaxvWsdaVrvtr/fT158tdy7duoG5QbOiqiKho2mixcdXGj5VZlVerAqr2bTLctGzTm83CzZ1b/LfUbzXaWrb1/ffi729sC9nWUG1VXb6duL1g++MdiTvO/sD+oXanwc6ynZ92SXZ11cTWnK71qK3dbbh7ZR1ap6jr2ZO659LewL1N9Q712/Yx95XtB/sV+58dSDtw7WD4wdZD7EP1P1r+uOkw43BpA9Iwp6GvMauxqym5qeNI2JHWZu/mwz85/rSrxbSl6qju0ZXHqMeKjw0cLzzef0J6ovdk5smHrdNbb5+afOrK6ZjT7WfCz5z7OfjnU2c5Z4+f8znXct7r/JFf2L80XnC/0NDm1nb4V7dfD7e7tzdc9LjYdMnzUnPHxI5jnX6dJy8HXv75Cu/KhauRVzuuJVy7cT31etcN4Y2nN3NvvrxVcOvD7UV3CHdK72reLb9neK/6N9vf9nW5dx29H3i/7UHcg9sPBQ+fP5I/+thd/Jj2uPyJyZPap85PW3qCey49m/Ks+7n0+Yfekt+1ft/0wubFj3/4/9HWN7mv+6Xs5cCfy1/pv9r1l+tfrf3R/fde573+8Kb0rf7bmnfsd2ffJ71/8mHWR9LHik+2n5o/h3++M5A3MCDly/iDvwIYUG5tMgD4cxcAtGQAGHDfSJ2i2h8OGqLa0w4i8J+wag85aO4A1MN/+phe+HdzHYD9OwCwgvr0VACiaQDEewLUxWWkDe/lBvedSiPCvcH30z6l56WDf2OqPelXcY8+A6WqKxh9/hdElYMtIhfO1QAAAIplWElmTU0AKgAAAAgABAEaAAUAAAABAAAAPgEbAAUAAAABAAAARgEoAAMAAAABAAIAAIdpAAQAAAABAAAATgAAAAAAAACQAAAAAQAAAJAAAAABAAOShgAHAAAAEgAAAHigAgAEAAAAAQAABUSgAwAEAAAAAQAABCAAAAAAQVNDSUkAAABTY3JlZW5zaG90d6+CuAAAAAlwSFlzAAAWJQAAFiUBSVIk8AAAAdhpVFh0WE1MOmNvbS5hZG9iZS54bXAAAAAAADx4OnhtcG1ldGEgeG1sbnM6eD0iYWRvYmU6bnM6bWV0YS8iIHg6eG1wdGs9IlhNUCBDb3JlIDYuMC4wIj4KICAgPHJkZjpSREYgeG1sbnM6cmRmPSJodHRwOi8vd3d3LnczLm9yZy8xOTk5LzAyLzIyLXJkZi1zeW50YXgtbnMjIj4KICAgICAgPHJkZjpEZXNjcmlwdGlvbiByZGY6YWJvdXQ9IiIKICAgICAgICAgICAgeG1sbnM6ZXhpZj0iaHR0cDovL25zLmFkb2JlLmNvbS9leGlmLzEuMC8iPgogICAgICAgICA8ZXhpZjpQaXhlbFlEaW1lbnNpb24+MTA1NjwvZXhpZjpQaXhlbFlEaW1lbnNpb24+CiAgICAgICAgIDxleGlmOlBpeGVsWERpbWVuc2lvbj4xMzQ4PC9leGlmOlBpeGVsWERpbWVuc2lvbj4KICAgICAgICAgPGV4aWY6VXNlckNvbW1lbnQ+U2NyZWVuc2hvdDwvZXhpZjpVc2VyQ29tbWVudD4KICAgICAgPC9yZGY6RGVzY3JpcHRpb24+CiAgIDwvcmRmOlJERj4KPC94OnhtcG1ldGE+CggnZdMAAAAcaURPVAAAAAIAAAAAAAACEAAAACgAAAIQAAACEAACjxgAZimSAABAAElEQVR4AeydBbhURRvHX1oQJAQlJaSVki4REJTubpHuFhVJg+4GpUta6Ualu7tTPwFRQUq/eY/OYc7Z2b27e8+9e/fe/zzP55l5p878Zu/H7H9n3on2jwiEAAIgAAIgAAIgAAIgAAIgAAIgAAIgAAIgAAIgAAJRgEA0CKJRYJYxRBAAARAAARAAARAAARAAARAAARAAARAAARAAAYMABFF8EEAABEAABEAABEAABEAABEAABEAABEAABEAABKIMAQiiUWaqMVAQAAEQAAEQAAEQAAEQAAEQAAEQAAEQAAEQAAEIovgMgAAIgAAIgAAIgAAIgAAIgAAIgAAIgAAIgAAIRBkCEESjzFRjoCAAAiAAAiAAAiAAAiAAAiAAAiAAAiAAAiAAAhBE8RkwCfz22z06dfIYXb16mbJnz0HZ38hp5tkj586dponjR9DpU8cpRsyYlCtXXmrXoTu9+moKe9Eom753767BaP++XfTHH79TxkxZqEWrjgarKAslkg386dOnNHfOdNqw7nu6/fMtSpUqDdWoWZ8qVqpB0aJFC5PR/v3333T58gXxt3qcfv/9vtFfjBgxwqQvNAoCIAACIAACIAACIAACIAACIAACkZEABNHIOKtejOmvv/6iM6dP0MmTR+nkiWPG88b1a2bN5i3aU9Nmrc20Grlw/ix92LwOPXn8WDVTkpeT0qw5yylhwkQWe1RM/PXwITVrWpOuCXFZDdGjR6cx47+BKKpCCeL4gH69aMP6VS4jYOG7cZOWLnZ/DLduXqcT4m+Uf6zgv9fT4u/24YMHZlMbNu+jF154wUwjAgIgAAIgAAIgAAIgAAIgAAIgAAIg4JlApBNE//zzDyFCXXE76vQZXqfYseO4zY8KGdOnjqNZs6bS38+euR2uJ0H0048707atG7V1P2jelpqJ/0X1sOTbuTRq5JdaDHneyk9jxn2jzYPRSuDhwweGcH/nzq909+4d4t2RKVOmNv6XQjzjxAnc3zL/MNCkUTXrC/+XihU7Nq3bsItixYqtzffGyLuK69YuT7+JncaeAgRRT3SQBwIgAAIgAAIgAAIgAAIgAAIgAAKuBCKfIPrHH1StainLDip12F26fULVa9RTTVEuPmvmFJo6eYzHcXsSRBvWqySO7F7U1i9V+n3qP3CYNi8qGYcPHUjLly3UDjlx4iS0ctV2bR6MRI8ePaLvVy6mH37YQkcO76cnT55osfCRdN6V/HqGTNRI7MbMnSeftlxYGTdtWkv9+nR32/yceSspbboMbvNDymAxuGa1MnT//m8ei0IQ9YgHmSAAAiAAAiAAAiAAAiAAAiAAAiDgQiDSCaI8wpHDP6elS+a7DJYNadOmp9lCqAgr/37aTiOY8Z9//qFxY4fSogWz3L6ZJ0G0Z/e2tHOHXtBr2OhDatWms9t2gzVj9syptG3bRkqS5GUaMmxCiMOYP28GTRinF4bfeDMXTZoyN8Q2olqBZ2LHMovILNjf+fV/Pg+/YKFi1Kp1J8qUOZvPdf2pcEr4z23xQR1t1ejCp+e6DbtDfZT90sXz1LVLS/rl59vaftgIQdQtGmSAAAiAAAiAAAiAAAiAAAiAAAiAgJZApBREr169RPXrVNQOmI0jRk2l/AUKu82PKhnTpoylmTMma4frSRA9LHbtdWzXzDi+rFZ+8cX4NHPOskh3sdI30yfQ1+J/HPjSqMXLNqjD1sb5gqrGDatqhb0vvhpDxd8upa0XVY18AVWfT7rQoYP7XBAkT5GKihcvaVxKFT16DDp79hTt+HErXbt2xaUs/9DRpl03qle/qUue0wb+YaGbECv37tnp0nSt2g2pY+ePXOz+GG7fvkltWzein2/f0laHIKrFAiMIgAAIgAAIgAAIgAAIgAAIgAAIuCUQKQVRviyoebPabgddpGgJGjx0vNv8qJJx7OghatOqoXa4ngRRrrBr5w80bswQunLlkrHbNkvWN6hb9z6UJWt2bXvBapzx9USaPu35Z8VbQZTHy2xGDBskRL69xLsfuW7rtl3o3TLlgxVHmLz3hQtnqWe3tsTCnz2we4s2bbvSC3HjWrL40qqRI76g1auWWeycqFylFvXo1dfFHhYG9vM5XuwE3rhhNfE7vRg/gbj1vZ64kKyN8B8ay7Euu3VpRXt2/6RtD4KoFguMIAACIAACIAACIAACIAACIAACIOCWQKQURIcNGUArli9yO2i+6Xv+otXGxSxuC0WBjNAIohIP+znkXXuBvNxGvouTT979x2Ko3Bkq2/ZFEJV1nj59Sn/99ZDiC7EMwUqAj8Z/2LyO9ki4N7ssde4bwlMQlaPhzwv7+kyYMJE0OfqEIOooTjQGAiAAAiAAAiAAAiAAAiAAAiAQxQlEOkH0wYM/qWrlkm4vVZLzXadeE2rfoYdM+vXkXX8nTxylixfPUZ63ClDq1K9Z2uHboX/++RYlSpSEkr3yqiXPl0RY9eOEICrHwT4OL146b/hoZdHQl8A3h9+9+yvxTeJ85DlF8lRip118X5qwlOWdev/738/0++/3KWnSV+jlpMmEaBvdUsZT4vjxwzR29BA6fuywSzF/BFHZyJ/iwq/Tp49TgpcSUqZMWaXZp+fjx4+MnacJEyamZMle8amuu8J8e/uBA3vosbjMqFz5KtpiLFz+/Mtto8+XX06mLeOrkcfSvm1T42/IXjdrtjdo4uS5FDNmTHuWJc27Shs1qGL5e/dHEL186QLxvCdLltzFncaTJ4/pyuVLlDJVaoobN56lf3uCL4A6LXaoP370F72Vt6A92+80BFG/0aEiCIAACIAACIAACIAACIAACIAACLgQiHSC6MoV39LQwf2NgcZPkID++P13l0GzgfOWLd/schRXW1gx3rhxTRxd3SH8Bv5E+/fvoT/FkVkOffp+RWXfqyhuxH5MSxbPoxXLFll8HLIomjlLNipZsixVrFxDaVEfDY9+QiOIso/Mg0JE279vt+Cwm66K4+EcOnXpTTVrNTDinv7DO+o2b15HW8RN3Xv27LAIWlwvQYKXiC/Jqd+gWYiX5DDz7ds30+rvltIxIWKyKK4GFtVeeTU55cz5FjVp1tpFuJZlWbyeNGGkcfyZ308XYojLcuzCN5djv5VFi71jqcKC39EjB01GfAnP30JEf7tEafr8y9GWsu4SLKIuXTqfzp09TefPnaarwm8mt8GBGWV4PTO9/nomKlO2Ar2ZI7e7Zix2Fu2OHj1oHMHmz/I54ZOTx8vtrV63wyzLPPhystXfLxOC9R3Tzr5ieawdOvUSYn9i0+5rZM7saTR54ihtNV/8rNovUfNGEGWxfP++XbRbHEPno+jSP6c6N3wcnl0ebBafUf5Rgj9HXbt/SpUq1zTfmcX8s2dO0QHxN7BPtHfkyAHj6LydpVlBE+HPyU/CJ+pO4Ybi1Mljxg8D/Bl+9ZXklOa1dOJv4AOaPWsqjsxr2MEEAiAAAiAAAiAAAiAAAiAAAiAAAv4QiHSCKPsOZR+iHLr16EPz5n5DN4WIqQvde35GVaq69zUq67DYsXXLBiGC7rCInDKfnyyI8i7RT3p30u54U8uyD8meH/Vz2W0WXv3Id/FVEOXy27ZuNISkc0Kc04mG3giiJ44foeFCaJLzJN/H3ZPFvk8/+1K7y5Pb6tmjHfFuXG8CC5oVKlanLt0+cdl9OHBAb1q/9jtvmnEpIwXxmzeu04YNqwxGRwWvJ48fu5RVRTeXTMXAIhm7f+DdriEF3gFbq04jatmqI8WOHcelOLs2WCWETRb/DgqfpryL1h5UEe+7lYtprPAR+/DBA3sxM51QiKFjx39D6dNnNG3eRlhsrF3jPWMXr70O76ZevHSDdr7tZTlt/xy7E0R5btasWUF7hQh84uRRU1hW25RzwyLlB01q0uXLF9VswbcT1azdgNasXmGIoAfEjyIsrtqDytKep6a5nWlTx5qCrJqnxnlO+Z10AT5EdVRgAwEQAAEQAAEQAAEQAAEQAAEQAAH3BCKVIMo78Fp8UMcYLV/CsnzlFlq2dIHbXWgZMmQybkV3j+ffnPZtm9DhQ/s9Fuv1UX9asmSesZPPY8H/MtOmy0CTp8yzHA0Pr37k+9mFJGnnp+5SpY8/6kQ/bN+kFnOJhySIbt+2ifr37WkRd+LEeUEcLy5A2bK9SdeuXzV2aMpdkLKDipWqU6/eA2TSePIR526dW9Gff/5hsdcUN3yXK1eZHoudkFMmjRI7Wfda8jnBwlajJi0sdicE0W8XzaExo76ytGtPSNHNbpdp3n3Lbaxf9700GU/eZcx12Z3AxvWr6RdxhN0eXnstvRCPv6Bs2XNYsvhmdhb4PAUW8b5f8yMN/rKv9rIiXd1ChYvT0OETdVkebbNmTqGpk8doy/APBn37D9Hm6YwszHdo15Tu/beLtWTp96n5h+1cii5aOFu4QhjsYlcNcm4mThhB8+Z8rWYZcf7cFC76NjVr7HmXd0iCKO/SHfJVX1q7ZqVLH8mTp6R8+QuJ3evx6PDBfcRz5ylAEPVEB3kgAAIgAAIgAAIgAAIgAAIgAAIg4EogUgmig4XA8P3KJcYoy1eoRr0/GWgc9a1RtbQ4yv7EdfTCMnrc1/SW2NnpKWzbuoH69+ul3e0n67FvSd0t2TJf92zStBV92LKDmRVe/cgOfRVE2Vdq104tPe5Y9CSIHj68nzq2a0Z8zFiGxImT0PCRky3H4lk05Z229jBp6lx6441cprlHtzbGbfemQUTSpX+dZs9dYZr4opsqFUsQX2ykBt5xN2vuckqVKo1qNuMVyxfX7joNyYcoi7O9xI5VTwK6FN3MzpQI79xs07qhi7D+kvA7On3Gt8RiGQdm2LtXB9rx0zal9r9Rvthn9ryVxGxl4N2Fn33azTiaLW32J9+QXkwchV/n4y7ZaV8voixZs9ub85hu1aI+8e5eXWjUuAW1bO06/7qyvthu3bpBXTq1oGtXL7utxnPDrgDq1Cqn3UHKgmjDxh8awiqL3+5CSIIoz8UW4TLCHuoJFxFthfsFGXieh3zVT+zuXSpNLk8Ioi5IYAABEAABEAABEAABEAABEAABEAABjwQijSDKQhRfpiSPAk+cMpfefPNf8azfZ91p08a1WhCexCm1Ah9n792ro4t/SlkmY6YsVLLUe1SgYFFxKVBKOnz4gLHLjo89uwtx48Wjhd+utQhX4dUPv5OvgijX4WPHnTs1pxvX9W4I3AmiLOx80LSm8IN5hpsxgzsxrUmj6nThvLVsuw7dqW69pkZdbq9c2cIu86G7mbxNy4bCt+ghs08ZqS2OmLP4pQv+CqLc1iNxOVGfT7rQzh3bdU179CHq7rPaf+BwKlX6PUt77NezcYOqdO/ec/+eskDpd8tRvwFDZdJ4sh9M/tFgzarlFrua4F2o75QsQ7ly56VXhA/LWLFjGy4gpk4Z49Yf78effu72Mia1bRlnkbqSEJx5DnWhR6++xMfewyIws+5dW7t118D/f5A2nRDVxQ5WXVB3Fs/4eiJNnzZeV8zFH6taaJfwFcpivj2Ufb8S9RGuIeyBL7SqUe1dF1FfloMgKkngCQIgAAIgAAIgAAIgAAIgAAIgAALeEYg0gujyZQtp+NCBxqjTZ8hIs+Y8F334yHTH9s20RKILn5ILv11j7rzTFvrPuPjbuTR6pKtgwdnSh6RanwWfLwZ94nHHHQt8LPSpIbz68UcQ5ffcvGkd9e3zfBeb+u7uBNElgt0oG7vCRd6mIcMmqNXNuO74uuob8p7wGcqimj1UrVbH8B2r2t0d9S9StAQNHqoXtEIjiHLfLLxVrvC2+hpm3J0Izzto27dpYpaTkXjxXjSOsseKFUuazOd84SN3wvjhZlqNMFtmrAY+Xl6/TgWtL1y+aGzVmp+0vjv5CL+7HZHNmrelD8T/vA28q5V30boLw0dNoQIFirjLDrX9l59vU3Wxa1wX+DPBrjdYhNQFVRDl/Ib1KxPfUG8P7naI8gVgLGJfE5dj2cPcBd/Ta+ISJV2oX7eieXGZPR+CqJ0I0iAAAiAAAiAAAiAAAiAAAiAAAiDgmUCkEUSbNalhHjPu2Pkj4p2CamhQtxJduWK9IEXm12/4AbVp21Um3T7VG+zthXSCKJdhUbRxw6pa0YTz3xC7WCeJ3axqCK9+/BVEt25ZL3ZA6nnpBFEWL+vVKe+yw9DTTeLjxw6jBfNnqFiMG76rVa9r2mpVL0t8DFoNOp+Wnw/8WOurkf24zhFHy3UhtIIoX/LEbeiCO0GUj3Pv27vTpQrvPB4wSC96Xrp4nho1qOJShw1p06anOfNdL4niz+PFC+dc6rgT8bggX8bUrUsrlzpsqFSlJvXs1U+bpzOyWwveqeouzF+4ilKnSesuO9R2T3PDvod5lzmzqFiphtgtmsHYKfvKq8kpadJk9MILcYkv5pLBV5YzvplE06eOk9XN55s5ctPEye6P4PMPOjpfuNwABFETIyIgAAIgAAIgAAIgAAIgAAIgAAIg4BWBSCGIsi9C9knIgY/48mVK7HNRDYsWzDJuzVZtMs4+F5cs30Rx4sSRJu3TH6GSG/J00Q77eVy5ynq0Orz6CS9B1N342YenuxvKedcj736UIXXq12jshBlClHpFmuiIcEswSIidicRt57yz7jUhAGbLloPyFyhsluGIO0GU/Yhu3LKPokWLZinPifAWRPmm8orlimmPkbcQN8c3btLS5R2lQScMcx6Pa+2GXcQ7TNXgq4jHda9evSR2llZUmzHjuguvzExNZPasqeKyq9GanH9Nq9ftMARJtwVCmeFJEOVdsvXrf0A1atV34abr1leW7j5XTZu1Ni4y0/XBNhajWZTWBQiiOiqwgQAIgAAIgAAIgAAIgAAIgAAIgIB7ApFCEP3y8z7mrdjubqhmv4XVKpey3G6uYuEbzFnY8RT8FSr/+ON34/i0u4ud1m/aQ3HFjdIyhFc/4SWIDhsygFYsXySHZz7t4zYzRIRF7nPnTpumt0u8awifpsHLyC+//Gzcan/40D5tDXfv4E64CulSJdmJJ9FNt0N029aN9OnHnWV1y7N7z8+oStXaFpuaGCAu/NqwfpVqMuP2i6g4w1cRj+s4KYjaxW5uXw3zF60mFsB1gcfJO5R9CRUqVic+Ci+Dr3Mj6+mevrD87bd7huita6dbjz7E7h7cBQii7sjADgIgAAIgAAIgAAIgAAIgAAIgAAK+Ewh6QfTPP/gypXfor7/+Mkbv6dZ4dzsFuWKmTFnp65mLPRL0V6jkRuuKW6uvX7+qbX/m7GWU4fVMZl549RNegmj7tk3FreuuguSmrfuJd2k6HVh42rZ1A23csNq47d3d5T3c74ZNe4mPSdtDeAuiM2dMpmlTxtpfw0gP+mIUlXjnXW0eGz359+z5UT+qVLmmpa4vIp6s6KQgOktcWDR18hjZtMtzwqTZlCNnHhc7G6aIeu4uPNJWEEa+OIsv0JIhUIKop7+3LwePoWLFS8lXdHlCEHVBAgMIgAAIgAAIgAAIgAAIgAAIgAAI+E0g6AXRJYvn0agRXxgA+Jj8F1+Jo7iaI9Bc4OSJo8S+Kd2FcRNnUq5ced1lU2iESneiIHfGfh7Z36MM4dWPJ4GmeYv2xMd4dcFXH6LuxEUnfUWyIL5920ZDBN27Z4d5I3f06NEprjgy/qfYpasLG7fs17pKcPfOYbVD1JOo+fmXo42b6XXvzzZPYmrtuo2pQ8eelqqBFkR5tzDvGnYXBn0xUgjAZbTZfNx+mvDB+fezZ9p8u5FdaHTp+rFFFA6UILp61TLi3ey6ENJFUhBEddRgAwEQAAEQAAEQAAEQAAEQAAEQAAH/CAS9INqkUXW6cP6Mf6O31fJ0eQ0XDY1Q2e+zHrRp4xpbj2Rc0MKiXMyYMc288OonPARRT8eER42ZRnnzFTLH7U+EbwxnH6Xff7eE2A+nDHwJTkVxVLqCcIPAuxHXrtFfnuRul2p4C6JDBvej71bodyjrdnnKcfJz+bJFNHyoXmBs0Kg5tW7TRS0e8CPzId0y37X7p6RenmV5eZHgHb/82R04oDfdunndnm2kM2TIRH37D7HsvJYFAyWITpo4kubOni5fw/L8+NNBVK58VYtNTUAQVWkgDgIgAAIgAAIgAAIgAAIgAAIgAAKhIxDUgqgnQc8fLHx79LdL1lOyV17VVg+NUNm/b09j96K9Yb5Nm3dKqiG8+vHEz6kdonxjd9l3C9A///yjDtGI626kdynkwcC3lY8dM4QePPjTUqpq9TrUURyTjhUrtmH35Cph87YDZjm1kfAWRPkCKfatqQstW3eiRo1b6LIMm6db29u270716je11A30DlFPF0jxi+p2tVoG8F9iybdzadTIL3VZ5ElgDJQgOnzoQCFeL9S+b0gXZ0EQ1WKDEQRAAARAAARAAARAAARAAARAAAT8IhDUgugXgz6hNatXGAPP81Z+qlmrYYgQ/vnnb/pc1Hv44IG2bCNxm3dLcau3LoRGqOzQrikdOujqR7NosXfoqyHjLN2FVz/hIYjywGpWK0O3b9+0jJET7CZg9ryV2lveXQrbDMuWLqARwwbZrESFi7xNQ4ZNsNg9CaJbth+y7M6VFcNbEN2960fq3lXvoqBOvSbUvkMP+Wouzzmzp9HkiaNc7GzQ+aYMtCDK79WieR06dfI4R10C/yCxZNnGED8Xnnaajh47nd7KW9ClbTYEShCdN+drmjhhhPad3i9XmT7p86/rD10BCKI6KrCBAAiAAAiAAAiAAAiAAAiAAAiAgH8EglYQ5V1mfGv8o0f/Xqb05eCx4lKSkl5R8LRTK1GiJLR0xUbtrsHQCJX161akq1cuubxfvfrNqG37bhZ7ePUTXoIoC30s+OmCN/PGu0vnzplOBQoUocxZstOvv/5iXFIlL9JS2+0s/EXWqFlfNZEnQXTrD4cNtwWWCiIR3oIoH/2vXrW0/TWMdM5cb9H4ibO0eWwcN3YoLZw/0yU/utjxvHrNT/Ri/PiWvIggiC5aMMvY3Wt5MSUxdvwMyp0nn2Jxje7Z/ROxUKgLnvwBB0oQ9eR7N268eLR85RaKJ/zd6gIEUR0V2EAABEAABEAABEAABEAABEAABEDAPwJBK4guFsdlR/93XDbJy0lp6fJNWmFLh+XC+bPUpFE1XZZh+/jTz4U/vyou+Z6Eyt6fDKTyFfRt3r//G1Wt9A49efLE0mY0cfnT5GnzKVu2Ny328OonvARRPtbOApgu8G7AocMm0usZM+uyjcuRvvz8U1q/7nvj5nG+gfzHHzZT7176XbwdO39EtWpbdwp7EkS3/XiE+OIle3AniPL78mctpOCP6Fbh/aLEnxV7YGHzu1XbiS8N04VePdoR75a0h7fyFqDRY7+2mwPuQ5RfiMXs2jXK0t27d1zejw2VqtSknr36afOkMdgE0bNnTtIHTWvJ13d5evKdCkHUBRcMIAACIAACIAACIAACIAACIAACIOA3gaAVRBs1qEKXLp43Bl5TCGCdhBDmS2jWpAadO3taWyVrtjdo6nRXX3+ehEpPfh7d+TqsKC786dXb9TKc8OonvATRw4f2Ufu2TbWs2ci74nr06kuFChen+PETGOV4B/CRwwdo0cJZdGD/HsMmhWpPR4/z5S9MI0dPNcrL/3gSRNdu2EUvvmjdQcn1eLcm79q0h1ixYhFfgqUTUdWy/giiqsivtsXxz/oNpjJlK9jNhrBYsVwxc6e0WsDdpVURYYcov+fSJfNp5PDP1Vc24/yZmDl7KSVPkcq02SPBJoiyP90q4ocRu89bOS4WvPmzy7ug7cGTILp63Q5KkOAlexWkQQAEQAAEQAAEQAAEQAAEQAAEQAAE3BAISkGUhbJ2bRqbQ+o3cBiVLv2+mfYmMnrUV7RY3E7uLkycMpfefDOXJduTUFn63XLUb8BQS3lOPHv2zNgVduH8GUte/AQJxGVKqylRosQWOyfCq58D+3dTpw7NXfpngydfqrxbc2B/vQDdpm1Xqt/wA5c2VX+vLpn/GXjHbJo06ShW7FjEu3jVi5hYLFq2cjPFjh3H8BvL7ekCC5YsKuXKnc+4jZw/K3yk/PQpvb9Kd0ezWcBlIVcXuvf8jCpXqWX6uOQ5vnLlIqVPn9Es7ukIPAu/Q4dPNMvKCN+e3qZVQzpx/Ig0mc8Mr2emaV8vcHHlsGnjGur3mat/UXd9cIN1a5Wj69evmm3LyAsvvEAbNuvH7GlXddn3KlKfvl/JZnx69u3TnTZvWqutk/2NnMSibty48bT5/gqinuamYKFiNGzEJG1/OqOvLL+ePoG+Ef9zF/j/F7r3+Izy5StECcX/N/A8sbsJ9hOrE+i5HU/+Ut31AzsIgAAIgAAIgAAIgAAIgAAIgAAIRGUCQSeIPnr0yBCN+PipDOUqVKWPP3G9YEfm258stPEuObnD1J7P6UyZstKEyXOIRSIZPAmVLMTNnf89pUj5fEcb9zNo4Me0fu13sgnz2blLb6pRq4GZViPh1c+MbybR9KnWC53ke7CgOG7CDJm0PIcO7m+Ithbjf4kiRUvQ4KHjXbLu3btLDYQfVd2RcJfCGoN6FP7kyWPUsnldTal/Tbx7M3XqtPTbb3fF/+5RnDgvaHdQcumkSV+hMu9VoF//94txMz2LUBwGf/kZff/dUiOu+w8fnc+fvwjxTtbjxw/T38/+NgTbmDFjGsU3blhN/fv21FUldvGwYNFqrdB34cJZai6OVT99+tSlbu06jahDp16m/ZdffqYPmtSke/esx85TpUpDU79eqN01eOvWDapXu7y2fW54jrjkKm26DGYfMsKXl7kToVOnfo1mzV0hxNpYsrjXT9412bnTh3T82GFtHb54i3dR58iZxyV/nfi7GjSgt4udDZ58iHqaG57/WbOXGXOkbVgxhsRy2teLKEtW625P3h1au+b7xsVOSlMuUf5xIHHiJHTnzq9GHv8g4O5v59VXU1CFitXozRx5KH+Bwi5twQACIAACIAACIAACIAACIAACIAACIGAlEFSC6Px5M2jhgpmGeKUOgwUwFkzSpXud6tRrbOwyVPNlnHdErhUiCu/Au3zpgjS7fbJwVb1GPWrS9N+LWzwJldwIl2/RogNleD0TnRc7QrduXk979uxwaZ+P+Hfo2NPtseuw7mf5skW0fdsG2rd3l2UXpv1F02fISAULFqNWbTobN7HzLrWfftxKfNTeU8iUORsVKFiEWrfpYinGl8oM7N+bHj9+ZLGHlKhavQ51697HLMY7KVu3bEAnTxw1be4i2bLnIBZT24jyIYWRo6dRvvyFjGKHD++n9m2ahFTFzOedfexm4fy5M7R2zUrauWObsTvYLGCLJEv2KhUt/g41btySWFxVA+/A5Yu/dEerc+XOS++WKU/3hO/NNWtW0I3r19SqxALi4GETiEVRNZw7d1q4H5hNP2zfRH/8/ruaZYnz0esS77xLdcVlX9zWwQN7afmyhfSD8Nv65PFjS1k1kSJlaipS5G1q1rwtJUyYSM0KMf7kyWMa8lU/g5u7wvwufJQ8cZKXjcvJWEB1JxDybtqvxCVr6o8T3O62rRu9mhvehcz+VzNmzGJ89u3v5C3LF+LGpeLFS1GVarUpV668ZjMrli+iYUNcXWWYBWwRviTs6tXLxDtiPYW3S5Smz78c7akI8kAABEAABEAABEAABEAABEAABEAABASBoBJEPfnRk7M5fORkIcYVlUnLc/bMqTRlsm+CAQtQ4yb8e4N3SEKlpTNNgn1VtmjV0eUWdHvRsO6Hd1fyLktvw/pNe4zdjO78auraYZGaLyyyh8uXL9LnYlefN/3zLrly5auKHYL9XcRjPsLdulUDevjggb0LM51XHDvuL9wY8K4/3q3JOwPdhXdKliU+Cq+KeV9+3odWr1rmropp58/bRx8PpGTJXqGBYmy6HcFmYVvE3U7G27dv0ldffCZE6522Gvoksyol3Eb06NnX5VZ5rsG7XXnXq7dh4OcjiJnwDmLeSextmDV3ucV1gLf1uBwf/+e+PO3c9tQe/602aNjc8EXLPOzB17nh+j/scP078ZVl8xbtqWmz1pbX4R8HvhCXhXn6/HIFFr8//nQQfdSzAwRRC0EkQAAEQAAEQAAEQAAEQAAEQAAEQMB/AhBEQ2DnrSDKt9IfE7vWrl655NJi8uQpqUTJMoZYw8dgQwqeBFEn+gmkIMpjZ5+bc+dMpy2b1xk7dZ88eWJBwmJqkaLv0IdCSHJ3+zxX4CPLI4YNot1i59zfok0ZeGdr9Rr1qUrV534+2dUCX67EfaqBdza2at2J2AesPfBOVN7NN3XyGONovJrPrhTSZ8hE5StUo6piB6AMvopu7gRRbo9dLny3crEhFJ4XAjBf1GQPfJSaBdl69ZtqL+OR5X0V8QIhiPK78ph/2L7Z2Il84MAeunXzuhyC5cmC58svJyP+20qd5jUx17XFkfHcljL2hK9zw/XDShDltvnHAb5Uil0usOsANbDbgrp1m1DFyjUMs/3HIBbuuQzvik+X/nUjzjtak4gdtAggAAIgAAIgAAIgAAIgAAIgAAIgAAKeCQSVIOp5KGGf60mo5EtlWFS7ePEc3bxx3TjuzMd72b8fH/f1JYRXP768U1iVZV+Z7L6Aub0obpjno94pxM3ivvij5CPXVy5foocPH9CrQiDjnZruAotQfKw9fvz4lEUcwZY+Q92VZzsLtjduXKPr164Yt7qzSJsmTVqXXaue2nAi79dffxGuGM7SnV//Z7w3jzODEGVZQI6s4X//+9kY72+//UZ//HHf2MHLc/zKK8l9+oxEZD4svF8Rn0s+ih8v3ovGUX/1gi5+9107f6BfxbynFAI+C6De/LASkceMdwMBEAABEAABEAABEAABEAABEACBQBKAIOoD/ZCESr5t24kQXv048a5oAwRAAARAAARAAARAAARAAARAAARAAARAAASCiQAEUR9mK7yEyvDqx4ehoygIgAAIgAAIgAAIgAAIgAAIgAAIgAAIgAAIRAoCEER9mMZFC2bR2DFDtDX4Qh72Y+hECK9+nHhXtAECIAACIAACIAACIAACIAACIAACIAACIAACwUQAgqiXs8W+Lnt0a+P21u/ib5emQV+MDLU/x/Dqx8thoxgIgAAIgAAIgAAIgAAIgAAIgAAIgAAIgAAIRCoCEES9mE6+nXzf3l3EF7x4CnyBUrG3S1HnLr09FXObF179uH0BZIAACIAACIAACIAACIAACIAACIAACIAACIBAJCcAQdSLCS5TKp9xu7gXRY1b5Rcv2+BNUZcy4dWPS8cwgAAIgAAIgAAIgAAIgAAIgAAIgAAIgAAIgEAUIQBB1IuJblC3Ej169JcXJYmSJXuVJk6Z41VZe6Hw6sfeL9IgAAIgAAIgAAIgAAIgAAIgAAIgAAIgAAIgEFUIQBCNKjONcYIACIAACIAACIAACIAACIAACIAACIAACIAACBAEUXwIQAAEQAAEQAAEQAAEQAAEQAAEQAAEQAAEQAAEogwBCKJRZqoxUBAAARAAARAAARAAARAAARAAARAAARAAARAAAQii+AyAAAiAAAiAAAiAAAiAAAiAAAiAAAiAAAiAAAhEGQIQRKPMVGOgIAACIAACIAACIAACIAACIAACIAACIAACIAACEETxGQABEAABEAABEAABEAABEAABEAABEAABEAABEIgyBCCIRpmpxkBBAARAAARAAARAAARAAARAAARAAARAAARAAAQgiOIzAAIgAAIgAAIgAAIgAAIgAAIgAAIgAAIgAAIgEGUIQBCNMlONgYIACIAACIAACIAACIAACIAACIAACIAACIAACEAQxWcABEAABEAABEAABEAABEAABEAABEAABEAABEAgyhCAIBplphoDBQEQAAEQAAEQAAEQAAEQAAEQAAEQAAEQAAEQgCCKzwAIgAAIgAAIgAAIgAAIgAAIgAAIgAAIgAAIgECUIRBlBNF//vknykwqBgoCIAACIAACIAACIAACIAACIAACIAACIBD1CESLFi3qDdqPEUc6QRTCpx+fAlQBARAAARAAARAAARAAARAAARAAARAAARCItAQglFqnNlIIohBBrZOKFAiAAAiAAAiAAAiAAAiAAAiAAAiAAAiAAAjoCEAcJQpaQRQiqO4jDRsIgAAIgAAIgAAIgAAIgAAIgAAIgAAIgAAIeEcgqoqjQSWIQgT17sOMUiAAAiAAAiAAAiAAAiAAAiAAAiAAAiAAAiDgC4GoJI4GhSAKIdSXjy/KggAIgAAIgAAIgAAIgAAIgAAIgAAIgAAIgIB/BKKCMBrhBVGIof59eFELBEAABEAABEAABEAABEAABEAABEAABEAABPwhENlF0QgriIaVEBpW7frz4UIdEAABEAABEAABEAABEAABEAABEAABEAABEAgtgbASMMOq3dCON7T1I6Qg6pRo6VQ7oYWM+iAAAiAAAiAAAiAAAiAAAiAAAiAAAiAAAiAQngScEjOdaic8xx5SXxFKEA2tgBna+iHBQj4IgAAIgAAIgAAIgAAIgAAIgAAIgAAIgAAIBCOB0Aqboa0fkZhFGEHUXzHT33oRaRLwLiAAAiAAAiAAAiAAAiAAAiAAAiAAAiAAAiAQXgT8FTf9rRde4/K2nwghiPojavpTxw7FiTbsbSINAiAAAiAAAiAAAiAAAiAAAiAAAiAAAiAAAmFNwAlx0p82/KkT1ix8bT/ggqivomRYl/cVIMqDAAiAAAiAAAiAAAiAAAiAAAiAAAiAAAiAQEQi4KtoGdblIxIbfpeACqJhIW762mZEmxC8DwiAAAiAAAiAAAiAAAiAAAiAAAiAAAiAAAg4ScAbwdObMuo7+VperRvoeFAIot6InN6U0cH2t56uLdhAAARAAARAAARAAARAAARAAARAAARAAARAIKwJ+CtGelPPmzI8Pm/LhTULf9oPmCDqrRAZUrmQ8hmKN2X8gYc6IAACIAACIAACIAACIAACIAACIAACIAACIBCRCHgjVIZUJqR8OV5vy8nyEeUZEEHUW4HSUzlPeQw3pPyIMgF4DxAAARAAARAAARAAARAAARAAARAAARAAARAICwIhCZae8j3lqe/qbTm1TqDj4S6IeitUuiun2h88eEC3bt2g3367R3/99RdE0EB/mtA/CIAACIAACIAACIAACIAACIAACIAACIBAhCTAwuULL7xACRMmouTJU1K8ePHM93QnarqzmxX/i3hbzl4vUOkIKYiqoqcKRrVfuXKZ7t+/R2nTpqV4ceP+57fgH7U44uFAYPjwodStW49w6AldgAAIgAAIgAAIgEDkJID1VOScV4wKBEAABEAABCIegWjGZsIHDx/S5cuX6aWXEtFrr6U1X9OdqOnOblYUEW/KqOUDHQ9XQVQVNN0N3F0Z1X7mzClKnDgRvZwkiWgGIqg7luFhxwI+PCijDxAAARAAARAAgchMAOupyDy7GBsIgAAIgAAIRFQC0ejXO3fo7t17lDlzVvMl3Qmb7uxmRRHxpoxaPpDxCCWIqqKnCkW1887QuHHjCDE0sVoE8QARwAI+QODRLQiAAAiAAAiAQKQhgPVUpJlKDAQEQAAEQAAEgo7Ar3fu0sOHjxzZKQpBVDP9qqipyTZMujKqjX2GXrhwlrJnyybKY2eoO47haccCPjxpoy8QAAEQAAEQAIHISADrqcg4qxgTCIAACIAACAQLgWh04uRJypAhU4g+Rb0RPL0pExHIhNsOUVXY1A1cl2+3XbhwjpIlS0ovxourawK2ABDAAj4A0NElCIAACIAACIBApCKA9VSkmk4MBgRAAARAAASCjsCfDx7SL7/8T4iiGS3vrhM3dTa1Ukj5atlAxoNKED14cB/lzJFD+CQIJDL0rRLAAl6lgTgIgAAIgAAIgAAI+E4A6ynfmaEGCIAACIAACICAcwT+EYewjxw9Snny5LM0qhM3dTa1Ukj5atlAxsNFELXv9LQPWJdvt3F6166fqGCBAqI6jsvbGQYqjQV8oMijXxAAARAAARAAgchCAOupyDKTGAcIgAAIgAAIBCuBaLR7zx4qVKioy8VIOoFTZ1NHHlK+WjZQ8QgpiOrEUAb0ryCaP1Cs0K+GABbwGigwgQAIgAAIgAAIgIAPBLCe8gEWioIACIAACIAACIQJgV2791DhwsWMtu2CZkhp+wvZy9vzI0I64IKoXfxkKHabTEMQjQgfGes7YAFv5YEUCIAACIAACIAACPhKAOspX4mhPAiAAAiAAAiAgNMEfBFEuW9PoqenPKff29/2wlwQlWKmuxe053tKQxB1RzFwdizgA8cePYMACIAACIAACEQOAlhPRY55xChAAARAAARAIJgJqIIoj8MuaoaUto/dXt6eH+g0BNFAz0CQ948FfJBPIF4fBEAABEAABEAg4ASwngr4FOAFQAAEQAAEQCDKE4Ag6vBHwL7jU21el6fa7HHeIVqoIF+qhBBRCGABH1FmAu8BAiAAAiAAAiAQrASwngrWmcN7gwAIgAAIgEDkIcCCqP1SJXWXpxqXo9bZvMmTZQL5DOgOUVXwZAie0pwHQTSQHxV931jA67nACgIgAAIgAAIgAALeEsB6yltSKAcCIAACIAACIBBWBEISRLlfuwBqT6vv5ilPLReoeJgKonaB0z5Ie76aVuNcj9MQRO0EA5/GAj7wc4A3AAEQAAEQAAEQCG4CWE8F9/zh7UEABEAABEAgMhDQCaI8LlXYVOP2PB0De3ldmUDZAiaI2gVPBqDadPHdu3dQwQL5A8UK/WoIYAGvgQITCIAACIAACIAACPhAAOspH2ChKAiAAAiAAAiAQJgQkIIoN64Kme7i8iXUfGmTT095skygnhFGEFUFUIahpmUcgmigPibu+8UC3j0b5IAACIAACIAACICANwSwnvKGEsqAAAiAAAiAAAiEJQFvBFHu3y5y2tPqO3rKU8sFIh7hBVEphjIcCKKB+Ih47hMLeM98kAsCIAACIAACIAACIRHAeiokQsgHARAAARAAARAIawKqIMp9STFTPmX/IaVlObUN1RZR4hFSEFVFUDUOQTSifGyevwcW8M9ZIAYCIAACIAACIAAC/hCI6OupK1eu0NWr1yxDe+utPBQ3blyLDQkQAAEQAAEQAIHgJeBOEOURqSKoGrfn2UdvL2vPD2Qagmgg6UeCvp1cwO/YsdPiKiFx4kSUPXv2SEDJ8xBOnjpFd36947mQl7np0qWjVKlSelkaxQJF4MaNm3Tx4kVL9/nz56fYsWNZbEiAAAiAAAhEDQJOrafu379PR48es0BLmzYtpU6dymKzJw4cOEgPHz40zXFeiEP58uY10198+RWNHDnKTHPkpx9/oMyZM1lsoUm8lja95R3atG5NAwb0C02TRl3dv7n+NpokSWLKli2bv9VRL5wI/Pnnn3To0GFLb1myZKakSZNabEiAAAiAAAhYCUAQtfLwO6Xu7NQ1Ys9X07o42/bs2YlLlXQwA2hzagHPQ0iePBU9+/uZOZp3SpSgb79daKYja6Rhw8a0bv16R4b32Wd9qEP7do60hUbCjsDEiZPos779LB0cP3aEXnnlFYsNCRAAARAAgahBwKn11O7du6lipSoWaJ983Js6d+5ksdkTBQsVoQsXLpjmVClTCUFpv5n+/IsvadSo0WaaIz/+sJ1YZHIqpE6Tlh49emQ217p1Kxo4oL+Z9jei+zfX37ZKly5NC+bP9bc66oUTgSNHjlLpd8tYepsyeRJVq1bVYkMCBEAABEDASoAF0YIFi5i7QdXdne7i3IKaZ23x31RI+bo64WELsx2iqqhpH4guT7Xp4myDIGonGfi0Uwt4Hsmrr6akv//52xwUBFEThdeRPn0+pY4d2ntdHgUDQ2DChInUt5/1S96xo4fF38CrgXkh9AoCIAACIBBQAk6tp3bt2k2VKvsuiBYoWNhyciFlipR0+PABkwkE0X9RlCpVihYumGdyQSRiEjh8+Ai9W6as5eUmT5pI1atXs9iQAAEQAAEQsBLwVxDlVjyJnp7yrG8QvqkIIYiqAigPX6blU9ogiIbvh8Ob3pxawHNfEES9Ie65DARRz3wiSi4E0YgyE3gPEAABEIgYBJxaT0EQdZ1PJ3eIQhB15RsRLRBEI+Ks4J1AAASCgYBdEOV3lmKmfMpxhJSW5dQ2VFtEiEc4QdQugkpIbIcgKmlEnKdTC3geEQTR0M8rjsyHnmF4tABBNDwoow8QAAEQCB4CTq2nwkoQ1fkQxZH54Pl8RbU3hSAa1WYc4wUBEHCKgCdBlPtQRVA1bs+zv4+9rD0/UGkIooEiH0n6dWoBzziiqiDq6aMwavQY+vzzLyxFVq5YToULF7LYkAguAhBEg2u+8LYgAAIgENYEnFpPhZUgGtbj5/bDyoeop3ffu28flS9f0VKkV88e1L17N4sNieAiAEE0uOYLbwsCIBBxCEAQdWgu1J2e9ibteWraUxw7RO0kA592agHPI3FaEH38+DGx8LR//wE6feYM3bx5k15//XXKkjmzcLReimrXqmUB2KNHLzpz9ozFNn/eXIoXL55p++OPP6hBw0ZmmiNjRo8ivsFVhmfPnlHduvXp8ZPH0kQffvghVapYwUx7G/FXEOV3mDZtOvEXo1OnTtO169coffr0lC1rVnr33dJUq1ZNl1c4d+48deve3WLv2aMHnTx5kpYsXWY848ePT2+88QbVqFGNatWsafxCxH+zy5Ytp+lff0Nnz54VPi+I8uZ7i0q+8w598EEzihkzpqVNTtQRfP766/lttjwX74jykydPMS6Yun37ttFPzpw5qFvXLh5vBXVqrJ9++gnFiR2H1q1bT2fPnaWfb/8shiIGIwLn5c+Xz4jzf/gL1MwZs+josWN05coVKla0KJUqXYqqVqlCTZs1M8txpFnTplS1ahWq36Ah8a2nHPjG20uXLhlx+Z98on31lvmMr2ck/vviG4MbNW4iixnPxo0aiTmobrF98mkfOibeR4ZcOXOZt/MuX76CvpkxQ2YZT/5s796zh7Zt3U7nz5+n+7/fN/MXLphPL7zwgpm+d+83GjduHB0RNxefFp8nLps1SxbKmi0rNWzQgPLmfcssiwgIgAAIgIDvBJxaT4WVIMr/zs+YOdMysNmzZtJLL71ksfG/FyNGjKSDhw4Z/yZlFeuOMrzuqF1L+N5cSD/8+KNZPnWq1DR+/FgznTZdBnrw4IGZbtumDb39dnGaOXOW8Gd6xPi3J+9bb1FxYWvdqiXFiRPHLOtvJDSC6Nq16+i7776nk6dO0blz54yLEXmdlS9/PmrTurXl33T5fvb1T9WqVSnpyy/T3Hnz6ciRI8b4eZ313ntlqWmTxiZfXsvypVZ8WdDde3cpd+7cVED007ZdW0qSOLFs3nwOGvS5sVaRhmzZstFnws/87NlzaPHiJXTq9GnKmDEjvSn64rVanjy5ZVHt06mxlnv/PVqxYiUdP3GCrl+7Tk+fPTX6Yw7Nmj5f6/A6cOR/4z0hyjIT/hzVqVObhg0bQefOnzPfk9dnvE7jXcx8qRiHP/98ID4z1lvmM2fKREmTJTXrcUSudzp07GSs52TmW3neor59+8ik8VwgPr/zFywwbTGix6ClSxebad3cejtef9ayZseIgAAIgICDBCCIOgRTFTbtTdrz1LQuLm0QRO0kA592agHPI3FSEGVx74PmHxoinjtKFStUoNGjR5qLzWHDhtPgIUMtxb/5ZjpxORmWLFlKrdu0lUnj2b9fX2rbto1p27lzF1WuYr3FctfOnwwx1izkZcQfQfTnn3+mFi1b0Y4dO932wgIkz50qeh06dJjKlH3PUoe/bKg3vqqZlSpVonFjR4uxt6dVq1erWWacF7B8q2fmzJlMG0fsX3oyZMhAV69cpSdPn1jKcYJvup0/fw7xYt4enBwri9qXL1+2d2Gk586ZTWXL/ntb6aJvv6XOnbpq37VIkcIu3Pv17Uvt2rWhDK9not9//13bvs6YK1cu2rhhHd25c4eyZM1uKcIL/04dO1hsVapWs/T9dvHitGTJt0aZ8eMnUr/+1kuc+IcB/qFAFy5dPE8vvviikXXgwEHxZelDun7juq4o8RcC/tLQpk1rbT6MIAACIAACIRNwaj0VVoLouHETqP+AAZaBnD51gpIkSWLazp49R3Xr1bcISzLzlVdeoRQpUlhEKv7hb+fO5wKpfW2QWAh9d+/elU1Ynvwj79QpkylXrpwWu68JfwTRx4+f0GeffWb8EOyuv9zi3/BvvvmaUqdOZSliH6OndRb/O7148SJauOhbYoFTF14WYuqokSPofSE0qoF/hN2wYaNpSpo0qXFHw6+//mraZCRWzFhiA8E448dbaZNPJ8eaJnVq4wfhZ38/k82bTxa/+/fva6SPHj1K9eo3JBZF7eG1116jJ4L/zVs3zawyZd6leXPnUKNGTWjtunWm3ZuIXO8UL17CEIllnZIlS9KihfNl0ngOGTKMhg4bZtp4/XPr1vO1kX1uvR2vv2tZ80UQAQEQAAEHCUhBlJuUx9zlU7XZ47o022RQ25C2iPAMiiPzEEQjwkdF/w5OLeC5dacEUV6Qv1OyND1+/Ej/0oqVhbhtWzcbwuCFCxeoYKEiSq7YyVi7ttgZN8a0fdC8hdgN8J2Z5kj+/Plp9arntr59+9OEiRPNMryg/fHH7Wbal4ivgijvJixWrIRloeiuv4IFC9L3360ws3WCqJnpJpIieYoQ+3rzzTcNYS9GjBhmK/ZFo5nhJsLi3A8/bCNeXMoQmrEePHiIyr73vmwqxOec2bOM3Rq8E4SFdl+CFETTpX/d3CHqTf2cOXPSpo3rvRZEK1epJr5Y7jSbLl6smLlzQfdF1iyoiVy8cI54N/C+/fvFDwKVSfflxV6tq9jJ2/ujXnYz0iAAAiAAAl4QcGo9xTvkKlay3jLfsGEDqlmjhse34B83b9y8YZZJnSoVHTy430yPGTuOBg4cZKY5curkcWJBjsMvv/xirKF8+eEvJEHUaNjDf1gc27njJ+1OTA/VLFn+CKJ16zWgTZs2WdrRJRInSkw//bSdkiVLZmb7uv7xZp3FP27v3rWTUqZMYfZjF0TNDA8R+yYALhqasb6WNj09fPj8NJCHro0dtQMG9KOrV69SMSFOqjuFPdXjPCmINmjQiNZv2BBScUu+XO94I4gOHjyUhg0fbtaPHi26EG2f/834M97QrGXNF0EEBEAABBwkAEHUIZhSxNQ1Z89T07q4tGGHqI5mYG1OLeB5FE4JonZhKCRCXbp0po97f2QUsy+IEiVMJI6cHycW8/hX8kyZs2gXaSdPHDOPdbOoyuKqDN26daWPevWUSZ+evgqifGx6ypSpLn2w8Ku+kywwduwYqiuOH3HwRxCV7YT0HD5sKDVu/NzVgK9fCLh93tWqHq0LzVj9EUR5t0ChwkWMxXpI41XzpSCaPkNGYpcL3gZfd4jaP/ehFURZhC79blninRpqiC3cCvDxPvWLM+fzDpMff9xG/FlDAAEQAAEQ8I2AU+spnSDq25v8W9pXQbRr1+40e84cn7oKrSDKnYX2MklfBdHVq9dQk6ZW1zj8HnzKhF3oyO8sbONQt24dGjtm9L8J8V9/1j9mZQ+R6tWqCbdDz3+M90cQZYGZTzTFihXL6Cm0Y/VHIGzTph0tXrLEw0hds6Qg2rBhY8PtkmsJ9xZfdoiGhSAamrWs+1EhBwRAAAT8JwBB1H92lpr2BYGaac9T07q4tEEQVSlGjLhTC3gejROC6LffLhb+lNpb4OQRfpaGDh1CmTJlFLsMfyT2E6QewWIhZ/v2rcKX0uvCL5HrsfnvVq6gQoUK0saNm8QRngaWtmVi5IjhxDsw2BdjocJFpdl4btm8kXiXpD/BF0GUfVi9U6IU/f3P32ZXfGx6xIhhxkKdd/vxQvPSpUtmPu9a2LN7p7Eb0J1IyEJkReH/9KzwjzV6uprb4gAAQABJREFU1BiLr0nZEO+CbdmyBSVIkMAQZLkvNZQvV074APvGNOm+ELAPzaFDvjJ8na5fv4G6duvuIiDybt7s2bMb/rpCM1ZP4i8LgewDLHac2Ob78hH1g+LoOC9c1cA7VlsJP2b8JWLr1m00Y8ZMC38uKwVR/pL69Om/x8RWrvyOvv7mOQ8uxzszeDeJDLxDk48Centk3pMgqjsyL/vhY4x89DBGjOjSZPjUYl9ZPXpad3zyHPfs0d34vPAY+POk7h4tVaqUqDvPbAcREAABEAAB7wg4tZ7SHZn37g2spVKmSCmOtx8wjZ52iLKv8bdLlDTLcoT/DeO1Efst5/VJhw6djDWSWsgbQZSPnjdr1tRw4zJl6jTaI3xfq0GeplBtvsR9EUTZN33BgoWFX/bnx6TZrQ8fN2eXOVevXSP2R2/fPbph/Trh8zOX8Vo6kZDXPy1bfGicIhk3foILJ67IP9B36NieMgm/n99/v4rYfY8amDfvdpRBJ4jyv/cszvLFnOxzvJNw/8M+09Xw5Zdf0IfNPxCbAEI/Vt1aj/vidTf7IE+QIL7ZNfsQzZ8vL5Us9a5p40jcuHGN9SX7CT1+/DhNnDiZ7v12z1JGCqL8Obvz6x0jjzcB8DpSDbxBgX8sVgOv73nTg31DhO7IfEiCqK/j5b5Ds5ZVx4E4CIAACDhFAIKoQySliKlrzp6npnVxaYMgqqMZWJtTC3gehROCaI0atWj7Dz+YUGLFik3Hjh6y+Lj6ftUqsbhubpbhSPdu3ahXrx7CKf55KlzEKmi2a9uW+vX7zFjk2i8UkI28V7YszZkzy7jEqW+/574aWSjbv8+6eJd1vHn6Ioh+NXiI8As6wtLsiOHDLDv21qxda1xcpBaSx8HZV+R775dTs+j9994TDvhnmjbdbgG+dOrQwQOUOHEioxzvpH0zR06L6My7Bnfv2mG2Y79JlkXIw4cOUMKECc0yc+fOo85dupppjsh5Cu1YdeLvSwleMnZX8Jc3XahUuaq4pGqXmcVHpfbu3WWIodLIPr5Gjxkrk8azr/Az1r691e+sL7fMOyGI6o7M85fMcePGUpYsmS3vKxP28fKXEv4sxIwRUxYRPzQMo592PJ9XzpDHz8xCiIAACIAACIRIwKn1VCAEUbtvRR7s0CGDqalySQ6LVSWEaCrX9FyGL7rkHYky2MVC9iF68MA+06c1ry/y5y9oOaHAR/b56L6/wRdBlH9Ur16jpqWrD8RFipUrVzJtLJa2b9/BTHOEL1ji4+Ac0ryWTlwq+ZcR5/+wb8/Dhw6ax/7Zn2Tu3Hld/JR/++1CIZ6VMOvxD/T8Q70ajh45RMmTJzdMfMHP5s2b1Wyyt8E/4hcpUtzyQ27hwoVp5YplxgaC0I7VPp/8Mp8PGmgI3HIXqvqCurUdC7i8y1aGLVu2UO069WTSePK6jS+KVIOvt8w7IYg6MV5f1u3qeBEHARAAAacIQBB1iKS64LE3ac9T07q4tEEQtZMMfNqpBTyPxAlBNJ9YKKsX49h3JnI//Hni48vyxm+21a0jjjSJC4I48C4H3u0gQ5o0aQxRky+2UXeWynx+svB64fwZY5Gm+nFUncSr5b2N+yKItm/fUTjeX+Rt02a5r776kpqLG0Z1IiELZnXEzbAyPH36lNKkSWfeCsr2smXK0Ny5s2UR49mqVRtaumyZaeNj1tevXTbT9kUj31jPOyzUwF98UqVOo5qMXbi84yQsxip3clo6VBIFxK6Qixcvmha771jOOCVuYC/+9vMvLGzTtRsRBFF1xwq/pz3kyZPXsgvGnu8u/cP2bZQ1axZ32bCDAAiAAAhoCDi1ngrEkflu3XrQrNnWdcD1a1eEyBfbMtJ3y7zn8VIlu1hYo3p1mjRpgqUNfV9XTUHRUtiLhC+C6Pz5C6hjp85etGotwpdQfj19qmG0r3/q1atLY0aPslSoWrW65cdG/tGYj3arYdas2dStew/VRGvWrKJ8efMaNrtgyr5Ijxw5aCnPCfuPn3xihE8OhcVY5U5Ol5f4z9ClazexucAqbOo+R5mzZLOsx3XtRgRBVPde6thDu5ZV20IcBEAABJwiAEHUIZJSxNQ1Z89T07q4tEEQ1dEMrM2pBTyPIrSC6LNnzyhVqtcsR3hbiCNIX3w+yAUS/yKuHhOSv4hzwREjRtKXXw221OFfqPmovQx8FP3goUOWW8PZH2fnTl0s/auLU1nXl6cvgqj9yLS3/XRo387wwbV//wF6v1x5S7XZs2a63FzKwjDvWpRBFZOl7eNPPqWp4mibDLyr8ObNazJJ9h2inTt3ok8+7m3mywjvklBvNy9dujQtmD+XQjtW3W7YGTO+pgrlreOX78FP+6VIdn9dXIYvk+Db5NUQEXaIjh03XuxOGai+Fp09c5oSJXq+I1fNZOE7Zao0lp08ar6n+IL586h06VKeiiAPBEAABEDARsCp9ZROEA3rS5Xs4hvvUuTdivZgv5gypB2irVu3ooEDnp+64fbsx5bZdvXKJeNyTI77GnwRRHV9e9PfW3ny0Lp1a4yi9vWPbox2Tuye54DYKauGVatXix24H6gmWvX9SipQoIBhs+8Q1f2IywXbtetgOX7Px9lv3Liq5WzpzE1CHatd4Ha3JpdN2T9HfMT/+LEjMtt8lipdxuLfPKLsEPV1vKFdy5pAEAEBEAABBwlAEHUIphQxdc3Z89S0Li5tEER1NANrc2oBz6MIrSDKbaRKndZyuzzvfOQdkPZQuHAxOnf+ua8l9QIa3W3zfDxa9c3JR8H27NlL3y5ebDbNot/TZ0/NNC/kjh09TNGiRTNtvkZ8EUT5CBEfJfI1NGncWPhOHUKBFEQ7dexA7KfTHnLkzE23bt0yzfLX9vAaq9mxiGTKlNXit6pKlco0beoUtQjdu/ebcfGWaowIgqjO99uF82cNn6/qu6px+5c2Nc9TfMrkSVStWlVPRZAHAiAAAiBgI+DUekp3ZJ5/cOQfHj0F+ykIX3yIshsidkckAx8D58sm7YEFPBbyZLALovZ/d3Rioe54/uVLF4jd9/gTfBFE2SUOu8bxNai+Ur0ZY1gIorxzlH+kt4fWrdvSkqVLTbM80RNeYzU7FhH758Pd56jEO6XoxIkTZtWIIoh6M7fmS4tIaNeyaluIgwAIgIBTBCCIOkRSipi65ux5aloXlzYIojqagbU5tYDnUTghiLIzdnYUL0PRIkVo+fLnCz22P3jwgDIKcevJk8eyGNl/tbYvtsyC/0VY6OQvHR+2aGnPMtPsV2rwYFcx1izgRcQXQdR+U6VuR4GnLsNTELUfGbP7KuX3vHv3HmXOktXyyvLLUXiNVe28bNn3jV3B0pY1SxbhY2ubTBrPvXv3UvkKz32JsVF3ZH7ixEn0Wd9+Rh35nyOHD1KKFClk0nw+evTI2FFrGkRE7upVbUWLFqczZ8+aJtVdhD+C6DslSxsXGMgGdTuBZR6eIAACIAACoSPg1HoqEILowIGDiP+dUQP79WT/nmqwi66qUMjlvBGUAimI6vyoH9i/V7gSsrr3Ucdsj3szRicEUftuS7608fjxI+YN8vK97G6icuTIQZs3baDwGqt8D3727z+Qxo0fr5ro9KkTlnsA+LKnTJmzGmt5WVD+WC7T/Dxy5CiVfreMaqKJE8ZTzZo1LDaZKFeuAqkXgqo7XWWZnj0/om9mzJBJSvhSQnH3wGkz7c3cmoVFJLRrWbUtxEEABEDAKQIQRB0iKUVMXXP2PDUt4/LJ9WUcgqiOZmBtTi3geRROCKItW7WmZcuWW6CsX7eW8uTJbdp0x4fZiXmjRg3NMiNHjqIvvvzKTKsR+Sv7H3/8IS4EyGzZOaqWW7pksbi1sphq8jnuiyCq8ydld6DPf0vTpk03xEb5MgULFaASb78drjtE7YIo76Ldtm2Lcbu7fC/dFyze7cu7fsNrrPJd+Kn7bC1buoSKFStqFrN/ieEMnSDKc9D7Y+uO2OXLllLRokXMttRI3nwF6MqVK6aJxe4tWzaZl1DpLnro0qUzfdz7I6OOP4Ko3Q8sL/x37PiBeOezDPw3MGHCJJk0nrVq1TBurbcYkQABEAABEPBIwKn1VCAEUd0liO3btaO+ffuYY16zZi01btLUTHMk2ARRvoSoUOHn/+bzGDp16kiffvIxR82wbt164Sv1+VHvlClTGD7QuYA3opl9LaH7gTukI/N2QZT7HiJONzVTLrravHkL1alrvaBI+jsNr7Hye8kwc+Ys6t6jp0waT3mZpjR+M2Mm9ezZSyaNp04Q5bsAWOxVQ4/u3UXd7qrJjLNvWPabKgOfDGM3B7lz5zJMv/zyi/AR/w79+uuvsojhnoDdFMjgzdzKsvwM7VpWbQtxEAABEHCKgE4Q5bblqVf5VG2ybzVP2uTTU54sE4hnNCGQ/BMWHXtq1p6npmVcPvndZByCaFjMVOjadGoBz2+RPHkqi/9NX9/s2tXLtG/ffqparbqlKgs5Xbt2FkeeMxk30E+aNNmSz7eY8i2nSZIkMe26Y/Mys0+fT6ljh/ZG0t1xl0QJE4kLdo5TjBgxZDW/nr4IouzXs2DBIpZj3Xxz+siRww2fjrdv3zZuQJ83b77lXeQNnuG5QzRtugyWX/f5hXgeunXtQunSpaNNmzZbfoXnfL64ih39p06dyvBhGh5j5X5l0O2W4M9Wjx7djJvmV6xYaTl2JuvpBFH+stSwUWNZxHjGjx+fcubMYdr4iyL/fXHQfbFJliwZ8bH9mzdu0tq161z+dtSj6/4Ioj/9tMPlbylr1qw0QrwT7yA5ffqMcaHD4cOHzXfmiK+7ZSyVkQABEACBKErAqfVUIARRFovyFyhkuaySp7FZ06bG+oOPN48QPzSrt6tzfrAJovzOOr+P/ONj48aNiP1vr1z5nbHzT3534TrqCQtvRDMnBNH6DRrShg0buXszsMjXoUM7sVYsaJwAGTlqtMtabOqUyVS1ahWjTniM1Xw5EeF1Kv8AzCdj1NCubVsqUqQw7T9wgEaNHO2yEUEniPIPtnyBqhp4/Pny56OYMZ+vzRcumG/4nx03bgL1HzBALU7sT7VCxfLEu2uXr1hhuciJC0qXU7KSN3Mry/IztOt2tS3EQQAEQMApAhBEHSKpLgTsTdrz1LSMyyfXlXEIonaSgU87tYDnkdh3iPo6OulUv0OHTrRg4UKvq48fP5Zq16rlUt5+ZFgW2PHTj0Jc/XeRNf3rb+ijj3rLLPOpuzXUzPQh4osgys0uWLDQcvlTSF3xIu/Agb3EYlx4CqL2HaIhvSfn210QhMdY7e9lP1Jlz9eldYLo2bPnqEhRz7uHc+XKRRs3rDOaZIG4br36uua1ttSpUtGPP24nvpmWgz+CKNfz9W+pZMmStGihVXDndhBAAARAAAQ8E3BqPRUIQZRHNkqIa59/4ZuboGAURM+dO2/sPFTdLnmeWRLHz7+n/PnyGcW8Ec2cEER1P6SG9J52V0DhMVb7O/FniD9LvgSdIMr1s7+Rg1is9xQuXTxvrJVu3rwp1mXFiYVUbwLvdNqyeSO98cYbZnFv5tYs/F8kNGtZe1tIgwAIgIATBCCIOkFRtCFFTF1z9jw1LePyyfVlHIKojmZgbU4t4HkUTgmid+7epSqVq9Kp06dDhKO7KVxW0i3u7Yt3vvCHL/6xh3lz5xAv0EIbfBVEuT/2a8q7FUMKvJibM3sWlS37r4+l8BREdTtEPb0vC7a8i/fVV1+1FAvrsVo6Ewk+Aleteg3jNnl7nru0ThDlsiF9WVEFUS7foaMQ+oXg7U2wH7/3VxDl3QsVK1ahs+ee+yZ11z/vsGYB1xdfau7agh0EQAAEohoBp9ZTgRJEeVdfufIVLbd/hzSH9jWVN4JSIH2IyvHwj+G9e39sfj+Rdt3T7jrAmzE6IYjqdojq3k+1zZ0z21wTSntYj1X2I58sSL7/fnk6feaMNIX4dCeI6nZ92huTgijbFyxcJH4I7mgvok3rjt97M7e6xvxdy+ragg0EQAAEQksAgmhoCf5XX4qYuubseWpaxuWT68s4BFEdzcDanFrA8yicODIfJ04cAwgvzD8Si9U5c+ZqAfHx6wH9+9KHHzbX5rPx0qVLxhEwtYDOV1Sp0mUsXwASJEhAp06eoNixY6lV/YrrbvlcuWI5FS5cyGN7U6dOo779BlgujlIr8HHr0aNGWkTbAwcO0nvvl1OL0exZM8XC9D2LLWu2Nyw+lNSjYLKg3VE8Hzu6ceOqzCb7DtF33nmH+EKiP//80ywjI7nFTsnp06cax9KlTX2G5VjVfmT81KnTVL9+A7p67Zo0mc8smTO7LOLdCaL379+nXr160+IlS8z6asQuiD558oQmT54qXCCMovu/31eLmnG+kZXnVYrcMkPnNzekW+Zl3ZD+lrhczpw5afq0KYa7A1kPTxAAARAAAe8JOLWe2r17N1Ws9O+RZ9m7N7fMFyxUhNhdkAypUqaiQ4f2yyTp/h2xX3jz8OFD4lvLV69ZY9aTERY/X076MvH7yZAtWzbaLvyHy5DmtXSWY/XyIkWZz0+dIHrl8kWKGzeuWszrOF+kw6c/1NCrZw/q3r2banKJ79ixk1q1bkP8w7gu8G3tXbt0om7dulqyvRlj8w9bGEfvZUWdD1GdG5/Vq76j/PnzG9XsP7pmypjJsOt+4GTf4JMmTnDr9z4sxyrHqD55fdSsWXPDzZVq5zi7gor3YjwLd3eCKJfnNdPQYSPcrodVQZTLf79qlXG5E38H0IWYMWJSr496Gq6zokePbinizdxaKigJf9aySnVEQQAEQMAxAhBEHUIpRUxdc/Y8NS3j8sn1ZRyCqI5mYG1OLeB5FMOGDae///bfpS37CY0ZM6YFyN59+2i/8CvKvzTfvHlLXIKUgfhIEF92lE74qgwpsL/R+/d/N4vVrFmdMmTIYKY5wk7p2XepDOnSp9UewZf5vjz5i8O2bT9YqtSrX5d4cRxSuHjxojg2/RPx8Wy+fTyZEMsyiqP+OXO8KS4CKuZy0ygfF5o92yogV69ejTJmfN3SFf/i/uDBA9P25ptvUPnyViHVziRGjOiWLwV2QbRz505Up3Zt2rp1Kx07fpz+98v/KFv2bJQnd256772yIfpiDauxmoO0RXgX8jrht/PosWNC/D5l+O8sXLgwtW3TmiZNmmIpXbJkCfMLiiXjv8Qx0cYJ4fyfP5+P/nruNyt58lcNn2T2OuzQf8uWrcacnjh+wvj/x2SvJKOUKVKK3cHNKYnwxWoPe/bsEWy3W8ydO3cUon1si81Tgv+WDuw/QGfOnKXrN27Qa+JWXf5s5M2bV/zvLU9VkQcCIAACIBACAafWU9euXSe7r/C33y5OhQoV9PgGfNnfnTt3zTIvvZRAiJutzLTu3xH2R2kXInnNvn79Bjpw8CAdP3Zc/NidnHLlykkVKpQn9ruu+p2uWKECffPNdLMPFq+ePHlqpvPnz0vsikUN7N+a/6eGLkJ4jBXLvx+hbwg/3PYfz/myRPZZGVK4e/eeWANuNv495rVAzFgxDX/1vC4qLtZZCRMmdGnCmzGyH1L+8VWGhAlfolatWsqk8eS1nf0S0QYN6lOqVCmNfLsgykLpnNkzxUVB6411Fovf6dOnN37QfK9sWeHHPZGlfXsirMZq70emnz17JoT1teK2+CNi08ExevjwgVh3vCbcVPUSa6At4kf2m7KosbavUaO6mbZHrl+/Idbp+0SdG+KEj/VIPK8/7RsY+AdoXseeEL5veR7u3rtnrKH5R+fatWtajsmrfXkzt2p5e9zXtay9PtIgAAIg4AQBCKJOUBRtSBFT15w9T03LuHxyfRmHIKqjGVibUwv4wI4CvYc3AfuxIt3O2/B+J/QHAiAAAiAAAoEiEMzrqe+++55OCkFQDR980JRYQJKBBTjehaqGLl06E19IhOA8gTp16xtirWw5n/Bhukb4MkUAARAAARAAAU8EIIh6ouNDnhQxdVXseWpaxuWT68s4BFEdzcDagnkBH1hyUbt3CKJRe/4xehAAARAAASuBYF5P8Q7LLl2tR8zZn3RrsauRT9WcPHWKpk2dTjdu3rAMmo/L87F5BOcJQBB1nilaBAEQAIGoQACCqEOzLEVMXXP2PDUt4/LJ9WUcgqiOZmBtwbyADyy5qN07BNGoPf8YPQiAAAiAgJVAMK+nHj9+bNzQffnyZeugPKRq1qhBEyeO91ACWaEhAEE0NPRQFwRAAASiLgEIog7NvRQxdc3Z89S0jMsn15fx3bt3UKGCBXRNwhYgAsG8gA8QMnQrCEAQxccABEAABEAABJ4TCPb1FO8CrVK5mvC3+NwP6fPRWWPx48enbVs3u70s0VoaKX8IQBD1hxrqgAAIgAAIQBB16DMgRUxdc/Y8NS3j8sn1ZRyCqI5mYG3BvoAPLL2o27vuUiW+BRcBBEAABEAABKIigciwnrp69Sr17TeAVq9abVw2qJvHUqVK0cgRwyllyhS6bNgcIqC7VIlvoUcAARAAARAAAU8EIIh6ouNDnhQxdVXseWpaxuWT68s4BFEdzcDaIsMCPrAEo2bvu3btJr5BVIY0aVJjp4iEgScIgAAIgECUIxCZ1lP37v1Gq1atIr7dO3r0aJQocWJ6OUkSQwQtWNDzbfdRbuLDaMAnT56kO3ee79Z96aUElCNHjjDqDc2CAAiAAAhEFgIQRB2aSSli6pqz56lpGZdPri/j8CGqoxlYW2RawAeWJHoHARAAARAAARCIqgSwnoqqM49xgwAIgAAIgEDEIQBB1KG5kCKmrjl7npqWcfnk+jIOQVRHM7A2LOADyx+9gwAIgAAIgAAIBD8BrKeCfw4xAhAAARAAARAIdgIQRB2aQSli6pqz56lpGZdPri/jEER1NANrwwI+sPzROwiAAAiAAAiAQPATwHoq+OcQIwABEAABEACBYCcAQdShGZQipq45e56alnH55PoyDkFURzOwNizgA8sfvYMACIAACIAACAQ/Aayngn8OMQIQAAEQAAEQCHYCEEQdmkEpYuqas+epaRmXT64v4xBEdTQDa8MCPrD80TsIgAAIgAAIgEDwE8B6KvjnECMAARAAARAAgWAnAEHUoRmUIqauOXuempZx+eT6Mg5BVEczsDYs4APLH72DAAiAAAiAAAgEPwGsp4J/DjECEAABEAABEAh2AhBEHZpBKWLqmrPnqWkZl0+uL+MQRHU0A2vDAj6w/NE7CIAACIAACIBA8BPAeir45xAjAAEQAAEQAIFgJwBB1KEZlCKmrjl7npqWcfnk+jIOQVRHM7A2LOADyx+9gwAIgAAIgAAIBD8BrKeCfw4xAhAAARAAARAIdgIQRB2aQSli6pqz56lpGZdPri/jEER1NANrwwI+sPzROwiAAAiAAAiAQPATwHoq+OcQIwABEAABEACBYCcAQdShGZQipq45e56alnH55PoyDkFURzOwNizgA8sfvYMACIAACIAACAQ/Aayngn8OMQIQAAEQAAEQCHYCEEQdmkEpYuqas+epaRmXT64v4xBEdTQDa8MCPrD80TsIgAAIgAAIgEDwE8B6KvjnECMAARAAARAAgWAnAEHUoRmUIqauOXuempZx+eT6Ms6C6JMnf+mahC1ABK5fu0apUqcOUO/oFgRAAARAAARAAASCnwDWU8E/hxgBCIAACIAACAQ7gZgx41DBgkWMYUSLFs0cjozLJ2eocV3arKwpq+YFMh5NiI3/hMULeGrWnqemZVw++d1knAXRvG/lDovXRZt+Ehg9ehR16tTZz9qoBgIgAAIgAAIgAAIggPUUPgMgAAIgAAIgAAKBJrBv/0EIok5MghQxdW3Z89S0jMsn15dxCKI6moG1YQEfWP7oHQRAAARAAARAIPgJYD0V/HOIEYAACIAACIBAsBOAIOrQDEoRU9ecPU9Ny7h8cn0ZhyCqoxlYGxbwgeWP3kEABEAABEAABIKfANZTwT+HGAEIgAAIgAAIBDsBCKIOzaAUMXXN2fPUtIzLJ9eXcQiiOpqBtWEBH1j+6B0EQAAEQAAEQCD4CWA9FfxziBGAAAiAAAiAQLATgCDq0AxKEVPXnD1PTcu4fHJ9GYcgqqMZWBsW8IHlj95BAARAAARAAASCnwDWU8E/hxgBCIAACIAACAQ7AQiiDs2gFDF1zdnz1LSMyyfXl3EIojqagbVhAR9Y/ugdBEAABEAABEAg+AlgPRX8c4gRgAAIgAAIgECwE4Ag6tAMShFT15w9T03LuHxyfRmHIKqjGVgbFvCB5Y/eQQAEQAAEQAAEgp8A1lPBP4cYAQiAAAiAAAgEOwEIog7NoBQxdc3Z89S0jMsn15dxCKI6moG1YQEfWP7oHQRAAARAAARAIPgJYD0V/HOIEYAACIAACIBAsBOAIOrQDEoRU9ecPU9Ny7h8cn0ZhyCqoxlYGxbwgeWP3kEABEAABEAABIKfANZTwT+HGAEIgAAIgAAIBDsBCKIOzaAUMXXN2fPUtIzLJ9eXcQiiOpqBtWEBH1j+6B0EQAAEQAAEQCD4CWA9FfxziBGAAAiAAAiAQLATgCDq0AxKEVPXnD1PTcu4fHJ9GYcgqqMZWBsW8IHlj95BAARAAARAAASCnwDWU8E/hxgBCIAACIAACAQ7AQiiDs2gFDF1zdnz1LSMyyfXl3EIojqagbVhAR9Y/ugdBEAABEAABEAg+AlgPRX8c4gRgAAIgAAIgECwE4Ag6tAMShFT15w9T03LuHxyfRmHIKqjGVgbFvCB5Y/eQQAEQAAEQAAEgp8A1lPBP4cYAQiAAAiAAAgEOwEIog7NoBQxdc3Z89S0jMsn15dxCKI6moG1YQEfWP7oHQRAAARAAARAIPgJYD0V/HOIEYAACIAACIBAsBOAIOrQDEoRU9ecPU9Ny7h8cn0ZhyCqoxlYGxbwgeWP3kEABEAABEAABIKfANZTwT+HGAEIgAAIgAAIBDsBCKIOzaAUMXXN2fPUtIzLJ9eXcQiiOpqBtWEBH1j+6B0EQAAEQAAEQCD4CWA9FfxziBGAAAiAAAiAQLATgCDq0AxKEVPXnD1PTcu4fHJ9GYcgqqMZWBsW8IHlj95BAARAAARAAASCnwDWU8E/hxgBCIAACIAACAQ7AQiiDs2gFDF1zdnz1LSMyyfXl3EIojqagbVhAR9Y/ugdBEAABEAABEAg+AlgPeXcHN6/f5/OnDltaTBt2rSULNkrFhsSIGAngM+OnQjSIAACUY0ABFGHZlyKmLrm7HlqWsblk+vLOARRHc3A2rCADyx/9A4CIAACIAACIBD8BMJqPfXXX3/RokUL6OGDBwakpEmTUY2atcIU2J07d2j37p105vRpunr1Cj158oRSpkpF2bO/QUWKFKOXX345TPvfvXsXtWn9oaWP3h/3oVq16lhsnhL79u2lli2aWYpMnDSNChYsZLGFZWLypAk0efIESxd79x2mGDFiWGzeJk6dPEl79uyiy5cv0a3btyhRwkSUKnVqKpC/IOXO8xbFjBnT26aCqty5c2fp3r175ju/8MIL9OabOcy0GnHis6O2hzgIgAAIBBsBCKIOzZgUMXXN2fPUtIzLJ9eXcQiiOpqBtYXVAj6wo0LvIAACIAACIAACIBB+BMJiPbV27WoaMXwo/e9/v5gDyZo1G82b/62ZdjJy795dGjN6FC1fvsRjs2XLvk9t2rantGnTeSznb+auXTupbZsWluof9f6Uateua7F5SkQmQZQFwYED+9HRI4fdDjlx4iTUpOkH1LBhY4oePbrbcsGY0blze9q+bav56unSpaely74z02rEic+O2h7iIAACIBBsBCCIOjRjUsTUNWfPU9MyLp9cX8YhiOpoBtYWFgv4wI4IvYMACIAACIAACIBA+BJwcj117dpVQwDbu2e3yyCyZMlK8xcsdrGH1nD8+DHq1LEd3bnzq1dNxYwZi7r36OWTSOlVw6KQE6JWZBFE16xZRZ/1+YSePXvqFb78+QvQiJFj6MUX43tVPhgKde4kBNHtW81XZSF+2fLvzbQaceKzo7aHOAiAAAgEGwEIog7NmBQxdc3Z89S0jMsn15dxCKI6moG1ObmAD+xI0DsIgAAIgAAIgAAIBIaAE+upx48f07Rpk2nWzG+I47oQFoLo+fPnqEH92m771L2HtA0dNpJKly4jk448nRC1IoMg+uOPP1DHDm18ZsqiKLsHiCw7RSGI+vwRQAUQAIEoTACCqEOTL0VMXXP2PDUt4/LJ9WUcgqiOZmBtTizgAzsC9A4CIAACIAACIAACgSXgxHrKLvzoRpRN+PGcO3ehLstvW/PmTejggf0u9V9+OSnlEb4pX02enI4dPUqHDx90KRMnThxa+d0aRy880vmBjGpH5p8+fUrVq1eia1evujCPFi0asTDOvl5//vm2Sz4bBg36ispXqKjNCzaj/e/C0w5RJz47wcYH7wsCIAACKgEIoiqNUMSliKlrwp6npmVcPrm+jEMQ1dEMrM2JBXxgR4DeQQAEQAAEQAAEQCCwBJxYT7X4sBnt37/X40CcFkT5SPYnH/ey9Mk7C7t260n16ze02E+ePEFdu3Sk2+JCHzW0bNmGWrdpp5oCHg/2HaLz58+loUO+dOHY/MOW1LhxM0qQIIGRx+4Vhg0dbDlSzhksGrKfTRZPgz34IogG+1jx/iAAAiAQWgIQRENL8L/6UsTUNWfPU9MyLp9cX8YhiOpoBtbmxAI+sCNA7yAAAiAAAiAAAiAQWAJOrKdUQTR+/ATUtFlzWvztQrp166Y5OCcF0Qd//klVq1YQlzb9z2yfIwMGfkEVK1a22GTi9u3bNKD/Z5bj9ZkzZ6EePT8yivzxxx/UpXMHWdx4Vq9Rk8qVq2CxsYh3+vQp05Yte3bq2rWHkb506SJ9PmiAmccRFlzz5s1nsfH3i3lzZ4ub13fTqVMnDfGvRImSVLRYMYoX70Wvb5nftm0Lbdy4gc6Ly4suXbpESZMmpddfz0g5c+USlxQ1oVixYln6VRO///47TZ82hdgH65kzpyllypRUpGgxKvPue8Tt+nPL/G+/3aPKlcrT77/fV7uizl26CzG06f/Zuw44KYqnWwqCCoIEFcUACiqCoJJzzjnnnHPOWZCcc84555wzShJQDIAYMKCgKElEv69f37+GntnZvb273ds7rfLndXd1mn7Tu8y+qa6y6VC4f/9Pqlu3Fn2p5jdl1er19Oqrr9HXak2DBw80q6htuw4U77F4tF/55rxy5TJd/+W69XsNdRkzZrLa//777zR//hyN8eVLl+jWrT/oVYVPGvV/xYqVKcPbGa22bpktmzfRnj27dP979+5Rnrz5KH++ApRM4Txxwjhblz59+tOjcR5Ve6y/pb946Uu6aUSZj48o8+nftuqRKVa8BFWtWl2txX3v3L17l+bPm2PrkydPXh2IyqZUhXPnzqrgYmNt6tp16lKBAoUsXVT2jDWIZAQBQUAQCAICQogGCFQmMd2Gc9aZZc5ziv6cF0LUDc3Q6gLxAB/aFcjsgoAgIAgIAoKAICAIhBaBQDxPgRA9d+5jqlGjNjVs1IQSJ05MlSqW1SQPry6QhOju3Tupa5eOPLROU6V+ldas2WDTRaSASPWFCua1dQHB1rBhE5vOJH9RkS17Dpqm/F5CQC7WrWOPKD9i5BgqUqSYrsefO3fuUI/uXejQoQOWzsyA0IRvVFPgVzO7moflr7/+ojGjR9Dy5UtZ5ZG+9VYGGjV6LKVI8bxHHYjGdu1a0bfffuNRFydOHHrppZdt9w6NPjrxMaHOl2zfvpV69ggjh7ld8uTP0OYtO7ySswjANWPGNG6u05at2tB772WmTz/9hOrUrm6re/HFlwjWpW4yfvxkypsvv646f/4cdevayUbKm32wlvYdOmni2NQj/88//9DIkcNo+bIlzipdhjuG06dP2eoWKXcQsFCuVbOqTR9eoW7dBtSxUxeveydr1uxUpHB+W3CqJEmS0s5d+zx8rYKMXbdutW3K7Tv2aLcQUd0ztkGlIAgIAoJAEBAQQjRAoDKJ6Tacs84sc55T9Oe8EKJuaIZWF4gH+NCuQGYXBAQBQUAQEAQEAUEgtAgE4nlqpbIGhYXjs88+ay0mmITookXzFSE40poLGVhi4gh8ZMVfQrRJ4wZ06tQJa5qs2bIra8rZunxeWejVq1fLqkNm+IjRVLRocUvXsEFdV5+mVgOXjJMQbdumJR0+fNClpV0FYnrV6g2ULFkyq+L69etUsUIZbS1pKf3I+EOIzps328NCsU3bDtRIkeSRETeC2dc448ZPonzKghOWko0a1lUk4t++muu6Jk2bU6tWdsvg4cM+8Ek2uw0KQhTH/BHkKyJSp259bWHsa+/07NmVtm/bahvWJH9RAWtbEPog3Fly5spNkydP18Wo7BkeT1JBQBAQBIKJgBCiAUKXSUy34Zx1ZpnznKI/54UQdUMztLpAPMCHdgUyuyAgCAgCgoAgIAgIAqFFIFjPUxXKl6ZvvvnaWlwgo8zj2PqSJQutsZEZPXo8FSxUWOs2blhH/fv3sdW7FUBgnTx1TldFByHq5vfU7bqcOpMQ3bt3D3Xu1M7ZhGA5efXqd9ZvF25QrlwFGjBwMBdp8KABypJ2lVX2N+MPITps6GBasWKZbcgFC5aEezTd1sEoRIYQzZs3vyYl4YrAlHjx4hEsK51+ZOPGfUyRxuvo5Zdf0c1xdL1ypXIeOJpjueW1hegjykK0VuQsRH0RorCibd68sW3aYsVK0LDhoyzdju3bqEePLlYZmWHDRukj+VHdM7ZBpSAICAKCQJAQEEI0QMAyiek2nLPOLHOeU/TnvBCibmiGVhesB/jQrkpmFwQEAUFAEBAEBAFBIPoQCNbzVDAJUQRI2rdvjw2ktes26YA8UPpLiKLtqdPnkVCwCdH79+8TMDH9qmLe1q3bUZWq1ei28osKq1f4rHQKE6J6DOU79ccffrCa4Ej8oMFDtZ/SH374noZ8MMjDehRk3VtvpafLly9Rlcrlrb7IJEiYUJHH71OuXHn0MXkceXc7Su8PIeoMIoTx165V9yVVKmQjLG5H5nmQJ598kl5Lk1b7E2UdXBzAH+qQD+x+XGvVqkvNW7SiBAkS0M6d26lP7x4261H4Tp00KezYfudO7Wnv3t08pE7fey8LgViO/3h82rRxgwe+aASMU6VKrY/5c+fJkybYrIFxr+Dn1pQUKVJoMtsXIYrfo2VKFyfcXxYQufv2H1Y+Z5/UqvbtWtPBg/u5WgWvSkS79xzQx//hbzeye8YaUDKCgCAgCAQZASFEAwQwk5huwznrzDLnOUV/zgsh6oZmaHXBeoAP7apkdkFAEBAEBAFBQBAQBKIPgWA9TwWTEG3XtpWHD8516zdbVn4xkRA9o3xONmpUz3ZjS5QoRUOGjrB0OPZcqWI5+v77q5YOGSZE3SwFq1WrQUWMI/kgXPv17WXrz8eyZ82cTlOmTLTVIRhQpcoPrRq9WUj6Q4jCZ+euXTts4y9ZupLefDOdTedvwc1CFEG7gBkCC7lJ48b16fSpk1bV448/QWPHTbT5P50xfSqdOPGh1QaZQ4eO0xOKXMySOaP1+w/6lClfpPUbttj8ddZXbhFwLN+UhYuWUfr0GUwVOQniV15JRSDu3cQXIYr2c+bMokkT7YGc+vYbqINDIUBWoYJ5bCRv1ao1qGevPhTVPeN2raITBAQBQSAYCAghGiBUmcR0G85ZZ5Y5zyn6c14IUTc0Q6sL1gN8aFclswsCgoAgIAgIAoKAIBB9CATreSqYhCgIv02b7AGUJk2epq0cgZy/hCiC4Jw4GUZsBdtC1O1I8+QpMyhnzly2m43o86NGDbfpmBDdsH4dDRgQvisAW2dVQFAnBHcaMmQQrVL+Xk05dvwkxYsX31SRmwWuP4QoLCJnz55hG8t0ZWCr8KPgRoh6i1jPw5UqVdRmDcn68NKVq9Zpq8oSxR9GZEefxo2bUes2dhcFK1Qwq2HKz6gpbIVr6gJJiGJ/IrgSAj6xwHJ11ux5tEwFfxox3G55ygRtVPcMzyWpICAICALBRkAI0QAhzCSm23DOOrPMeU7Rn/NCiLqhGVpdsB7gQ7sqmV0QEAQEAUFAEBAEBIHoQyBYz1PBJETnzJ6pjjiPt4HUvXsvql6jltZdv/4LffXVV7Z6FEAG7tixzdJHJyG6cOF8GjvGHgjKPObPF/Xhh8eoRXN7ECImRKdNnawisk/lpn6nGTK8TQsWLvWwWEQE+B0793qMAytSWJOa4g8hCpLaaZ3apUt3qlW7rjmU33lEiq9Xt6atvS+CFUGUsmV9x/r9ZusYTmHipKn09NNJqG6dGraWvXv3p8pVHlrQonL//r3UsYM9EBMTkGbnQBKiGNftOP+27WE+ZUEes+Do/pq1G3UxqnuGx5RUEBAEBIFgIyCEaIAQZhLTbThnnVnmPKfoz3khRN3QDK0uWA/woV2VzC4ICAKCgCAgCAgCgkD0IRCs56lgEqInTnxEzZo2tIGUTvnIXKhIP5Cc3mSMIiQXKWLSlOjyIepmxbd6zQZKnfpV83Lo+PFj1LKFOyE6d+4smjjBfmza1tlLgQmyLl060J7dD32UJk2ajHbtfuh3krtPnqwsPWfZLT39IUTdjn2/+15mZTVqx5znQQr3ABs3rDdVygVAMXrttTTkNh6Ov+fPX9DW3izkzJGZ/vzzT1PlV37osJH06quvUfVqlWzte/bqS1WrVrfp9u7ZTZ07t7fpooMQPXToILVr29I2b4UKlWndutU2XafOXalOnfpaF9U9YxtYCoKAICAIBBEBIUQDBC6TmG7DOevMMuc5RX/OCyHqhmZodcF6gA/tqmR2QUAQEAQEAUFAEBAEog+BYD1PhUeI3r59SwfAca703XczO1Ue5QcPHlCpkkXpl19+ttUhqE7DhnYy0WwwdswoRZrOs1SmhSj8d+bIbp+7foNG1L59J6s9MohA/tVXly1dwYKFafSYMGtVNwJv+IjRVFT5+Dx8+CC1bWMns0aOGkuFCxe1xkJmwYJ5NG7sw+jh0LGFqFu08E2bt9MLL6REs3Bl/PgxNH/eHFu7PXsPastIU+kM0IM6fwhR3Jfy5UrZgv+g75SpMylHjpzIekj3bp11oCOzgiPTu+EZHiFao3pl274qW7Y8DXzffrzdnMvM3717l3LnymqqtNUxrI9NcbNQdj0y36ENHdi/z+r60ksva3+klsLIuK2V9w43w3H5EsULe+x7rkeKPb1z135KkiSJVkd1z5hjS14QEAQEgWAiIIRogNBlEtNtOGedWeY8p+jPeSFE3dAMrS5YD/ChXZXMLggIAoKAICAICAKCQPQhEKznqfAI0dOnT1LjRmFWbOZq2WLT1Lnl3UgptCtfoRJ16dJNRRRP6NHNFyGKxmXLlKCrV7+z+j3//Au0bPlq5VvyKa1zC1DTuInyMakixUN8kVrfffctlStbUrfjPxkzvkNz5i6wrFpByIFwdUaiZ0L066+vUMUKZbi7Ths1akpt2tqtFQ8c2EcXPv3Uavfsc8/p4Dvr1q2h9wf2s/TINGjYmNq162jpvvzyCw8rSVT6Q4ii3datm6l3r+7IWoJI6KNGj7eRondu39Z+OJ2+YJ97LgWB5I0TJ44rnuERor16dqNt27ZYcyPa+pq1GyhZsuSWDnPDhYEppUqXIRCWxYoWUITjL1YVItNv3rKTEiVKpHWwPq1YsYyHn1I3QtRpkYsATyCgH3/8cWt8zvjaO9wGaXhH4GE9C4xYorpneBxJBQFBQBAINgJCiAYIYSYx3YZz1pllznOK/pwXQtQNzdDqgvUAH9pVyeyCgCAgCAgCgoAgIAhEHwLBep4KNiF669YtqlWzKoFodEq8ePEovfKbmSH92wQyDgJ/lLDSNAWkG4g+Frfo9SDSihYrTtd++kn7joSfSlNw1Lp48TCiMzxSC/4wcR2m5MiRS/uovH3rNi1duog+//wzs1rnmRBFoUnjBnTq1Amt5z8gZBEp/u+/Hyhryx00auQw6zcM2rCV5PXr15UFZ0m6c+cOd9VpFXUkPG+efHRFEa5zVFCkmzdv2upR8JcQhRVjjRpV6KIiVp2CaPOZM2ehX3/7jT5UrgGcFr5o/8GQ4VSyZGnd1Q3P8AhRN3cKadKkpd59+uto95cvX6LBgwcqwvgT2+Wxpe2okcNpyZKFtro0aV9XvkXrUbz48QlBr5wR5tHYjRB1c9GQ4vnnKeULL1rjFyteQh/Jd1ur00IUnUCWwzram4weM4EKFrQHhorKnvE2j+gFAUFAEAg0AkKIBghRJjHdhnPWmWXOc4r+nBdC1A3N0OqC9QAf2lXJ7IKAICAICAKCgCAgCEQfAsF6ngo2IQqEcHS9YYO69PvvngSePwg6CVEQps5j7b7GAbm1atX6h6TrubNUr15YYCfuZ5JabqQXt/OVmoTo11euULVqFemvv/7y1cVWN2/+YsqYMZPWzZs3myaMH2ur96fgLyGKsY4cOURtWrfwZ1hbmwIFCtGYsRMsnRte4RGi6Ny/X2/auHG9NU54mZy5ctPkyWFBpG7e/I3KlC5Ot5UVaUTEjRBdtWoFDfngfZ/D1K3bgDp26uJqDWvuHXOQ1q2a09Gjh02VzsMadveeAxQ3blxbXVT3jG0wKQgCgoAgECQEhBANELBMYroN56wzy5znFP05L4SoG5qh1QXrAT60q5LZBQFBQBAQBAQBQUAQiD4EgvU8FR2EKFC6evUqtVWBZq4Yfj39QQ++Flu1akuNGje1NR/Qvw9t2LDOpvNWmDFzLmXJ8tDnpBuB5yS13CwQvY3PepMQhW7F8qU0fPgQ63cKt3NL69dXflA7PPSDev/+feWqoB6ZUcnd+jl1ESFE0RdH5/v17a2tVp1juZXfeisDTZ4ynRInTmxVu+HpDyH622+/UiPljsGfPYHI8osWL7P5YV27djUNer+/dR3+ZNwI0T/++EO7H3C6QDDHiwwhumvXDurW9eE95fFq165LnbvY3RVwXVT2DI8hqSAgCAgCwURACNEAocskpttwzjqzzHlO0Z/zQoi6oRlaXbAe4EO7KpldEBAEBAFBQBAQBASB6EMgWM9TTkIUx6WXLF1pLSyqPkStgVQGAZEWLVxAs1Rk9Hv37ppVHvm4cR+jYuoIfJ269fURamcDBAbCsWiMdevWH85qXUZ09v7936e8+fLb6nEcHsfiTRkxcgwVKVLMVOnARhMmjLV+Z3BlnDhxKU+evPpoPuuQOglR6E6ePEHwl/nzz9dQ9BC4DYB/06ZNPS01gRfIyh07tnn0A0GICO8nT35kq4soIYrO8Ec6eNAA1yPmPHiiRIlVRPR6VK9+A4oXLz6rdeqGpz+EKDpjjcOHDSGQm94kXbq3CIT1iy++5NFk9+6d1KdPT/rz3j2PuldffY1w9N4UN0IU9VeufKUtVt2O2aPeIkT93Dvogz1arGhBAvFryoqVawnuAbxJVPaMtzFFLwgIAoJAoBAQQjRASDKJ6Tacs84sc55T9Oe8EKJuaIZWF6wH+NCuSmYXBAQBQUAQEAQEAUEg+hAI1vPUsmVL6KbyFcmSPPkz2lcml3/68UfavHkjF63UabFpVfiRAQn28ZkzdPrMKfr+++/p52vX6IknnqDkyZMTjre//XYmyqB8i8ZXviDDk19//ZWOHT1Cl7+6pIk9+j8iEKHPqQBFNWrWUpaMT3sMcU3Nt3bNKpse/kdBoDnls88u0IcfHqfPVXr7zm1K81pa5Qe0igomFJfWOUi8MmXKUcoXH/qd5LHg6xPH0+E64NLFi/qodKrUqemNN96krFmzW8GguL0zPXjwAH2qfGleuPCJxilduvRURfki/eKLz+m48vFpStNmLazgT6ben/xnF7DWY4ocvEI//fSjtgJ98aWX6L33sqj/MysiNJ7rMG54lihRil5Jlcq1vZvy7NmP9XH0ywoj7LkXXkip+2d8OyNlUP/7kq+VT9UjRw7rewRL5EceeYTKla+g3Q9s3bLZ1hX37plnnrXpuIDfkx99dFxbM8Nv6j9//8NVlDHTO5QzZy5yW6u3vYPOixctoH379lrjPJcihfKNOtQqe8tEdc94G1f0goAgIAhEFQEhRKOK4P/6M4npNpyzzixznlP057wQom5ohlYXrAf40K5KZhcEBAFBQBAQBAQBQSD6EJDnqejDWmYSBAQBQUAQEAQEAXcEhBB1xyXCWiYx3To668wy5zlFf84LIeqGZmh18gAfWvxldkFAEBAEBAFBQBCI/QjI81Tsv4eyAkFAEBAEBAFBILYjIIRogO4gk5huwznrzDLnOUV/zgsh6oZmaHXyAB9a/GV2QUAQEAQEAUFAEIj9CMjzVOy/h7ICQUAQEAQEAUEgtiMghGiA7iCTmG7DOevMMuc5RX/OCyHqhmZodfIAH1r8Y/PsN27csF1+woQJPBz52xpIQRAQBAQBQUAQ+JciIM9T/9IbK8sSBAQBQUAQEARiEQJCiAboZjGJ6Tacs84sc55T9Oe8EKJuaIZWF6wHeNzzTRvXa2f8vMKGjZp4dfjObfxNf/jhe+1U3d/2bu3Sp8+gnd+71UWn7s6dO9oZvzknAgckTZrUVMWo/NfKoX/FimVs19RPRYqtUKGSTedv4datWzpQACKhfvftt3T37l0duAE4ZMuWXUdq9XcstLt//z4tX75URy9F5Nj4KuIqAlG8nTEjlS5dVjv0j8h4zrbfffctbd5kD2KBKLlvvZXe2TTS5T///JOOHj2sgzx8dfky3fj1Bj3//AuUMmVKSp36VXrnnfd0QIVITxDEjrFxTwcRjoAOvWrVCrqggnckU8FNWrVqG9CxY+tgCPZxVAVtgVSqVNlrQI7Iro8xT/z009SuXccID4PgGxPGj9H9EMgkq/pOE/n3IRCs56l/H1KyIkFAEBAEBAFBQBAIFgJCiAYIWSYx3YZz1pllznOK/pwXQtQNzdDqgvEA/+WXX9DgQQPo3LmztsUdPHSMEiRIaNNFtjBr5nSaMmViZLvrfstXrKG0aV+P0hiB6IyoobVqVbUNNXTYSCpevKRNF5MKgSJEEcl22rQptGjhAnrw4C+vS8ySJRv17t3Pr4ioIFV79+pO3377jet4iMY6+IOhlCLF8671/ihHjBhKy5YutjXNmzc/jZ8w2aaLTAFE6MqVy2je3Dl048Z1r0M8+uijVLhwUeqviOgnEyTw2i4UFbFxT4cCp8jM2bVrR9q9ayelSpWa1qy1k/KRGS86+yDScMuWTfWUVSpXI3+jYK9R0aZnzZqu+w0ZMkK9DHjXdtkLF86nsWNGat3CRcsIL7sCKYw5oipv2rw9wkP/+OMPVKpkUd2va7eeVLNm7QiPIR1iPgLBeJ6K+auWKxQEBAFBQBAQBASBmISAEKIBuhtMYroN56wzy5znFP05L4SoG5qh1QXyAf727Vs0adIEWrVyOf39998eCztw8BglTBgYQnTmzGk0dcokjzkioogphOiFC59S7VrVbJc+ZOgIgiVRTJVAEKLXrl2jVoocuXz5kl/LfOyxxwhEcaFCRby2hzVo9WqV6bfffvXaBhXp0r1FCxYupThx4vhs51YJ69MihfPTrVt/2KofeeQR2r5jj7ZEtVVEoICxmzVtRGfPnvG71+uvv0Gz58wP2MsGvyf20TA27mkfy4lRVUzOxUZC9NKli1S1SgWNZ716DalDx85+YWsSnlOnzaLs2XPY+pn1QojaoJFCNCIQyOepaLxsmUoQEAQEAUFAEBAE/kUICCEaoJvJJKbbcM46s8x5TtGf80KIuqEZWl2gHuC3bN5EY8eOouvXf/G6ICFE3aGJjeRRVAlRHKmuXKkc/fTTj+6g+NCOHDVWW0a6NenSuQPt2bPLrcpD16FDZ6pXv6GHPjzFpk0bqF/fXq7NmjdvRc1btHKt80cJy9atWzf709TWBha0k/URk70AAEAASURBVCZPC5hLCtvgkSjExj0diWWGpIsQokKIhmTjyaThIhCo56lwJ5IGgoAgIAgIAoKAICAIeEFACFEvwERUzSSmWz9nnVnmPKfoz3khRN3QDK0uEA/wpnWOr9UcOvwhPfnkk76a+F33bzoyHxvJo6gSouPHjaH58+e43u9EiRLTcylS0JdffO5a/+yzz9G69Zvp8ccft9X/888/lDdPDuV/9I6lz6YsybqpI6q/Kx9+Q4YOpovKnQNL9uw5aeq0mVz0O23cqB6dPn3KtT2ubcvWnYTj7BGVixe/pGpVK3p0gyUgfJMmTZaMcBT900/PEwhlp7Rt14EaNmziVIekHBv3dEiAisSkQoh6EqIff3yGjhw5pNGsrI7iP/vss5FA1nsXxlyOzHvHSGqIAvE8JTgKAoKAICAICAKCgCAQFQSEEI0KekZfJjENlZV11pllznOKTpwXQtSCMMZkAvEAP135gJw+fUq4awokIep2ZH7uvEWUKdM74V5HTGsQG8mjqBCi8CNYtUpFD5+hb2fMRL169aU33nhT36Lff/+dlio/ndOnefrlbNy4GbVu0852K69evUplyxS36aZMnUk5cuTUuhUrltEwRYqyIMjSjp17uehXeuXKV1SpYlmfbSdMnEp58uT12catcs3qlTR48EBbVffuvah6jVo2HdxRjFQ+TLEeU1I8/zxt3rwjygGjzDEjm4+Nezqya43ufkzOyZH56EOeMRdCNPowj40zBeJ5KjauW65ZEBAEBAFBQBAQBGIOAkKIBuheMInpNpyzzixznlP057wQom5ohlYXiAd4kxCFZVy5chV1MJgDB/bZFheTCdFffvmZZs+eqS3wvvzyc4Jfxjx58lGZsuVpxoypBAKQJWOmTNS2bQcuWukff/xB8+bNpk8/+YQuXfqS/vzzvo4G/tprr1HJUmUoS5asVtvJkyfQmdOndfmOsmhE1GhTEEU8adJkpkofiY4fPz4N6N+HQP6xZMjwNrXv0ImLOt24YR1t2LDe0j0a51FFWs+2ypyJ7LqjQoi2aNGEPjx+jC9Bp7lz56UxYycQ/IQ6ZefO7dS9m93XINqtWbORUr74otX8jrKazJM7m1VGpnETRZy2DiNOO3ZoS/v3PyRAM2Z8h+bNX2RrH15h9OgRtHjRAp/NChQopNfis5FL5fBhH9Dy5UttNb7I1a1bNtM333xta1+jZi0a9P4AuqksYk0ZMXIMJUmSxFTpvLkPoYj/eHyaMGGKtnC9d++eJl13Kfzh7/VXFeUelruvpn6NUr/6qg769eab6awxzbEiuqetQVQG92iXChp0SVnMXlGfu+Qqmvprr6UhfO7q1KnvukfatGlBf9770xqmWPESer3r162lzz67oK2G8ZnOl78AValS3fJlfF4FftOfe9UGmMESN9M771C9eg0oceKnrfHMDP4927VrB61csZx++OF7wmfoqaeeUpgoXJQ1b85cuQkBtiJjJczzwNp5/769dO78WY+o5kzOOQnRGzduEIKURSVYGM/vTLFGBD+rVasOvarWGVkJlg/RiF7PzZu/KfcS8emJJ57wqytj7iRE8Z3/6KOPhOu/V4Iq+QVzrG8UiOepWA+CLEAQEAQEAUFAEBAEQoqAEKIBgp9JTLfhnHVmmfOcoj/nhRB1QzO0ukA8wDMhWqhwEWrbpoOOBP7BB+/T6lUrbIuLqYQoCJN2bVtpYsN2waqQMuWL9NdffylC6Ceryi2a+KeK0OzWtRN9//1DotLq8L9MtWo1qJuy+ANR4iTnnG3dyowfgpKAWGABATN58nQu6pTvCSsRPOijEx9zUadRWXdkCVEEOypU0G49+YgKRoQj8C+99LLt+sxCo4Z16cyZMAKZ9W5HxFu3bk5HjxzmJhrrYcNH0YmPPvSwqOzSpTvVql3Xahte5sGDB/rancGUnP1wf7dt3x3h4EqLFs2nMaPDImXzmCDGe/ToTVmyZvPb8nPChLEqQv1sHkKnnTt3o9p16tl0CIKG4FCIas9SsmRp+mDIcPr8889UwKtmmgTlOrc0V+48NFzhmyBBwijtaYyNz9kYRTg7SWFz3rfeykCjRo/1IP1y58pmc5WAFwfmuswxQOjBVQJ8wU6cMM6ssvJJkiSlfv0HUv78BS0dMrdu3aKWitD/5JPzNr2z8MorqQgkdNq0rzurfJYx/rp1q2n5sqXqpcd39O57mRVhO9/Wh8k5JkTx8mOKCjDH/niTJUtOudV96dK1h0X82gZQBXyeYIFdsFBh/cIAJPSa1asI1tsgVv9P/Rfn0Ti0b3/YZ8kk9HLmzE01FTGKOfDZjYgEixAFQT1tapgl+YSJUwjEpVPw+QVpv3v3Tvru2281sf7Ou+9pkhf3Gfsd3/P4PsXnxRTGnAnRPXt2Edx+fPvtNxoD6EuULEXwIRw3blyzq86b+JlR5idNHE/79u3RbcaNn0QvvviSR18oEGytUcN6dO/eXSpcpCi1bNnGtZ0oQ4tAIJ6nQrsCmV0QEAQEAUFAEBAEYjsCQogG6A4yiek2nLPOLHOeU/TnvBCibmiGVheIB3j8mMbx4/TpM1iLCTYh6uZDtHyFSpTiuRTWNZiZRo2bulqWgcDE8W3T76TZzy3vJERBhjaoX8fjCLhbX1xj//7vU4f2bchpQevW3tQdOnScnkyQQEdpBrHA4kaIghyAZSsLSLoTJ89yURO3UVl3ZAlRt6PUINJHjXInpviCDx8+qMj2llzUadWqNahnrz423Tll8Ve/nv2Iua3B/wqpFNG4dOlKAnHmr2zbtoV69bQTJT3VEf8/FLE0adJ42zCtWrWlJk2b23ThFT768LgiVBq7NoPVX7p0b9Gzzz1HL7/8CmXOnEVbMbs1BvlSulQx63sXbZg8M9uvWbOKBg8aYKoUUThLWzXXrFElXDKUO4KgGTlybJT2NMbC/cV9Dk8SJ05Mq1ZvoGTKpyqLkxBlvbcUvl7Nlxxu7eIrH7Xr1m2m5xTmEFhtgpQ6e/aMW3MPHVwYwIrZ6evWo6FSwNIX7iFAbsLSmaVylWrUu3c/LuqUyTnc0+IlSrm6lEBDvGAYO26iq0VnwYJ56OZvvylr/gqUXlmYDx0yyDYHCuZLFJCnTRrXp4vKapcFpG/NmrWprBrDX0vLYBGi5l5eu24T4dpMgYVrZxVw7dxZ+0shtIkb9zECiTro/f7a4rdIkWKazDb7M+YgPkGUt27VnOC6wimw1p81e562PjXrvBGieFHTrFkj3bRhoyauJw9QiUBrCLgGmTlrnv7864L8iVEIBOJ5KkYtSC5GEBAEBAFBQBAQBGIdAkKIBuiWMYnpNpyzzixznlP057wQom5ohlYXrAd4EC34kWpKIKPMuxGi5lzO/MFDx1yPNfbp3YO2bNnkbO6z7CRE69WtSefPn/PZx6xcumwVTZ06iQ7s32eqw81HxEI0PEI0quuOLCEKyypEgjellyJ8qijix5eAjMqSOaOtifM+cCWIYLYWY52ZplFWe9MU8Zc0aVKt/vXXX2mF46g6KsqVr0DPP/+C1bVpk4Z08uRHVjlevHi0d99hZYl4T1ta4hpZ0G/T5u0RsqADwQLLPZC6/shTTyWiosWKUwsV1R4vJExxWsqibtHi5fpIOLcDiW+Se88886y2bAUxN2rkMG6m0wSKiIdl5c+KWPrpxx+t73RutESRy9OUr9fI7um9e/dQ5052n7AYGxZzsJTkf0N4PhB5AwY+9AcbUUKUxwkvLaEIxyFDR+hmX6ggXzWqV7Z1gesG4PKnsuCD1eGDB3/Z6jt17qqP+duURuG4ch2xdMkiOnhwv7XGBAkTUlnlqgMW5SA9ncLkHALUwa3Bc+olEMi0N5Xv3e+//16RuGvo2LEjuhssahcuWuqxD5kQhQXyN998o499p0uXXgcjSpQoke77iHqJ4iRjT506qT8re/bsttaKfVixYmXl67am7fPivG6UTUIURDr6+SO7lQuFtWtX66Yg7bOrYGmmhEeI4jsH3z2QtMp1Qg3llxekKSyh586ZpUjo27oOZLQvQhQB3/ByKVWqVPra8aLi0uVLNEe5WwHpCmnTpj3hBZwp3ghRtKlUqRxd+eqyIviT09Ztu1wtTPm7x+3FhjmP5EOLQLCep0K7KpldEBAEBAFBQBAQBGITAkKIBuhuOX+AmsM668wy5zlFP84LIWqiGDPywXqADzYhOnPmNJqqjon6K25kLH4MwxLOlMcff0IfoYS/wi8+/5wWKX+Rv/9+02yi/QOOnxB2PHP9+rU0cEBfW32mTO9S7z79FDnwPG3fttUjUA6svqpXr0m/KQstCKzDnJZ6TZu1oKxZs9vGfU8dn8WPcX+OzPsiRAOx7sgSovC/CT+cpuCIdsmSpU2Va95JeoHYXLFija0tLK769e9NP/7wg03PBVjTjlW+SuE/EAIfgE2bNCCQXabg/nTv0dtS4R5VKG+/xgoVKmtrMTQyCRfuBDcGmC8iAovl6tUq0e3bYQSNP31h5dq2XUe9b7m9G8EIgq1HzzCLWsxTpnRxbq7T5i1aKwvVltoKFtawLLA0hNUd9h7kp59+0vv1niLjWIqXKEnvvPNupPb0gwcPqEKF0rZ7BqJp0OCh2hIOfjqHfDDIw3rUJHhz5cyqjxPz9SCFj9iatWpri8sF8+fq4+BmPfIguBo0bKSJx927d9FmdYzeFBDBB5VlNsQt6NXWbbstC1Ic0R81argit76yhkiVOrUHqYh2eAkDItS0uASxWk3tuzJlyhHITm/ChCjqYS08e84Cm7UsiPl+/XrTls0b9RCDBw+jUqXL2IZjQhRKvFjo3ad/hCKzg/xbrY7YA5Off76mx4ZFaYGChfQ+fPfdzLb5uGASoqyLaBpRQvT06ZPUuFF9PQ2+mydPnqYt7XlekJUNG9S1XA74IkTRB76lcbydPw/QXb/+C1WsUFa5VPhDvXhLQPsPHLXV+yJEl6h9wC8gRo4aS4ULF8WQlpjfteER7FYnyYQEgWA9T4VkMTKpICAICAKCgCAgCMRKBIQQDdBtYxLTbThnnVnmPKfoz3khRN3QDK0uWA/wwSZEI2ohysfNTbRhpTlzxjRTRQOV1RmOgLLAHyWs7UzBD2IcsYQ4AwTBYmzL1p3a2of7wJ/niRMPLQvTpEljI9vcjpHDKg3WaW4SVUI0EOs2f6TzNfZTrgAqKJcAvgSWmMNU8CBT/OmH9lmzZLIdUwWBtGr1emuogwf2UydlZeh2lJUbgbT54IPhhKA7sAaDP0inRSYs14YPH20jNMaNHU0LFszlYXS6YOFSwhFZiNs+4aPkukEE/lz97jtFuIwmWMVFRMaPn0x58+XXXUCKlSheSFmt/WINAUu+3XsOaAs0p5/RRx55RFuHwkp05Ihh6vj2w2BTqIO/1vTK2hBWg7CshWUh9N4kInvazVUAyNsiRR8StiCU+vXtZZuuTt366n531bqcObOooEoPCVoEJIO1HQfpAmFVskRRy6qRB5oydSblyJGTi9qX8KFDB6wyMtt37CHgsldZRXbu3N5WB1K8SNGimmAHiQmfoTynraEqgECePWuG2rMr9HF11GM/5i9QUFme1tJ+Yp193MomIertZcL169cVsVpcY5IlSzaaMXOObSgmROF+YMPGbToolK2BnwV81vbu3a2sRpep77gPrV5w7wArSSe5FwpCtK/aN0x0m59Z62JVZpXydz1E+b2GhEeIwsL/DWWN6xTzM7VRYWoGfPNFiOKlTLFiBfW9gn/WyVOm24YeO2YULVyIY/jx9F70FuzL1kkKIUEgWM9TIVmMTCoICAKCgCAgCAgCsRIBIUQDdNuYxHQbzllnljnPKfpzXghRNzRDqwvWA3woCFFEvE6QIKEroBMnTfXw5QefcXwMkzsdO35K//DkMlImD1hnHtUuV7Ykfffdt1xF+fIV0NZDlsKPTETIIwwXVUI0EOuOLCH64YfHqEXzJjZUYA0bXpAQWCWWLFHY1g8BfSZNCiO0L6tjqzWqV/EgvECaos4p3VVwq507d9CpUydsVe+qICuwQAP5wAILxmJFCyrrx19ZRWnSpKUVK9daZXzHweIS1ows8E24Y+ceevrpJKyKUIqgV6dPn9IWhxcvfUnwVWuSfs7BQHhuVWQ8/MxC3FwHDBs2ShF4xahokQI2H6EmEePmK9U5FyypYRHaomVrZYmZyVlNEdnTG9avowED7L5gPQZ0UZjEldNCtFz5impMu1/MZk0b2Ug7EJhwQ2GKmxXo/AVL6O23Myqfo9c0yWy2d+ZBcL6ujmQjWFepUmVspLFpZQwyGRHb69RtYFmYOsfyVmZCNE6cuHTs+ElNqrq17dBB+Snev09Zfj6nyW6zDX+nZVNHz+E+IhACsnPwoIH08cen9XDwKb1w0TLb0CYhCqvi6tVq2uq9FbZv32oF24qohSh8CuOlB/wGr1ljtwDm+e7evUu5c2XVRXNfcT1jjs80MDetQ7kNrrFnjzCC3mkd7osQRf+BA/vReuXqAPti46ZtVlAoBBorXqyQ/u6BFT0IcJGYi0Cwnqdi7orlygQBQUAQEAQEAUEgpiEghGiA7giTmG7DOevMMuc5RX/OCyHqhmZodcF6gA82ITpzpueR+bnzFlGmTO/4DSgiy5vWYMmTJ1cE1j6P/rVqViWQUyxsIYp9nS3ru8oi8QFXkVugH6vSSyYi5BGGiCohGtV14xoiS4i6EZs4Ivz+oCEY1qvAdyGCuphSqXJV6qOO+kIQ5OTo0bCI2Nymfv1G1L5DJ3Jza8BtzBQk55y5Cz0ic+/cuZ26d+tsNtV+G50Roa9c+UofnTUbtm/fieo3CAuaYuojk4fVJ472w+UBfE7uUUe8nWIGXIFVJMgU07dp7tx5qUbNWh4BqkCUwmoWgvYIcOTE0zkXl0GKNmtmD3gVkT3tdO/A44aXwjoXFn+QnDky26LK165TzyNSeLeunQjRyFng53Xzlodl6N2sQLEnQP5CYOGJSOX+SI4cuWiSOp7N5BkI1WpVK1ouOBImfEoHNapatTq9onxS+itMzmH/bdi41Wu30er4/uLFCzXJdvjIR7YXQkyIwlfpwPftFtteB/RScf/+n9o1yHJlJfrpp+etVoUKqWBpo8dZZWRMQrRevYbUoaP9c2VrbBQWLpxPY8eM1JqIEqIFC+SmmzdvhvuyqljRAtqi2hchClcOOAHgJidPntDuN1AHC3P492UJjxD95JPzVLdODd28cZNm6lRCmD/dHdu3UY8eXbTe/GzzuJLGLASC9TwVs1YpVyMICAKCgCAgCAgCMRkBIUQDdHeYxHQbzllnljnPKfpzXghRNzRDqwvWA3xsIESdfh9xzHbX7v0eN6S6CqTypeFjkglRNMyR/T26rwKqsCBISN9+A7noVxoR8ggDRpUQDcS6I0uI4vqdmOHY7patu3xGqh4+fAgtX7YE3S3h48I3btxQQY3yWXpknKTGJuUb0nnk2uwAomPe/MWufhSdbhHMfuHlX3zpJUXIbrFZCrr1gU/GK1eu2KoQ3fwl5b/Tm0yfPtUjwrjTxyCTZ+YYsIKF5SkL8MeLAPOoN47xglDboKKe+yOz58wn029kRPb03LmzaOIEO3Hmz5ypUqWmNWvD/GRGFyGK68L1zpwx3cNnqds1g9gCwcWCY/PYi/AbiUA6EFgFZs+ek6oqNwH58xewCFTu40z5nprrd7ZBefy4MTR//hxd5fShzISoMziV2zjedLCGXrlyubayR8R6CMhfWMnD+jVL1mweXUNBiLLv4fBcWJQuVcyvKPMIluYmZ9RnqlGjeroqooQoOtWuXZ0uKCtwBEiDuwdYGzdv3pjgUiK8e+12PaKLfgSC9TwV/SuRGQUBQUAQEAQEAUEgtiIghGiA7hyTmG7DOevMMuc5RX/OCyHqhmZodcF6gA+PEL19+5ZHIBsgYZIqvpAJhIWoSRjwXHv2HrQdcQbZWbBAHrp79w43sQVVQlAmWOyxIGjH3HkLuehX+tmFC4pAqGprCz+XJUvZg/hwg/r1a9O5sx9zUfuxZEs5Vg4dMliRFQ+Pq+I49f4DR3R1INYdFULUbW80adqcWrVqy5dvS7/99huqXKm87Tg8jjvjXiE4EvyzNmva0NZn7LiJilwqaNNt3bKZ+vbtabOYRANgg3uG4/VOAemDo/D8Heas96c8ffpsyprNHiDL2c/NAjbdW+mVhd9yZ1Or7Oa3tEPHLlSvXgOrjZuLAqvyf5latepSl67dnWpd/kqRdocOHdT7DWQWIr6bLwC4k+nPE7qI7Gm3AFAgnV54ISUPH24anYQoLgYk/D7lO/Pc+XPqZckXKmDTV66BsOBLc/GSFR7Xj/0EC1wQo7iPvL9SqEBsVSpXowrqxQp8tboJE6LxlFuHo8dOeiXbuV2SJEm171hzrMgSorjO48eP6ZcTsFJm6+MECROqoGMVVfT22jbfmeacyIeCEK2hXmjBshouVZYsXem8JF1+8OCBtjKGT1TnyxQ0YCyxJ4NFiK5TR+bfV0fnIaPHTFBuOdLoQG7AvKPylVtX+cwVidkIBOt5KmavWq5OEBAEBAFBQBAQBGISAkKIBuhu8A80t+GcdWaZ85yiP+eFEHVDM7S6YD3Au5FeppWSGfnXRODU6YdHLk29Mx8IQnT1qpUqwI7dmhNHf3EEmAUWUEOH2H0Rmj5Ee/XsRmZEbvSD3zz4z4PgOGnLls3otDryzYLjtziGy4JI0zhKa0rz5q2oeYtWpsrKD1BR7Teo6PYssMoCIfqWItAgCKiC8X799QY30Ud+ec5ArDsqhCisIcsq36tOf5g4Wt62bQebhRyIQgSyYQs0XpAZMf3jj8+oKNF1uEqnzmPc8MUH36mwznOTnr36KncH1T2qJk4cR3PnzPLQR0QBX4lDh4702QVETKGCeVXU+99t7Ro0bKwxgRWhU4ar4FTLVZAqU5zHavHdW7FCGYL/Sm8CX6hwFwAB2XnWINuhe0kdzX4uRQpkNQEGX6b9VRRzkKUsOXOpYDCTHwaDicie/vrrK/oaeSykjRo1pTZt25sqOnBgn7Kg+9TSPassaGGRDYkOQvS88kN5T0WIZ3n66act3KAD2Ycj9eb3Qfz48QnH1fnYPPc1U7haADG6aeMGy+oU1rpFixanmsrSkr9LuA+Tcyg7fVVyG7xwApF/Ux0Vd3tJE1FCFIQhvgsRFA33iwUW0CBBQYay71quc0tDQYiyqwT4/1y3fpMr0b5v3x7q1DHsmHqoCFFYD8NXMSLVw7VFmrRpaf68ORJMyW0jxVBdsJ6nYuhy5bIEAUFAEBAEBAFBIAYiIIRogG4Kk5huwznrzDLnOUV/zgsh6oZmaHXBeoCPDYSoJubKlLD5HsTdgG+7zJmzKOuvszRn9kzLCorvlEmIulngJVZESQtFaIIgWKaOeeMYpCmmjzjo79y+TXny2C0IQaAgWA0Cp7DAHyEIlgXz59K4caNZrVP82C9UuAglToTjz9s8CMTKVapR795h1keBWHdUCFFcsFuke+hhzfZe5sw6qjeOioJAcQp8Py5bvtqKjA0iIU/ubB73qbyKeI8jyBe//JIQ8MRtLHPsHj37EIhWFpBAJYoXVtaA11lFKVO+qKJ3l7PKbpnVq1cqX4Q/W1W4h7t276PwokObfhKtziqDOeHfE5HdkyRJotZxibZu2WSzTEZ77JmDh457uB5YtGg+jRntTsg6rVCx5rxqL/5pEH8IyjNy1FgdWAjzfPnlF9S4UX1N3KAMcQYTi+iebtK4gUeAKxw3h59Y+OhFAKxRI4dZ/5ZgTtP/ZXQQonx8GXND8JlD4CYQ3jjejKBb7du3sVlvw5IZL4J8EaJho5HyLfo7rV2zSpPc8DkJefe9zDR79nxuolOTEIUf1VmzEYE8vq2NaQXepUt3HeTJbBBRQtT0gYlxYPGMY/H4LvRnbTz3pUsXtcsPlKPLh6gZJKxkydI0+INhNqtafH/ghcrn/7P0DxUhCkxGjhhGS5cu0pjCx+zvv9+kEiVK0ZChI1AtEsMRCNbzVAxftlyeICAICAKCgCAgCMQgBIQQDdDNYBLTbThnnVnmPKfoz3khRN3QDK0uWA/wsYEQBfKTJ01QhMOMCN0EkxBFx549u+qgIv4MguPZa9dt8jgOW7RIAY+APM7xEBEbBAuCs1SuVNb1iK6zD8qwLly6bJWOfs31UV13VAlRRHWG5eK1az/xJfmVgniaq6xrM6io36YMUVa8q5QFW1QF0eer16ilh9m9eyd17dLRNqQ/R1fdsPWnH74n27Ru4XcwI9uFqQKsSdu1s18v2sBasHChfK5H3Z0kMNrD+nPjxvXI2iSRItsReOzy5Us2PQpwdwC3B6ZEZE9jP1WrVpFgyeuvwOcrXhpAooMQ3aj8qfbv38fj8vCSAmQ1jmXzEXJuFJko7rAW3rNnFy1ZrIixOI96JURBRGK+jBnfUcHDOtIbb6Sj77+/SitXLLfcZcAH7arV623+YXFtkSFE8XktoQhFEKFp077OS4xQGgpCFJ8rRJo/r9wbQIoVK0ENGjSml195hb5QJOgYFawJdYxnKAlRWF1XrmR/4TJj5lzKkiVrhHCWxqFBIFjPU6FZjcwqCAgCgoAgIAgIArERASFEA3TXmMR0G85ZZ5Y5zyn6c14IUTc0Q6sL1gN8bCFEYclWT/1YdiN5vN0ZJyGKaN4NG9al77791lsXSz9w4GAqW66CVeaMm9Un13HKhCjKIKxAXPkjbsfvo7ruqBKiuG5YnbVS0eE5uEx4a4HFFCwVs2fP4dEUBCuCTYEQCk9gsTli5Bh6XBFZnTq1s1lDom+PHr2pWvWaHpHrQZgg6NbTTyfxOcXVq1epbJnitjYvv/yKOq672aZzK2AdiPB+6tQJt2qvupw5c9PESVO9Wuv17duLNjvcBYDI27lrPyVU/h9NgaVjs2aNlWXtF6baax7HphcsWOKBS0T3NI5jI3gW/3vhdUJVUb9+I0UCdrKaRAchiski8vID+ILMettB3lsX7UcGnxEE/DKFLURTpUqtj+zv2rXDrLbyCJYFX5TvKStTp0SUEIXrj9u372gLZedYESmHghDF9cH6s22bFjqKvNv1wsr37McfhzSoEl9X0yYN6eTJj3QR95gDh3G9pDEXgWA9T8XcFcuVCQKCgCAgCAgCgkBMQ0AI0QDdEV8/Sp11ZpnznOJyOC+EaIBuTgCHCdYDvBshevDQMUqQIIx8iaoP0Vkzp9OUKRNtSMydt0j5y3vHpvOncOvWLerSpQN9qIKFOAUk3BNPPEE//3zNqnISoqiAFR6sx/bs3mW1MzOwDO3Vuy8VL17SVNvy8D84Y8ZUr1ZyJiGKjrAiw9F5b0QsiL+Wrdooa6hGrkRZVNYdCEIUa8BxVax54YJ56mj031C5SjwVQAYkJo5mexOQ2th3Z86c9tZEW8kOfP8DZU33pm4Df5kgIJ2+O1u2bKOP9ZsDFSpUhEaN9i8aeiNFkDuvwxmJ3RzbzAOH8ePHaJ+NTj+rZjvk4z/+uDq+3pTq1W+ofQ0667l8Tvm/hJWcKaVKldHHh00d5+FLdKQ6or56lWdAIG6DFGTfB0OG04vKz6ibRHRPnzx5guCX1/y8meNiH8DlRNOmLUw15cyZxeaTtnadesr3bDdbm+7dOquj9w8jhMP1wuYtdjLRLcCT83sFxC2sCt2CS/GECI7Up09/ypUrD6sClpqE6PIVa/T34NIli6zrgUU4/BQPGjzU1V8mLiSihGigLj5UhCiuHy+u+vTuSXBzws8kCRIkoBo1ays/z220z1UQ0LAgHTZ8lG3JjHkwgyrxhFs2b1J7p4cu+mNZzv0kDT0CwXqeCv3K5AoEAUFAEBAEBAFBILYgIIRogO4U/2BwG85ZZ5Y5zyn6c14IUTc0Q6sL1gO8MwAKVtmwUROLtPnpxx9p8+aNHotv1Liph85NgWA78DFpSgXlM5KDv5h6f/I4erp3724dHfuzzy5oou6FF17QR4GPHD1M1356eLQbRy3hi85NEIH5k0/Oa+u6n3/+WR95zZ4tB1WsVMUv6yrgApLup2s/0u1bt21TABsEWzHlwYMHdOTIIR3pGmTDTeVzLmnSZJRU+eIsXaas7Zi82Y/zkV33zZu/KbJsJQ+j0zx584U7n62DUfjjjz/oo4+O66OrIHg/+/yCB9EL8g8R2/mYtNHdlgXpdeb0aU2A/KqsHf/5+x9NapevUFERQYU9yGEcdd67Z7dtDBByiJz95BNPWnpErX8zXTqr7CsDwv/D4/b9+c6777lat3obB8fHgcmxY0f1vsT3aJy4cbSf2ETK+i95suRUuUpVdYz9GW9DWPr9+/dSxw5trTIywBK+IH0JiFQE+0FQJuw17D9EP0+aLJk6pp6LEEwpPInonr6pAgFhT+P48KWLF5WvzriUKnVqTWJnzZrd8h1rzgviFdfHgj3ivDbsi8vK/yrLU0895eFbEwGOtm/byk106va98pP6Pli+fIn2Twur3kcffURbyAKXt1Rk+VKly2q/oraBgljACxn4lgWB/lb69NaLpyBOGWuHxosgfEfjRVf69Bn0fcL3IKyM8ZmrW7eBiureJWTrw4s+vPAD+b9t+24Py+uQXZhMHC4CwXqeCndiaSAICAKCgCAgCAgCgsD/EBBCNEBbgUlMt+GcdWaZ85yiP+eFEHVDM7Q6eYAPLf4yuzsCONJfv35tj0BIsLTF8exXUqVy7yhaVwQ6qGA/eEnBAku3jZu22YLLcJ2kgsB/DQEQ/hXKh73k6t27v37REAoMQMyWLFFEW0hLMKVQ3IGozSnPU1HDT3oLAoKAICAICAKCQNQREEI06hjqEZjEdBvOWWeWOc8p+nNeCFE3NEOrkwf40OIvs3tH4MaNG1SndnXta9Rs9cwzz9Kixct0JHpTL3l3BH755WcqUbywLeAPXCk4j5279xatIBC7EVi6dDFd/e47bQkK1xLJlBWvUwYM6Esb1q/V6iVLV9Kbb/pnCe4cJ6pl05JbgilFFc3o7y/PU9GPucwoCAgCgoAgIAgIAnYEhBC14xHpEpOYbgM468wy5zlFf84LIeqGZmh18gAfWvxldt8IIEhS3To16ddfb9gaIqo3oozj2LOIbwRmzpxGU6dMshrBxySO4oJYFhEE/u0IrFy5nIYOGaSXCctoBONKp9wawLUILEMXL15oBRxDcKWhQ0eGDJL27VrTwYP76ZVXUtHadZtCdh0yceQQkOepyOEmvQQBQUAQEAQEAUEgcAgIIRogLJnEdBvOWWeWOc8p+nNeCFE3NEOrkwf40OIvs4ePAHx8jho53Poe4R4IHNO6TTsuSuqCAL57y5QurqNnczV8a06ePJ2LkgoC/3oE+vbtZZGe3haLwGAzZ86NtB9qb+P6q4df2jKli+ngchJMyV/UYlY7eZ6KWfdDrkYQEAQEAUFAEPgvIiCEaIDuOpOYbsM568wy5zlFf84LIeqGZmh18gAfWvxldkEgmAggIFOrlvZAZSNGjqEiRYoFc1oZWxCIcQggcNrESePpaxU4i59JcJEI1obAWe3addSBlkJ14bDknj5tig5ctnXbLgmmFKobEYV5/0vPUwg+iQBlLAi4lynTO1yMVBqMMSN1IdJJEBAEBAFBQBCIxQgIIRqgm2f+YHAO6awzy5znFH05L4SoE8nQl/9LD/ChR1uuQBCIXgSuXr1qsw7F7PjRih+vIoLAfxGBu3fv0ldfXaabv/1GL6uj6c8//zw9+uij/0UoZM0BRiCqz1N37tyhTz/9xHZVCRMm9OnTdsGCeXRX9WMpUrQYvfZaGi7a0t9++5UuXrxo08FfLuaIqDRqWJfOnDltdYMLil2791tlzpw5fYoe/P03F5Wrlme0SwhLYWT8HdPoEquzo0cNJ9zzzJmzUqnSZWL1WsyLxz67efMmvfTSy/LdagBz9uzHdPToEa2pVKlyjHdbtGrVCrqgvo+SJU9OrVq1NVYiWX8R2Lhhnf6efOKJJ6lL1+7+dgtqu7lzZ9H9+3+p7+FXCMEbY4JMnDiOfvv1V3pTuTOqWrV6TLikWH8NQogG6BYyiek2nLPOLHOeU/TnvBCibmiGVhfVB/jQXr3MLggIAoKAICAICAKCQOgRiOrz1P37f1L+/Lnpz3v3rMU89VQi2rf/MMH3s1PgYxsuUUypXacede7czVRZeac/aVTsP3A0Ur64GzaoSx9//JAQTZIkKe3ec8CaizN582Sn27dvc5EqV6lGvXv3s8pmxt8xzT6xOV+wYB79YsYXJrFlfXv27KIdO7bTp5+cp++++1Zfdvz48enVV1+jt9JnoGbNWsR4AjAyWC+YP5eWLV+iu65fv8Xny+aFC+fT2DFhPqoXLlpG6RUuMVm6du1Iu3ftpFSpUtOatRtDeqldunTQL4vSvfkWjR4zPqTXEpHJOWBjokSJ9fd4RPr62/Zv9cKpbNkSunn1ajWpfoNGPrvmyZ1Nv4jJkycfTZg4xWfb6KosW6YEXb36HRUqVIRGjR4XXdP+q+cRQjRAt5dJTLfhnHVmmfOcoj/nhRB1QzO0uqg+wIf26mV2QUAQEAQEAUFAEBAEQo9AIJ6nOnZoS/v377UtZs7chQSf2U5ZunQxjRwx1KZOmfJF2rhpm03Hhfr1atG5c2e5qMfE2JERf8lL/vHNc1SqXJX69OnPRVvq75i2TrG48G8gREHGjBs3mhYvWuDzTiRM+BR17NSFKlas7LNdbKucPGkCzZ49Q1/2seOnKF68eF6XIISoV2jCreDvhrczZqL5KqBqbJHoIEQfPHhA2bKGuStp2KgJtW3bwSc8/J0shKhPmGJ9pRCiAbqFTGK6DeesM8uc5xT9OS+EqBuaodUF4gE+tCuQ2QUBQUAQEAQEAUFAEAgtAoF4nlq3bg29P9BuQdm4STNq3dozgGDrVs3VEdzDHoteu3YTvZIqlU0Pf5/58+W0nsdR2Ub9cG6kfkBHRpig4L7eLET5xze3E0KUkSCK7YToHWX527FjW/roow/1onAs+L33Mmu3PE899RSdOnWSTp48QTduXLcW/W8LGCeEqHVrg5rh7xshRD1hFkLUExPREAkhGqBdwCSm23DOOrPMeU7Rn/NCiLqhGVpdIB7gQ7sCmV0QEAQEAUFAEBAEBIHQIhCI5yn4XyxcKJ/13IwVpVN+1RYvWWFb3D11rB4E519//WXTo+BGOm3dupl697L7sFu2fDW9/vobHv39UTj9fQaCEPV3TH+uLza0ie2E6KSJ42nOnJka6ueeS0GTp0zXR+RN7PH7b8aMaTRj+hS9p+G/fP78JcpXYDqzWazNR4QQ/fjjM3TkyCG91sqVq9Gzzz4bo9cdk47MCyHqfatElBCdPWsG3f/rPr3ycqoY47tYjsx7v7+RrRFCNLLIOfoxielQ66KzzixznlN04LwQom5ohlYXiAf40K5AZhcEBAFBQBAQBAQBQSC0CATqeap+/dp0TgVgMWXnrv2ULFkyS7Vv3x7q1NHTahQNsmbNRtNnzLHaItOnT0/asvmhH0AQWFu37bK1CUYhIhaiwZg/Jo8ZmwnRn3++RuXLlaZ79+5SchV0Z8HCpZQixfNe4UZwmf79++j6QoWVn8BR/w4/gREhRL2CE0MrhBCN+o2JiUfmo76qwI8ghGjgMRVCNECYMonpNpyzzixznlP057wQom5ohlYXqAf40K5CZhcEBAFBQBAQBAQBQSB0CATqeWrO7Jk0aZI9cMjA9z9QgTPKW4t7f2B/WrdutVU2M3HixKG9+w5b0ePxDJ4/Xy66desPq1mlSlWoT98ButymTQsVyOlPq65Y8RJUoEBB2rljO33x5Rf0448/0N8PwiLFow5RgCdMGKtI24f+SFOmTEkDBg6mXbt20PJlS62xzpw5RfAzyZI8uWeU+bbtOlBG5RvQ25jc1+06Ecl81arl9Mn583p9GTJkpGzZs1Pt2nWVP8f43NUj/f3332nWrOn0iQoC9MXnn9Frr6WlPHnyUukyZWnjxvX00Ydhx8DRMcXzz9OgQUM8xvBH8dOPP+qgO0WKFPMIouNGiOJe/fDD95QgQUJKnDixP1NEqM2hQwfpwoVPqEqV6pQkSZII9TUbDx40gNasWaVV7dt3CjeQCxrCxcNnn12gxx9/nNau2+jz/phz+Zu/ffuWilT9G72g9qJbEDJf4yCg2d279yKMeUwkRGE1jj30wgspKW7cuL6W7bPOGyF648YNFaX8T58EuM+BI1EZkyxEI4JvRAlRYIvPPb7D/ZWIWoj6O25U2/3yy8/6c5gsWfJwhxJCNFyIItxACNEIQ+begUlMt1pnnVnmPKfoz3khRN3QDK0uUA/woV2FzC4ICAKCgCAgCAgCgkDoEAjU89SlSxepapUKtoUUL1GShg4Ni1CNiqJFCtD167/Y2piF4SNGU9GixbUKpF/dOjXMaho7bqKKaF9Q63LnyqbIoDtW/fPPv0DXrv1kIzK5sm7dBjo4Tru2rejQoYdR5V97LQ2tXLVOB9cZPXoEN/crHT9+MuXNl5+8jcmDOK/z6aeTEFwMuAmI0uHDR7sezb5y5Stq26aljmrs7Atrx2eefY4ufPqJVRWZKNs4Hr1k8ULas2e3wvEBTZ8+m7Jmy26NiYxJiHbu3I1mzZxOy5Yt1hGgUY81lC9fkRAoxY3ggxsEHH+FTJ02kx599FFasmQRHTt2lK799BPd+/OermvapDnVq99Q5zdt2kD9+vYiRIAvXqKUJo7Tpn1d10XkD9+LBAkT0tatuyzyPSJjmG3hLgEkdcFChbW/XAQWW7N6FX399RXlg/QG/Z/6L86jcTwidYOcmjJlIu1VOH/77Tf69yau6a230iv/pl3ozTd9H81ftmwJbVi/lr788kt9n0DYN2vekiqr4F89e3Slixe/1EQ2XkhAflK4tm7VzLp0XBvvwdSpX/W4T0uWrrCIX7wsmDZ1su6L6N4gLCGtWjbTn7cECRLQ7DkLvJKYp0+fpA8Gv6/7YL/kzJVb5/kPrHARaO3ixYv04MFfOuJ9mjRpqW69BlRC3euIipMQxfhTpkxSGPyohwLRlTt3HurStYfr/b9//z7VqllVty1foRLVrVvf9RIGKp/JsIiH+44hQ8O+O3A/J0+eYLW/+v1V9dLmHsVXZHrK/+HGlWnU/h027OF3I+vd0sjuM4wVGXz9IUS/V2sbM3ok4TsD3+lwK5E9e07q3qO3fhk1dMggvRTswfTpM+g83FXglADL5cuXdBbfiUmTJmW1Tp3YN2/WSM1znfLmzU/tO3TSbUy866j7VEHdL2/SA58L9aIM30/4d8QUXP/IkcPp1MmP6Jdfwv59wmcKpxawT7y9hHEjRPfu3UOT//disGmzFlS8eElzKlue9xBeXk2aNM1W918tCCEaoDvPJKbbcM46s8x5TtGf80KIuqEZWl2gHuBDuwqZXRAQBAQBQUAQEAQEgdAhEMjnKf6ByKtBlO79B45owuXChU+pdq1qXOWali5TzrJqnD59Kk2fFkbEoDF+cO8/cFRb6qGcK2dWffQZ+fAEP5Y7depKsNY8cjjMHyL6vPrqa7Rq9XoyI2mHNxbXjxs/ifLlK+B1TG4XketEHxBOa9bCEjEeD6GJgAoVStPtW7csXXgZfwlRWGrBqnbJkoXa8pTHhX/V6TNmE8gpU5gQrVChsrboO378qFlt5XMp0mn48FHaatRSqsxyReYNHz5Eq5YuW0U9unfRBKLZBvlWrdpSk6bNtfrM6VPUtWsnG5kOsqJmrTr6HoBUDU+uXbtGJYoX0s3y5S+gosxPCq9LuPWMRblyFSh9hreJSSCzI6zmPjrx0JUEyMmuXTrQ+fPnzGZWHve9W7eehEBeToGFY79+fWjH9q3OKl1u1KipJpY//fQ8Zc6clWbOmqv1V69epbJlwl40uHZ0KI8cPWF9zmBRC8tayNp1KvDZK6l0furUSTRT+VmFjBo9jgoVKqLzzj/wAQwS/KmnEtGOnXs1qY02IB6HKNIMxK43gUV4z159I2R5aBKiIM/N7xBzHibG8B1gyp9//kk5c2TWqvr1G1nkm9kG+ebNGyuL7ONkBkzasH4dDRgQ5mLB2d5ZBkm4cNEyp9q1HJl9FhV8wyNEP/zwGHXv1plu3rzpcb0gnEEEDhs6WNfNmDmXsmTJqvN4qYGXG/6IE/vixQoRXF6AJGcCGtbVxYoW0i/G0ipiernyL+0m33zzNVUoX1pXOYPyIYhaj+6dLSLU2f9Z9aIJL+oyZXrHWaU+UyX0CyrsfXwGIAjaVqxYQf2CyNwbzs6wwi9duhj9888/1LxFa7WfWjqb/CfLQogG6LYziek2nLPOLHOeU/Tn/PHjRyhL5nfdhhRdiBAI5AN8iJYg0woCgoAgIAgIAoKAIBBSBAL5PDVKWdmAWDNl7rxF+sfkjBlTLUsz1GfJkk0HaNmyZZPV3CRQ69WtaSONcuTIRVOmhlkWokNEiMbwCNFFi+ZrayfrQvzIsIWoN5KVh2CrRC77k+I4fsOGTaym5lFvSxlOJjxCFBaCq1etpBUrlmmigYd7++2MVK16TW2pa5KyXM/kDCwaQdCCeKtcpSq9+OJL9MUXn9P8eXO01SPaM+7cF6lJiILE+FL1gXVvqtSp6RlllcXHpfMXKKSswfJZXUHcwlpxxfKldObMaUuPeWvUrK2sUit4kK9WI5U5ceIjatY0zOK0Zs061LVbD7M6UnnGAlaW33zzjbJ2fUQFE0uv93WiRIn0mI8osrZ3737W+LxfYFnZpk17gm9SkIVwCQCLu08+OR9mNbt0pUfwMNMtBfzp1qlTj2Bp+LWyHobVKCxT4bYAbiZMQvSWuk+rV62wrgFBkj766ENdxjWAtDUF94113ghREDplFMkK1xKw2hs/4eHLCx7rjz/+UIRVAQLJWF3tKVgPssybN5smjB+ri7h/NWrU0sfZr179TlsQ8/dCt+69dB33Cy9lQvTJJ59UL0zuEXCCtfKbb7xJ33//vXLZsUaRxkf0MG+9BVJyqc1CNiqEKCxzDyv3Diz4bMENACwAq1eryWqdJn/mGUWIlbXpvBUis8+igq8vQhQkZNkyJS0L41JqDfnVCwa8sDp65Ih2BYL9/PvvYWSpSYgePHiALquTBJC/FRE4aWIYiYh/C2C1awpeMDCRCr0bIQq9+d24aPFybWUNvSkT1Txz58xSezoubdu+S/m1DjsOD/KyXLlSypr7Or340kvUpUt3evfdzJqkxB4ZPWq4Jkqxh9at32yR+Ty2GyGKug8+eN/6vK1YudbjpRLaTJ82RVngT9Gfs02bd6h9+hzU/3kRQjRAW4BJTLfhnHVmmfOcoj/nhRB1QzO0ukA+wId2JTK7ICAICAKCgCAgCAgCoUEgkM9TsJiC5ZQpsPKDtZ+T4MSPz2eeeZa6K+scU0Cg4ig7otHzczjqcXSxlrIIZPFGNMaN+5j6AZrGRo6xD1Emo3gMWIfBQhRWezi6zIJj8Ai8wwKLwjp17Edn06ZNq/zmPR0pC9F0b6WnatVq0JNPPKmOCy+yEXyY07R2AslSrWpFvhSdgkzr23eg9h96UREM/fv19rCy9EaIYrwlixcpq71NmqjCgDiKXqxYCaquSCkc2/YlTM6gDci8YcNGWSQmdDdv/kZNmzTUx7ZBkqxZs5FSvvgiqrSYhCgI10GDh1KRIsVspBS39ZaCeAXZtHXLZsttAjApX76SIkdraXLW2XfN6pU0ePBArcbR7dqKTIyqmFiAFOzdp7/PKOxwC9CqZVM9LVwjFC1mt9oEgVi9WiV95Dhb9hw0bdos6xKBK4gokJ0gkPE5MSO+4+h+U0X4gmCGmISoNcj/MhHxIeqNEMVQHTq0oQP792lSZ/OWnbbrQT3uEVsKLlPWezheDgEZX7ZsSU2oV61aQ1mB9tF68w+Pnfjpp2nDhq2KNH7KrPaaZ0IUDV5++RV9nN8M7AaLvH7q88LB2gYPHmaLWh4VQtR5UYHyIRrRfRZVfH0RonAJwC4vTCtuXjsI5/eVOwEWkxBlHVK84MiWNczqEoR127YdzGqPvDdC9LMLF9S/C2HW1FWqVqdeyqLYFBD2JUsUUcTmz9qKmS050YY/ByDPsT/xcsWU8+fOqhdTdTXp77ZWb4Qovp9qVK+sh8J3andF6puCPVi6VDHtxiFQ1urm+LE5L4RogO6e+fDkHNJZZ5Y5zyn6cl4IUSeSoS8H8gE+9KuRKxAEBAFBQBAQBAQBQSD6EQjk8xR+6OXPn8t2tBtWWJMmT6VCBfPaFrdp83blNy4Z5c2TXf/g5MrGjZvpo+y9e3dnlU43btxmI9bcLERBmoJoZCtD2wCq4I0QdbaLSJT58MbMmTOL9iPIc8Bf3tZtuyxrI/xgxw9rBIFiQYASBJiCsCUR1yHtpSwOq1R56H4AJCeINP7dgjY42owjziwnT54gWOmCtGYBsVa1WnWqWLGyJndZ7ytlcgbE8/oNmzU552x/4MA+6tC+jVY7j4OahGiLlq2pWbPIHxWF5eOGDetopSLeYB0JwfF5kJPNW7Sy+eKEZemwYWE+NSNqdagHdvnDWOB+bVD7MzzSrnOn9rR3725NvGzY6H7sfY6yZGPLOXxGXnghzGenSejiGHlVRf445eCB/dS+fWutjg5CFBZ/7du10vPB0rRR4zCyl68LLjLgKiODsvZbsHApq7XP2FEjh+nylq07XQMdnVX+ORvUr63bDBw4mMoqtwT+iEmIfjBkOJUsGXZU2uwLX5SwboV/T1gnzpg5x6qOyYSov/sMPnmjgq8vQrRY0YKaXITV5MZN21y/a2vXrm75Mw42IYobV6d2DYKbCJww2Llrn/Xdijrzu2jipKnKEvXhv0MI2vfHH78T/JX27x/m5xZ9TEFQtaNHD+vvuc1bdphVrkfmuUGD+nXo7NkzHq4iUG9+TvmkAff7r6dCiAZoB5gPA84hnXVmmfOcoi/nhRB1Ihn6ciAf4EO/GrkCQUAQEAQEAUFAEBAEoh+BQD9Psc9AcyUdOnRWPhtHWyr4pcRRQgiCs/ARVpRhHZlW1fORWehg6YUji6Y4CVFvx3bNPuGRl9w2mIRoGeUn9X1H9PehQwbTypV2f4LHPzytj6HCqhFkmCnHjp+y+RhFnUlCoOy0EDXvC8jSDh07a+LQH/+bGI+FSUBfhBva5s2bQxPjpUqVocEfhJFf0JuE6BwVjOedd9+DOkqC32s4Bj5wQD9N1mAwpw9C0zoTR8LhUzaqwlg4rTm9jVu5Ujn66qvLmqzOlSuPa7Ofrv1Ie3bv0nWTp8ygnDlz6fz4cWNo/vww4g5kOcgxpwCHfMqyml0ZsA9RZzu2jIPebS+Z7X1ZiOIFCMh8HAvHkeP167dYlr6ff/4Z1axRRQ/Vt99ATbrzuLzfH3/8CZue65H+83//aPcIWBN8o7Zp296s9ppnQhTHo48dP2kd/Xd2YAtU+Ijctn23VR2TCVF/91lU8fVGiN69e5dy58qqsYKbA/i6dZNFhguS6CBETatUWJyXNlwRdOrYjhDICW4LNm3arl+Y4JoRWKxI4Xz68uGPOE2a192WQufOfaxdt+B78sjRj6xgY2jszUIUdZs3b6S+fcLwwfc9vvdZeO+lSKGuSb30iOh3MI/zb0yFEA3QXWUS0204Z51Z5jyn6M95IUTd0AytLtAP8KFdjcwuCAgCgoAgIAgIAoJA9CMQ6Oep7SrgCyJd+xJYgbZu0043MQkyb31wvBnHnE1xWl764xcyJISoCtACkoXFbS1uVqCHj3xETzzxhEcUe7gZ2L5jDw9npd1U0CH42GRxWoiahBraZMz4jvbrWKRoMU28cr/wUiYBfVlVYQyQYSDFnNaB5v02LSDDm9dbPYiNdWtXK9+FKywr20ceeYQ6K5cMposFkHY4pgoxg6B4G9cfPWNRtmwJ689tAABAAElEQVR54oju3vqBPESwHkSY91d6KJ+b8OcK6aICMYEohe/WgwePeR2iujqqi2PzvgjrQBGiuAgcn+bI6ib5hcBZuNdwZbB9x17CsWSWli2akrdgXNzGTOFSYcTIMabKa54JURx/9maFi87wD7l48UJN4OKz9riKBA+JyYSoP/sMa4gqvt4IUdN9hy+3E4j+3rlzGIFt7glcG0ugjsxjPPiKheUq3EmY+x6WwCWKF1YnEB54BC6CH+JG6jh8RGTlqnXanQv38UWIIgBacTX3zd9+o3feeZfmzA3zrY3gbqVLFdWnIpzW8zzufzkVQjRAd59JTLfhnHVmmfOcoj/nhRB1QzO0ukA/wId2NTK7ICAICAKCgCAgCAgC0Y9AoJ+nEHSjQP7ctmPwzlUtWLCEMqjgPRBEDoZ/OF8yZepMypEjp60JyKXwiEZbB1WIjYQoE2G8FrgZ2LV7PxettEtnRZjtCbMshNJJiEL32WcXaKk6Trtt2xaLmMN4ODKPwEiwWApPmASsrI7sm8GCnP3q1qmhAwS9oYLZIJo8i0mI4ggqju1HRs4p/37L1TH4nTu2WWt5QvlkLVeuvA6yhPWbAkIS1m3YM0mSJCUc1Ybv1KgIY4Eo8wPUsW5fAgIoZ44smpx5770sVKBgQV/NdR1I64wZM+k8/NoeOnRAX/vuPQe89mXcTWLI2TiQhOj1678o0qmIXldpZQU3SFnDIcI5CCoE1qlUuSr1Ub5VTYGP2ZMnP1I+R59TgbfqmVWu+eeeTeHhb9W1oVIyIeq0kHa2N18QHFAEc0JFNENiMiHqzz7DGqKKrzdC9JNPzhP2F6RHzz7aPYkuOP4cUoGl2rUNc4URHYQopmcCHi9D1m/Yot1SLJg/V59MQIAwZ+AiM8haufIVtd9pxzI8ikWLlrAFP/JFiKLz2DGjaOHCeXoc+KqGz+qZM6fR1CmTJJiSRsXzjxCinphESsMkpltnZ51Z5jyn6M95IUTd0AytLtAP8KFdjcwuCAgCgoAgIAgIAoJA9CMQjOcpXxZKyVUkcVg44ocrCwJQIBCFm8CybN/+Ix6+6oJJiMKv6W0VgZgFhCGO/bpJeCSrP9fpy0J0woSxNG/ubNvUu/ccVMRYEpuuvIqWbAaG8kUIwXJq1crl2qoShBYEpEG+fAW0RWK2bNlt98eciEnAHDly0ZSpM8wqW57bFS1anIaPeOguISqEKKyutm/bqgKgLLV8FGJSkKoIXoL75MuPZ/dunWnnzu36Op1+WG0XbxTgsuCEisiOAFCLFi+zHZnlNfpLVFWqWJauqIjw/rh3MC5BZ0eMGErLli7W+SNHT1gWjc528NWLoDrRRYhifrZOjq+sLHfu3EeHDx+0rMTdIn9zFG5Yj4KMNL8LnOuJaJkJUdyvo8dOeh2b24EcNwlmENfZs72rOYCaNetQ1249XC+BAya9+15mmj17vs82bytSe/78sHvn2jAcZUT3WVTx9UaI3rx5kwoWyK2vtn6DRspfbSfXKzf99UYXIWpar/IJBF+fN3zvFS1SQF9/h45dqF69Bq5r8aUMjxDF93GF8qX1XqpVqy516txV+6798Ycf9HftuPGTfA3/n6wTQjRAt51JTLfhnHVmmfOcoj/nhRB1QzO0umA8wId2RTK7ICAICAKCgCAgCAgC0YtAMJ6nliriZqQicNzEzWJsypSJNGvmdLfmVLBgYRo9ZrxHnT9Eo7NTeOQlt8ePfvz4Z/FFLoU3pj/X6YsQNf3j8fU4/WPCRx585ZniixDldrDkg4sDWI3CepQFfauq4FQVVLARHNs3hckZENWw8Eyc+GmzWufPnD6l/D6GWf4xOcGNIkOIgsBdtGg+AQscQWUBGYVj8dgj/vjh++abr6lypfLamhFHqhcvWeGTQD165LC2KsbvQTcSk7HwlxBlf4aJEiVW2G1Xx8nDrBJ5Pb5SM1DO2HETVfAyTwtTBDBCICOIrz1r7rdduw+o4GZJvU7ty4cod/rww2PUonkTXQTRvHvXTn0k3mkdzO2XqKPqo9SRdUig/Mjy2Ex0ojx58nTKmSuMwON6pLBiL1O6uP6MZ8r0Ls2dF3acmdvAtQJcLCAADwLxOAX7oUjh/PTrrzc0Ce/tZQlbaqZO/SqtXrPBOYzf5Yjus6ji640QxQVzIKI330xHS5bafRvzgthHJsreCFFYbCPKPNKqVWtQz159uLtr6i3KvNm4sfrOOa2+e+BWZOiwkdSkcX1dPWbsBCpQwPMUQr68OfUxe399s5pzIR8eIYo27CMbPn/79XvfciUgwZSAjqcIIeqJSaQ0TGK6dXbWmWXOc4r+nBdC1A3N0OqC8QAf2hXJ7IKAICAICAKCgCAgCEQvAsF4nrp69ar6sVjcdSHjJ0xR5FI+W9358+eoXt2aNh0X+vQdQJUqhQVnYR1Sf4hGsz3y4ZGX3J6jY3MZKcgdRDFmaduugz7OHN6Y/lynSVDx+OxDFGRg+XIl6c6dO1ylU5AIufPkUf4iv6BZs2fYItmjgT+EqDngqVMnCUTK/v17LXcH06fPpqzKWtQUJmegcwusAh+ZLZo31sTEI8oKePHiFfRmunTWEJEhRDdt2kD9+vbSYzz22GNUrHhJRfzVtY1rTRBOhgPOoFmatK8r0myaJlCc3RAJulfv7jpAEaxnZ86c6xEAirHwlxA1o7LXrduAOnbq4pyWQMIuXxEWkb1Fi9YE4gny9ddXqErlCprMhV/W2SogFbBgAbHUvl1rbZ0JnS9CdOPG9dS/X2/dFda7sOL1Jv4Qovi9XLFCGQLhjOBKV7/7Tv+G9nasGtZ5sJy7rayw4RZg1ux5Hhbg+A4ZrwKx3f/rvr4+M1COt2uF3iREgRPGjhcvvq2LeVy+C3zN1rb7kuTPNAIzrVi5hkBomrJxwzoVlTyMwOvevZe2TjbrOT9Atdmg2uI+bVQBfZ599lmuilAa0X0WVXx9EaL4HOLzCBk9ZoJ6GWEnGs+e/Zga1K9trc8bIYoGIKW///6qOq6eVu35NV6tedHWH0J0y+ZNyj1DmEUvAvFhP4IchXsMfIadMm7saFqwYK5WeyMoFy6cr907xI0bl4YMGW7bS/4QoqY/1aefTqKtt597LoV+meTPSxznNf/by0KIBugOM4npNpyzzixznlP057wQom5ohlYXjAf40K5IZhcEBAFBQBAQBAQBQSB6EQjW81S1qhUJxxhNQVTp/QeO2IgcruejvlzmdNv2Pa5Egj9EI4/BKRMdXH711dcIvt2c0kMFhdqhLCd9Cf+ADm9Mf67TFyGKa5gzeyZNmuRpJevr+iJKiPJYICiWqWA469auodGjx3klRPFjHiQcjqnjuPpLL72sgyhNnDiOTityFYLIyoiwbEpkCVGQF1WU39Kq1apTsmTJzSEjlEcQpubNGtGlSxd1P7hwKKBInUyZ3lGWksnostIfP35M++vkgZs0bU6tWrXlopVGlKhCx9atm2vSE3lgB1IZ2F356ittVTl58kR68OAvAqGDvQkihmXIkEHa1QHKiIzdpm0HTSZ9feWK9k24d+9ufbQflr++CFGsHZ9P/M5FkCbgmjrVq/RYvDCCtbginJms8YcQxfUsWDCPxo0dhawWfNZ37Nxr+eZkPadz586iiRPG6SJI0Q4dOtHr6qUDyLzz587RWDXWL7/8rNezbPlqTfBzX18pE6K8PzF2+w4d1QuNdJp8W7liOa1cuUwPAdyBsUksowKkNO4TBHuiZcs2lD5DBu1f9PDhg8qFxRx9jxC5fNWq9baAUbrT//6sVG4phqp7BgFRXKFCZe2DEtf2tLKsdrNe/V9XWxKZfRYVfH0RorCcBfmNPQa3BAheBlcbwPDo0cM0bOhg7dMX9RBfhGiP7l1oh/IBDMF+zq+sONkVCL6b8RKKxR9CFHMWL17IZkXeuIkK4Nfabj3PY8JSuHy50iri/HV9/XjJVbBAYX0NF5TF/OZNG5VV+mrd3C2glT+E6N9//62DuV279hNPS82bt1JBnlpZZck8REAI0YdYRCnHJKbbIM46s8x5TtGf80KIuqEZWl2wHuBDuyqZXRAQBAQBQUAQEAQEgehDIFjPU2bgFl6Nr+jeg97vT2vXhv345Pavv/6G8hdp13GdP0Qjt+U0PPKS2yFgDyIQ48esN4lOQhS+MxvUr2M71u7tulgfWUKU+8Mi9cGDB5QoUSJW6ZTJmWLFSujrgRWWm8D6csqU6QTC0ZTIEKIgMRH0BgRMIARr69+/tz7a7Ws8zNe0aQtq2KiJRRCa7RkLfy1E0ReEEo7Of/75Z+ZQtjwskWfOmmsjhNAAOMD61vmigTvXrFmHPv74DH366XmfhCjam+Qq9+fU9FHqLyEKv6WI6M1EWHiYoF0/ZaXq68UDiENYiMN1g7/ChCj2PywPd+3a4doVR5hh4fiecrvgJgMH9qP1ykWDNwHhi6PYzmBvZnt8fmopFwYXv/zCVOt8+vQZaOGiMGLWo9KhiMw+iwq+vghRXBo+wyNHDtMvRByXqlxoJKamzVrSKFUP8UWIwpK4WrVKdPeu3fod/ZxuQfwhRNHPDGQEC/UNG7dRypQpUeUqcPfQo3tXbbnp2kApsY/mzVtETyqft6b4Q4iivfnCC5aqzgBP5pj/9bwQogHaAUxiug3nrDPLnOcU/TkvhKgbmqHVBesBPrSr+n/2rgLOiur7HwVJ6RRRQFEJkQbpku7uWrq7uzuW7u7uku5GRAQF/YGChJLS4f9/v/d5h/tm5+2+mN23i+f4ced2fOfeYd53zj2He2cEGAFGgBFgBBgBRiDsEAit9ymrY/DQFoTWoJXgiHK7dq2csho1Eto9ra21e3LlyuZ0TLx2nXrCPltXp/rmSJvWLYwjxcj79NPUtHLVOnMxGcd4Bg3qL7XUrAooQjSkNt0Zp/6DWfWlk1JIe/bsGfXq2Y2gBWgWkD/QrIL9PCUgJFeIY6h2iyJn4GW+adPm0rvz7l07jW5AIpYoWZq6d+9l6fjHG0LUaNzmwOJFC4QW43b6WZCT8C6uBFqBX2bIIJ3GmI9LqzK4KixCIv/0OgiD4AZxg6PHODauJHLk96hgwULUtVuPIESyKoN1AK3Dbdu2SE08pMOea5EiRalf/0HC9EQttwhR/MZdv36t/Ajx+2+/ORFC+tpzlxDFOHr36k5btmxCUNjlXCS1bmUkmD9rVq+kadMmi33mcO6FoiCy0qZNL+1Kgjj0RHRCFMewp0yZKG3kKqIWbWfKlJkGDR5GyZK5JsrQ59Ytmwkazzdv3jCGgGP0WbNlo17CVio0TEMSkO/Q8D54cD9du/a7YfoitAlRNS5v8A2JEEXb0KIeMKAPwUGQEuyVHsL7/FOxRtu1dWhABkeIoh400qcIr+vnfzhHMJMA7WiIt4QoPtBAgxXrOyTHb7Ij8ef27dtyLnCeBpMfSrCvagobxfgoYvUxxl1C9NatW1SyRBHZLLRp2ZmSQjjolQnRoJh4laJITKvK5jw9rsLqivoqzISoFZr+TQutF3j/zop7ZwQYAUaAEWAEGAFGIOwQCK33KbxDz541w0nLEj8uzRqHaqYgiebOma2i8lqiZClKkSKlU5qKoG1oYCn5SnhyDukIKggOXaMxnnAmU004D3IlTwRZdfzEMbotftDeuy+c+Yg5KVFjC6lNd8Z58uQJOiX+1wVHPfXj0sgDpgcO7COQzT///JO0j5c2bToqXLiIOBba3MnzeuEi3wjHNY4jyXq7oRHG0eZffvlFanFCq9d8BDk0+rSzTayjy5cu0f0H9+kzQSQnSJDAzuZdtoX7CU/UvwlCMlmyZPKYvPmeu6oMgg9rAGYLQK5B88zfgnVw5coVqU3rSvPS1Rjv3PlLENM/UWyhYYjj0mZnXq7quZOOo9FYn88FUZcufXqPnFmh/b///puuXvkfRRMOxvA8imjrG3MILXxBJv7yy2Wxbz5zSeKj/7AU2DHF/kiePDklTfqB212DDMVc7glN7JSpUsm6INB9Fd3pGMhQkKIs1ggwIWqNi8episS0qmjO0+MqrK6or8JMiFqh6d+00HqB9++suHdGgBFgBBgBRoARYATCDgF+nwo7rL3pCUd+f7l82akqPMDrnsFB8sJJjS7B2c7Ty3GYEWAEGAFGIPQQULZS2ZlSyBgzIRoyRm6VUCSmVWFznh5XYXVFfRVmQtQKTf+m8Qu8f/Hn3hkBRoARYAQYAUYg4iPA71Ph+x7Crirsq+qCo77wjA3HO78Ix1VwgnTr1k29iPCOvVbavnNK5AgjwAgwAoxAmCFw7x5s6xaWR/HZmVLIsDMhGjJGbpVQJKZVYXOeHldhdUV9FWZC1ApN/6bxC7x/8efeGQFGgBFgBBgBRiDiI8DvU+H7HuLoZ5XK5aX9QXdHWqpUGRo8xOHUxN06XI4RYAQYAUbAXgQWLJhH48eNliYtNm3aTkmSJrW3g7esNSZEbbqhisS0as6cp8dVWF1RX4WZELVC079p/ALvX/y5d0aAEWAEGAFGgBGI+Ajw+1T4v4fwKt6kcQN68OBBiIONKTwhL1u+JljPyiE2wgUYAUaAEWAEfEYADp6uXr0i7YayM6WQ4WRCNGSM3CqhSEyrwuY8Pa7C6or6KsyEqBWa/k0L6xd4eMGDYXwIPGumS5fevwC8pb3PnTtLGMJ+KYyWp6ASJUrZOksYe1+9epVs8+uvc7nl/dLWAWiNweD3kSOHZUqlSpWlYwQtm4OMQLhH4OjRI9Khww3xbFTeW9Wgq9eoRXCswWI/AkuXLhbOP36mhIkSUYsWre3vIIK0CEcO04VnYki58hX9+jyPIJC5HGZYv0+5HAhnBIsA3kPHjxsjvcy/fv3asmzuPHmpT58BlCRJEst8TmQEGAFGgBEIGwROnz5FTZs0lJ2NHTeBnSm5ATsTom6A5E4RRWJalTXn6XEVVlfUV2EmRK3Q9G9aWL/Anz//A9Wt4/BEOmLEGCparLitAODltmzZErLN6tVqUv0GAba2H1Eay5snBz158oTy5s1PEyZOsXXYFy78SLVrVZNttm/fierVd/wjZVcnC+bPFVoZS2Rz69dvCdYL5cKF82nc2FGy7MJFy6SHULvGwe0wAqGJwF3hfbNL5/Z05sxpl92MGz+RChQo5DKfM7xHoG2blnTw4H5KleoTWr1mg/cNhcOa34k11bNXNzmywYOHU3BeiqExV61qRVl2wMAh4t/P8uFwRhFjSGH9PhUxUAm/o3z48CHt3r2Tbt28Se+8+w7FiR2H4saLR0kSJ6FMmbOE34HzyBgBRoARYAQYgWAQYEI0GHA8yVIkplUdc54eV2F1RX0VZkLUCk3/poX1C3xoE6KvXr2iHNkzSVAbBjSmNm3a+xdgP/UekQnRyZMm0OzZDi3io8dOU5QoUVyiyISoS2g4I5wj0L17F9qxfasxytSpP6PkyT8y4gjAu3H69F86pXHEHgTeZkIUWsctWzSRQE2ePJ1y5c7jEjQmRF1C43FGWL9PeTxArsAIMAKMACPACDACbz0CTIjadIsViWnVnDlPj6uwuqK+CjMhaoWmf9PC+gWeCdGwud9MiIYNztwLI+ANAlJ7W2hxQ5IkSUpTps6QmoretMV1vEOACVEHbkyIerd+rGqF9fuU1Rg4jRFgBBgBRoARYAT+2wgwIWrT/VckplVz5jw9rsLqivoqzISoFZr+TQvrF3gmRMPmfsNO64uXLyjFxympVOkytnb655+3adWqFbLNXLnyUKZMmW1t3xMN0bNnv6PDhw/K/itXrkaJEye2dSzcGCMQGghcvHCBatWqKpuuXacederUNTS64TaDQYAJUQc4TIgGs0g8zArr9ykPh8fFGQFGgBFgBBgBRuA/gAATojbdZEViWjVnztPjKqyuqK/CTIhaoenftLB+gWdC1L/3OyL07gkhGhHmw2NkBMwI6EeaAwMnU778BcxFOB7KCDAh6gCYCVH7FlpYv0/ZN3JuiRFgBBgBRoARYATeFgSYELXpTioS06o5c54eV2F1RX0VZkLUCk3/poXmCzzsed68eYOSJfuQ3n33XTlRTwnRly9f0o0bf8g2IkeOHCJYvtoQ9bS/EAfkZoEnjx9TlKhRKbg5Pnr0SO6lWLFiudmqZ8Xg4fql0CqNGfN9zyoGUxpOC3D/3hdtJkqcSNgDjRpMaUdWaBKiwPne/ftiPSWjd955J8SxhFYBPBP/uH6d4gkHDjFixnS7GzgNu3njBj1+8pgSJUpMcePG9WoecOjz4sVzSpr0A7f7VgUxBmgJJxaOJ9S+VnmeXO/fv0exhRMLT9p49uwZwUMw7h20gT1dq97ub1/7NeOiE6Ih2Xg01/UVf3/sAaz3v/76k+7cuSPWfHxKmDAhRYoUyTw1l3Fv94tqEP3i2RonThyVRHYSovfu3ZPO395/3/tnp53PX0/WlytC9J9//qG7d+9QggQJPX7G+Hq/jJsUwQKh+T4VwaDg4TICjAAjwAgwAoyAnxBgQtQm4PFC60rMeXpchdUVbagwE6KuEPVfemi8wMPD7fjxY+mnny7Q8+fPKY4gbXJkz0ntO3QSP7DuuuVlfuOGdbR06WK6fPkyvXr1Uv7YhNORuvUaUIkSpZwAmzQxkPbu3W2k/frrLzIcN248ih8/vpGOQPkKlahu3fpOaYh40p+qPGb0CDpy5LAkhmAD8Oeff6LFixYQvLCDMHoliCMICI+vvsoow+Y6a1avpO07ttGZ06flHDNlzkx5cuelmrXqGD9C165dTTNnTJPkMhoBiZVfaJS1bdeRYsSIIds1/2nWNECSD/nyFaB27Ts6ZZvHsGf3Ltq0aQPhR/TTp08k+VyseAlq3ryVpUMjEJxtWreQbTZr3pKKFi3u1D5IJ8xrvvAWD0JcCUisbNlziKPCdZw8Z9+6dYtatWyqisk1ArIMAg/QZuJyydIVBrG6c+cOmjZ1siw7YeIUOXYZ0f7g+TNv3mzavGkjXbnyP8IP/ZiCuEjzRVpq1qyFHJNWPMTg1q2bCSYJIFOnzZSE3pIliyR+t8Vcnj1/JvOaNG5G9eo3lGH154cfztGEwHFijZynx4Kcxdw+/jgFFS1WXIylpUuSCKTF9OlTaO+ePfT69SvVnCSXypWrIPeFea2jkLrXH36YnAInTJbrfMqUSXTr1k3ZBsiOPHnyUucu3SkkMmfFimW0aeN6unTpZ7mvsfa++CIN1apdl4oUKWqMSQ/89ttV6tihrUxq3aad2AeZaOHCeXRg/z7CPo0ePQalSZOGOnTsQl9+mUGv6hQ+cGA/zRDzxwcVXbA+KleuStVr1HKJHcp7s79Rz9d+0YaSFs2byOcC4k+fPpUfChD+4INkAofoCBqir3GV6A3+qq43e2DRovm0bu0a2YTVeJCBZ12f3j1kmd59+gcxnwGicN7c2bR69QqC3VQlUcXHH6wZ7I/PP/9CJQe5ertf0BAIxokTxtGuXTvlcwjE+xdp0lJ5sV+qVa/pMyGK5+D4cWPo++/Pyv2Evfxh8uSULWsO+czVyVd9YmpP4oMC/t3w9Pmrt6WHPVlfvXr3pcyZs8rqZkI0f/6C8rmxbdtW+W8v9nnatOmpU+euYq+m1bsMEvblfgVpLAImhMb7VASEgYfMCDACjAAjwAgwAn5EgAlRm8BXJKZVc+Y8Pa7C6or6KsyEqBWa/k2z+wV+yeKFNE78SNRJGzXDlClTUUdhK69tGweZNmLEGEkEqXxc8SN26NBBtGH9Wj3ZKVypUhXq0bOPQYD07dNTEnpOhVxE6tcPcCIIvelPNd2lSwfatfNbScKNGj2OAgLq0XOhwWaWOXMWUKbMWWSyXgdE0uhRw83FZbxxk2bUsmUbWi9wGNC/j2WZ5B99RGg7YcJEQfKLFyssyReQx0OHjXTK18fQqXM36typnbFH9YIgKubOWxSErAHJVaF8aVm0d+9+VEkQUkqw13vAe7YgeYOTZoJsBRkJuS40JcuWcSZVg6t7+MhJihYtmiyyZs0qGjyovwyvXbeJUqRIKcPqDzRUe/XsRocOHVBJTldoqbVu3Y7qNwhwSg8usnzZEhoxYqgssnTZKurerTNdvXolSBXcP9xHJSuWL6UxY0YKLdyXKsnpmjFjZho1emyQ+/njj+epUaP6lmtLNYC1MHXKTEnIqDRc1b3G3isu1sL0aQ7yWC+D8EcffUzjxk+kTz751JwliNtH1K9fb9otiCVXUl0QTNjb7733nlMRnWzp1asfbdi4js4JAskskSJFpr59+1NZQVaZBbgNHz7EnOwUz5s3v8BuHIFo08WX/e1Lv/oYVLhUqaJSu1fFg7seOXrKmIsv+KMPb/dAYOBYmj9vjhymvuf0cZ85c4oaBTg+MJk1XdFv/Xq1LPeGaiNatOhyzefJk08lGVdv9wsauHXzJnXo0IYuXrxgtKcHunTtQUcOH6KDB/fLjy6r12zQs0MM79+/l/r26SWwfWBZNukHH4hnxBjKkOGrIPlqTyYTJye8ef4GafDfBE/W14SJUylvXgfm+h7t228gbdu2hY4fOxqkG+ztgYOGUvHiJYPkIcGX+2XZYARMtPt9KgJCwENmBBgBRoARYAQYAT8jwISoTTdAkZhWzZnz9LgKqyvqqzATolZo+jfNzhd4aG/Vq1tT3m8QHA0aBlDOHF/TS3F0Ho5vQJbiuCSO4UGsCFFo8kGDDlKjZm2qITS/oBF5/fo1qZW3Zcsmmde1W0+Zhwi0uH795bJMfy20/yZNHC/D2bLlkNpvMvLvn/RCCy1btuxGkjf9qcrqhy00gaJGjUa3b9+izwSJmExofGGe777rOJINsg2EE0TVAXGD4/25c+eVTo+gzQqtwTmzZ9GjR3/Lso0aN6VFC+dLggxtpBRkH7SSlglCDppZkFKlytDgIUFJVXcI0ZjiqDb2Zpo06ahCxUqURGgs/e9/v9JcodGlNAgxhlatHBp+skPxJzhCdNeub6lL5w6yaKFCRaQmVgaB+d17d+nH8+cJJAvmAJkzd6HUKHv06BGt/tdJE9KxVk6cOI6gJCtBWupSR2j4qrSQCNHeQntty+aNsnqOnF9TlSrVKGGChHRaaDHjBzzuGWTGjDlua4rqhCju9yWhGQwtv5SpUlEiQU4rswcFChamfPnyy/bPnftekkOI5MyZi6AtCY3n++L4/mahnQvtTxClhYt8Q6NHO9avrCj+VKtaUWhKXxIkcHTq0rU7ZcmSVR45vnTpEm0T2qrQHISgXWis6qLWG7S8cOwbWmkBjZoI7dg04uj5H7Ru3Rqh2XpYVkmX7ktauGhpEI3c/oIM3SA0tiHQ8MQHiY8+/khqb2NPKzIY6wTrRRedbAFx/7dY2w3ER4kMX30lCN7nUrN7o9A6hcSKFZvWb9gszADEM5rAUecSxQuLDyyv6dNPUxM0kh2abf8nNLJ/prlzZtHJk461YtW/t/vb136NCWgBOCJ7LNY6BHsImt+QChUqCyI/hQyrP/oa9wV/tOftHvCVEMVHA+wVSEBAEypUuIi8h5j78eNHheb8REny4/m5afN2J/MHvuwX9NeubSvx78I+BCl9+i/lvyX4WPKL+HcCz1RoJ8eJE1fsv3seE6IYf9UqFeR+BUkILdcsWbJJExQgWdV+xDpev2GLWNfOJk7UnvT2+SsnZfHHk/X1zTfFjI8n+h6Ftjqe/ZjTV+JUA0544EOI+ncX/65hTmZtcl/vl8V0ImSSne9TERIAHjQjwAgwAowAI8AI+B0BJkRtugWKxLRqzpynx1VYXVFfhZkQtULTv2l2vsBDi+3M6VOSUJk0aRrlyp3HaXI7tm+j7t07G2lmQhQ/TsuWLSlJg6pVawgt0N5GWRVo37417d+3Vx7D37Bha5AfmyAZc2TPJIs3DGhMbdq0V1WDXH3tT/2wRcPQ0MN80qZNF6QfPUGvU6p0WRo8eJieLX+w16hexdCwTZIkKa1YudZpniDOoHmltJ9AJiQT2ka6uEOIojxIS2jW6XYcgUvFimXpgSDrQNweOHjMIPlQB4SAKw1RHAddLEiy6NFj0NZtO4WNyNioYsiDBw9o1crlkgxOkzat09F5VcgTG6LBEaI/gISsX1s+fwoKchLzVEQq+gLp1bBhHbr2+++CoMsojvgvVkMI9qoTolGiRKFB4h6CYMCRWVfSsEFdOnv2jDwevHDRsiCalAsFSTNu7ChZXdcohpZdoYJ55BxAKoFINQu01S78KAhy0X+dOnWdiCV9vWGNzhUkdAJBCCuB+YC+fXsZpPHgwcMlQa/yz59/85EDR2lHjhrrZEYB44N5hp9+uijv+br1m6RtU1VfJ1uwxuYvWCIJKpWPK0wezJgxVSaZtWr37NlNnTo6CPnJU2ZQrly59arS/AGIoHvCFEdsQazVFB9RlPiyv33pV/Uf3NVdG4++4u/LHvCVEK1RvbI0IwLN57nzFgaBA2sDGvYQfAj47LPPjTLe7hc0ALK1ebPGsq3sOXLShAlTDG1bJELjtmWLpgQSDwKzC55oiCqyFR/9ps+YLT9QyIb+/QPzDNCohtQWpwCgBaqLvie9ef7qbbkKu7u+UF/fo3iG4UNVxoyOf0NV+/paaCdMtZg16n25X6qPt+Fq5/vU24AHz4ERYAQYAUaAEWAEwh4BJkRtwlyRmFbNmfP0uAqrK+qrMBOiVmj6N82uF/jff/9N2GYrJSdTuLDQchsz3nJisHN27NgRmWcmRGGHUR0h37L1W0uHL7DX1kCQXJABAwYHOWLrCSHqa3/6D9tZs+cH+WEsB2n6o9fZuHGboaWjF+vRowttF/bbILDtCJubZoEdSxwFh1h5qXaXEF21er3lMWmdpFq7VhxFT5lS9oU/wRGi+g/nRYuXU7p06Y167gbsIkS74+j+9q2SBMVx+uTJPwoyBMzl2rXf6R3x39eCbAuO1FSVdUK0eYtW1LSp4+i/yjdfYVsW5BAE5GlpQYSbRWqHFsor7YqWLVueBgx0HBGHrcl8eXNK4g+E5PjASeaqwcb19WYmO1VFEMNlhMkCmHuAVvWMmXNUFqm1CCJ5zdqNhqazUUAEoBXXqlUzmdSkaXNq0aK1ka2TLUWLFqcRI8cYeSqAORYunE/2X7xESRo2zEEMI//QoQOGvVrYGbWy/6vaMV992d++9Gseh1XcXcLKV/x92QP6XvbmyDxOC8CmZPz4CaQGqDJzYYWHnubLfkE7vXt1lxqN2MswafG50OI2y3ffnaGAhnVlsieE6NUrV8THojKyXpky5eQRcnPbiONDDExDRI78Hh08dMzpI4K+J715/lr1Z05zd32hnr5H8eFo7LgJ5ubo77//pqLfFJAmbUqLeQ8aNNQo4+v9Mhp6CwJ2vU+9BVDwFBgBRoARYAQYAUbATwgwIWoT8IrEtGrOnKfHVVhdUV+FmRC1QtO/aXa9wOsEArTIoDFnJXDeA5ufEDMhOmzoYFq5cpk8GlyxooNAMrfxz//9I486Y01Zacx5Qoj62p/6YQstQRAGupaledwqrurguCQ0L61kzuyZNGlSoMyaOWseZc2aLUixS8KxTfVqlWR6Z6GBBHukurhDiEL7E+O2IgHhrKhrl46yyUChYaWOfiMhOEIUx91bt2ou6+GYdl7h1Onrr3PRh0KD9WNxZDVJkiQyL7g/dhGi1QQ+lwVOrjTUghtDcHk6Iaprc7qq8+2O7dStWyeZDTIhtjgabiUwN4Aj/DiWPm/+IqMItIGVNhuO6BcWWr0geWCnEMfIsf5ciVpv0GY7cvSkk6avXkdpXuNI/bbtu4wshaF5TEaBfwOFC+WTx4+LfFOURo1ymLxAlk62tBba2gFCa9tKcAQZx5lxbH/RYocJAJSDlmfpUsWlsy+QslnEXiggiGGspeTCgQ2OQVutX9T1ZX/70i/6DkncJax8xV/V92YP+EqIThAOjeBQCYJ1VahQYcqYKbP80IV1G8t0lFxh5ut+UUQs+li5ap1qNsi1bJkS0hSLJ4To7t07hc1lx6kDK41l1Yn+jICGP8xjKFF70tvnr2onuKu76wtt6HvUrKGt91FJnBqAUzqzNr2v90vvI6KH7Xqfiug48PgZAUaAEWAEGAFGwH8IMCFqE/aKxLRqzpynx1VYXVFfhZkQtULTv2l2vcDDI/yokcPkZJYsXenSG62umWMmRHXtUXdQAekK8lUXTwhRX/tTP2xhP3Lzlh36MFyGVZ1kgiDEUXcrWb1qJQ0ZMkBm4Qc9ftibBZ7ZS5YoIpPbtutADRo0ciriDiEa3LjPaM5SzPcpOEIUg9BtBzoNSkTQZyFB6DUVDpXMx+lVWTsIURwFz50Ldv1eiCPgQU0TqL68uepkh5W5AnOb8Eg/eXJQrStzORWH7cHdew6oKEErrYE42g8TBmYBqZI+fQZhF7SxtEdrzlfr7cMPk9PGTa4dXSlTByAXDx0+IZ1WAcM8ubNLO4IhYeiKhNLJFiuNbjXeZs0a0YnjxyyPL28XWr59eveUHq9VeXWNHTsO5RDHolu2akMpU6ZSyfLq6/72tl+nQbiIuENY+Yq/r3vAV0IU9icbCzMqOPZvFnw8+lSQhBUqVCI45NI/Jvm6XwoWyCOdHRUoUEg6CjP3reJqfXhCiOofqzZs3GqpdY72g/tAqPakt89fNf7gru6sL1Vf36P9+g+i8uUrqiyna9MmAdJerxkvX++XUycRPGLX+1QEh4GHzwgwAowAI8AIMAJ+RIAJUZvAVySmVXPmPD2uwuqK+irMhKgVmv5Ns+sFXreBaNaI0WeII5QgTyBmoq1J44Z06tQJqU1Up249vZplOEnipEG81HtCiPran/phGxy5aR64O3XCihANbtzfCadDAQGOe2C+TyERopjzkSOHpSbvd8JuphWRBwc7OM6aIEECM0RkByGKdZDr62zSFms58QO/v/ihb5fohCiIcBAbwcn0aVOk0ySUad26HUWJ6lqjU7VTp47Dc7eKw1bngvlzJdEC7WCQXWaxOr6v1hvIQhx5dyWB44VH8flzZPb+A0el0xQdw/KCuOonPFC7Ehw/xscOOA+D0xUlOtkCMwAwB2AlzZs3lp6tzWSLKgtSeK5wuHbq5Amp1afS1RVHkydOmiocS32tksjX/Y2GvOnXGEAwAXcIK1/x1+t7swd8JUQxfTjDgvMomAD54fw5aRbBDAucnU0R9mEVKerrfsmbJwc9efKEzNrK5n7btG4h95OrNWcuj7g+tq1bd1KSpEmtigmzMEephVjTkCFDRlDJUqWNcmpPevv8NRoKJuDO+lLVfd2jOibePt/UWCL61a73qYiOA4+fEWAEGAFGgBFgBPyHABOiNmGvSEyr5sx5elyF1RX1VZgJUSs0/Ztm1wv83r27qWMHh/MT2CArKGyRWcm2bVuoZ4+uMstMtA0ZMlB6G8dxcpAy0FbzVEACuOtUydf+3Plhax6/O3XeBkJUzRt7/+7dO3Tz5k3hVOg7wvFKOBeClCtXgfoLO7BmsYMQRZvqiKfZLqa5P0/jnhKi0DTsIeyZQry1q6qPEZp3N2/eEKYLfiM4VAKmDx8+ELZSI9PadRudtNbUeoM37CNHTxmkk94ewqocvEjv2r3fyK5YoYz0Ip89ew7hQMZBmBqZWkBpJJvtnPpKtmhdGEHYM8T8L18STnl2f0v79u6VxLeZYPJ1fxsd/htwt19zPau4u4SVr/j7sgeg1QztP8jefYctNbr1eUyfPpvgxMiVgByFSYgbN26IDyaHCPsCDs0gOlnu636pWaOKdPL1xRdp5EcXV+NR2HpCiOr/fgVnN1p39rZ4yQonZ3tqr5nXqz7O4D5I6eVchfX7Mnny9CAODvV6vu5RX++XPpaIHrbrfSqi48DjZwQYAUaAEWAEGAH/IcCEqE3YKxLTqjlznh5XYXVFfRVmQtQKTf+m2fUC/+uvv1CVyg7tr+C0yZSTD8zaTIguEd7JRwsv5RB3bDPKgqY/0JwDIYqrK0/1qoqv/bnzw1b1pa7u1HmbCFE1b3XFfSkjHPjcFKTIxx+noHXrN6ss46prHO3ctV84ZYlv5JkDOvEAx0mwKakEBD2I+mjRokuTBvHixVNZxvXJ48fSYQgSEgv7pu6Q8J4SovDADpIGEpyNPlnAiz/r1q2hgQP6yppDhgpttJJBtdGQOWHiVMqbN1+QHuB1u0zp4vTgwYMg9lY7tG9D+/btCRbDixcuCMdfVWW79eo1pPYdHPZSkeAr2RJksBYJvXv3oC2bHdqv23fsNrzc+7q/LbpySnLVr1MhFxF3CStf8fdlD+je0hcsXEpffpkhyGxWLF9Kw4c7HIBt275baPcnDlLGVQI0zUFK4v2gUqUq1LtPf1nU1/3SrWsn+vbb7fIDwTrxTPhQ2Jo1C/69qla1ovx3whNC9OJFsdZrOtZ6/foB1K69w86yuX1lkxfPE9iKhj1lJe78G+ArIXpSaFI3bdJQdmn+d1aNQ1193aO+3i81jrfhatf71NuABc+BEWAEGAFGgBFgBPyDABOiNuGuSEyr5sx5elyF1RX1VZgJUSs0/Ztm1ws8iC44+fnll8vyh+iSpSvos88+d5ocHMM0bFDHOO5r/qF2585fVKF8aelpG05cZs2eF8QJzPXr1ylw/Bh68fIFFS1a3NJjN8idP/64Lh1ZLF+xxiXJ5Wt/7vywdQJARNypE5EJUXi+vy9sXcYTJGa3bj0tHaeo49FmBz4Kq40b11O/vr1kFF7JcZ9dSXCE6IH9+6hdu1ayavUateR49Hag8QfzDVevXqGUqT6hNWs26Nkuw54Sonj+oR/YUoz5/vu0evWGIMQRtD7HjBkpNehSpfzEIFpgi3DJ4kVyLLC3WLRYUCx08qRP3wHCC3ZlY+xqvSEhTZq0NGfuQmkf1CggAvpxebODLpChIOUgVhhC669t25bS03ykSJFo2fLVTjZvfSVb5olj8ieOHxfPlEgEW7m6cxo5KPFn1szp4sj1RBnFcX0c24f4sr996Vd2HsIfdwlRX/H3ZQ/8IJ7X9YRDLwhIdpDturx8+VKSitg/Zru3f/55m/r36yOLp//yS2rRonWQ5/DTp0+pWLFC9PjRIypVqgwNHjJclvdlv6CBHdu3UffunWVbxUuUpKFDRzr1jX+rOnZsS/v37ZVlPCFEMbY6dWrQhR/PS5IT5mGSCXvQupw+fUraTkVaseIlBWE8Ss92698AfU+b/510asxF5MaNP4QzsmIyt1q1GtS9R28XJX3/aOHr/XI5sAiYYdf7VAScOg+ZEWAEGAFGgBFgBMIJAkyI2nQj8JLrSsx5elyF1RVtqDAToq4Q9V+6nS/wuofx99+PJX6U9qKcwsM4SBMQO6NHjSB4iX/+7JmcsNUPvblzZ9HECeNlPkjR9kID53Nx9BHkxg/nztG4caPpr7/+lJ61Qb6kFLYRzdK9W2fasWObTMZR3wLi+L7SDvzkk08JRymV+NKfIpvwg9iVgyTVj7q6UyciE6K6gw2QVx07dZXHRePEiUMgSfbu3SO8fzvseRYu8o3QCHbca4UPriDVob2F5wYIxCpVqhFIwveivCeLFRckg7I3GBwhisKtWzenw4cOynpVqlanGoIYhf3SU6dO0qJF8+mMIC8gZs1Kmejij6eEKJr5/vuz8mMA5pQoUWLq2q0HZcmSTXwceE0/nj9PWIewwQnRnQ89EFqblSuVk2YHoG3WrHlLgjMxrHvsK2isjR0zyjBDYLbfq9Yb8AIRlE54ce/QsbO8J/hosHLFclq50uHVHUTiqtXrCcfrdWnZoikdPXpYJsHMAXBEWdynmTOmCXuJR2QenON0E3teF18JUZBL0HTD2NUzJUvWrNJTOTRbvz97lnr27Cq1W+PEjUu7dx9wIr+83d++9qtjYBV2lxBFXV/wR31v9wDWakDDesbaKlasBFUQZHuiRInkRwQQ0Vh/kK7i4wf2li7KaRHS8FGjbt369NnnX8hnN7yVLxYnAtasXimrmOt7u19U//Xr16ZzYs9BsF8aBjSWe+aXy5eEPd+p8t+jqNGiyX+LPCFE0Z7uGDBBgoTUuUs3ypw5q3Dg9pwOHz4k/43Cv3Fof62w25s06QeoZojak8H9u+ErIYr9UqJ4EflvJfZ+aeFYDt7hYY4Gki1bdkOT2tc9ivZ8vV9o420QO9+n3gY8eA6MACPACDACjAAjEPYIMCFqE+aKxLRqzpynx1VYXVFfhZkQtULTv2l2v8AH52EcNg6bC0JHedy2IkThFbyv0A7cIezLuRL8wOstjldCY85Krl+7RtWEturTp0+CZJuPOfrSnzs/bM0DcKdORCZE8UO8a9eOtHvXTqepgxB9IMg9JSA6Fy1cRilSplRJTtehgjRdtXK5U5qKHD5y0tByDIkQhaZUu3athb3Jn1X1INcKFSpT334DgqS7SvCGEEVbcDw2IXCctHfpqm04HYI9RV1AwLRq2cxpPYNsEQ9W6QFela1UuSr17t1PReVVrTcQqJ98+mmQ+6IK4/6MGTtBkLRZVZJxBXHaXmiJBochHOOMGjUuiEawHWTL4kULaOzYUca/IxhYrFixhSb5I0PbHGlDh42kEiVKIWiIL/vbl36NAbgIeEKI+oI/uvdlD+D+NRQOs6DF6Upy5cojHVqpjxSq3P3796hB/TrC1u1VlSQ1faNHj0GPHv1tpOED1bz5iylq1KhGGgLe7hfUheMxOE2CzVIrgV1hODfDxxJPCVG0N3/eHJo0KVB+lLBqH2Y6+vUfSPh4Yxa1J0OTEEWfuqaseQy6+Qw79ija9+V+mccXUeN2v09FVBx43IwAI8AIMAKMACPgPwSYELUJe0ViWjVnztPjKqyuqK/CTIhaoenftNB4gd+6ZbM8/gtnOkrwo7N3n35COygq1RVHDiFWhKgqD82hadMmCw2Xv1SS1PxKmzY99ejZm9Kn/9JItwqARJgyZRKd/+Gc8Ep9nV69eimLmQlRVdeb/tz5YavaV1d36kRkQlTNEz/GJ04cb+kRHI5X2rXrKLQV06viQa54Zqxfv1Z6qP5dOA8CuaLEE0IUdXAcfdTIYbRFrMtnz56qZqTmVpOmzZ2OmBuZwQS8JUTRJMjNIYMHEGwYquci0mE+AJjo3qiRrgTatZMmBoo5bApCwoAchPZd/QYBQbQ71XoDIQrtz9mzZ4gj+AsNchpap5kyZaZBg4cFOfqr+sZVHemHrU548FYCIrVW7brUqFFTQ2tX5eFqF9kCcwNjhUmBM2dO683LMGzRwjZrseIlguSpBG/2N+r62q/q33z1hBBFXW/xV/36sgew9qDdD3u8OCavBMfkGzdpJjVDzWSoKoN+Fy6YR/Pnz5GmUFQ6rvhAhg8ALVu1llrbep4Ke7tfUP/evXs0oH8fqQ0KbWoIyNgyZcpRp85dqHOnDnTw4H6vCFG0BS1i7GVou6q9DNMO6cS/Tf37D5LtopxZ1J4MbUIU/Z45c4pmCcdY//v1V7p166YxztAgRNGfL/cL9SO6hMb7VETHhMfPCDACjAAjwAgwAmGLABOiNuGtXvCtmjPn6XEVVlfUV2EmRK3Q9G9aaL7Ag5S8euWKOPL+BeFooTeCo/I///QTxRbEC467R48e3Ztm3K4T1v25PbAIWvDu3bvieO3/hBOlm5QgYQLpAR1EgD8E2qsgIv/8809pNiE4Z02hPT44c7oonC3h2Yh1rUw6hNQvCKlr134XJMwVedweWILsdLUvFPmCMmvE8V0I+sRx9/uCMEqbLp04Rvt+SN0a+cAQBPW1679Lwies7yVwuyo0DqF1GCNGTEHiJpPjcEXIGQP/N+Dt/va1X/M4vI37ir8vewB1r1+/RnfER6qPPv7Yo2c66t68eUM8C64KMv6+/BgBB2jurntv9wtwBil74cKPFFmQlWnFRxiQlnbKI6E9C9MBUaJEoc8//8LQXrezj4jWli/3K6LNVR9vaL5P6f1wmBFgBBgBRoARYAQYAVcIMCHqChkP0xWJaVXNnKfHVVhdUV+FmRC1QtO/afwC71/8uXdGIDQRsCJEQ7M/bpsRYAQYgf8qAvw+9V+98zxvRoARYAQYAUYg/CDAhKhN90KRmFbNmfP0uAqrK+qrMBOiVmj6N41f4P2LP/fOCIQmAkyIhia63DYjwAgwAm8Q4PepN1hwiBFgBBgBRoARYAT8gwATojbhrkhMq+bMeXpchdUV9VWYCVErNP2bxi/w/sWfe2cEQhMBJkRDE11umxFgBBiBNwjw+9QbLDjECDACjAAjwAgwAv5BgAlRm3BXJKZVc+Y8Pa7C6or6KsyEqBWa/k3jF3j/4s+9MwKhiQAToqGJLrfNCDACjMAbBPh96g0WHGIEGAFGgBFgBBgB/yDAhKhNuCsS06o5c54eV2F1RX0VZkLUCk3/pvELvH/x594ZgdBEoGuXjrR7906CA5vVazaEZlfcNiPACDAC/2kE+H3qP337efKMACPACDACjEC4QIAJUZtugyIxrZoz5+lxFVZX1FdhJkSt0PRvGr/A+xd/7p0RYAQYAUaAEWAEIj4C/D4Vce7hxg3r6LvvzlD06DGoc5duTgN/8OABTQgcK9NKlChF2XPkdMoPi8jwYYPp5cuXlC1bDipZqnRYdMl9MAJhgsDcubPoxYuX4kN9CsL+epvl9u3bNH3aZDnFcuUrUsaMmd7m6fLcwhECTIjadDMUiWnVnDlPj6uwuqK+CjMhaoWmf9P4Bd6/+HPvjAAjwAgwAowAIxDxEeD3qTf3cMH8ubRs+RKZsH79FnrvvffeZIaDUP/+fWjD+rUUO3Yc2rvvkNOIbt68QaVKFpVpXbr2oJo1azvlh0Ukd67s9OzZU6patQb16Nnboy5fv35NZcuWkHWqV6tJ9RsEeFQ/rAt37tyefvzxPKVNk47GjA0M6+65Px8R8HS95c2Tg548eUJ58+anCROn+Nh72Ff/7sxp6tnL8RFl8ODhlCVLVpeDuHz5ElWrWlHmDxg4ROzL8i7LhnZGeH8mh/b8/2vtMyFq0x1XJKZVc+Y8Pa7C6or6KsyEqBWa/k3jF3j/4s+9MwKMACPACDACjEDER4Dfp97cw8mTJtDs2TNkwtFjpylKlChvMsNB6G0mRF+9ekU5sjs00RoGNKY2bdqHA8RdD6Fhg7p09uwZyvBVRpo/f7HrgpwTLhHwdL1FdEL06NEj1LJFE3kvJk+eTrly53F5X8ITIRren8kuQeQMrxBgQtQr2IJWUiRm0Jw3BKfK08uqsLqijAozIaoQCz9XfoEPP/eCR8IIMAKMACPACDACERMBfp96c9/C+49vJkTf3Ct/h5gQ9fcd8K1/JkSZEPVtBXHt0ECACVGbUFUkplVz5jw9rsLqivoqzISoFZr+TeMXeP/iz70zAowAI8AIMAKMQMRHgN+n3txDJkTfYOFNyJcj854SVN6Mz846TIjaiWbYt+Xpeps9awa9ePmCUnyckkqVLhP2A/axR9YQ9RFArh4mCDAhahPMisS0as6cp8dVWF1RX4WZELVC079p/ALvX/y5d0aAEWAEGAFGgBGI+Ajw+9Sbe8iE6BssvAkxIeoNalzHHwh4Soj6Y4x29smEqJ1ocluhhQATojYhq0hMq+bMeXpchdUV9VWYCVErNP2bxi/w/sWfe2cEGAFGgBFgBBiBiI9AaL5PgXT444/rlCzZhxQ5cmSPwHr69Ck9fvyIEiZM5FE9vTDe4x88uE9x48bTk12G/UGI3rt3Tzpvev/9912OS2XYeWQe3uBv3PjDq3uD8eC+JkyYUNhZjaqGR/4kRH2djzEJNwOhpSH6/Plzevr0idtr1mq4f/31J73zzjuUIEFCq2y30h49ekRRo0b1yrGYHf27Nch/Cz18+FDa+40WLZrb1UKbEPVkX7sa9IsXL+il0EqNGTPkZ4OrNlS6HYToP//8Q3fv3pHrCuvLE0FdYJIgQQJPqpE/nskeDZAL24oAE6I2walIFuSgaQAAQABJREFUTKvmzHl6XIXVFfVVmAlRKzT9mxaaL/D+nRn3zggwAowAI8AIMAKMQNggEBrvU/v37yUcMf3pp4uEH/Xw1p76s8+pnPBWXL1GLZcTAxk0aeJ4Onz4EF29eoXwIxqkTrp06alN2/aUOvVnlnW3bt0s+0Pm1Gkz6c6dO7Ri+TI6eHAf/fXXX5JcypEjJ3Xu0s2JYL116xa1atnUaPPu3bt0//49GU+V6hNJKhmZIrBk6QqDADT3+e6779KSJYsIxMNt0e6z589k1SaNm1G9+g31ZiQROX7cGPr++7N069ZN2c+HyZNTtqw5qF37jhQnThyn8ipiByG6ccM6Wrp0MV2+fJlevXrpuDcC17r1GlCJEqVUV5bX27dv04jhQ+jUqZP08OEDSZhlypSFGgY0ohw5vvaYEJ00MZD27t1t9PXrr7/IMAjs+PHjG+kIlK9QierWre+Uhogn8zl79jsaPKi//H33/vuxaHzgREviEeuue7fOhPHgvg4cOFTes8mTJxj9XxeE8PNnzyiqIOE+FIS/Lljrw4eP0pNCDKt5XLp0Saz71/T551/I+1G/QYAkhfbs2SXXxew5CyzbunPnLxo1agSdPnVCrnkUwseE7NlziHXfneLFs/4oENCwrriXD6lQ4SLUokVrWrx4obwn3wusiN6hlClTEsZQpkw5y35Voh39t2rVlvbt20NrVq+S+x/78f/Ef5HejUR79x1SXckrnhWBgWPp0MED9Pvvv8k9BNy7iLlmyPAV1a5VTZarVr0mVatWQ4Z9WW/NmgbI50q+fAXkHnUazL8RfGDwZl+PGT2Cjhw5TIkTJ6EpU2fQnt27aNOmDfJZAnIcH5SKFS9BzZu38sjRW4vmTejPP2/L0eEDE8YH+eCDZBQ9enQZVn969e5LmTM7PM+bnSrlz1+QMMZt27bKZ0aMGDEobdr01KlzV0qTJq1qwvJ64vgxmjFjGl24cJ6ePHkiyN2YVK5cRWrVui2tWrWCNqxfK+utWr1eXn15JlsOgBMjFAJMiNp0uxSJadWcOU+Pq7C6or4KMyFqhaZ/00LjBd6/M+LeGQFGgBFgBBgBRoARCFsE7HyfApEE0mje3NnGO7R5NkW+KUpDh44Monl25cr/qGuXjoKou2SuIuMgnrp160kVBDFmluXLltCIEUNl8owZc6hL14704P59czGKEzcuTZ8+W5JNyLx+/TqVLVM8SDlXCYePnCSlhab3uXTZKkmggcQ1S8uWbahxk2ZGMsjivn16SULRSNQCST/4QMxljCR1tGQZ9IUQBTE9dOggg4Awt414pUpVqEfPPhQpUqQg2SdPHKeuXTsZhLFeIFq06DRt+ixq3qwxPXv2lKpWrSHa6a0XsQz37dNTEj+WmabE+vUDnIgob+cTOH6s8Ao/R7aeM2cumjxluiQ99e7GjBlJixc5iMcWLVtTkybNBW7rqH//kOeEdtKn/5IWLlqmN+ky/Pr1axoyeCCtW7faskyzZi2lNu7Gjeslebt7z4Eg5U6fPiXWXyeDCDUXANE2YuQYypgxkzmLChXKK/dKuXIVKFbs2Ma8zQUrVqxMffoOMCfLuF39p/8yAw0Ta9QsWI8nTp41kqGd3KFDW7r0809Gmgqg7NBhI6mbWKsQ4NeseUsZ9mW9FS9WWJKL+GiA9s3iy77u0qUD7dr5rSQ+O3XuRp07tbN8foIknztvURAy0zwWFS9VqijdvHFDRYO9Tpg4lfLmzSfL6IRo334DBRG6hY4fOxqkPj50DRw0lIoXLxkkDwkLFsyjiRPGEda4WbJkySbJ1CVLFsqs02d+kFdfnsnmPjge8RBgQtSme6ZITKvmzHl6XIXVFfVVmAlRKzT9m2bnC7x/Z8K9MwKMACPACDACjAAj4B8E7HyfWrduDQ0c0FdOJHnyjyigURNK/WlqunDxAm0ShM65c9/LPJ2kQAKOr1atUkFqhSFeqnRZKliwEMWJHUfWmTt3ljg+/xhZNEdoyGXKnEWG1R+dnIRWXOT3IlP9eg3pk08+pdtCQ2q10ET67rszsnhmUVdp2eFYMPKUHD58kE4I4g/SunW7IMRgHaGhCMIFovf5mSAqQM5A8yplqlSUCGOI7DARUKBgYcqXL7+s89tvV+U8cbwbZAI0R0EMvHjxnI4IrdgVKxwkGjQk12/YQrFixZL11B9fCNF582bThMBxsqkaNWtTDaGpmzTpB4IUvia1a7ds2STzugrSGXm6QLOrQvlSBuEGUggaa/HixZdarjOFBlikSO/So0ePBfkh7qWbhOiBA/vp118uy65eCzId2sGQbNlyUJ48eWVY/QFZli1bdhUlb+cD0r5Vy2Z07NgR2VZAQBNq3aad0e6WzZuod+/uMl648Dc0avQ4qX0IkgjaiEpwr6BxBwK7erWaKlleEyZKRKXFGnZHoK07auQwWRSawQ3FeECogvSDBt05oUUM0wRK09lMiD4R+6JcuVLyKHPyjz6izoJQg6Yf5nn06GGp2Ye6SZIkpXXrN0utXn1cihDFvsFR93LlK8r1GiN6DIJGLchjaGNCpk6bRTlzfq1XJ7v6h0b2b7/9Jsjpd6T2YeLEiSm2IGgh7wgt3V69HM8VxFu2aCrnhnCmTJnlmDG/8z+ck+ONFCmy8cFBf9b4st6CI0R93deKEIX2JLiHNGnSUYWKlSiJILL/979faa74wARNckijxk0JmrTuCNbPY/GMg2CMa9c6SPcKFSpTihQpnJr45ptiBC11iE6IfvxxCtk3nlVffZVRroXdu3aSel7gGYBnldnkB9ZOwwZ1ZHtRokQR2t0NxHM7s/igcl/WxfMutni+Q9McoghRX57JsiH+E6ERYELUptunSEyr5sx5elyF1RX1VZgJUSs0/Ztm5wu8f2fCvTMCjAAjwAgwAowAI+AfBOx6nwIxUr58aXGs9C8CGQpNJt1eHEhPHEPevXunJGW+3bnP+BENTaLx40ZLAEBEgkjV5dKlnwlHe0GKpk2bTmrf4SizEp2cBMm3fMUaJzIR5FCLFk0IxzchVqQq0j2xV6f3iR/8gwYPI5AKwdnWa9e2FR04sE+Qh5Fp+ozZggx1HFFF3xAcm+7Xr7cM165dVxxJ7SbD6o+3hCjMAJQtW1KSI67IyvbtW9P+fXulFu2GDVud8JsyZSLNmjldDsNMICIR2r0N6tcxyA1Xfah5WF2xPnJkd2gwNgxoTG3atLcqJtN8nQ/sytauVV2Sjrhfo8cECk3JwnTxwgVBSNaVR+FBpi9YsIRiCJLKSuywIfr3338LMrOk1NAECT537kJKIY6oKwFR3r5dG4P8QxkzIarWLI4xL1u+Wu49VR/XH8RHiIZi70BLz6ytjHxFiCLcsVMXqlPH2SwBNIObiuPikByCDJ0mSFFd7Owfx9F79e4njo4n1rtwCh8TmootmjeWaXnz5qcxYwOdtM1/Fh8m8KwAiQ/RCVGZ8O8fT9YbqgRHiPq6rxUhin4KFSoiSXj9+Yb1XrFiWblOYNf1wMFjxgcX1HFHvLUhiv0xR6xLs3YxzBXMnzdHdt2uXUdpVkEfR6OAenTmzGn5AWma0MrPmjWbkY3n8YD+fQhaz0oUIari6qrWF+JHj532yGSAaoOvEQcBJkRtuleKxLRqzpynx1VYXVFfhZkQtULTv2l2vcD7dxbcOyPACDACjAAjwAgwAv5DwK73KWgjDR0yUE5kwIDBVFYcwTULiKjz5x1HI9Onz2DYyixWtKDUgAORunbdJvkj2lx34sTxNHeOg4zBsffsOXIaRXRysnuP3obNQKOACOjETq9e/ahylap6tgx78uNb77N5i1aCNGoRpD094eqVK4LUKCOTYI8RR02tpH792lIrMHLk9+jgoWNOBIC3hChsm44eNVx2t2Xrt1Iz1Nw37Jk2EH1DzPevRPEidPv2LWmTctPmbYYdVb0N2IyFuQRIaBOivs4HYwRxBhIXR/xjCodWEydOpZ49u8ojxrFixRak+1KCdpwrsYMQXS/sJ4IYgliRSkiHHVNoT+M3qRUhWiB/bvr774fSxmo/cbzZSqARe+TIIanBvHnLDqciihBNlCgxYW0oDWi9UONGDej06ZNSU3XHt3v1LLKrf2jHbti4zYmId+ro30jPHl3lEW4QdStXrZNa4OZy48aOpoUL58nk0CZE7djXOiEKW5og480ybepkYYtzqkxeu3aTE3FuLmsV95YQLSg03MeOc+xrvV2Q+UW/KSBtRJcWz7NB2vPsqjAdUrGC41lXrFgJGj7C8bFLrw/7sKVLF5MfH5DOhKiOzn83zISoTfdekZhWzZnz9LgKqyvqqzATolZo+jfNrhd4/86Ce2cEGAFGgBFgBBgBRsB/CNj1PjVSHPtdJo7/QrMJtjahNemOPHjwgAoVzCOLWmkfqjb0Y5ywJao7Z9LJyXnzF8ujnaqeukLLqnAhh428euI4ffsODhuDKh9XbwlRVxqnetvQjO3cyaH1OHnKDMqVK7eebYT1uaxYudbJkZS3hOiwoYNp5cplwv5pdEHKVjb60gP//N8/whHVUvnbR78Pz4TjoNy5HNpd1YWDmm7de+nVjDCOj5cuVUzGQ5sQ9WU+xoBFALYRQbBBQLDhdx/Wb+CEyeLIvmOtyEyLP3YQohOEfUXY24VAY1rXqNa7rFunhvyQYCZEQSp9U8RhjgHOk1Kn/lyvZoTPnTtLP4jj5I69ecKJ0FaEaK5ceaQ9VaOSFoAjreVibUAOHT5h2LC0s38r7VNtCEZQYQEHSiuEJriVQNO3Vi3HB4/QJkTt2NeKEIX2J56dWItm2blzh7SxjPTACVMMMxzmcq7i3hKiVlrFqo9KQmsV2uEZxFH6+eK5q+SgMC3Rto3jA9HoMeMJpiesRGmlI48JUSuE/ntpTIjadM8ViWnVnDlPj6uwuqK+CjMhaoWmf9PseoH37yy4d0aAEWAEGAFGgBFgBPyHgF3vU8quXxJhy2/rtp1uT0i3NQcHHlZOk9BYcMScTiJu2rxdOiexGkC2rF9J24quCDtvCdHg+lTjmDN7Jk2aFCijGzZuDXK0WZU7dOgAtWntIBNGjhorj+GrPG8JUXibVjYzVVvBXXH0H31DYK6gerVKMtypU1eqXaeeDJv/4Bhsrq+zEuyjusLXXEePe3KE2Zf56H0iPHbsKFq0cL6R3Foc1Q8QR/ZDEjsI0c6d2xPsMcJ2JI5Bu5IePbrQduHh20yIwi4ujod7ItCq/FTY9VWiCNGyZcvTgIFDVLLTdebMaTR1yiSZtnPXfoofP74Mh1X/+mDw8QQfUQoUKETjxk/Us4zww4cPqWABxweH0CZE7djXihCFDWKzBq+a1Jkzp6hRgMOcAZyuFS1WXGW5dfWWEO3Xf5AwhVLRso+mTQLo5MnjBPuvq9dsMMosE07uRv7r5G7J0pUuPdGPGjmcli5dJOsxIWrA958OMCFq0+1XJKZVc+Y8Pa7C6or6KsyEqBWa/k2z6wXev7Pg3hkBRoARYAQYAUaAEfAfAna9TzVp3JBOnTpBH36YnDZu2ub2hE6ePEFNmzSU5WGH05UzGhBtINxAvEHLUfd4rROiIBRALFhJ9mwZpS1FV4Sdt4RocH2qcUyfNkV4uJ8io1u37qQkSZOqLKerbiNxyJARVLJUaSPfW0JU3Rt4G69T15rQNDoRgSSJkxqEy4ULPwp7m9VktlkzV6+DcO5c2T3yMq/X94QQ9WU+ep8Im73Ht23XgRo0aGQuFiRuByGqbE/GiRuX9uw5GKQPldCvby9pb9FMiOp7B86QUqd+Q3SquuZr0aIlhIOlJEayIkThZb6/MHVhJbAfCzuyEJ0QDav+9TGpNVa0aHEaMXKMnmWE9Y8noU2I2rGvFSGaLNmHhI8rVvKdsMcZIOxyQsKSEAVJDrLcSpoLW67wPm8mRBfMn0vjxzvujSsTAGgvcLywQyqcdkGYEJUw/Of/MCFq0xJQJKZVc+Y8Pa7C6or6KsyEqBWa/k2z6wXev7Pg3hkBRoARYAQYAUaAEfAfAna9Tw0R9kPhsR0Og44dPy2P57ozK3i2Lla0kCwanC1OeEmuIJw2QTp07CK8Fr9x/hIRCFH9ePas2fODOFSSExN/1qxZRYMH9ZfRxUtWSCdSKs9bQlTdG2gi7j9w1PJIrurDfIXX5/z5HJ7FrRw9qfL6fXRFOKuyVldPCFFf5qP3/eOP54XWXT3DizryYENz8pTplCOHszd1vR7CdhCio0eNoCVLFsqmDxw8KjRF3zd3I+ONGtWnM6dPBdEQhQOzot8UlGXad+hM9eo1kGFP/vhCiIZV//p8qglt5ctCa/nLLzPQgoWOY/x6PsK//HJZ2l1FOLQJUTv29dtGiO7WzINMnDTVpfmJrl06EkwBQJgQlTD85/8wIWrTElAkplVz5jw9rsLqivoqzISoFZr+TbPrBd6/s+DeGQFGgBFgBBgBRoAR8B8Cdr1PLVm8kEaPHiEn4srGHbQ87965I8vEix/PsGWYP18uevTob0qf/kvpQd4KjUWL5tPYMaMs27eLENW1vXRNOKvxuNunqnvxorBrWNNh17B+/QBq176jynK6Krt6sCOIY9TwHq7EW0JUvzfu2DtV/alrkcL56d69u9LJ0Jq1Gy3Jbt2pljeEKDR/4WUe15Dq+zofzAv2L6H5euvWTYKGZq9efalP7x6SHIUm5lJx1NeVFi/qKy1Vs3Yc8twV2GwdLuxzQoYMFdrAJd9oA6s2QDqWKVNCOp8xa4iijNo77trgVO2qqy+EaFj1r8aKa6eO7YQ27S6Cvc1Nm3dY2l1dKEwgjBOmECCuCFFP1hvaceVl3o59HRaEqK7NG5KGqW6v2RsNUTgsq1HdYasYJjZgasMsz58/lzaH7951/HvgihD15Jls7oPjEQ8BJkRtumeKxLRqzpynx1VYXVFfhZkQtULTv2l2vcD7dxbcOyPACDACjAAjwAgwAv5DwK73KWgIQoPzyZMnlC7dlzRn7nyD8FSz696tM+3YsU0SarAzCs/WkDFjRtLiRQtk2Gw3E4kgr/ADG33gWOmatRuc2naXnAzpyPzGjesJx5MhOI6LY7muxN0+VX38pqgjnONcEFqJIDnhMAlz0eW00AJsLLQBIcWKlxRkmYPUUWW8JURBquHePH78WDicykSzZs+jyJEjq2bl9fr16+II6xh68fKFnLduumDo0EG0auVyWa5Hzz6CsKzuVPfBg/tUs0ZVunnzhkwPidB0qqxFypQuTn/8cV06klouHOZYOZdBcV/n8/r1a2rWtJH0nK5rhG7evFGSougD5PzsOQvEOrN2Dta/X2/asGEdvffee8JExHZKnNixllHXXcFc4ZjmxYsXlDJlKlq0aBnFEFq8ugwePIDWrF4pk6wI0fHjxtCCBXNlfmDgZMqXv4BeXYZBEJ46dULe86GCeI0SJapRxldCNCz6NwYrArqJg1q16lLnLt30bGlftGqVCvJZgQxXhCjy3F1vKOuKELVjX4cFIao7PatWrQZ179Eb07IUXwlRaHtXqlSWrv3+u3zWrV6z0clMAzqdO3cWTZww3ujfFSHqyTPZaIwDERYBJkRtunWKxLRqzpynx1VYXVFfhZkQtULTv2l2vcD7dxbcOyPACDACjAAjwAgwAv5DwM73qXnzZtOEwHFyMpkzZxFakJ0otXDgckFoR27etJHWrVst8ypVqkK9+/Q3Jo1j2eXLlZJaiDhy37p1WypQsBDFihWb4CEbR4tBHkGsCFN3ycmQCFEcta1WtaJ8/4/5/vtUpUo1SpXyE3ovynuy7+KCpISnboi7fcrC//7RndAkSJBQkjmZM2cVhNhzOnz4EI0bN1pqAkaNFo3WCk3MpEk/0KuTt4QoGtEJCJCi7YWG6udfpJHk4g/nzsm+QTiDAFy2fLUk6FTnIKTLlyspCVWQlE2btRTajKUoXrz49P333wmbhkPp1s2bUrsTZKO3hKgizNEvvKYXKFhY9BFPDuOTTz6lL8R4lfgyH4wX9w/SuXM3qlX7jWMi3dGLeZ2qvnFdKQjiYYIohiT/6CPhDKyyJH2wPuLGiUu5cueReSH90e0ownN61y7dxQeF9PTHjT9osdC6Xr9ujVxz0Gi0IkQfP8beKS0+GtyR5Gybtu2pUMEiEjfzvrNynOQrIRoW/esYAgc4+cJehdSoWVvu06TCmdsP58+JjwhD6Y/r1yTJjPzgCFFP1psrQhR9+Lqvw4IQBW4liheRRDHWKD54wDt8zH8J+GzZshsfqHwlRIHJju3bqHv3zgjK51gPQcBmEv8m3L9/jzZt2kAzZ0yTzxp8DIC4IkQ9eSbLhvhPhEaACVGbbp8iMa2aM+fpcRVWV9RXYSZErdD0b5qdL/D+nQn3zggwAowAI8AIMAKMgH8QsPN9Ckfie/fqTt9+a+0YBDOE9ujUaTMF2RnLacLwgtxD/IB+IDxIu5I6wm5oR2E/1CzukpMhEaJoV9eGNPdz+MhJiibISoi7fZrbmD9vjvQ2D+LQSqJFi079+g8kkK9m8YUQBfHQV2i/7ti+1dysEQdRAqK6QgWHV3kjQwS2bt1MA/r3MYgmPQ/hpk1bCE3FeV47VUIb169dI9iIfPr0CaJOYjYz4O18Ngqtzn5CuxNSpkw5GjhoqFM/uC/NmzWWGpXIcOVl+5XQgqsljtzDnqVZoF26UGh7uiP4GNCqZVNB/H9vWfzjj1NQ6s8+k97orQhRVDp+/Ch179ZFkk2WjYjE1Kk/o3nzFgXRQPWVEA2L/s1zAgHZvl1revgw6LMChD2Oefft01NWC44Q9WS9BUeIoiNf9nVYEKIYo05SIq7LhIlTKW/efDLJDkIUHEqPHl1dPm9gAxb7ZLkwGwFxRYgiz91nMsqyRGwEmBC16f4pEtOqOXOeHldhdUV9FWZC1ApN/6bZ+QLv35lw74wAI8AIMAKMACPACPgHgdB4n1omtO9mTJ/qRNDEjh1HaiW179BJarJZzRZahiD9Tp06Sa9evTSK4Gg5jsYWLFjYSNMD7pKT7hCiePdfv36t0NBcTb//9pvTHOwgRDFuHI0fIo5CX7nyP+O3Bo5upxMEQf/+g6TXZn1+KuwLIarawPHradMmC02xv1SSPJqeNm166tGztyQpjAxT4OKFC4JU7UkgTJTEj59AaIy2EERmDZ+8zKv2oAk8ZcokOv/DOcIxfrUOzISoKu/JfM6f/0E6UQKZ6jgSH9SsA9qFRmyd2tWlCQDYqpwzd6GTcyvVN8xDzJk9kw4e3E/Xrv0uzUUgzxNCFOXxIWGssHmJuSAMgaZ0gYIFqU+fAdI272ahVQesd+7aJ/PNf27fvk0DBvShkyeOG22gDMwz1KxVh5o0aW55/N8OQhT9hGb/aN8sWBv4+AINZfV7PWHCRNSgQQBVFBroeXJnl1WCI0RRwN31FhIhira83ddhRYhijGfOnKJZs2bQ/379VdrPVdjZTYiiLwjMNcyYMZUeC+IfgnX9VcaMQqt8NC1auMAw9xAcIeruM1l2wH8iNAJMiNp0+9TGtmrOnKfHVVhdUV+FmRC1QtO/aaHxAu/fGXHvjAAjwAgwAowAI8AIhC0Cofk+BbIBpF+Kj1PSh8mTuz0xEFYg3f7++29xTPoLeVTY7coRqCC0A+GUBcfUP//8C0P7NCymcOfOX/TzTz9R7DhxCMfRo0eP7na3sBl68eJFwjHlFClTul0vNAv6Mp/QHJcnbWPd//zTRfpbrIuMGTMZDrVaNG9Cx44dobTiKP3ixQ5brq7aBaGKY8b3BKmbMlUqeVwZWpNhJWHdP/YQ7PImTJTI5YeEsJq76sef+1qNITxdwafg3wGQ5hmEZqjZTm54GiuPxb8IMCFqE/6KxLRqzpynx1VYXVFfhZkQtULTv2mh+QLv35lx74wAI8AIMAKMACPACIQNAvw+FTY4cy+MgDcIwPZj6VLFpDZf8RIladgwZ0db3rTJdRgBRoARCI8IMCFq011RJKZVc+Y8Pa7C6or6KsyEqBWa/k3jF3j/4s+9MwKMACPACDACjEDER4DfpyL+PeQZREwEDh48QEePHJaDB9mZIcNXQSYCBzTKHqbZAVSQwpzACDACjEAERoAJUZtuniIxrZoz5+lxFVZX1FdhJkSt0PRvGr/A+xd/7p0RYAQYAUaAEWAEIj4C/D4V8e8hzyBiIvDzzz8JW6U1pJ3UqMJZV9u2HShr1mwER0qwp7tr17fS/iKO0sOO7pq1G4R5hagRc7I8akaAEWAEQkCACdEQAHI3W5GYVuXNeXpchdUV9VWYCVErNP2bxi/w/sWfe2cEGAFGgBFgBBiBiI8Av09F/HvIM4i4CMCR0rBhgwne7V0JHCONGjWOcuXO46oIpzMCjAAjEOERYELUpluoSEyr5sx5elyF1RX1VdhOQhRfAx8+fGgM791336UsWbIacQ64hwC/wLuHE5dyIACvm1u3bpaRjp26UMyY74c5NHaMYeLE8XT/3j1KkzYdVa1aPcznwB2+/QhcuvQznRYenq9dv0ZPHj92mvDXX+emosWKO6WFt8jRo0cI/87eEM5coFWjS/UataTjEj2Nw8Ej8P33Z2n9ujWyUNNmLSlJkiTBV+DcCIcAv09FuFvGA37LEMC/WWNGjxBeyk8LYvSVMTt45M6RMyf16tVXaogaGRxgBBgBRuAtRIAJUZtuqiIxrZoz5+lxFVZX1FdhOwnR5s0b0/FjR43hRY78Hh0/ccaIc8A9BPgF3j2c9FKdO7enH4UnxrRp0tGYsYF61lsfXr5sCY0YMVTO89udeylBgoRhPmc7xlC2TAm6LoiqwoW/odFjxof5HLjDtxcB/Hs3ZPAAWrt2tfFvn3m2tevUo06dupqTw0X8rvCo20U8486cOe1yPOPGT6QCBQq5zA+LjO/E+Hr26ia7Gjx4eLj/IKrbr1u+Yg199tnnYQET9xGGCPD7VBiCzV0xAsEg8OrVK/r999/oD/FBL2nSD+TR+ffeey+YGpzFCDACjMDbgwATojbdS0ViWjVnztPjKqyuqK/CdhKizZo1ohPHjxnDY0LUgMKjAL/AewSXLNywQV06e/YMZfgqI82fv9jzBiJwDTvISF+nb8cYmBD19S5wfVcIrFq1goYOGWhkJ0yYiNKn/5LeeecdI61gwcJUrnwFIx6eAt27d6Ed27caQ0qd+jNKnvwjI45Ao8ZN5ZycEsM4Ag3Wli2ayF4nT54e7o9AMiEaxgvED93x+5QfQOcuGQFGgBFgBBgBRsAJASZEneDwPqJITKsWzHl6XIXVFfVVmAlRKzT9m8Yv8J7jz4Qoa4h6vmq4xn8FATh2+PHHH+R0AydMoTx58hJMukQEefLkCeXNk0MONUmSpDRl6gxKleqTcDl0JkTD5W35Tw+K36f+07efJ88IMAKMACPACIQLBJgQtek2KBLTqjlznh5XYXVFfRVmQtQKTf+m8Qu85/gzIcqEqOerhmv8VxDIl+9revzoEaVJk5aWLF0ZoaZ98cIFqlWrqhxzeD7WjwEyIRqhltZ/YrD8PvWfuM08SUaAEWAEGAFGIFwjwISoTbdHkZhWzZnz9LgKqyvqqzATolZo+jeNX+A9x58JUSZEPV81XOO/gADsluXInklOtW7dBtShY+cINW2dZAwMnEz58hcIt+PXx8pH5sPtbfpPDYzfp/5Tt5snywgwAowAI8AIhEsEmBC16bYoEtOqOXOeHldhdUV9FQ7vhChsfB0+dJB++fUX+v233yhRokT06aep6csMX1Ed4QQjSpQoBhyrV62kbdu2GHEEWrdpRxkzOn4Mq4z+/XoL5y3XVZRq1qotHbkYCSIwbuxo6aRHpWXOkoVatmyjoqF6DYsXeHhYjhI1KkWOHNnlXB4JjSqsk1ixYrksE1zGrVu3KF68eE73KLjyyEN/f/31J925c0fUjU8JEyakSJEihVSNQpsQhVOTFy+eS0PwIQ7GhgJPnz6lx48fifknCrE1V/Y7cdQWWMLWoKfHgzHXp0+fUZw4cULsHwXsGIOnNkQxN9iAtNuJ1MOHD+WajRYtmltzd1UI+yeq2GOeOA3wdv27GoNd6RjXH+KZif0cI2ZMu5q1bOf169d088YNevzksXjeJ6a4ceM62fq0rBRMok6INgxoTG3atA+mdNAsb55jQVvxPsUXktHXtezpffdlrN4j9Kamp88ttiH6Bru3NRQW71NvK3Y8L0aAEWAEGAFGgBGwBwEmRO3B0SAxrZrDDxdd9LgKqyvKqXB4JURBJvTv35t279qpT8spnFp4hB01ciylSJlSpp8+fYoaN6rvVKZGzdrUtWsPI+327dtUonhhI45A/vwFaXzgJCPt5cuXVCB/bnr27KmR1rt3P6pU2XFs0UgMpYCdL/BjRo+gI0cOU+LESaTtuTWrV9L2HdvozOnTkqjJlDkz5cmdV5DCdQzSAZ6YZ86YRjdv3pAzhDfI/EIrqW27jhQjRoxgZ33y5AmaOXMa/XTxIj18+EAQru8JAvtTKlKkKAU0auKSmLt37x7NmzubVq9eQSDylIBQQt169RvS559/oZJpz+5dNHnyBCN+XXitfP7sGUUVJNaHyT400hHAOhk+fJRTmquIwuvDD5NT4ITJtHHDOpoyZRLdunVTVgH5BvuDnbt0p/fffz9IM7/9dpU6dmgr00HG5xbYrhN4bhcOUW4IPP/++2+ZlzVrNho//s2aQ+Lz589p0sTxdPjwIbp69Qr9888/kuxLly49tWnbnuBIxUrMZOS1a9do9KjhktDHPsc9++qrTNS1Ww9KmTKVVRNG2jLhsX7D+rV06dIlev36lSRkmzZrQZXF2u8hHLtcvnxJOm4ZMHCIUQcBO8bgDiF6585fNGrUCDp96oQge/+SYwBpnD17DnlPQNh5I8A+MHAsHTp4QHpBBdGKddNF3OcM4uNL7VrVZLPVqtekatVqOHUR0LCuWOsPqVDhItSiRWtavHgh7d27m74/+50o947APCXVbxBAZcqUc6qnRzxd/3Nmz6QtWzbJJqA1+GHy5HpzMvztt9tp4MB+Mjx0yAhLzcIzZ04J7+sOZ0NDho6gL75I49TODz+cowmB4+jChfOCoH8snxEff5yCihYrTs2atbT8WLF162aaPWuGbGfqtJlyzy9Zskgep74tPpI8e/5M5jVp3Ezua9Uh1tb06VNo7549cu2pdHwYKVeuAtWt14Dix4+vkoO9TpoYKO+BKvSr+KAGiRs3XpA2evXuS5kzZ1VF5dXb55i+Flq1akv79u2hNatXyf2Mjyr/J/6L9G4k2rvvkFN/5kiL5k3ozz9vy2R8HLlx4w8Z/uCDZBQ9enSn4kuWrhAEflQjzZe1rBq5euUKjRb/dnz//VnxzHpo3Hc8z/As0j8WeDJWHWt4pB88eIDsUk9XY1DXatUq0T+CJK9UqQrVql1XJTtdvX1uMSHqBONbGbHzfeqtBIgnxQgwAowAI8AIMAKhjgATojZBrEhMq+bMeXpchdUV9VU4PBKiL168oBrVK9OVK/+zmqpTGjREFy1eLskizKlY0UJCu9BBlKAgNIy279ht1FmxfKkgx5zJHGhw7T9wVGpzoeCB/fuoXbtWRh2QI7v3HHRbW86o6GXAzhf4Ll060K6d31IyQRLixySIMitp3KSZ1IBdL8iwAf37WBWh5B99RHPmLLDUWgT2s2ZNpxnTpwoy47Vl/axZs9Ow4SOD1AeZVL9eLUkaWFYUidGiRadRo8cKMjKfLLJh/TpJmLsqr6fDm/TCRcv0JJdhhReIw+IlStH0aZMty3700cc0bvxE+uSTT53yQepUq1pRpg0YMJgOCe3mHYKANkuOnF/TtGmzjGSs9a5dOkrC0UjUAiB6u3XrSRUqVNJSHUGdjBw4aCgNHNCPXr16GaQciFHkFy78TZA8aFb17dvbyZO1XiggoIkktOCYBvdx5qy5erYTIertGEIiRPHBo3u3TgYR6jQAEQHpP2LkmCAa4eZy5vgfgkzvIEjsSz//ZM6ShN/QYSOpW9dOMg8kYLPmLZ3KFSqUlx7cvy9Ju1ixY9PiRQuc8lWkYsXK1KevgwBSabh6s/5PHD8mCMlGspl24kMFCFezdO7c3vigVKpUGRo8JOjeHz5sMK1YsUzsyYS0bftupw8WeFaOGTOS8IHISjJmzCz3pFmLWV+PS5etEvess+XehsY9njuQH388T43Exyx81HAleP5MnTLTkvw11+nbpyeB7HJHJk6aajxXfHmOoS99LaT/MgMNGzooyBCg8X7i5Nkg6XpCqVJFpZasnuYqfOToKePfLl/XMvoAkY5/A/QPU3rf+DCDj0UgZyGejHXCxKmUN6/jGX7o0AFq07qFbENPlwnan2xZv5Ifh6y0e319bjEhqgH9lgbtfJ96SyHiaTECjAAjwAgwAoxAKCPAhKhNACsS06o5c54eV2F1RX0VDo+E6PRpU6SmkNU8rdIyZcpMc+YulFkjBNm5XPyQ12X5ijX0mdD2grRs0VQQO4f1bBkeNXqc1EREZMiQgbR61QqjTOYsWWn27PlGPLQDdr7AK4IPmpY4OgoNn1Kly0hNKWh9zZk9ix49cmgtNmrclBYtnC8JSxAsKVOklJpJ0L65cOFHOW1XxMrGjeupX99esgxIaNSHAxMcfd28ZSMdEVqPkJw5cxG0xnQZMWKoJNSQBuINmnYwiwBty+PHjwpN0ImSKMHx7U2bt1PMmO9L4hDafEpA6kCLKukHH1D1ajVVsrwmFGYWSpcu65TmKqLwAnn4TJAzINmg2ZpGaM798ccftG7dGmP9pEsHonWpoVmLNnVC9DOh0QqSDeP+7LMvRFuJDc2qlKlSCZMPDm1m3JeqVSoYpFEpMdaCBQtRnNhx6Ny572nu3FlSOw/tg5DOlDkLgoboBFRMobX6ShBYjRo1pSxCC/Xp0ye0f98+WrnSQQhHjx6D1m/YHISUhsbhpEmBsk14soY5CmhIXhVELe4/NFaBO9ZKSISot2MIjhCFiYdy5UrR3bt3JDHfuXM3qdUHLVrsZ2j2QmMUY1+3frNBEBkgBRPQnwl4lpQrX1G2c15oR86fP0eQopGltjOaCI4QBTGIY/yony9ffoohsD4rtETRBrT2IFMFCZ5TkOG6eLP+Me/ixQrLjz9fCuJtwULnZx7IrCJF8hsEI+7Jrl37ncxXoI0SxYvIMVcXmq/dujv2L8aGdYePFBDsWWg7gwi7L4jfzYJohCYniNLCRb4RmoTjZTn1R1+Pag+APMOaTyQwUmY6ChQsLHFCPXxEwN7Bh48uXbtTFvHMBUkLTeVtQuMU+xti9fyQGaY/Bw7sp19/uSxTX4t5QvMaki1bDqnhLSP//vnmm2IGyerLcwzNKUIUXuB/EyZe3n33HUqbNr3c+7EFWQ55R3i379Wrrwy7+rNK/PsDJ1AQPAehtQ+pUKEypUiRQobVnzp16xuaur6uZXyYqVqlotTQxUeYpk2bi3uRTT5b9+7ZbXzcAY7TZ8yWzz5PxqpjbQch6utziwlRtYre3qud71NvL0o8M0aAEWAEGAFGgBEITQSYELUJXUViWjVnztPjKqyuqK/C4Y0QvXbtd6pSubyw1/jCmGY8cWSyv9C2y5YtO+Ho41BBWCqCThXq33+wICIqkNWx+RYtW1OTJs2lTcaCBfJYajDqRF/hQvnED/97qmkC+eLqqJ5RyMaAnS/wiuDD8EC0DR48zGmkvwjSoEb1KsYRVRBKK1audbIbCuID5MjFixdkXZCS0DhVArKqQoXSkpBCOshpkH9KQLzg6C6OYkPGjpsgCL83ZgugDfyzIA6hcTZ3noPYVnVxBVECLVcICBhFbsuEf//YZUNUxwsaaXPFXHBMXgnm0lcQv1s2b5RJgwcPlwSzysdYlYYo0kAyg5zUj5iqsuq6YME8Gj9utIy2bt1OErAqD9dLl34mHMV9LHBOmzad1HbVbYLqBBRMFMyeM18e89bbgH3dIUMc2okgVfr2e6Op+ODBfSpbpqQkO0FczZ23yOn+QYOxSZOGhgZlSISoN2PAWIMjRCdPmiA+SsyQx/+XLV8t7aLq8/tBEHgNBUbQTtY1D/UyVuFjx45Si+aNZVbevPlpzNhAJ5ufWJfAXmnLBUeIopGOnboYRLfq7+SJ44JYcmhwmjWDUcbb9a9//Nmy9Vsn+7Yw0QATBzGFvU+sG4h53+HIckBAPZk3S3zwAQmpRO0nmKmAdjW06HVZKD6cjBvrMENhJun19QgN/kHimQMiDJr2VoL1VahgHvlvEj6IgHw1y/79e+nCj+KjjGijTp26kpw3l3EVxwcH5VTJSstQ1fP1OYZ2FCGKcL58BaiXMLWiPwuR7qm4a5fTjrUMjU0QlfgIMGv2vCDa1vp9t3Ka5O5YgYGvhKgdzy0mRD1djRGvvJ3vUxFv9jxiRoARYAQYAUaAEQgPCDAhatNdUCSmVXPmPD2uwuqK+ioc3gjRWTOnC5uNE52maP4hD1tsJUsUcTrKCS0W/IDDvMzH5qHJt2jxMnEceBt1797ZqW0ViRUrtjgWf0ASc8peoMozkw0qPbSudr7A6wTfxo3bDE0ofew9enSh7du2yiTYxqwl7ImaZavQ0urVs5tMNns61sk2RUyb6+PHa+lSxSSxZNa4rVe3JsFWYfz4CaQGaHDkobldFVcEToavMgqNvMUq2eOrjpeZ7FSNweFTmTLFpfYdNKVmzJyjspw0RLPnyCk06WYbea4CxYoWlGQynB+tXbfJ0PbSy08UGm5z5ziO2KNNtK1EJ6BgZ693n/4qy+mKdY0PCSAsjxw9afQDu7LKll+Pnn2oatXqTvUQ0c1IhESIejMG9BEcIQqbvrBlWF6YDOjXbyCKB5FWLZsJe7mH5FHezVt2BMm3SujZo6t0xAaybuWqdUFMIKAOHKwtXDhPVg+OEIVmNJ4VkcSRaLM0btRAfKw5KbUed3y71ynb2/WvE5rmjzbquHzNmnWkljU+fJQsWZpgJ1QJtGph7xTj3rptp3FcHiQwSFoIyEwr7WqpHSpMBYBsLVu2POk2ZfX12LxFK0EGO45Fq37NV9jIzJc3pzwWbbbnbC7rTdxdQtTX5xjGpghRaIVvEM9bbx3S6fN0l2T0dS1DO7RSRYcmvfmeqvHgg9Cxo0ekLVSYDcH/urg7VtTxlRC147nFhKh+997OsJ3vU28nQjwrRoARYAQYAUaAEQhtBJgQtQlhRWJaNWfO0+MqrK6or8LhjRAdMKAvrRfHkpWAqIQDCrN2Uds2Lengwf2qmBMJMnLkMFq21JkUgx3RMWNGubSRiIZANJ06dZJmzJhqtJs2XXpBGiw34mERsPMFXhF80BQ7cPCY5fD1Y4czZ80TR6KzBSkHLcXqwrkFxEy+KLyhtXj4yAknBx96Q2oscYTX6D3CJquSCRPGSYdKiOOIeqFChSmjOLoMZ044Ou8OqWA3IQoNKZCG6nivGqu6tm/fWhxF3yvHu237LpXsRIi6o6n44MEDqR2HBlxpxyFP1zyFLdHqNRzHmZGnE1AzZs6VmtRIN8uiRfNprNgDkPUbthhkRuD4sfJYN9L37D1kaSsXz4v8+XPJY7whEaLejAF9uyJE8QHkG3H8GwLnSalTO8xfyATtz7lzZyWxHtI61KpQ3To16Pz5H6R5gBXCtIaVXLxwQXwkcDhUC44QzZUrD02eMt2qCdK1OQ8dPuHkGMfb9Y97UqpkUenwSzcboh+Xh7bvsWNHaNrUyVJbdNduHJuPKseobD+CNMUxdSXf7tgu7NV2ktHSwhFUbPEMtpJdu76l27dvSYdd8+YvMoro69GsPWoUMgWggY5j+hAcsy9cqIh0ogYTGHgGQNPUW3GXEPX1OYbxKULUShPY2/G7SzL6upZ3795JnTu1l8OcMnUmff11Lo+H7O5Y0bCvhKgdzy0mRD2+xRGugp3vUxFu8jxgRoARYAQYAUaAEQgXCDAhatNtUCSmVXPmPD2uwuqK+ioc3gjRpk0C6OTJ48YU8eN4uTgia5ahwlnFqpVviEoQpsdPfCe1s3TNKVWvi/A0D+JBOe2AfTQcEVW2LVEOxMCZM6eMo+FIa92mvSCqHEdqEQ8LsfMFXpGQOMqOo+5WomtGQUsOBIRZbgnv0NDKhbRt14EaNGhkFFF263DcHppmrgRevOfPc2hTQhsXHp8hsK/YWDhUATFlFpBbnwrbhXAmBDuHiFuJ3YTohx8mp42btll1JdOUdh3WHQgupdWqE5dwqlRWeMcOTmBjsmEDh0ZuX6H5aOU0CfVhzzR3LgdRbbb3qBNQW7fupCRJk1p2Cc/nHYXzIIjuSEZpE8LO5AHhXMyVVBdag7CJGhIh6s0Y0KcrQvS7787IY+uuxmWV7modm8viqDZI6QIFCkknWf/P3lXAS1G179f4DDBAQgVUBAtEkJbu7u7u7m6lu7u7GwSkJKWlxEJBQAFFBEHRT77//33O5V3OzM7u3d079y5cz8uPO6fPzDMzZ2eeecNejzxMuvPmya6q/BGivrTq0HHatMkcEGi8GmMr+/LUo6VH5fofyWbr8PuL6xAffeDHVMzl8UEBmrI/nD9P5cqVVHOPGDlWfXDAvQYCDQIXFyBURRAhfsKEsZKNdIv7GPeziH492t1rSBv79vy5c1S3Xk0VnMpeB//H7777HruSaKh8INvrI8sHSohGdR3Dfggh6u9aiGx/7fWBkoxRvZb1D2Nr133s5ZbCvl9O+UD3FX2jSoi6sW4ZQtTpLMauMjefp2IXMuZoDAIGAYOAQcAgYBCIKQQMIeoS0kJiOg1nr9PzkpYt+kv6QSNExexVjhHkHMgNu9gDH8HHHaLtgjDDsdnN5lEOcz+RwkWKKQ2YD1kj1Z/AhPm115L7a+J6nZsP8DFBiDZqWI81aw+pF2i8SPsSkCwgWyCIaK371oPvRwQOgen+qdMnPcS1Pha0riZOnOpIirpNiCZP/jqtXLVOn96S1rWTdjGJ+AyTiRALIfrhAGVObOloyxw+fIgas39OiC/zZNTBRDnbBxnVNVyunDVauU5AfbJ1p8XnKfqK7OEgVK1bRZgv624oRNs6PvvqhQahLxENtMgI0VD2AXP6IkR1jBCw6I03vAl7+z4XKlSUAyO9aC/2ymfPlpnJ5j+pUKEiKkK9VwMu0Mlof4RoaSa/4evYSXRXIHZCFO1Dvf7hagIm95CuHBSpMn80EKIIwXbat++k6sRPadGixWngoKHq49DsWTNU8CiY+YNQFdGD2rVkn7ZPPBm5dqYECMMY+vUIQlaikcv4vrYgnufOmaWIMmik6+u19AnEBF/ayjZQQtSNdUwIUX/XguxXoNtAScaoXsv6eQ/VTUyg+4pjjyoh6sa6ZQjRQK/Ch7edm89TDy8KZs8NAgYBg4BBwCBgEAgnAoYQdQl9ITGdhrPX6XlJyxb9Jf2gEaKieSfHCE3OnWzGCy0hXRDoBJpjInZN0mFDB9OiRfOl2msLUiBbtuxsmpnLg4W9UYoUKWn5ijX24mjPu/kAHxOEKPxPwp8bzMwPHDzqSFgCNPgg/Zh9kfoz30c7kEMwxf2JI9TDJyQ03i5euIAq5asQ2ld2cZsQ1Ql2+1zIC652EjFYQvSXX35W5D3G9Ef2INJ02TIl0IzaMclVi8kuEZ2Agol0unTvS5Vlq7fDdY3rGzJUczGxb/9hj7arpTNnJNhYZIRoKPuAuXwRoteu/UKFCuZFE2rbriPVrl1Xpd34U5ndQHzL5JtTpHYZ/+zZbznydoSmb3QRojIXtsFe/4Ib3AmMGj3eE10ekedxXBDR/osTJw6T3rtV4K8LF36gGjVrU4cOnVUb+SMapsjPZ3chqdltSDCiX2fBEKL6HNCavXz5JxWpHQGVYMZ/8+YNtcasWr0uKO3FQAlRN9axcBKiUb2W9fM+bbqz6xT9HDmlgyFE9SBQI0aMoXz5C3gNiQ9BH2TNoH6jG3HE+2bNWnrauLFuGULUA2esTbj5PBVrQTIHZhAwCBgEDAIGAYNAtCJgCFGX4BUS02k4e52el7Rs0V/SDxohqptvy3HaSRBdK0raFCtmDRjiz8wW2qK7du2nOHHjUp06NejkieMyjGVrfwGzVEZjxs0HeCHuotNkfsH8ueyfdahCZOy4SZQzZy4vdEBwlCxRhEBuSZArr0Y+CkAGlitbUl2zvgL2iHbX66+noBUr1/oYKfJiwQstfR3L7du31LHcYFPrdOnSc1T2eZ6BgyVE0TF3rmwqwvu776ZREb09g2mJ+fPv+/8cM3YiR7DO7anVCSh/UbSbcjT1gxxVHdc/iE/xy7hw4XwaPmywGm/U6HHKfNwz+L0EgjFJsLHICNFQ9gHTCLGXP39BGj5itGUXBCM3fTNigg7t27A/223qg8v6DVtYuzaBZV5k9MjaMUGI2ncgsut/3L2AW4899hh16NiFhg4ZSEltLh8uXrxApUsVU0MjyJH4SZ4zdyG9915ay5RfffUlVataUZUF4gfX0pkz+vUYKiFqH3M1+5UWbX4EhsJ6H6gESoi6sY6FkxCN6rWsn/fatevxx4cIP7J2nOE+hRdjgosN0YyXNro295AhI6hQ4SJS5bX98cdLah1FRZs27alO3fpebfSPEQMG8Hkvfv+8u7FuGULUC/JYV+Dm81SsA8cckEHAIGAQMAgYBAwCMYKAIURdgllITKfh7HV6XtKyRX9Ju0mICuHitH+BlI2fMFlpI5UtU1JpA+l9atWqS5lYA+r7787SdDa7vnXrd72a7BotOL5iRQsqTUNLQ85kz5GTxo+frIpnzZpO48ZayRdpv5h9l77FPkxjWtx8gBeCLzoJ0Z9/vqoISwRzAak3fcYcL41e3Ydi9x69qWLFygpW9O3bp5dKv5smjdIA0s13UYEo1IUL51MBfYoXL0n9B0SQd6rTvT99+/SktWtXEzQ7163fbDHH19tFlha80O6dd1Ip/4riH1T66uby9gBToRCiIJNBxkCGDhtJBQsWlqnUFkGFYPIMbVKcx5Wr1noC46CBTkDFZZJ/6bJVXmbKurl83rz5CSbzIufPn6OKFcqyZuI/SqNwxsy5Ckeph+lym9YtlIkryiIjREPZB4zrjxAdPWoEzZ07C81ozJgJlCt3HpXW/4C4PHLkkAqENZBJMwkepLexp9euWU19+/ZUxdWr16KOnbpYmoD0hnYosIe4TYi6cf3rRBY0QHEfglwCyaRLjRpV6MwXpxmf/9A///xXXSPw8Wm/37B2wgwffkZBeq1YsdbrfsIHDly30OR+PXkKatP2/lz69RgIIbp3725auCBCmx8+dJ1INN0vdK/e/dgnagX90PymAyVEo7KOyQ6EkxCN6rWsn/enn47D1hGrvdaRpUsX0+BBEW4hBg8eToWLFJVDV9uffvqRShSPWL8qV65KXbtF3FuWRvcymC9H9izKZUWyZK8oawz5SCPt+/TuQevWRVhpYF17g/1Ji7ixbhlCVNCMvVs3n6diL0rmyAwCBgGDgEHAIGAQiE4EDCHqErp4gfAl9jo9L2nZYgxJu0mINmnSgA4dPOBrFyMtl0Av65jY6sMEV6BShl+i+3BAGrsMHzaEFi68r70n9Tohp2ugSD228HuHl/lwiJsP8ELwRSchCozEJBdpmOm2bNWG3n77HWX2vn7dWs95gGuDRYuWWczqmzVtpCJhoy98OcIcHO3wcnzu3Pe0YME8ZZKP+s4cYb2qFmEdZZBlHGBrEAfagiR75RUOTlRB+ZCENmS85+NRtuw5VF1kfwQv9AMRCG3Wdu07UqpUqQkaTcuWLuG5FqthXnnlVfUSDxJWJBRC9NatW1SmdHG6fv1XZRLcsmVrypM3Hz3L0b0ROR3XMeaGOBGmOgGF/UbAHhARGTJkVP4vd+zYTqNHDVd+SEGGLVu+yssvrh6kDKbXCCYG8gHBbkBmQ4sS5+Pvv/+OlBANdR/8EaLQylE6rKYAAEAASURBVC1TugT9+us1Rda2at2W8uUtQPHjx6czX56hDevX0erVEcHXgglog3Nchc3msQ5Aqlarocj6lzhAGHzZDh48kH68dFEdN+rdJkQxphvXPzSoQRCJLFy4jN5JlUqyagv/nKNHj/CU+dMCPMFa8wj2hd+JRIkS833Xja+nTHxP3KUvTp8mfEgSlyX24GH69RgIIQrSuUL50urcgpxt0rS5+iiQnP34wn3Al3x+R44YRsePR7hIsRNjngPykQiUEEX3qKxj6B9OQtSNa/nkyRNUl60m5Lx379FLnXe4L9izZxdNnDBefTiBb+9Fi5erjw84bhHsQ9EiBdQHBKwDJUqUovfSplNuUtAmU6bM6nqS9uPHjaGZM6epLD5ANWzUhF599TXu/wvfzytpC7tLgeQvwFrjw70/XEZ13TKEqII3Vv9x83kqVgNlDs4gYBAwCBgEDAIGgWhDwBCiLkErJKbTcPY6PS9p2aK/pB9EQhT717VrJ8/LEPK+BKQNNBKfe+45rybHtQjeUokXbonGLGUw5RbCScr8kQXSJrq2bj7AC8EX3YQoiLKePbrS1q2+SeSkbMYLzcQ333zLAt1vv13nl/Ca7C/wvKcc5r/QUtI1gUGwzp6zwEv7FJ1AelSvXln5g/QMci/hzxTd3lbwAhmTImVK2r5tq72Jyj///POEiN0gHXUJhRBFf/je69a1o4p4ro+np/UgOXq5TkA1aNjYE7hKb4M0MIX/0erVa9qrmIz6lZryBw3sv5NUq1aTCanP6YsvTkVKiIa6D/4IUezTwYOfUdcunQjXiy/BejCb/ajCHUagAmKvbZuWXlrp6I/1oh8Hx+rdq7saLjoIUTeu/8mTJnjM4EHUr1m70evwdRNlVM6bv1hpdHs1vFcAjduxY0YpAsxXGyfyWb8eAyFEMTbOAQLq/fnnH56p4D+af6gI2qgi5StUop49+0g2oG0whGhU1jHsTDgJUcwf1WsZY8ydO5utJnDe7yLrJS+8kIDw8RIfiZxky+ZN/Pvd0anKyw0Jzm1N1lw+ezbig4RTp5defpnm8LoPYt4uUV23DCFqRzT25d18nop96JgjMggYBAwCBgGDgEEgJhAwhKhLKAuJ6TScvU7PS1q26C9pNwlRN0zms2fP6Tm8RYsWeDTbPIVaAv4kobnkzzQW2iow6xRJm/Z9JtWswZZ0k2Vp5+RbT+qie+vmA7wQfNFNiAomMKmcNnWy8hUqZSA28rLGY/fuvVnr8VkptmzxYjyPX8TnzJlJt2/fttQhWBOIl+YtWlLChIksdXoGpsLQ8IIm08WLF5TpMOpDJUQReGjGjKlszjvPQ1SCIHv//fQqIjwwtUuohCjGuXL5Mptv92Kz78PKpFnGxjww5c6bN78UWbY6AYUI7/v27VVE1jX21yqSNGky6s2mxpmzZJUir+2dO3eUlu2mTRuVNikawAS7QIFC1KfvR2xGXT0gQjTUfYiMEMX+XL16lfr160WHDx307KPsZzUmehs1aqo0WVEWjFy6dEkR+idOfO5ZG3Gt1WXT83K8zuTInlkNFx2EKAaO6vX/HbsSqVghItgYCOkWLVo7Hn6d2tVZ6/iEl49Rx8ZcCIJtAAdNw/jym4G2iRO/qEzydZ+OMoZ+PQZKiKIvTNahMbhx43ovMg7a0tAchysAXSNb5vS3DYYQlXFCXcfCTYhi/6NyLcvxwxcozruudYzAhpkzZ6Xeffr5XYcxxrFjR5Rrm++/+46uXLnsuXac/DL//fdfqu0i9mWsr/1PPfU0FS9RktpzIDV/Hziism4ZQlTOeOzduvk8FXtRMkdmEDAIGAQMAgYBg0B0ImAIUZfQ1V9I7UPa6/S8pGWLvpJ2kxDFy8WlixftuxZwHi8/0G7SBZGQYYZ/9uxZQjpRokQEcz2Y4dmDgej9JL1j+zb6+uuvJEvpmMz64INsnjwSMMvevCnCNA95aNKBVAD5FQ6JDQ/wIK7OsrZhosSJVTRzmE8GIjC5hHnm+fPnmYT8jV566WVl3g3T6JgQIZChIbpy1To1Je4VaDD9dv06pUqdms0/n4nWXYGWGojV33//nd0OvE3x4gV/7IjO/P333ynTVWjkOmlX+ToIzI97BucCZDLuh1AkKvsQ2XwYG+fkOmu2Jn/9dXWduHG/wn0B/Gwm5HUGAbpiWqJy/eOew7UaL148Ry1qHMvNmzeVT96nnnqSnmdXEoHKH/yR4ksOtoTxU6RIqVwVBNo32HY4txcvXuB1+Zwy0ccHAdyPTz/9dLBDRbl9qOtYlCd2YQA3rmWswWfOnFFuOPC7G+paEOjhgBTHMwTWq5eTJLG4VolsDLfWrcjmMfUPFwKx4Xnq4ULc7K1BwCBgEDAIGAQMAnYEDCFqRyTEvJCYTt3tdXpe0rJFf0m7SYg67ZcpCx4B8wAfPGZu9XAiRN0a24xjEDAIGAQMAgYBg0DMIWCep2IOazOTQcAgYBAwCBgEDALOCBhC1BmXoEuFxHTqaK/T85KWLfpL2hCiTmiGt8w8wIcPf0OIhg97M7NBwCBgEDAIGATcRMA8T7mJphnLIGAQMAgYBAwCBoFQEDCEaCioOfQREtOhykNwSp3eVtKyRRtJG0JUEHtwtuYBPnznwhCi4cPezGwQMAgYBAwCBgE3ETDPU26iacYyCBgEDAIGAYOAQSAUBAwhGgpqDn2ExHSo8hCcUqe3lbRs0UbShhAVxB6crXmAD9+5MIRo+LA3MxsEDAIGAYOAQcBNBMzzlJtomrEMAgYBg4BBwCBgEAgFAUOIhoKaQx8hMR2qPASn1OltJS1btJG0IUQFsQdnax7gw3cuOndqT9u3b1WBnFasXBu+HTEzGwQMAgYBg4BBwCAQJQTcfJ4aMXwI/fHHH5QxY2ZCENBwyLhxo1WAx3dSpaZKlaqEYxfMnP8CBP7N19kvv/xMK1YsV2cZQXjTpXs/ymdc1o506dJT6TJlozzegzJAbD2uBwXfh2k/EIR0yuQJapfLV6ikgvI+TPsfE/tqCFGXUBYS02k4e52el7Rs0V/ShhB1QjO8ZW4+wIf3SMzsBgGDgEHAIGAQMAgYBMKDgJvPU/ny5aQbv/1GFSpWph49eoflgEqVLEqXLl2k/PkL0vARo8OyD2bS2I9AINdZx45t6YsvTlOqd1LTiJFjYg0oZ858QTWqV1bH07ZtB6pdp57Xsd29e5dKlSqqyqtUrkZ16tb3aqMXyNpRunRZ6tuvv171UKdj63E91CclTDv/7bffUOVK5dTsgwYPoyJFioVpTx7caQ0h6tK5ERLTaTh7nZ6XtGzRX9KGEHVCM7xlbj7Ah/dIzOwGAYOAQcAgYBAwCBgEwoOAm89T8vJvCNHwnEsza8whEAghWq9uLTp+/Bi9lzYdzZmzIOZ2LppnCoQQ/eeffyhL5gjN0Xr1G1KrVm397pWsHYYQ9QuTqXyIETCEaOQnzxCikWMUUAshMZ0a2+v0vKRli/6SNoSoE5rhLXPzAT68R2JmNwgYBAwCBgGDgEHAIBAeBNx8nhJSwxCi4TmXZtaYQ8AQov41RA0hGnEtypoY24jemLvTYs9MhhCN/FwaQjRyjAJqISSmU2N7nZ6XtGzRX9KGEHVCM7xlbj7Ah/dIzOwGAYOAQcAgYBAwCBgEwoOAm89T8vJvCNHwnEsza8wh8G8mRH/++SotX75UgZ0tWw56//30XsAbQjQCElkTDSHqdYn86woMIRr5KTeEaOQYBdRCSEynxvY6PS9p2aK/pA0h6oRmeMvcfIAP75GY2Q0CBgGDgEHAIGAQMAiEBwE3n6fk5d8QouE5l2bWmEPg30yIBoKyIUQjUJI10RCigVw1sbuNIUQjP7+GEI0co4BaCInp1Nhep+clLVv0l7QhRJ3QDG+Zmw/w4T0SM7tBwCBgEDAIGAQMAgaB8CDg5vOUvPzrhCiepX/66UeKG/cZev7554M+yJs3b9ITTzxBTz31VEB9AyGqZKD//e9/dP36dUqQIIEUhbz97bfr9Nxzz9Ojjz4a1BjA58dLlyh+/PgUJ27coPrevn2Lfrv+GyVJmpQeeeSRgPveuXOHfvzxkuqTOHFidW4C7hxgw1DxwPA4J//5z3/omWeeCXA2d5ohejpwTJAgYaQDBnKdxVYfopGCww3cIkSvXbvG99Vz6noIZN5A21y79otqGsi5to955coVdb9iXYpMZE20E6JROa5grtPI9i+Q+lDXGX3sW7du0ZNPPhnSefzj9m26zsH6kiRJEtQ6F5W1Vd/3YNOnT5+ihQvm0Uf9B1l+D3wRorhXsB6/+OJLCqNg54us/bx5c+h5/m0qWqy4+i2NrH046w0h6hL6QmI6DWev0/OSli36S9oQok5ohrfMzQf48B6Jmd0gYBAwCBgEDAIGAYNAeBBw83lKXv5BiHbo0JmmT5tCixcvoD/++EMd3CuvvEplypQjBFnxR+D99ddfNGbMSNq7ZzdduPCDavvGm29Rp05d6b330noiXFeuUo0qV65qAS4QourQwQM0depkOnPmtNq3uExEli5djlq0bK1MgdeuWaXGXL5ijWXsH344T+3btVZlLVu1obRp36d582bT7l2f0nffnaWnn45D77zzDrVr34nSpHnP0teeOX/uHA0fPoROnDhOv/9+Ux3jq6++Rtmz56RWrdv6JID/+9//0sSJ42jH9m0KG7yrxGXiMHXqd6ldu448fyr7VJ787t27aOqUiYQXdl1efz0FVahQiapUrU6PPfaYXuU37SYeIM1Hjxqh8Lhy5bLCI2myZJQpYxZq07a9F5mO458wYazav5q16lDZsuV97mvXrp3o22++Jlx/o0aPs7QDMTZs2BA6euQQ/fJLBEmWMGEiypw5C3Xk6w1EtZM4XWf6PqHPJSY5/mLy+Ukm85MmSWoZBtfzYI40vWPHdpowfoyqa9S4qd/I0/369aaTfL289PLLNH78ZMt4egYfERo2qEMg/LPnyEnt+Xp0kurVKtGFixfozTfepJmz5jk1oW7dOtE3X3+tzOJ79uqr2uBctWrZTKWbNG1OhQoVUenx48bQzp3bVRp/cE9A4sWLTy+88IJKy58yfL5q8XkTkbUDxGGfvh/R9OlTaP68uereePzx/1Dy11+n+rxuFC1aXLoEvQWxN2L4MNq/fy/hGoMkSpSYg16lVevVyy8n8Tnm4cOHaNq0yfTVl1/SzZs3CPuUMmVKKlCgENVv0MhCfOmDuHVcoV6n9evV4v29SfnyF6AWLVrTp5/uoJUrltP58+fo119/pf/jf489+hjt/HSvvtsU6jqjz9esWUtawMQgrokTxz/n8R+h5MmTU5269alkydKW+ewZrGuzZ8+gDevX0blz36trGevcO2+noiZNmlEmvj99yalTJ2nsmFFqfb/NZCp+a7C2FipchPs2D2qN8zWHvfzu3bu0fdtWWrhwvgqkhvrDR05Yrgs7Ifp+uvQ0YsRQtQbcvfsP79fj9NZbb1FjPr48efLZp1D5EfybsX//Pkqc+EWaOGkqff31V7Rg/lw+1i8Iriz+4f2ATJgwhX+f0ql03769CL9pL7yQgCpUrKR+M0P5EKAGi+Y/hhB1CWAhMZ2Gs9fpeUnLFv0lbQhRJzTDW+bmA3x4j8TMbhAwCBgEDAIGAYOAQSA8CLj5PCUv/2XLVlBaoQcO7Hc8KJA0Q4YMd9RMhKZMOyYdv+EXPbuArBs4aCh16dxBVeHlFoSMLk5ElV4/d+5sGjd2FOEF1i4ZMmRShOLChRHk0NFjVuJQf6Ht0aMPrV23WhFU9nHwYtu7d18qxeSOk3zyyWbqxy+pQhTb27zBBNWYsRPITtBAM61Tx7aEF34ngcZa587dqDyTm3ZZumQRE3AD7MWWfM6cuWnY8FEBaym5hceuXTupd68eimiy7NC9DAjAIUNGKDJc6kFuFS6Un/788w968623acmSFVJl2YK0LVumhCpryZHOQaqJHD16hLp26eAhQqVctiAdhgwdQenSRURLl3Jsna6ztWtWU9++PfVmPtPvvpuG5s1fTNB+K1w4n7oW/EWjv3L5MpUoUVgRQ02atlCkkM/BuaIBE6LH+PieeeZZ2rZ9l5dmnn7uMM6atRsVYayPCRKuSOH8as6u3Xp6Pj7omPbs2cdzvfXu1Z3Wr1+rD+EzXadOfUV0SwNZO0CIvszk8ZTJE6TKsq1arYa6xi2FAWRwvB3at1EfEZyaQ7sb5zpr1g8s1eACQM5OnTLJcc1A44wZM9OgwUMJRLpd3DiuqFyn+vzv8keaQQM/su+iIggPHT7uKY/KOqPP9yxr9oKsc5Jy5SpQr979nKoUgdujexfau3e3Yz1+B1q2bKOIVXsDrHMgGUHoOkk6JiGHDR/peK6c2kdWduPGDVq1ajktXbKYLl/+ydM8RYqUtGz5akXGSqF+z7Xlj1eLmDwVYl7aYAsCt169hoSPbnbp1Kkdbdv6CWvLJlVrdf36tdVHF3u7mTPn0vvpM6jiRYsW0Fj+zcPHGQi07wsXKUbVq9ekVKlSq7IH5Y8hRF06E0JiOg1nr9PzkpYt+kvaEKJOaIa3zM0H+PAeiZndIGAQMAgYBAwCBgGDQHgQcPN5Sl6Goclzm00kQRRAIyVZsleUJsuc2TM9hAS0+pw015o3a0yffbZPgYFgLaVZoxSmhKeZBJwzZ6bSooGGFiRYQvQ4aynVq1tT9QV5WKtWXX5pTE+/sTnmxo3raf++vcrsXcb3R4iC/Pj91u9Ul4kdaJj9decvpQm1bt0aNf6zzz7HJNMGpR2nCu79gbZTpYrlmFz5R2kONmatQBCx0LrbydqCW7ZsUi0zZcpCU6bOsLxQt2zZlPbt3cNEclxFCOQvUJAwDzRdR44YpjQ/YbK/cNEy1jR62zMtzHOLFsmvCJ2UKd9QJHL69Bm5/v/4vHxNs2ZOp8OHD6r20CJr0LCxp6+/hP6CHyoeINcqVSyrCAy8qNeuU0/h8ffff6nzsXTpYrUL0DIEaffss896dqn/R31p5crlKj9/wRKlJeupvJcYN260Oj6Q1Js2b/WYw4OILF26OGvJXaNkr7xCHTt2IWACrUpcf9DEgsYorr3VazZ4kcROhCjwgFazCPYd5xWEbpXK1aRYbRMmSsQEZymVHjDgQ1pxL0jR0mWrCIS4XaZMnkhTWLsXZND6DVt4v160N7HkdQJ83PhJlCNHLkv9pEnjaRprSYvYyWKUL1u2RBFomHPT5u0e1xK+CFFoIH939ls15F3GcTxjD8G1nIM/gugCci5TpsyeIlk7cC7gQqJ48ZKUO09eihMnDh07dpTmzpnlIbmgzeoUyMkzmC0BcqxChdJ08cIFVVOxUhXKn7+gugcPHjjAZPpC+vvvv9W9unLVWss9i/u5T+8eqh+0SaHdCC3syz/9RBs2rlPXKCqzZs1GkyZPU+30P1E9rqhepzI/tMB/+OEH1lh8hEmwd1nDMLFyRYB9fYTXjB49ent2O9R1BgPIfFgPYNqP9TtXrtwUh7Xnsf5iDYcFAGTS5OleBDTKe/bsRhs3rEOSsjBBXZEtDhImSEhH+TrAdX316hVVN3XqTIum6MmTJ6hO7eqqDucDhCLuJazvG5iox/2DawHr5vDhEdemahzCn++//45ANK5ft5bu3PlTjYD7JE/efOpez5wlq9eo+nopv5H4eJgvX361rh37/ChbVUxVH3nQefSY8ZQ7d17LOEKIwv3Mk08+pbDAB6EkrN0cP/4L6vyiA65TaMSL3Lhxg9auXc339GLPfYC69EyaVmNiFPdDsO5eZGw3t4YQdQlNITGdhrPX6XlJyxb9JW0IUSc0w1vm5gN8eI/EzG4QMAgYBAwCBgGDgEEgPAi4+TwlL8M4Erx0Dh48nE1LH/cc2I0bv1GjhvUIL4Ygv1auXEcwixY5cOAzatY0QoMP2oojRo6xaLbBPBAmmaJZGSwh2oC1aUCu4MV18pQZTNhmkqkVEQatTSE0UeGPEMXL45y5CwmafrpMnjSBzfEnqaLmzVtRw0ZN9Gplarx3725F7E6fMdtL+xD+3kaNHKb6wOwxW/YcKv3ZZ/upebNGKg1tSZh/6vL777/zi3h5paUEEmEykw0iMMvu0D7C1H/CxKmULVt2qVJbkICIGn6dTWif4xftaqyFF4joL/ih4tGmdQvavftThQcI4AwZQNTel3X8Et+nT09VUKNGLerAxKXIl2fOsJZThDYsSK7u3XtJldpCC7hY0YKKmMEL//AR90mQCePH0owZUxXhtpi1S0Ha63KKyZV6fK1hDKfz6ESI6v2RDtSHKK7rqlUqqO5wW9ClS3fLUDg/JYoXVtpkIAlHjx5vqXfK6CQ4zNP79PnQ0qx8uVIEch7kOsyK3377HVq0OIJcloZN+V48yPck3AdMYfJJxBchKvXYhupDFH3hMgIacrrgnhEzfZC7IHkDFXyIgQsOSNu2HRTprvcFkdagfh3e5/8qdx6tWJMYAjKybNkSihhPwhp5IGJBJIrgvHz4IWuK33OxMXLUWMqbN79Uq62+JoZyXFG9TvX5c+XKQz1Yo1c/BsvOciYq6wzG0udr36ET1ax53y0C6g8fOkiNG9dHUpGd+jqFMtx3derUUBwMsITGOtZrEVzX9erVVKSeXaNa7jd8DIL2NX5jdNHXVl2DUm/jLw1eaN++Pcos/jM2WxeeCKbo0HgFcfviSy/5HEJfL9HICZ8vvzyj1h1ocyZnEnsZfyDRj18IUfTHxwP8FgSj5SnHAI1W3FO4hiGwRsDag+PQPzqpyhj8YwhRl8CWi9NpOHudnpe0bNFf0oYQdUIzvGVuPsCH90jM7AYBg4BBwCBgEDAIGATCg4Cbz1PyMgz/etCOtJt84whhHt22TUt1sHbT3+7dOtOmTRuVViTMDVOkSOkFyqiRw5XfTlQEQ4ieZ5955cqWVOMVLlyUBrPJvl3gUw9myWJa6I8Qhd9EmNja5c8//2Rtm1xqjCJFi9GgQRHkJtqBgAIRBSlVqgz1+9DbhB0vqAeY/IRvP2j4iJYPzH137NimiLu16z5WY9j/zGRNT9HKW79hszKrRBu8+AqZBP+muu9G+xjB5PUX/FDwgB/VcuUizgl8Cn740UDH6UGQwHcmrqs9ew9YAoPUrFGVvvjilDIN/2TrTosmp36t2bUk8+TOrvxTOpGFshMtmjdR/iZxHW/YuEWK1dZNQhQD1q1Tk/2nfq40frd8ssNyHPBR26ZNCzXvmDETKFfuPCod2R8hNJ+PF4+2bgXpHEEsyXlDvjOTr2JGDU1Y+FqE4ONFwQJ5lRZlD3YPAU1vkegkREEubfz4E8s5lnmh/Qfy8qWXXlZtpDyybaGCeQnm/yCQVq/e4KgJByLuJvvyhel8GtZehaxYvowGDIgw6+7btz9rO5b1mgo4gazGR5r0TObPmDHH0kbWxFCPK6rXqcwPjcK16zZFSnZFZZ3Bgct80KbFeZRrTgelYYO6dPToYTZbT0hbPtmpVxH8/W7Z/LHqt2r1eq8PFWiM6+/ixQvskfQR+oA/7sDEXP+ogGBGon2tD660Q/PlVB8AfK2/ens9vWrVCpo3d7Zaw6Uc/qyrVKmuPk7ZyVdpo2/lvkNZ8uSvE3xU40OSXUbyB7H5/GEMMm36bMuHO50Qnc7Xmv0Dkn0sf/lLrIm9nLXAV69ZSTdYixYCP9ilSpVmP6bNvfz++hvLrTpDiLqEpJCYTsPZ6/S8pGWL/pI2hKgTmuEtc/MBPrxHYmY3CBgEDAIGAYOAQcAgEB4E3HyekpdhmMpPmz7L5wHlyvWBMqmHWWz/AYM97WrVrKrMvhFwZunSlZ5yPaFrBQZDiO5hU+bWrSICwUBTEBqDTtK2bUva9elOVeWPEHUyMZbxYAJ+lk2HU6dOQ/MXRJh8o2779q3UsUOE9tnESdPogw+ySZdItxXKl6bvv/+OXnstuQq85NThytXLKrAH6nRNUER8L1G8iDLFBEGRgTVj87Ap5qs8VjLW0MWYIBWCFf0FP6p46Ptr348lixeyJlQEWWo3KV+9eiV9yMGGIHYiBAGwENAFJuvr12/2kA8gvgsWyK36QPvxjTfeUmn7n5Mnjyt/rSAt9u0/xCTdk54mbhOiG9hEuBebCkNADOtBZ+SaBBEIotuJRPHsmJaAO4H+H/VVJbp5spjLf/BBdhVkKn++XOra0N0lrGGtR2hM43oBaaUHl4pOQtSu3awdDpOTEa4FcK3u/+yw5Xzo7fQ0TIXz5Y3Qsm7QoLEKnKbX+0sPHTqIFrNZtNP51/sJSQXieceOPXqVhyAM5bjcuE5lTfY3v77DUVlnMI7Mly1bDl6DpuhDe9JD2JfxEjZ9h+zdd4hJuKc9dZVZyx0B0ODrc9bseZ7yyBKfbNnMmtUdVLMS/HHlOXYl4iTbtn2izMwREG/2nPlOTRzL4EsXQYsg8IGNeyUYzUz009dLp98utIHov3HwswqtTRG51uDyZd/+wwGvBdLfaQv3JCs40NboUcM9binGjptEOXPmcmoerWWGEHUJXiExnYaz1+l5ScsW/SVtCFEnNMNb5uYDfHiPxMxuEDAIGAQMAgYBg4BBIDwIuPk8JS/D/rTucJTVqlakr776UmlizZ0X8WKMchAXIDAQYdceDRz1EERMzpsnwuTb6aXSF1G1mEm1ofdINfjY9BWNfdjQwewbLuJF2R8h2q9ff59Bk5o0aUCIZA+/fStW3g8yM3PGNI4OHhFRHFqedjPtiCP0/gut0WwfZPS8rHq38C7p2rUHVa5SzVOxmbWuevXsrsyCPYX3EtCKy8I+75q3aKU0l+z1vvL6C3504rF3730N16HDRlLBgoU9u3SHTUsLF8pHt279rnzWChEfYTJeQGk42jWRP//8mHK94BkkgAQ0luF/VcTXdSb12IoJr920V28jaZASRYoUUJpa8I8pUd+vXr3KZHYhZbpvPw7p62ura3nqLgXEXL43m9GXZXN6RJLfvOlj5XcW7gMgrVs1pz17djn6xoxOQhRk1kc+NIWncGAjCba0dduugDTY4LdS/AbL8frCy14u/ozhR/bjTVvt1Z48zPFhlg/ZvmO3xQeprImhHJcb16nMH4hGpBvrTCDzTZs2mSZNjHD7oJ9HzJ89Wyblz7U4+9ftz5qegcqM6VM5svrYQJurc4RzFajUrlXNE8wO/ojh9xPrq+4HN7Kx9PXS/vFG73vr1i3KzR8NIfAF2qZNe0+1EKJOWuueRkEkvvvurPLLimBo4ormyaeeYrcvMy1B7IIYMkpNDSEaJfjudxYS837J/ZS9Ts9LWrboJWlDiN7H8EFJufkA/6Ack9kPg4BBwCBgEDAIGAQMAjGJgJvPU/IyXIF9qelBOuzHI5qgdr+F2bNlVgEqfJlfYxwQYHhphgRDiCIoy+jRESbuMFVMkcLbHB9jjhnN5AYH/oD4JUTZ3B0kg5OIqbKdEJXAOOgDc1Jo/AUi8MeY7YNMitxDAKa8+fJF2g0aUGnTprO0g4n6rNkz6MjhQ3Tp0kVLHTIwSYdpuT3StlfDewX6Cz7M/6OCx8cfb/Xpf0/3LTtgwBAqVjwiarzsF7RHoUUKzUEEXgLRLOcbGo72IESH+fgbN6qnuiPoyxtv3Cc6ZUz7tlChopZARm4TophPdwch16iQR07HYd9HpzxcJYBQTsBBaTZv2U4gQCpXKqfONVwMPM+m1LqPWZgpo20BdvsAE2O7hhrmiE5CFFHm+/LHBieZPm0KTZw4TlXpRJpTWynTz7Vd81ba+NrC3/GRI4fU9eTLTQX6gogDIQdB8CndR6esiaEcl77voV6ngcyvdpz/uLHOBDKfr/Ooz4/j7dv3I9m1SLf62tqyZRt64sknIu1j92/qrwPIWnwgWMiR4eFXVwS/IyBGSzKBG4f98foTfb0cNHgYfwAp5thc/42z+00WQjQJ+7SFtngogmOB5jzWzEPs01UExH/lKlWpfPmKvC7Ek+IY3RpC1CW4hcR0Gs5ep+clLVv0l7QhRJ3QDG+Zmw/w4T0SM7tBwCBgEDAIGAQMAgaB8CDg5vOUvAzDFHfipAiCwOmopJ2d+BRzSfjw0zVH9THOsik6TNIhwRCi2zVzdbs/SX38zp3as7/FLarIbUIUWprd2EceZNp0q284Vejnj2j1ITDKmLET/LQMrApBmC5f/onNU7+hbds/oU937lSEazAv2voLfiiEKPzFwm8sxJ8/PN30e8HCpV6mqvp+iFm0P7zgT7JQwbxq3rbtOlLt2nVVOpg/0UGIXrjwA5UtU0K9f1avXksFXSlZsoiKaI5o04g6Hays06KkA+MDB/ar6PJ6YCJopxbIn1v5VkQAKVwDPXt2ZXP5x2nrNpCmVnLkYSJE9XMdrIZt//79aOWKZQqHAweP+jRP7tG9C3388QYVoGr3ngOWUyRrXSiEqL7voV6ngcyv77C/+0Zv5ysdyHy+CFGMKfNnypSFpk6L+DDlay69XF9b5y9Ywu5K3tWrXU1jvVnExOjGjevpr7/+UmMjOBncXFSqXNXnxzZ9nQJpW79BRJA8+87p7bp260mVeUyRqBCicMGwit1oIIDelSuXZUiCBnt1jjQPzXt8eAmnGELUJfSFxHQazl6n5yUtW/SXtCFEndAMb5mbD/DhPRIzu0HAIGAQMAgYBAwCBoHwIODm85S8DMeJE0cFobETKTjCz48dpfoc7R0i5JXK8B8J6PHkk08qrb4ECRJIlWerRwoOhhDVg27UqFmbOnSIIOI8A3MCL7cIkPLrr9dUsduE6FdffancBWDw2rXrUdt2ET7v1GTanytXruAlhOI+8wwHC3pG1Yg/TJi3b9i4mcmXiHKtW5SSPXt2o43sxxICTUIERYlM9Bf3UAhRRFSuXi0iWE+dOmwa2va+aag+t/jQhAYoCCdcX3ZpwNfUMb62sN/QvmrYICK6tVPkb/TNnSubMrMP1Leifb5ACFHRMLRrCtvH0vNipg3Nzd69P+TrtI2qDiaYkj7erVu3lL/Uv//+m6pVq6mCRCG4l/18yfmH/95XWMMWAbyyZWc/kBOm6MOpdCCEKLTQsmR+X0WxrlSpKnXr3tNrHL1A1o5QiEN9HKe0nGu7T1+97fXr1+lvvv8f58jksu4smD+XRowYqpr58qmINaNkiSIqaJPT+FE9Ltn3UK/TQObXcYjqOhPIfP4IUZn/qaeeVr8huu9a2c8/bt/mgGi/q2ziF19UmuH62gpSv2GjJtI82rbwzYzAW0uXLvb4F8VkIHOhaam79kC5vl76c6Oh42P3NR0KIYrfPmjMf/LJZo/bFXzsKFSosCJC03BwqAdFDCHq0pkQEtNpOHudnpe0bNFf0oYQdUIzvGVuPsCH90jM7AYBg4BBwCBgEDAIGATCg4Cbz1PyMowjqVqtBnXu3M1yUDDBbcr+NUFcgdxasGApvZMqlafN2jWr2UwygjiBhlzHTl08dUjcYP+i0A795ZefVXkwhCjMMcuXL0UXL1xQhNqKlessJtAYcNas6TRu7Gg1Nv64TYjivQK+6E6fPqWi+S5fsZrgC04XvFwPHhRhMjx48HAqXKSoqt69exe1ad1cpWvVqkvt2nfUu6n0/n17acnSCJ+sTZu28PhJnc1m8ocOHlTaP63btGMT8Te9+uov4TA7l+j2Xg21Av0F306wac3IlwsB4FGTA2md+eK0OicImJSEtRN1OXr0iIfcLMwmpoOZ7HSSjRvWK61G1CFSOkg7kKO+Il2PHjWC5s6NCPzli2wE+X7kyCE2L3+cBg4cYgniEwgh2rdPT1q7djUhAvU6Duqkm1I7HQPKdmzf5iFB48WLTyBdYMqKKPeBBlOyjy0kE4hk+AnE/mzbvttDtqO9HskerhP++ee/1IdNlsuw6bJdAiFE0QdE4Y8/XlLX2xIOkoZ73pfI2hEdhKjuimDY8FFUoEAhy26cOfOF+kjzF7vj0H2tIohOubIlFWbvvptGaTHjY40u06bd94fZvUdvqsjuQnSJ6nFF9ToNZH59f6OyzmCcQObT1xq76wP9OqxStToHSuqu754iQrGGnj9/jpKzj+aV93w062srPiStWLHW634DeQ2C++rVK/R68hSWDzATxo/1rAfZs+f06cPasjP3MvhtAdm4cME8tbZLm8NHTljuWX29RBun4H7wGQyXFjdv3lDr1+o1GyxBp0IhRPtycLS1HCQNgsBfFcpXUmb+gaxHqlMM/jGEqEtgC4npNJy9Ts9LWrboL2lDiDqhGd4yNx/gw3skZnaDgEHAIGAQMAgYBAwC4UHAzecpeRkGcQMNMUTHxUstyDVo8IwbN5qOMcEFgXkhfPrpgj5VOMrw2bPfqmKQqiAYXmJC6NTpk0yGDaQf2fcltN0gwRCiaL9l8ybq2jWCSIT/zm5sjvh++gyKdEJQiWlTJzPp9YRnfLcJUezDyZMnqG6dGuodA4Rd9x69KEOGTMp8HT7qJk4Yr0zXEcBn0eLlioxDP0iLFk0IpCcE2AIfYHvu+++VKfSECeMUkQVCED4oQeRBQCrCZybwfeaZZxmDHhxpPqPyYXr79i06cfw4de/eWRHOeGHezmSZP/JKDcp/9Bf8UAhRjKMHjkmQIKEiwdOnz8jn4C/ax8c6iiMfg6hCoI9Vq9b59LuKa6JIkfwqKJHsX4OGHFWco0E7CY67TOkSShsYBGGr1m05qFcBFU39DGuubli/jlavjggwVKpUGaVRqY8TCCG6bNkSGjQwwg9islde4QBGFRQJj/sjHpuhQwPTLnfv3lVayiBtRJyuc6kLZKu7JkD73HnY/H601fweHysKFsjDhNNNNSRI0a3bPqXnnvOO1h0oIdq1S0fasmWTGi9z5iyUJ29+T7R6+F6ED2ERWTuigxDFuS5bpqTS4sS5bte+E+XPX5Dvh7vsD/IATZo0XpkQ4xpbxqS8HuxMD4QGVx4tW7VR+/3TTz/R+nVr2afkPHUIb771NgdjW2YhwFAR1eOK6nUayPxyDmQb6jrjxvFijJYtm9K+vXvU7oCgrsq/IQkTJuKPE4dp/vw5nt+QAfyRolixEqod/pw4cVwF0AJ/g7W1c5duam3Fef7i9Gn1wQvrDcQeBE4PjKW7k1CNg/iDfQAxum3bVrK7WdDXS6wBjz76GLVuw+tOvoLq48SxY0f4Y9gARdhiyr59+1PpMhHuYWQXQiVET586SdXYLL5EiVJkJ/Vl7AdhawhRl86CkJhOw9nr9LykZYv+kjaEqBOa4S1z8wE+vEdiZjcIGAQMAgYBg4BBwCAQHgTcfJ6Sl+/ChYsSzKFBnDgJzHInTpyiXnLt9XhhbdumpdKQsdeBpAPx1rtXhNaQE1Hkj6jCc3039lm5hX15OgkID2iCLVkSoWUZHYQo5p07dzZroo5SkcOd9uOFFxKo4EapUqW2VP/0048EbT+Qy74EhCciretkE9rC/HfkyGGedxuUPfvsc+w38pYiSpGHDBw0lIoWLR6RieSv/oIfKiGKKRChe/z4MT7xgPlsn74f+gxCIrupawLiWlm7bhMlTWrVOJW22B48+Bl17dJJEeJ6uZ5+4403afbs+V4BU/xdZ9IfmmPVq1dmP61fS5Fni+ts3vzFnrye0APEwKefPSiU3jaQ9J9//ql8hN6586dq7hSYChWi0Yp0zpy5aey4iUh6SaCE6KWLF9n/YXn6888/vMawu0iQtSM6CFFMjnPdpXMHRfp77QwXgADu0bO3l0YsiPaePbp6/Ao79U2aNBnBNcObvK7ZxY3jisp1Gsj89n2OyjoTyHz+NESxL5i/Df8GON03sq/4uNC7Tz/JerbQ6h47BmvrP54ye8LpA4dbhKjMdeXyZa8gcfp6CbctMLeXe1L6yRa/oViLQZzqEgoh6rQv+pgPUtoQoi6dDSExnYaz1+l5ScsW/SVtCFEnNMNb5uYDfHiPxMxuEDAIGAQMAgYBg4BBIDwIuPk8JS/DiDLfuHFTQvTv7awpIwLty6Ks0QMNxadYG8uXXLp0SZEQJ0587nkWh4ZQ3br1qRxHwM2RPbPqGiwhKvPhpXnq1El0+9YtVQR/amnTpeP9HU7z5831mE5GFyGKSRFBegAHbYHppwg0dzJnzqpe9HG8TgLNSRB/0Gi9zb70REDo5M2bT2lF+eoLU/2RbDIKlwV2gVYpfO+Jib693imvv+BHhRDF2NBiBR7wbynvXyADUzNxiGjT8MMZmYCog4kz+kcW2EvGgolqv3696DBHW4aWpAjMy6FR1ahRU6U1LOWyDYQQRVuYqEPLENq/Fy9eUHmU+yNE4UO2WNECaEahBlNSnbU/IANh1otrbNu2XV4EL5ru27eHWrZoqnr5O5+BEqIYCCbzEyeOJ2io4b6GKT4kpglRzIkgYn1691DXGjRxISCcQHrD3D0tB5fxJXBlAQ3ya9d+8TSBRinuue7de/PHhWc95XpC1sSoEr2hXqeBzK/vr6RDXWcCmS8yQhT7APP2YUMHceCiDRbSEJr9jfi3BRryvgQf1bCWfPfdWc9agraJE7/IRGt7Klb8vlapjOE2ISrj6lt9vYSf4yTsHmTggA8tH7jwQatp0+ZUvUYtvasnHQoh6un8ECQMIerSSZIfUafh7HV6XtKyRX9JG0LUCc3wlrn5AB/eIzGzGwQMAgYBg4BBwCBgEAgPAtH9PAV/n2fPnlUmgW+99bbyXxjokd5iwhL+JRMmShQQIRbouGiHZ3yQbyAa3mPN0Dhx4wbT3bW2N278RmfOnKEXXniBYCYPEjAQwf4jKvkPP/zAL9ZJlN9MMZGPrD+Ckpxn8hDEVpw4cVV/EI52baTIxomOepxzaBeDPMf14o84d5ofJqvQ6kuWLJlP83qnfiBD4arh+q+/UvLXX1d9oWUaDoFGYNMmDdXUiCwPUjSqogLRMLa4RiRokH1MuFT4+eefVTHaBHo92cd50PN32AUDrjFeBOjtd1JZfDRGtu9YL85ylPFEiROraOIxfc/E9HUalXUmMiwDqcc1CWIT1yW03rFOBiq45r9kbXocQ4oUKT3uGgLtHxPtsG/4UIK1GJrGr72WPCB3JTGxb+GYwxCiLqGOC8uX2Ov0vKRlizEkbQhRX4iGrzy6H+DDd2RmZoOAQcAgYBAwCBgEDAIxg4B5nooZnM0sBoFAERDfm1ENphTofKadQcAgYBB4EBAwhKhLZ0FITKfh7HV6XtKyRX9JG0LUCc3wlpkH+PDib2Y3CBgEDAIGAYOAQeDhR8A8Tz3859AcQexB4Pr161SUg0NBE9DJJUTsOVJzJAYBg4BBwIqAIUSteIScExLTaQB7nZ6XtGzRX9KGEHVCM7xl5gE+vPib2Q0CBgGDgEHAIGAQePgRMM9TD/85NEcQexCYywG3Ro8arlwnrF+/2SswS+w5UnMkBgGDgEHAioAhRK14hJwTEtNpAHudnpe0bNFf0oYQdUIzvGXmAT68+JvZDQIGAYOAQcAgYBB4+BEwz1MP/zk0RxB7EEBQKATaciuYUuxBxhyJQcAgENsRMISoS2dYSEyn4ex1el7SskV/SRtC1AnN8JaZB/jw4m9mNwgYBAwCBoHoQQDRVfXo0ZglmEACbu8VnoWOHDlsGRb7gyAFRh5+BMzz1MN/Ds0RxA4Ejh49Qo0b1VMHM3LUWFeCKcUOZMxRGAQMAv8GBAwh6tJZFhLTaTh7nZ6XtGzRX9JuEKJXrlxR0SCd9ivYsnjx4tEbb7wZbLdY1d48wEftdCIK5/79+9Qg5ctXoESJEkdtwIekN6JDTpk8IeK4K1Sid99N85DsuXu7uXz5UhW1N0HChNS8eSv3Bo7hkU6dOkknT55QUWEvX/6JXnnlVUXQZMiQUUXqjand+ZKjAyMiLDQ6Ll+5TPGej0dJObptlsxZ6f30GcIepbVRw3pMZh3ywPH+++lp5qx5nnxMJhDx88CBz+jkqRN08cIFQqRXREdOwZGVc+fOE1RE4Jjc75iea8XyZTRgQD/LtGvXfcxRk1+xlEUl88cff9AXHL1bFxCcTsTr3bt3KXOmdHpTKly4KA0eMtxSZjIPJwLmeerhPG9mrw0CBgGDgEHAIBCbEDCEqEtnU0hMp+HsdXpe0rJFf0m7QYjOnz+HRo4Y5rRbQZflyJGLxo2fFHS/2NTBPMBH7WzOmzeHRo2MuB7nzV/8ryEGv/32G6pcqZwCb9DgYVSkSLGoAfkQ9u7UqR1t2/oJJU/+Oq1cte6hO4IbN27Q8OFDaMP6tT73vXr1WtSiZWt6+umnfbaJagWupY8+6ksn+eOCL4kf/wWqU7c+1axZmx599FFfzaK1/EEgREGozZkzS32MQKAIX5IrVx5q2aoNvfnmW76a/CvKY4IQBZFfvXolC56+1sR//vmHCf73LW0LFSpCQ4aOsJSZzMOJgHmeejjPm9lrg4BBwCBgEDAIxCYEDCHq0tkUEtNpOHudnpe0bNFf0g8aIZo9R04aP36y0yH+a8rMA3zUTrUhRIl8vfxHDdkHv/fDTIheu3aNqlapQNeu/RIp0NAYXbRoGcWJGzfStsE2+PjjDdS7Vw+6e/efgLpmzpyFYP4WN+4zAbV3s1G4CdHff/+d2rRuTp9/fiygw3riiSfoo/6DCITbv1VighA9c+YLqlG9sgXigYOGUtGixS1lyBhC1AuSWFVgnqdi1ek0B2MQMAgYBAwCBoGHEgFDiLp02oTEdBrOXqfnJS1b9Je0IUSd0AxvmXmAjxr+hhA1hOjDqCHasWNb2r5ta8AXf+ky5ahv348Cbh9Iwz17dlPrVs0CaWppA1J00uTpMa4pGm5CtHatagT3BsEItGnHT5hCH3yQLZhusaatIURjzal8KA7EPE89FKfJ7KRBwCBgEDAIGARiNQKGEHXp9AqJ6TScvU7PS1q26C/pB40QNSbzROYB3ukKD7zs+PHPad++PapDhQqVKXHif4cPUWMyT/Swaohu376VOnZo63WRZ82ajd566206evQwnT59yqt+67Zdjn4RvRoGUABNufLlSyn/l/bmjzzyCL399jv066+/0tWrV+zVKt+//2AqXqKkY110FYaTEF3Pbg169+rueGjPPfc8JU2aVPmA/fvvv73avPZaclqxcm2ME8heOxKGggeNEHXyIWpM5sNwYUTTlOZ5KpqANcMaBAwCBgGDgEHAIBAwAoYQDRgq/w2FxHRqZa/T85KWLfpL2g1C1Gl/pAwBburWqSFZtW3arAU1bhy8FpJlkFicMQ/wsfjkRuOhGUL04SVEO7RvQzt2bLNcHT169KEKFe/7QZw4cRxNnzbF0sZN1wiLFi2gYUMHWcZHpkHDxlS7dj169tlnVd3Fixdo+LAhtGvXTpWXPyD54LcV5GlMSbgIUURKL12qGP3881XLoSZNmoz6DxhMadOmUziAZP5ky2blj/XOnT8tbQcMHELFipWwlP0bMg8aIfpvwPzffIzmeerffPbNsRsEDAIGAYOAQeDBQMAQoi6dByExnYaz1+l5ScsW/SX9IBOi8Mu2bu1q1rI5S999d5aeeuopFWH5zbfe4kAedRw1/7Zs3kTLli2xQDR5ynSCBtbKFcvZvPEExYsXn95+5x3lx+1BDDwTnQ/w0Ib56acfOfpx0rBpJ+Ha+/HSJYofP360+EC0nPwAMrdv36Lfrv9GSVijKxgyB1Gkf/zxkuoDLdSY8qF45fJlWrxkIRUsWNgSMMoXIQpSBvv54osv0ZNPPhkAIsE1gZn1mTOnqWLFKuqcBtc7+NaIIL2W1wUEFSrDZuO6+NIQhWbj33//FS2Rvn/55WeaPHkiB3GpqSLB6/sTaLphg7pKC1TaQ8Nw+47dlnv0xo3fKF/enNJEbctXqEQ9e/axlIWSwdilSxWn33+/aenetl1HJkPrWsqQAZa1alWnb77+ylK3fMUaLwyuXr1K8+bOom+//VZpTOK+QcTvlClTEsz+06WzBrSxDMgZXNcLF8ynr746o6Ldv/tuGsqWPQeTiSWpZ4+uAUWZv3nzJgc+mklffnmGvuPfk1u3flfR39/gCPDlylWgNO+ltU/rNz+Fz/eUKRMtbV5+OQktWLhE/b5YKjizefPH1K1rJ0uxLy1EaJ7u27uHzvJv3oUffqBEiRKp3z3sIwJYwQ+pXcaNG00njt8PgPVa8uRUkbXjFy9ewPgcVsQtMM+cOStVqlzFE9Eda8m06VPo0MEDdOXKZUr5xpuU5t33VJs3OG0XN35fgyFEP/10B23lIGln+Ro4d+4cJUyYUGGRNl069Qzwn//8x7OLEyaMpc+PRfhy/ePPP+iMLcr866+nYG3qBJ72SIyfMFmtiS1aNKG//7qvyZsvfwF1P1sacwbavvM5aN/JkyfUM8lVJsRfe/U1dT3nyJmLSpQoZe+i8i1bNqW/7vzlqStcpCjBD/Dy5Uvo9KlT6npMkyYtZcmalWrUqMXn2P112jP5vywRnc9T/zIozeEaBAwCBgGDgEHAIBAiAoYQDRE4ezchMe3lyNvr9LykZau3fxAJ0f/97380nV/Spk6ZREg7CQiDfh/2pzx58lmq586dTaNHDbeUwdTzq6++tJRJplatutSmbXsL8SB14dpGxwP8KX6BG8W4fMHBJv5iQuL5559XL8ft2nek27dvU9cuHdXhdujQWZENcux4AaxeLUJLrUzZ8kyC1JEqy7Zfv94qIjXMexG8wknga2/smFGKPMOcIB9f5ZfJQoWLUJMmzemxxx7z6oYALzOmT1XlkyZPU+dp4cL59Nln++nqlSt05687qq5RwyZUu049ld66dQtNnjRBpceOm6jIX5XR/iAaNDTudmzfRhcu/KDun7jPPEOpU79L7ZgEeuedVFpra3L37l18bU70MmHGC3cFJqiqVK3ueCzWUYLPwRXAwgXzmNzfpgLeTJkygzJnyeoZyE6Ivp8uPY0YMZQ1D7er9o899jibX79FjZs087pvZJBQ8BbTYZCtRThoCV7ooyOS9iUm0UHwrFm9ShEIjRo3pWbNWsquq62dEMUHlYkTxyuyBw0SJEhIOThwW8dOXekZPt92+eGH89S+XWtVjIjg2bPnpNWrVihC66fLPzFh+Luqy5gxE40ePV6lL3N58WKFVDpbthxUjYlRzBEMuV6jRhULgYM1a9Hi5WpM+YNrNmuW9JJV2wIFC9GwYaMsZaFknAi7hAkT0YaNW0gnnfSxQaJNnWoNgNeseUvKkCGjpxm0SBGg6ebNG54yPQF/mrgeG/L96xSpHv27d+tMIMHtAnLr7v/u0o3ffvNUvf9+epo5a54njwTWnc6d2hPOk5Ng3cFvAD6yBSrly5Wic+e+tzTv0qW7uvcthVoG5O0VXrNEkiZLZvEBe+vWLc739OtH9g2OUD9s6EgC4alLm9YtaPfuTz1Fjz/+H/7tvOv4+4l1bsyYCXSXP5S0a9fKEVusFY0aN/Gy5Jjrwu9rIIQorvWRvHYtWbLIc0z2ROrUaWj4iFGejxzt2rYiEKjByJ69BylOnDiUPVtm0jV4q1SpRl269rAMdf7cOerUuT19+83XlnI9k79AQT6H/b3WlhzZs9CfTNKK4KPsb79dl6xlC6J0yJAR9E4q379Blg4m4xeB6Hie8juhqTQIGAQMAgYBg4BBwCBgQ8AQojZAQs3qhKZ9DHudnpe0bNFX0g8iIdq3by9au2aV/RAd8304qIiuJeb0wubYUSusWq0Gde7cTSsJb9LtB/ilSxcrE9d//vmv14HBzLU9k6CIlAzBixgIShGYhmb7IILgqFOnviIOpE7fNmnSQGkZvcemonPmLNCrVHopv9iCnMOLrpOkY/Ju2PCRrAGUyFK9ZPFC3qeBqgwEEYjb8+fPWdog07x5K2rYqIkqX7lyOfX/qK9Kr1q9nnCMuoCU6NSxrc9gKNDAwvUA7Tu74DgGDx5gL7bkc+bMzccyyhVtTDG5XbhwnoWAjR//BZoydQbpWlw6IQrNvkV0JCOXAABAAElEQVRMHEPryy4g6urVa0gg/OwSCt6fHzvKvjvbW6KjI8gOiMHcufM6El32ef3loeGGY9m5c7uH4ME56sGakaVKlbF01QlRkLNTJkcQ45ZGnAHpMGr0OC9tRh3Dfv360969e2jLlk327qzJ9QFrhU5X5dA+bNigjtJklIa45qrxulKqdFmlySrlvrZ2QjQVE/MLFlg13Y8dO0IN6ltJu7r1GlDr1u18DRtw+ezZM9THCr1Dy1ZtqX79hnpRUGkhygPpVKJkaTYrj7jPpf3+fXsJmnvBiJ0QhSZf/Xq1+IPA3UiHwfqBdSQQyZzpffWRQdriA93mLdtDvufx4alqlQpeJKuMr29x7c/na0O/9+2EqN7eKf3MM8/Sf/n3AB/H/MnwEaMpf/6CniZu/L4GQoi2atmM773dnnl9JfBhb/mKtfyhIwG1bdPSy42Dr35SvmfPAWWlgN84/NaJVK5clbp26ylZdV5wfpz8wXoa3UvgI9+SpSst14KdcLX3seeTsAUH3E84aQPb25q8fwTcfp7yP5upNQgYBAwCBgGDgEHAIOCNgCFEvTEJqURITKfO9jo9L2nZor+kHzRC9PDhQ9S4UYSmn9Nx2sueffY5Aun1wgsvqKpQXtigmYQAF3bizD5XTOXdfICHiWhN1j6Dpi20furWrU9ZWKvwf2y2DsJh/vw5ysTz11+vqcOLDkIUpESd2tXV+AgSAyIOL/O/sWbXBjYPhekpiFJo1wwfPtoCs07QvfnW28pEF6apyV9/nRIxefr444+r9nny5qdcuXKrdGSEKMwXYZIaN25catmyjZoX1xHMvkeOGKaIR1wTCxctUwFtZIeuXbtGRYvkV+RKSja1bdK0OaVPD7L4/+jrr7+mWTOn0+HDB1XzFi1aK9+L0jfYLbSHQByAzNb9FL7HZrOVWXsJ5rb2l2WdzIMW2G3WOCtbtgLly5df+X889vlR9kE51aOpNHrMeEVY6vsWCt7oD+IWmrkgjOHqQiRZslcIHxzKlCkblEsBEA+bN22khUyE6trdOPcVK1VWZs7QsrKLEKLQ+oJpNtwE1GNS7x3WuPzxxx9p9eqVrF28T3WDhtm8+Yssmpw6hnK9gXR58823lYsOuO2A4PqzaxQePXpEHT80eOXjA64rmGRXqVqNsO+hCu7fJo0bWMzDMZZdSzjU8QcP6q+uNb3/3LkLgzYll/64fsuWKelTM1Ta6Vu4NsmS5QNVhOOtVLEsff/9d3qTSNM6IYrfuBrVKyszeb0j7ht8ULB/LIBW5fIVq5XWut7enr5+/ToVyJ/LUpydNYLHj7dqy1oaRJJxMsH310U/TrQLlhD1N7Ze99JLL9PadR971lk3fl8jI0Sh0d6hfYSWtr4vWEsuXbroeXaRutL80aEvf7xo25YJ0U93SnFAW9EQjYwQbdjA6tIissHhdxe/ASJ2DVEp97dt1bqt+nDlr42pixwBN5+nIp/NtDAIGAQMAgYBg4BBwCDgjYAhRL0xCalESEynzvY6PS9p2aK/pB8kQhSkWBVoyWgvwSCmYN5avHhJ+p01saZNm6z8B+oYlGTtog/vaRc5vbDBJLITxihRSkVIHjd2tJdpnW56Cr9qGzau16fwmY6KBpWvQd18gG/cqL4i6aAViBd2+N7TZdu2T1hb8r6GWXQQovXq1qLjx48pcnHe/MVeJrjz2CfbqJHD1G7NnDmX3k+fwbOLOkEHIuOj/oOU70wcjy/xR4jC1L55s0aqq/1YUQiT6CqVyyvzWl0LEHX6i/qEiVMpW7bsKPYISJzly5fSdfZX+RyTaNAQDFZAyMFf4scfr/doLMEUvXDhosocFyb9vkQn89CmfYdOXqQdCPJ6rDEHzbDkbOK/bNkqi3l/KHjb9+dr9isJIvfjjRs85CvI5zJlyjM5Wt3jv9DeD3mQzsvZBzD8AAtJj3MNIr1ylaqRapwKIYqxoKk1g68naI+J4Bz17t2DNm5Yp4rskdHtGILYaNCgsfJfLGNEtv3ll59pBfsrXrlimYfMxhqUl4lp+BmNINEjG+V+PdbqXhzNXPZZauCiAR9y3BAn7bpVq1i72maaHehcH/brw+TzCktzEMP16zeiZzg40/p1a2gk3/PyO4SGyV55he+fNYrodyLNUqRISb1691PR7vfv30fdu3f20nDUiULciwMHfGjZh+rVa6kPGbgeP/lks/JBqmuPBkJsnmG3IyBadSlStBgNGhSxhunlgaQvXrzA/j7LWLQPQdiC5MuUKbPyVYnjwLy6wDS7NH9ogLRu1Zz27NmlVytte3wAe/Gll5SbCXs9GuO6rMouPkBEIwDinDmzPGS+DLZ4yQrPhyE3fl+dzi1IVxCe+BBStmwJuvzTTzK9MonHug83FfB/PXDAR17ao9CYxe8DPrJB4PpCrARkILjYgA9VXTJkyKg02P0Rohs3rGc/vV31bsp3c/cevSl58tfp0KED1KdPT4vrBpDrWFvl/nHSEIUWODRR4zwdhxYtmm/5kITJ8EFmCWNvJGoIuPk8FbU9Mb0NAgYBg4BBwCBgEPi3ImAIUZfOvP7yaB/SXqfnJS1b9JX0g0SIwvS2fv3alkODP8IOHbtYykCa6sE8QJgcPPS5erlzMv0EodGi5X1tDbwAlyldXAWakYExxuEjJ5S2mJNpqrSzb/fuOxSQSay9n7+8Ww/weNFGJGQIzB5h/ugkLZo3of3796oqO0kYVZN5kGMwNYTgpbYEk9J2Udqh+XIqX6Ywge734X2TdJ2ga9qshZdPO/tYyPsjRCWaN16+8RLuJDNZ03P8uAis1m/Y7PFBunfvboIpJ6Rd+04+/ak6jRlZ2RE2C586dZJyOyBtoVGIACggkp5/Pp4U+9zqZB5e1BHgBh8U7AIiCoFBINOmz1ZEg7QJBW/pa9/CJ+LatatpGZOj5++5OcD+5MqVR5FSup9W+AeFeTt8WYpbBWi54nqoUrmah1iwz2HP64SoryjeIF1LliyiyLRMmbLQ1GkzPcPoGMI/KzQwQxWsMzt2bGOt0cUezWGMlSpVaqrfoBEVKFAo0qFB4ML35CbWltUF69XUabMs506vDzYNH5vQ8NUFGtL6OdLrIktnzpTOYqYOjeply1dbug3liPaLObK9LlOnzqRM7G6hadOGdPDAZ3qVsgTQtfj1+1wa6oRoA3ZjcIy1dkWeeupp5SYBJKAI/FSLVreUiRm15O3bs2e/Vdqrejl8WcMFQygyfdoU5c9Y7zty1FjKmze/pwhBwYoVLeC5N1CRIUMmmj5jtmrjZGJuP39Yh7Ee62L/bZzLhOjo0SP0JqTfR278vvojROGXFu5XdAFpWLBQEU8RfMH25g8EutRk39bteU0WcSKt4du6KLvRcBJ/hKj9WoRPXbhH0DXUt2/fSh07tLUM3bhxM8JvFiRbtkwW8h59P9601WNWj7WiVMmiFj+30EzfsTPid9kysMkEhYBbz1NBTWoaGwQMAgYBg4BBwCBgENAQMISoBkZUkkJiOo1hr9PzkpYt+kv6QSJEN7DWVq+eVl+eunaKHLfTS5sQV051on0i/bGdNGk8TbMFBNm0ebsyi40thOi+fXuoZYum6rCHDhupNCt1DCSt+/pzmxD9ZMtm6tKlg5oKfgKfYxNiJ4Gm6tWrVyht2vdp9pz5niY6QWfXHvU0siV0osTuQ7RC+dLKDBfESvbs1ojdMsyVq5c9gU10TVCYAZcoXkRpPYJUycAaS3nYR+arPFYyDpCCMUFUhSI9undhrdANqivGaduugyIOnQhNX+PrZB6CVMGk30m+PHOGNRUj/KNC4w6Eq0goeEtfX1usNbgW+/XtTdCehNj90ernDObu8ItZkslQpIMRIUThHuKzA0cs2q/6OGJemzjxi7Rp8zZPlY5hc/YnKX5pPQ1CTIBE6/9RP6UpjSEQKR3a0v4EJEkPJkO3MElsFyftX3ubYPITxo+lGTOmWrqMGDGGEG07WIGGfbFi9/1Ooj+0/KEdq8vp06eoVs2qehHBbyv8rpbn+1S3FLCvC+j0zz//sOuIvBbNPJ0QLV68kEXT0DKRnwyIWxC4vgRajB9kva/FjnZR0eZDQLo17MpBBG4Wdn6612stsWuB4oMJgl5B7HVJkyajdes3yZBqO4XJX7tP3QULlyqCXhriw0W5siUlq7a66bYbv6/+CNG1a1YTAksFKwULFib8xom4SYjioyI+Lorky1eARowcI1m1xRqXK2dWS4Aq/eOenRDVrVpkoEED+7NWqXVNOHDwmJdFhbQ328AQMIRoYDiZVgYBg4BBwCBgEDAIRB8ChhB1CVshMZ2Gs9fpeUnLFv0l/SARok4vbDs/3UfPPWcl0bZs3kRdu0ZERRcsRLPIrsECgkq0R6Uttms4aFM/Dt6ky9x5iyhNmvcothCiizkg0dB7AYns2kL6ccPnIwKPQNwmRBEhfsKEsfp0ftPQnNm+Y7enjU7QCentqfSR0Mk1nRCFth00gUQD0Ud3S3HXrj2Uz04phAZjr57dvcxKUY/AKvDP2rxFK4KGZjAyZvRINled6ekCAgiRjgsWKhzwC7FO5vnSxsUE0NzMnesDNVcdNqlt06a9Z95Q8PZ0dkhAsw1R2mG+LFG+cU9C61snyBAwqXOnDh5cQehUqlSFypQtF5B2rEwthKg/DWC0HTF8CActmqdIJ2h5i29QHUMh52TsULZ///0X+0L9mE1fF9MXX5zyDOFPYxuNQPZBm1mPHC6d4RO1FQc8clP0jyIybkecI9bQD1aOsLZzo4Z1Ld2cyFVo6hYqmMfSTrTqcvH1CR+4IsWKlVCaipKXbQO2KDjGlgUiQoiCTM6S+X3P75zUB7IdN34S5ciRy29TaPPBn6UItE/37T8k2aC24tZEOvkiVwcO/Ei5k5B2+m+b+EWWOmj2Ys3XxSkgnH1NRYCwvHmy692UL0y4joC48fvqjxCdPGmC0pS37EAAGfxu4/dbxC1CFL8ZWbOkt2g7V6tWk6PNd5WpPFs7ia9r8No1UGvUrE0dOJihLk5+ZKPDAkWf89+QNoTov+Esm2M0CBgEDAIGAYPAg42AIURdOj9CYjoNZ6/T85KWLfpL+kEiRHVTZTlGkGO6aRrKQUp163rfPA5lM2bOUb75An1h00kz9IfAD1lq9uuFIC4D+veLKIzkL0wWn3jiyUhaBVft1gO87ptzKfsz06MS63t06tRJql2rmipymxDVX/JatmxDTzz5hD61Y1oPVqMTdNCGglZUZKKfW50QBcmU7YNMKjo0Xlbz5ssX2VBKYzVt2nSWdufPnaNZHJX7yOFDFlJEGsF/HEiVrByJPBiBf09EU4d5tJC2L7yQQGlwVqhYSfnS8zeeTuYNGjyMihSJcJdg74NgQ9nZhBNid0kRCt728ZFHIK0lHGDpky2bPMfyNPvKK126jAqyBC1YuyB4FHyPgjCBNi5E/KcikBS0KiMTIURBSCNKsy/RCehduz+jZ9g8H6JjCNcN0PIKReDrEH5QVzEZfOOeX0No++ZmjWIQwTAL9yXQQIRfXycyFD44EZTMbTnF56v2vcBnMnZ69q84Y8YcyXptf/zxEq1bu8ZSDgL/9u3bVLeO1X+uk4b6tWu/MCGa19K/WfOW1KhRU8qXNwfduHHDUwcfuoOHDPfkJYEPOXoQLyFEUW8noaRPZFt/9470tROQKIcLA/j89CXr2H0EAnuJxI8fX31s0V2WoM7JvQDKB7Af0RX8YUEEptv7Pzui3GLY9yfchKi+Bsv+yu+rP0J01qzpBB/fwYr9fneLEMV+QBsY96QIPlR14Q9ldilfrhSdO/e9p1h3uWG/Fg0h6oEp2hNuPU9F+46aCQwCBgGDgEHAIGAQiLUIGELUpVMrJKbTcPY6PS9p2aK/pB8kQhRaYu3btbYc3jSbj0NUQuMQmoe6iCapk0mfk3bksKGDVSADfYzdez4LKhK23tfNtFsP8J9+uoPatW2ldg3+7eDnzklAwHXvFqGtYidEQSJCQwbXiy/NGIwpgZPsJIpOXssLsdM++CoLhaDTX8Z1QhRzyEsr/FiOGTvB17QBlyMIEzQfv/3mG9q2/RP6dOdORbgmSZKUoH0VikhgIWhVgjSCwEQfZBqIQWihQjvMLjqZB/IZfiqdRG/XtVtPFdhD2oWCt/QVbcjFTISe+eK0FCsSuwoHboFp/rMcUCcywTgbOJAJyGHsqwgIURx/kSJFfX6EEEIUAVZAFjnhhPGkXXwOXrNt+/1gNDo2wRKiuEcOsN9LYAgyE9plEPhCLVumHAevqUFJ2bWCP4HPXviDtPu1RJ/WbdpR3bpW/4r6WLdv3/LyEYn6QII44T6HX2UQubpMnDSNPvggm17kSXfp3EEFJvIUcAKR6RGsSzSQpa5J0xbsGzLC/66UAatm7CtUF9EkxQcafKgRSZEipfKJK3ls8dGgYIE8HAjtpqdYJ0TtPjNBbuv+iT2dQkg4mXZj7ulMIDu5ufjmm6+VL2X53cWUEsBJtJVlN5586inayb4j8TFAFzv5q2uSxhQh6sbvqz9CVA9cJ8du12KVcn9b3S2ItBswYAgVK15CspatnbCE31KsjZBqVSuqj6TSwe53GOV//vmn0qyVD1ko038v7eMbQhQIxYy49TwVM3trZjEIGAQMAgYBg4BBIDYiYAhRl86q/jJlH9Jep+clLVv0lfSDRIhC865cuZKWQ7MTV3+w9lFJNlcUDTI0TpQosQpygLTTC1shDsgwZOj9QBHXr1/nAAZFLP6+7KbaGCtc4tYD/Pfff0fwmQkBGQV/kU7SlbVtxU+hnRBF+xLFCyuiBGak0Hy0C64lEBPXr//qNQ+0bfFCCQnFJ2MoBJ0/QhSEO4h3mLdv2LjZdQK8Z89unmjgCLyBazNUgVYSCGUQg9AeFYE2VCV+YS9btrwloJdO5r3HWq1z5lgD1kh/PYiLnfAKBW8QuPPnz+Go4is92pCYC+Q4tCHhc8+JJJL98bc9ePAzWrhgvoqgLQTj8/HiqWOvWqW6iqCt9xeiE2UTJkyhbNlz6NUqDeKwZIkiSgMxXbr0rO07z9NGxzBQQhRkIrRBYZJ8/vw5z1iImg4SFGRonLhxPeW+En/88QdBW/D48WOWJsCuT9+PItVW9eXq4+ix+6b6loFtGfiwhS9bXeDDdTj7EtVJUazBgwcPIJjZ6/Liiy+pjwAg7wsXysv+YiPIfLQB8byOg5jpODgFAlq9ZgO9+uprHNX7/n0kc4yfMNni91e/VqWNTojiI48ejAq+OVeuWksJEiSU5oRjgSa9LsVLlKRXXnlVL/JK41qsWLGsxc8pGuGjEzRZdTITgYK6dOlo+c1C2549+1D5CpWURvSAAda1uW27jqyxWxfNlOha/FKmuxEIJyEa7O+rP0IU94/dh6mTVvSuXTv5o8sXAgUlfvFF9dsjBfp9LGX+/CrbCUudEO3WrZNyeyHjYAv/v7rG+pzZM2nMmJF6E+rZqy/7wo347bOPbwhRC1TRmnHreSpad9IMbhAwCBgEDAIGAYNArEbAEKIunV4hMZ2Gs9fpeUnLFv0l/SARotivhg3q0tGjh5H0CAgVBCG4cfMGkyPzLFpjaKRrH82dO5tGjxru6SsJvLRBO+Tq1as0j9vo/t/QpiL7K+zevZc0D+vWrQd4vLRDSwovhzDjXrR4mVewEJg216tb06PN5kSIyss2AtUsXbaSXmcNMF1gCtqnT4Q2TZcu3QnagCK4zqDtdfr0KaUpt2LFWhW4SuqxhVbciBFDVVCl15OnoDZtnX1aRtVkHnPt3r2L2rSOCDZUq1ZdjhbfEcUW2b9vLy1ZukiVNWXNNom0DXcMhw4eVNqa0NZzckGgk41r1m70ECsYE4F8IE8++RTt2r1fpQP9c5SjZePah9Yv/CNCEAEdZpkidhJg+IjRBF+VuuD6r1ypHN3kewlkLQiop59+2tNEJ5kCxRvEmER9hhlvYTbVr1G9Fr2TKpVn3KgmLlz4gTW6F9Ba9v0L4hDSqHFTatYsAlMZXydE07BfQSeXFrq5vN1Ppo5hoIQoNISLFysku6DOCYhgfMwJlAgGSduieVM6ceJzzziSAAH8Rso3Jeu1fS15ckWuRZUQVesFf7z4lrUZ7YJ7IGPGTHSdzf8R/f2XX362N7FEI9ddZUhDaDQCF2gJr+U1Y9enO6VKbTNmzEzTps9S6b17dytNWb0BXC40YK3nt95+R7mrmDt3lud3TNrphOhhdmnRuFE9qVJb3LM9mIjE8Xz33Vnqz65RdG1mNApUIxGB4ODawC7QCM6SOSslSZpUaeyCELVLihQpeT1ervwD4+Ne2TIl1T2pt8P6BNcK3/N+TmeLiFu3fterGavZ6pygUNZoaYDjiw4fom78vvojRLH/DRt4PwO0aNFakcd37/7DWslbaPiwwZZzb9f+BdGdk4Mc6YJ7MS1/KMLvmAhIdpDXdsJSJ0SdriOQ6wi4ho9T+GizYP5cGVJtcc+uYpcd4u7HPr4hRC1wRWvGreepaN1JM7hBwCBgEDAIGAQMArEaAUOIunR6hcR0Gs5ep+clLVv0l/SDRohCS7Ry5XIev4NOx6qXwRch/GOCiIE4aYjq7Z3S6AvyJ2HCRE7VMV7m5gP8/v37mGhprI4BL3EIEpQla1ZFgO7du4fgOuCff/7rwduJEAWZ16JFEzUGfFqChHo3TRpFZIK4mD1rphrjpZdf5uA5a7wig584cVyRrrjmQMJ17tKN4MPzf/+7S1+cPk2z2G+c+AG0B7IJhaDzpyGKg8Cx4Jgg0JytWq2GIi7Pff89mzzvZ83Ccep4oKm2fMUaJpMjXqBBSoJgAXH0zDPPKiwzZMyofHuC0Dpx/DiT6p2V5iFeiLdv3+0x2dYJHpjE7t9vJf3VzgTwB34bESxr9aqVTCKP9kmI4uX/0UcfYzPrtqyhWVD5yARhNnjQAEU8Y6q+fftT6TJlLbOGgjcI0dGjRrDGXGXWXK1i0cCzDO5CBjjj2IEBNPl8EaI4fpwnBKdq07Ydvf12KvbfeImWLV3iieQMLUCcX1k7sHuhEqLQaitarIQi/N58862gj9TuRzKYAVKlfpcDRC3xGQwuUA1RzLlv3x5q2aJpMNOrtnnz5qeRo8Z6+kG7uWKFMpbo3J5KhwRcHOBjie5SIBRMdEIU0/Tp3YM1U61+Th2m9xRBoxiaxYFKHfaVepLXt2DkscceUwGAUqVK7emmf1TyFPpJlGHt8D59PvS0iDFCdM4sGj36vrWFZwf8JOy/r5ERosE+A2Dq2awND7JTF/invXbP5Yherqf37D2ofq/shKVOiKJ9sNeRPaidfXxDiOpnIXrTbj5PRe+emtENAgYBg4BBwCBgEIitCBhC1KUzKySm03D2Oj0vadmiv6QfNEIU+4YXpoEDP/TsI8qcBJo4k9jHHTTBRHxpsEi907Z27XrUtl0Hp6qwlLn9AG/3UacfFF7OG3IQkymTI/xpOhGiaN+vX29awybRvgRRlkGI6Ka1eluYpY4dM0r519TL9bRdywd1oRB0kRGi8JMI03mY8/sSEJ7QVnubtdF0gSbQyJHDLNcmiGYQdSDgRAYOGkpFixaXLLlFiMqA0JKEqfZzzz0nRRYyDy/cuI/u3PnTU68nEKQG+wjiUJdQ8EYkeQQlAqkVUwKsYZKdOLHVJYFoiEJz6w3WBty6dYvjLj3//PM0YuRYJuYzWupDIUTh8/T27T/YLDy+ZaxgMvDfCS3YUES0AaOqISpzw3S+d68efu9VaYtt6tRpaMLEKQRMdUGgpmb8MUaPFq/XS/qRRx6hHj16Kw1AKcMW5tMIznRDC66k1zul7YQotC/r16/jZdru1BfafPMXLKYkSZI6VTuWwYdw61bNvdwcODbmQtxvvXt/6PUhAu111yW++qMc1zV8ler3fowRonOdLTD87a/99zUyQhRjwf3EkCEDLeusrznq1KlvsSqQdoF8HA2UEL1x4zeluXr27LcyvM8t1n2srboYQlRHI2bTbj9Pxezem9kMAgYBg4BBwCBgEIgNCBhC1KWzKCSm03D2Oj0vadmiv6SjmxCFSXYdW/Tips1aUOPG1gAb9mOCNh4iySPytJPgxXfQoGFePgSdXoIKFCxE27Z+4jUMzMjbsOkzyKMHSaLjAX7L5k00jM0MdY2Zl156WWlrQmuzVs2qCgJfhCgqP964gcaNG62CCAleMD/MmCmTIjQi87sHLdABbKIKU1W5/jBO4sQv8nlo7xjwIhSCLjJCFHOCxBo1crjyg4io2CK4JvLmzadw8aUxDPP/kWzif+zYUenm2UKrtHnzVmw2XtRThoTbhKhl8HsZncxDpGwQOwM5MrVO/ILobdq0OVWvUctpiJAIaMeBwlSoE6JLlq6kiRPHKR+sEiUa5BvWDmhwORFfOoaBmsy7cahly5SgH344H9JQbhOi2AkEAer/UV/C+u1L4Ie3Jq+dtevU9Rnk6srly8p/ppMrAIyLe3/Q4KE+Az+hf+s2Leibr7/y2g18rLj9x226eOGCp85OiKIC9/qQwQPZhHmFp509AW1N+JlOluwVe1WkebiwmDVzOk2bNtmjae/UKWvWbNSiZWvLBzx7O7iFgMsXPTiP3gY+KaFh/8QTT+rFyr0A1hgRuSYkj+3SpYtZQ7y/XuTlHgAEb57c2SxtWra8H6DNjd/XQAhR7MCRI4dVsD9fzwD4ANOgYWNqxB/0fAmCL06dOsknnh5CNFsm+uvOHc8wTpHkI7uOoAnbrn0n9ht832WMDJjNNn6gGqL72JLgKbYoMBI6AtHxPBX63pieBgGDgEHAIGAQMAj8GxEwhKhLZ10nkexD2uv0vKRli76Sjm5C9MqVK2zian0RhV80+KOLTKAZtI/NuqGVgf9Ps6/DlCnfoDffeov9g+X20m7DeE4vbIg2jXG+OHNaRQOPx5pc7/DLNKL8RkbiRbaP0VEfnQ/w0I4EIQkiAlp0eIkDwRcIISrHipfm8+e+p6f4fMBlAcYIRuDf7UvWzsQ1mCJFyihp1gUzr1Nb7AM083744QcmyJKogC5iIu/UXi/DcZxnEgtEVpw4cVV/+Fe1a13qfWI6jeO7ePGC2sekSZOp8wVS8N8k0N49e/asIjxSv/uu64G03MASLgBusH/OUATEfYWKlQjk4YYN67yGqM9+N0MVROuGj8Rz587RlSuXlRYogkXB5QW0awPRCoY27549u5jU/Fqt43eYeMI6niJlSkKgNl3T0Wk/EcF7547titj/9uw3yu1GpkyZCUGFNn280aJZC7cdZTiIlZPAdQe0Vr/7/juFFQhx+F9N+15aSsP/oypYDw4c+IxOnjqh9umvO3/Ryy8n4WPl4+Tfq/9n7yrgpDiebgUJDgkSSIAED+4uwYK7u7u7u3O4u7vL4RLcIUAEiODyDxBBAkkgJN/Xry899MzO7tns7R1U5Rfaq3veyM2+qa5KmjRolqd4HsHvKK5Z5BMlSiTxQqC0LG7WiY9VOqGurgn9mPCcPyZ8KOuCDyNxhE9XJSD9Fi9aqIoyhYuVHDkCLKmd+PuKAHH4e6wLfHjbXQfyHUC4cbghztm1q1el+5IUKVNKy/08wk+rvnZdn57HfYFz/+DhfWGt/PrjF/rg3sDfLxCnr169MoZlErtOChcuYpT1DHTBTQL+jsInM/4G4lrOK/w5uyPUrfqzinNpDfgGX6Vfiv91AeEb1L9H+jjOv0bAm+9Tr2fhHCPACDACjAAjwAgwAu4RYELUPTbBalEkpt0ga5teVnmVYrzKe5sQtVurN+sQ+AZbs3U5feZCsEk7fXxY58P6BT64hGhY48HzMQKMACPACPgegTfh76vvUeQVhCUCYf0+FZbHxnMxAowAI8AIMAKMQMRAgAlRh86TIjHt1Fnb9LLKqxTjVZ4JUTs0fVsX1i/wTIj69nzz7IwAI8AIRAQEmBCNCGeJ16gjENbvU/rcnGcEGAFGgBFgBBgBRgAIMCHq0HWgSEw7ddY2vazyKsV4lWdC1A5N39aF9Qs8E6K+Pd88OyPACDACEQEBJkQjwlniNeoIhPX7lD435xkBRoARYAQYAUaAEQACTIg6dB0oEtNOnbVNL6u8SjFe5ZkQtUPTt3Vh/QLPhKhvzzfPzggwAoxARECACdGIcJZ4jToCYf0+pc/NeUbgTUIAvxsR7E6X+PHjy1gAeh3nGQFGgBFgBFwRYELUFZMQ1SgS026wtU0vq7xKMV7l3zRC1C7ow5mzFyNUYIKwfoEHIdqkcUBkXEQnL1WqjN0lxnWMACPACDACbzECb8Lf17f49L2Vhx7W71OBgXzu7BnatWuH7Na9R69wGeQvsGNA+71792TAPQQXuyWC7sVPkEAGf/v0009FgLH8QVERqj4vXrygkyePy4BrN65fp98e/SaD2CF4HYJbZs+eUwYBDNUkPNiEwD///EN5cmcz1ZUuXZbG+k0w1YXXAgLXtW7VzLS82XMWUL583r9eTZNygRFgBN5KBJgQdei0KxLTTp21TS+rvEoxXuXfNEIUEWXviKjauiCifUSKrB3eXuB1LDnPCDACjAAj8HYi8Cb8fX07z9zbe9Th7X1q7ZpV5Oc3Wp6QffsPUYIECSPUyfn3339pyeKFNGfOLHr16m/btefPX5AGDR4qCUrbDqGoBBG6fv0asYZF9Ntvv7rVFClSJCpZshQNGTKcYsaK5bYfNwQdgVevXlHePNlNA2BA4TduoqkuvBaYEA2vZ4bXxQi8HQgwIerQeVYkpp06a5teVnmVYrzKv2mEqB02Ea0uvL3ARzT8eL2MACPACDACjAAjwAiEt/epiEyI4ndD27Yt6eyZ04FeWNGiRaNFi5dThgwZA+0b1A4vX74UFn7N6euvLwZ1CKVL9yktXLQ0wlriBvlAw6AjE6JhADJPwQgwAm8sAkyIOnRqFYlpp87appdVXqUYr/JMiNqh6du68PYC71s0eHZGgBFgBBgBRoARYASCj0B4e5+KyITourWraezYUUE+CZ98koLWrttI774bLchjPHUc0L+P4W7AUz9rW+7ceWnGzDliHe9am7gcDASYEA0GWNyVEWAEGAELAkyIWgAJaVGRmHbjrW16WeVVivEqz4SoHZq+rQtvL/C+RYNnZwQYAUaAEWAEGAFGIPgIhLf3qYhKiN6//xNVr1aZ/vrrT9NJSJ06DeUvUJBu37pFx44dMX5bqE7YTu2EX/qrV3+k2rWqKbVGmiJFSsqYMZP0YfrdlSt0+fK39McffxjtKtOpc1dq1qylKnIaAgTsfIjylvkQAMlDGAFG4K1EgAlRh067IjHt1Fnb9LLKqxTjVZ4JUTs0fVsX3l7gfYsGz84IMAKMACPACDACjEDwEQhv71MRlRBdtWoFTRg/1nQCypQtR6NHjzN89J85c4ratjGTjjVq1qYBAwabxoWksGnjeho5cphpaJ8+/alO3YCAoKoBpN34cWNo3bo1qkqmST78kHbs2Gus1dTIhbcCAfYh+lacZj5IRiDcIsCEqEOnRpGYduqsbXpZ5VWK8SrPhKgdmr6tC28v8L5Fg2dnBBgBRoARYAQYAUYg+Aj44n0KgYcOHzpI33z7NXXu3M20aHeEKKwaf/nlZ0qWLDkhIJDTMmb0SCpeoiTlz18gRKrnzJ5J8+bNNo1dvWYDffppelMdrDhhzakE2+Y3b9muiiFO/cRW/bViy74u06bPpsKFi+hVRn7Xzh10+/Yto4xM3Xr1ReT592Td0CED6d69e0Z75sxZqEvX7kYZmW3+W8jff6tRFylyJJo7d6Es37p504Wg7d6jF+Hcr1q5nM6ePSOCTr2iDBkzUq6cualxk2YUJUoUQ5c1g3FrVq+k8xe+pOvXrtFPwiI3efKPKY2wwC1c+DMqX6GidQjZrQGWsO9GfZcOHzlEN29ep19/+dX4vYfrCvPoMm78JHr//ff1KpkfNWo43bxxw6iPGzcuTZw0lTp0aEMvX7w06nFN1a/f0Cgjc/nyJRl4C9fBz+KahqROlYZSpEhBWbNlp/LlK1L06NFlvd0/GAdC+5pIrwks3n03KqUSOMAfbOPGTSlhwkR2w2QdftsC/zPCz+13312RBHjRosWpUOHCFDNmLI4y7xY5bmAEGAFvI8CEqEMIKxLTTp21TS+rvEoxXuWZELVD07d1vniB9+0R8+yMACPACDACjAAjwAg4i0BYvk89e/aMtmzZSGvXrBZk213KkTMXLVy41HRAVkL07t270vISJBLey2PGjElZs2an3n36CQIppWmsKjRv1oiePn0qCc4OHTrT4cMHadPGDXTr1k0Ref03+j/xX+RIkenQ4eNqCFWqWFauCVvc69VrQBUqVqZoIvBRUGXypAm0fPkSU/cjR09R7NixTXVY28WLF4y6eO+9RwcPHjPKIc2sWLGUJk0cbxqeMmUq6tt3AOXOkzfYlp+1alYVZNtVQ1+BgoVo5sy5RhmZuXNmCQJ0llEXOXJkOnvuK1nG+WrYoI7RhkyatOno6o8/mOpUAX5MQSjGiRNHVRnpr7/+Qn379KIvvzxr1FkzOF8DBw4xnTO7NYBQv3v3jnW4LJco8TkdOLDf1Nardz95PeiVcI9QvlwpvYqUpW/BAnlMbhPq1KlHfcQ5gOD6BZEKa15PEjduPGk1XKp0GZduGOvnN5r+/vtvlzZUxI+fQPixHS/PubUDPir07dNTum6wtqGMa18/56ibPWcB5cuXH1kWRoARYAS8igATog7Bq0hMO3XWNr2s8irFeJVnQtQOTd/WheULvG+PlGdnBBgBRoARYAQYAUbAOwiExfsULBFXC+s+WBTq/isViaQfmU6IDh8xmoYPGyIsCV3JHxCjaAeJZZXixQvTk8ePqXLlqpRJWDaOGT3C2oV08g6N/fv1pj17dhnv/iAqa1SvRbVq16XEiRO7jLdW2BGix46fkQSu6vvXX39Rqc+L0vPnz1UVZcmSlZYuW2WUQ5pBZPs2bVrYDk+S5EMZzf4DcRwff/wJ5cqVW1oT2nb+rzIohKjVKhYWlue+/FpqsCMjPc2HNljTrly1zmQBDBK9Zo0q9PDhg8CGU44cOWnhomVGv0uXvqVGDesa5cAycF0AwlKXDML/6sqVa/UqWrRwPs2YMdVUh3OIc1kgfy568eKF0VZbXD99+w2U5RnTp9KiRfONNk8ZYLlCzJs+fQaj2/LlS2nyJDPpbTRqmXfeeUcEyZpLBYTvWl2aNW1EX331mozX29zlmRB1hwzXMwKMgNMIMCHqEKKKxLRTZ23TyyqvUoxXeSZE7dD0bV1YvMD79gh5dkaAEWAEGAFGgBFgBLyLgDffp06fPkWrhW/No0cPG+/UsYTFZKVKVQhEkZ2Fp06Iou8rYQnXokVryilIvD///IOOHD5M69cH+L+MESMmbfXf4bJFWBGisJC8ffu2INjeEYRgJvrggw8IW5sh7wjCyeq7E8Tt+vVryX/rFvr996eyX+TIUejzUqXEtudGkvCSlSH8Z+aMacIidp5pdKvWbaldu46mupAU4BsU1qfffBNASAamI06cuAQLxLZt27vgh7G+IEQx75ChI6hKlWrISpkw3o9WrVquikYKYte65R+Nw4aPktcX8sElRKdMnUFLly6mC+e/xHBDNm7yJ1xLSipXKmeyMsV1vGnzNtnsjhDFb8rixQoLy+UnSo202k2aLBnFjROPrl+/ZrIsRafPihajKVNmyP4PHz4UuJSnF4JU1yVBgoTyIwPuDV2SJU9OGzf6U9SoUWX1rl07aED/PnqXIOWZEA0STNyJEWAEHECACVEHQIQKRWLaqbO26WWVV6muiwlROzR9W+fNF3jfHhnPzggwAowAI8AIMAKMQNgg4PT7FKzjdu7cLolQ3VdmqlSpqbbYPlxRbG2Gdac70QnRKFGiCou/pS5E5MYN64Ul3zCpomrVGjR4SEBe6VSEKMpFihSlAWIrNcjQoAosOUEgrRM+Ob///jtjGCwA6zdoRCVLlvLo79IYoGU2bdpAI0cM1WpIWKlGoZ279lKiREFfm0mBpfC//92jOrWrmyxQLV1cinAL0En4cbX6ufQWIVqzVh1q2rQ5xYoVS/o8hZWpLsBi2/Zdwi9mNOlrtW6dGia/nnnF9u1BA4cSiESQvwMG9KG7d15vgQdBuHXrDoop9HuyUsU1mDpNWulPVM0P/6IgWQcP6q+qZNqseUvq1KmrzNvp7NylmzimAOtcd4Qo3DVUq2r2czpy5FjD9yl+f8K35yHhW1cJLD2nTptJMWLEEK4PetFeYcGsBG0gf8uWFSTpi78E0T5f+iVV7Ui7du0hfbO+fPmSqlapQNjqrwvcSdSsVVteL3C3YHUXgL5MiOqIcZ4RYAS8iQATog6hqxOaVpXWNr2s8irFWJVnQtSKpO/LTr/A+/6IeAWMACPACDACjAAjwAiELQJOvU+BRFy4YB5t2LhOblfHUWBbetFixalunfq2Pg3tjlQnRKtXr0kDBw2160YN6temK1cuC2IyKp08dU7OpToqQjRevHjkv223rV9K1Tew9KuvLkpidP/+vYbfxg8+SCzJXRB7QQnwpBO4+nxt23Wg1q3b6VWhzt8TPlenTJ1IX+zfFyxdU6fOpCKfFTXGhJYQ/VaQlY0b1zf0IZMlazZhgbnSVDdwYD/auSPAulI1zJu3SF4vs2fPoPnz5qhqmeJ6gHWoksOHDogt7WYLUlh6fvZZMVsL0dix49DoMePcBpsCefh5yaL07NnvagpBpiemXbv3S4vO8ePGCvcPK4w2nP99+w8bgZfcEaJPnjwRFqKFjHHI5MyZmxoIgj2OsFpGQKm0adMKotjscxb9YP2bN09243cp6rJly0EdOnZGVsr/iWBQvXt3J8yjJEOGjNIFwcUL56l588aqWqYgUoGDkpcvX1D1apUJpLouTIjqaHCeEWAEvIkAE6IOoatITDt11ja9rPIqxXiVZ0LUDk3f1jn1Au/bo+DZGQFGgBFgBBgBRoAR8B0CTr1PwbIOVmgQWK/B4rBho6ZB8r+pH71OiM6bv5hy586jNxv5FSteBxHa6r9TRhxXjYoQhTXhHBEUxglBMKZZM6cRLD2VnDh5zmM0cPRbs2YVjRNBcKyCyN6TJk8LdrAjqx53ZUQQvyCIMERCv3rtR2ktad1urY/FFvpdu/ZJy0rUh5YQvXTJ1X/n4CHDqWrV6vq0ZOf7dNQoPypXvoK01Ny+3d/UPygFBJKCNbLdGrp26ykjsXvS4zd2lLRe1fuApIXbhtKliovAXL8aTYhwP23668BS7ghRDICFKCxFPQmCPlWoUImaNmthBIi6d++eCPrlGmDJkx60vffe+3Tg4FFhWbpbWJj2NHWfOWuei49RWKhOmOBn6seEqAkOLjACjIAXEWBC1CFwFYlpp87appdVXqUYr/JMiNqh6ds6p17gfXsUPDsjwAgwAowAI8AIMAK+Q8Cp9yn4OKxdq5rhIxGWeAhqVEtskf4kRYogH6BOiO7atZ8SJ0liO/aQsAzs3i3AQm76jNlUqFARo58iROGrFNuKQyP4LQBfqNg+f+TIIWP7dsKECWn7jr1ia/e7btUvW7aEpkye4NKeJ28+mi5INGwLDyv5V1gQ/vDD99IFwFHh0/XAF+Zo6ljH/AVLZMAl5ENLiNpZiM6aPZ/y5y8A9YbAorVSpbJGGZkuXbpTE2F927JFUzp//pypLSgFjIWOb7/9hho3qmcaMnHiVCpeoqSpzlqAqwdcy7pUEUQuXCV07mS26B03fhJ9/nlpo6snQvTLL89Rm9bNjWvIGGSTgeuAFSvXSHcK586eEZbEzW16BV4F0h5+ca3BmDZv2U6ffJLCpODMmVPUtk1LUx0ToiY4uMAIMAJeRIAJUYfAVSSmnTprm15WeZVivMozIWqHpm/rnHqB9+1R8OyMACPACDACjAAjwAj4DgEn36ewbR4WfatWrRCWidflQcFaNF++AjJae1ERJCawLeY6Ibpv/yFKIHxC2smxY0cNcgqWlsWKlTC6KUIUhOzQYSON+uBknj9/Rtu2+Usi9ObNG8ZQRB1vIAIsISCRClhjNGoZuA+YKSxKrQKr1WnCL6STZOgvv/xMN2/eNE2VWESUT578Y1OdXpg7dzbNnWP239m9Ry9q2LCJ7OYNQnQmIp8XNG8b1y2L1fqUFWeHDm3o5InjqjrIaY2atWXALDtSdvKU6QTr3MAE0elhYaoEPkfz5y9o8rMJq9ovDhwx+ZP1RIhC19GjRwgWqNat6WoePcV9M3vOfOkrtYnF/YDez1Me99C+fXtdrJStgaKgA8R/u7ZMiHrCk9sYAUbAewgwIeoQtorEtFNnbdPLKq9SjFd5JkTt0PRtnZMv8L49Ep6dEWAEGAFGgBFgBBgB3yDgjfcpvD+fPHlcEqMgtNT7dJIPP6SaNWpT1Wo1KH78+LYHrBOii5esEL4Sswfab8PGrYSgTUpCQ4heu3ZVkKBraMcOfxm9GzrhC7V48ZLSDUD2HDnVNG7TKZMn0rJli13a4dcSFoXurEpBwsKK0yo5cuSyVpnK50VU9JYtAohM1QDiduXKtarokuK8gHDURRGRqGvSpAF98/VXRnPmzFlo2fLVRhmZMaNHCuvDNUYdCMLDR07Ist129R49elODho2N/sgcPPAF9ejRxVSnSEtrhPkPP/yIduzca+rrqRAaQtSd31d9vjp161OfPv31KgqMEEVn+Ck9fPggfS3wRZCm27du0a+//mLSowpHj50SbhUiUeFCeVWVTIcJor+SIPyDIsePH6VOHc2WreMnTJYWr/p4O4tmthDVEeI8I8AIeBMBJkQdQle9dNmps7bpZZVXKcarPBOidmj6ts4bL/C+PSKenRFgBBgBRoARYAQYgbBFwNvvU7CuhMXodmFt+ddff8qDg2VlqVJlqJ7wM5opU2bTAeuEqB7d29RJFNoKS7YzwqINFqfYFqyTjCEhREFQrVyxnM6dO2NMBYKvmiBv69StRyDjgiJ+wl8ojsEq2L4/ZOgIjxayFy58SS2am4lN6Dl/4bWlolUvygi6U6J4Efr996emZvihRHR0WOlaxc5Ppr5lfujQQeS/dbMxDDiDEM0oiFbIr7/+KreVP3r0m9Ene/YctGhxQIAjO0IUhPimTdsMv6vYxt+sWSMT8Qpl6zdsodSp09Cmjetp5Mhhhn5krNvu8VsNflqfasGEQFrnE5a4oSFE/3j+XJDghY1AWqZF/FdYtXo9pU+fwdTkjhC9JSx4fxaWvEqAZ86cr4nuR48eSbynTp2kush06bJVlCVLVum7FJbAShBUadHiZaZzi63+1mBaLVu1oZ9++h9VrlRODZVp1qzZ5XisA/Lnn39SjeqVXSLRMyEq4eF/GAFGIAwQYELUIZAViWmnztqml1VepRiv8kyI2qHp2zpvv8D79uh4dkaAEWAEGAFGgBFgBLyPQFi9Tz19+pQ2i4BEa4Uvzvv3f5IHlkMQQgsXLjUdpE6IxooVi9at3+xCRurb5YsVKyGDE+lKQkKIVqpYlu7duyvVpEiRkurWayB8W1ahGDFi6Krd5vGbYdy4MbZkKCxMs2f3bFk6Y+YcYS34bYgIUSxq+fKlLn4iUZ80aTIqXaYspUyZSkZCv3btGu3auV36EkW7EhBjR4+dNo532dLFNGXKRNUs0yhRolKJkp9TvLjxaO++3fTk8WNTu9qqjkpYPjZsUMfUjgIsV+sKy8ro0aOL62EjnToVYFGqOqZKlVqec6zn8eNHIlBXRcMvLfrAN+2gwUOlz1gQhIsXL6StWzap4TJV1pOhIUShaPiwIbRly0aTblVIkzYdrVtnnhdt7gjR+fPn0OxZM9RwmTZp0pxatW5L2I6PKO+TJ01wCea0ctU6QrT4uXNm0dy5r4M3QQF8l7Zt14GSJPlQ+Fr9kgYN7GuKMo/6nSJQFgS+VOFTVRe4AKhRsxY9f/acVq9e4XJNoC8TojpinGcEGAFvIsCEqEPoKhLTTp21TS+rvEoxXuWZELVD07d1YfUC79uj5NkZAUaAEWAEGAFGgBHwHgJh/T4Fa8YDB/bTqpUrKFLkSB4JUZBi2Frft99AaU0HH6UHDx6QgYr+/vtv4bsxqrAm3OwSHCYkhCgs6OBzs36DhlSwYGGT5V1Q0F+0aAHNmD4lKF1t+xw7fkYQUldCTIjiN0vHDm2lqwLbCQKphDVp587djF4IklWjeiV6LiwlgyKwQl29ZgOlS/ep7G5nIRoUPX7jJkrrYdV3m/8WGjJkoCoGmsaLF0+4O9hLMQWZHlpCFFvamwrXAXbSs2cfca00cmlyR4jCVyosMHH964JrHJjdFBakyoJatUeLFo1wXYBQxzZ7+HW9c+e2ag407dS5q7DADfAJaodFoApEByZEg4IS92EEGAEnEGBC1AkUhQ5FYtqps7bpZZVXKcarPBOidmj6ti6sX+B9e7Q8OyPACDACjAAjwAgwAs4j4Mv3KViKwopNF91CtEXL1oTgRHYCkqhb917Sr6e1PSSEqN1arHo9lUcMH0KbN9tbE3oap9rgKxL+Q0OyZV7pwLZn+IoMbmT2AgUK0fQZs12282/btpWGDB6g1HtM27RpT23atjf6uLMQNTrYZOA+YfmK1z5JVZe+fXrS3r27VdFtClJ2ypQZVOSzorKPHQmo/JO6VWJpqFa1It26ddNUCyJ+z94D0uLW1CAK7ghR9Fu3bo0MbgRXAUERK+kKghbn1+oawU4XttTPm7/IFPjL6pPVbpy1jglRKyJcZgQYAW8hwISoQ8gqEtNOnbVNL6u8SjFe5ZkQtUPTt3W+fIH37ZHz7IwAI8AIMAKMACPACDiDQHh7n9IJUUTIPiGC/0ybOtkUdAbbwAcPHkZ58uazBSEkhKitomBUjhwxVPjH3BCMEeauThCi0AgLRPihXL9+Lb0QFrWeJJrYtt6ieStq3KSZyQerPgbWvNg6f/fOHb3ayEeOHIXate9ITZs2NxGqdhaiJT8v5eLjUikqX6ES9e8/SG4fV3V6unr1SsMyWK9X+QQJEtLgIcOpSJHPVJXcIo6t4roElxDFvOOFKwRd4DZgwgR7a+ACBXKbcK9Tpx716fuaVL544Tz17duLHj58oKs05aNHj0EtxceA5i1amepReHD/vgjk1FMEZLro0qYqypQtJ+6P4Yb7A1WPdOmSRTRt2mTjN65qw3ksXLiIDPak6pAyIaqjwXlGgBHwJgJMiDqEriIx7dRZ2/SyyqsU41WeCVE7NH1bF95e4H2LBs/OCDACjAAjwAgwAoxA8BGICO9T2B5/48Z1gs/ItMJ3Y6JEHwT/QL084siRQ3Tl8uUQz4IAUo9++01s997mosOOGHPpZKkAZmfPnhY+Ok/Sd1euyN80kaNElv4/44pt5QkFgQj/kQkTJrKMdC2+evVKENPH6McffqBr167Sk6dPhCuDBBT//fhUoWIlY5u8PtKOEEVApGjR3qULFy7Qjz9+T//+8y+lz5BBuEPITdmyZdeH2+axXfzs2TNie/kNunH9unSnkCJlSkr/aQZJjkeJEsU0Dtv+4bdWl7Jly9MnKVLoVR7z8H3bo3sXU59WrdtQ3rz5TXWqAItm4KUkU+YskmhUZaRw/QDCGhasv4lzDokTJw4lSJiQkidLTlWqVids/XcnsDA9duwIXb16la6L8/H7778T/N4iEFWu3HmE39ik7obK+u++u0Jnzpym70X6/I/nlCZ1Wqpeo6bYmh+FtlisnCtWrExJkyXzqI8bGQFGgBFwAgEmRJ1AUehQJKadOmubXlZ5lWK8yjMhaoemb+siwgu8bxHi2RkBRoARYAQYAUaAEfCMAL9PecaHW0OGgN129Zmz5lGBAgVDppBHMQKMACPACLzRCDAh6tDpVSSmnTprm15WeZVivMozIWqHpm/r+AXet/jz7IwAI8AIMAKMACMQ8RHg96mIwiV1PwAAQABJREFUfw7D4xEwIRoezwqviRFgBBiB8IsAE6IOnRtFYtqps7bpZZVXKcarPBOidmj6to5f4H2LP8/OCDACjAAjwAgwAhEfAX6fivjnMDweAROi4fGs8JoYAUaAEQi/CDAh6tC5USSmnTprm15WeZVivMozIWqHpm/r+AXet/jz7IwAI8AIMAKMACMQ8RHg96mIfw7D4xEwIRoezwqviRFgBBiB8IsAE6IOnRtFYtqps7bpZZVXKcarPBOidmj6to5f4M34v3jxgp4/f26qjB8/vqnMBUaAEWAEGAFGgBFgBHQE+H1KR4PzTiHgLqhS/vwFnJqC9TACjAAjwAi8QQgwIerQyVQkpp06a5teVnmVYrzKO0mI/vDD94SIhUoiRYokoivmUkWX9OXLF/T111+71KMC4zD+bRQnXuCvXv2RHj9+7Ah8iAqZOEkSR3SFRMnGDetp1KhhpqH+23ZRMrGu8CLnRGTQXbt2yOV079GLYsWKHV6WxusQCJw8cZz2798rsejRozfFjBXLwAWRfTduDIjUih8zQYkGawwOh5mJE/zojz/+oFy58lD5ChWDvcKvv/6Ktm7ZJMe1btOeEidOHGwdPMAZBHAuTp48IZVVr14jXEafduZIWYuOgKfnld6P84Ej4MT7VOCzcI+3DYE/xEf6y1cumw47XbpPKW7cuKY6LjACjAAjwAgwAkCACVGHrgNFYtqps7bpZZVXKcarvJOEaNu2LenM6VPG8qJGjUqnz1wwynrm5cuX1KVzBzp9+qReLfP9BwymmjVru9S/LRVOvMB37dqRjhw+5AhkXbp0pyZNmzuiKyRKIgIhunbNKvLzGy0Pb9/+Q5QgQcKQHKrPxtSrW5OePH3icf54ceNR0qTJ5P9VqlajVKlSe+wfnhqXLV1MU6ZMlEva/8UR0i2Mr4gfNQ3qBzxvunbtQY2bNHN06Zh7zdpVUufWrTsJz0VvSvHihemJ+BhSQzxDB4hnaXBl+3Z/Gjyovxy2dt0mSps2XXBVcH+HEFi+fClNnjRealu+Yg1lypTZIc0Banr27EqXL1+iDOkz0sRJUx3V7Q1lFy+cp/4D+kjVI0eO9fjB1Rvzh5VOT8+rsFrDmzKPE+9TbwoWfByMACPACDACjAAj4BsEmBB1CHdFYtqps7bpZZVXKcarvJOEaJs2LejsmdPG8qJEiUpnzroSoiBDO3ZoS+fOnTH6IvPOO+/QgIFDqHr1mqb6t63gxAu8k4Ro5y7dqGnTFj47DUyIeh/6EsWLCIviR0GeKHLkyFShYmVJuHmb4Avyojx09EQweJsQnTljGi1cOE+u7tTp8/Tuu+96WGnom5gQDT2G4UWDtwnRZk0b0VdfXaAsWbPR0qUrw8thu13HqVMnqX27VrJ95sy5VKBgIbd9I3KDp+dVRD4uX6zdifcpX6yb52QEGAFGgBFgBBiBNwcBJkQdOpeKxLRTZ23TyyqvUoxX+bAmROEPslPHdrZk6LDho6iiIFnednHiBZ4J0bC9iiK6hagiROPFi0eFCn9mC97zZ8/ozp3bdP36NaO9ceNm1LVbD6McXjOeCAYmRM1njS1EzXj4ssSEqBl9JkTNeHApcASceJ8KfBbuwQgwAowAI8AIMAKMgHsEmBB1j02wWhSJaTfI2qaXVV6lGK/yYUmIggxt26altEjRjwGWoUyGvkbEiRd4JwlR3jL/+ty4y70phGjGjJlpxco17g5T1p85c4q6de1Mf/75h7Tq3rR5G33ySQqPY3zd6IkQ/fnnh7Rhwzq5xAIFClH27DkcXS5biDoK51ul7KuvLtKJE8fkMdeoUZs++OADR4+fLUQdhdMxZZ6eV45N8pYocuJ96i2Big+TEWAEGAFGgBFgBLyEABOiDgGrSEw7ddY2vazyKsV4lQ8rQvQPEeSjQ/s2TIbanTxLnbdf4BctWkAzpk8xzbpg4dJw64+Nt8ybTpVXCspCNCiEKBYwf/4cmj1rhlzLqNF+VK5cBa+syymlviQYmBB16iyyHqcRYELUaUSd0efL55UzRxB+tHj7fSr8HCmvhBFgBBgBRoARYATCKwJMiDp0ZhSJaafO2qaXVV6lGK/yYUGIggxt07o5Xbr0rWnpsAwdPWYclSlTzlT/the8/QIfGkIU22lPHD9G18S26Tu3b4uox4kodeo0lDlLVmrYsHGg/hEvXrxA2/y30LVr1+TW6+jRo8vxadOlE+Ob2FpABYUQxfWMKOLr162ln376HyFyeJw4cSilCPyTMkVK6WuuSJGiFClSpBBfXv/++y8dPnSQvvn2a+rcuZtJjzsLUVz7WEuyZMlDNbdpMq0wZvRIKl6iJCE6emgkuITosWNHqXOndnLKlq3aUPv2nUIzvctYYIbnQ0iCUwHz358+pcRJkhh6nSQYXr16Rf/73z366KOkFCVKFGMOd5nQEqK//fYbwZUB/LYGRex8iOL+wH0RK1ZsqcuTnuBumX/+/Bk9fvSYPkqaVJ4zT7qdbEOU30ePxbwffRTsef/880/CuhMmTBTiJcEX9t9/v5SYBlUJzgOu7V9//ZXefz++mD9hkM+rpzlCqjc0hCjm/N+9e+I43qeYsWJ5Wp7bNuh48uQxvffe+2776A3e3DL/66+/yKlC8sx59OiRDJYWO3ZsfblByjvxvPLVPRikA/RxJ2+/T/n48Hh6RoARYAQYAUaAEYgACDAh6tBJwo8Hd2Jt08sqr1LoUHknCVG7KPMHDx1nMtTdSXNT7+0X+JAQos+E/8ihQwfSgS/2u1k1URoRjXr8uEn0SYoULn1AJi5YMJfmzZ1NyNtJXBHFfNjwkVS0aHFTc2CEKNbWrm1LF8LdpEQUsK173PhJwY6aDf1btmyktWtW0717dylHzlwiSM5Sk3orIXr37l2aMH6sjOCMey1mzJiUNWt26t2nH6UQBK2dNG/WiJ4KIg8EZ4cOnenw4YO0aeMGunXrJoEU+z/xX+RIkenQ4ePG8EoVy8o1gZSuV6+BDHQULVo0oz2omeASoiC1hwwZKNX37TeQateuK/O3b9+i7t06y3zHTl2oYMHCtGXzRtqzZxf9dP8n+v3332Vbrly5RdT3AAtTWSH+ASExfrwfnf/yrCCNAsgJEFZ58uSlnr36SuJF9bVLcZ2sWbOSbty4Lq8xkNAgweHjdPWqFW6jzIMohF9jSJu27alUqTJ26unIkUO0cME8+v777whkGIJJ4ZqvXKkK1alb3xjz4MEDYQ3f2ijj3KmAVSlTpnIh71atXic+JJjPGQjXSRPHC4v6ixIXzJUvXwHq03cA3Rc4jhk9QuqHqxFr5HGdEO3RozctmD9X4gLiBZI8+cdUpUo1ata8pcta0B4UQvTvv/+mWbOm08EDX0i/srjGYwkyKGPGTNStW09Knz4DVDkumGfJkoW0Y/s2unnzhjzPmDf9pxmoTZt2lFtcK+4ELltgGX/ixHF5T+E5BPILa+7UuSulSZPWdujECX508uQJ8bEmMc2aPU8eMzACOQe3ESDGS5cpS23bdnD7QQiE2ZLFC2njxnWkzgMmw71asmQpatykGaVL96nL/PjIM2f2TFk/bfosOZfeKbh6cb5mzpxmqLgnrrMXf/1F0cSHqaTiOHTBtT12bECEe73+22+/oWlTJ9OVK5cEqfxcXkMff/wJlSpdRpyD9rYE765dO+S9Az2z58yXhPC6tWvo2LHD8l4HIZo3bz5xn/dxIanbtW1FcGsBAZGN+xXy4YcfUYwYMWRe/TNg4GDKkSOXKgaagkicOGG8OL/H6cGD+7J/okQfiCBTWQn3DuZwJ1jHlMkT6euvv5Jj8QEnabJklDtXXurStXugHx5C+rxS6/HVPajmjyipt9+nIgoOvE5GgBFgBBgBRoAR8B0CTIg6hL0iMe3UWdv0ssqrFONV3puEKObBj/VLl8yWobB0GjlqLFuGAiAb8fYLfHAJUZA/devUkASEzXJNVYigvWLlWhdyYejQQeS/dbOpr7vCkKEjJGGj2j0RoiA1mjdrLH6UXlTdPaZJPvyQNm3aRrBMDUxA7q1evVJatOokRo2atWV0dX28TogOHzGahg8bQq9e/a13kXkQo2gvUeJzlzZFZFWuXJUyZc5ikF56R9w7Z899ZVT179dbko3qfo733ntUo3otqiUIysSJExv9AssEhxDFD/GmTRoIQuSyVLto8XLD7+bVqz9S7VrVZP2wYSPpuLAm3rt3t8v0efPlpzlzFhj1589/SX379DCIUKPhvwzIKL9xEylbtuzWJmGl9zcNFeQsSBc7+fzz0pQhY0aaPi3ATcT+L45Q/Pjxja44z1WrBGz5HzhwCFWvUctoQwbXGEgkEFoKZ1MHUSj5eSkaPXqcJEnvCau5ShXtSVXrOJRPnDxnuh7ho7VP7x7Ccu6JS3cQeK1at6WxY0bKtnnzF1Pu3HlM/dR1VLVqDUkenT590tSuCgULFSY/vwkuFo6BEaIgfHv17EogxuwEz4Devfu54GjXNzh1+FgwoH8fcU0dtR2Ge6Njxy7UpGlzl3aQp717dSdcn3YCQrBPn/5UtWp1l+ZevbrRF/v3STKyR88+1LNHF9vrAITm4iUrXEg6rLtJ4/qShHVR/l9F9OgxaPyESVSoUBFTl02bNtDIEUNl3eYt202+ekOi13/rFvlhyzSJmwL+di9fYfYnvG7tapo4cZy85+yGZcuWQx6H1fJWfz7Om7eIevXuTk8eP3ZRgefX3LkLTeRw+fKl6P5PP7n0tauYNn02FS5sxtCuH+pwLfTo3kUS+nZ98IEOz5x84lllFXwcGTxogPiA5XqPoi/+zvj5TaQsYueEVUL7vII+X92D1mOJCGVvv09FBAx4jYwAI8AIMAKMACPgWwSYEHUIf3c/xqHe2qaXVV6len9vE6LWQ8eWZRAHsKhhsUfA2y/wwSVE586ZJX6kzrJfrE0tgtKAJFNy7txZat2qmSoGmsaJE5fw41+RVp4I0R9++F6StbpSWNOlSpWaXggi9+6dOy7EZPceveT2fH2Mnj99+pS0KDx69LBxX8EKrZKwBIQlpJ2Fp/6DH31fCZKuRYvWlFNYQsKK7Mjhw7R+fQC5ECNGTNrqv8PFEkoRWbAivC3cEUSK9A5lyJBJuhGIGzeuXOI74v4ZMGCwvlzR95bQvVYQzluEBeZT2RY5chT6vFQpql+/ke2PcpMCUVCEKKzkJk6aam2WZVh3wvpy2bIl9KPAHZJZELcggUBGQXRCNK0giNAP273Tpv1UHociolOkTGmcA2x9rly5vLCC/ZWSJU9OPQXpBCsvEJGnTp0QFlx+kihNnDgJbdm6Q1rVycn++wfrmTJ5giyBMGzZsjVlFGQOLL5A7h05fEhcSwmkfnQKLiG6ZcsmQXAHYA6r0+YtWlEaYZF75bsrtH3bVvrmm6/l3LCOg4Xps2fPaON/QZrQgKA4Z8+ekX1A2CmsZIX4p2GjJkYdLNYqVSxnWJSWr1BJWEwXk0TryRMnRPCntcIVRFyDiPFEiOI6fC7WkitXHqpRs5Z024D7ZemSRQYJhLm7d++lliLTwAjRjh3bSrcZsWLFkgRkiZKfyzXBYhBWrfgAhuf8qtXrTcSWaZIQFAYO7Ec7d2yTI0Go1xQfJhKK833+wnkCUffw4QPZBsJNtxSFi4NaNasahCQwLVasOMUThBfO3eLFC6SlIwYvWrSMsufIKfWofxQhiuPF39D06TNS1WrVKbEg6XE/LBZEubIubCGuPVh36+LnN1pYl6+SVc2bt5IW4LDoxn0L8nvmzOnSShP3yfYde0wEtSdCNCR6cX8eF+4ulKxbt0aS5iDw6tSup6plmlC4Q6kgsFICrEDsQmCtDAtwPC8eC2Jzh7jP8DcCZB+uhwkTAj4+qLH68xFkaZSoUYSuZvI5/VBYf+J+gTsVSA6B/0JxHpQg4BmuYwgw2ywsziEg/D/55BOZV//g4wesNAMTrLNGjcry7wP61qxVR36k+uefV3Tm9Glau3aVtAKH5eqmzf6mLf1YA64n6MDfGlj35syZW/R/QSeF9TEwhWDsVv+d0nWLrPjvn9A+r6DGV/egfhwRJe/t96mIggOvkxFgBBgBRoARYAR8hwATog5hrxOaVpXWNr2s8irFWJUPS0IUP5LHiC147rakWo/pbS17+wU+OITo3bt3qGaNKvLHoTof778fn4YOGykt064LX6KjRw03rAVVn6FDR1LlKgE/GuvAulQQB0pwHWALdPnyFaWvRwTo8fffopplWrFiZWlJiYInQnTTxvU0cuQw09hdu78wrCOxTXaCINRu3rhh9AEZZyUV0W/nzu2SCNWtyECs1q5Tj7AeWHe6E/0Hf5QoUcUP+qUuRKR+HPgxP3iIed2KEMUc2Oo9YOAQW5+q7tbwl9j6CitJkEPY1q0EVkr1GzSSW3Pd+bxUhKgaE5QUxBwi0mMLthKdEEUdCCIQw4oIVf30VPnYBL5r1m6UxJ3e/q0gYpoJdwL//POP9FUKn6VK4H+wcqXykggG0bJ02UrTNlc85/zGjjJICowLDiEKsraKsB7Fdn6QoSB/EyRIoKYXZPsrYdnakw4c2C+J2n37D5PVj6A6Pgw6dfq8223VaJ8pLFGxLR8Cv6z6saJOJ2dR9kSIoh3k1NixE0y+ToFZq5bNJHkNQgcW0zqJ5IkQ1X04wgIO26R1AWlep3Z1ua3fagWs9wtuHtdAE2GVjPNZrFgJYYU42SCRoQs+OZs1aygJrixZs9HSpSuNKXQCCoQ0CG1dfvzxB2Fl3kiSohkyZJRWkXhGKVGEKMrFi5eUc+vtcIdQrVolafGILfBHj5024Q3rehDRsJ5cvOT1hyKlH/cMLFAhOF9pxVZ1JZ4I0dDoVfqD40NU9YUlLCxHce3osnz5Upo8KWCLvZVY1p+PSZJ8SGvXbTIRhfj40a5dKzp75rRUaR2v5tGvv5kz50rf0KotOCk+CkydOkkO6dq1hyQ19fEgf1s0byI/psG1RKdOXY3mLp070NGjh8X1F4XmzlvoEoxQdyfSQDx3YVWsxInnlY5BWN6D6hgiWurt96mIhgevlxFgBBgBRoARYATCHgEmRB3CXJGYduqsbXpZ5VWK8SrvJCHapk0L4weN3RpRB+uPmbPmeSRI3I19W+q9/QIfHEIU/gdnzZpugn7S5GmSlFCV8JFYrmxJ0zZKWMwsWLiELgrrrebNG6uuMrX+SEQlSFNldYgy/LGdOXtRkh46kYg2iP+2XZKggk+8HmILqy4gG2EdCb+MINlAMFh/vKv+IBFBQG0Qvv3UFk5Y8BUVFmR169Q3WZqpMXap/oO/evWaNHDQULtu1KB+bUkegzQ9eeqcidRRhCgsxfy37TYRBrbKPFTC9ySIUfgghCUTBNvOQe42FVuKdUIHbcEhREEE4BhhDamseKEDohOiefLmk9tfA1rc/1v0s4KS0KwitisPGTLctmOH9m2knz/49Nuxc6/RB9ZiI4YPkeVeYps2/KhaBVaXFSuUMbagB4cQhXUaCH8IXABUEu4MrAKSA1aRkEyZsrj4DgwOIVq6VHFhDfuzIPST0Lbtu03Empq3QYM6dOXyJVn0RIjiGoMlsp0fRGz57dqlo9TRRvi+hP9NJZ4IUWwxPnjwC3nv4R60E/35AovHjz5KatctWHV9+/aivcIPLe5NWI+DnLYKLPfu3r1D74j/8hcoaPhHLV2qmLQwxhiMhQ6rTJ8+hRYvCnDhgC3buHaV6IToho1bpVWjalMp/HzOmzdbFjdvFlvbU6RQTdS4UT3pXiB+/ATSAtTTxwFj0H8ZT4RoaPSqeRTJaSWRVbtKdUv8ESPHmCxHVR9pHVq8sCSWK1WqIvxBj1JN0kIWFq0Q3eew0UFkzgkr6tYi+CJkwIAh0qpZFrR/dDIwNIRoqc+LBXzkEBbpW7bscHkeYkqQ8E+FxT22zsMSHnLr5k1BfleUef2jnazQ/gF5/43wLYp78Njx08ZHECeeV766B7XDi1BZb79PRSgweLGMACPACDACjAAj4BMEmBB1CHZFYtqps7bpZZVXKcarvJOEqDWokt06UYctnDNnzZGElbs+b3O9t1/gdcJC4bxABAnKKYIFWWWY2Cq8VWwZVgKrQAT1AWGpS+dO7UWAjCNGlSKudogtroPEVlddYAUIKyNd9Cjgql6RKZ4I0YcPH1LZMiXUENsUBAjmg5UkrFL1tYNEUf4jUV+/fkOxhbmpYWFqq9CmUidE7UgqNWTFiqVyWzHK2E6pW1cqQtRJyzqQ1bOE1SGIFSVWn5WoV4QoyCudHFNjkMK/H0ilZGJLqjUIkOqnE6J2Fo6qn0qxvs9LfiaLCJ6UJs1r6zjVB+k333wlSSUQuSdOnjXmh5UXrL0gBw4eNW1tlZX//QMfo8oKOTiE6LhxY2iN8CMbMO85g9jQdQeWDyohioAxhQoG+AOtK4hd+OG0E/0asrvW1HWE5+z8BYvtVMi6IkXyy63IuCfg01mJJ0K0RvXKcps4ApQVLFhYDTGlDx7eN4Kv4eNXAUFOhlZqC6vTq8KS052VpTv9T4Qf1uLFCslmbFfHNm870a9b+BLVg2QpQhTWn7h39OeH0oUPD/BRCpk6bZaw8A64plGeNm2y9D+LPD5KFC9egrIJtyKwlMTW+Thx4qDJVjwRoqHRqyYLKiG6b+8e4WO1hxxWQVjLxxV/B+zkiy/2SdcFCCC3ZOkKo4v+fFwirHezCiteq8DSFs8hSGOxnR7B0KziBCGqXxOwXu/Q0eziwDqnXoYleM8eAdainq5t/XjXrd9s+NR24nnlq3tQxyEi5b39PhWRsOC1MgKMACPACDACjIBvEGBC1CHcFYlpp87appdVXqUYr/JOEqJBsRBVa4cFznQRNdcdsaL6vY2pt1/gg0OItm7VnM6dC/B/iHMBv5BrBaFpldEi6vUG4cdSCUgDWHguENaXc+fMVNUyPXT4hLC6Mf+g3rtnN/Xt29PUT/kC9ESIYgAsPLHVOCiSP39BmjFzjmERBEIVQYBUcIzYseMIf5ZVqVatOiYrr8B06z+Ad+3aT4mTJLEdcujQASMK+/QZs01BVBSRZbWuslUUSCXu79PCFyqsRGENiC2pkIQJEwortb0uxJ4iRDNmzCy3wQei3m2zTiy5s6jUB8NvILYrB0fWb9giiSSMATkBkgL+Mo8ePeVWjX6NBIcQbd+utfRjCovNXbv3u9XvqSGohKiOHSJcN2jY2FatbhXtiRD1ZHELxfXq1pSuFWD9tmz5amMud4QorqEC+XMZFsfGAA+Zvn0HSKtkD10CbcK8BQvAR+NLgv/PkcJCMagCS+lmTRvK7oOF9bFd0CQ0wlIcc0DqCCvqPmLdShQhqj7yqHo9vXDhS7nFGnXWbcxwx9GyRRPDilgfB6I9tfDDiXVhXpR18USIhkavmiOohKh+/6ixnlL4z8QHCiX681F96FJtepo7V1b5rKpVqy716z9Qb5J5JwjRoF4TLpOLikUL59OMGQE+ltUuBbt+x48fpU4dA6yux42fRPBtCgnt88pX96DdMUaUOm+/T0UUHHidjAAjwAgwAowAI+A7BJgQdQh7RWLaqbO26WWVVynGq7yThKjVQhTblOEzb7jY0qpbGar1gxSdMWOO2+3Mqt/blnr7BT44hKjaqqzOASyaQEhZZZTYVqwHksG5P3nqS1oirPdmiO2outhZ8u0R22H7iW2xusAPJ4LrBEaIYszixQto/ry5gtj4U1dhm0fQE/i2VAIyBCTQqlUrDF+nIHQROATR2hHUxkpUqLEq1X/w79t/SPiZTKiaTOkxEdCkc6eAH8pW1wOKEAUhCx+tIRFsD9+2zV8SoYisrSRDxkxiu34j6fPRzn2AVwhRsWUW5K4n0QNuVa5STVhSpfHUXbaVKlXWsODFtm8QvrBePXjwmNuxus/A4BCi8LX55ZdnKWnSZHILu9sJPDQElRDFtvtGDetKTe62FaNRv4Y8EaI1RNAhq69cfZmYC3N++ml6Wr3mtQWxO0L01atXghDNLXy5vpJBZIoVL66rs83DUtDOGtC2s5tKfV5cI0OHjnDT07Vav77cbfXGKGz3BtkLwqlatRo0aPBr/76KEP1IWE+DzLMT3TWIlRBFf/i/xXbpPbt30beXvpFBlKx6YBk+S1jU6s8aT4RoaPSquYNKiOqB9Tp27ELvRntXqXCbNmzYxGjTn49weQFy2U7y5M4msfImIapfE8NHjJb+oe3WYlen4+Dpwxc+RrVr21KqGDXKj8qVryDzoX1e6fdCzpy5KazuQTssIkqdt9+nIgoOvE5GgBFgBBgBRoAR8B0CTIg6hL0iMe3UWdv0ssqrFONV3tuE6OkzF+Rc7kjRgoUK0+TJ05kU1U6qt1/gg0OIIsL3ypWvA4FEix6dDh067hLpG1Z+KkowDkVZkuoWkeoQ5y9YItwmBFhjqTpYeMIKSRdlSRoUQhTjsP36kPBv+M233wh/pD+IqNI3jOjRul4ETlm5ap1eJfO4J06ePC6JUUQLVvcIIjDXrFFbRJau4eIzUynRf/Aj8E62bNlVkynV+1n9EYaGEL127aogQdfQjh3+9Mcff8g54SqgePGS0g1AdkvkbNOiRMFXhCiCFZX6vJhcTtduPcVW2aYyH9R/9OvziLAQtQY0UnoQeAsBuCDBIUQV0Q+/qafPnDeRVUp3YGlQCVF9K28T4ee1S5eALdhW/bD6HSsCRUE8EaKwhp4123xP6brU9VaqVBnyGzfRaHJHiKJDdRE8CEQ7gn5NnWa2/DYUeCGj5s2dO6845kVBngH+WOGXFdK2XQfho/K1r1Rdie46o1v3XtSo0WsyzwlCVJ8L5OjDhw9EdPef5PMGH4Pu3rkju8Dvpv4RITBCNKR61bigEqL6B6sVK9dSRvGBJTiiP/d8TYjqzxyr/9zAjmn37p3Uv19v2c2dmxk06ucNf2vwNwfixPNK3QthfQ/KA4iA/3j7fSoCQsJLZgQYAUaAEWAEGIEwRoAJUYcAVwSNnTprm15WeZVivMo7SYhat8wjoMCZsxfkcjEfk6J2Z861ztsv8MEhRO3ISCtx9a0gIBHgQ5dy5SrQqNF+pAehUO3WH3KI5F2xYlmCDzkliRJ9QHv2HpBFuzWo7YoIfPGX2JKq5D1hKZhGbEFVAqIQRCt+yCqBL8DjJ856JLdA+sBidLuwtlRWp7CsBHlUT/gZzZQps1InU/0HvzUqsd5RWVHDCgz+CN9997WllSKogmMhevjwQVq5YrnJrQH8vMLKrU7dem4tsfQ1Ie8rQhRzf1akAD179juFxHfqunVraOyYkVBD7iwAYf1XpUp5ui8IKEhwCNFV4mPABPFRAGL1DSkrxT/Q/5uIcg55P/77Lm5AdKsy69xykPaPCjCVPn0GWrU6gMDVmmW2a1dhFXv4kMx7IkQRUAzkU7x471lVmIKdWf0oeiJEu3frLD6IHJCBZnbs3EOxYsV20e2NCjVv9Ogx5DG9//77LtPgOYIo95APEic2fH2q6wv3LKKj24nul9V6np0mRK3zg4ytVrWi/JtsDcimE2sICAXfrUEVT3qVDmUBnTJlKtq4yV9Vu6Tff/+ddLGAhqD4BrYq0J+PoSFEdetOO0tc67zuyuqayOjBRcijR4/opfjbEkU89xMkSCBVfffdFapfr5bMN2kiPlp0tf9ooe5R7DQ4euy0DO6HQU48r9S9gGBPYXkPyoOOgP94+30qAkLCS2YEGAFGgBFgBBiBMEaACVGHAFckpp06a5teVnmVYrzKhxUhquZEgJ2dO7e7HAIsRadOnWkbAdil8xte4e0X+OAQoiApq1apaPjYVNA3atRURmC/cf2a9BMKQksX3Qq0ZYumdP78Ob1ZWi4iSu+Tp08IpBP8J+qiW+54IkTtSHhsqS1Ttpy8lrD+LmJbNSL+KgFRBGtCfWuqarOmT58+pc0iINFaYZV3/34AoZYjZy5aKIJQ6aL/4I8VKxYhkIZ1W6i+1blYsRKELfO6hIQQrSSI5Hv37ko1KVKkJATjgYVZjBgxdNWB5n1JiE6ZPJGWLQsI/oNnQJHPirqsd/nypXLrepQoUWi0INqV7+GffvqfJJPgX/Ljjz8R/k/XuliJ6tvlodhKSurWgQMHDqHqNQIID/SFhSGCbsHqFuTJosVLjbnRDunbpyft3btbXk/wMwoyX5dt27bSkMEBPilhiQlS3Z0MHtRfum9A+8RJ08R9Yg4Y9rW4jpuKCNZKPBGi6GMXnAkEbts2LejChfOSNFy5ch2lz5BBqZTzYx2Qtes2Udq06Yy2o0ePUJfO7WUZz4Bu3XsabSoD6+q161bLYtu2HQjkrhJYkmObPqRjp64mS0zVxy49euSwuI87yCYEPELgI11AhOKjzK1bNymFIPc2aeTexInjxEeDZbK77s9RjYdled06NeS5xrb4TZv9Tec4NITozz8/pKFDBsmpMmXOTO3adTSIWjU/gmmVLl3cNsCVO0I0tHrV3CrYGD72bNu+RwR9Ml+7qh/eF4Avzh389W7c6O/SFz5NgTWsX1OmSGUiC/XnY2gIUdzvFcqXlsuqLdyZwLVESGTypAm0fPkSOXT8hMlUsmQpk5orVy5T8+aNpWuDmsKfdP/+AecQODQUriauXL4kSU4853HN6HL+/JfSZyzqSpcpJ6y5xxvNTjyvQnsPGot5SzLefp96S2Dkw2QEGAFGgBFgBBiBUCDAhGgowNOHKhJTr1N5a5teVnmVYozKhyUhinnhow0/tu1I0aJFi9OEiVPeelLU2y/wwSFEcc62+W+hISJKd1DFGswFVqK1a1cLcjAWWEHhh6bydemJEHW3NliBwurphx++NwIKqfWHxBIR21wPHNgvyNsVFClyJI+EKIjW+PHjyx/rOQV5Ch+lBw8eoCmTJ0gMYDm9fsNmF2uvkBCilSuVk5Hq6zdoKKN+wyIpJOJLQhR+T6tUriBcHvwqz3mnzl1FZPCSBCvAK8Iia8f2bbRlS0AgL5C92Fasix5tGz5ue/XuS5kzZaEHgpjx37qFli5dRHD18EKcB0hwCFH0X7JkIU2bOhlZ4dM2pyB6elAaMY91bVbrPjlA/AMrZQTuwjMXZFJN4dsThFHUd6PKLmUEaaLIeZ0wgfVwj5596LPPiklc4M4B1rAgNEEAQzwRotCpfGKCREye/GMZRGm68Ol7QZA2EHyUgB9FXTxZiKJfhw5tCKQnpFq1GpJ0he6bN26IQF4nRYCz6fTq1d+SoIZbCJDYSkCqwaIcApcAcA0QVOnYsS2dOH5MdgdJVVccU8KEiQRRfo5WrFhqHBMs02GhruTZM1xf5enRo9/E35Yo1FFEFS9arLiI7h6XvvnmK5ow3o/+9797srsdYRoaQhRK27VtJXFBHmQ4tuPDpQjOLyzR4ZJEuXPoLYheHJcSd4Qo2kOjV+lfLwLhjREB8SDJkicXwZ1qSP+8uHbeE5bFBQoWUl0JZDwCVOE6Bunfu08/6Uv233//ocuXLkk/zsptijWgmlOEKK7nsmVKSvIaa6wggmxlyZpNWCrHkuvMnTuPywcJ4wC0DJ45+NCH7fP4OwM3CSVKfC7ul3/ozOnTNHv2DHrw4L58bqwXf4uSJUtujNYDwSVIkJB69uojfV2/fPmCToj7YrJ4zuNZg2fO5s3bKEmSD42xyIT2eQUdobkHMf5tEm+/T71NWPKxMgKMACPACDACjEDIEGBCNGS4uYxSJKZLg6iwtulllVcpxqt8WBOimDswUnTipKkGQYD+b5t4+wU+uIQo8O8rAh7tFb7uApM0adISfKtZo8iD1Bw9erhx3bnTA8Jo9uz5hMjXSjwRoujTr18vGaxE9feUgigFiZQlS1ZP3Ty2wVLU+iNX/8GPgE1Wf6hKIfx64sd3fbHt3iohIUTt1mLVG5SyLwlRrO/MmVPC0rKXyW2Cdd24tpYI/6wx/yM/VDvIDUR0VmSMqldp/PgJRHTyirRCWJlCgkuIgoAcOKAv7du3R6l0STMK69HZc+YLki2OSxsqRgvSaYMgn+wErhOiC/JECa6l8ePHuhD5aI8XLx61En4wJ4h2iCdCtHTpsoQtvrCAtZM0wvJz1qy5klTU2wMjREHaYtsutlG7k9ix49D8BYtlwCa9T2gIUcwLa++rP/6gqzTlQegNHjLMVIcCopP369uTnjx54tKmKhoKorK7uDetElpCFFbqTZs0NJ0HPAdixIgpXUWo+RDcasnSlSb/zJ4I0dDoVXO+evVKPItq22Jq52IAltr4OPCPCKzlTuw+WujPx9BYiGLOvXt2i79HrpbJaJs2fTYVLlwE2UAFz5w+vXu4vSbw4WrAwMHC3UY1F12wOke0eXwosxO4dhgydDjhY4dVQvu8gr7Q3IPW9bzpZW+/T73p+PHxMQKMACPACDACjEDoEWBCNPQYSg2KxLRTZ23TyyqvUoxXeScJUeUfUa0PlhcIqmQnkhQV20h37tjm0oxtZtgWCwuQt1G8/QK/ePECmj7NHPndU4AIdQ5Wr15pWDmqOj2FhRyshtR2Zr0NeWwlRCR5bPe0k+zZc9CYMeMpcZIkpubACFF0RqCZSZPGG5ZzJgX/FRAcCVuiCxYsbNccqjr9Bz+izMNSCMQBLJCUJE2ajAaL6NV58uZTVaY0JISoSUEoCr4mRLH0hw8f0rBhg+jc2TMma2K4OIDf1lat2kqrOrvDBDGBaxo++pTPV5BOefLkE8TECEGY76QpUybKocElRNV8awRROW/ubBNpCz9+sFLr2q2HYdGs+uspnrdbt26Wkcbv3L5t0mElRDHu9OlTEgvl9xR1sHjuJ7YI/ymsz9S2dU+EKKLMt27dlvz8RtOBL/ZDhRRYJpYVFpR9+w4wEbGqPTBCFP1gDYdtx+j7XPjuVAISqZiwvsRzANabVtEJ0a7C0rZxk2bWLh7L2JY9ftwYscNgh3GeMQAfKFqJY4XFqjt5cP++iFA/SFqUwoJVCbY8w8qvWDGzewLVHlpCFHqw7uXLlkhrZR0vtMFqFSRi+w4dXTDzRIiGRi/GKoE7iEUL59OxY0fo7t07RlA2O0IUY/DhYZQIUnZduEtR7xGo/+CDxNLqV0VUR50S/fkYWkIUOi9c+FK6arlx/bq05FTrCA4hCj34oAR3FvjbpMhNvHfg40v/AYMpq7A+dScYAxxg5avmxzMnY6bM4jobIe9Xd2ND87xSOkN6D6rxb0vq7feptwVHPk5GgBFgBBgBRoARCDkCTIiGHDvTSPXSbar8r2Bt08sqr1IMUXknCVH8OL53N8CfIebAj4OWrdogaysgRbFdEMEwrAI/ghkzZrJWvxVlb7/AXxS+A0G46FK5SlUXn5d6u8rfuXObzp45LbYBXyPkEyVKRNimjG2LQbG6hIUWtr1eu3ZV/g9flxifNl06YdnzmS0JDis3tVVWrQNbZq1WqA8ePBC+PlcJa6cfCX75IkV6h957732KnyABZRRRfssL4grXZFgJLAtv3Lgut3fCD6PVt2RYrSOizQPccH08Er4dU6RMKcmuoLoCwDMFRA2232fOnNUIZuIkBtheDRLkk49TUNJkyZxU7aILJDGwSJs2rQtZ5tLZQ8Uvv/ws9FyT/lXTpfvUI3nrQY1LE/6O4DlwW5C8H330kdwmr2+RdxkgKpSbi1GjxNb28q+3ttv1dVenzvPPP/8srVDhoiKoAncD8FkMv6OffvqpfEYEdWxo+2HdIOFu3bolLBMfy2sbLkLsgkQFZy5v6fW0Bvzd/k5YCeMaSJUqdaiPwdNc3m6DWxP8nREHQ58Kn7fB8cEMlwwYiw8NuLd0a+/A1q2u49A8r0JyDwa2rjep3dvvU28SVnwsjAAjwAgwAowAI+AdBJgQdQhXRWLaqbO26WWVVynGq7yThKjdurgu+AjwC3zwMeMRjAAjEDEQ8Bs7SgYpW7Z8tck1RsRYPa+SEWAEIhIC/D4Vkc4Wr5URYAQYAUaAEXgzEWBC1KHzqkhMO3XWNr2s8irFeJVnQtQOTd/W8Qu8b/Hn2RkBRsB7CDQSUbovXfqWDh856dbnqvdmZ82MACPwNiHA71Nv09nmY2UEGAFGgBFgBMInAkyIOnReFIlpp87appdVXqUYr/JMiNqh6ds6foH3Lf48OyPACHgHAWwtrl+vFuXNl5/mzFngnUlYKyPACDAC/yHA71N8KTACjAAjwAgwAoyArxFgQtShM6BITDt11ja9rPIqxXiVZ0LUDk3f1vELvG/x59kZAUbAOwj07NlVBniaNHma2yBG3pmZtTICjMDbiAC/T72NZ52PmRFgBBgBRoARCF8IMCHq0PlQJKadOmubXlZ5lWK8yjMhaoemb+v4Bd63+PPsjAAj4DwCCHZVp3Z1Gbxty9YdtgHUnJ+VNTICjMDbjIA336cQWAwBKr/59mu6e+cOITgXgsulEoEiPxOBQZMk+dAt9J07tadjx44Y7RlE4MeVq9YZ5bDOINjmq3/+MaZFwEwEfLMT69qzZctBi5cst+vq9ToE00RgP12yZcvuWOBAXa9T+YkT/OiPP/6gXLnyiGCfFZ1S63M9jx8/EsECn1Dy5B/z33efnw3fLgCBPDdu3CAXkT9/AcI9+abJ9OlT6PGjR5RePLtriUC/LIxAYAgwIRoYQkFsVySmXXdrm15WeZVivMozIWqHpm/rvPkC79sj49kZAUaAEWAEGAFGgBEIGwS88T71jyAOly5dTHPnzKS///7b7YEUKVKUOnbqQmnTpnPp07FjWzpx/JhRnz59Blq1er1RDutMkcL56LkgeJXUqFmbBgwYrIqm1Lr2rFmz05KlK0x9wqqwYsVSmjRxvGm6ffsPUYIECU114alQvHhhevL4MXnCODyt19NaDhzYT3v37qHLwi/43bt3ZNdo0aJRqlSpKWOmzNS6dVtKlOgDTyq4LYIggOdepUpl5Wrr1K5HTZo2d7vyK1cuU4P6tWV71649qHGTZm77RtSGShXL0r17d6lEic9pwsQpEfUwfLbuZeJv6Jq1q+T8W7fuDNcfsZwCiQlRh5BUJKadOmubXlZ5lWK8yjMhaoemb+u88QLv2yPi2RkBRoARYAQYAUaAEQhbBJx+n/r999+pS+f2dPHihSAdyLvvvksjRo6hUqXKmPpbSUVfE6KFC+WVVotqkdVr1KKBA4eooim1rt2XhOjy5Utp8iQzIbp330FKmDCRac3hqfAmEKIgx6ZMmUgrVyzzCG3s2HGoW/eeVK1aDY/9uDH8I/Dq1SvKmyfA0rNZ85bUqVNXt4tmQtQtNNzwHwIzZ0yjhQvnydKp0+cJfyvfdGFC1KEzrEhMO3XWNr2s8irFeJVnQtQOTd/WOf0C79uj4dkZAUaAEWAEGAFGgBEIewScfp9q3KgeffvtN8E6kEiRItGMmXMJW0eVWElFJkQVMsFLmRANHl5O9IariG7dOtHZs2ekuhgxYlLOnLnktug4ceLQ+fNf0pdfnqPffvvVmK5b917UqFETo8yZiIcAE6Lmc8YWomY8gltiQvQdA7J33gnIqxQNet6ubAy26au3+TL/jiAb/88bC/Ck1tqml1VepVibyjMh6o0zFTqdTr/Ah241PJoRYAQYAUaAEWAEGIGIh4CT71Pbt/vT4EH9bUGIGzceJU2alK5du0ovX7506QN/nBs3+Ru+FZkQdYEoRBVMiIYItlANmjF9Ki1aNF/qSJw4Cc2cNVdukdeV4jfmvHlzaN7cWfL3ZtSoUYWbiVXC32IGvRvnIxACwSFEf/75IW3YEOATuUCBQpQ9e44IdKRBWyoTokHDyV0vJkSZEHV3bQRar0hMu47WNr2s8irFeJVnQtQOTd/WOfkC79sj4dkZAUaAEWAEGAFGgBHwDQJOvU+9ePGCKlcqR/ihr0vSpMlo5KixlDVrNmnRAdJgn/CpOGLEUBFk6U+9K40a7UflylWQdUyImqAJcYEJ0RBDF6KBuP6rVK4gr+2ECRPSsuWrPQYP2+a/hYYMGSjnKlFS+FqcwL4WQwR8OBgUHEI0HCzX60tgQjR0EDMhyoRoiK8gRWLaKbC26WWVVynGqzwTonZo+rbOqRd43x4Fz84IMAKMACPACDACjIDvEHDqfWrunFk0V1i76fLhhx+JyPBr6b333terZX7Pnl3Ur28vUz38iPqNmyjrunTuQEePHjbaM2TMRMOHj6LVq1fSl+fO0v0H9ylduk/lNuSGDZvQBx+4D0wDf46w2Lt44QJdvvyt9J9ZsGBhKluuvNzev3fPbmOeaNGj0YwZc2j//r20ds1qo/7ixfMEPUrgg9MaZb5T566S+LWuHdZfM2fNo82bNtDOnTvo2vWrlEJYxGL9tevUo0wiuI4ngT9WEGfXrl2j69evUfTo0Sl16jSUNl06sjt2zI8o7ZAHD+/T3TsBwXzUHPBpCotEJZ+kSGHyh/rXX3/RunVraP++PfTw4UN69Og3SpwkCaVKmZpSpkpFZcqUI7gwCI1gff7imGLEiEFVqlQzqbLzIYrfZD/99D+KFSs2xYsXz9TficKxY0fpypVLVLNmHXr/fdfrNahzjBRE/yZxniFdunT3GFhH6ezQvg19990VeV43b9kmfAVGU0226YMHD+QaQ+NTEBHvYbUNdxVhJc+fPxNRxx/TR8JS3Lrd1ek1PH36VF4vscX1kuiDRIFiap3/t99+k9dZ5MiRrU1uy94mRJ0478+ePaNo0aKZ7n+3B2RpCC4mThGi//77r3gGPRKB4BJYVhT0Ij5UIJBcSK93BAfE8+ejj5JSlChRgj6x1hPPsCdPHtv+PdS6GdmQEqL4O3X/p5/o+R/PZcC29957z+v3m7HoUGbYh2goAVTDFYmpynpqbdPLKq9SjFN5JkR1FMNH3qkX+PBxNLwKRoARYAQYAUaAEWAEwh4Bp96nqlerRDdv3jAdQJ8+/alO3fqmOr0wcEBfwo98JUmTJaOhQ0fIopVUhB9GbLX/559XqruRxoodm/r3G0TlygdYlxoNIgNipFvXjnThwnm9WuZBKIGU1H2eYp7jJ87IYDgTJ45zGeOpYurUmVTks6IiqJSZzI0fP4H8TQFi0SpRokSlkSKoVOkyAdGp9XYQAQsWzBXbqmcT8nYCUmvY8JFUtGhxo7lIkfz0XBAfQRWQzStXrpXdv//+O2rfrrUkQT2NL1ioMPn5TZAEpad+1rZ79+7RmjUraeuWzfTs2e/USkRZb9euo6mbToj26NGbFsyfK8cokjd58o8liYrANXbE2u3bt6h7t85SZ8dOXQjk95bNGwkk/E/3fyIE/oLkypVbBD6aIfPK3QPIojJly1ODBo0obdp0si04/xQqmJf+/PMPwjW5a9d+ii1SJ+Sc+Agwf/4c+v6778Q1/USQMlEFKZ6aSpYsRc1btLIleqw4gAhfvnwJHT1yWBLruNbTp08vgjr1osyZs5iWefDAFzRz5jRZ11D4Nq1atbqpXS/0FR82rv74A+G8TJ4yXW8iEEmzZk0n6Ltz57a8D4BNRnHNdevW0y2x3rxZI3nvFi9Rkjp06EyHDx+kTRs30K1bN4Xv1d/o/8R/kSNFpkOHjxvzYa5NG9cL1wOL6b44z0pwjeTOk5fq129ouk9Uu0r/9797NGniePrqq4v066+/SNIwX74C1KfvAKlvzOiAZ9Mw8WFGfcSAe4RDhw4oFRJXFPARKH78+EY9MlUEhspPLMi1Th3byfY2bdu7BJVTA0Ny3jFWxw/318qVy+U6vxbHJrwvUgrxEaRJ0+ZUsWJlNZVtGhJMlKLQEqJnz5yWbiXwoQL3fqxYsahy5WrUoWNn6W7Af+tmOdWGjVvVlKYU53D8eD86J3z5wl9vnDhxKV++/NSufUf53GrfrpXs37JVGyor7nk7wYcofIS7evUqvXr1t7wm0qRJS40aN3U7ZteuHbRwQUAwpNlz5otr6Vdat3YNHTt2mH755Rd5beTNm4969upjCm6Hv4Ud2rc2loHrHB8uIClTpnJ51q1avc5E9F+9+qP8KHno4EHT38n3348vcKsq12y9Jo3JwkmGCVGHToQiMe3UWdv0ssqrFONVnglROzR9W+fUC7xvj4JnZwQYAUaAEWAEGAFGwHcIOPU+lSd3dtOPMBB1e/YekNZIITk6K6kYmA5Y/mzc6E+wdlQCErFevVr04w/fq6pAU0WI2m01D2zwlKkz6LPPirkQooGNQ/uEiVOoRInPTV2HDh1E6ke/qcGmMEQQycrSsnChvIaFqE1Xl6oMGTIKS9510hq0Xt2agZKhSkHJz0sJwmGyKnpMEURo9aoVkpRR5C4I6QEDh1ClSlVMYxUhWrVqDWmVdfr0SVO7KrgjZUEM1K4VYHU6bNhIOn78GO3d+9oKWI3PK8iROXMWyOJFQZj36tVdEmGqPY8g0eoJEg3nNCiWZbCmLVumhBz+WdFiBtmq9IUkxW9RRYrrFsq6rly58tCYseNM5AradRwGDBhC/tu20Ddff6UPlfnIkaPQ4MFDqZIgTZTAmrN0qRKS3E0rPhqsXbtRNZlSkK5Vq/zn5kJEVW8uSGolIHh69exq+uCg2pDi/Pfu3Y+q16ilV8u8ugZA5GQSZK0iI/WOsN48ey7geIATLM7tzrM+pk3bDtSmTQARqdefOXOK+vTuISz4nujVMg/LQhD3Y8eMlOV58xdT7tx5ZB4+k0GmB0WaNGlOXbp2l1113AaKe8CKQWjOOybQ8YsTN678wGO3xmrVatCgwcPsmiikmChloSFEly1bQtOnTTZZ5Su9OXPmlkT6qlXLZdX5C9+qJiMFqY1rDwSkVeDXd/QYP2rRPCCIWV9BeMNSXxd8fBstCHBPz9/q1WtSv/6DyGpFvHbNKvGxaLRUN2/eIurVuzs9efxYVy/z8YTl5ty5C+VHOVTgY1GlimVc+rmrOHHynLQqR/vly5eoRYsm9EJY97uTZMmT0+xZ8wkfHsOrMCHq0JnBA8SdWNv0ssqrFDpUnglRd4j6rt6pF3jfHQHPzAgwAowAI8AIMAKMgG8RcOJ9CtsZS5YoYjoQkFXYeh5SCS4hinkKFCwkrNrmGlNuFlaBI4YPMcpByShCdMWKpdJaLChjVB93FqKq3VOaVPha3bxlu7EdE5ZhrVs18zTE1AbrJ4yHBVCRwvnouYh0HlRRFqKrBGE5YfxY0zBYZaVKlZp+/uVnenD/vvHbSHVatXq9Wys/kAp7du8k6IXlqRK4UqhZqzaBjLFzp6DIHFgSwtIVhF+NmrUoWbLk9IMgt5cuWSStDaEP1ovdhYWjLjoRCDIPhDi22adN+6l0rQCXA5AUKVNKlwNqLLY8w1XCurWrCW4KlGDeuvUaCMK5qkeLWP2c1avXUBAhfZWKEKfbtm2lIYMHyPGJEn0grfrgrgBbYnfs3EYnTwRYSMKSEdZouug4wMXD78Iit6kg5bJkzSqIkxeSnIZ+CK6frf47TOdD3/6/QlgQw6rTKtOnT6HFixYIUigK7d6zX25LVn2UH2BcQx07diH4SMU8sPiDJealS99KohnXECy1dVHXACzjbt++Lfq9QxkyZJLnL64g+CDviI8gAwYMlvkvvtgnCLBuMl+8eElJcGURROpvwir78qVLNHXqJEmuo8OixctNQYxA/laqWM6wxitfoZKwJC0mrQFPnjghrBHXynXDMheiE6JHjx6h69euyvp/xAeYGQIPSO7ceamQeAbqAmJXEamBEaKhOe+YU+GH8/6LuHcrC7cURYp8RjGFVTDIwqVLFxH8PkNmi48CsJzUJTSYKD0hJUSxvmZNG0o1IM0bNWpK2XPkEOfnsXA5sl1e8/jgps6HlRD9S5CCIOkfPgzYfVCsWAnpmzqueAacO3dGPD8Wi+s8nkGW2hGiS5YspGlTAz724N6vK3Y6JEnyoSAt70rrT6wD0lvsgkCbLjohCvyjRI1CTRo3k8/Rh2Lr/sYN64znS82cVzEAAEAASURBVI4cOWnhomVy+DPxrEObkhMnjtFZYd0Kwf1jJV7x7FN1+ACE+z169BjyuZMzZy7xgSQh/fjjj7RbWKzCBQrE7jkhG8LJP0yIOnQiFIlpp87appdVXqUYr/JMiNqh6ds6J17gfXsEPDsjwAgwAowAI8AIMAK+RcCJ96krVy5Tg/q1TQdSpmw5GjNmvKkuOAU7QjRBgoRy298nn3wiiKt9tMPGMuvYsdMUUxAw+LGPH+QgA3SBNWLRYsXlj+E1wpLn5o3rerPwaRmwZR7Wbdjiq6Rzp/amIFCwAIT/Tl3Spk0riLf3bC1E8eN0qLBWzJEjlyQHhwnrz1ti+68uysUAtv7WqVPDtDZYKPbs1ZfKl69Ivws3APPnz5E+OPXx2P46fMRo4Sv1PL36z98p/ICqH8OqL6xRQSgoAWEFK9H+/XrTbkFgKsEWaJCsyjoSmIAkA+GgBOe5Zk3zuccW0Q3r19J68T+2qkKwbRk/xmvXqRuoxaUiczAOJNrYsRMMohh18MPXqmUzSQDAF+qmTdtMVk86EYj+LVq2FtZTrQ1rKtQFJiBegdsu4fMVW+AhwKlKleqCHK0vyVmrDmzXHjkywNoOW/0bNGxs7RKs8h+C1K5atYK8Vj8SvgtB5Om+cmFpO1wQ/sqKbdLkaQTyR4mOA87h0mWrjK3eqs+c2TPFtuTZsti+fSfC9mEl3125IraZB1hv1qxVh/oLazhdYLFaruzn8h6DdTOuKyWnTp0UrhcCtiT7+U2kUqXNlm9wW1CndnW5FV231FXj9WugSJGi0pJYP3bVT6UTJ/jJbeG4f3ft3i+u7wDSVLXD8hPXJEjv9BkymLbOwzWA2uJsxQDjt2zZRMOHBRCvKOuEKMpKoDtvnuyyCHcOnYTFrDvxRIiG9rxjTh2/7j16uTyrsI28devmcnl2+DuBSUgJ0RbNG0sXJyD75ggLylzCtYUSXPN4dioiH/VWQhQuNuCmAYIPE9iajuePktOnT8mt6cpS3UqIYpt6JREgEB9jatWqK6xAB6qhRtpVuGE5cvgQwcrT33+XIMzjGG06IQoSde26TaZ2zNtO3BtwCQBZJAjR7IIYtUpQfYjCLUzxYoUkb9W8eSuCmxCrHDlyiK5cvowHsbgWGnn8sGMdG5ZlJkQdQluRmHbqrG16WeVVivEqz4SoHZq+rXPiBd63R8CzMwKMACPACDACjAAj4FsEnHifuiYspGrVrGo6EPi0tPoTNHUIpAAC8tixI6ZeIHSyZMlq1MF34V7hF1IX+JNLJSwa8WOzTZsWepPcmg3/f0pAkoDQ0aPdw8LmxMmzqouRWrehY4srtrraSceObenE8WOmplmz51P+/AWMOpCh8LuqfmugIWfO3LRg4RJJaDYXpIAu8GnZo2cfvUqSpro7APzoP3P2omE1hM52W//37jvosr0afcePGyv85a1AVgr0IVBUpoyZpTUerE/tfNmp/tjyOXfOTOmrE6QuBFaeIKHr1K5ncmegxtilisyBn0xYLcKi1Cr4gd+1S4DvUes2aJ0IzCN89WFbakgFVlv+/ltovSBHFYENchEkHXw/6sGlYFk6dmzA9WVnORbcNWzcsJ5GjQogWIcOHSms/Mz3GPSBHK5QvrR0kZBDWIUtXLjUmEbHoVSp1wHLjA4i8+effwpXDUXkVlu7jxgNG9SVgchix45D+/YfMrnA0M/B9BmzhUVkEUN1j+5d6ODBLyRx7L/NfI+qTouEZamyqNy+Y48MWKPa1DUQT1j1+W/bbSKUVB89hQUoLIch7qxZ9f56vnQpfCD5mbCVetv23SbyXfVr0KCOIJQuyaK3CdHQnncsUuEHq+Kdu/aZngnqmFq2aErnz5+TloR79x1S1TJ1ApOQEKK4x6pVrRiwhtJlaazwU2wV+NasUKG0sT3cSoiWL1dKEu3wnYnrCoHbrKL/7bASorqlPLADqWmVr4XriaZNGshquOXQ3U3ohGjffgOpdu261uHSr6kipAcIdxawgLdKUAlR3MPYFQCiFe494LologoTog6dOf3FwqrS2qaXVV6lGKvyTIhakfR92YkXeN8fBa+AEWAEGAFGgBFgBBgB3yHgxPsUtkbnz2e2cPHkdzAoR4uAI8ePHzW64oc9fJLqAmtGWDXqoohHWPYNGGAmEFWb3r+38BuJbdJKlIWoKqs0OISolcz94IPEYjvxF0qVkTZr2khsX329NRsWmVv9d9KOHdto0MB+Rj9k1ggfjtZtxctE8JgpUyaa+lmJpeAQonZ4mpSLAgjj7NlzUNt2HShr1mymZkRXhwUpJGbMmNS5czeqKMhQ5IMjiszBVvn5Cxa7HaqCR8FqduSo11v9dSLQzuLPrUIPDfhNiC2sw4YOluQZuuo+IVHWrSKxndW6lR99giPjxo2hNSKgCwhYkPTuos/36tWNvhAW07BWO3jwNRGv49DR4t9TXwc+ZuCjRkZBfK9YGbC1VrXr1pEjRo4RRFQl1SQDVyGgUJIPPxR+NPcYlsToUKN6Zbpx4zp98kkKGdTKGKRlHjy8Twe+2C9rZs6aRwUKFDRa1TVgZ71odNIyODcdO7SVNbjeCgvCGh8gkgrL2o/FGhInTqz1fp0FmVSoYB5Zga3R8GlqJytWvHah4W1CNLTnHetX+BUoINyIzJprd0jkJ8j7tYLEhxw/cdYgDp3CJCSE6LFjR6lzpwAfr3Z+ldWBKAtNlHVCFDsDChbILTkcO6tmNV6fx0qIjhk9Uli3r5HPOrj1sJN//+9f6VoDzwWrVaZOiC5ZutLlOQl9sEItUTzgA0JjsZ2+a7ceLtMElRDFwCaN69M333wtdeBvbwnhNgJ/L3Bvpk79/+xdB5gURdMuP0EFxACoKCqooCJKElByDpKDBMk555yDknPOSM455yA5owKCqEgWEEWUoIj+f7+91tA7N7vs7s3dHlB1z7Pd07nfnpmbeae6Krm21xuhgxiYIISoS4vCJKZTc/Y885jjHKI+x4UQdUIzvGluPMCHdwbSuyAgCAgCgoAgIAgIAuFFwK3nKX755dn40rTk/HuFdlIRmniwNWiKue2T01lTzYksXLx4RQQtxUGD+ns5HPE17mAIUbuGaJo06WjyFI8DEB4nwk4d2ylP5CutJGhE7t13SGk0jtGallaGimz5YmeEbcDr1q6h9u1bm8XU9ufPtUdtTgyGEIWGEYjoXbs8dim5DV8hSNG6dT3kBcqAHGvbppX2xozjJEleVltOyyvv2qW0KQGkBSJM5sArd7dun/qsAgdQsE0KD+nTpnuIHRQ2iUC79pbPxvxkQCMNXuoXKPt+7L0c2rPQ2IXnchZ4Doe2JsS+hZzLBBM2bFBXkaw7teYitoH7ElM7ctPmbZYd0EBxgCY1NKqh/btw0TKvbmAeAdqC15X9UZOghlmEQgXzakdqdg1dnEeZP3xfe5j3aszPgZ2U4nMA2sWmVrefJrQjG5BRTgIt49yKJKqrHCqZ2+lNjPyZOdi8aSO1auXZihzVhGhk1x3zDwQ/mN0YM9qjTbhh41Ztfxh13cKE/ycEcy3AjEn//xwS+bNPPMDQZjcJUXPsLZRt4Srqw4STnD6lNFFLeTRR7edeg/p1yJcjN6e28uUrQP0HDLayTELU/oHKKqQiGd5PrbU6fW3LD4YQxXyq16js6Lzp8ccfV6Yy3qOatWr7/DhhjiuccSFEXUKfSUyn5ux55jHHOUR9jgsh6oRmeNPceoAP7yykd0FAEBAEBAFBQBAQBMKHgFvPU3YSEDPyRRzwbJerrcgXLlzgQ3r22Wctb7/29hwJUQfHQ8OGj9bOQ2YrzboBSsPOFJA9IH1MMV+skR4VhOh7SpNyqtIUsoudEIUDkd17Diqbcne3EnMdk+jitLXKXAA8a5sy6fOp2k4ppwVDiKIObDvCHiO2iQci9v5+Vk5D5qnt5dj2Cy0oCF7IC6jtr/DknCrVu/dslsmcMso2KTvNcapUpXIF7ZjnrbfeptlzFlhFTFIEZBpItVAEGlfQoFu/bo1F7kGDuHjxEtrJErQfTQERCG1DaKlhuy6222LuoQrspB44sM/vtnO0bdp7XLN2k2VnNFAc6tevTXuVXUUnQhTtw2M2SB6QwNBghpMp/uAAO48rVq7z0sC8c+eOIkQzaLIUZiBy5c6NZvxK6tRpvTTp+ByAl3nY3g1Udu3a6XGKpTSvnTx7w8kNzpWECRPqJo8ePUI4jyC+tjcjz9Qo9HVfw7zdsCEa2XXHeAPBz7S1aRKibmESCiHK5xXmwOZPELfLsKHKRIJyDAUxCVF4W6+szBtA2CazPrD9XLhwnooWKahT7YQo4w/N/spVqtpqRjx84fnEXjZyTUJ05ap1jiY/0ErGDGnUNfKPTzulwRCiaA+2RIEfdlZ8990JTbYi3RT7RywzLybEhRB1aRWYxHRqzp5nHnOcQ9TnuBCiTmiGN82tB/jwzkJ6FwQEAUFAEBAEBAFBIHwIuPU8tWzpEurevbPXRLC1eqKyaYgtv3bBC1sF5TiIn7WRb3qmjywhahIY3PeAgUMob978fKhD1sbiRF9b5u2e27GVsktXj31HrsuhXbsVdhDXb/gigm3CcsqpzPcKBxYmfaFp2bJFU07W4YSJU7yciyDRJMK4sF2T1Nzqy2VM0ozT7CG2OwPDw8pWHrZTw7syTCPYpbKPreG3b/+ltv6voNnKwzyIORYQoiBGCxYs5HMLOJM5H36YhUaPGc9VI4RcLn9+b/uYgRKBERpUCRj32jWrlYmC2ZbNSJSDhmF55U0a6246ULG30a5tK1qvHFlBOioP6HaHU/byOIYjJmg7gxDHlnXeGo90OGqCB/c9ew86Xkeoz8Q6nD5tU07FWALF4V6EqNkOnFM1atxU2789depHbUt12PBR3KUVwj6uv3yroI8Ir22whCg3h/vKr8qh18WLF7VX9fXr1lrmKcw2YUcYDmkg1arXpGbNWnITXqFpHzaqCdHIrjsGHgh+vghRtzAJhRDdtGkDtW7lcUbF2v5eC/HfgWnqxCRE8UEnZ47MuhScmkHr10lMG9N2QrRXr0+1t3dcT1u37fZyyOTUlj0tXISoOQ58lIE2+5kzZwi2fnH+//77NX0vWbxkuaNTOLN+uOJCiLqEvPlgZW/Snmcec5xD1OW4EKJ2JMN/7NYDfPhnIiMQBAQBQUAQEAQEAUEgPAi49TwF7biPlS1Cu9d2OFeCYwxTUw4vo+3atbY0CHnmcFIEZ0WQyBKi5pZIbh/aarBJCU03CIg+uzMoX4QoSBMQBSzm9mFO49BOiCK9g/LQje3jLNDiwfZ0U3jrpdPY4cTHJJ7gibpo0UJeGDrZWTW3oHJfToQOyE44CjHlFaUJ+ELixDoJ6wvtq25dO2nbkFwucxZlo3CUs41CLrN3726aNXOGdpKFdiCwd1lSbYmvUL6i1QeXZzIHtiChYfX0089wlhV+eeigst3n0d5iko4zTQIvUA1RbAEHeQybmaZmIRwVYVs8tls7EfvcJ4fwHl6mdAmtHQlNypmz5vklUHft3KHPdbxz2td45oxpNEiZdIAMHzGGsmW767SI+wPxAU23X365EsEGaKA43IsQRV/s+RvnWJ++A6h2Lc9WZLtnex4XCH0Q+0899bRaw7VBe7Xmc8AkL7ntUEKcd0WLFqSLP/1Er76alJYsvWuqImeOLEoz+nftIMtuloP7Mm1WOl0/KIc+oCGK0Nc2aG7Pn5f5yK47+ggEP1+EKOq7gUkohOiJE9/qD2UYgy9CE+c8TFOA8IaYhCiOYZsT2unJ1G6ABQuWOF630IKfOdNjxsROiM5S6QNVPsSXB3id6ePHLUJ03NjRynzKaN2LqcHro1u/yaYt4F69+9FHHxXxWz5cmUKIuoQ8k5hOzdnzzGOOc4j6HBdC1AnN8Ka59QAf3llI74KAICAICAKCgCAgCIQPATefpzZuXE9tWreIMBl4Gs+U8QN6KUkSwgsvCFG7vP76G3ora+zYsXVWZAlRNMI2Js2+cuXKo7dQY2v3+PFjrZdqLuOLEK1UsRwdO/YNF9MhtmrD+zYLPLLD0VCzpo1o27YvOFmHINOggZZW2RMFBhMnjbe8JHPBvn0HUgGlOQmpXcvjAVof/PcDUq5o0eJ0TWn64KUdhJcpdluOyDM9gXNZaD69/fY7fKjtqoIUgBYsyAYWbBmFVu1776XWSdDqrVWzmrYnyWWC8Wp89uwZ5cV+Ji1bulh7RUcbderWpwYNGnNzOmQyBwdOjm7gwb6+snt5SJGiILdnzpxHb6dMabURKBFoVVCRFSuWUdcuHXUSzsECBT+iShWreLVrlvcXZ6csKJM8xZuKMB5LIBLtsm3rF0qLtB3dUJ7sH330UZowYTKlTXfXORnOUXjcvnnzpjY1AG1r88MC2jPtQNo1UgPFIRBCdJXS9u3cub2eAghFEHqYky8P5tu2bVXXQUNdvkqV6tSipbetW2SADJ47b7YuU79+I01I6gP1w+dAoIQotGR/++03ejZBAr1V2kmLl+dpd3KGdcf6QwYNHq76zqPj/GN6FEeaL0IUeSCnsR07efIUam6LrI8vyDPFHyEa2XVHP4Hg548QdQOTUAhRmB0oXboYnTt7VjtjW7houZc5Bsxt8uSJNGL4UES12AlR1rBFpvmRzVOa6Ny5s4qwLmXdf+2EKD4ulCxRhG6oj04w5TBx0pQI2v3nz5+nYcqh3e2/bxM01E1nY24RosuXL9UfoDDufv0H6X54Dma4Y8c2/cEJafjIlL+AxxSAWcb8gISdDdB0j4kihKhLq8IkplNz9jzzmOMcoj7HhRB1QjO8aW4+wId3JtK7ICAICAKCgCAgCAgC4UHA7eepatUq6W3WwcwGZBCc4qRMeZekc4MQNb1+BzoeX4Roe2Wrc52y2elPhg0bRdlz5FRekhtqbUh/Ze158AQ8X2kzsUBLtFy5UpbtSk73FcKe5bz5i4kJZS6HbcvYvuxPUr6TSpGKc/XLN17C7QItv0SJEtHJkz/Ys6hhwyZUu069COn+Em7cuK6cFC0iaK8WLlLUJyEKEhnadnh5x3b1V155VTtRGjFiKB06eEB3AYL40896e3UXKBFoVgIhNnTIIL3FvWy58srGZCIzO6g4nDDVq1tTayCjIuxW5lIkW5o0aZXjmoR0Umkm71E2O7dv32q1CwyBpV0+nzSBRo4cppPhPKpxk2YEIv4npem4YvkymjXLo+UGz9KzldMxYMYSKA5MFPqyIYr2oEFcsGAeL+3ZWrXV9vlG3qYduG+EjRrV06Qn4lhDkNtYw1M//qid1owaNUI74ALBCnuRsWLFQlEtgRB6XBbhpInjtQkJxEFGtlRbpXE/gbkKEIxbtmymPr0/QzblyZtPaQDeJdTgDAvEM+YIswVwlgWiH9cSHIz17dNTX4fIh/gjRNsrzfd1yuYsJGPGTJQzVx5tGxnHr7/+hl47xP0RosiPzLqjfiD4+SNE3cAkFEIUYzedxSVO/CJ16NBZfyiA1ieu0wnqQxbWidfDTohC27tkicKa0MT1UK9+Q60RGT/+U9omb+9en2kNUtxbIHZCFGkm6QpStHnzlvSmuu5Alh45fJiGDBlIV678rMcxZ+5CSpbsNVTT4hYhih0M5RRxCz4KHxVhfuO1ZK9T7Mc8Hw0Lqo82mB92LpQpXVx/3MMHIswXuw0wJtgoPX78GA0eNMAyGYH/E7hGYqIIIerSqjCJ6dScPc885jiHqM9xIUSd0AxvmtsP8OGdjfQuCAgCgoAgIAgIAoJA9CPg9vMUbLiBEPxKOTUJRPBC17Xrp1S8REmv4m4QomiQ7St6Ne7nwBchCgc7NWtU0S+YvqozIeqkIeqrDqdzXT5GCMdEvXt/ar2PmHlmHC/LY8ZM0N7WzXSO34ugZUIUhEPdurW87JpyG07hy68o5zrTZllezZ3K+EsDIXHlyhXLCRCXZTIHjpjwMg/yyEmgfTl69DhNOJr5gRKBZh2QmE8qHEG0uCHQ6uzWrRNt3LDeb3Por06d+lSjZm0vMpMrgfTp3Kk9bdiwjpMihEmSvEzYup5C4WFKoDgEQoii3SGDB9L06VN0FyBeli1fQ0mU1rcvAamGrfPffnvcVxGtYQ0zFiB5TeFzIFANUZxLbdu2pE0bN5jNaELUNHWBa2XG9DlaK9osCBJrwIC+jo5oQKrWqduABqp8iD9C9Py5c+pDRmm6deum2byOV6umbJQqYg1yL0I0MuuO9gPBzx8hijYii0mohCj4lw4d2vr8AIUPA6lSvasdnmGcdkIUaStXLqdPe3T1+UGpeo1aNGXyJBR1JESBf1dlHsTfRzD87+rcpbvWytQN/ffjFiGK5norEn/B/Llm81Z85679ygngE/r4yy8PUaOG9bzOu8eRp7A0tf5hkgZaszFVhBB1aWWYxHRqzp5nHnOcQ9TnuBCiTmiGN83tB/jwzkZ6FwQEAUFAEBAEBAFBIPoRiIrnKWilTFae0rGdF9ubfckHH2TWDlrwgmsX2NfEVkAWdjjExwj3O3iZt9taxLM8NAr55desjzi04n788aSV7IsQRQFscf7ss+5aM8iqYESY1LQTom8q7T28YENb0y7QvOzZqy9lyvShPUsfH1SakPAkDy03J4Hjqj59BkSww2mWva62ZEPLbdWqFWayFWdCFAkYJ4ihhQvmWflOEWyjhy062Ml0W5jMgZf5umpLPbycm0QXSMRCHxXRRAYTAuYYAiUCzTpRFYc9yHXr19IJRQqaxAQ0Rd997z3txAfn4L1k3rw5WjMOGmosIDxy5cpNHTt2dbRTGigOgRKiIPGgSYlr6l4Or3iMcFIFIhWafdiCzBIrVmw99rbtOkQgtFGGz4FACVFuF9qFuN7hBMwuGTN9oPF+R2lEO8mePbupR48u2s4o52NtoKF4688/LRMA/ghR1MOW+dGjR9LRI4fVOM5rLVikB0OIojwklHVHvUDwuxchinYig0mohCj6hUyfPlWZNRmjTUrgGM7FUqdJo+4HAxWpPU19jJmMZEdCFOlH1EesTupjAkx1sMDMQ+s27eidlKmU6ZRCOtlu35nLIoRTs7FjR+kPN5yOjwEpVf0OHTtrYpbTOXSTEMW1tlSZGFm8eCGdPXPGy2a0SYiib/yPGDlimL7P43+wKdCOrVKlmjbbYt9FYJYLd1wIUZdWgElMp+bseeYxxzlEfY4LIeqEZnjTouIBPrwzkt4FAUFAEBAEBAFBQBCIXgSi8nkKjn/wQn34yNf6pfSvP//S3rrfeOMNypoth1/tstWrVnppBmLbcZmPPQ6XGCEQD8uXeW/x/qhwEe00hctweOjQAWVz8pByDHREbfu9RnHixCFs+f1TER2wr8aCl8WaterwYYQQc9q7bw9dvnSJriqbhdDAYSn0UWHC1vXVq9XYT9/Vakzy8suUNWt2bc8T2yCx9fw1tZ0RWzCxNRcaaP4EGm47d2zXW7BRH2PHFvsUb76pHO3kcNQsdGoPmnogyS5fvkS3//Js/0W55557znJmxfWgEYst2SDB7ty5o7cPJ1D2GRMkTEiZlfd3OFOKTsH21B9++EFrcYJgjskv9U64AMPvv/uOfrv2m9bkTKhwDEUuX75MP6g1fO755/UWbGipRafAniZI85fVOY3tzIEK3qlBTMHr9UsvvaSvUXOLfKDtBFoOGr+nT/+oyM2LlDBRQk3cv/SSb21Ws12NsbrOUqRI4UjWmmWjKx7udQ8XJjhv8CEJ/b+nPpzFjRcvaMhR91ulaf7Kq68StpFDoFEJjX8If8jSBz5+8CHixLff0lPqXg3TB7gHx1TBR8hz584q3E4pjed/1PWWRM87Jo+ZsRRClJGIZMgkplMz9jzzmOMcoj7HhRB1QjO8aVH5AB/emUnvgoAgIAgIAoKAICAIRA8C8jwVPThLL4KAICAICAIxA4FFixZQT6XtD1m8eEUEEwo6Q36iHQEhRF2CnElMp+bseeYxxzlEfY4LIeqEZnjT5AE+vPhL74KAICAICAKCgCBw/yMgz1P3/xrKDAQBQUAQEARIa7MPHz6E/v3nX+3Mqlr1ml7OuoARtpN/XKaE0iA+pe0fr1u/OUIZwTI8CAgh6hLuTGI6NWfPM485ziHqc1wIUSc0w5smD/DhxV96FwQEAUFAEBAEBIH7HwF5nrr/11BmIAgIAoKAIOBBoH271rRu3Rp9ADvVVatW1+ZJYsV6lL47cYJAmB5R9l0hnTp1i2CKRWfIT1gQEELUJdiZxHRqzp5nHnOcQ9TnuBCiTmiGN00e4MOLv/QuCAgCgoAgIAgIAvc/AvI8df+vocxAEBAEBAFBwIPAH3/8QbVqVtX2kv1hAjvII0aMCdgGs7+2JM8dBIQQdQdHi8R0ao4JTs4zjznOIcpwXAhRRizmhPIAH3PWQkYiCAgCgoAgIAgIAvcnAvI8dX+um4xaEBAEBAFBwBkBOBaaMWMqzZwxnX799RevQs8+m4AaNGxMZcqUJXiMF4k5CAgh6tJaMInp1Jw9zzzmOIeoz3EhRJ3QDG+aPMCHF/9w9T558kTl3fJv5cU1KRUqVDhcwwhrv/B0uG3bVjp39ixdvfqr11gSv/gi1alT3yst2IMRI4bSb1ev0tsp36GyZct7VYd30aVLFum0uvUa0gsvvOCVH1MP5LyJqSsT+rhmz56pPPaeoETKO3KDBo1Dbyiaa/bt05PwoJ4hQyaCN2wRQSDcCMjzVLhXQPoXBAQBQUAQiCoErqp3mh9/PKl5nddee50SJEgQVV1Ju5FEQAjRSALI1ZnE5GMztOeZxxznEPU4LoSoiWLMiMsDfMxYh8iOAoatixUrpJspX+4TgvFrf5Itaya6efMmZcuWg4aPGO2v6AOZt2jhfBo8eIDGwGmCb7+dkmbNnu+UFXBasaKF6Pz5c5QnTz4aOGioV70VK5ZR1y4dddrceYsoRYo3vfJj6sHDfN58eeggdezUTi9Nz559KX3692PqMgU1rqZNGtL27VsJD7cLFy0Lqm44C2fJnJH+/POW+thQgTp07BzOoYTUd7D3bHQybepkmjN3lu5v6dJVFDt27JD6lkpRg4A8T0UNrtKqICAICAKCgCAgCASOgBCigWPltySTmE6F7HnmMcc5RH2OCyHqhGZ40+QBPrz4u9X7nTt3KFPGtLq5GjVrU5Mmzf02/TATW99//x1V/KSc8qD4t8YoTpy4lC59enos9mMWZi+/8gq1bNnGOg4lIoRoKKjF3Dq7d++ihg3q6AGOGjWOYDPpQRAhRMOzisHeszHKUSOH06RJ4/WAd+85SI89dveeFZ5ZSK8mAvI8ZaIhcUFAEBAEBAFBQBAIBwJCiLqEOpOYTs3Z88xjjnOI+hwXQtQJzfCmyQN8ePF3q/dgX64fZkJ06JBBNG3aZA197Tr1qGbNOvTEE0+4tRRWO0KIWlA8EBEhRGPWMt7vGqLB3rOBvhCiMesctI9GnqfsiMixICAICAKCgCAgCEQ3AkKIuoQ4k5hOzdnzzGOOc4j6HBdC1AnN8KbJA3x48Xer92BfridNHE+3/75NSV9NRoWLFHVrGPdFO82bN6atX2yhRx+NRRs2bqGnn34mSsb9IBKiD/N5I4RolFwmITcqhKhoiIZ88kRRRXmeiiJgpVlBQBAQBAQBQUAQCBgBIUQDhsp/QSYxnUrZ88xjjnOI+hwXQtQJzfCmyQN8ePF3q/dgCVG3+r0f26lRvQp99dUhSvlOKpo5c26UTeFBJESjDKz7oGEhRGPWIgkhKoRozDojieR5KqatiIxHEBAEBAFBQBB4+BAQQtSlNWcS06k5e555zHEOUZ/jQog6oRnetKh6gP/zzz/pwoXz9Mgjj9Dzzz9P8eI9Ga0T/euvv+jWrZv0zDPPhtzvtWu/KRttj1OcOHFCagPn/YXz5+nZZ5+luPHiBdwGnG1c/OknunHzBj333PNqDs9oHP01ENWEKDwLwoHHk0+Gvo7Xr1+nxx9/PChHIMDwypWf6ZdfflE4JqBEiRIpzc5H/UFxzzwmRN9LnYamTp15z/JmgWBwcJsQvXTpkj6X7je7gbdv31bewG+HdA+I7DVorp0ZD+X+FFlC9Pfff9c2HyNrniGU64jnjusoVqxYSiv6aU6iYGyI/vvvv4RrIGHChFb96IjgfwmufdyPWdwkRHGf+emnC/ocNbHhvu4VhrK2odyzI7tlHvdS/E9OmDDRvabkav5vv12lp556mv73v/8F3G4o12jAjUdRwah6noqi4UqzgoAgIAgIAoKAIPAAIiCEqEuLyiSmU3P2PPOY4xyiPseFEHVCM7xpbj/Ab9u2lcaPG01Hjx7xmhg8GJcpU5bKV6gYgdCC9+aePXvo8p06d6V06Zy9N5crV5r+VWRh6dIfU8VKVbza54Ply5bQ7Nkz6bvvvqN///2H3nzzLSpUqLD2uo6Xyc2bN2oyYNLn07iKV4iX1FGjhtPGjevp3NmzmrxLmy49VaxYmXLmzK2cqtSly5cvaYcqrVq19arLB0eOHKbhw4bQsWNH6caNG/oF9NVXk1L+AgWpXr2GEebP9eDsZ5zCbsvmzfTPP3c4WROBxYuXpCpVq1OCBAms9JEjhtGWLZus45Mnf9BxkMBmOSSWKFmaqlSpZpWtV7emJhmzZ89JzZq3tNLNCAgC2Nv8+uuv6NKli3oeSV5+mTK8n0nX8UUc1KxRhUAQ5M6Tlxo0aKy0MKfrcX791Zeq+UcoWbJkej2KFi1uducVB+kyZfIkWrhwnpcneBCqefPmp6rVaui19ark42Dzpo16TTn7vCJX/lKE/ePKbmiSl5Jwsg5LlipNlSvfxQmJoeLgBiG6f/8+mjBhLH17/LjC9Jois2LTG2+8oTGoWatOBIKhVctmdPr0Kf0hYMLEyY5E+oD+fWnZ8iX06P8epaXLVjqaDJgxYyotWbxIfwyYPGWGJtGAhb/zZtDAfrRr1071AeQFGj1mPAH3FSuWEYhEfJx4SWFdoGAhql+/kV9nMG5cgxirkwR7f2pQvw79/PNl3dStW7f0uYCDF198KcKHEqd7Fz7MDBs2mHZs30Znz57R65E8xZvUpk17eu+91FSpYjnddrnyn1C5chV0nH/cuI7QFgjpEcOHqHvaBrp48Sd9zrz1dkoqoe4p6DcQQnTf3j00fvxYfU+7efOmIg7jUfHipahR46a0YME8WrZ0sR72goVLefg6PHPmNLVs0VTHGzdpRlmyZFPn1UJau3Y1/aTG8scff+i899/PQEOHjvSqe/nyZerXtxcdOLBfn/u49tOmTU81ataiTJk+pFAJUcYV52LVqjVo4oRxNGfOTOs+88orr1KJEqVUP7Udrx8eZChrG+w9u0CBQtSoYV3ukn799VcCuQjB/1SQm6bMmj3PizRG3i+/XKEBA/rRwQP71MelK7p4okTPUcaMmai1Og/xwc4uoaybvU7q1Glp+vQptG3rF4T/TXBe9/bbb1ML5azu3Xffs3dpHQd7jVoVY0DE7eepGDAlGYIgIAgIAoKAICAI3GcICCHq0oIxienUnD3PPOY4h6jPcSFEndAMb5qbD/Dz5s6mvuoF1p9ky5aDBgwcojUFudyOHduoSeMG+nD4iDGULVt2zvIKM7yfWpGc/+oXVbsXdWhV9ur5KS1ZstCrDh+AiISW0fLlSzVZtGnzNs6yQmjPtGrVnA4rAtAuIKKGjxhNn33aTZMi+fIVoP4DBtuLETAYNKi/0ojzeDC3F0iTJp2a/2Cl7fScV9Y33xylWrWqaaLOK8M4gOfzMaMnEEhJSNcuHTXhZBTxGa1WraYX8VmwQB5N9IAs7t2nf4R6W7duUe130kREhEyVkPjFF6lfv0Ga1LHn586dja799psiTEpS/KeeopkznMnnUqXKUJeuHiLcbANkarWqFTWxZ6ab8SeeiKNxzJrV+Vwxyy5buoS6d+9sJvmMV6uucGp2lyCODA6RIURxz5w4cZz6uDBGkeP/OI73/fczUp++/b3OpTFjRtIERVxBpk2fHYF4wPWTP18upeX3qy4D/LEOdvm4TAlNYuTPX5D69R9kZfs7b9q0aUEbN6zXxGer1u2odatm1r3fakBF8JECJKuT5rUb16DZlxkP5f5UuHB+ra1ttuMrbr934X7TQpGB3534NkIVaDnjumvXtpXOw/2pXv2GXuUiex2hsUsXL6oxNKHjx495tc0Hbdp2oF07d9D27Vs1wbZw0TLOssJp06ZoQtXpPEyfPoMiuVLSrFnTdfmDh7w/hOEjT7mypXRejx49aceO7bRu3RqrbY5k+uBDGjt2Ih/S/n17qa3Chsk/K0NFcO2PHTeR6terTX/+eYvKlq1AHToGdn2jHca1ZMky+l6+Z88us3krniVrNnWPG+io2Rzq2gZ7z/64bHkqVrSgNaZ7RXbu2u/lIO7gwQPUvl0riwi118fHC1zfadKk9coKZd3MOp06ddMfXZz+l8J2c9eu3amY+v9gl1CuUXsb4Tx283kqnPOQvgUBQUAQEAQEAUHg/kVACFGX1o5JTKfm7HnmMcc5RH2OCyHqhGZ409x6gMdWzEIF82jy5o03kuuXe4+m5//RiRMnaPLnE2n//r16so0aNaVate9qvbhBiEIrdED/Prp9aC7WqFmHUqV6V5Og0GDCixm2XEJDBhqUToRoa0WGbtq0QbeRQpE2FZQ2a9Kkyejbb4/r8d9UW9gh0JByIkQPH/5aE3ko88EHmQkaUcmTp1Av9b/RSqUpB+1PEKV58uajgQOHopglIA3wQomX/TZt21P69O/r8ULTdc3qlTRv3hxdFu2OGTtBx6FJc/KH73X8H0V0jRzhaTNDhkyUVb3Mm5JKaeRkyJDRSvJHbEHTp+zHJfVYsU0e2pggPm7f/kuTJzwW4Lh02SqKHz++1S4iTDiA9AXBVVxpW2XPnoPiKg2hr5SW6NSpnxO0qyBjFAnygSJDTOnXrzfNnTNLJ9VU6whNU5xTGNfevbuVtucITRxjnVesXOtIWJjtAVdo6LFg/ND6BKlbvtwnnKzDd5XWHrTVIJHFITKEKIj7bl076XHAbAKIWhBPMKWwctVyvQ7INM8HHP+gzgesHcRO7iINmn716tVCVEvmzFlp1OhxfKjDH388SWVKe7R3QfrjXGfxd94wIQrtQdzz3377HYLG7QuKdEGbk5XGLzSNIbj+cR+wS2SvQXt7fBzq/Qn3jhvXr+tmcD4sVtqNEJBpSZMm1XH+AU78sQJp0CbfvXunzk6bNp2+Dl54ITEdVRrkuAZADEHrF+KPEA31OkK7zZo2om3bvkBU3w8rfFJJ39NwnsyYPlWT3nAqBuIRGod2QhTXa43qlXX9xx57TGmZV6e06dLpe9qqVSv0eYit0DwPf4Qo7qkgh3HdpkjxljalwuYDkr32mqWZjftryRKFLRIPH22gzQmTGdBWB+H/6KP/o+vXb2hN+lAJ0XjK/AfWNp261378cTmCZugJNb6pUz7X2ryYdGWlVd9SaTTaJdS1DfaejWt+oToHWXbu3E77FFkMady4WYTdBhgvyHbITbU7oXjxwkqr9BfCx7TW6iMF/ifjowjOS2h04/8hzsklS1d6faQ0yc1A182sg3P2j+t/UHX1Ie691KnV/fovwm4G3Ncg8eM/pbXTTZM2oV6jusEY8uPW81QMmY4MQxAQBAQBQUAQEATuQwSEEHVp0ZjEdGrOnmcec5xD1Oe4EKJOaIY3za0H+M2bN1Grlh6CY9To8ZQ5cxavieElDOTCVbXl7yn1QvyJejFniSwhim2XxYt/pLUS8YI1efJ0Sqq2ZbOAyGverIlFTjgRoocOHaBaNT1bpaHFOWrUWC+7n9hqCtuTTOg4EaJsmxIacNNnzIlgK3O6IiCGDB6gh/W52rKPrfgQvb08V1Z9nYAABJFqF2gqHvvmG7Xj/BFFHFSJQALeuXOHMmVMq6thq6ddg9benj9ii0kUEDbjxk/S5KxZH2YJunXrrJMqKdMF0AY0hQlRpLVs1cYiOrgMtL/qqi37ELtmGNIqlC+jiQmsw+QpHs0zpLPgxRuaiBCQyynUFuRghNfpXjZEI4tDqIQoiIySJYtosuKll5LQ5+p8hh1eFlxLnypNZd6mPHjIcMqVKw9na0IUhBdIkGXLVlvpiPTq9akmWEBawpwD1njDxi1e2+axhXj06BF6iys+HGCrMou/84YJUZTNnTuv1gQ3bQaCdCtVqpi+TtHmtu17rK34qOPGNYh2nCQy9yduLxgbonv27KYG9WvrqtCKHzR4mNf9AMQbtm6D/IP4I0SRH8p1hI8H0KKEZMz0AQ0fPtprLW/cuK5JW3zIgTgRorVqVlXrclCTbGPHTbI+FqA8zsMe3btYJBfS/BGiyAcRXqtWXS8tRqSbgnMP5yDE6X546tSPimirbJGwoRKiaB/XDUh/2FVlgd3aOrVr6A9U+CC0aNFyL6LbjbVFX8Hes1EnGBuiXDZu3Lg0Z+5CevnlV9CEJUfUutdQ5yA0fxs2bEK169Sz8kxyE4mBrJtZB9f91GmzNAlvNaoiY8eMUqYXxugke59uXKNmX+GIu/U8FY6xS5+CgCAgCAgCgoAg8GAgIISoS+vIJKZTc/Y885jjHKI+x4UQdUIzvGluPcCbpCZshJn2Ku81Q7OufdupWdfXlvmlyn4dXswh2O4MzTi7wIYZNOdwLjoRol3U9nNocUKcthojHYRub0UoQeyEKAgOEHmQz3r2oSJFium4+aO1Q9V2chBRxYqVoB6feswLwDZh9mwfaIIhR45cNHSYty09sw1f8WBfrn0RW6dPnVKkVVHdDWx8fvpZb8cuq1WrpLVuYUpg+449XjYhmRCFZuOq1es1mWJvpHat6nTw4H6tBbtu/Rav7KpVPqEjSosuQYKEWgOUtci8CkXiIBBC1A0cQiVEFy6Yr4hLjymB7t17Ks1Cj8anOWWQNkUKF9CEGjTcJk2aamUzoYmE2XMW0Ftvva3zQGDlz+fZLt+xU1fq26enPuc6d+mu7fJyA59U+FhrRRcs9BH16eMh8DnP13mDfJMQhS3J119/g6tZoUmILF68wuvDRWSvQasTh4h5jwn2/sTNBUOIduzQltasWaVtPM5fsMQRiyGDB2obi2jfHyEa6nXUuVN7ghYn7EziPMCHGrt8+eUhTcwi3U6Inj6t7gUlPfcC2LLsq7aP2wU2LYsUKWCZ+vBHiIKUHadI1XtJoYJ5tZ1maBmuWLkmgk1M1J80cbxlFzhUQhQfA6AZmSRJkghDwgeo5s0a6/R69Rup9fGYdEGCG2uLdoK9Z6MOk5yI797j38t8zhxZlI3W37X96G7dPP+3UM+URg3rKbu/O7RN3JWr1llZJrkZ6LqZdfLn9za1wQ3jf12ePNn1+WK/v7hxjXI/4Qrdep4K1/ilX0FAEBAEBAFBQBC4/xEQQtSlNWQS06k5e555zHEOUZ/jQog6oRneNLce4KH9VaRwQe085VG1ZS+92nacU5F7r6ot5y8rm5fYem53AMEzN1+EQiFEhyuHIXDAA1m/4QufHpCrVK6gnT05EaKwWQlNqWRq2+giBzt6aBsvc1mzeLad2wnR9evWUjtlqw1SRBGJT6ktgU4CZ01wygSHE1OmzrCKcP9IwBbFPErDDgQGtnVjuzi2q/qTYF+ufRFbmzZtULYfm+uunDR9eQzY0o6t7ZB58xdr0wCcx4So03ZsLgNnKXOVvVXIjp37vOxJmusJG3e5c+ehNGrLceLEHizsW/S5zUDDQAhRN3AIlRDtr0w/zFEmIKBltXPXPkdCCHNlAvLpZ55RzsK2W9PH1u6SJYroY3NrOm+Xh3boxk1btd1ebL81t92fP3dOkfWFdN1Bg4ZpcwVWwyri67xBGR4PtD9hy9Dpet+wYR21bdNSNzlMaSzClAILXwOhXoPcjlMYmfsTtxcMIcr3GjhQmjdvETfhFR4/dkw5ayur0/wRoqFeR/xhAfcPkLK+hM9TOyG6XZmZaNrEQwQOHDRUEVn5HJto3rwxbf1ii87zR4jaNQKdGoNn8SyZPSYryiuHT+3ad3Iqpk1e4IMAJFRCFGZAJk6aottw+sme/UO9pb5w4aLUs1dfq4gba4vGgr1no06ghCiI6nx5PdcWnCclT/4mqkeQw4e/0h+f7Pcak9wMZN3QsFmncZPmSru3doT+kIAPkz8oDfZ33nmXZsycY5Vx4xq1GgtTxK3nqTANX7oVBAQBQUAQEAQEgQcAASFEXVpEJjGdmrPnmccc5xD1OS6EqBOa4U1z8wEenoO7dO6oXvT+jjAp2JnLpDSEGjZqQsmSveaVH1lCtHVrZftTeVAG0YNtuL6kQ4c2tHbNakcN0dxqy/q1a9foXhqaBfLn0luZ7YSoqbHkq38z3U7KQiOxeo3KejuxWQ5xEEypUr1HNWvV1l6a7fk4Dvbl2hex9fmkCTRy5DDdxbLlqyNss+S+zTWz25lkQtTUguV6HMJz+pjRHk3YDRu3Km3QBJyl7YvWVg6mjh49YqVxBC/ubyi7rCVLliYQJjgOVgIhRN3AgYkmEEkglEyB93U4WIHMVYSZue2f7RPCtt/qNRvMal5xeC+HvUMItrbjnGKB9/Jjx77xIvh5u3xhpb3cU2kxsyYqNOXWb9is60+bOll5+x6kryWQpo899jg3qUNf5w0ymRCFB3ZT28xs4JBhmgJOufIXKGhlR/YatBryEQn1/sTNBUOI8lxy5sxNQ4aO4Ca8QpjKyJXTY1rEHyEa6nWUK2dWva3c3xgwoAb16xAcC9kJ0Tnqo0f//z56zJo9X9uw9ZrAfwcD+vel2bM9H3f8EaJwquTkSMds87vvTii7vqV1UqtWbalS5apmthWHtnPmD9/Xdo5DJURh27h798+sNu0R1pR+V9lfxq4BFjfWFm0Fe89GnUAJUVPzF/UCEZDmIM8hJrkZyLoFUwc2jPFxxn6+oY3IXqNoI5zi5vNUOOchfQsCgoAgIAgIAoLA/YuAEKIurR2TmE7N2fPMY45ziPocF0LUCc3wprn9AA9ib/KUSXRg/z46f/5chMlhi/WIkWO8HOmY5FooGqJs69GuKWfvHE5qliunDnYyEuWyZsmktVvz5stPAwYMsVe1jqGVBIc8dkJ03NjR2mkSCjZWzi4ee9y/RifKVa7ssVmKOAQECQgp4AFiAC/9dqnfoJGyv3l3+ybnB/ty7YvYMuexevUGeiFxYu7CKzTt6PXq1Y8+KuzRSEQhJkThZb67IkGcxNzWbSdEUR527eDABgT2kaOHrS25ZluwPzpa2asNlhQNhBB1A4dQCVHYLzxwYJ8mo0FK+5JRo4brrcPIX7N2k5edURClIEwhIDpAPvB2eZhkAPEPjaz8+XJrxzSdO3ej0mXKaqdg0JS2a8XphtSPr/MG+UyIvqTsnsLZlZN8qexR1lR2KSF2QjSy16BTf/a0UO5P3EYwhGiWzBm1B3RfW4fRpqkN6Y8QDfU6ypY1kzapcK97WpPGDfQ9x05QMTmOsfoygYC8YUMVMa+cREH8EqLKRAjIXX8CEh9kPqRdu45UXjm28yWMcaiEaBnlSKmTMh3hS1gTFCYnYHKAhfuNzNqirWDv2agTKCG6X/3/rVunBqpoZ17Jk3uITp3g4yd//kLKwdILOteLEA1g3VAp0Dr1lW3dvcrGrv1842FF5hrlNsIVuv08Fa55SL+CgCAgCAgCgoAgcP8iIISoS2vHJKZTc/Y885jjHKI+x4UQdUIzvGlR+QAPZ0dwRvS98pS+cdN6+mLLFk2+2AkTk1xz2qYLhGB/88MP0utzqU7d+tSggce+G/IGDuhHs2Z5nO9s2747gsMhlIHUUlqHhw4ecCRE2ZEPvPpCG8pJ8AILrSSQdXZCFJotHdp7vBHPmDlXbQdM5dREwGnwwg7szpw5Q7Bnhy358OQMbb7FS5ZH0NwM9uXaF7EFu4ewkQeZqOxSwtu9kyxatIB6ftZdZ82cNY9SpnzHKuYGIWo1piLAG2YGflIe1mHvDlifO3tWF4Ed1nuRLGZbiAdCiLqBQ6iEaM+ePWjRwvl6rffsPeiT8O3UsR2tXr3SUTP6woXzVLSIR/sSJHq6tOmVHcRa2rvzho1fWA5+WBsV5HKP7j0VEZpfX2PQaoRmoV18nTcoF1lCNLLXoH2s9zoO9P7E7QRDiJZTWo7fq48adu1CbgvhD2rbMLYPQ6KCEGUNRzuhpzs0fmAnFPZC7QTVJsN8Bj5iZc2a3ah1NwoTCDCFAIksIXpdeX3PobaqQ5wctukM9XPlys9UIL/n/AyVEDVNRXC7Zsj3MTvx6cbaop9g79moEygh+ssvV/QHENRp3qI1Va1aHdGAJVBy02ww0Dr3IkTNNoO9Rs264YhH5fNUOOYjfQoCgoAgIAgIAoLA/YeAEKIurRmTmE7N2fPMY45ziPocF0LUCc3wpkXnA3znzh1o1crlesJr120iOAuBmOSNL6dIJnlg10icp2xR9lU2KSG9eittxY/uaivqRPWDF8SiRQtpTUMnDVF+qYcG65KlKwikrV22bNlELVs01cl2QvTbb48TCAhIoDbXdOEAf5YsWUSf9vBoMznNEdqk8DKPMBCCwBexdfy4smv4iceuYbVqNalZc4+9R/sw2W4g7ETCTAE8GbMwkRCqZhu34yuEjUyQOLivlC79McEpUDASCCHqBg6hEqIzZ0yjQYP66yn50pgGYQ7CE+e13RYfY8GOr2CTNnXqNNq7vH1N+Lx6VNn9rV6jltY4ffLJ+Mrz/BeOdmt9nTfoM7KEaGSvQZ53qKGv+xO3Z2rd2bVbuQyHrVo2U3ZdN2pzFytWrnO0azx9+lQaMniArhIVhGi7tq1o/fq1mlhfsmSFl6d0HieczZUrW0rfN+yEqOkoDlvXsYXdLjgPoTX/66+/6KzIEqJoJG+eHHT16q/06qtJadHi5Y4fBEwHd4Hc78xx8/0pTpy4tHzFGi9zHVzO1GSuVasuNWrsue8j3421RTvB3rNRx9Rcd9KsRxmWHNkz0/XrfxA+dowdO5GTAwoDJTfNxgKtEwwharaP+L2uUXv56D6Ozuep6J6b9CcICAKCgCAgCAgC9wcCQoi6tE5MYjo1Z88zjznOIepzXAhRJzTDm+bWA/wUtU1+39696uX7UWrarIWXkx2eoblNeumyVfTKK6/qLJwf2C7755+3tOYjtmc+ZnMixNvdUcHuxAeEaulSxej27dvaPumMGXMobrx43K0OWesOB06EqKkRCEIVTjRMpzDY3lqjemXtfRtt2AlRzAFOTGD3Mt6TT9LChcu8tjCjDsgDEF3Qdnwt2esW2Ygt8rNmzkARbRvTtKuoE9WP+YLepWsP5Qm+DGdZIQgyYJFc2diEXUpz/Fah/yK+iC3Mo7JyPnXsm6Oa5ATWdnL4oNKyhY1PSIGCHyky2kPq/Nd0pLbM//zzZererYtuKtW772pNYPs84NyqQIHcjg5PeAz+wkAIUTdwCJUQBQYgfG/evKlsx76rNXVhR9YU0wYrPMZ/rLb/2mXWzOk0cGA/nQzCGu3ZNf2uKbu52EoPu7/4GIAQTsE++6y3vTl97Ou8QWZkCdHIXoOOA/4vMTL3J24XpjLYkU+5chWofYfOnBUhXLZ0ibJP6cmvWLEKtW7TzqsMcId2KDQdIVFBiK5bu4bat2+t24dH7969+3vdE0DItWzZ1HKIZCdEocFYunQxrY2N82fhouXWlmrdqPqZPHkijRh+1z6uG4Ro796f0YL5c3UXHTp2UR94ynN3Orx27Tf18ams1qBHQqiEKOo6bZvHboT6Spv6kDLvgHvPzJnz6O2UKVFcixtry20Fc89GneXK5Av+F0L69Vc2ePN7tMB1gu1n6JBBNG3aZJ06bNgoyp4jp60EEUj5Awf2qWs/ljo/+lk2gwMlN80GA63jixB14xo1xxOOuFvPU+GwAf+1AABAAElEQVQYu/QpCAgCgoAgIAgIAg8GAkKIurSOIAR8iT3PPOY4h2iD40KI+kI0fOluPcCDJIPNMrxkQ8OsfftOytP8+9oz+I0b1+nrr76ijh3basdFsPW5adM2r5fzkSOG0eefT9BAYNt67Tr1tIbQlStXCFps69Q2aUievMpBzcC7L+A6Uf2Yduzg2bltm/Z62/oFRWLMVMTQUtUGbE1ifE6EKM5ReLk+cuSwbrJAgUJUvXotejVpUjqhtD8HK00u5HEbdkIUlb7++itNmqItaL+2bddBbTnPoPr8h745elSTB3B2ATEdVYAcKVO6uNaywgt4vfoNNeGaLNlrers4tBUHDxpAX33lqWsnhHWD6qd9u9a0bt0afQjPwjlz5aFnn/U42nn99TcIW2dZ/BFbpkOOhAkTaTInXbr3FeH8F+3cuYOGDBmoNW0ff+IJZedzuV5jbhcha2DZtRHNMiY5btd0YicvKI8X/ipVqhG0HEGSnzr1o15PbCmHtFV2Biv4sTOoC9l+AiFEUSWyOIRKiKJv06kTtl03btJMrx/MBqxYvswyEQFcZisTD052VC9fvkwfFcpr3X+ffvpp5TzpC01+oA+Wpk0a0vbtW/mQ7N7frQwV8XfeRJYQdeMaNMdqxiN7f0JbuHcUKphXk5jAu4hyTvWe0ryN99/HlwwZMlpa7ygL50DQbIdU+KSSJq0TK0dZsInbt29vuqBsLOMjDiQqCFG0y1rCiOOeVUN5/sZ95Yfvv1M2j8do26G4jv9SH3zshCjqmKRq4sQvUgdFAqdNl17bn4VjsAnjx+rrkufhBiEKD+klin9EN27c0P8j6tZrqLT+C6t7WQJ1j/1S2Z7tTZcuXtTrAXMaoRKifC8vqj4AQAMWGqnQ9B8xYqg2rYL5I+9T28cBN9YWbUOCuWejPM4naPTiWsGHN3wIwce12I/FRjYVVB+o+F6A/7slihfR/1dix45NTZo2p9y58ur/CcfU/5SVK5ar/60LdT2YHYH5EZZAyU0ujzDQOr4IUTeuUXM84Yi79TwVjrFLn4KAICAICAKCgCDwYCAghKhL64gHbl9izzOPOc4h2uC4EKK+EA1fupsP8NjqC+KQ1xuzih//KfVie12/vPIse/fpT4UKFeZDHUJ7snKl8haB4JX530HiF19UzjtmWqSDWQa25xo1rEtwCOMkeNlNniKF9kbvRIiiDl6GmzSur73IO7UBLSsQu05Olbg8NG6GDxuibaVymj20v3wiH+Rbo4b1tGMnLg+iQoGpNUs5DY5v4ADHSc6fO0ewb3fr1s0I2fbt7/6ILVSGU56Ryts8CAcneeKJONSt+6f6BdyeH1lCFM5+qlerrOynnraahuYxtrhiCygLCN4p6nywa09yvq8wUEIU9SODQ2QIURBMnTu1t2wzOs0lSZKXafCQ4V4e6u3lateqTgcP7tfJ0CqGdrFdTK0zXK+mjVF7WX/nTWQJUfTlxjVoHzMfR+b+xG2YBCGncWg3b4Brunmzxtr2L5fhEB8+QEB17dJRJ0UVIfqdsmMKp0nQSneSDBkyaQdwO3dsdyREcS/voGwK8wcpexsg66HFPFeZLYG4QYiiHdjG7dG9i0UYI80UOJabNm2K3lUQKiEK7fZvlEb/uXMee8Rm+4jjw9ro0eMoUaLn7Fn6fh2ZteUGg7lncx1Tg5bTONy5az89gf8b/8nevbsV6dpGE9icZg+xo2DKlBleuyoCJTfNtgKt44sQRVtuXKPmmKI77ubzVHSPXfoTBAQBQUAQEAQEgQcDASFEXVpHk9SyN2nPM485ziHqclwIUTuS4T92+wEeW8YHq23h2G5oF5CSsK9ZoGAhe5Y+hgbixInjafasGVo7iAuBfCtcpKiy39na66WN8znEVkcQstAeRBwCJ0Q5c+WiLl166O3DK5VWU4IECTXpw/XMEDYZO3fqQHiR5PMWGmDQ8GrQoLG22whnR9Ag7dtvoFnVioMI6aUc48A+H7eBzOeff4FgI9X0yG5VUhFslYam7KpVKyIQkSCqoClZrXpNyyGOWZfj2DI/evRIOqq0Wc+fP6+3QCMvWEIUdaCxg3lAK5PnAWLyHUWAdO/+mSZQUM4ukSVE0R4I8umK8ID3amiKmYI1BancsFFjR7LCLOsUD4YQRf1QcYgMIcrjnjdvjtbCw3nJAqI8V67cSuO6q/rgEJ+THUPU79unp84bo+wIfqDsCdoFHxPy5smurxl/Wr2oF9WEKPpw4xpEO04SmfsTt3fo0AF9n/rx5Em6dOmidW3YCVGUxzUIYhuajXwNgWCrrq7jUsr+bdYsGXWzUUWIovGrV69qcnHHjm3WfQUfF6D92Kp1G2rdqoXWEHbSENWDUz/40DN+/BhtpgJpuAZTp0mjtDUH0ozp06yt2W4Roujj+LFj1LVrR615iGMI7t116zVQH34qEHt7D5UQxXb5Jk2aU3+lcbpx43rrwxM00Qt9VETvcjDJRc8I7v5GZm3vtuKxoR3IPZvr4DxaunSx0s5fSGeV0z18QGKxE6JIh6Z4jx5daP++vdb/RaTDDMInFStTnTr1I5ioCZTcRDssgdbxR4iiLTeuUR5TdIduP09F9/ilP0FAEBAEBAFBQBC4/xEQQtSlNeSXN6fm7HnmMcc5RH2OCyHqhGZ406LqAf6mIrFOKw0/aPnFjRtP2aF8SRNovJ3vXrMGOQjtGWw9f1HVDbQe2oV2Hba5/6GInjRp0loOf3grdsp3Uqlt1x4bdb7GAZIIL2Zx4sTRGlAgArFVEl7mQbZWqVKdWrT02Ofz1QYwOK7GgfP/9dffsLav+yrP6Wj/3Lmziog8pfr8R9vwxDZXjCUcAiywbR9EwZtvvuWlgRTV4wHmIKBPnz6tzC38prfnJ02aLGAs3RxfOHEAqYFtzs89/7w+lwK9HnAuYQsy5LnnnvN5HYGEvHPnH02wgiiJCeLGNehrHpG9P/lq11c65gK7vInUGoB4DIfgI8OxY99QLHUvwz0Q97RgBPcxfBzBufie0gy122kOpq1gyuK6P378OMHcQNJkyYKp6liWP9iY9kNxneAjUuz/7nHYYh6oxIS1DWSsmCO23F9V94Nkr72m76XQVI6pEt3XqBs4RNXzlBtjkzYEAUFAEBAEBAFB4OFAQAhRl9aZSUyn5ux55jHHOUR9jgsh6oRmeNMelgd4EGtwiAKNLmx979PH2xFQIKsAcrdkiSK6aKdO3ZRDDo839kDqShlBQBCIPAJyDUYew4e9BSdC9GHHRObvDgIPy/OUO2hJK4KAICAICAKCgCAQFQgIIeoSqkxiOjVnzzOPOc4h6nNcCFEnNMOb9iA8wG/fvo1279qpgQTZ+d57qSOACgcgbK+vdet2VLFSFa8ys2fP1Bqp0JqqWq0GJUyY0CsfB92VTbtlaqsiZJZyZAPnTyKCgCDgDgJyDbqDo7TiHwEhRP3jI7mhI/AgPE+FPnupKQgIAoKAICAICAIxAQEhRF1aBSYxnZqz55nHHOcQ9TkuhKgTmuFNexAe4E+c+FY5ZKqg7WXCvmLTpi3o/fczaK/B8EYM+3Cwf4et9C+9lIQWLV6mtn8/7gX8/PlzqU/vz3QayjRr3pJSpnxH26yDVho81cP+KCRUDVNdWX4EAUHAEQG5Bh1hkUSXERBC1GVApTkLgQfhecqajEQEAUFAEBAEBAFB4L5EQAhRl5aNSUyn5ux55jHHOUR9jgsh6oRmeNMelAd4OFLqo5zH+PKKDpRhG3HAgCGUOUtWR9C7KI/PTHo6FlCJL7/8Ck2YMJleSJzYVxFJFwQEgRARkGswROCkWsAICCEaMFRSMEgEHpTnqSCnLcUFAUFAEBAEBAFBIAYhIISoS4vBJKZTc/Y885jjHKI+x4UQdUIzvGkP0gM8NEUHDeynvIIfVMToHQtYeETO9MEH1KlTV60hamU4RDZv2kgjRg6j04ZndRSD5mnJkqW19mm4nBs5DFeSBIEHDgG5Bh+4JY1RE8qbJ4d20Fa6TFnq2LFLjBqbDOb+RiDcz1N4/rl586ZyJpmOipcoeX+D+YCPfsGCedrRXsJEiahhwyYP+GwfrOl9/fVXtOs/M12lS5fRzl8frBkGNhu3cYDDxnFjR+nOi5copZ3iBjaSu6XWrFmlnbDCMWLNmrXvZkgsShAI9hzYvXsX4V39pwvn9a5Nc1DlK1Skkyd/kPUzQYlEXAjRSIBnVmUS00zjuD3PPOY4h6jDcSFEGcGYE4b7AT4qkLhz5w6dPXuGLqgbbuLEL+qt88F4DcaYbt26RT/+eJKu/fYbvaq8mr/44os+PXRHxRykTUHgYUdArsGH/QyQ+QsC9xcCbj9PYcdLsWKFNAjly31C1arX9AsIaz8XL16Suvfo6bdsVGYGO+6oHEtMbbtNmxa0ccN6SpbsNWXGaXlMHeZDM65pUyfTnLmz9HyXLl1F/t4Zpk+fSkMGexyzTp8xh1KlevehwcmcaCA4fHnoIHXs1E5X69mzL6VP/77ZhFf8+++/o3JlS+m0Hp/2Uve+El75gRw0b9aYtm7dQk88EYd27toXSBUpEwkEAjkH0Pyvv/5KbVo3p0PqfPAlQ4aOoMWLFsr6+QIoyHQhRIMEzFdxJjGd8u155jHHOUR9jgsh6oRmeNPcfoAP72ykd0FAEBAEBAFBQBAQBKIfAbefp/BxN1PGtHoiNZS2U5Mmzf1OKqYQosGO2++kHtBMIURj1sKOGjmcJk0arwe1e89B5WfgMZ8DDJQE8tnAA5IRCA7QCGzYoI6e8ahR43yaLEMBIUTvvxMjkHMAs2rfvg2tW7vammDy5Cm0CTorQUVq1a5LE8aPFULUBCUScSFEIwGeWZVJTDON4/Y885jjHKIOx4UQZQRjTuj2A3zMmZmMRBAQBAQBQUAQEAQEgehBwO3nqWCJRSFEo2ed3ehFCFE3UHSvDSFEg8cyEDJMCNHgcb2fagRyDsCMS7asmfS0XnghMY0eM55ee+11x2mKhq8jLCElCiEaEmwRKzGJGTHnLsHJeWZZjnOIMhwXQpQRizmh2w/wMWdmMhJBQBAQBAQBQUAQEASiBwG3n6eEEI2edQtHL0KIhgN1330GQ4h+9dWXtHPndt1YmTLl6Pnnn/fd8AOcEwgO0U2Irl61kk6d/pFix4pNtevUe4DRjxlTC+QcOH7sGFWsWFYPuFLlqtSqVVufg5f18wlN0BlCiAYNmXMFJjGdcu155jHHOUR9jgsh6oRmeNPcfoAP72ykd0FAEBAEBAFBQBAQBKIfAbefp4QQjf41jK4ehRCNLqQD6ycYQjSwFqUUEIhuQlRQj3kImOfAsGGjKHuOnDFvkA/giIQQdWlRmcR0as6eZx5znEPU57gQok5ohjfN7Qf48M5GehcEBAFBQBAQBAQBQSD6EXD7ecotQvSXX36hp556yq+jGF9owRnG008/TY8++qivIhHSgx13hAb8JNy8cYOuKmeXL730Ej3yyCN+SkbMCmUuEVsh+u23qwrPpyPlaNMXIYox3r79l3YI6tS3v7S///6bfvrpgsImCcWKFctf0aDy8A534fx5evbZZyluvHhB1Q2l8I0b1+m3q2qNkyQJeo3//fdfunr1KiVMmDCormMiIRpV6xkUMJEsbJJhodoQxZr++usvak0TBX0+BDp8N65ps68///xTO/bFPQoaxPHiPWlmBxTHfRTOgbHN/PHHHw+ojlnoypWfNV7ALViJzH3W3lcw54C97r2Of/nlii4Syhzv1fb9ni+EqEsryCSmU3P2PPOY4xyiPseFEHVCM7xpbj/Ah3c20rsgIAgIAoKAICAICALRj4Abz1MjRwyjLVs2WYM/efIHHX/mmWcpQYIEVjoiJUqWpipVqllppg3Rbt0/o4kTx9GM6dPojz9+VwRZbEr22mtUUzlnKlSosFXHKYKX8MGDBhC2Q+KFEx63P/ggM7Vr34kuXvyJ+vT+TFeDJ2j2sB2ZcTuNwUzDO8SUKZNo5YrldOrUjwSCJN6TT9Lbb6WkevUaUIaMHvt0Zh2OhzIX1D1z5jS1bNFUN9O4STNKnTotTZ8+hbZt/YKwJnHixKW3336bWrRsQ++++x53F3BoJ0SXL1tCo0ePpEuXLuo28IKfNWs2at2mPT2p5upPUHf27JnKKc33dOfO33q94LSkStXq91xrf+2ePnWKBg7sR19//ZU+h0DuvPpqUsqSJRs1adpcefJ+IkL1mjWq0O+//0658+SlRo2a0hdfbKZFCxfQ6dOntKfp/6P/o0f/9yht+WKHV12Qf6NHj6DNmzbS2bNn9Hsj1vidd1JRixatFdYpvcrbD/bt3UPjlUOWY8eOEmwWxlPEbfHipahR46a0YME8WrZ0sa6yYOFSHV66dIkaNaxrNQMiGqQYBPYN7WT7rNnzlKMlDym1YcM6GjtmlC47fMRoTUDjoGGDunT58iXd96TPp/kkpQ8dOkC9en6q62P7cOYsWXWcf9xaT6xD7VrV9PWSRZ1LLdW56iQVPylLZ8+dpRTqnPl88nSnItShQxv67sQJSps2HXXu0l2X8YVDg/p16OefL+syt27d0iQ9Dl588SV13cTR6fzTqXNXSpfO43ne7lQpR45cNEidf2vWrNbnddy4cSllylTUqnVbn+fDsGGD9TX67LMJaMLEydyNDqP6mkYn27ZtpfHjRtPRo0e8+sY5VaZMWSpfoWKEj0vmuFq0bE3J30hBgwb1p82bN9E//9xR5WPRm2++SXXVvS5nztxe7doPcL8eMKAfHTywj65c8ZCFiRI9RxnVPRL3EnzU8CWh3GfdOAfMa8vf+vG48cFk0MABtGvXDut++dxzz9N7qVPr7fg4z0SIhBB16SxgEtOpOXueecxxDlGf40KIOqEZ3jQ3HuDDOwPpXRAQBAQBQUAQEAQEgfAi4MbzVNcuHWnFimUBTaRatZrUrHlLq6xJiL6otATHjfWQNlaB/yIVPqlEbdt2sCfr4717d1O7tq3o2rVrEfJB0tWpW5/69ump88ZPmEwZMmTU8ciMO0JHRgJInU4d29GOHduM1LtRaK42btyMqlWveTfxv1ioc0F1k5zp1KkbLVu+hA4rYtAuICu6du1OxYqXtGf5PTYJ0YKKoPa1Vq+88ioNGTqCXn/9jQjt3b59m3orcprJvggFVELp0h9Th45dIpAwTmXNtPXr11KP7l00uWimcxyE67DhozTJxWkIzXMwlSKKmTw3y2DN9u2/iyXIyTatm9ORI4fNYlYcHt9xvpZWhJKTTJs2hUYMH6LIo38iZKdPn0GTZ7NmeYi+g4c8RNV5pfFarGjBCOV9Jezctd8igBctWkA9P+uuiy5esoKSJk2m42PGjNResnEwcNBQypMnn063/+B8Xr16JcWP/xStW7/Z0v6LivWspQjRQwcPKFI9Pm3ctDWClrh5nmOcS5etIpxzpoBkK1ggjyZW23foTOXKVdDZvnAoXDg/XfzpJ7MJn/HhI8ZQtmzZdb45lq7dPlVE6Crau2d3hLr4QPPpZ72pYMGPIuQxtiABga0pZvtRcU3Pmzub+vbtZXYZIZ4tWw4aMHCIteYoYI6ruSL/Z8+aYRF9ZgMg6WvUqE34QOMkB9U6t2/XyiJC7WWef/4F6td/EKVJk9aepT9ihHKfdeMc2LX7gIWHv/XDoIFVq5bN9EeTCJNQCdDcxxw/+OBDp+yHKk0IUZeWm0lMp+bseeYxxzlEfY4LIeqEZnjT3HiAD+8MpHdBQBAQBAQBQUAQEATCi4Abz1PQMDr5w/d6Iv8oTciRI4bqeIYMmbTGoDlDEE5MSCKdyaiXX3lFb3EuXLgo5ciZi6BZdejQQZo2dTJBEw8CTTBoe5kCzZtiRT+yNOUKFymmNJJyaRJl186dStNuriZxfv/dQ5aahGhkxm2OwR7v3LkDrVq5XCdnUi+5H39cjhIpYvagmg8ICGjkQcaP/9xLUzQyc0F7JkkBcuWP639QdUVAQwvprz//0lq8y5cvRVGNydJlKwlavIEKE6JYG2yvxbbYGkp79+233lbbZC/QkiWLlP3Fnbq5d955l6bPmB1BaxFas8OHDdFlQHJXUNpniRO/SOfPn6NJE8fTqlUrdF7bdh11XqBjgxZu2Y9Lae20x5UWaF1FgoNYxHb8LUprbd26NbopnJPjxk/yGhefg9CIO3PmjDIr8IjW6sO2YZhtgDzyv/9Rp05ddRw/jRvXp507tmvNSpDbefLm05hC2xOaykePHtHmCWbNnq805d6y6iECLeYa1SvrNBCnVapUp7Tp0qlz+Dc9/107d2iShM9ZJkSvX79OC5XmKAucJO3bt1cfYgwgbU2prDSxOc0XCXTp4kUqqkhWELPZs+fUhLHZBuJ//PEHFcifi/766y8qX/4TrXXNZaJiPU2SbsTIMeoe4iEfuc8xY+6SuEhr3KS51iLnfITz58/VxDbmv2btJsscgS8coJF7Q+ELgfbj4sULdbxkyTKKPE6q4/yTL18BSvLyy/rQvOagiQxt6arVaijt7DQar00bN1jnNDRAQd7ataf9EWpm+25f0zBLUqhgHr32b7yRnOrVb/if5uv/0QmlWTv584m0f7/n/ILmdK3ad7WTzXFBKxrYFS9RivIqQj1+/Ph06MuDNHHCeLp166bGaeiwkQTtWVOwxb148cLatADu/61bt9P9Q5se9xFo2l5RGqO4zyxZutIiILmNUO+zbpwD5rXlb/3wv6tMmeJ07uxZPeyPy5bXHx2gRbt3zx6aO3eWMjdyW9+HFy1eFtT9mHF4kEIhRF1aTSYxnZqz55nHHOcQ9TkuhKgTmuFNc+MBPrwzkN4FAUFAEBAEBAFBQBAILwJuP08Fa4uTySiggC3N0CYyZceObdSkcQOdBGIEBIkpo0YN10Qa0ho2bBLBSzNIuk973CWyTELUbCfYcZt1zfiRw19TtWqV9DtErlx5tGYVk1IoBxKiRo3K+gX5PUWaTJ0606oe2bmYJMX/FIE3ddosyzwAd4Jt0+PHezB0wovLOYVMiCIP5A+2WJt2L0FkdO3aySKDe/bsS4WLFLWawvbuYsU+0uRJ2bIVlBZoZyuPI82bN6atX2yhp595hpYtW63JFc7zF+IcwbkC7deJk6ZE0CibPn0qDRk8QDdhtwtpnoMgBTt17ubXC7tpX7Bfv0GUv0BBr6GBQCxfrrQ21QBCfOzYiV75tWpW1WQ/zoux4ybR++9nsPKBIbRcmbhGBhOiVqH/IsHYEPVFAqEpxhzjWblqfYS5z5s3x9KwnjN3oUXwRtV6mkQdTGx0U5qXppQuVUyboYCJgRuKVHtLEfKz5ywwi1D9+rW1pia2XY9THx5Y/OHAZcz1tZ8rXIZD85qDNiQ+2ti1GbGleuoUzxiaNWsZQTPcH6Fmtu/2NY3t7a1aekxsjBo9njJnzsLT0iHORRDFV5Vphqeefpo+UR8wWMxxIa1581aaCOZ8hMePH1P3uirqY8yflEx9bJg/f7FF0COfz198YMF59fLLryDZEtxLUR9kvf1eFZn7rNvngL/1w7pj/SFOGB1Wc6xVs5o2r4CPS00Uuf8wixCiLq0+k5hOzdnzzGOOc4j6HBdC1AnN8Ka5/QAf3tlI74KAICAICAKCgCAgCEQ/Am4/TwVLLDIZlSBBQlq1er2yefhYBBCqVa1IeHGEJiHKmFIgf26lRfSz1iJavmKNow3ESpXK07FvjupqUU2Itm/fhtatXa1f/LE12f6Sj0FAA+3cubP0iPr7UJEQbPsxsnMxSYr8+QvqbZgmVojDPmKePNk1SVGw0EfUp4+HJLSXczo2CdFevfvRRx8ViVAMZBY0DkGCQBtz/IS7ZNQsta124IC+ug7WEetpF9j+rK4IZUiPHj0D2tYP7VCQZJBixUoQ7MTaBeTOnt27lDXQ/9Pbq80t1nwOPq1In2XL19yThMX2182bN+q1XbZ8tb0rffy50q5jTekVK9daNjtPnz5FpUp6SOICBQpR334DI9SHbdAiRQpoDJEZ1YQoNKWbNW2oxwFN05q16niNqVLFcsrO6Tfa7uy06bOtvKhaT3TAhCaI8Q0bvrCIND7HQd5Ci5jNG0CDECQ95Nq13yhf3lxaW7iTMh1R5uO7ZgvcJsN4POgXH0AGDxmOqJeAIM+fL6fWBCxStDh9prbOm+KPUDPbd/ua3rHj7scm2BU2bTub43OKm+OC+YWFi5Y5OmwbrD5CzFAfIyATJk7xIv9z5sii7fw6kd7cZ6OG9bTdTdjYXLlqHSdTZO6zbp8D/tYvf75c2qY1NGCXLFnpiBHI3d+VzWxsnQ/FtrMFygMQEULUpUVkEtOpOXueecxxDlGf40KIOqEZ3jS3H+DDOxvpXRAQBAQBQUAQEAQEgehHwO3nqVAJUSdNOkajV69P9VZhEIe7du+3HMWA3MuaxWMP1J+N0RkzpuptzGgvqgnRckoz8PvvTigtsXQ0eYrHBiTPw1/oxlxMksJpGzH3X/bjkvSDMnHwjtrWPmPmHE6+Z8iEKLQwd+85YJFU9oqscQj7f2vWbrSy+/TuqbTE5ii7lnGoVKkyVroZ+ff//tVmBfAOVrNmHZ+2B806mzZtoNatPJpVo8dMoA8/zGxm3zPOhKi/c9BspEzp4vTjjye1Hc4sylmTk1y6fJGwXRpiat9t376NmjbxaDz7s9nJGKJ+VBOiIIuLFS2kzQuAuFm6dJVF0n/77XH6pMLHGAZ16drDa92iaj3Rl0lajVEatmxfkbfLf/hhFm2nNk/u7Hpbtrmle6lyRgUtW5Cm69Zv8XLKY7Zr2lJFnyyhaojatRi5PYSs1WrXCkeeP0ItKq9paPgWKVxQ4wes0itN5Zw5ctGriuB8WZkEANHJH2swTlPMcdWr11BvtzfzOX782DGqWNFDSJvnD0j/fHlz6GLQ4k2e/E2u4hUePvyVttML7didu/ZZ9/5Q77No3O1zwNf6XVM2rXPnyqrnU6tWXe0szWtychABASFEI0ASWgKTmE617XnmMcc5RH2OCyHqhGZ409x+gA/vbKR3QUAQEAQEAUFAEBAEoh8Bt5+nQiVEnTSnGI1x48ZYDnw2bNxqea43X8rh+bpS5apcxSuEF/BWrTxOPaKSEAWxlCVzBq0JBlumPXv28RqHvwM35mK24U+7sl69WgQP57CZCc2uQIUJUWi9+tKMRFuw/Tdz5nRNpuzYuc9y7ANP3nv27Aq0O4Ktxv4DPNtN/VX6fNIEGjlymC6CcTlp5fqrz4SoL+1Ssy7WOPOH71t2bc08X/H27TtROWV7EzJnzizq38+jIQj7or480Q/o35dmz56h60Q1IYpOYL8VJhsg5jXST411rhoztqevXbdZ2/bVhdRPVK0n2je1PGF3saNysgVhYhEOjEqq7fTwJL9WeXSHnVZsu4Y0bdKQtm/fqkjUzDRm7ASdxj9uk2HmNdet+2dUQtnRdJK6dWpqe5xO15wvQg3tmO1HxTW9Vmmzd+ncUW/Zto8bGouZMn1ADRs1oWTJXvPKNscFZ1FFleark8DubY7sHmdBcCIHkwGQL788RDXVdvhgZP6CJQRbp5G5z6I/t88BX+tn2grm8zWY+T6MZYUQdWnVmcR0as6eZx5znEPU57gQok5ohjfN7Qf48M5GehcEBAFBQBAQBAQBQSD6EXD7eSpUQrS48njeXW2RdpKJE8bR6NEjdJZJiB49eoSqVK6g001P0vY2TK08k+wxywU7brMux9FG5g8z6K26cDDSXREkgYobczFJCmwbB8HnJLwd2YmccSrPaUyIghxZtNjjNIrzzHDYUGUzcernOmnrtt2WE5k6tWvQgQP7lI3KF6hyFWfy2mznhecTR7DPaeZzfNzY0TRu3Gh96GsrPpd1CpkQ9XcOcj1zjdOnz0C5cufmLJ9h6tRptZMdFICTsKFDB+myCxYupddff8OxnolhdBCi8MpeqGA+fe7yxwk4e4EZBzh3Kl2mLHVWtlVNiar15D7YLmzChIkUGbuJTp78gcqVLaXMYsSm9RuUnVll4sC0gwmNT5TNq0xCwJmNqZHIbbpNhrlxzfki1DBmN9rnufsKT586pbTZJ9GB/fu0czN7OeAN282spYt8c1x9+g6gggU/slfTx3C+ho9EkEqVqlCr1u10fL/qq26dGjqOe2Xy5Ml13N9P/vyFlGmUFxR5G/p9Fu27fQ74Wj9zjv5IY39zftjyhBB1acWZxHRqzp5nHnOcQ9TnuBCiTmiGN83tB/jwzkZ6FwQEAUFAEBAEBAFBIPoRcPt5KlhiMRAyyhcham5JNLWP7CiaXqujkhBFv6zBZrefaR+T/diNuZgkRVQSorDzumv3AZ/baZk4hVftjZu2WlNl0wfQNgRR6ms7rlUhwAi03Doo260Qu53CQJoI5Bw02+E19uWV3Sxrj28ytvc7eVDn8m3btFS2Mz02E6ODEEW/3OfjTzxB69VWc9iYZFxnzJyrTCyk4uHpMKrWkztZvnwpdVNOuiATJ03V2sUTxo/VXufZudrt238pAjSHdq6ELesvvZREEbft1Xb5WLRhI0jTZ7g5HbpNhrlxzfki1DBgN9r3AuAeB7B3evHiT8rsx3fq2l1PX2zZokly4ApbuCzmuExzBZzPoVnO/GgFAh72NSHNW7SmqlWr63igP3wNBnufRftunwO+1s+cY736jahePY+pjEDn+DCWE0LUpVVnEtOpOXueecxxDlGf40KIOqEZ3jS3H+DDOxvpXRAQBAQBQUAQEAQEgehHwO3nKWxnzJQxrd7W6MuTuDnLQMgoX4Qo2mHHHNh6jC3ITmLaY/RFiAY7bqd+kNayRVPasmWTtpMJJyDPPvtshKI3lWdsEA+Q55XGExODkZ2LST5EJSGKcfvyvn3jxnUqWqSg2vJ8LYId1VlqG/1AtZ0e8rnyUJ82XXodj+yPaeeyatUaimBp5djkpUuX8HJH8Z580tJaRcFAzkGzQV5jbCleuWqt2k7+pJntN37ixLdUoXwZXQYmHmDqwS5//fWXsu1YgH799Red5YsQNTVjTc1pe3s4DoQE2rt3N9WvV1tX79ipK23csF6TkE5e3FEoqtZTD0D9XL9+XduZhKbqJ59U1s514EDLfm537tyBVq1cTslTvEmvKHMOcHiVOUtWfY5yWxwGgoOp2dev3yC/WspuXHO+CDWM2Y32ee6hhIwt6kJL97nnntfNmONKlepdmj7D2Raxee+22/fNkT2zWuM/KFDbveb4+RqEPeJg77OBnAPB2JH1t348x3f82Gu+evUq3VbXfKzYsZWGc0Jzmg9dXAhRl5acSUyn5ux55jHHOUR9jgsh6oRmeNPcfoAP72ykd0FAEBAEBAFBQBAQBKIfgah4ngIhduHCebUNMgXNnbfIIvycZhcIGWW+VNuJn65dOtKKFR47mIMGD1fkVh6vbkyv5cjwRYgiL5hxo7yTbNv6hbKT10hnla9QkdopT9imgAitWuUTgrfxZMqG5yLDhmdk52KSFHbSyBxDZLfMoy14Q544aYrl5ITbN7d6t1bbYyuqbbIs0JgqWaKI1ubDNnLUjxUrFmfr8Pz58zRMbSm//fdtglftIsoW670E72vA9OjRIxQnTlxasHAJwSu1KfPmzaG+fTwmGfr2HUgFChaysgM5B63CKmJ6Za9SpTq1aNnazNbxXTt3qHPf45G9vtIOY1uh0KAuXboYnTt7VtvjXLhoud4GbDYwefJEGjF8qJXkixA1NSj79VfEncLLlwRCAgHHUiWL0pkzpwnOlc6fO6ffhU3NPrP9qFpPsw8mvuLGjUs3b96k2Io02rhpmxehbV5z2N59587f5MueZyA4/PTTBU1IYxzlylUgzN+XuHHN+SPU3Gjf19inqG3y+/bu1c6nmjZroe/X9rLmvXfpslX0yiuv6iLmuJDgtG3+8uXL2sQBTC6ASF2ydKW6PuNYXQwdMoimTZusj4cNG0XZc+S08jgyXXmoh5kN3Cd69+5n3W/MNQ/2PhvIOeAWITpk8ECaPn2Kns6AgUMob978PDUdHjv2jXIeV5X+UqYFTFu5XoUeogMhRF1abCYxnZqz55nHHOcQ9TkuhKgTmuFNi4oH+PDOSHoXBAQBQUAQEAQEAUEgehGIiuep9u1a07p1a/RE4EE4Z648lqYkbCZC44wlEDLKfCm3E6IgL0DiQIsMW7lhoy6H8pQM4mTXrh2aBIM9QeRD/BGiwYybx+8UNm5cn3bu2K6z8JJbQRGjiRI9p17s99MM5fH+0MEDOq+XesH/6KMiVhORnYtJUkQlIQqPz9CoBanZrHkLtZ4pNQE+f95c7UUeEwJxAhuZWAdTTLIP9Zs3b0lvqvMB5NqRw4dpyJCBdOXKz3ot4SQnmc2Zi9mWGT98+GuqXq2SfncD+dKxUxdKnz6D3v4LBzujR43UW3/hlGX2nAVeRGwg56DZF+KNGtUjkJ6QUqXKUIVPKuk5n/rxR61VOWrUCE3MvfpqUo2DSfyuW7uG2rf3kKiJE7+oHAN11tqy8PoNch/bwnEu8znrixD94YfvNeGE91VovX78cTl6LdnrFPsxD+aw64i1ggRCAqHctGlTaKhaAxZo4K1bv9mLgOQ8hFG1ntzHmjWrqGOHu1q0OXLmUjZYR3K2DnF958ubU2ld/66PQYpu2PgFPfXUU17lcBAIDji3CxXMq89D4AdSHt7h48WLp9vLkCGjo6ZkqNdcuAjRg+o+BDuemO+TT8ZX52Qn5Wn+fcI5CU3vr7/6Sjmzaqu1vZ9+5hnapIho1mY37zXA6JFH/qe8qDdR2+AL0pPx49OhQwfUvbcXXb6stLKVdO/ek4qXKKnj/IM+ShQvojWhcZ9o0rS58sqeV/+vOHb8GK1csZyWLFmoizs5PAv1PhvIOeAWIYo5lixRVN/fMMcWLdtQnjz5FOb/0N49e2jMmJF06dJFgpmK+fMXB+0QjrF8UEIhRF1aSSYxnZqz55nHHOcQ9TkuhKgTmuFNi4oH+PDOSHoXBAQBQUAQEAQEAUEgehGIiucpaJaVK1eabt26GWEy1aopT8OKBGMJhIzyR4iiHXjBHjCgr36x53Y5hOOVOnUb0ECVD/FHiAYzbm7fKQSx2axZY2WH74RTtk4rWbIMde3WI0J+ZOZikhShkjMRBmQksG1QkJTJk6ewbFwaRXQUmENbN3369+1ZmuTrquxCrlN2P30JCJbOXbprL+K+yjilg8wbMXyIIj7/ccqmBAkSaucwKVO+45UfyDnoVUEdYI2hvYjt+r4EJNOEiZO9PgCgLN4vOyiSzxcG0L7FNuS5cz0apr4IUbTVu/dntGD+XEQjyM5d+5Xphid0eiAkEAqClAUZyGTsvRxNoVxUrSfGc+vWLW0j9M8/b+GQevVSHxEK3/2IoBPVT/dunWnZsiX6MFu2HDR8xGjO8goDxcEkrb0aUAfDR4yhbNmy62Q3rrlwEaKYwMwZ02jw4AEW54G0+PGf0oQoiFKW3n36U6FChfnQays/nCUtWDCPYOrBSQoUKESoz+S8WQZmGtq3a6PPOzPdjONeM2XKDIr7HyHNeaHeZwM5B9wiRDFWzLFd21aaWOaxmyEI/E6du1IJ5VzqYRchRF06A5jEdGrOnmcec5xD1Oe4EKJOaIY3LSoe4MM7I+ldEBAEBAFBQBAQBASB6EUgqp6nsGV+9OiRdPTIYeW5+LzWlsPMooIQRbt79uymHj260MWffsKhFnhRh/bdLbUdsVnThjrNHyGKAoGOWzfm5wfkwID+fWjVqpXEZA6KQ/uqTt36WqvQV/VQ5+IGOeNrTEg3CVGYQhg9egTNnjXDIs+gPZY2bTr6rGcf7dzGX1uLFs6nsWNHKS28K1Yx1E+ZMhV16NhZE4JWRhAR2H/s1bOHNknA1R5//HHKmPEDTUBDU9cuoRCiaAMOfbAlFlqdN5RdWBYQHLly5aa27TpozWBOt4fYDjx+/Bi6oWxlQuAIKHWaNNSv30CaMX2atZ3YHyGKd9WlSxfT4sUL6eyZM17EUiiEKMbRuVN7dd6uQFR5H5+hbMGm1XF/P1G1nugTZNL69WsJ67hx49YIxBjK7Ny5nRo3qo9oBBujOvG/n0DIMC4PLceJE8fTjydPai0+5gUeJEIUc4WpicGD+iutzoM8dSuEhnPDhk28TEwg07zXYLs8SEtcdzBRwkQqPgjUr9/Qy2yG1bARwdZ63Lv379tL0PZlgZmETypWpjp16muNaU43w1Dus4GcA24SohgvHFXBQRi0cvmDDQhi4AZ7vamVBrIIkRCiLp0FfLNyas6eZx5znEPU57gQok5ohjctqh7gwzsr6V0QEAQEAUFAEBAEBIHoQ+BBe57CyzW2EqdIkcIvGRVdCIMcOHnyB/r555+1pmCCBAkC7jqmzcVp4NgS+sMPP2gbeO+kShWUgyG0h63yJ779lp5SWqUwp2DaGHTqL9C0a9d+o2PHjimt0ASEbfKPPvpooFWDLof3xbNnzyjbm2cUEfwSgUQyt8j7axB14SgIa/2e0gy1a8H5qxtVeTBZcOrUKa3R56Tl66/fqFhP7YRMkcbA1JfTGVxnuMYgKBMo/v7m8rDlAefTyn4sbMjGjRtPn8v4qOSk2WknRGGeAQIbySBYEydOTEmTJrO22AeCJchQ3Luv/vorJXvtNf3xCB9JApHI3GcDad+tMn+qj3PHlTkARTLRW8oRoFv3O7fGF+52hBB1aQWYxHRqzp5nHnOcQ9TnuBCiTmiGN+1Be4APL5rSuyAgCAgCgoAgIAg8jAjI89TDuOoyZ0FAEBAEQkfAFyEaeotSUxAQDVHXzgEmMZ0atOeZxxznEPU5LoSoE5rhTZMH+PDiL70LAoKAICAICAKCwP2PgDxP3f9rKDMQBAQBQSA6ERBCNDrRfnj6Eg1Rl9aaSUyn5ux55jHHOUR9jgsh6oRmeNPkAT68+EvvgoAgIAgIAoKAIHD/IyDPU/f/GsoMBAFBQBCITgSEEI1OtB+evoQQdWmtmcR0as6eZx5znEPU57gQok5ohjdNHuDDi7/0LggIAoKAICAICAL3PwLyPHX/r6HMQBAQBASB6ERACNHoRPvh6UsIUZfWmklMp+bseeYxxzlEfY4LIeqEZnjT5AE+vPhL74KAICAICAKCgCBw/yMgz1P3/xrKDAQBQUAQiE4EQIhWKF9Gd9m7d/8IXuijcyzS14ODgBCiLq0lk5hOzdnzzGOOc4j6HBdC1AnN8KY9jA/wFy6cp0kTx2vgy3xcjt55J1V4F0F6dxWBr7/+inbt2qnbLF26DD333POuti+NCQKCgCAgCAgCdgQexucpOwZyLAgIAoKAICAICALhRUAIUZfwZxLTqTl7nnnMcQ5Rn+NCiDqhGd60h/EB/ujRI1SlcgUNfL9+gyh/gYLhXQTp/Z4ITJs6mebMnaXLLV26imLHju2zzvTpU2nI4AE6f/qMOZQq1bs+y0qGICAICAKCgCDgBgIP4/OUG7hJG4KAICAICAKCgCDgHgJCiLqEJZOYTs3Z88xjjnOI+hwXQtQJzfCmPYwP8EKIhvecC6X3USOH06RJHq3e3XsO0mOPPeazGSFEfUIjGYKAICAICAL/z955QFdVbGF4A5EOEaULCljARieI7dkIkSYQeicIhN5LIDSlhy5SQu8dpEvvAZSOPhQbLfQuiZTge7PnMteTk5OQm0xy7jX/uNadPX3mmxPW+K8pSUQgJa6nkgglqgUBEAABEAABEEggAQiiCQRnLqZETHM8h81pxrCylW/MD0HUiqa9cSlxAQ9B1N5vLiGtQxBNCDWUAQEQAAEQSC4CKXE9lVxs0Q4IgAAIgAAIgED8CEAQjR+nJ+YyCprmzOY0Y1jZyueyyoYgaiZpfzglLuAhiNr/3bnaA1cE0WPHjlJY2B7ZhL9/bcqZE3eIusob+UEABEAABFwjkBLXU64RQm4QAAEQAAEQAIGkJgBBVBNhJWJaVWdOM4aVrXwur2wIolY07Y1LiQt4CKL2fnMJad0VQTQh9aMMCIAACIAACCSGQEpcTyWGF8qCAAiAAAiAAAjoJwBBVBNTJWJaVWdOM4aVrXwur2wIolY07Y1LygX833//TTdv3qRnn302UYPk7+f27Vv09NPZXK4nKiqKLl26SHnzPkepU6eW5XUKopEREXTz1i1Rf15KlSqVS/1jNvw4UObMmV0qZ8z84MEDevjwAWXKlPA6jPXFx3748CFdvHhBMvXy8opPkRh5XO13Ugqijx49oqtXr4idpLmc30iMDj8hIqHf6L179+jChXD57fBO1uScxycMCckgAAIgAAIuEEjK9ZQL3UBWEAABEAABEACBFEwAgqimyVciplV15jRjWNnK5/LKhiBqRdPeuKRYwH//3QEKDZ1MJ0/+SJGRkULkyURVq1antu060LJlS2j1qpVy0MuWr4o2+A0b1tH0aY6HcyZNnkrXr1+nJYsX0Z49O+natWtSEPXxKUvduvek7NlzRCtrDhw9cpjGjh1NP/98ku7fv0/eTz9NPmXKUqfOXenGjRuJemWev+dZs6bTurVr6PTpP4iF30xC1CxS+FVq1ao1lS7jY+6OM8xC4tgxo+j48WN0+fIlKYQ9ly8flS7lQx07dSFvb29nXqMxauRw2rcvTIp2EyeF0vZtW2nt2tW0f/8++uuvSClO+lbwo8DAtjEeHGrTuiVduXJZzsP0GXMoNhHzyJFDNHjQF7LZrl17ULm33zF2gdas/oYWLpxPv/76K0VFPZRi7ksvvUyNGjclP7+K0fKqQEL7ffnyZWrbpqWqRs7ZrVs3ZbhgwUIxxOcFC5eIcaeT6Vu2bKLJk76W9vivJko2zooMxpIli2jtmlX0yy+n5DeSMWNGKly4CNVv0Ig+/ri8Iec/pq5vdPfuXRQ6ZSKxOG90PDZ//1pUp259SpMmjTEJNgiAAAiAgBsTSIr1lBsPF10DARAAARAAARBwQwIQRDVNihIxraozpxnDylY+l1c2BFErmvbG6V7Az5kzi74aP4Z4153ZlSxZmooUeZUWLJgrkw4fiS4GLV60gIYPHyLTQkNnUPceXei22H1pdixuTpkynV55pbA5SYYXzJ9LY4To+OhRVIz0AgUKUhch9nVo31qmDR8+isr7VoiRL7aIO3fuUJ/ePWnv3t2WWVjEateuIzVpGhAjfdeuHdSvbx+6c+d2jDSOyJ0njxj/KHrzzaIx0rt370xbt2yW4l7Xbj2pW9eOzr8rY2ZmMnPWPMqQIYMzetKkCTRVCNTsRo4aSx999IkzzWjwuFjwy5IlK23avJ3SpXMIjLybc8iQL51CtrGMsmvUqElBvfvGEPES2u/w8HCqUjn+8xK27yClT59edmfFimU06MsB0l75zVp64YUC0lY/ERF3qX//YNq2dYuKiuHXqVNPfie8g9fodHyjSxYvpGHDBhurjWG/++77FDJyjHMOYmRABAiAAAiAgFsR0L2ecqvBoTMgAAIgAAIgAAIeQQCCqKZpUiKmVXXmNGNY2crn8sqGIGpF0944nQt4fsymWdOGckBp06alRo2aUvESJeiWEDXXr19L+8L2Utas3k5BMC5BlHeAej3lRU0aN6NChV6kK+JI83Kxu/To0SOy/hIlShLvdjQ73nHXuFE9+c2lSeNFTZsFUFmft+ihODrPD+2wWJot2zNix+F1WdRVQTQ4OIjWr1sjy/qUfYtq1qxN2Z/NTofFjlQWungnJjsWdI07Rc+ePUO1alYTx9sdOysbN2lGLBA/eHBfcuHdiuz4WoBVq9cLUTKLDKsfJSzyblv+eypS5DWqVr0G5RLHvP/443eaOXO63HHK+Zt/3pLatu2gitLlS5eoshAXWaR+773/0Ljxjt2TzgzC+PPPP8m3/AdypySLgT179XEm827Y8ePGyHDdeg2orti9mDt3HgoPPy939PLcsuvRs7dMk4HHPwnt9927d+V8q7p47r7//jsZZMGZhWeja9ioiTPuSYLoACGGrha7XdkVLVqcWMzN/3x+ufOVv48zZ07LNGbILI3OKIgm5BvlXc9+FT6Sc/Hiiy9Rq8A2VKJEKdHE/+jUqVM0c8Y0OnjQMU6r9o19gQ0CIAACIOA+BHSup9xnVOgJCIAACIAACICAJxGAIKpptpSIaVWdOc0YVrbyubyyIYha0bQ3TucCvnlAYzoihEEWqyaLHZylSpV2Do6PlQ8c0JfWiCPKysUliLLgtnjJimjCINfRunUL4iP57GYIQbS4EEaNrnnzJnTk8CF5pHrChMkxjn1v2vgt9erVzVnEFUH0hxPHqUmTBvJ7/uCDj+QOPqMwx2JXs2YN6fy5c/Rm0WI0e/Z8ZzsdO7Sl3bt3CjZeNCV0uhBDWQT7x/FxdN61yK6BOLLNu0CNTgmLHPfhhx/LttWdqBzHx8mrV68id9Tyzs7dew5EOxrfqVM72rVzh5ybdes3x3h5nQXZYUMHcVW0aPFy5+5brrdKlU8pQgiUtWrVFbtAHX2UGR//qLp55+7q1RuizVli+63aceUO0bgEUaNg/v77H9CIkNHRrhjgHcCtWgaIqxZ+ErtsM9I3q9ZSjhz/vFJvFEQT8o1u376NunZxiNVfTwylcuXeVkOUPn/jfK3ETXGtQ1ZxfUI9IUDDgQAIgAAIuD8Bnesp9x8teggCIAACIAACIOCOBCCIapoVJWJaVWdOM4aVrXwur2wIolY07Y3TtYDnXXXVq1WWg/H19aNhw0fGGBjf3Vmpki/dFw/JsItLEO0VFEy1a9eNUcdBsUuwpRCs2PXp05/8a9Zy5jl37ix9VtVxlyUfC+fj4VaudWALOnBgn0xyRRDt1as7bdq4QYqKfBQ7X778MarnnaDnz5+jVOK/t4TYxQ8tnTkt2FR3sKlcuSp98aXjWgBzYRZbT4i7Rb28nqI9ew9EE+qMwiLfvVqo0Ivm4vLezNDQSTJ+5UpxVLxAAWcevrOyY4c2Msw7LAOat3CmsdGgfm1x5+t/6Y033qQ5cxc60xYsmEcjQ4bJ8PoNm+XOUGfiY4PvQ20q+s5u4MBBVKVqtccpRIntt6pIlyAaFNSdNn7rmMMVK9dQ/vzPqyacPu9kbtu2lQy3aBkoRPh2zjSjIJqQb3Tv3t3Uvp3juobOXbqLXdRNnHXDAAEQAAEQ8FwCutZTnksAPQcBEAABEAABELCbAARRTTOgREyr6sxpxrCylc/llQ1B1IqmvXG6FvB79ux23ssZ1z2VajchjzouQXSW2F1ZVOyyNDvesfjRh+/J6MbiOD0/kqScUWzinX+ffOKrkqL5/BhRv769ZZwrgmjt2jXoV/EAT7FiJcQ9nY57UKNVHEtg27Yt4s7PTjLValegKmYU25YsXUn8YJFySljk3Z98X6bVi/b8mFCP7l1kkXHjJ4rj8e+r4vLhpyqV/eTr8Pny56dVq9Y76+DdkPXq1pR5+/YbKMRbf2e5oUMG0dKli8T9nBmixTszCOPv//0trwvgv/OAgBbUrn1HZ3Ji+60q0iWIqjnko/KzZs9T1cfw+Rvjb+3jT8pTSIjjugDOZJyjhHyjXGelihXkQ1hp0qShkmIX9X/ETtXnxT2n+cTjWnzfqdXcxuggIkAABEAABNyKgK71lFsNCp0BARAAARAAARDwKAIQRDVNlxIxraozpxnDylY+l1c2BFErmvbG6VrALxIPIo14/CDSgoVL5eNJViMLGTFMvFTuEKLiEkTXrtsY6+vgpUsVlQKf+Qg3v4AeMmKobDauPvA9pAHNGsl88RVE+Sjz2+X4zs8HVLFSFRo0yNGO1RjNcTOmT6UJE8bJ6NVrNljuLOXEuARdJSzmyZOX1q3fZG5ChvmV+OYBjh2HVuOaPi2Uvv56vMwbOnUmlS5dRtr8kBULfXw/6cZN24lfW1fOuJtWxcXlswjNYrRyOvrNdekQRHkO33m7jLwn9UlzyPfQ/vDDCeJ7u1ZByAAADmxJREFUPpcuc9w3yv0wCqIJ+Ua5jo1il3Hf4N4UFfWQg9Ec37Hr41OW2rRtT/wAGBwIgAAIgIBnENC1nvKM0aKXIAACIAACIAAC7kgAgqimWVEiplV15jRjWNnK5/LKhiBqRdPeOF0L+DmzZ9LYsaPkYGI70s2J48aOFndrzpD54hJEWfRj8c/KlSldTD5KYxZE586dTWNGh8gi5h2WxnpY6GLBi52VcGjMq+wo8ShTubdKy5frq35WnQYM+FIlPdGfMnkiTZkyUebbsGEL5cqd27LMgQP7qXXg5zJt8ODh9GnFSs58SljMm/c5YiHOyh0V97cGiHtc2VmN6/r1a+JBn0/kGCqJo/tfiqP7LPD6lv9QPnRVw78WBQf3j1Z1i8+b0aFD34s7R3NRw0aOuqNlMAVy5cxN5X0rOGN19Jsr0yGIGufws2o1xJ2tXzj7aTZYMGfhnI/U8yNXyhkF0YR8o6oevkZhpnis6tDB7+XjVCpe+XxtwlcTJlFZ8XAXHAiAAAiAgPsT0LWecv+RoocgAAIgAAIgAALuSgCCqKaZUSKmVXXmNGNY2crn8sqGIGpF0944XQt447FwFnLeecdxrN08Oj7SzUe72ekWRHfs2EZdOjserBk9Zjzxw0dW7ttv11PvoB4yyUo4tCrDcTXEo0WnT/8hdlb6UOhUh6gbW15jvLG9adNnx3hQSeU1PgY0f8ESevXV11SS8y7OxAiiXJniny59etq8eYfclRok7kZlN2/+YnrttdelrX4GD/5CvvbOu0d37d7v8nFudxJEeUx8zy3fd1umjI943Cr2Oazg+xFdvXqF+OGlseMmKBzRdogmRhB1ViiMP//8ky5duiiuY/iFtm7bTDt37JCidVxzbSwPGwRAAARAwH4CutZT9o8EPQABEAABEAABEPBUAhBENc2cEjGtqjOnGcPKVj6XVzYEUSua9sbpWsCfOvUz1a3juHuyQcPG1LWrQ3A0ju7+/fvi/kRfunHjuozWLYj+/vtvVNP/M1l3XDsA1eNInNEVQZTFVhZd+T5NFsOyZcsm2zL+REZESIGL43LmyiUFxJ9+Okn16zkef2rSJIA6dnLc82ksx7a6X5XvkORX4o1H13UJi999t58CWzl2ofbu04+2btksH5gqXLgILVy0zNwlWjB/Lo0cOVzGz5gxh4qXKBkjT1wRuvpt3GW7ZesueuaZZ2Jt1igs8+NXfC+ncp07taedO7fHOYc/nRTzVd8xX+Z7anXtEFX9sfKDg4No/bo1Mmnjpm3RXrm3yo84EAABEAAB+wnoWk/ZPxL0AARAAARAAARAwFMJQBDVNHNKxLSqzpxmDCtb+Vxe2RBErWjaG6drAc/HkWvUqELnz52TQt7yFWsolxAEjW7mzGn01fh/Xn7XLYjyHZF1xMNHv/32q3gJ3osWLFxCL7/8irELdOLEcWrWtKG8g5QTXBFEd+/aSR07tpX11albn3r2dDzMpBrgnX58FJ93IBYoWIhWrFgtk/j7b9iwLp3874+SDR/n591/Rnf48CH6vLnj/k/fCp/SsGGOo/8qjy5hkfvCuyTPnj1D/LhS+Pnz8u8zthfT+Zh9tc8qUYQQevkhomnTZ5GXl5fqlvTDw8PFVQij6MHDB1S+fAWqJO5YVU5Xv9esWUX9+/WR1Q4fMUq2o9ow+3EJoiyGsijKzmoOHz16RB06tCF+aZ4fPVq0eLm8R1S1kVhBdJY4Jv/9d9/Jujt07Bzt4SzVxrSpU2jixK9kkI/r87F9dtwnFs3ZpUuXXuzY3Sdt/IAACIAACNhPQNd6yv6RoAcgAAIgAAIgAAKeSgCCqKaZUyKmVXXmNGNY2crn8sqGIGpF0944nQv4TRu/pV69uskB5c6dh4KCguWOQn5Zm192nxo6mdKmTSvvreRMugVRrjMsbA+1axvIJmXOnEX0pw+VfaucvHOUHy0aGTJcvop+/949mccVQZQLtGsXSGF798iyNWvVobpCGM2ePYe4Z/MgzZs3m44IYZPd4CHiDtBP/7kD1PiQ07PPZqdu3XtSiRKlBIv7os97acyYkcR94qPsK1euIeZndLqERa5zzpxZNFa0pxzveN20ebvglVlFRfONQjaLop3EDtdXxI5SFkt/OHFC9v3atatybllAND4GpKvfLHLXrlVd/luSSfSzZs3aVLBAIXoq7VOyrxWEiJw6dWppxyWIcoY2rVvS/v1hMm/VqtWI55FFR26Dv9EDBxxCY5069ain+H6MLrGCKAvfLVs0k4K8+j5Lliol5zsi4i4dP3aMevfuQbdv3ybvp5+mbdt2O68pMD66xd/Jvn0HjV2DDQIgAAIgYCMBnespG4eBpkEABEAABEAABDyYAARRTZOnREyr6sxpxrCylc/llQ1B1IqmvXE6F/A8z0Hibs5N4hVtK/fGG2/S66+/QYsXL5TJSSGIcsXq1XSrPvDO0cDANs7X1l0VRC9evCB2ibYT9z2esqpexlWr5k/9+g+MkT571gz52jzvQrRyLEz2H/AFsbhndrqERa6XBWq/Ch87hWkWBQcMHGRu0hnmh5f6id2Zsc0rZ2QxMrjvAKomHisyOp39HjLkS1q2dLGxeqcdJsTB9EIkZPckQfTChXAh6raPcw59xGNGISFjKEuWLM422EisIMp1zJ83h0aLx7/Uv4sclyVLVrEL965z5zLHDRk6gvz8KrIpHQRRRQI+CIAACLgfAZ3rKfcbHXoEAiAAAiAAAiDgCQQgiGqaJeP/rJurNKcZw8pWPpdVNgRRM0n7w0mxgOfX3kNDJ1HE3btygCxCFi1WTAiVI2ne3Dlih+JMGZ9UgihXvmH9Oho1aoTzvlKOKyiOsQf37S92MqajRuIIOztXBVEuw3ehhowYSutFG/fu/cVR0vGuzhYtA6l6dcddqire6PMOwcGDBsrHmdTfBR/Nfk0IxfxyPffRyukUFrn+4D69RP/XyqZmzppHxYoVt2o2WtyK5Utp8uSv6dq1a854vu/01Vdfp6DewVLsdiY8NnT2m3mtWrVS7KBdTufOnpXCrmrPFUGUy/Ac8vfBd3VGRkaqasjb25vqN2hEzZu3dO44dSYKQ4cgyvX9+OMPNFq0f+TIYWP10n7++ReoTZv25FvBL1oaBNFoOBAAARAAAbcikBTrKbcaIDoDAiAAAiAAAiDg9gQgiGqaIiXWWFVnTjOGla18Lq9sCKJWNO2NS6oFPM85v8h+5coVelPsDM0oXim3w/FuwDOnT4sj3oWJj6rrdHxnKT/kdPXqVeJHieJ66Mfc7l0hFvNjS3yFwCuvFHbubjTnS6owH3E/Lbjwzs6SJUu51AwflT/188+UVYiHhQq9SBkyZHCpvDtl5jlkcfV8+DkpRpvvdk3qvvIjXGfEfa58p2vGjJnE3bJ5ZT/U8f+kbh/1gwAIgAAI6CGQVOspPb1DLSAAAiAAAiAAAimBAARRTbOsREyr6sxpxrCylc/llQ1B1IqmvXFYwNvLH62DAAiAAAiAAAh4PgGspzx/DjECEAABEAABEPB0AhBENc2gEjGtqjOnGcPKVj6XVzYEUSua9sZhAW8vf7QOAiAAAiAAAiDg+QSwnvL8OcQIQAAEQAAEQMDTCUAQ1TSDSsS0qs6cZgwrW/lcXtkQRK1o2huHBby9/NE6CIAACIAACICA5xPAesrz5xAjAAEQAAEQAAFPJwBBVNMMKhHTqjpzmjGsbOVzeWVDELWiaW8cFvD28kfrIAACIAACIAACnk8A6ynPn0OMAARAAARAAAQ8nQAEUU0zqERMq+rMacawspXP5ZUNQdSKpr1xWMDbyx+tgwAIgAAIgAAIeD6BlL6eOn78GO3bFyYnskYNf8qRI6dbTOrt27dp/LjRsi9+fhWpjE/ZePdr1MjhFBkZSaVKlaGKlSrHu1xKzDhs6CB6+PAhlS7tQ59WrGQ7Anf9Hm0Hgw6AAAj86wlAENU0xUrEtKrOnGYMK1v5XF7ZEEStaNobl9IX8PbSR+sgAAIgAAIgAAL/BgK611OPHj2iKlX8JJo6tetRk6YBbo1p7tzZNGZ0iOzj3HmL6PXX33CL/l66dJEqflpe9qV7jyCqV69BvPv14Yfv0u1bt8i/Zm3q06dfvMulxIxvlytD9+79RbVq1aWg3sG2I3DX79F2MOgACIDAv54ABFFNU6xETKvqzGnGsLKVz+WVDUHUiqa9cboX8PaOBq2DAAiAAAiAAAiAQPIT0L2eioqKIp8yxeVAmgV8Tu3bd0r+QbnQorsKUBBEXZjERGSFIJoIeCgKAiAAAhoJQBDVBFOJmFbVmdOMYWUrn8srG4KoFU1743Qv4O0dDVoHARAAARAAARAAgeQnoHs9BUFUzxxCENXD8Um1QBB9EiGkgwAIgEDyEIAgqomzEjGtqjOnGcPKVj6XVzYEUSua9sbpXsDbOxq0DgIgAAIgAAIgAALJT0D3esrTBNFjx45SWNgeCd7fvzblzOked4hCEE2evwV3E0Td9XtMntlAKyAAAimZAARRTbOvREyr6sxpxrCylc/llQ1B1IqmvXG6F/D2jgatgwAIgAAIgAAIgEDyE9C9nvI0QTT5icevRQii8eOU2FzuJogmdjwoDwIgAAKeSgCCqKaZUyKmVXXmNGNY2crn8sqGIGpF09443Qt4e0eD1kEABEAABEAABEAg+QnoXk/pEEQvX75M2bJlo7Rp0yYICPfhwoVwypUrN6VLly5BdcRWKDIigm6KB4vy5s1LqVKlii2bZfyNGzfI29ub0qRJY5lujNQtiPL/01y8eIEyZcos+2BsKz42P5Z19eoVsYM2F6VOnTo+RZIkz61bNylrVu8E9YG/iezZs4vv6p9vwhVB9MGD+/TXX/cSxC9JYIhKIyLu0q2b4nt87jmXvsc7d+7I7yGz+B5y5MwRjUlS9RX1ggAIgEBcBFKaIPp/AAAA//8NPNaqAABAAElEQVTsnQW8FcXbxx9EBBQVREAFpENEpFskREFJ6e4G6Q7plE7pbpAWkZJuEEFRQAUJQVRASgHfd565/1lm98xN9txl8Td+ZHpm9zvnnjP725lnYvyfcBQEF1azzjw9rsLK50tT4b17d1HOHNmCcLVoMqoERo8eRa1bt4lqddQDARAAARAAARAAgf88ATfmU+PGjqatWzdbLH/88bQMx4+fgF544QUrnQNly31ItWrVsaVx5MCB/TRlyiT6/sQJun79Gj35ZCxKkyYNFStWnOo3aERPPPFEQJ2zZ89Qu7YfyfS27TpQ2jTpaPjwobRly2a6f/8exYz5JKVPn54aN2lGb79dJKA+J2zcuIEmTRwv88aMnUCvvJI0oBw/D8ycOY3WrllNP//8E/3777/0TLx4lDHDa9REtJ0zV+6AOirhwoXzNGL4MPr66yP0++9XKFasWJQnTz7q3KU7/frrRRo0sJ8s2qfvAHr99cyqmsx7v2RxGe/YqStVq1bDygsvUKRIQbp29SpVqFiZ2rfvRFOnfEoLF86jW7duyarJk79KZcuWp3r1G1KMGDHCbG7x4oW0ZvVKOnnyB/r777/p6aefpgwZMlL1GrXk2Jgqz507i1Z8tlxmzV+wmJ56KnZAse+++5Z69ugq03v07E1Zsz54ztLHtWWr1pQlS1aaM2cmbd/2FfFnK27cpyljxozUtl1Hypz5jYC29YTLly/TkMED6ODBA/JzFTt2bNFXdnHvDSh37ryUP18uunPnNlWqVJW6duuhV7XCCxfOp1UrPxMMTsrP1YsvJpKfqQoVKlHXLh3p1KmTcux4DHX3+edradrUyTJp4qQp8jM8f/5c2rNnN12+dInu/H1H5jVq2IRq16knwxH5PN69e5cmTBhLWzZvol9+OSufV/nzmCnT69S2bQfB5jX9Mqww11u+bAnNmjVDfr5UBn8G+DNcvXrNUP9OVFn4IAACIBAsAgcOHha/j/ll8/pvkwornwvoYVNcNvK/f5xl9TwvwzHE5AKCqJcj4PO+3ZjA+xwBLh8EQAAEQAAEQAAEHoqAG/OpXj270Zo1qyJ0HXXq1KfWbdpZZflxYOrUT2nypxOF2HTfStcDOXLkokGDhxILUbpjIapypfIyqY0QghYIsenSpV/1IjLMD0P16jUkFtecbvnypdS/X2+Z/NmKNZQiRUpbkevXr1P3bp1p587ttnQViRkzJrVs2Zrq1K2vkix/37491LlTe7p27ZqVpgIJE75IjRo3pcGD+sukyVNmUM6cuVS2K4JouXIV6OLFC7R3726rXT2Qv0BBGjLkE3rmmXh6sgzfvHmDPv64B23etDEgTyVUqVKN2gnBlUVe3Y0ePYJmzZwuk3btPkBx4sTRs2X48OGD1KB+iDA+fvynlC9/AauMPq7du39Mq1avoG+Ofm3lqwAL3r169abSZcqpJJt/YP8+6iT4X736py2dI3HixKVJn06lpk0ahiqI/vPP36L9HrThi88D6nNC/fqNpLj57bfHiD+jU6bOsJVbJITUIUMGyrQFC5dSl84d6MyZn21lONK8eStq2KiJTA/v83hJCKkdO7ShY8e+CWiHE5566ilxz13pQyHW6o7/zli83bBhvZ4cEG7StIUU+QMykAACIAACQSYAQdQlwGHprM48Pa7CyufLUWGsEHVpcFxsxo0JvIuXg6ZAAARAAARAAARAwHcE3JhPbd++jX48fUre+32xenLc2FEynDNnbiogRDfdvS5W9OnC32qx+vDjXt1lkUSJEkthkVe4/XrxIq1dt5p279op83hVJa+y050unPEKuZs3blAZsfKxWNF36Nlnn6XDRw6J1ZGT6fbtkJWRo0aPo0KFCutNUHgCVA+xinHd2tWyTu48eamiWHX5ohAzDx0+RIsXLaDLly/JvMmTp9tWirKgWLpUSUuMe/+D0mL1XWEpHu7etYuWLl0krvE5uWqRGwiGIKqYsFhXoWIlSpYsOf3ww/dSrOSVhexqitW67cRKS6frLcTQVatWyGReofnhhxUp+avJxWrIUzR/3hxL2GvR4iNq0LCxrbqbgiiL4H/d+IvqCiH9jSxZ6O87f8vVyPy5YccMV65aS7waWXe8GrZc2ffpypUrMrlEiffp3fdKUIIEL9BRIa5OmTxJrCB+gm7cuClXfZpWiE6fNoXGjRst6ydJ8hLVrFmb0qZLT2fEKmFeNcriJovJN8T1hSeIpkufgU4K9i+//AqlTJWKEon7evLJJ2XbbxcuSm+9VUiGw/s8tmzZlHbt3CH6fUYK8UWL8Wf9Ofruu+NyJfLx48dCVqIuWCJWR2eQbfI/mzZ9KYTUtjJepEgxqizE7DfE3+Iff/5B3x4/TjxmLJ6zmz5jjm3FrkzEPyAAAiAQZAIQRF0CrERMU3POPD2uwsrn+ioMQdRE09s0Nybw3t4BegcBEAABEAABEAABbwm4PZ+6d+8e5c6VVd4Ub8lu1apNqDd46+ZNKlfuAylavSK2qrMQkzhxYqs8b03v21esEBTbldmNGDmGCgvxSDldEOW0Nm3aW1uPVZkTJ74Tq0NrCSHtjhCiUtOSJZ8JISymyg5TED32zVGqU6eGfB7gfod9MtJW9/fffxdt16Rzv/wixLo3xVbkeVa748ePsbZL6ysAVYEVK5ZT3z69VDQogig3zoLZ4MGfWOIbp127dpUaNawnt3rz6s7ly1dT0mTJOEs6FtVq16om75sF5KHDRsiVhyqfV802aVyfvv/+hNy+vmLlGmIxWzk3BVE2lTBr9nybOQHuh80cTJ48UXZp4stbytlUADteyelcHcymD+rWqWkJ0k5BlBmxoM1iJ4uYM2bOtX02mUGjRvWkyMl9hCeI8srNfv0H0TvvvBuw1ZPrKxeWIMpb7Zs3aySLDhkynIq/+56qJv2//vqLqlT+UK4uZvF+0qSpVv7wT4bQPCFks7mBz9dvpOeee87K4wCvYl66ZBHx32/G117D1nkbHURAAASigwAEUZcoKxHT1JwzT4+rsPK5vgpDEDXR9DbN7Qm8t3eD3kEABEAABEAABEAg+gm4PZ+KjCC6bOkSGjCgj7zp3r37i9Wd5QIAsDD1wfvvSvuX2bLnoGnTZllldEGUt7ovW77KaGt0xIhhNHdOSL0pU2cK8Sqn1UZYAlQX3mIstkuzgMrb6XmFpdOxvctz536hGOK/vPnyW2LXu8WLCKH3N+KVhavXrLcJkqqNGjWq0HffHpfRYKwQZTusvHqSBT2n27ZtK7Vp3VImO7dJd+3akb5YH3Lfyz9bTWxz1Ol45W6LFiHbvHnrf7NmIW1xOTcF0eLF36MhQ4c7uxerfm9T0aJvSaH7vRIladCgYbYyJd4rJlfv8grTNWvXG+2Ysn1PFq7ZOQVRtrXZv3/IZ7Nrt54iv4qtfY6wTdPWrVvI9PAE0abNWlDjxs0C2nAmhPV5bN+utbCPu0l+DletNm/jnz59qrVCe83aLyybuPqYzJ23SNobdfaNOAiAAAh4SQCCqEv0lYhpas6Zp8dVWPlcX4UhiJpoepvm9gTe27tB7yAAAiAAAiAAAiAQ/QTcnk9FRhAdOnQQLVwwT4qYu3bvN4pWTKRjx7a0aeOX9Hz8+EIQ2mFB0gXRJk2aU5Omza08PXDiu+/EgTEhNhV79upD5ctXsLLDEqAqi9V2p8RhQm++mU2sEJxj1QkvwGJdgfy5ZLGq4jAktulocnPF4UN84BK7YAiiJpFOv4633sorzQy8/34p6j9gsJWl7pu3ys+cNddKdwaKFnlLmgQo9k5xGjZspJWti28Pa0O0pVhhXF+sNDa5ShXL0WlhqiFTpsw0d95Cq8gdsRo4f74Q0ZvtnPIBVibHW8RZbGfnFERHjxJ2UGdNl3lbtu6k559/Xob1f/g5sVChfJKhibVuQ3T69NmUNVt2vboxHNbnscKHZeinn36Udm7z5y9orH/p8q+W3dfxEyZTPiHSs9u1awe1bNFUhvlgrIJvvU158+ajpGJl9qviZUKSJElkHv4BARAAAa8IQBB1ibwSMU3NOfP0uAorn+urMARRE01v09yewHt7N+gdBEAABEAABEAABKKfgNvzqcgIos2bNRaH0uySqyh5G29oThfYNm/ZbtmL1AXRvv0GUqlSZYxN3BC2RQsJ8Y8dH37UuvWDQ51CE6B4uz6Lav/88w+x/c/+YrtzRJ1+XXzKew1he9Lk+JTw9u1by6xgCKJly30oDkbqa+paplWrWlFue+eT2mfPWSDT+L5ZzOUT5cO7b95Wz4f7pEmTlpYsDbE3yo3o4/WwgmifPv1DPTSpSZMGtH/fXkolTCHw6mDlTgoRm7eOswuLP99rvrw5iE9fdwqiHcTBRXygFNth3b59j2o6wK9SpYLcNh+eIKqv1gxoREsI6/OorlUrHmawixCC2VaocnzAE4u0JseriNm2aOMmzQK205vKIw0EQAAE3CYAQdQlokrENDXnzNPjKqx8rq/CEERNNL1Nc3sC7+3doHcQAAEQAAEQAAEQiH4Cbs+nIiOIsh3Lgwf3h7kFmIno9jjXf7HZsuWoC4+DBg+j994raQSorxisUaMWte/Q2SoXmgDF95Evb0554A4f1NS7dz+rTngBtsFZq2ZVWaxL1x5UuXJI2Flvx47t9FGrkG3UwRBEK4gDoLp37+Xs1orzNfK1ZsiQkfgUdHb6fYcnqNYXtlmPHDkst9SvXLXOatdVQbTvACpduqzVth5o2rQh7du7J0AQ/e67b6lG9cqyaOfO3ahK1ep6NVs4f75cxlPmP2rVnHbs2CYPYdq0eZutjh5RDMMTRNeu22A0XaC3xeGIfB6zZ89JhYsUcVYNiPMK3yzCtq3udu/eJQ8DO/L1Ybp29aqeJcNsYoA/CwkTJgzIQwIIgAAIBJMABFGX6CoR09ScM0+Pq7Dyub4KQxA10fQ2ze0JvLd3g95BAARAAARAAARAIPoJuD2fiowgyjYa2VZjzJhP0t59h4z2P5lI926d6fPP18qTtbfv2GtB0gVR02nnqqBezilQhiZAcd0Py5cmPnwnZ87cYkt7yPZp1WZYPh9QU6RwAVnEuSJVr8en1A8ePEAmBUMQzZs3P02YOFnv0hYuUqSgFMWcdjrLlyslT1DPlSs3fTo59Pt+792i9Ntvl8W28cI0avQ4q21dwN761S7jikP9gKBPP51GuXLnserr49UnCoKoviLYKYBbnYgA23hlW6/snCtElTkHzgttlSvnKbMBwRZEuS/1eXxLbHcfPWY8J0XZ8TPuH3/8Lg5g+pW+/voIfbnhC+Eflu2VKVOOeouVuXAgAAIgEJ0EIIi6RFuJmKbmnHl6XIWVz/VVGIKoiaa3aW5P4L29G/QOAiAAAiAAAiAAAtFPwO35FG9D5lPm2XeKTM67mzd3Ng0fPlQmjxk7kQoWfMtZRG7dLvXBe/T771cCbEXqwtnrr2emOXMf2JHUG+LTxvnUcXYTJk6RthNVfliCaLu2H9HWrZspTpy4xCv8EiRIoKpZ/q2bN4lP92aXWNhhjBEjhgy/XSi/SL9OGTO+RvMXLJFpzn/atGlJ277aKpODIYiyrUi+7uefj+/smo4cPiRsc4Zs5W/QoDG1aPmRVaZtm1b01Vdbwrxv3S5r7dr1qE3b9lb91atWiK36PWSct+Lzlnyn08VgfdUvl9PHNSqCKLdRrGgh+vPPP+jVV1MQHwzFp9U73dKli2nggBCTAs7P6vz5c+mTYYNllZGjxhpPXddXokaHIKo+j88997wY1y/EC4J4zluKcpz/XkuVeo9+vXhRMluxcm2U20JFEAABEIgKAQiiUaFmqKNETEOWJXCqPL2sCiufy6gwBFFF7NHx3Z7APzp3hisBARAAARAAARAAgeghEIz5FAuYFy6cp7Rp09GixcstkdB5R7y6kFcj3rp1i1jQnCpOkI8dO7at2JQpk2jihJDVh93E9u+KYhu4crpwxmmmbfOXL1+mypXK0/Xr1yhRosTEQk/cuHFVE6FuUeYC+inivO2at1/rjoVQtqN55szPlFLYsVyu2bHs1bMbrVkTYtdy+Igxwj5jUb0qHT36NdWtU8NKC4Ygyo2bDnVim5lNhf3Nw0IUZQF33rzFlPG116xrYTGURVF2pvu+f/8+ffRRc+KT5mPGjEkLFy2TdkRVA8e+OUq1a4dsUy9Z8gMaMHCIypI+989jwtzix09AbBdWd/q4RlUQHTiwHy1dskg2azol/tq1q1StaiWxQvKiLOMURPnaKlYoJ00msKA7TRyKFCtWLOsyWUBs/VEL2rkz5NqjQxDdvn2b6DPk4LBatepS23YdrOtRAR6TRYtD7ME2bdpCCvKcx6usr4ot8gleeEF+jp999llVxfKVCYLEiZPQ+i82WencJov37GLHjkPbtu+28hAAARAAAbcIQBB1iaQSMU3NOfP0uAorn+urMARRE01v04Ixgff2jtA7CIAACIAACIAACEQvgWDMp7p07kAbNqyXN8Lbrt8uXNRaXZk6dRpps1Ld5fRpU2jcuNEyysJTy1atZf5FsVJtzepVNH9+yOnu6dJnoAVipaW+0k8Xzjg9RownxErHVlT8nfconhB8Dh8+SIMHDaDLly/J9nv37k9lypZTXUs/rBWiXKBly6a0a2fIyfYVK1WhqkIYZTuLBw8eID4l/vChg7IdFv1Y/FOOTzBnsZcPZXrqqaek3VLeWs6i2u7dO8V19ZeH+XA+u2AIosyEhbvy5StIYTN58lflIUpjx46yrpsPouIDqZxOHXjF6byFmu+d658Wp7pPmTyJ9u4NEcVMp7jz81P9erWtLdjvvluCyolrSJQokRRBecXuiRPfyS47CZGZmepOH9eoCqJ//PEHlS1Tkm6KFbws+jZu0lyMz/vSJujRo0eIDxi6JLaLMx8WeJ2CKF+PLqry55hPvGeR/8zPPxML9Vu2bJJjy2MYHYIoX1OLFk2kEM1hHlcWvHlcfv7pJzkm48ePFXZg78pVnkuXraQnn3ySi9K0qZOlLV4O8z20E4d9vfZaJrF6+Hlp9mDr1i00SIjI7IoWe4c++WSUDPM/LPq2atlMxmPHiSM+vwesPARAAARAwC0CEERdIqlETFNzzjw9rsLK5/oqDEHURNPbtGBM4L29I/QOAiAAAiAAAiAAAtFLIBjzqfPnzomDhD6k27dvBdxMnTrilPc2D055ZzGpR/cutHHjhoCyKiFp0mQ0YuQYSpcuvUqSvi6csa1I3gLNp6ObHItyAwcNtQmqXC48QZSFzdatW9Kpkz+YmpVp5cpVoF4f9wnI5xO9h4lt1yy6OR0LUY0aN7O2ZQdDEOV7ZuHx7Nkzzu5lPK3gOWHCp1LgdRbgFb5txCrRsO47d5684v5Gkmm1IY9NPXHo0s0bN5xNW/F8+QrQ2HETA8ZEH9eoCqLcyefC7myf3j2lKG11qgUaC/6zZ880HqrExVhU5ZW0fD0mV61aTWl/89tvj0WbIMqfR946//33J0yXJNPixXuWpkydYXvxwJ/BTp3a0eZNG231+HPINm+VeyZePJo7ZyGlSJlSJUEQtUggAAIgEEwCEERdoqtETFNzzjw9rsLK5/oqDEHURNPbtGBM4L29I/QOAiAAAiAAAiAAAtFLIFjzKRbUJoit7sePfUPnz5+Xq9b4zpyCqLrbxYsXypWHbCtUOV6NVrhwEerWrVeoohtvvWbH2+V55dsAcVATb0dXIiSLQ02bNqfqQjA1ufAEUa7DIuuwoYNo3bq1UjxT7bz00stC1GwqV+qpNKe/d+8e6tOnp7TNqPJSie31XcXp87fv3LG2QAdDEOVT5huL6+PVkLoQxitWS4jVrF26dBd2QuOoywrw+b7Zxuu6taulWQNVgEU05sm2R/UVuypf+WwS4ZNhQ4jtsPI2eeV4m3zDRk3kylBTfbcEUe6PbZ326tXNJmq+8EJCsWK0mRDtq1Jop8yra70jxohXTq5fv866B7bNWqxYcfq4dz9hMqE6Racgytf1zz9/08gRn0iTDLwCVrknn4wl/146de5qFLm53IYv1hOvED5//pyqZvl8sFXr1u2Erd7XrTQOYIWoDQciIAACQSIAQdQlsErENDXnzNPjKqx8rq/CEERNNL1NC9YE3tu7Qu8gAAIgAAIgAAIgEH0EHrX5FNv8PC1W5CVKnJh4e71JMFN0dOFMtx/Ktj2PHz9GL730EqVIkTJUG6aqnYj6LLL++ONpscX4N7n67gVhjzGiTt6X2G6eLl26UMWqiLYVlXJXrvwmtrufpnhiBWB6YX6At+5H1PF9/3L2LJ07/wuxmPvKK0kjWlWW4/oswP1+5Qolf/VVSpjwxUjVd6Mw2ww9ceIEvZREfCa01Y8RbZtXMv/ww/dSaGd7tzFjxoxo1aCV4+fUX345K1YAnxVj8orcJq+2yIfXKa9+PXPmJyHU/0oJX0xIyZIlj/S4htcH8kEABEAgMgQgiEaGVhhllYhpKuLM0+MqrHyur8IQRE00vU171Cbw3tJA7yAAAiAAAiAAAiAQeQJ+nk+FJohGngJqgAAIgAAIgAAIeEkAgqhL9JWIaWrOmafHVVj5XF+FIYiaaHqb5ucJvLfk0DsIgAAIgAAIgAAIhBDw83wKgig+xSAAAiAAAiDweBCAIOrSOCoR09ScM0+Pq7Dyub4KQxA10fQ2zc8TeG/JoXcQAAEQAAEQAAEQCCHg5/kUBFF8ikEABEAABEDg8SAAQdSlcVQipqk5Z54eV2Hlc30VhiBqoultmp8n8N6SQ+8gAAIgAAIgAAIgEELAz/MpCKL4FIMACIAACIDA40EAgqhL46hETFNzzjw9rsLK5/oqDEHURNPbND9P4L0lh95BAARAAARAAARAIISAn+dTLIhWrVJB3sjAgUPp3fdKYFhBAARAAARAAAR8SACCqEuDpkRMU3POPD2uwsrn+ioMQdRE09s0P0/gvSWH3kEABEAABEAABEAghADmU/gkgAAIgAAIgAAIeE0AgqhLI6BETFNzzjw9rsLK5/oqDEHURNPbNEzgveWP3kEABEAABEAABPxPAPMp/48h7gAEQAAEQAAE/E4AgqhLI6hETFNzzjw9rsLK5/oqDEHURNPbNEzgveWP3kEABEAABEAABPxPAPMp/48h7gAEQAAEQAAE/E4AgqhLI6hETFNzzjw9rsLK5/oqDEHURNPbNEzgveWP3kEABEAABEAABPxPAPMp/48h7gAEQAAEQAAE/E4AgqhLI6hETFNzzjw9rsLK5/oqDEHURNPbNEzgveWP3kEABEAABEAABPxPAPMp/48h7gAEQAAEQAAE/E4AgqhLI6hETFNzzjw9rsLK5/oqDEHURNPbNEzgveWP3kEABEAABEAABPxPAPMp/48h7gAEQAAEQAAE/E4AgqhLI6hETFNzzjw9rsLK5/oqDEHURNPbNEzgveWP3kEABEAABEAABPxPAPMp/48h7gAEQAAEQAAE/E4AgqhLI6hETFNzzjw9rsLK5/oqDEHURNPbNEzgveWP3kEABEAABEAABPxPAPMp/48h7gAEQAAEQAAE/E4AgqhLI6hETFNzzjw9rsLK5/oqDEHURNPbNEzgveWP3kEABEAABEAABPxPAPMp/48h7gAEQAAEQAAE/E4AgqhLI6hETFNzzjw9rsLK5/oqDEHURNPbNEzgveWP3kEABEAABEAABPxPAPMp/48h7gAEQAAEQAAE/E4AgqhLI6hETFNzzjw9rsLK5/oqDEHURNPbNEzgveWP3kEABEAABEAABPxPAPMp/48h7gAEQAAEQAAE/E4AgqhLI6hETFNzzjw9rsLK5/oqDEHURNPbNEzgveWP3kEABEAABEAABPxPAPMp/48h7gAEQAAEQAAE/E4AgqhLI6hETFNzzjw9rsLK5/oqzILov//eNTWJNI8InPvlF0qWPLlHvaNbEAABEAABEAABEPA/Acyn/D+GuAMQAAEQAAEQ8DuBJ56IRXny5Je3ESNGDOt2VFj5nKGHTXGrsqGsnudlOIYQG/8vGBcQVrPOPD2uwsrna1NhFkTz5skdjMtFm1EkMHz4MGrfvmMUa6MaCIAACIAACIAACIAA5lP4DIAACIAACIAACHhNYM/efRBE3RgEJWKa2nLm6XEVVj7XV2EIoiaa3qZhAu8tf/QOAiAAAiAAAiDgfwKYT/l/DHEHIAACIAACIOB3AhBEXRpBJWKamnPm6XEVVj7XV2EIoiaa3qZhAu8tf/QOAiAAAiAAAiDgfwKYT/l/DHEHIAACIAACIOB3AhBEXRpBJWKamnPm6XEVVj7XV2EIoiaa3qZhAu8tf/QOAiAAAiAAAiDgfwKYT/l/DHEHIAACIAACIOB3AhBEXRpBJWKamnPm6XEVVj7XV2EIoiaa3qZhAu8tf/QOAiAAAiAAAiDgfwKYT/l/DHEHIAACIAACIOB3AhBEXRpBJWKamnPm6XEVVj7XV2EIoiaa3qZhAu8tf/QOAiAAAiAAAiDgfwKYT/l/DHEHIAACIAACIOB3AhBEXRpBJWKamnPm6XEVVj7XV2EIoiaa3qZhAu8tf/QOAiAAAiAAAiDgfwKYT/l/DHEHIAACIAACIOB3AhBEXRpBJWKamnPm6XEVVj7XV2EIoiaa3qZhAu8tf/QOAiAAAiAAAiDgfwKYT/l/DHEHIAACIAACIOB3AhBEXRpBJWKamnPm6XEVVj7XV2EIoiaa3qZhAu8tf/QOAiAAAiAAAiDgfwKYT/l/DHEHIAACIAACIOB3AhBEXRpBJWKamnPm6XEVVj7XV2EIoiaa3qZhAu8tf/QOAiAAAiAAAiDgfwKYT/l/DHEHIAACIAACIOB3AhBEXRpBJWKamnPm6XEVVj7XV2EIoiaa3qZhAu8tf/QOAiAAAiAAAiDgfwKYT/l/DHEHIAACIAACIOB3AhBEXRpBJWKamnPm6XEVVj7XV2EIoiaa3qZhAu8tf/QOAiAAAiAAAiDgfwKYT/l/DHEHIAACIAACIOB3AhBEXRpBJWKamnPm6XEVVj7XV2EIoiaa3qZhAu8tf/QOAiAAAiAAAiDgfwKYT/l/DHEHIAACIAACIOB3AhBEXRpBJWKamnPm6XEVVj7XV2EIoiaa3qZhAu8tf/QOAiAAAiAAAiDgfwKYT/l/DHEHIAACIAACIOB3AhBEXRpBJWKamnPm6XEVVj7XV2EIoiaa3qZhAu8tf/QOAiAAAiAAAiDgfwKYT/l/DHEHIAACIAACIOB3AhBEXRpBJWKamnPm6XEVVj7XV2EIoiaa3qZhAu8tf/QOAiAAAiAAAiDgfwKYT/l/DHEHIAACIAACIOB3AhBEXRpBJWKamnPm6XEVVj7XV2EIoiaa3qZhAu8tf/QOAiAAAiAAAiDgfwKYT/l/DHEHIAACIAACIOB3AhBEXRpBJWKamnPm6XEVVj7XV2EIoiaa3qZhAu8tf697P/Hdt/TXjRvWZcSKFYuyZs1mxb0M/P33Hbp586btEl54IaEtjggI+J3Ao/w36He2uH4QiE4CmE9FJ+3AvvBdGsjkUU65fv06ff/9CdslpkyZkhIlSmxLQwQEQAAEQCByBCCIRo5XqKWViGkq4MzT4yqsfK6vwhBETTS9TQvWBJ7HfNWqz+jC+fPWDTZo2ISeeuopKx6VwK1bt+j48WNRqRpQJ2bMJyh79pwB6dGR0KJ5Y9q+/Surq9cyvU6LFi234tEVqFO7Oh0+fNDqjgXHrV/tsuJeBpYsWUT9+vayXcLadV9S8uSv2tJMkQsXLtD58+dMWTLt2XjxKHGSJASBNVREvs+4dOlXOnv2rO0+WOxn0T+YzvQdlSZNmlA/a4/y32AwOaFtEHjcCARrPnXnzh1atHAe8XcLuxeFYFSpUhXX8LEoxeJURFySxEko+auvUowYMSJSPFrL+OG7NLK/D9EKMJo727NnFzVuVM/Wa48evalylWq2NERAAARAAAQiRwCCaOR4hVpaiZimAs48Pa7Cyuf6KgxB1ETT27RgTOB/+OF76tOnJ31z9Gvbze3afZDiCSHqYdx3YkVjlcrlH6YJq26cOHFo3377NVqZQQ40a9aIdu7YZvWS8bVMtHjxZ1Y8ugK1a1WjI0cOWd0leOEF+uqr3Vbcy8DDCKKTJ0+kcWNHhXv5/HnMmi07FShQiMqUKUvPPvtcuHVQwB8EZs+eQZ8MG2y72M1bdtKLL75oS3M7YvqOGjp0BJUo+YGxq0f5b9B4wUgEARAwEgjGfOrzdWvok0+G0G+/Xbb6dHu+0KhRXdq7J+K/+7Fjx6ZMmTJTpcpV6f33S9ETTzxhXZuXAT98l0b298FLnsHue/fundSkcX1bN927f0xVqla3pSECAiAAAiAQOQIQRCPHK9TSSsQ0FXDm6XEVVj7XV2EIoiaa3qa5OYG/IbZejx0zUgh7C+j+/fsBN7Zr9wEhiD4bkB6ZBNNkMjL19bI8qd9/4KieFG1hCKLho44OQVS/Cl69XLdeQ2revNUj84CnXx/CkSMwa9Z0Gi6EBN1t2rxDbMdLpCe5Hv722+NUtcqHtnaHDBlOJYVwYHJ+eIg3XTfSQAAE7ATcnE/98stZ8WK5F+3bGyhUZsz4Gi1essLe+UPEIiuI6l2lSpWa5s5b9Ei8TPTDd2lkfx901o9bGILo4zaiuB8QAIFHhQAEUZdGQomYpuaceXpchZXP9VUYgqiJprdpbk3g16xZJcWH33+/EuoNQRB9gAaC6AMWoYWiWxBV11GgwFs0esyEhzbvoNqD7w0BCKLecEevIPBfJeDGfOqff/4h3uEwc8ZU4rDJPUqCKF9foUKFadz4T02XGq1pEESjFfdDdwZB9KERogEQAAEQMBKAIGrEEvlEJWKaajrz9LgKK5/rqzAEURNNb9PcmMCbhAfTXe3Ze5iefvppU1aE09xcIYot80ROm1v/tS3zoX3wSpUqSwMHDQ0tG+k+IGD6XnoUV4g+yn+DPhhmXCIIPDIE3JhPtWrZVJit2RLmPfF29YWLloVZJjKZzhWiTz5pPlzx9u3b9O23x6w5vd7HqtXrKWXKVHpStIf98F2KFaIPPhYmG6LdsWX+ASCEQAAEQCCKBCCIRhGcs5oSMZ3pHHfm6XEVVr5eHoKoiaa3aW5M4CdOGEsTJ44L90bcEETD6yRH9jfo7t0Hqypy585LU6fNCq9atOc/KitEo/3GI9Gh2ytEeVtflixZ5RXwoUvff/8d7du3l5YuWUh///13wJWNHDmWir3zbkA6EvxBwC+CqD9o4ipBAATCI+DGfKp+vVp04MC+MLsKtiAa1uGK165dIxZQ+UR33X0yfDS9+24JPQlhAwEIogYoSAIBEAABEHCVAARRl3DqgqazSWeeHldh5XNdFYYg6iTpfdyNCbwuiLJx/XLlKhBvnXeucniUBdGTJ38Qp7jOp1OnfhD/n5LbpdOkTUsZ0mekOnUbhGt3kO/1i/Wf06nTJ+mnH09TkiQvUerUaSjzG1moRo3a9Mwzz9gGu2WLJrRt21YrjR9wBgwYTPPmz6H9+/fRpV8vUvoMGSnrm9modp16lFic7Op0o0cNp6+/PmIlp0yVimrWrEPz5s4Wh0XtjVAbo0QbR7U2kiZLRv36DbLaVIG//rpO06dNoePHjwk+J6WAyPfHjD74oAzlypVbFQ3w+RqXCLuyJ06ckCe/58qdhwqKbenvlXif2rZpaSvPp4uWEOnsgimI6p3+9ttv1L1bJ+LVCrpLkyYtfbZirZ5khVevWkE7dm6n0+KzcvbsGTE+iQWLdPSGGO/ateuFu93+tGA4f/5cyZJP+OXDnVKlTi0/b1Wr1aBkyZJbfXGAx3TTpi+tND4p/dPJ0604B06c+I6GDhloS+varSelS5deprEI/7c4rVg55swrgj/7bCl99+23xKt/MojP3NuFi1BlcViGsvf7zTdf05Qpn4oyx4kfhl9/PTPxae38dxE/fnzVnNHfunUzfblhPZ0U9/vzTz/JA43Siut5882skpPpxHfTdfKpxksWL6RvvjlKbKuYOefJm09+3tkWsHL8d3Xrfycx8ynzbIdPd2+Kvye9T/6b6dWrr15EHF7yG02dMol4NTofEMdM3npLHLpVtjxNmjRe3oeqwPfRuk17Gjt2FB0+dFAmc/+8ikp3/LfCIoPuJk6aQrFjx6GI/g3y9tnZwi7qUcHgx9On6PLlS5QiRUpKLT6nBQsWotKly+rNW+GH4Wk1ggAIgEC4BNyYT+mCaLxnn6X69RvR4kUL6FcxJ1DOS0GUr2H+/Dk0eFB/dTnSb9u2I9Wr31CG169fJ69ZLzB+wmQ6fPgQ7REH6fx85me68ddfVrb6LlQJbIJp08YN9J34Tbsjfpd4Sz7/Lr34YiLieY/uen3c11qZGt53qVvfhXfE7+iihfNog/htuyS+h//840966aWQOR9/H5cUv6188JVyD/P7oNpgn/mtXLlczjtO/3iK4saJSzxPSZ8+Q6jzxKiMxcWLF6mvsF+ru2bCtvrJk9/T5+vWCv8HOaflOSofqlWqVBmKESOGfNZb//laWijm0j/99KOMZ8nyJuXPX5B4XhMzZky9SVmmX9+PbWnNW3xEOXPmkmmmax80eJiYsyyjzZs3it/iHyl58hT0WqZMVLFiFTkvsTXmiPAcat26NVLMv3HjL/G7/rb4XBWlzJmzyDmgXrxp0xaUO09ePQlhEAABEPANAQiiLg2VEjFNzTnz9LgKK5/rqzAEURNNb9PcmMArQfQdsZruo9bt5OSUJzlLxMo73T2qgujSpYto0MD+tpWl+nWzkDFs2EhiIc/p+PAoPsl63rzZziwrzuLoqNHjpZCkEp2CaNy4T9M/YmXr/Xv3VBHLZ7Gse4/eQngsbaVxILJt9OjZR05e9UZaNG9M27d/ZSWlFaLe8s/WWHEOsAjavn1runD+nC1dj/CpoF279hCHEdknvKtXr6SPe3Wne/fu6sVlOGfO3AErYdq37ySFNi7wMILop59OoPHjRtv6nD1nYagTZhbBPni/ON25c9tWZ+myVfJhQyXyJLpXz260UTyshebSpctAw0eMth7SnOVYTO3Xr3dAX6pcrFhPUc9efcSLhQcH8wwc2JcWLpinikjB9cDBb6w4B1hIb1C/li1t1qz5lC17DpmWJ3c2IXresvJZSDStjOUC/JA1ecoMWiWu1fkAqhpgMbVPnwFUWDxQON3du3fF38wg2zU7y7z++hs0QqzCffnll21ZzutMkCAB/fnnn7YyKvLqqylo2Cej6LX/PXzmz5dDCqYqPzzfKSzwqqcWQlTVT3RWbSRNmozuis/x5UuXVJJlO++jj5rT1i2brPSIBNT3YUT+Bn/++Sdq3661fCANrW3+/u3bb6AlZKtyD8NTtQEfBEAgfAJuzKdYED169AhVr16LGjRsQs8//zyVKV2Sfv75R+sCnN9bVkYUA7ziUz9lPqwVotwFvxiaMH6MrTf+Hn7vvZIybdbMaTR8uN3kDP+mnD59ylZHRdR34b///ktDBg+gBQvmqiybn138lh3634snlbFg4TJrbhXed6kb34X84rFJk/pCBP1DXYLRLyBeUvG8kedvD/P7wI0zF7YrO2niOBk2dfjcc89Tf/FS3fl7HJWxYDGzWtUKtm7Cmi8UFyuD+/cfTN26drS9uNUb4BeLQ4aOkAsFVPqxY99Q9WoVVVT6w0eMoeLF35Nh07XHj5+Arl4NnA+wIFunTn1q266jFGdtjYoIH/g6RbzoNDkWRvV5MJcZKq61RMkPTMWRBgIgAAKPPAEIoi4NkRIxTc058/S4Ciuf66swBFETTW/T3JjA8yowfnOfOfMb1s34RRA1bau1bkIL8GRr4qRp4k13AS2VqF3bVmGKY6owC57zFyyRQhOnOcVMVS40n1ferli5ziayOSf/odVV6dwGr3jkU2GV4xUTO3dsU1F5ffqqSBZDa9WsahQ0rUr/C5QvX5H69B1gJX/55RdCxPnIikck4JYgyg8P48SqPd3NmbtIrkzU0/TwyJGf0IzpU/Qk6tSpG9WsVUem8Qq9ihXK2h5MbYW1CJ9Yzw9qanWmyjKtrFF5Tn/goGFy5QWnDxwYAUFUbP9v0KC2rZmZs+ZR9uw5ZZrzYdBW0BBJnCSJTfwzFCG2w7t6zRdyRbSe37x5I9qx/cHnSs/Tw88/H198rtdSwoQvWsm5c2UNVSy2CmmBV4RQuWrV51Ikzpsnu1ghelPLDTv4WqbXadGi5bLQhQvnqXy5UjbROOzaDw4TiYjdP2dbu/cckqtswvsb5IfTShXLhnrAit4urxhdumylXHmq0h+Gp2oDPgiAQPgE3JhP8WrQwkWK2naFRLcgyuLayFHjjDfMK1UHDuhLN2/esPK5/PovNkvxjxNnzphGI0bYBVGrsCGgvgudv3OGogFJuiAa3nfpw34X8qr8SpXKhSuGqot8Rwh7I4TA9zC/D9wWv4RdsWKZajZMv0/fgVS+/AMxMypjwS/gnIJomJ2KzIjMF/gwMLZ9q16c8+6TGtUr25rWTS9E9tq5oY9796MKFextjhk9gqZOjdyhXxBEbcOCCAiAgM8IQBB1acCUiGlqzpmnx1VY+VxfhSGImmh6m+bGBN50B3369KRlSxfbstw4Zd7WoCESGRuiPLkt9cG7Qnx5sI2Ym2Rxhre96qvpOD158lelKKm23O4QQmJzIShG1BUp+g6NFitF2UVWEOU6fPr5xElTOShdVNrgrUuTPp2mmqDwHiBqVK8ktylbFcIJLF6ygnjSyysES5cuEeaqUlNTbgmikV0hytey8csN1K5dK9tlfVihEvXuHbI1UK2EthUII5ItWw6aNXu+VeLKlSvy8xZRwY5X6Wz4cqsU+pwPiiy4BqwQdVkQtS48nEBJsWVuyJDhVineytamdQsrrgJsBuC8WGWsfg9UelmxErZfv0EqSpEVbrkib1tv0KAx5cubw/agbjUaSkBfadW1S0dau3ZVKCXNyep05Y9aNSN+MRQZp1ZFhfc3WK9uTTp4cH+Em27UuBm1atXGKv8wPK1GEAABEAiXQLDmU6VLvUdnxDZz5R61U+adIlRkhSwWRHk+Vq7s+wG/D+qeQ/MjI4g+7Hchm64ZMuTBS1++pmeeiSfMlqShK2KXCYvFzt+3xYs/owkTxkb598G08yM0Fpz+7LPPiZeU6y0TLVEZi6gIomFdk57HJg54ezu78ARR0wpRvS1TmOdNa9d9aZmp4hedpUuVCHUHmKkNToMgGhoZpIMACPiBAARRl0bJ+aOuN+vM0+MqrHyup8IQRHWKj0Y4WBN4PwiinTq2JbZRpByvAuVtPyzwsEjKb5SnT5ussqXfrl0nqluvgVytxZP3c+d+sfLZPlL3Hh+LbemlZTq/1XfaEty0ebuwR5rYKIiyEFu3bn1KkTKVtLvI282dTq2k4HTTClHexly/XkPZBm/rXrXyM2cTwvblfnruuedkelhiDNtp+rhXN1v9rFmzE09oX3rpZcFubYCdqUqVqsrt3qYHh1deSSptPrKd0l27dkibkLwVTHdeCqI/CtuvPKa6423IvK2bbVGWL/eBbZUes2YhL1euPHIrYL9+H0s7m3r9viJfbX1nO6XOMWW7Ws2atZRb13lV69Ili/Tq1qTcDUHUtDqGbWrWqFFLvgCYIbY5nhErQ5yOV//Ub9BIrizeKFb9Ou+BHwh37zkoq/EqWn54v3jxgtUMf1Z4tSvbBePDrPr3/zhg9aj+UGu6ThYu2SzD00+Lldbz5ghbaiH9qU7SC1u/vDKS7XjeE2Ys2G3Y8Lm0C6zKsM8HZT0nVqUqx7Z9M4lVorwNsrJY+aO7OMI+W82atcWq4mz0/Q8nhP3OGXT9+jW9iLVlnu3qqm39Z8/+TH1697SVa9JU2CMTB7zpLkeOHHKlTFh/g2xLj7ch6o5X4rP5C17pvW/vHurZs6ttCyGfEL38s9XWavKH4an3izAIgEDYBII1n3pUBdEnxK4T3tavv4BhQmEJWbyb6FVhE1qtEuTybEO0c6f20i4kx5XLkSMX8QuzOLFj06rVwm63YdeB/tsR1ncpt/mw34WdO7cXNjTXqMsT95FCXNd6cS9PyDS2W81z3zu3H7xk523XvNU/Kr8P9+//K3allJG2NlWn3Fenzt3E7pGy8veIX/6uXBGyy0GVKVOmnNg+P0RGozIWJ0+eDNjKzo2VLl2WeNUr71rg+bFuB1b1zaYRaojfzXhiXjBXmJLSbdRzmaJiYQCbkGIXniBqEnP594137eTIkVO2PXv2jADTP7y6uVix4rKPDu3byLmAjPzvn8JFigkzUJ2EOYr4tGD+HOOhsBBEdWIIgwAI+I0ABFGXRkyJmKbmnHl6XIWVz/VVGIKoiaa3acGawD/qgijb/sye7XXrs8mjwGJfq4/aWgPyf0KsY9uZ165dtdLUFlsWXurUqW6lc6CGONCos5ioKser4Xr26Kqi0m/fobO0d2USM/VT0LmwU7DlNN7OzhNOdqZtyfrDAZfp3KkdfS6M3Otu2fLV1lbusB4gGjnsirFtyy82bJEH46j2eNUkr2BQLm26dNStWy8h7NagQwcPqGT5wMBv7dkOo3Jsm3JaKIIzl4lOG6LcH0/yy5YJsYHGcXY8qebJtWkL/ugxE6iImFgr98cfv1PxdwrbViLwA92MmXOl3a+cObLYTA+wTa0lSx+I3ryqlh+4rmr2MkuVKkO8StUdQfRN22poXknx5cavrEOGrly5Qu8WL2y7Rr43PrwpX74HpiJMn10l9LNA17BhiIkBxYWFzHfffcD1VyGWdu/eWWVLnw+i6tCxiwznzmW/TrYhyitl+QAidvy3W7JEMdshI/xgs33HXpmv/jGZw9i0eYfxgLTxwh7ep8Iunu769R9EZcs+sOO6a+cOatq0gV5EHsrAh4XoLrKnCEf2b3DTpm0UXzBRjg8faStMd+iOD4TgwynYucVTbx9hEACBQALBmk89qoIoE2CBbpB44cUvkpUzCVlsM5ptXKr5iyrLPj8jZH3zNdt8jOcKPGdQYiOXq1GjMn1z9GsOWm7+gqWWuaawvku5wsN+F7J9U91ePL9E590JmcW9xRAcXhAvSVOnTmO0YakuODK/D6Z5Zs1adYUpH/u8kk35/CBe2inH13Xo8HF5iFFkx4LbOCYO7qsudgfpjkXEMWLOo5xpJwibhuLfarZ7y47nNMWKvmV7YcdmXdjMDrvwBNEZ06eKl5jDZFn1j354F6eZ5oldhD17tsFr+lzxggS+Rl7AoFw7YdqJX/bqjne96J9pPQ9hEAABEHjUCUAQdWmElIhpas6Zp8dVWPlcX4UhiJpoepsWrAn8oy6IsljJokpkHYszX23bI1fJ8Yo/3S0Utgh5tVlEnFPM5FPkNwqhQ3e8EoEFMt3p4pSzjZdffkUKlnr5L774nDp2eLB9lvMmfTrdsoUa1gPE+yXfsa2AffvtIjR23CS9+VDDbIqAT19XjsXm2XMWqKj0+aT18uUfPERxopcrRE0T/IqVqshTyPlgKD6NXTnelrZj576ABx+nWMirYtm2Gm+lY7FRdyyO8yEAEXHuCKJ225zlylWQh/Do/TeoX1sI3A+Exaeffob27D2kFyE+hMx5Aq0S81eIlSq9xIrFyDo+lGH48NGymvOhVV/totod0L+PsP05X0Wlf/DQMUvc5YTICKK9e/eg5cuW2NpjkwRsmkB3hd7Ka3u4U1vm9TKReeDlepH5G9RX16g++feVTQXophjKlC0vV7tzGbd4qv7ggwAImAkEaz4V3YIor8LLmjVbwE3+9dd1ecK4c2cHi5a6jXOTCOd8Was3ztvl3ylWSE+iRo2a2l5Qc+ZCcbI72y/Vnd5uWN+lXOdhvwtNczL9WjjMOwuyZcsuX0i9+WZWZ7bYNXScqlZ58KKNC4QmvvFuDOc8k1+i8stU3Zl487yD5x+mPJ2Z3o4KHzsWeNjRALHitLRYeaocv5jMmTOL7SBQ0xzRuapWN/cTFUH08/WbbC/W+UV04bfzq8uSfkOxapkPeOXDMosVLWjLM32uvvpqi7TzqhfEClGdBsIgAAJ+IwBB1KURUyKmqTlnnh5XYeVzfRWGIGqi6W1asCbwj7ogut9gbzGiI7Fv/9c0Y8ZU4tWRutv61S7LbpOebgo7hbOM4pRstjWlO9M1Tpg4hQqK00vZOSf/xjbE6k3nyePjxn8qt/qa2uDVG7wKlf9ms2fPbJvsVqlSXZoEkJ2H84/zcBunnUmufuPGDeJTwXWnTBJwmunNP68YYVuu4bmo2BDlLWBsfF93nbv0kFvKnUKh2qKtl+Vw/369xTg+EH7VSo3Dhw8JUwY1bcX1U3ltGYaIG4JoLvHwop8qX6t2XerY0S5e8oroLzest65ACbpWgghs2vQltW3TUk8StlIXyIdAPnmYTyCOrHvjjSw0b36IIBmR6zTZc9277wjFjRvX6joygqjz75G3dW7essNqSwUqVy5PfBK9cnw6bbBWiP77731im8j84KlcjRq1qXOX7ipq+byymVc4K6dWJnPcLZ6qbfggAAJmAsGaT0W3IMrme7Zs3Wm8STYnNHfurIDfSv033rSyTzfV42zYJMD17NVXHGAUYmtSlWc7zWyvWXeRWSH6sN+FLASz3Xg2+RMRx6v0ebW+7iIjiE6cOC5gnmniyKafeEeR7qZNm025cucRB0UGrrI0taHXNQmVY8ZOpMKFi+rF6O1CeS1TAJyhv4hTBZ2ramM++aQweXNcZpv60Q9Vmj59Co0a+YlqSvq7dh+0Du9SGVneyKCC0q9btwG1E1viTZ8rp71brmB6OR+aSG3rCBEQAAEQeEQJQBB1aWCUiGlqzpmnx1VY+VxfhSGImmh6mxasCfyjLogePXqEatawT7YjOhKbt+yUJ346xTNe4ckrPSPigiFmuimI8j3kzPGGzWamfsBQePdYsEBum73F994rSSwA6u769etUsEAuPUkcahRio5UTo1MQvXnzpjiZtEzAIVBLl62i9OkzUNMmDWwPQWnTphN2Gh/YElM30a/vx+K6F6qoWLH4FO0/8LU8mKpWTfvnbdDgT+iDD0pbZcMK+EUQZRMIbAohsi5lytTCFtvnstrDPrSqviMjiLLAy0Kvci8IcwL8gsPpnFsTgymIct/Ov0G2OdutWy/nZZHzFOrcefIJG28zZTm3eAZ0igQQAAEbgWDNp4ItiDZsWFfYI95t3YvaCWMlGAIF8uciXjGqHG9x59V77CIqZKm6P/zwvbSVqeLs9+jRmypXqaYnGV/GRacgyhfD9zx06KAAu522C9UiM2fNEy+Xc1opkRFETS9pt4kdSrrJFG54vTCL1EmYR9Kd6jeyY8FtmIRKPwqiJ0/+QBU+tM+xTJ8r0+cPgqj+aUIYBEDAbwQgiLo0YkrENDXnzNPjKqx8rq/CEERNNL1NC9YEPjxBlFcH6jaPFAV94qjSIuNH9JR5PkU+bx77ljCnzcCw+t2yZRO1/qi5rYi+nd2WYYj4QRDlQ2b4sBnlTNveVZ7Tr16tonw7r9JNAuKRI4epdq2qqoj03doyb7L5OWfuInFATuAWths3/hIrJdvRzh12kwXKXixfGD8AzZ0zU14j/xMnThxps1LZtVQZdWpXtx34o1aSch/58z14KOLypq1bqh2nb7K3yiuV+TqUM5lH0LfXRUQYe9gVoiazA2rrnrrO8PyIXGdEVojyYQufDBts6y60lxYjRgwTWwun2so6Hzz5wKi3Cuah27dvWeVMW+a/EytIq4iVpLoLS/x2fheoVdpc3/k3yAd4TZs+W29aXM9t8WIht812rb6S1C2etk4RAQEQCCAQrPlUeILow86nnPbCQ3shpN+w86UnH77HZmTYRVaE4++wPLntv83VqtWkrt166l3S1CmThB3LkbY0fft3WN+lXMnN70I+hHH79q/o2TRIOwAAQABJREFUqLBpyisMz537xfYCWV2kbh+b0yLz+2CaZ06fMVceUKjaZ3/s2FE0RRzKqDu1CjSyY8FtPC6CKK9mZjMJujO9VFy7djV17dJBL2YdaGlLRAQEQAAEfEIAgqhLA6VETFNzzjw9rsLK5/oqDEHURNPbtGBN4MMTRA8dOkB169QIuPmj33wfkBaZhIgKotwmG3v/7bfLVvMs+M2aPd9mF5LfMDuNrTdu0lxOfvkhRXfO1WLbtm2Vp8nrZSZPmUF58+YPynZ3t1eIOm0/8X3oqzF4+3WTJvVthydly5ZDMjQd5qS2cCkeTvGN06NTEGWRcqc4KIe3dF258pu6LMsfO3YSvV24iIybVqvq18qFTAcRvC9WgA4WK0HZOT9v/NC57vON8uR0zme7tnyQwZ9//MFR6Ro1biZP8F29akXAQUSdO3eXp7lywXv37slVrPv27QmpKP5lu24smio7mBF5GHSOySv/s4FqNSoCYW2ZP3PmZ3nKvF5e2fPS077aukXYUjtmJSVJ8pI8PIoTInKdERFE58+fQ4MH9bf64MC06XMoV67ctjSOmMaXtzqqg4m4zOJFC4Rdzt4i9MCZBFHTqpRmzVpSs+b2g49UK2E9xJv+jvS/QW7DtCVS3xboFk91vfBBAATMBII1nwpPEH3Y+ZRTEE0YhS3zuXPnpanTZkkwURHhihYpaPsdfkacUs6HOD733HOyzb//viNXwl8Uh/LpLroEUT6E5+uvj+hdC/M9yemll16Wabyd/tvjx8TK1i7EYqlyBQq8RRMnPXjZFpnfh59//knccwnVlPSdvzm8u+X9ksVsW9d1m/RRGYvHRRBlYMXfeZsuXfrVYsh20dd9/qVl3opN01SvVtk2H+HCsCFqIUMABEDAhwQgiLo0aErENDXnzNPjKqx8rq/CEERNNL1NC9YE3g+CqElU4cNdmgvhgg8oOnhwP3Xr2sl2yjxPfvmESnbO1YCcxlvD2ZYWnw7KBwDoNhtjx44t7HLtkvaPnCKIG2KmG23oq9P2ii10jcRWOt3Fj59ACDst6RkxqZw/f27AJFIJeKaVgnwQEQtDSZMlI17NuE68lXc6XWQ0iVQRtSFqWiHKfOKJhyx2F8RD1QUhQIbmnCeq8snvpYQAfv36NVsVPhSJ7XT9ePo0TZ4ykW789ZctX1/NYVrFkSlTZqpXv6EUQ+fPm0N8uITulIBusoXF5fLnL0hp0qalbdu+ojPi4Ul3+jZ0To+IMPawgij3U69uTfm3w2HlWrVqSxUrVRbC7X3asGE9DR0ywPpd4DK67bGIXKfpb9dpQ5RF11atmqpLkD4/ZL8mPgfKpUyVSh6axYcv8EOl/vfKZdgWWY6cuaTJA16dxA+9unM+nHIeP6Dmy5tdLybF6TffzGY72XbipCnEK4yd3wX63+B+gw1g/jtq3KQZpUqVmvhvdM7smba++G901arPrW2VbvG0dYIICIBAAIFgzaeiWxAN7VAlNnNz6tQPAd+DDEK3SR0VEW7IkIE0T9gm1V26dBmodp26FPup2DRH5DlPmOey0SWIxooVS36v678RiZMkoREjxlCWLCGrW3nrdd26NWzzAOdBQ5H9fTD9nvLhenzA0fVr1ySXU+LFve745RvPtdhFZSweJ0HUtPsjadJk1KBhY4r/fAI5T9dfJCuOEEQVCfggAAJ+JABB1KVRUyKmqTlnnh5XYeVzfRWGIGqi6W1asCbwfhBEeQvsh+KUc/009PBGo3Wb9tSgQWNZ7JTYJlVR2J10iiShtaHEQs53iiBuiJlutKGLMXydphVqnG5yLNSsXrPeevNeU9jMPOpYUWGqp6cFUxDV+wkr/IpYFbl4yQprZYoqu3LlcurZo6uKhuuXL1+R+vQdYJXjByk+/ObChfNWWlgBtdqWy/BnrFatqsYHwtDa4O2G1cS2Q+UiIoy5IYjyqpYKH5axbeFW1xCar5sziMh1RkQQ/emnHyXv0PrkdBakFy5aJouMFVsxpwjRMzLOJIhy/SKFC9Dvv18Js6k9ew/L1cHO7wLn3yCvOFq10n7gWlgNDxg4lEqXLmsVcYun1SACIAACRgLBmk9FtyBqvLkwEvm3f8nSFfJUcy4WFRHu6tWrVLJEMfFC6UYYPQVmRZcgygf2hfZdzOYCEiVKRKdPnwq4wJat2lBjsdNDd5H5fYjs72mKlKlo+fLVwn55LNllVMbicRJE2ZzEB++/Y1tBq49FaGEIoqGRQToIgIAfCEAQdWmUlIhpas6Zp8dVWPlcX4UhiJpoepsWrAm8HwRRJs9boPjUUP1wgNBGhLfUs/0+NdHkcqaDW0z1eZK6dOlKsSIstsx2iiBuiJlutOEUY65cuSJWwlajX345a7otW5rTBisfHtCwQW15mrytYBgRtwRR0ynzYXRrZfEYjx03iZ5//nkrTQ/wSa58omt4Lm269DRz5rwAUfXAgf3SjMKtWzfDbIJtgy5ctJxSp05jleMHIxbgWcgPz+XMmVt+VvmUe+UiIoy5IYhyf7w6etDAftZ3v7oGk1+3XkNxmFZHKysi1xkRQZQbdJ4eb3Xyv4AuiPLKnZo1Khsfap31VDw0QXTmjGli5dBQVczoR1QQZaGgfr2aYmXWSWM7eqJ+0rNKd5OnahM+CIBAIIFgzaceZUGUtyCPG/+pza5lVEQ4prl82RLq3btHINgwUqJTEOWdIg0a1KGTJyNm2il58ldp3rzF1mp9dRuR+X3gOrxbpn+/j8P9PY0XLx5NnjyDMr+RRXUVJXH6cRJEGQQfOsUmoNSzqAUnjAAE0TDgIAsEQOCRJwBB1KUhCuuHw5mnx1VY+Xw5KgxB1KXBcbGZYE3gzYLoQbldnC//YW1ehYbAeSqzbtcqtDq//nqROnZoK8TRw6EVoZIlP6DefQYQrxJwOrYV2rVLx1BF1YJvFaKBA4dR/PjxrarNmzeiHdsfHOITUTFz/ITJxLZK2QWjjbRpA09P5zfsvXp2pY0bN1jXrwd4dUjPnr2phGDkdHzYQIsWTYyrIll8da6ocEsQNW2Zd16bivMDXf4CBcWqxkrS10VEVUb354mt7SOGDw11BWSFipWpS5celvit1+Xw2TNnqE3bluTc5qbKsXg+bOgI4s+E0zHPwWK7+d49u51ZVpztlvYQJ/Tyw5Hu+HCBO3fuWEn6FkeV2KF9G7GlPeS0d057RayW5UORdLd580Zq07qFnkSz5yykrFnth5Sx+NtFPIQ4zQCoimzblFdNNxE2eXUXkes0CaLOQ6a4TbYTO6B/X1q7dpXehRXWBVFVvm3bVka+8Z59lp6O+7TtfkITRLmtKZMn0aRJ40P9nChB1Pl3bPob5NXFgwb1k4KBdfFaIFasp6h9h07CBm0tLTUk6CbPgMaRAAIgYBEI1nwqQBAVvw2LFz9YNf6w8ymnDVHrhsII8Lb6KuIUeDbfkSDBC7aSJrvGu3Y/mP/ZCjsiG7/cQN26dbT9VqkipjmDLoiG913qxnchv5Bku+NLlixUl2X038jyprQfzqKoyUX090HVZRNOnTuF/nvKO0qGDB1u2TRV9aIyFiZ76MZT5t/OZ7N5rpu+Uf07TSHw5+bQ4RD74aZ+hgsTBMWLvyerR/Tas7yRQXUnfedLVk7ctWsndWj/kfEF/YcVKgX8to4cOZaKvfOurV1EQAAEQMAvBCCIujRSSsQ0NefM0+MqrHyur8IQRE00vU0L1gTeeWgK32WDhk2sA15YhFyzemXAzTdsZLf5F1AgnAQWwu7fu2eVSpo0mbRPaCWEEmDD6tu3baOTwj7W6VOnpLjJNvrSCIGQD2HhdsJyfDjTjh3b5WmjbDT/7t27xAfFfFCqNBUsWCigKp9qeVYcQKPci4kSU6VKVVRU+ry1euWK5ba0Dz4oQ6+mSCHTgtEGH/RTpWp1W58qsmfPLnlyPN/fb5cv0xMxY1LePHmJBUDnA5Gqwz6vcNu6dTN9L06sPykEvX/v35d2GevUqRdg/zBf/oKWsHZCnNa9w3Hye+Uq1QNWXep9qTA/POzbu0dFA3wWt/jggVdfTUEZMmSUNh4DCoWRwGYW2O4Uf1Y4nChxYkqbJh1lefNNy55YGNWFrco7UhD/TjBhLrw68emnn6ZixYpTKbHdWV+FbGqHH4CPiwMcTp8+RRcvXJArWhMmfJFyi/EoUqSYqYoU6O7du2vlsU3L/EII1t2GDevlZ1ilsdhds1YdFZU+b0XnFRe6K/9hxYAHMc6/Jmyc7dy5XR4ywQIwPwylSp2aMgrmfK3cvtPxg2J418m2NQ/s32uryuLqk08+aUtTkRP82RP9szj7jxAXleNxq1jR/nfH3wWbN20SpwEfp+9OfEt3bt+hV5ImpZYtW9MucQiXfkADi9fvC5vBoTn+nuNV6FznpnixoDv+ruNxdv4dh/U3yG0dPXpEjjvfS4oUqSitsCHLL37CevB2m6d+HwiDAAiEEAjWfGr+/Dl0TfyOKuecLzzsfIoP7Tt37hfVfKh+TPH9mjxZcmm/mL/H2QayyR0+fIj27N5py9Lnf7YMQ+SMmBvxfOqE+P49f+6cPOiyXLkPiX+znC+3Kop5UyIxf2IX3nepm78t/D28etVK4mu9d++e/C7n7+6ECRNK297O31bDbVJEfh/0evx7ynMifjF6Svz28wt6nnekT5+B3ipUSMxjYurFZTgqY8G/LcuWLra1xbsPUorfO93xStfbt29ZSRkyvkZs31R3O8U4MivleN6oXoKa+nlX2OFn4ZtdRK+dX5DqLmu27JQvXwE9SYZ5Tr1d2Fvn3UtXr12V9sR5Nw2baWjV0v7ssUyYHUgndvrAgQAIgIAfCUAQdWnUlIhpas6Zp8dVWPlcX4UhiJpoepsWrAm8t3eF3kEABEAABEAABEAg+ghgPhV9rNETCIRHgE0cLFgw11YstRBb+fBT3fEOL11of+KJJ4h3nPAuFjgQAAEQ8CMBCKIujZoSMU3NOfP0uAorn+urMARRE01v0zCB95Y/egcBEAABEAABEPA/Acyn/D+GuIPHhwDv9njv3aK2XR18d7yqOE+efPJGt2zZROvEji3dFX+3BA0fPlpPQhgEQAAEfEUAgqhLw6VETFNzzjw9rsLK5/oqDEHURNPbNEzgveWP3kEABEAABEAABPxPAPMp/48h7uDxIrBCmJ1iG/gRdWxDfsXKddIsRETroBwIgAAIPGoEIIi6NCJKxDQ158zT4yqsfK6vwhBETTS9TcME3lv+6B0EQAAEQAAEQMD/BDCf8v8Y4g4ePwJ9+/aipUsWRejGqlarIQ716hWhsigEAiAAAo8qAQiiLo2MEjFNzTnz9LgKK5/rqzAEURNNb9MwgfeWP3oHARAAARAAARDwPwHMp/w/hriDx5PAwoXzaNbM6XT+/DnjDfJBmx07dqXy5SsY85EIAiAAAn4iAEHUpdFSIqapOWeeHldh5XN9FYYgaqLpbRom8N7yR+8gAAIgAAIgAAL+J4D5lP/HEHfweBM4cuQw7d27m/69f5/ixIlL8RMkoATi/zfeyEIJE774eN887g4EQOA/QwCCqEtDrURMU3POPD2uwsrn+ioMQdRE09s0TOC95Y/eQQAEQAAEQAAE/E8A8yn/jyHuAARAAARAAAT8TgCCqEsjqERMU3POPD2uwsrn+ioMQdRE09s0TOC95Y/eQQAEQAAEQAAE/E8A8yn/jyHuAARAAARAAAT8TgCCqEsjqERMU3POPD2uwsrn+ioMQdRE09s0TOC95Y/eQQAEQAAEQAAE/E8A8yn/jyHuAARAAARAAAT8TgCCqEsjqERMU3POPD2uwsrn+ioMQdRE09s0TOC95Y/eQQAEQAAEQAAE/E8A8yn/jyHuAARAAARAAAT8TgCCqEsjqERMU3POPD2uwsrn+ioMQdRE09s0TOC95Y/eQQAEQAAEQAAE/E8A8yn/jyHuAARAAARAAAT8TgCCqEsjqERMU3POPD2uwsrn+ioMQdRE09s0TOC95Y/eQQAEQAAEQAAE/E8A8yn/jyHuAARAAARAAAT8TgCCqEsjqERMU3POPD2uwsrn+ioMQdRE09s0TOC95Y/eQQAEQAAEQAAE/E8A8yn/jyHuAARAAARAAAT8TgCCqEsjqERMU3POPD2uwsrn+ioMQdRE09s0TOC95Y/eQQAEQAAEQAAE/E8A8yn/jyHuAARAAARAAAT8TgCCqEsjqERMU3POPD2uwsrn+ioMQdRE09s0TOC95Y/eQQAEQAAEQAAE/E8A8yn/jyHuAARAAARAAAT8TgCCqEsjqERMU3POPD2uwsrn+ioMQdRE09s0TOC95Y/eQQAEQAAEQAAE/E8A8yn/jyHuAARAAARAAAT8TgCCqEsjqERMU3POPD2uwsrn+ioMQdRE09s0TOC95Y/eQQAEQAAEQAAE/E8A8yn/jyHuAARAAARAAAT8TgCCqEsjqERMU3POPD2uwsrn+ioMQdRE09s0TOC95Y/eQQAEQAAEQAAE/E8A8yn/jyHuAARAAARAAAT8TgCCqEsjqERMU3POPD2uwsrn+ioMQdRE09s0TOC95Y/eQQAEQAAEQAAE/E8A8yn/jyHuAARAAARAAAT8TgCCqEsjqERMU3POPD2uwsrn+ioMQdRE09s0TOC95Y/eQQAEQAAEQAAE/E8A8yn/jyHuAARAAARAAAT8TgCCqEsjqERMU3POPD2uwsrn+ioMQdRE09s0TOC95Y/eQQAEQAAEQAAE/E8A8yn/jyHuAARAAARAAAT8TgCCqEsjqERMU3POPD2uwsrn+ioMQdRE09s0TOC95Y/eQQAEQAAEQAAE/E8A8yn/jyHuAARAAARAAAT8TgCCqEsjqERMU3POPD2uwsrn+ioMQdRE09s0TOC95Y/eQQAEQAAEQAAE/E8A8yn/jyHuAARAAARAAAT8TgCCqEsjqERMU3POPD2uwsrn+ioMQdRE09s0TOC95Y/eQQAEQAAEQAAE/E8A8yn/jyHuAARAAARAAAT8TgCCqEsjqERMU3POPD2uwsrn+ioMQdRE09s0TOC95Y/eQQAEQAAEQAAE/E8A8yn/jyHuAARAAARAAAT8TgCCqEsjqERMU3POPD2uwsrn+ioMQdRE09s0TOC95Y/eQQAEQAAEQAAE/E8A8yn/jyHuAARAAARAAAT8TgCCqEsjqERMU3POPD2uwsrn+ioMQdRE09s0TOC95Y/eQQAEQAAEQAAE/E8A8yn/jyHuAARAAARAAAT8TgCCqEsjqERMU3POPD2uwsrn+ioMQdRE09s0TOC95Y/eQQAEQAAEQAAE/E8A8yn/jyHuAARAAARAAAT8TgCCqEsjqERMU3POPD2uwsrn+ioMQdRE09s0TOC95Y/eQQAEQAAEQAAE/E8A8yn/jyHuAARAAARAAAT8TgCCqEsjqERMU3POPD2uwsrn+ioMQdRE09s0TOC95Y/eQQAEQAAEQAAE/E8A8yn/jyHuAARAAARAAAT8TgCCqEsjqERMU3POPD2uwsrn+ioMQdRE09s0TOC95f8o9X79+nX6/vsTtktKmTIlJUqU2JaGCAiAAAiAAAiAgJ0A5lN2HqbY1T//pH//718r66mnYlO8ePFk/HGcg5w/f44uXLhg3S8H3ngjC8WJE8eWhggIgAAIgAAIuEUAgqhLJJWIaWrOmafHVVj5XF+FIYiaaHqbFuwJ/OlTJ2nvvj304+nTdPHiBYoTNy4lT/4qZcuWnXLnzktxRRwueAROCf5/igcQ5eKKSXhmMRk3uT17dlHjRvVsWT169KbKVarZ0h6HyOXLl2jChLHyVipWrEKZM7/xONyWvIcLF85TzJgxKUmSlx6be/LrjQwdOohu3bpJWbNmp3LlPvTrbUTpuj9ft4Z+PvMzxYoVixo2bBKlNqKzkhqrnDlzU6lSZaKza/T1mBAI9nzql1/O0prVK220Cr1dhF5/PbMt7VGOFC1SkK5c+c26xNKly9KAgUNl3C9zkMOHDtK9+/ete0icODGlSJHSiuuBsWNH0ZTJE/UkWrFyHaVOncaW9l+P7N+3l9auWy0xdOjQxRLJ/8tcvv76CO3atUMiqFixsuuLE3Tmbdp0oPjx40ca9+hRw+nPq39Sptdef6SeFebNm0MnT34vmbVo8ZHtvoLN1dYZIiDgEQEIoi6BVyKmqTlnnh5XYeVzfRWGIGqi6W1asCbwLMT179+bDh08EOoN8hvyqtVqUqNGTejZZ58LtRwyok7go1bNaOvWzVYDKVOmplWrP7fiemD37p3UpHF9PYm6d/+YqlStbkt7HCL8+fywfCl5K0OHjqASJT/w7W39++99mjNnFu3bu4eOHf+G/vzjD3kv/DeVLn16yps3P9Wr15Bix47t23v064UXeisvXRUPC2WFGNqv3yC/3kaUrrtVy6b01VdbxEqouLRv/5EotRGdldRYVapUlXr26hOdXdv6ui+ElvdLviPTqlatQfXqN7TlI/LoEgjWfErd8eBB/Wn+/DkqKv1ChQrTuPGf2tIe5UhYgqhf5iD58uagmzdvWJjD+s4YO2YkTZkyySrLgc9WrKU0adLa0v7rkQUL5tKggf0khs1bdtKLL77oKySVK5Wja9euUfr0GWjsOPt4h3YjJ0/+QC1bhLwsrF69JtWp28BWdNas6TT8kyEybf6Cpa6/uNeZr/9iC73yyiu2/iMSKVmiGJ0Xq6CLFStOI0eNi0iVaCnTonlj2r79K/nigV9A6C7YXPW+EA6fQLu2rej48WP02muZaNTo8eFXQIkIEYAgGiFM4RdSIqappDNPj6uw8rm+CkMQNdH0Ni0YE/jPli+lvn17ET/YRcQlTPgijRg5Vq4ajUh5lIk4ASVKqBopUqai1avXq6jN98vDiO2ioxh5XARR3n7YoUMb2idWYYflWAjv06c/ZcueI6xiyHOZgBLZIIhCEI3oR+vevXuUPdvrsniDBo2pdZv2Ea2Kch4TCMZ8St3SP//8Q4UL56cbf/2lkqQfI0YM2rhpu1gJlciW/qhGHgdBNG+e7HLlv2JcsVIV6tWrr4rafAiiNhyhRnRxzo+C6NuF8srdWK+//gYtWLg01PvUM7799jhVrRKyc6RR42bUqlUbPZuCLdzpzCGI2tAjEo0EateqRkeOHKIsb2aluXMXRWPPj3dXEERdGl8lYpqac+bpcRVWPtdXYQiiJpreprk9gV+xYjn16tk10jf13HPP0/wFS+jVV1NEui4qhE4AgqiZzeMgiLI5ihZidcEFsUWe3YsvJqJcuXLTm1mz0a2bN2n//n1iknGYbt++JfNjPvkkzZ49X9gve1PG8U/wCUAQxQrRyH7KIIhGltijU97t+ZR+Z6tXrRA7NjrrSVa4WbOW1Kx5Kyv+KAcgiGKFqOnzqYtzEERDCEEQNX1SIpaGFaIR4/QolIIgGpxRgCDqElclYpqac+bpcRVWPtdXYQiiJpreprk5gb969Sp98H5x+uuv6wE3lTZdesqRIyfd/ecuHTx0gM78/FNAmXTpMtDSZSuJVzzAuUMgMoKoyX5Xd2yZd2cggtCKmkRw07ly5aHRYyYE2N26KYTRrl070tYtm+QVJEuWnJYsXUnPPPNMEK4ITToJ/JcF0bVrV9PP4nuebYg2FqtfHnWnxiqs7a/RcQ8QRKODcnD6cHM+5bzCunWq0yFhu9LkEidJQhs2bKUnnnjClP1IpYUliPplDhKpFaJjA22IYst84EcSgmjgClF+ob1z53YJq5JYhZw4cZJAcA+RojP/L60QDTbXhxiS/2RV9SyDFaLuDj8EUZd4KhHT1JwzT4+rsPK5vgpDEDXR9DbNzQl8nz49adnSxbYbSpAgAX0yfIxcuaZnrBYHA/Tq1Y3ui+2Bups2bTblyp1HT0L4IQhERhB9iG58V9XvK0Q3b95IbVq3kNxzi8PJJkycQk899ZRxHPj7l//WVorV2+y6dO1B1avXMpZForsElMj2X9wy7y7J4LemxgqCaPBZP649uDmf0hn99NOPVLZMST0pIDx+wmR66623A9IftYSwBNFH7VpDu57ICKKhtYF0OwFdnMMKUTubYMV05v8lQTRYPNFu1AhAEI0at/BqQRANj1AE85WIaSruzNPjKqx8rq/CEERNNL1Nc2sCf+ybo0JkqWS7mSefjCVO01wb6jb4Xbt20lSHsfkyZcsbT2Pmg2Pmz5srVkgcoFOnTtGvv14Qp9WnoLTp0smHANOpwLw6qW+fXrZratmqNf3442lau2Y1/fDD9xT36biUWdj8KfbOu8SnnYbl2AD6ooXzRf8/yGtgASpN2rSUIX1GaQzdZMOLT2DkEw2VS5kqFXXs2JU2bfqSvhZvf88JY+R/37kjsznPaYdqzZpVtGnjBvruxHd05/Zt4gMU3i5cRG6P5rZ11+vjvnKFSO+Pe1jJLPzxoS7K8UFWmTNnUVHplyjxvjwdkh+6+vX92JbXXJzOmDNnLlsaRw4fPkQrVy6n02IsTv94iuKKg1PSiEMC2KB87Tr1jG+y169fR4sXLbC1NWjwMPrss2XEAt/Pon8e09cyZSI++T2r2Pr9sO7YsW+ETZpZNFCcYquvnglNEOXVWRfOn6ckLyURhxDFedjuA+rzFqjnn49P779fKlQBM6CSI4H/Fj4sX1p+jjlr3vzF4W6D59XbbKvq9p3bwj5hjnCN37P938uXL4uT6pPYuDkuJcwos/z777/DXI3K+Tdu/EVsRziq7o8/fhf9/EMvv/xyVJuIVL0bN27Iv6mkSZOFu5pdiWxOQfT3368Qmwnh1ZORdb/99pvs92EOnWDm/PmOTP/8mbh48YI4TOSm+PtOLE6kTRDu/Uf23qJSPjLjEVb7aqx0QZTnLnzPzzwTT/zdPh9Wddfy+O8GNkRdwxmtDbk1n3Je9LBhg2jO7JnOZFu8SNF3aHQYB1I0a9bImmtwRZ7v5MtfgOaKA/n48DP+XsmQIaM82KJxk2b0wgsJbe1zxI02whJEIzMHYZMx8+fPFXOxk/T99yfk7ohUqVPL+VjVajWId0OYHH+PTZ36KfFJ8cfFQR48bytQ4C0qKX6TeR7L8xTlYov50kTxsvHLL7+gBaIv5Q4fPmizkZ8oUeAp82z7901hE2/952tp8eKFqqr0x4zl3RzP2tI4wmYRdogVgTyvOnv2jPyeTZM2nfh9z0K1a9czzhlMc8yaNevQvLmzxWF2e+nSrxcpvRjXrG9mC3Vuxn3zdx3fJ89x2QzPlSu/ycNOU4t5XSoxN2VGPP/U51FcLzLu33//pS1bNtE3gnMbh21kXZzTBdFbt27RFfHZTJY8meg7ZmS6i1DZAf37UNFi71C+fAUiVD60QsGwIRpaX6Gl8zyPD8+MGzduaEVs6TpzXRD9++87wkbuLUqQ4AVbeVPkUThUiedT/Lyp/0aHtWXedB/BSLt79y5dvHCBXkmaVFzfk8HowtYmPxv8/vvv4jstsS09MhE35lORnV9CEI3MCEW8LATRiLMKs6QSMU2FnHl6XIWVz/VVGIKoiaa3aW5N4Pl0SP5x1V2VKtWpew+7wKbnRzR85coV6tSxLR04sC/UKjy5Z0FQF7F4slutagVbHRajrl27aktTEZ7wDRo0jOKLVa1Ot3TpInECZn+6e/cfZ5aM88PDsGEjA1a38gmS27ZtterEixePYgkhVZ0EbmWIQKZMmWnhomUyiSeOQwYPCGCqymfPniNg+9yChcsoptgyV7lyeVUsQn6dOvWpfYfOxOJh9WoVbXWGjxhDxYu/Z6XxdU2ePJEmTRxHHDY5Fnr6DxgsDoAoasueNXMaDR8+1JbGooou2KpMNpvA19W2XcdIiy7379+njUJE5gcCNtTN7sjX39km8k5BNGu27GL8Bkthllcts71NFnfZNpvzPtQ1Dh06iHbv2iHF308nT5cPZXPmzCQ2lP+bEBPv3w9Z/Txx0jT5YMT1evXsRitWLJMPm5UqVyX+G4mssKWPU44cuWjGTPvfnbq+qPj8MLRq1WfyZQGLlU8//QxlzJiRatasS+8Uf9fY5Lp1a2iK+EywmzxlhhRqlyxeRLt2bRf2S29Tptczyy399es3EiLgc7LcwYP75emp/DfKvw/8d8kCeOcu3UN9kFW8WYjkU5VZkB83djRduvSrbDNhwhep4FuFqHPnbsaHzbNnzlDr1s1l2Y9at5MPeMuXL5EPrBcvXrRMfeTMmZvGjA25H1lY/MMT23HjRtNm8SKDH1T5mvlvOZN4mdKhfSfKKE7HNDklsrEg2rfvQPm3M3vWDNkXT+BTpUpNDRs2lg/jpvoqjb8Dhw4ZIL4D98sHVU7nSS+vpuf7De3BpU7t6nT9+jXxwFdc2JttRXOE+MEPpPwyRvxhUaqUqahevYZUukw51VWAz38rEyaMlfX0Ff0JXniBypb9kOrWrW8UT0aO/IS2CaGFr236jDmyXR6rZk0bSn7Zs+cM8zR3fnmwQrws4YfgadNm2b6XozoeATenJaixYkG0Y6euNPnTCVJwuXXrpizF9q3LiXFs0LCJ8TuJBRY+TJAdn1LP92dyFT4sI74771OFCpWpZq06ssiY0SMkX1X+9OlTMsg7LPi3RXflyleQ3416GsKPBgG35lP63bBAXkgc2OI8TEkvw2EWqr7cuC3Uw5Xy5M5m2ZPm8ilSpBSnQ5+ne/fuctTmXnrpZeIVp+mEqSPdudFGWIKo/tum+nXOQTidhcN+/XrTHfGCz+RixXpK/g3y36vurl+/Th+1ahowd+Iy/IKbBWEW65SLG/dp2rvvsPjenEnDxO99ZByfNP7220Vo5oxpNGKEfd6zbdse2/cZCwg8N+B5S2iOTUoNHzGaUorvbN0555h8zf+Iear+Xa3K829Wj5595AtZlcY+99+4UT05B9TTnWE+lHP48NFybuTMCyvO7S9fvlSKyufPn6PswnzWzJnzbFV0cY4F0XPnfpG/eWqOwHMRFph5hwv/bpqc/nvHBxRt3bqZli5ZRGfO/Ey/ixen4odH/p7s2LnPqq4EvbRCeK5eo5Z8UaA/R1gFwwkEQxBlgXrC+DGyZ/57fOWVpAFXwd8PY8eOoo2i7C+/nBUvOZ+Sh2fWrFlbzl2bNK4vXm5fovwFCsrFGHoDOnMWRHmc+FmOF57wHId/e/LkzUddxLwstDmG4ldMzDHUKfObN28kPkyMXZMmzalEyQ/0bm3hj3t1p6NHj9BLL78iXz7YMsOI8CFzo8SiEL7vX4Xoz99/GTNmonLlP6SqVWtQWIJoaFwVq6efeUYcaDU/VBGT+ajFI7zAhdnqjuem8+bNoVMnT8rvVx4TXrxTVzzT8IsXk1u3zj6PjhHjCfEMM4t2794l57gsUrNr3Lg51a3XwNYEv8jh+RZ/f/KZAfw5KViwELUTc1M2Q6LGgs1qmc7piOp8Sv97i8z8khcEjROfWeX4O+GOWBjEC3aSJk2mkqXPv0FDxbM1XOQJQBCNPDNjDSVimjKdeXpchZXP9VUYgqiJprdpbk3gP2rVTE4+9LthoYYFm4dx/ANdrtwHdPnSpXCbyZ49B80UP2LKmSbXKi80//0PStPgwZ/YsnXD5rYMR4RFPBa/8ud/8KZZ/Sg7ihqjr2V6nRYtCtnWPHBgX1q4wD5hNFbSElkQ5WtQp1ZqWWEGeeVBh45dxIPA11SjemVb2U/E5Pfdd0tYaUrQsxLCCPTpO5DKl38gSJseDMKoLrM+7t1PCgfhleP8a9eu0bJliyU3niAplyZNWlr+2RqbiMEiz4flQyYm7cWkYa4QT5Wwpuqxzzz5pGcW0JyuXbuP5GTsFfEDPkIIx2zjjX/UnY4nVup0d54kjR71iVXu/9m7DjiraqyflfWzYG+7oqvYlS5NBFQ6gkjvvQwISO+9SO8g0nuvSu9NulSxIUhTQVgFO664i86Xf4ZzOS8v7827c+/w5jHJ7zeT3PR7cl9y8s/JOWCUXn21hKghJToyyPGPxEE3Y+dO7VRWjBvGz6u7ePGiMoYWbkMGqRswf7pUIWeqwbh079ZJSYbqfcr9woti/PjJApLb1atVMm5msekZ9fYY8YLMqzuid/r0j0um8jUxToJ0JgeGD4wfxp07PuZ9+g4QO7ZvE+vWreFZVBgbgEmTpjvx+C7atG4esFF2EmUAG2ls0iDVrDsC2QCIgkkN1WeoMEAdJgfwuH271g4QqueB/sChQ0cZJap5+wCjQ0mZla9QSfTq1VevWklQ1atbw/legzLIiH/96xGBAwFdIquT/EZXy28VwO2mzQl60FC+rqzv4IH9SqJjw8b3jdLBOGx5tXghtdHJmze/GD9hitO0l/FwKjEEiFbly1dSElLYSJhcPrnRwOEXwAXuduzYJppKKTy4cNeXs2V9Th0mYV4hC/LdpLGc5RLkicTVrRcn2siDIutSHgX84qf4m62RG+WOHdvyKNGtWy910PH2FdCBEptJECiUvl4dzKQyoXzMxVg306VL52Txo45wgGgkPMjcubPEwAHBc5XTSRboLw+46fYQDiEqVyovD/uOsBzhgwSIRsoD8tpGj5aAqLzNM3XqJDFSghXcbd222wGYAOxUrFBGrosneRZjGGsN+DwOVLvhMVEpgCPoMCVQEXSpU7uGvMkkD8kicA9K4GrZ8jUKvEgsOw4h58yZKQ8vl0iJw4SDJZThUvhUB+cj+vUbJHrKm04msB7fZT954I5bXbqjORzrbWZ5E6pv3156FpEmTRrx4aHDTjx+W5DipX0qDukrVqwsqlStLm/I/NPJl1ggOQBR8LO9e3VXTa9YuU4dYvB+QKq7detm4uOPDvFoFcaB65ixE1R5SPwWlXw8wGzuOM1nz1kgWrdqLiXFv+NZVPjee+8Tk+WhpM5TIdEEiOIWSeFCL6kxD6cXEnw61nms9zAKBwGESBzKtWjRVBz5/Oo48nIdO3UTu3ZuF9u3bxWPP/6EvKm4mierfYKJrmMk+Dxh/BiVd8SI0cZvDInE29x++x1i85btjiAOfst95UENhB5CuQry28L8je+QOz4WCxctlbx2a6OtDX2OXyQBf8yHJmEdSD0XLVbcuSm5RM7nkDjnzgs/xX9vbvhLN8aXM2XKLA0uL+ZdtuEIKWAB0QgJlVg2WhxM+fQ0/kxh8lGewhYQNVEzunF+MfCVKpZREnL8bXbu2qeu3CCumwRJlkumKDGXW+pDxMJLbtCg/uqUjJ7Jh3TDV/LUV3d9+w4UuHYPh5NlXUJUz296BmOQJUs2lYST1VKvFQsCBMAg4EoJWfCmegAOYPEl0MgNs0qA6KlTJ0XZMiWd3w3VnZgPRhnMbpUkSogmthmB1fIG9SPXPQlmYcXKtY6Ek0lCNLF3wgn1qtUbwl67hgqEuRJoBKBAEiNgNgoWLKxOinO/kCeoGQ6OAdgAIAggpGChwuIO2e+D8krcxAnjnPGlzQ2viAA6SDfedPNNCrR/WqpPwPWYe6RU3N9u+JvKXk8CGPxUFsAtGCaoD8CJPjkA+gBGC8vrW+GuhgFUGzfuHVUMJ/I4mffqunfv7OgYzSqv1oFpe+SRR9QJ9yx5Sk1G0Jo3by0aNmoc0Bxn5LCBxNV1gLT4LXx9+isxY/o0Z7NXWkoifiSZd1zHr9+gobrqj0OP9evWSqMgCeAkymHDhs0fd0RvbIgwzjAwENewsbzi+ZySdFoiJVB2796pimSUkptz5y0KCYJjnLAxxthBEhh13XzLzaosNoocZMY10Z0S7Eqb9jYJjLcWReRGDN/24cOfiqFSqhgHL/jdLVi4REkY8T4Tw4h3+uabM2pz/kqBQuJWSSd8YzgkIEZ2xsx54nkpqcwdNhYwVAe1AKijQ4cuUromh9xAxCvpZEjNXrhwXm3cVq5a5zDmVAe1D1ASG52yZSuoa4+33nqrkp6eNm2yA15DujdPnrxUVPnly78uv4Ev5Ob3FiUlkiNnLgVgQn3I6tUr1PVKZEQ5lOeONg06ILp69UrR6QrAg8OIOnUDpR1Qx66dO0TjxgnxuoSYl/Hg/dPDRCuaD3JKSWEYsgDdj8pvZdrUyUo6GOXoEInX4QUQxS2CE8cTpEL/lAAFJEbhYCwtf/6XeTMik7w+mytX7oA4+5AyKOAXP8Xfpn69WgG3YzAvbt+xV11/L1AgrwITKD8OXdas3RQw71GaWzAT5XDzpp9UN0POjzq8AKIXLlxQ/BgH16hvJh/8w/oN76u15L13F8lDH/Ohk6ks4ggQnTlzmprrQ+UzxZOEaGKAKF/PTfXocc9LlTczZs51onUJUSchTIAfMh09ekSAf+cOB7VPPPGEWhtOnz4dBEwmdhCLwyTc0MG8Rvs/zKulS5dTQCOBsbxNzkcgL6TWGkpjfDDGipsmW9/fIgUGEt4b47Jy1fogaWiawwGCfSVvctwgpexw0IxDQ7qdgjhI8HMH4HbBwrnyRsJ7zk0R3BIqVrS45MlqO/sBXkYPEyCKvUknCchF4r76+ksH3Me7QqqVu8QA0datmin1WygDnqZ69Zri0fTpxZEjR8TUKROVehuk4feSGCCKfuNAv179OAV8QghlvqT3Jx9/hCqUSgEcfOrOBIgiDyQoFy2ar7K/+96KABCf6qBvH/z62nWbIwag+TcPwKyaPFB+LP1j4pgUdJglf6snThyXKn3uEj/++KMrQBRAK94Ht8ygHgI3kXQHo8GYw3CDCkICXbr0cLLw3zoOufH3T8kPnzlzWt6iGi9WrVqu8uLwG2nc8e+f+FPM5/it3CfVetCVe+xr0De4I1KVGgRgACiDB60p9w8AQf/47x+Sn16rDqTvu+9+5zDdBIh64afo9+aWvwT/CIEEcvhdA7THYUvVqjUoWvl4d6xD1rmngAVE3dPMWIIWMVOinsafKUw+ylPYAqImakY3zi8GPm/enAFXuvRNcKSAKDaAU6bOVEQ5Lhe3ihVwvfAvh0iQ3urZs4+SRsI1i86d2geASgAqwSilTZvWeAUcFUFnZvHiJaT00b/ldePJQdKnNWrUVld3kRdX9blOKUgMAnTFtQcwD9BFBcaDuzZtOjhXGvjCzfNg8cJih6tp5NJf0SEKYzmbN2+kaOVD0han3jffdJNYvkLqmWKLCWUEIIrF87PPPqUodVWCro0jEu3xDU5C3D/Vpj8cIArmFGNx6tRJp268Qwd5XbdUqTJKWmWCvGJKhnsoEwCwvvK0H84kIYpTbFwbBdOLU25sPMBocGcC/TCn7Ny5XTHdu+S1dZpjsAGqIKXdcB2d05bXhzC+LZIQxbOJwcfpc+3a1dQ4g66QlgHjRo4AOjwDNBkydGTEUp4oQ+8ASWCAKfSd47uoJhktSO0BeNMdJBogNQS3UIJwoa5r6+VCPQPQqyH1/6I/uOIHAIqDkbhmGNegtmK+EjYi65TUH9XHGTlcqUOfuA4rbGbw7RD4i+9m9pyFUpdtZqpC+f369XYANn6wQZl0egNA5OoGIOnSrWtnsXLlMlWESwchQh9zbEAaSkAV13RCOQCsuEYFh/HFvMEdmGNcgQYjrUuWIh8xjAhDGhBSgdxh3EmqENf9x46dxJPV73fSpPFKdcGixUvVd8Yz4DcL/Utg4HXJAeTj7Zu+8X1798g+1VZV6v3HuL+UP7f6LuLi3jBKSWOTCmBYIjCiVq26AVKToQBRSFEULfKy2qzgdwVpI921a9tKAeT4PW/ctM3ZDHgdD70d/sxpBdAb0s60CUG+n376SdSXB0IAiAEYLFu+OkAqlo+lWwlR3o/Ll60OUU6PWAr7xU/ROwOoKVWqGD0qHwd3vXonSEhyQIQyjcctlXz56dHxTWAmDr+g1ggHdlBv0VvqXP/tt4tOGQQWv7vcuSLtRx1eANGuXToIGOTkDqAEJMvAN0CdD65Iczd48HB10FmyRNEg6TccnhcsUEgCBhekeoxZAfwN6iBAFFJUX3999fASB910+Ip8BWQdtbSbGpDiBCgzdWpoCVGsieXkDSjMieSgiqRPnwHqMATATp8+PcXnUg0Pd2/JdFIHYDp0Rx315UEs1uONG9cbhRF27NynQEKog9J17W/YuNUBp3BVd/CgAQG0wbytg4rIB938s+fMVHMk9feJJ55UIAfUsuAgLpTjfAT4wukzZgcBkZCG63NFLQn/HVCdfA4HaAQ1WjjsjNSBp8ethvnz5yh+h8plzpJV1JJgU5GixQPWBEqHT4Aoj3MTdguI4tp23ToJ4FG2bNnl7bTJAYIDUANUu1ZV5+ZTYoAo9mzgce+8806n21iLGtSvLW0GHFBxc+cuUgdyTgYZCAWIHj16FWivVq2m6NwlQdKVyoJfK16skOoffj+6miLKp/t79uwWDePqqmjcOhozZnzAQfDFixflNf36DpD7+OORS4iiUrrtCF5/3fotQd8P1EqBV4VbtHiZcwj+kwRfS5YsooQrQqmLo7ohhbxq9foA/p5//+C/wb8Wld8b9pyhXMOGdcWeD3arZJNEK5d4RSYdEPXKT/Hfm1v+kr+T1SHKqeFf2AKiPtGSAAZTdXoaf6Yw+ShPYQuImqgZ3Ti/GPjcubIFMIhgQrCRJdetW2QSohwQ1Sdz1IUr1I88kp6qVXrXZs+a7jwjQNJ8JkNPOugA6UJIY3KHzfBweV0CIAOMW9D3izxgPJq3aO1kj5dgbdu2LQP0kpKkJzKZmFWcdmHxuFtKEeoObeFKJW/zoYceVlKSN9xwg5O9Ro3KzoJPkbhWoINMbqzMhwNEoR+vTp3q1JTya0oApIPUtccdrn7xK2lYzA9++JkCEiFhNWLEEJ5dXvdpr06kKZIzvBSnn6ZC0mP69KmCXzEDwwqmC4AVSedSeZPPwTFcwYbxL05fKgMJQIC0cFOnzQ4wMMUBOq/qIb6R0oMLpMQodCaSTlVsxkqXKas2ewCGyOF727B+rXoMdfJOeSPxO3ZoI9asWaXGCOAUl2al8lxi743Gb0p9lC0oSem5hd4pOF1NAmXi41pIGv8YOSrhWhKlw4cEI65ZwZFeW/Vw5R+ntw52Uj4o1weDjo0Nn0uQzsccjPTkydOpWEifDidwHXz1msBDCiqEQxGS6IOUQzoJaJMjhhHjR5JKlEY+/ZYB4CMPd/ny5lISK+XKVZS07ceTnHDjNxpIfa07VLtonztqH/MxmHsO6FO+enVrigMH9ilDbZu37KBoJZXzYp7sCqgHUA6JJzcuFCCKOoYPGyx/w1NUdTNnzQ+47o+NReHCLyvJ2Xr1G8o5op3TrNfxcCoyBIhW2IzjUI1fFabsAICbSx2EcPoVvx07roLbFhAliqUu3y9+iqjGfycUx0EJPi9TOkAbqHDRXa6cWQIOGyFpD5UV/NANUvY9e3YNKNpYzvcwrgjnRx1JBURxYJgzR5YAaUXo/AQoQQ4HtzgwxBxCDlfmMX/HxSXo66V4gKE4eCOHmxtFi7wSwMdCMn7vvuDryG6szIcDRAHgcl166AvUvRQsWJi6pW4HFC1SwLlJgAQckJPu8KZNGwYdkONwPKPU3U2O1nh6hk+8A/T5AVjnDmAjwJj/u+kmBWI+/fQzIfkqrLXQIY41nngXrDN4B/Bk0HMdieOAEG6oQPDB5KpIiTgAxJin9+3/KGBNozkcNz9Wr9kQ8G2b6goXd+jQhwoY3bB+nUN7SJpWrVpDHow1DOIXrzUgyg8H+JzA3wnGvPpKQB0uMUAUt09IpzWvY+eO7ZIHjVNRJv4uFCCKArVqVlWqGDDH8KvlSIMhN+xP4EiaWj0k8g9CMJC0xN4CV8sxB+gORl/rSGEGuMcfdweIQqoZgixwLeReD7eQuKPvD4bO5kiAmBwkogdJPe9w69a/bzTyidtRtWpWUXmgtgk62Mnx7x/zLebdcO7MmdOiZIkiKou+r6VymA9xwwgH9nA6IOqVn6LfW1L4S+ojfAuIcmr4F7aAqE+05ICMXqWexp8pTD7KUtgCojolo//sFwNfvFhBZY2XvxGYlZukJWO4SAFRDlS40avG2+3StYdiWkyAKD9ZpzIARAGMkoPUxKzZ89UVVyz2bh0MYWyVSvPhdED0tttvl3pt9gQwcbx+XNEvIsEA7iDFxkFYpOEEu3+/t3g2pVuKM8FI9AsQhVQGGDDu+OkoxZukQAkkMgGiuN4HwJccrgYXeCUvPSo/Li5QOg30AZ3goM8P14wyZIhM/6YqJP9xcAzSJQA3TO5zKSVKKgigYxFSm+QIoMNpLjZN4a65U5nEfEi5LF68UAFGdJVaB1egIH3SpARwisD/xOoNlw4Jx2PHjkqDBQnffai8xPDrG27OyM2XOnBNY4HNBaQV4HQgibeXP19uJW1ssphM9MZVtn37PgopqUGn8Ni8bJRGRsjxMTdJU1I+7tPcAEmb/PkSwFqejjCkhyCFAzd+wtQAHcLEMOrSlyrzlX90tQwM/l75XjfJTSgc/y1AlQjXG3elqPIgKf/JJx+rDdqevYec8kik9vPmDdTDycv3739VXzHKc+leAmuRH9e4oM4BFotxtQlGKPDth3LhAFEYpnq9VHHFG+hgL6xeDx7cX214VqxYJx559FGnCa/j4VRkCBCtcFWejEAZsom8L+ZQUiCvvVZaDBh49YDHAqImaqWuOL/4KVDt8uXL8oAov5KkJio+KaUO35PXT8mBtwaPclZeNyQHoGiz1NmrG4fUD61xs6P/gKvX4VEeG+gc2a8CaYjj+oX9qCOpgCg29cWKFkCXHAdjkDg8S8xxvduUF9d/cb2UO37YiHiSEOV5EPYLEIVBmSVLrurHA3C0Qxr80aXCdD4ynTx0o8MvHRDF3IzDL+6gK7t9u8Dr2LRWmXhOXhZhAJyY93ElFwAz7x+XYkY81P7UqVPPkTDV6wr1zPmIKVNnhVQLggNqHFTD4eCKH+DSHB5uvQ3Vfqh4rMOjR48U70q+jBzWaf1mCfFHOGDvfUWCm/KH8r/88pRzAOFWQpTW5lC3LNAmbue8kDtB/VdigCjXdc/7C+npQgUTfidc7zXlCQeI8n0D9MJy443Ep+EgeO26TRHzz7jNBH4H/AckWkM56pdbQBQHLwAaMafi5he+MfrecUW9cqWyqkl9P9Cvr7zhJK9+4xAFt9RMDnVj74Z5W9/X8O8/1FjwOjlQjdssuPlocsOHD5G38yarJB0Q9cpP0e8tqfwl9dcCokQJf30LiPpETwIxTdXpafyZwuSjPIUtIGqiZnTj/GLgca0U4vfcYbHCogV36tRJdS2JpyMMq7yknxDPHBAlySXEu3EkVWSSeMS1jAIFCgVUp+vogv7BefMXC36dNKBABA/EMOnMKkCFxe9elWjQq8L1Zd3Se/cebylddjwvrGeCoeAuOSVEx417J8ggDF254n2AegGoGeBuypSZSkpgquHq2K7dBwKu2aJclszP8OKibt0GyloiRRJDhGeAY5A4rCpP7d3o1ePgGFQIQGrX5KDfMu+LOVUSfVeUjwA6vjmhtKT4J04cV8zSiuXLHAMEYLqhU5d02qJe6OLFAQMclMfXqFFLhZPyDwwaGGYAsaYNMq+T6K4zopyRg6VSk2QdGP/Sr7+qqqMDC143hXGajWuEALrHjZtE0conej/00MNKT15AInuAXk1IjYOJBcBHGxc+5vrpPCvuBEGbXDmzOtIhTkKYgP5uxDDi+9JVVVA1/Lf1/tZdjs5dLuVAeRPzdYaX2teloXg9UHUx5p1RKoq3jwiMG5hVkvzh5QDcZsqURTH2+fIHg8XhAFHU06hhPWUBFZJqkEyl65Skt1SX8PVjPHj/9TDRSgdo9XzYEGFjpEuIWEBUp1Tqe/aLnwLl1q9fK9rJ2wDc/UMaecEmnTvwVt9LyXju9JsXSNOlO00HrcgH0JEkivDMpY/8qCOpgOj+/fvkNfCa6JLjTGpMnEQWMB3ULl+xVqRP/xjLJdWiDBkQYHguuSVEcR153749Th9C8Ycw1LJw4TwnH9Y2unlDOgApESp0Fi5cQo/KN/4dDusAAEAASURBVOl/h35E0kUI/YajR48IKBPqASAyrmffcMMNKgsA1fLlXlcHmYjAoT8k36pUqRZE31B1Ip7zEbgpEUrl0ZYtm0TLFk1VVWMlj8B1LNMcHm69C9cHnoZ9K3ShzpdXpLdKfhvrDxx0MgKM1g8DCRCl/QOvK1T4sJR0JSOobgHRl/K/oG6mJXZ7g35viQGiuAGjG0ZEv0GH57NlUO9vugpOwGPhwletzNP7gq+E1DX4B677Ft8MhGhwCy/cATnVw306NC9QsLB4W0pTh3LEX7gFRFEf/z1wcB43ofCdQp88DEUSz4Iy1B7CkTh9PPj3T0Ik4eqZO/eqcblQgggoz29ncf7QD34qkt9bOP6S3s8CokQJf30LiPpETwIxTdXpafyZwuSjPIUtIGqiZnTj/GLgSTk2fxucFHeUOibDObp+QHn4JrhJ4zilJ5LSIvUrVaqq9Bt5BUQheVWzRsL1hkjbpnybt+xU+g0jYVapDPwvvjiq9C3yuG7deonKkrnkznTNKTkBUX4tmPqxTUrB6lIosNbZQV7B5m76jDkie/acRl1aSQFEsZBv37ZV6qqa4ejPQXtPXNFVVUqCT2nTpuVdCApzcAw6xl4t8VpQHkRcunRJ5M6VVaXpKgIIoIOV+bVS0jUpDnqUtmzeJJmsOWLv3gSpYtSDjS90o1WoUFnpIeN1c2nLxJhhXs4UhhRSLvl+f0o/MSCoTu3qSpcUJDJwak4ukJFLfkAUEhjLV6yh5oN8fiK+a/d+CbjfrvLwMTfpKNUr4rTBFUUY3ErMQco2a9YEiQzkJYYR+n/79BlgLM6vTXJAkm9iy5atIJ58KuFwyVjJlUiojMC3Q85L+1THL7/8oiQMAPhhfqKNIaXDN13xSgwQ3bhhvbSWniCZTVfx+IHQoEHDlK5maseP8aC6TD7RitYPUx7E4cAK/Xz22efUlT3KZwFRokTq9f3ip0BBrh/OLUV1ySaU18FMk7QX8vEbGHjmxkX8qIMAGtQNxw+LTDzbUGkZu5i0kM2vmyaUFFJCe6h47bXX6TGkP0caXRw0sG9AOoxfAizhbtDAfsoqOsUlNyBK6k6oPf2wkeLpFgE9Q4cxbmABlIyEx+RrCdXBAVHETZkyUVrYHhugMoDy6n7z5oHGFcEnLV++VBlAPSUBejiAtnny5FVGlAoUKJioBCDnI4h/1tvFMyyHQ2IWTlcvQHN4uPVWFQzz76LUQbl8+RIxf95ceSCY8C7IniFDJnWlPJRapmsNiJI+X/3Gjv5qsOIOaUcdgEM+TvNQh9nIB0AU4KVbQBRlhw0dJGbMmIqgMpYJPp1AsjRp3BlTQh0knZ3Ye5MwSlIAUUjFFi36iuKLaX6Cnl/MXb/88rOoWKmK6CEFVbgjwRrcTOJGOXkeHgafhm+JXKRjQfm5kVoufETp5C9b9p7o3i1BtRkHRP3gpyL5vYXib6l/8C0gyqnhX9gCoj7RkkBMU3V6Gn+mMPkoT2ELiJqoGd04vxj4EyeOK+Xw+tuYLCfzPFWrVEgwynElkkuI6hbm3UrimZhrNxKisCKf54XneXdFJJJlvEAkzCrPz6+4UHy1asEKySdPGi9PRwNP9HW9UShP11KoLh3Monj4JnrRZoSfylMZXacm4nG1CPqkuCNJ0qk+SYjyugFyzZ49QyrzX+7oR8Pp7eulyyjmDcyXyXFwzKQniMrwfF279lTMPaV5AURxDevdxYuU1AeuXJPLIsG0mjVqK+YVzKLJ4dQd140hxYNNB5ihUO9J5cHM1ZPSNb9IPWkZM2UWA+VGktzrUnITUtq5c+dR0qgUr/u0UdZB2EgYOT8lRPlmUO8jnmlcYFhi69bdThY+lpEAoihY+vUSalPEQQGnwggCXhhGMOV0VS2UNfbEuuClfVPdMJwBY3RfffWlsvqLq5jYIEBSe/nyNQHSa4kBothgQRoNumOhm3nmrHmOZVoYHYAOal0Kx+t4mN6J4ohWkIAyWdPV8xUrVkIMHTaSopU0EaRE4EyG4BCPK8k5c2RWPJGuixfpcNioQHc1XCjQSiXafymOAn7xU2fPnpVX4Qs5vHNSXnTy5Bnyxk0ep6h+3d0kYQU9mjCkxl2t2nVF+/YJG2o/6kgqIMpva1D/Qkm5Ujr5HESjuOHDR0sjOcXoUfn6TadQV+ZfzJMjwPgUVysQUKF8mGrge7Zu2610yNNtBiqD2wzbd+xxVE1RPB1G0jOXJI2Ex4wEEEXd4Es2b94o9dN/rA6/sG7rRraQj+vJxzM57PWg1xaGlXbt3O58v7jGX0mCSKDTPVKftslxPkLXK83z83xLlq4K4H1oDk8KIHpC8pKQBsU1b1hlhwMPVkhKPoInez57Dt6NoPC1BkQrVSwjjh49ooxq6hLB1DmsJTjEwFobLUCUq8eBkEx7aT8BUqXnzp1VRjzd6ianGxr6gSS9M/nE1yYFEEUdpD4Dv0ncYIEhWxL2MO216NAC+w8cxIM3d+P4dx0OnKY68TuFDlA4076W8nFbHBwQRbpXfiqS35sFRGkkrr1vAVGfaE4gpqk6PY0/U5h8lKewBURN1IxunF8MPN5CZyYRh40yjGLAArFpgQgHiJqsX+p6n/BtzZ07WwI9P6E55cC44GTaBPCZFg462aPy/MoLjLxgw04OG/cZM+cGvMuxY1+IjRvWURblN3qjqWKmImFWAwrKB33DgAUWOqHuuCPB4jhACSxkYCi4My3SbVo3d/QbIi8kHrZt/8C5RszLm+hFgCgHtKiMDhL99ttvUvdO4QCdZ9y4lmljkBQJUWqf+zCigKsh0OGD6zjkIHEMScuiRYtTlPI5OAYQcvbsBQHp9MAXc/3bI+DNjYQoGFhc31u/fq1zFRu/EUjA1KxZW17DTZBGpfZD+fzUFyflw6QUjen3ReW53lEdXGshr5+9v2WT+jbWrd9sNPbFdanWrRuowiASRo5/P/q1cuoj/EiuzCOfrlcVcXCQ7gCz/bOcDwhkS0gJ1BsbKSDaUjKcWyTjeccdd6prcrfddhtVF5HvlWHMmzenuPjrr0YL9pF0wGv7ibXBjbAMlBKdJUuWcookBogi4zvyqv5EeWUfDte+4qTFe4yhLo2tMsh/XseD6jH5RCtc4ceVNViI1h03LqeDMZDCgTQOnOnKMuKx6S5XLoFGoaTbIIELQBS+SSIH9ViXMingFz81auQwJbHn5S1LyFsPg+TtB3I6mIn1AoZ1SK0R8o2U7U6VkoLc8fnajzp0/oYksNBmOB4E6To/BnANV33p6uo335wR1aWOwR9/+AHZlcNVZLRBKlsoHlL/0BVM6yb/bVKeUIAoXVemfOH0Dpv4HgJE+XVWqktfn0268EtKqVg61IyExwwHiILmly79Qc2reY/rqwZdJsoD+DWrr+prhLoUqKOha/NOYRaApCgMzUBy9NKl31UKDjPB69SQvI5uAJTzEeEOgkhyGm1DNRU/NKM53A0gCvVTs2ZOD1BdAF2u0ANZtVpNowog9ppO8FoDogTYJRgBXKeMKjqduRLgggzRAkTRFdobwthVL6lflYx4uTGmRO/Wrm0ryT+vUXvLFVLthema/4kTx0WF8q+rNTSpgOiePVet2Xfr3lvt8aBCIRQQS7rP0c9IdIDS+5DPv/9IAFE+X4UzQla5cjlxRNpCgNMBUa/8VCS/N76H4jeg6L3h0x7cNFY8nw27o4AFRN3RK2RuAjFNGfQ0/kxh8lGewhYQNVEzunF+MfB4C1wjrCstkUMaTXdgMLJmyyaeezaDMobylwQyASJi4eKOK0MHyFVKSsL9IiWQyEE/EZRZQ2/QhfPn1aaBK6VHPpLiNDHXbgFRkyoAMBZNmzZXhkUOHNgnunTuEGBlnluLjoRZpXcjX5eMRfxTTz0jatepK276v5ukwacZQRbmkccEiHIr6cgDh9P6hx56OOFB/ocyblzJN9GLAFFkNul0hf5OKEqH5CH6dVyCw9xx/UCmjYFfgCi1efnyZQU2Qockvkdyhz76PIB554Ao8owYMVoULhIoLcJ1YwHYXbFyXYDBmaQAoj26dxFLl76rugUpuIrSmioAW9TvxgEsqSglBIje2PxCR+XfJbjKHSQDpk2b7FhBRzuL310eAPZwfbTVqgVLI6MOWN3cKSU+0kiJicXSqu8TV3QDo61IGDm/AVHoSZs5c14QsM+vy+tWU/mYRwqIbtt21eIojHfAiIfuIBEDRflwmBfQN3JeGUZuZTrU5gHX0Q5I/XoYe4Bs2KyS89I+roCDyYcrV75iwPUuqp8DhLqRgUgA0XPnzilJOHzPjz6aXkmeom5d8ofa8zoeVI/JJ1ohrXr1WqJT524B2SDd2TCujjh48IACUQDgPsfGGnwOrjFi849NGq7k8s06KuvWrZPSAYxwuGtur8JQjgR3YETnXfl7JdAG5axLuRTwg5/CGgZpfEjrkXvooYdFabnOhnMwxscPb3HQtkWq7iFgn67Y8jqwBjWSgCGu2OP3jgNF7gBgQT3Kgw8+qKL9qMMLIGq6gZIhQyZRr36cMoI5V16N5wei6PTESdPUATlJlvH3g/E+0BV0Gz9uTADNkS8UIKqrekJeACWkngXPLVu1VepTTHwPAaImHhdlsdbAOvvJEydk/8epQzHEk+O3cyLhMcMBonFxdcVeCf6QA8D2Vp/+AjwF1nv0sVnzxuLjjw5RFglAp1VScOEAUcoMlSswSAQ+Abda4LLnyCmmT09YMykf5yMgBACwXtdHziV9TYYXaQ53A4iSDkz0A+p4oJMdOkhvueUW6lpE/rUGRAFQd+zYVvUNAPmAAUMC1olLly4pQ5ZHpL5ruGgColzFF4zO/ii/KVwZxwG8W2Ok3E4BvlEcxPL1EWqoWrVsJsDXwplAtnffXSh69+qu0sHXg/fQHdZzHKLgNgzmxzNnTisso2vXwJtiVO7ChQvq5hYkqqE6adr02UH8+DdyTQeP+j+5R8Z44KCGHP/+IwFE8Z4wiHrixHHZzo1Sfc+SgMMt1Mu/ETzrgKhXfiqS31skgGj37p3FsqXvCaw3a9ZudL0fwrtZF0wBC4gG0yRJMQRimgrrafyZwuSjPIUtIGqiZnTj/GDg+RtgAsZGmMacp0US5oAo8nNJuEjK4wQS0j1p06Y1AnxuAVGAu+WlRA+ufUTqwAjjhBsuEmZVr/enn35SUm6mq0p6Xv5sAkQXLpwv+vbpybMFhQnoSQwQBaiFBZisnwdVpEXAMjcs4t54440qxbQx8BsQ5V34SDLwAEY3btogDhz4JCQgCqYeTFmr1m2lFe2ialNz8OB+0a9fb/HdtwnSpm/1GSDKSj2Q3CUVEP3004+VhASstd500828SldhGN0BUPnrr7+ocrhGB+M22bI9r35/AADXrV2jLMgjA5jG8ROmBFnWRRqd4COMzUSVytXEv6Su0OPHv1B6xXAyDgfwtkuXHipM/yJh5PwERDFeANAgyQ2AMkOGjGozvHDBPGdDD9UQANXo20NfkwKIohzXZYwrfwDLUP+pUyfFB7t3KTURly//TzHVaJOD0l4ZRkhLlnqtmNqog1ls2aqNMiJ29933CEjtrpTX+957bxG6qTZxAHq589I+rs+WKV1CtY1vB4cbkLR+7LHH5BW8v2T7n0lrv4PEoUMHVZPYwHLJokgAURTENwzGnBw3vkBx3PcyHrwePUy0ou8LY40DAow1NpWjRg0TBw/sV8UAovSVVnN19/ao4QL6luEAjL8hwSbMgwBcIE2LzRxcEXn4MnzEaBU2/YNFaKgjgIMqi4IFCwuogIDDBg/gi3UpjwJ+8FNcty69YSTW1PktAFM5XbqT8oTzq1StLrpKAICcH3V4AUShLgZzEqSxI3F8Ltm9e6da5yIpR3lCAaIwHEm/Zcqr+3SAZeJ7CBBFGbc8brlyFUXvt/o5zUXCY4YDREO1j4O1x+Rc88XRI0F6o3U+3elMmAAOVgGM4ZDthjQ3hAVEMQdD+rdr1x4Ckry/S3Bv8+aNAgeE4D8BAC1ZujIIyKI53A0gCovimONr1qoj8uV7KQBcC/M6QUnXGhDFHqtmjcpyn/Ox6gv0UdaX+w6Ae0flejV06ECVRutZNAFRjH3x4gUdfhodbtKkmeIpgggZQUTNmlUcgB7vhf3WY489rvjVcePeUdfbcdUdoHBSAVF0g+vpxDNu2G3esj3g4APx5KZI6XpI98MBFG3Tpr14Rq7VFy6cV2OB7xe8AA5KF0nBAvSZXCR8NOUlnx8Q4BYTpPlffDGvkviGFC0k/uMlrwx+GU4HRBHnhZ+K5PcWCSAK3r1v316yN0KBzziAB2CeJk0acZfc0+fNl1+l2X/uKGABUXf0Cpk7HKClp/FnCpOPBihsAdGQ5I5agh8MvN55gCcAi3DV043DhA4DN/rkxzeH4erDph2AJ3QcwpkAPreAKOoBsNa0SUMHeEJcKIdrulOmznSAmEiYVVNd7727SPTqFSihZMrH40yAKMAygJh0Ms/zUzhSQBT5ccULACv9pqkO3cfV4okTp4lMmbM4SaaNQXICotQw3l23WMrBMehIW7RwgXOti8qRD0YTVw/BWHKXFEDU1Bdep9swgHroEcL7hHOwjNqtey8FppnyYYPZvFkTBzw15cEmaPjwtwWkvbmLhJHzExCFFMeTTz4ZoAqC9weHIiNHvaM2Ujyej3mkEqIoD31+rVo2VaAYr4+HIbk+deqsIKDKD4Zxj5TewQYcUhWhHCQJZ82aH2RMzGv7AN1h+OP33//jNI2NBn7/ACfIVawUbGQgUkB069Yt8ttrTFVJxnigAnedCC3gZTy0qgIeiVb4vQMAhWSIyUFaHwcL999/f1Ay1JlUq1ox7O8REvqz5yyQ5R8IKk8RZ86cVvM2pzul1a0XpzZa9Gz9lEMBP/gp3dAO1p33398VZMBQf+tvpPQRpN24AzgCCSg4k3Qnz6uHIaUHS+z8O/ejDi+AKPq4X0rD4xCF9Dzq/aZnzFOQ4gYgQo7mJHpOzA8FiMLgJvR6AugJ5SIFRFE+EoAV+TDPQ7KS1CchLhIeMxwgijo6SkOYa9asQjBRB6AUPG6WLNkSzRsqA24GkNQx5eF8BNQc6LroKR9AknbtOqlDZYojn+ZwN4CoqS9Unxv/WgOi6BvWKexNALiZXIkSr6n9C/i7aAKi6Bu/bYcxhOAKQK+kOBh3hNEkEljQ64CqrP+T3+nOHds8AaKQji5S5GXn1mNi3xUEaLp17Rj2sATzec+efdStG95v/v1HIiFKZfv26aVsEdAz9zEHwjDrHKnTF84EiHrhpyL5vUUCiF6+fFkKYZQ37j+gWgMGg61zTwELiLqnmbFEOMBDT+PPFCYflVPYAqJGUkc10g8G3vQC5+V1dkgs0PVgUx6KwxWKMmUrKD2jnPmmdPiwEkqnwzyewvfee586NYdeS3Im3UuRAKKmCRhAVvt2rSVz8SFVH+SD+ejVu1/AVRuydEiZITUUSgE65SEfkiJdurRXp5wUR/4TTzwZpG7ABIgiPyTZcFXzk48/ouIBPgGiJnoNkwAYpMK4O3Bgn2Sg2wZdTaM8kMoYNHhYEAg5bepkeTV9CGVTfkSAaDIAABwcAwif7qGHJNDbKwD0AsjVtElzJTkQ0OkrD0kBRE31eI2D8S9IpsFK/cmTJ5zTYBwQPPTQwyJv3vyiRcs2AZsoU5sAc4YMHihWrlwesNkEwAjpCehM1EFh1BMJI+c3ILp02UoxadIEJW0CfaFweN/nn88u+surY+nSPaTi+D8+5omBbrwcwgD/hg0bJFYsXxZgZAKSKgWl9flOnboFAAdU3i+GEddAe/boKsd4T4CENq4uQh/bG1JnsX49G33wo31INIyS3xcMl+kAAMDxOnXrS4Ndcc4hEL07gQ8A/jZt3k7RQT6kF8jIAn5zmzfvCFKFoBdK6njo9fBnolWlSlVF4yZvigH9+wSA7qBvyZKvKykMbDRCOfRt0qTxSn8el/KHdEmp10tLYw0dg4BrU13YxL4zepT4REqUf3PmjDS29D+VzQKiJmqljDiv/BT4DBga465w4aLKSBePCxXWje8g3/QZc0T27DmFLt2JdeHQoQ8D5nqqF9L3MBiG9YM7P+oIB4hGyoN8/ZU8CGzdzFEZw/uIMKSyh8h1nasvQTz2IpjLdD2pSIMDeIo1lFwoQBTpOMh5q3ePADUFVA4+AaImvmfbtg+CAO7EeFzoCcQ6A0CSu0h4TBMgquvhhtoXqFgyqbyi9nCYA+vauInit+N8BKzM79q5XfKLQ8X3319wmsL32Fvy2NxYmJMoAzSHJwZc8TJ+haMBiKLvuKrdpXN7gYNT2mvjMKO6vPr/5pvNpV7rwkogAgd9Q4aODHhdTvNwIJwXK/PUIIyHFi3yinrUDXNSHjf+jz/+IKCCaocEPYkvwe8VtzfaScNNsJ8ACUr8pqG+hrtIrsxT/s6d2otVq5arx3DGvig//MWLF4ixY0YHANXgTzNkyCS6dusZpD8XZSIdC+TV3ZIl74ohQwYECCHB8Bn4XKgO69mjiyoCOoAeuksqPxXJ7y0SQBT9wT4GxoIxZqdPn3bWJdN+XO+/fTZTwAKiZrq4jqWJ1VRQT+PPFCYf5SlsAVETNaMb55WBT6z3uHa5f/9eAUb3nGT2oez+zjvvFPfJTfIjjzyirhU888wz6spyYnVBGm7fvj3i1MmT4uSpE+pKDa4cQC8pGCR+VRV1AUSA7iLuSkijH+kls8wdrgyd/ebqFawH/vEPdarG8yAMnS3bt20Tx+Q14hPHjyuJUbQPfYq5cuUO2jygzKpVK8TXTNII7w1rm5E6SCnt2LFdAnWH1aYYiyqubuM6Bi3SVBektEJJHeE3CMAMG+vzF86Lv5hkQ1Yp1Zo3bz4jvYpJJuoJCb7qDuMKRgSKvY+fOK5A4CefeEo8/fQz4qWXXzaOJ6TNPti9M6CqBnFvBAE5OEnmLpsEuWD5ObkdaHT69NdKPQIYb3wnoHcsOTAVhw9/pn4LuL6cNm1a190HQIXf2pkzpxXzZAIXXVfqQwECoCEhunxFwnVijNkJ+f1hXgED6NbokdtuqW/k66/FV19/qUBXSGDp847bOt3khx5L/OZ+kO+bXs49kLK5Vt8o2sbvA+D2X/LKPA4RMP+51bVmel+AEN9//70C7Z955llTFmNcco8HDvZOnDimrsihX1wFg7FDWiTA5DOSub//gQfU92I6UNCK2McYpoBXfgqb1+1MfQRIAWvwXFdtOPJA1cueD3YHZCEjkzqYiQMu6P/etWuHvBZ9VKnGwJqRUUrkFChQ0LiG+1EHDO1wyWdIPRYokGCMzMSzheJBcIAHy8+fSyk5XBH+TRp1hHElAMilpG6+cL9V0Am6gA9/9qmAiiLMYZBKhP5f6EUmhzriJJ1CObQJvgpgj5Lgl+sROeh1xPpg4nvq1W9oPPTBuov6wF8ijHkDfFWWrFlDSmRGwmPicAU6+rh77bXS4pFHH+VR6j3mzZsjjkkJvN9//10dgELP7L333isyZMwodfqXUddYAwol4wPWHKwNsBfwtNwnhOJvk7ELMVP1xYu/KvALoCBApDRp0qjD8Vw5s6pDVBJ8iNYLAbBtGFdXNT969Hjxipxj/HCYBw4fPiz5sDQKcMR7++nAA4DnueGGvwXdOkqsHYDVUDlxh9zzYh/lB68Uqk3wQhB+OS35U8zh9913n8o6aeJ4qdZphArv/uBg2D1BcvNTofpu45OHAhYQ9Ymu+GGEcnoaf6Yw+aiDwhYQDUXR6MV7ZeCj13PbsqWApUBqooAJEE1N72/f1VLAUiBlUyAl81O5cmYJUHMRJw8jcXPAjfOjDjft2byWApYCSacAJKlLlSqmKuguJXvdCGMkvVVzSVJ9hmvySTGmZK7VxiZGAbqpA7VZm7fsSCy7Tb+OKGABUZ8Gk0BMU3V6Gn+mMPkoT2ELiJqoGd24lMzAR5cytnVLAUuBlEQBC4impNGwfbEUsBTQKZCS+Sk/wEw/6tBpZp8tBSwF3FMAKhZwi+fvUiKybr0GUoo3QSKQ14Qr5aS2DKq6dBUSPG9yhnG9vUjhV5SkqhdjSsnZx1irG7cH58+fq7qdMWMmCXyXDnoF3OgpU7qkUrdTsFARqS5kTFAeG3H9UsACoj6NLYGYpur0NP5MYfJRnsIWEDVRM7pxKZmBjy5lbOuWApYCKYkCFhBNSaNh+2IpYCmgUyAl81N+gJl+1KHTzD5bClgKuKcAt8ydTqp4gkVzqNYAMAo1XbNmTRcrVixTFcO+AQyDRsuRtXZcZ1+zdlOQfYFo9SuW24Xez9KvvyrOnTurXqNGjdoC6kWg9gTqE6D6Y+jQQUrHcZq//10sXrRUqXeL5Xe2fXdHAQuIuqNXyNwEYpoy6Gn8mcLkozyFLSBqomZ041IyAx9dytjWLQUsBVISBSwgmpJGw/bFUsBSQKdASuan/AAz/ahDp5l9thSwFEgaBbp26eCAnqFqePjhf4mp02ZFFYR8XQJ3X0k9nH4YUwr1nqkxHvYCoJf1119/Cfn60DH/ZrOWopHUkWxd6qKABUR9Gm8CMU3V6Wn8mcLkozyFLSBqomZ041IyAx9dytjWLQUsBVISBdq2bSk2bVyvjF3pVkNTUj9tXywFLAVSJwVSMj9lMojUvEVrVwPlRx2uGrSZLQUsBcJSYNOmDeLtUcOV4R/aa6PAzTffLMqVqyhatW6XrMZ8wnZOJh44sE80qF9bZRs1aqxvxpQSaze1pP/ww/di1MjhYu3a1QHG6vD+MOTUpWtPZfQ3tdDDvudVClhA9CotPIX4xKpXpKfxZwqTj7IUtoCoTsnoP6dkBj761LE9sBSwFLAUsBSwFLAUsBRInAIpmZ+CZfU///zLeYl06dKJh+RVWzfOjzrctGfzWgpYCkRGgd9//12cPHlC/PzTT+LR9OnFgw+mk5bRb4issM0V8xQAznLu3DkFjN9xxx3iscceD2tRPuZf2L5AohSwgGiiJIosA4GYptx6Gn+mMPkoT2ELiJqoGd24lMzAR5cytnVLAUsBSwFLAUsBSwFLgcgoYPmpyOhkc1kKWApYClgKWApYCiQfBSwg6hNtCcQ0Vaen8WcKk4/yFLaAqIma0Y2zDHx06W9btxSwFLAUsBSwFLAUiH0KWH4q9sfQvoGlgKWApYClgKVArFPAAqI+jSCBmKbq9DT+TGHyUZ7CFhA1UTO6cZaBjy79beuWApYClgKWApYClgKxTwHLT8X+GNo3sBSwFLAUsBSwFIh1ClhA1KcRJBDTVJ2exp8pTD7KU9gCoiZqRjfOMvDRpb9t3VLAUsBSwFLAUsBSIPYpYPmp2B9D+waWApYClgKWApYCsU4BC4j6NIIEYpqq09P4M4XJR3kKW0DURM3oxlkGPrr0t61bClgKWApYClgKWArEPgUsPxX7Y2jfwFLAUsBSwFLAUiDWKWABUZ9GkEBMU3V6Gn+mMPkoT2ELiJqoGd04y8BHl/62dUsBSwFLAUsBSwFLgdingOWnYn8M7RtYClgKWApYClgKxDoFLCDq0wgSiGmqTk/jzxQmH+UpbAFREzWjG2cZ+OjS37ZuKWApYClgKWApYCkQ+xSw/FTsj6F9A0sBSwFLAUsBS4FYp4AFRH0aQQIxTdXpafyZwuSjPIUtIGqiZnTjLAMfXfrb1i0FLAUsBSwFLAUsBWKfApafiv0xtG9gKWApYClgKWApEOsUsICoTyNIIKapOj2NP1OYfJSnsAVETdSMbpxl4KNLf9u6pYClgKWApYClgKVA7FPA8lOxP4b2DSwFLAUsBSwFLAVinQIWEPVpBAnENFWnp/FnCpOP8hS2gKiJmtGNswx8dOlvW7cUsBSwFLAUsBSwFIh9Clh+KvbH0L6BpYClgKWApYClQKxTwAKiPo0ggZim6vQ0/kxh8lGewhYQNVEzunGWgY8u/W3rlgKWApYClgKWApYCsU8By0/F/hjaN7AUsBSwFLAUsBSIdQpYQNSnESQQ01SdnsafKUw+ylPYAqImakY3zjLw0aW/bd1SwFLAUsBSwFLAUiD2KWD5qdgfQ/sGlgKWApYClgKWArFOAQuI+jSCBGKaqtPT+DOFyUd5CltA1ETN6MZZBj669LetWwpYClgKWApYClgKxD4FLD8V+2No38BSwFLAUsBSwFIg1ilgAVGfRpBATFN1ehp/pjD5KE9hC4iaqBndOMvAR5f+tnVLAUsBSwFLAUsBS4HYp4Dlp2J/DO0bWApYClgKWApYCsQ6BSwg6tMIEohpqk5P488UJh/lKWwBURM1oxtnGfjo0t+2bilgKWApYClgKWApEPsUsPxU7I+hfQNLAUsBSwFLAUuBWKeABUR9GkECMU3V6Wn8mcLkozyFLSBqomZ04ywDH13629YtBSwFLAUsBSwFLAVinwKWn4r9MbRvYClgKWApYClgKRDrFLCAqE8jSCCmqTo9jT9TmHyUp7AFRE3UjG6cZeCjS3/buqWApYClgKWApYClQOxTwPJTsT+G9g0sBSwFLAUsBSwFYp0CFhD1aQQJxDRVp6fxZwqTj/IUtoCoiZrRjbMMfHTpb1u3FLAUsBSwFLAUsBSIfQpYfir2x9C+gaWApYClgKWApUCsU8ACoj6NIIGYpur0NP5MYfJRnsIWEDVRM7pxloGPLv1t65YClgKWApYClgKWArFPActPxf4Y2jewFLAUsBSwFLAUiHUKWEDUpxEkENNUnZ7GnylMPspT2AKiJmpGN84y8NGlv23dUsBSwFLAUsBSwFIg9ilg+anYH0P7BpYClgKWApYClgKxTgELiPo0ggRimqrT0/gzhclHeQpbQNREzejGWQY+uvS3rVsKWApYClgKWApYCsQ+BSw/FftjaN/AUsBSwFLAUsBSINYpYAFRn0aQQExTdXoaf6Yw+ShPYQuImqgZ3TjLwEeX/rZ1SwFLAUsBSwFLAUuB2KeA5adifwztG1gKWApYClgKWArEOgUsIOrTCBKIaapOT+PPFCYf5SlsAVETNaMbZxn46NLftm4pYClgKWApYClgKRD7FLD8VOyPoX0DSwFLAUsBSwFLgVingAVEfRpBAjFN1elp/JnC5KM8hS0gaqJmdOMsAx9d+tvWLQUsBSwFLAUsBSwFYp8Clp+K/TG0b2ApYClgKWApYCkQ6xSwgKhPI0ggpqk6PY0/U5h8lKewBURN1IxunGXgo0t/27qlgKWApYClgKWApUDsU8DyU7E/hvYNLAUsBSwFLAUsBWKdAhYQ9WkECcQ0Vaen8WcKk4/yFLaAqIma0Y1LTgb+woULYvu298Xp01+LH378IeBFH3wwnXjjjaYBcfbBHwrs2rlDrN+wVlXWvn1nkTZtWn8qvlLLnDmzxLFjR8X99z8g3nyzha9128osBUCB8+fPi8WLFyhivPhiPpEt2/PXNWEWLpwvDh/+VNx1192iVau21/W7Xs8v58d3m9zz9/VM/2i/m5/81JQpE8V///tfkf7R9KJEyVKuX+3s2W/ExInjVLlKlaqKjBkzua7DFrAUCEWBjz46JHbt2qGSK1asrPjBUHltvHcKjBo5TPz4048iw3MZReUq1bxXmAw1fPfdt2Ls2NGq5rJlK1z3fFsykPCaVml5jWtK7mvemAVEfSI5gZim6vQ0/kxh8lGewhYQNVEzunF+MvD8TQBmDB0ySPznP7/xaCf87HMZxMKFS5xnG/CPAtOnTRHDhw9WFb6/dZe45557/atc1vRm00Zi+/at4vHHnxBLl632tW5b2bWhAL6RefNmq8ZWrlovbrzxxmRv+MODB0SnTu1UO/0HDBY5cuQK2ebhw5+JqlXKq/Q2bTqIuvUahMybUhPatG4uPvvsU/GcnOtGjhoTtptt2rQQGzesE+keelisXbspbN7kTnTT7+TuS6zV78d3m9zzd6zRNJb66yc/leeF7Ip/eumlV8SYsRNdk+HTTz8R1atVVOWGDB0pihcv4boOWyB1UcANXzBjxlQxbOggRaC58xaLTJkyxxyxYmmtK/FqYfHNN2dE4cJFxYiR71wzWrvh244fPybKl0s4vOnbd6AoXabcNeun3pCbfutlU8uz5TWu75G2gKhP40sgpqk6PY0/U5h8lKewBURN1IxunJ8MPL3JsWNfiCqVy4vLl/+nom655VaRPUdO8X//93+URfzr4X+Jdu07Oc824B8FknuRs4Cof2MVrZpGvz1CTJo0XjW//8AnAb/N5OrT7t07xRuN6qvqx4+fIvLmyx+yKT+ApZCVX6OE2rWqiUOHDoosWbOJ2bMTpF1DNZ2SAFE3/Q71Pqk13o/vNrnn79Q6Ntfivf3kpywgei1GzLbBKeCGL7geANFYWuuiBYi64dtSEiDqpt/8N5CawpbXuL5H2wKiPo0vgZim6vQ0/kxh8lGewhYQNVEzunF+MvD0JsOHDRbTp09Rj43ktfi4uDfEzTffTMnWT2YKJPciZwHRZB7Aa1C9m42PX91xw6D6ASz51e+k1uNms2UB0aRSOWWV8+O7Te75O2VR7PrqjZ/8lAVEr69vIxbexg1fYAHRazuiFhB1R283/Ka7mq+f3JbXuH7G0vQmFhA1USUJcQRimorqafyZwuSjPIUtIGqiZnTj/GTg6U1aNG8i3n9/s0jz97+LLVt2Sr14d1GS9a8BBZJ7kbOA6DUYxGRuws3Gx6+uuGFQz5//TqrUmK+azps3v3j++ex+deOa1WMB0WtG6hTTkB/fbXLP3ymGWNdhR/zkpyZNHC/++7//ikelDtFSpUq7ppa9Mu+aZKm+gBu+4NChD8XOndsVzSpVqiIeeOAfMUc/N2t0tF/OAqLuRsANv+mu5usnt+U1rp+xNL2JBURNVElCHIGYpqJ6Gn+mMPkoT2ELiJqoGd04Pxl4ehNiMjJkyCTmL3iXoq1/jSiQ3IucBUSv0UAmYzNuNj5+dSO1Mag0D9or8359QamjnuSev1MHFaPzlsnBTyX1TSwgmlTKpd5y0eALokltN2t0NPuJti0g6m4EUhu/6Y46Cbktr5EUqsVOGQuI+jRWBGKaqtPT+DOFyUd5CltA1ETN6MYlBwPvhcn4UVqjh4GX22673TVh8J1B6fjdd9/ju2X1cJ355ZdfxFlp0fW2225TljZvuummcNmD0i5evCh+ktYjH5IGVf72t78FpYeL+M9//iN++eVn8c9/Puhk83OR+/77C+Lvf79R3HnnnU79bgHR33//XeAd77//fqeOSAPRGlPev99++01gTP8uJZ5DuYsXf1Xz3O233xEqS8j4//3vf+Lc2bPSoM5DYdsIWYFMgDVi/OEbjMR53fj88MP38pu4S6RJkyaS5lSe5GZQv/323+q3z3UVR9y5Kxl/+vFHcYf81m+44Qa3RYPyu5kHQ12Z//XXX+SccEPE48o78ccff4hLly4F/HZ5eqiwm36HqsMU7+W3/Oeff4rvvvtO/OMf/0jy2KD9n3/6Sdx1992m7oWMAw2xrmBuhhRUpL+xkBWyBD/mby/rB+tKREGva11EjcRwpuTgpyIhx+XLl8W5c2cVD0Fzl1tA1Ms69Ndffwnwbvfee18k3XWd5yf5u8UafMstt7guiwJe5h5qMKnzB8p7oS2178ZP6nh45QvC9dGPORz1R2uNNr2bl/0K6nPDs0QKiPq9Xrnh20LpEP3rrz/F99//IO677z7Xe5ykfstu+m0a28TisHZfOH9ePPyvhyVPEjkfnFi94dLdfC96PX7wGnqdbp+xl8JeN126h1x/B+clrcGD4RuyLjIKWEA0MjolmguLfyinp/FnCpOPOihsAdFQFI1evB8M/KZNG8Q7o0c6L4HNIxZl6A0FyMddufIVRe3a9XiUBBPPCugd/eijDxWDgEnvYWl0KVeuF0TrNu0T3dB/+eUpMXhwf/HRoUMiAUD4m3hEXjPLn+8l0bJV2yD9pbA++NZbPVQfuvfoLbJnzxnQH3qoUL60wEJeoUJlUbNWHYpWPhjcxYsXiGlTJ4t///uck4a+58qdR9SsWVsUKFDIidcDKP/OO6PEZkm7r7/+Sv1GsNHOkDGzaNe2g3hWWqYO5xYtWiDmzZ0lTp48Ifv4l6LXK68UFG1k2TmzZ3qyMg9gbeTIYcrqNd4NG6xnn80gypYrL6pWrRGRlfk//rgkRo0aIXbJK1UYH/QRm6WMGTOJVq3biSeffCrc66kybsYUfa5SOcGiZdlyFUSdOgnGe/RGevboKj7++JB4+plnxaBBwwKSBw8eIHbv2qFAjwkTp6rxXbt2jTh4YL8C6bNnzyHyyW+qhhxbjDPce+8uEuPHj3G+AQDTrxQoKFq3bi9uvfXWgPr1h2XL3hNz5swSx48dUwbIbrzx/8STTz0l6sq+lyiZYKlTL6P3Eb+9FcuXit27d4nff/+PslL+6qslRdOmzQMMJYGRavzGVUvtADR/lOAf3OOPP+G8D7U3f8F7agNKz/AB+g+RNMJVOQDl6G+ePC+KLl17yM34OdGvby9kE32kdVGyONuoYT2Ba8RwAMZRBxwYIn1zy3+LmBPebNpQ5W0i36VYsVdVWP+3b99eMWHCWHHk88PqYADg/ZNPPimKFC0udRc3MjKqX3/1lWjZsqmqqkXLNiKrNHo0Y8Y0sW3rFnHixHHZr1ulZfjnRLt2nUSmzFn0JkM+u5kHn3rqaTF4yAinLh0Q3bRxvRgxYqiaG/CtgV4lX3tdNGnSLFHQfK6cF5YufU8cO/aF+FMCJfff/4B4o/GbAtcaO7RvLY4fPyYySovAsAIL56XfzguECbidn3lVC+bPFcuXLxFffHFUAOC99da0ci56Vs6vdeUYF+NZnfDq1SvFpInj1PPESdPE9xcuiPmynm3b3hcXLpyXoPndIrecozt07Br2kAb5x497RwBY4g6/l4oVq4hq1WsGHQhE+t16nb+Tun7UqV1d/U4KFS4qmjdvpVTbLJZryVdffSm+l3OCXIjUb2bHzr3OK3td65yKUkHAD36KyBTXoI6aZ196uYBoI/kgkwMvM3z4EHHkyGH1+7jrroRvG3wA5vhIrMwnZR2ivuzd84Fa/6A79z//+U0eRN8mypYtL5q3aC0WLZyn5iHkXbJ0FRWJ2AfIO1rylRs3rBOnT3+t1pvn5RpMvBUM9H333bfKOF/79p2N9X76ycdqHkX/fvvtolrnwBsWL15CzaWmAz2/5g90KCm01dvHgdic2TPUGo91HLwVXKNGTUXdelfXdMS5HQ8vfMEGOS5jx7yNZsWYsRPVGqUetH9JmcNT4hpNr+V1v5IUngVtJwaIJmW9onfS/aTybeAtuJX5V+QeaIjcm61evUrxuFi/M2TIKDp06JzoHsftt4x3SGq/9ffnz/z3OG3abPGlXCsHD+onPvvsU7VvwzuBh+zUuZt47LHHeVEnrPPtR48eEbNmTReYl87Lg94//7ys8o6TxkZRF3dJ/V6ojqTyGjNnThNL3lusqjHtB5CA/nft0kHl6dGzj1G1FfCfqVMniZUrlolTp06qvSD2uthTgp/NlfsFVd7074Lk3UDr/fv3Kd4NecDPokzHjl2UAISpnI1LoIAFRH36EgjENFWnp/FnCpOP8hS2gKiJmtGN84OBx+a7R3czQ6q/Xb36DSVY1M6J3vr+FtG1a0e1SXMiWeDBB9OJIUNHiCxZAhcJyrJ+/VrZdhfFjFMc95+UwMM770yQzFo6J3rHjm2iaZMEsAWM3EsvveKk8UC2rM+pybtBg0YKWKU0fM8AFtatW0NRRh9ADiZ83YEJbdO6ufhEMusmBwk3LK7YdOsOm9PuktarV63Qk9RzUQkcgeEYJQFNuPe37hL33HOvCkfyDwBoixZNFcBkyt+xUzcFcm7fvlUBaUuXrQ7KhkWvbduWEuj7IigNEQDKO3fuLgCOm1xSxhSbhFw5s6rq6taLC7mBjIurKzcNu42WvzkoVatmHQmY9jN1T8BQWLNmLcWSJe+Knj26GPP861+PiOkz5hoBF4C3ffv0kpvFd41lEVmhYmXRrVuvIMCF9xFMZetWzZz5lVf2jAR8Z86a74COOKQAQx2p27vvo4CDhD2SZu3athI///xTUBX3SqC7sQTc+vXrrdKmTJ0lDzNyq3DxYgWV5FJQIUME/y1iQ1SqVALg1aPnW0G/BfwGJ0rQC4AVJE9MLmfO3GLQ4OFBY8CZ9u493lKb1o8/OhRUBXQg9+rVR5QpUz4ozRThZh4EYDx3XgKzibr4uPbu3VeB16b3yiwB2qmSKTdJoQMw7N6tk1i7Nvg3iTbi4t5Qm+rPPvtEgDZTp81CtAItIp2/9X6rCsL8S8pvGdVdvHhRrSkbJTAcylWtVkMACMGNAu7mzZstBvTvo6KmTJmp5iJIJegO4NGkydMFfiu6mz9/jujf7y09OuAZ68bwEW/LsbjZiU/su/Vj/vayfrz8Uh4loVFGglaZM2WRoHgvp+8UAEj04aHD6tHrWkd1phbfD36KaFWk8MsK8MPhmH54hzyzZ80Qw4YPVoceVIb89OkfF+07dFKHl4gbMnSkAgEpHb6XdQjlZ0jDmTg4Nc1TOXLkUoAHgDy4jz85qvxI/0EaqHXrZsI0L+PQa8zYCaJ3r+7qgA08z7Bho4Kqxm94yOCBUjrzv0FpiMiWLbuk39tB64Mf84cX2vL2Fy5aKue41uIreaisu2byQKNRoyZOdFLGwwtf8O67C9UYoAMrVq5Tum6dzsiAlzk8Ja7ReDcv+xUvPAvaDgeIJnW9Qr0ml1S+jY9b7979xOo1K8WeD3YHNYHD9H79BopXS7wWlIaIpHzLKJfUfqNsKMd/j/36DRI9e3ZT4K6eH8Ao3qlwkQS+ladz/m64nHPq1qmuhIZ4HoRnyD0DDn3gvH4vXnkNHMhPk0AmnL4fUJHy38GD++W71FCP4yWYmzdffkpSPm6UdOrUVuzYvi0gnh7Aa7Ro0UbUqx9HUY5/4MA+0b5dawcIdRKuBB6Qt4WGDh0l5/Hn9ST7fIUCFhD16VPAjzGU09P4M4XJRx0UtoBoKIpGL94PBh6SSHzCW7BgrmJUAWZWrZowWdIbZs6SVW7Gc6lHbB7LlSulGFYskDjtBiP93//+oZS142QZDhI9K1etF/p1ZABv5cu/rjYEANkgBYXy56QU2ubNGx3AEpKmk6fMcKTgvAKiGzeslwBGc9W3QoWKCGzMM2fOqiQycGo4Ui4kJAk3Y+a8oFOzJhKM3SlBWUhTtGjZWhSRCyje7fDhT8XQIQOVRBKkMhcsXBK0WQejMExK08IBiGr0RhMldfntt98qSUEYswIACukQOLeAaLM331CSVCgL8KNa9VrisfSPiWPy5HeWPDGEBB2MZEG6EJJSOiAKqQ6MKTHwpUqVEQULFRZ33nGnksycMmWSktRA/XzxxzNcUsfUT0AUYBPeI5+UBoUxC1yxxUno5MkTxMVff1X9bCg3IjNnTJXXN+6Xi3lDRaOz574Rc+fOFp/LvHCvvVZaDBg4RIX5v6mSycA3Aldd0hd//3zwQXHmzGkp2TZerFq1XKUBFEcad8RY4dvBvPqclCQuL4Hlf/zjn+LkqRNiyuSJSsoaZdBHSIHB4Ur/ooULVBj/du7cLvbu/UA9t5DSPGnSBKoDqF2nngPGYmPzWskijkQpxrRAwUIKiNq1c4c0fjRPfb9Q3QDHAVEYRvpNlof76usvlUQtwuXLVwraQBUtVlxJOiM9MWBp+bIlEjDuhKxKoreeBMGflVKdkFRdtXK5Y+whT568AlKC3HGmHafNkCpHeRy6XJLA+pYtmwTqh8PvcpWceyK5Zu1mHrxPqo94/fUyTrdoXO+Qv5M0aW4QADTKV6goHvxnOnH8xDE1riRpi/GKa9jYKUuByZPGi7ffHqEe8T1gDCGJCgnNuXNmSynAUyKtPJnHN8wBUS/9prZNflJ/y6gLhz7L5EEbXNasz6sDgkceeURJU8+SIAvNL82bt5bfeSAt+AYG4wtVF1hbnnj8SfGtlCiDROSHHx5QdUPqGwcX3EH6GWAUgB5IsuNgC/nAEkFSdYqcB/bt26OK6O0n9t36MX97WT8IEMXc/ZW8mXCDlD7DARo2F3fckaDuA3GQ1obzutapSlLRPz/4KSJXOEAUUss1qldSawAOburLNSjPCy+K/8l1a+fObQosheog4gNMgKiXdQi3BGrXqqq6igNc3MjARh58AQ5rsb5gLqM1wS0gioM+SK7DPf30s3IdrCkeTZ9eSsIeEVOnTJQ8xG8qDVKpJkAUt0Bq1kg4UMYagJsATz31lDwM+EnxSePGjVF8J3iv4SNGq7ron9f5A/V4oS1vH+/+xRdHlPQlpM+wbpDqnoIFC4uXpfQwXFLHwwtfkBgg6mUOT4lrtNf9iheeBWMcChD1sl6hXpNLKt/Gxw3G4CBgAQEFSD3+cemS2Lhxg8Pf3n3PPYq30tWjJfVbxnsktd8mGlAc/z1CshGHHeC/wENduvS7Asmx54XD7SLsVXX1YMTfQc3UTTffJL6T+zX8tqEm6x45T//thr+p8vUkrR555FEV9vq9eOU1/ABEu3TuIFauXKbe5wV5m6xy5WriPrlvPSCBVID4oAMcDq65pCjm99dKFlXrF4RLOnToIrLnyCEFlOLVLT5I3F64cF7te1auWhdwKK0qtP8UBVIbIAqGKFncX/LLC/UnNwrx/E+CB/H0J08l4vEnJw3nT0quxONv27Yt8f/94zf7l4JoMKB/L9/Ho2rl0vHPPv1wfOVKpcLW3SiupsqXMUP6+N273g/Ku2jhLJWOuvr26RaUHtegulN+754dQemTJo52yr+/eZ2TvnnTGid+08bVTrz+bWZ49hGVb8igtwLyoC/o0/NZn46/cP5cQBrqOP/d2fgxo4fFjxoxMH79uhUB6VvfX++0vWL54oA0lP3+wrn4Ai/nUnnq1K4UkP7dt9/E58qRQaW9lC97/JenjgWk/3HpYnzPHh2c+tHHf5/7OiCP/o78efu2jU7Z2rUqxf/6y/cBZX/4/tv4ShVfc/KUfPWVgHTUNWnC20762HeGBaV/+snB+BzPP6vylCtbPP7S778G5EnqmKKveF/8DRwQ+pvGeyGP6dts9mYDp452bd4M6Bfe7fPPDsXjW6V2XnkppxovTsPfLv4UX7ZMMSfPl6e+CKjnu3+fic+ZPeH9e3bvEJBG9TRuVFuVz5M7c1D9vI9NG9cNoh/qRzn0MWvmJ+L/89vPxjaGDenr9PHirz8a81B/hg3t5+R9Z/TQoLwL5s1w0tHuzh3meZ5/+/z3SO1w//gXh506586ZGtDmjz98F58/7/MqvVDBPPFnTp8MSMc31alDS6f8urXLA9IPy3GkMcRv/OCBDwLS0Y+Rwwc4eUzvzPsaKhzpPIjyfFwbNqghx/WXgD6d/ear+Jw5nlN9wu9HT8fcQOmFCrwQRBPMU6VLFXHeqWb18gH183dw029eTg8n9beM8XjumX+pvr7RsFa8/n3iXcqWLqrSMQd/c+ZUwLvMmD7BeU/MpZhTed9AO5oH8B3s2b0tIH3tmmVO+fe3rA9IQz0oP2vGJDW/T5s6PiA93Hfrx/zNf0Nu1w/0neYGvDfWX/23w+mEsJe1Tq8rNTz7yU+9nD+H+g5bt2oc8I2BjtWrlVVp+J2Y5tLlyxY53zDGWv9WvK5D1auWUfVnfO7R+F07A3k3zL8d2jcPaN/N2H+we6tTFnMR5nte/qsvj8dj7aU5vHmzuIB05KU5rMzrReKxJvPyCHPeUP/9e50/vNKWt58l0+PxK1e8Gw/eTn8H/uzXeLjhC+bNneaMwbEvPgvon9c5PCWu0V72K155Fox1Ycnr4Jt/s0m9AFp7Wa/4NxQqzNcc01zDy/Fxw9xk2pcNGtjb+W4mjBsV8C6oy69v2U2/+TvoYf57BP9veqc5s6c679SlU+ugd+L8XdHCeeMPfbhZ9LelAABAAElEQVQ3KA9v1+v34gevwcfpl58D94LUVz5X69/Ggf27HD6uidyr/P6fQJ723Nmv4kELfNP6fozmoezZnok/cfzzIFqhbqw9KJtU/pze4Xr2gbkR/sYxOcLpCLeDzzE9hEPhf4hPqc4ConICvZ4/6OR+Nz8ZeOorMaP6JEfp8L84+qmzgHRo1yzkGKIOTHqZMjwWsDE+euSTq+Ul883rpjAYc0zSWzatjT9+7LCTxysgyheKDw/uceqldsP5ALHwPkUKvRiy3Ngxw51344Da/LnTnXh9I05tArR8IVcmJ58bQLRt66aqHBiZTz4+YOzfng+2O3WbAFECqvB++gJIfQTADBrgb8e2TU47XsbUb0D05IkjTr+o3/Bbt3zD6fu0KeOMeZYuWeDk2bB+ZUAelKF3x8aO103hfXt3OnlwKEDx8Dlj9fnhjwLSKB8H8/A7o3juE8OBvuiAE8+HMMB35MMmNBTAWr7sq06fkxsQ5cznwgWB9KG+gyEEM4V+AzygePicaW/RrGFAGuX7+acL8dmyPKnKY8wp3o0fyTxI9fFx/fij/cb2BrPfjf59AjSm72r2zMnG8vgWKU9yA6Jefsv0GwPDy+dtohV8zOv0LiMkeM3T+AYGwCVPo/DO7Zud8vieKB4+Xx8AnPC0xMLhAFE/5m8v6wf6ToAo1ggdKDa9m5e1zlTf9R7nJz8VChDFb4K+fR0c4fStW7uyk08HRL2sQwC/qP2Wzc3zJ/gOmj+Rl/crsXD7tm869R/cv9tYdvasKU4eHRAF70L9e3fxXGN5gKR0MAvwlvfJ6/zhhbboB2//7VGDA/rG+0lhP8fDDV8QDhD1OoentDXa637FK8+CsQ4FiHpZr+gbCue7ARb5uAEEM9WLdQdAP36j+K3zPH5+y276zfugh/nv0QR2Un4IeOCdsFfV9z6cvzMJ/1Ad5Hv9XvzgNfjanxRAtFWLRooe4ONMoCbeFfwS9ufg5/ihDwn+dO7YKuD7IPrAr1+3qqofAgA83oavYmKpDRD9G5Da5JAODletnsafKUw++kZhe2U+OUbKW51+XvGinkRipRhGQ1pLPZpw4ydMFXnz5qPiAT6/rvDekpWOMR5eHgZwXnzRXD6gsisPXq/M79yxXeoGTdB5Ar0xL7/8imr/oYceVte6cF01lCtbpqQyhPSovIYOo08mBx1xpDuP04ZfYdi27YOQ13j5VSU3V+ZxBQ96TXFNFLQO5ejqDq5d8ivzP//8s3gpf4LuSOgrxDU1k+PXajp36S6qVaupsnkZUz+vzOM6+u4PEq7U6v3n15Khy5HUP/B8uFZbsUJpFYWrHtwgV7++vQWu19x88y3SWFclXswJyxM4dZ0E86ZOR7p6g2v90OtDxp2cwjKwYcM60bZNCxX1zpgJzrU6nidSa7IwhPRC7gT9vbi+j2v8JgcF7FD3AMevzPO8u3fvFDCEAWfSN8Tzhrt6PHBAX6maYJYy9rVn7yGjPk3URbSCrsht2xPUAyCef3/4RkFjk4NxAOTNKA2dzZt/Vd+nKa8pLpJ5kMpRX6Efb/+Bj9W7URr5a9eskleHEn5TOv2GDx8ipk+brLJu37HXaIgO31O+vDmVbjd+ZZ7qJ99Nv6mM7nv5LcOY3bFjR9VV+Vmz5+tVO8+vvJxHXdGFAS3o5SLH14xZsxcEGSlAPlgqflmWh6tbt4EyRqce5D+kFS9eSBkpS5Mmjcghr8YVkAbrcGUXxv7Sy7nb9LtD+XDfrR/zt5f1A/2jK/O4vjZp0nREhXVe1rqwFV+niX7yU6GuzHP+BTowi8rv3+RgbA/62eH0K/Ne1iHoD3+zaSNV7wh53dykMw+JLZo3EVDhA+fmynyNGpXFJx9/JHBFfNlys552vi7pV+ah2719uwRVMVBLgqv7Jrdh4zp1ZRMqOfg843X+8EJb9JO3b1IrpL+Ln+MRKV+APoS7Mu91Dk9pazRfzzhPro8FHzu+X/HKs6Ad4rsLFy4qRox8x2nay3rlVBIm4IZv4+Om67jlTZR+vYT48suTQbr8/fyW3fSb900P8zHVr3bzvJwHxrV5uvqOPMTfQb3I3n2HjMY+eV1evxc/eA1eR1J0iNIcAF3NM2fN468XNgw1LwVeyavywPgl1D6ZHNSiYL8K9XLh9gGmsqklLrVdmbeAaGr5spPpPf1k4KmLkWyoObC0avUGAT0hJheK+Y+0fGJ1ckMuet5QRpWQb4A02oGF0uTSpXtI6s0sogwqkV425APQBcM/oZT8m+qCBe+qVRP0sJJeLeix2bXbDNihDuihHD06QZegG0A0f77cSudXgYKFpS7CsabuqLhGDeuJDz7YFaRDlOv+gUL1UEaTLkldQrlzZVV1Qf9qly49VNjLmPoJiKaTwPbatZuM7w+LjX3eSujvEgkaPyHBY90B0C5a5BUV3UoaEKsv9buRI9rRc2K+vtkjxgrf2Np1CZtNvQ6u6FzfCFPeSDc+0C9ZQerphWsvjTjVqlVXhfV/0PeG7xMuuQFRgKpgdnHwsGHjVr0rzjNn6PgBAmfa+/QdENJoUlxcggEuHfh3GkgkEMk8SFXQuP7znw+K9Rvep+gAH5Y269dLODzQxxVG2nCIktjcULFCGaWTLrkB0aT+ljFHAoCX13yk/t4yov+ABH3JAYS48hDqAIdvYPAbwW/F5Gh+r1KluujarWdAFoDPXbp0NBpPAMACQBGG1XSrsuEAUa/zt9f1Ay9IgGjpMuWkQaWEA4yAFzc8JGWtM1STKqL85KdCAaJz5swSgwb2VfRcKPWMPyv1SJvchx8eFHVqV1NJ+nzhZR3CYRQ27HDh2h80sJ+YM2emyucGEH0p/wvKeN8r8hBi9DvjVXnTv0IF8ys9cvoayfkfUzk9Djrqt8oDZnJe5w8vtEUfIm2f+uvneETKF6DtUICoH3N4SlujI13PQu1XvPIsoHcoQBRpSV2vUDYx5wZY5OPW+63+0p5ABWP1DerXVnq4dd7Kz2/ZTb+NnbwSyX+P69a/Lx588EFj9i1S93xLaZAWbuy4SSJ//pedfMTfgRcJxbc7mWXA6/filddAXzj/7BYQxRyAPR70rSbGx/H3RpivW3paqOdQe7FQ+VNLvAVEfRppkuo0Vaen8WcKk4/yFLYSoiZqRjfOTwae3iQSIGDc2NFi3LiEU04AAAACTA7AGxhMuAEDh0pDNQngDC8fbpEy1cmZlqQCoqh3166dSpLvkNx4mKwYw6DHwkVLlPEj5Jd6OqT17azKCBSMP8HYUGIO0gtQSA7XvFljsXXrFmnUKFDiTa9j2tTJcjFLMObjBhDN80J2ASMFusSVXn/Tpg2VES2dmdm3b69oUL+Wyt6v/+AAozG8Dlg/zJUziwKIy0spyV69EjZXXsY0VgDR+vVqif379yojJrVrJ3zXnDZ6GKBf8eIlnGiHsQoD2n548IA0clFdldE3wlRRpBsfGO+oXq2iKta1a09RpWpCvVQP+fxkP7kBUaIhpPVWr9lIXQjyR48eKQ8Hxqn4jZu2KeNLeOBMO0AhgEMm17BhXWUhVf/OTXlNcZHMg1TO67hCYgtjAEMFW7fupmqDfIwlxjS5AdGk/pb5HFmuXEXR+61+Qe9AEXVqV1fGkSCJAYkMcnwDs3bdFgmIpqOkAP/5bBmU4SQTIIqMMEY1VRqBgwGlb745E1AWD5DmHTtuooDRFnLhAFGv8zenTVLWD/SRAFFYme/TZwB1O1Hf7VqXaIXXaQY/+alQgOgMacxv2NBBioJcCk0n6adSeqa6vPUBp68DNIfCmJbbdWj6tClSIjvhoGLJ0lXiiSee1JtWz1xq3Q0g+kLu55V0dmJ8yKtSivvs2W+CjCrxuQcG6P7vppuM/eORnAZe5w8vtEWfIm2f+u/neETKF6DtUIAon6eSOoentDWaf1NJ2a/QN5FUngX0DgeIIj0p6xXKJebcAItex83Pb9lNv8PRgP8eN2/ZKQ2p3mfMznngUVKgpKAULCEXCX9HeeF7/V688hrogxdAlM8BZctWEG/16Y8qI3J8H4myT0pjeIk57JHC3cxMrPz1mp7aAFGrQ1TqkrA6I5JOAz91XtE4RKI7bxnTs7jbYFCJ6uJ6irgi6uVLFyr9IdDZoiv1p7Kh/G1bNzhl16xeavx+oGOKDHvoOur0eqH7BEZPoEge+qPo/dG3jh1aBNT/arGXVdtQ0K7Xk9gzGbhAvT98/++Q5bt1beu8nxsdomSoBH64vhQv9pKqX9ch+s2ZL512w+m+4nr2uI4+L2MK3ZY0Xn16dwnZfxobXa8k3pf0/MBQT6j357p9YGTJlO/01yccOowfNzIgT/eu7VQa9JdxnTmmekxxkfQRRiLwjeBP1x1HdUaqKwwGwqgu6BSi8ro/c8ZEJ19y6xCl7zujVHCvGxfi/WrTuonqE2jN47meq8ULZwek8Xx1pFEzvLv+nfM84cL0rYXTpUzlvY7rW706O/QPpe8Jbb34QoLBreTWIerlt0zzS+2aFUOODd6FdCzC8BLRET7X+aUbnuP5SCl/KONmPC/0nsEg3JL35sc3a1rfMa6mzxV8btONgfkxf3tZP/A+pENUX5f4u4YLu1nrwtVzvab5yU/R960bVYKROJqTdYNxnK6cx9LXAS/r0JpVS5z2ob+Qt8nD0O1J/eTxiYVhCAnlYJwwVF6s9/T71XWI8rnHrY53tOd1/vBCWzftE238HI9I+QK0zXlz6H6k/sD3OoentDWa/5aSsl/xyrOApqF0iHK6UzjS9Yryh/Pd6OL0Om5+fstu+h3u/fl8ABsKofLyfLp+/0j4O16v1+/FD16DG1M1GQ9GfzmNuT0IpBGvUqtGhZA04+9MYeylad2AkV6Kt757nCe16RC1gKj84dkfStJp4CcDT+MQCRDw8aF9zqQXzio4WdwG2PXTj+edsYbhEZo0B/bv6cRTH8gHOPX1V8cDAEQYKqKyJiuHKAuwi/JgE0z1ReLDmFPBV3Kr8sWL5g8o2+SKUaXcOTPKPn0bkJZY3TAQQn0KZyyA2kZeN4AoDMygDIAm3WgL9Q0LPSxzI58JKCJL1xXLlwj5bpMnveO8x8YNq5x8XsYU/YNybfQL1q2pv9zHZv7FPFlUni6dQ1uC1EEOXodXQHTq5LHOu+vWbXk7ocKRMFaRAKKjRgx0+pHYN0IKzsNtUOl3CvqHAkQRj3T86Rt0/X3DAUtTJo9x6tm0cbVxrGFkK9+L2VS+CuUCv0WvTLve11DPAB3xrqbfiV7G67hyQx7r160w0gQHSkT/cICom37r70HPXn7Ljd+oo/qZLctT8d/++7TxXT7i64c2//ONiV+AKL0X+e3aXDX88g2zch/uu/Vj/vayfqDvXgFRen/yw611lCc1+X7yU6EAUazB9DsOZ3SCjFqY5lsv6xA3WtSvbzfj7xPzb948WZ1+uvkGCEiFcRJuVJLXwUFhHRDlc09SLBB7nT+80BbvGGn7RA8/x8MNXxAOEPU6h6e0NdrrfsUrz4KxdgOI0rdBfqj1itLD+W74Nq/j5ue37Kbf4d6f/x7D7VXpAB37I91QaST8He+D1+/FD14DBl1pnQll3I4LQpw5fTJgLSBeJRwf9+MP36n9OfboXECE9pGgKaeLDbvDeiwgKu+n++GkDoj4UH9//vlnPP+T4tHx9Cevw8bjT+qOcP6kPrB4/GFw7Aft7oNObnr5ycBTXyMBRDH5kWVqWIM2Mb44iaUJGcw91Q8f5QG6If35rE/L8scC0pGHLwrLly1y0lEWkzTKwhq6vnihLCyPUttY5HnbkDyDhTswGaEs9dLi+PJLOQLKAgCkegf06xGQRm3A4h4AJvyBEaN4vCNZZwTQapISBcBL9cNPDOyiuuGDRlQWVkL5AoV0SONx4MsE9GCDRHWsWvme03dqB/0hq+UAHn/95Qcnj5cxRf0N6ldXbQPQPfL5x0691DZf4MHkUDz5kTAtXgFRnH6SddsqlV43Wm0/dfJoPDZ5oLUOfEfSx0gAUUhG0jitXPFuEC2IJvA7tGvm5F27ZllQ3n17dzrpqDMUIIrvl9rs2aNDUD28zXDAEgAosiCPOQCbb14W4dFvD3HagkVinu6Vaed1hQtDCg/vmznj4/E6s6iX8zqukNDBd4/2KlUoGQ8Jd94GgCscFBD9wwGibvrN2+BhL79lALrUz949OwW8B9qABdcG9aqpPJAS0yW1+QbGtC5QP0nCTJcQhVQ35veGDWrE63M/lQXQQn2E1W+KD/fd+jF/e1k/0Ee3gKiXtY5okpp8P/mpUIAo1uFSJQsmfP/yNw/JZZ3G+/ftdA4u8Z3qB1Be1iFIZxYtnFe1j3kYh856++PGjnB+H2hfTw/3zKXx8P3pfAgk4Ok2C+rWAVE+9+TM/qxx7sWa0aNbe7XG6iCH1/nDC21Bl0jbJxr6OR5u+IJwgKjXOTylrdH4przsV7zyLBjrUICol/WKvqFwvhu+zeu4+fktu+l3uPfnv0fsG00W03EwT/wAgEC9vkj4O17G6/fiB69xYP8u550wD/P+IQwekyTBcfNIT9+wfqVT3sTHYe9M5UsUfzmgPISciJ6oR68bz7hdiD0SbuzwfaQpb2qNS22AqDWqdL0qf7hG7+WnzivqcqS687jy5HvvvU907NhFZM+RUxnU2LVzhxg2bJCAAZ6bb75ZWhtdG6TMGlbmatWsqnTUPvDAP0S37r1EDln+3LlzSp/eO++MUvo6YTV94aKlUufb36mL4u1Rw8XkyRPUM4wSvNGoibQi/Jg4f/47seS9xdKozmqVVqRIMTFcWlLljivtf1JawGvfvpPIkCGTsuyM8ls2b5IGK3qpIqbyTRrHiZ07t6t06NCE9W7owTt16qT4YPcuaRBppDLm8eij6QV0dPF+jxw5TOq1m6jK4r06duoqMmXKImDIZ+nS95SladALdINzo0MU+WvWrCI+/ugQgko3V4MGjZThkOPHv1A6X3ds36bGA/WbdCtevPir1PNaTPz4ww8ijaR3i+atRYGChaSl1zvEx9Jy7KBB/cXZK/r4TBZyvYwpvpnGjRuovt9zz73iTWn0JHOmzOKSNNACvbHQB3j58v/kd5RO0fXWW29VeelfJHp+vBpVQltT5PiNkuMIBx2xbdq0F888+5wyEAGricOHDVbfISxSLlq8LMBwSyR9jESH6Injx0R5aSxJHp4pQzyVKldT7aBNuFdfLeFYwjx79qwo/XpxpSAd6R06dBGvFCgobrzxRvkd7xD9+72lDIVBgTpcKB2iULQOY1P4jdwgLUOWkhaAs2TJptpHuVy5cgvo3YULp4sR6dzIQebMWQSsxT/zzHPi3+fOyrliqZgzewayiaefflb+9t9z3gVxXvVcoY5I3MIF85x5AEbjYGQMeo7SpEkj7rrzLpE3X36nGj/GtW+fXtLIyTxVZ+7ceSRNWksLnc8o3WITxo8RmzdvFBg/jFM4HaJu+u28gCHg5bdMRgVQLfRdVpHf57/kHIl5aML4scqoG9K4UTY8w3GdX0nRIXrgwD6pC7m20nF82+23K6Nv0NkJYwoXL15U82PHjm2V4Rfoc966bbdjdT6x79aP+dvL+uFWh6jXtS5hRFLPfz/5qVA6REHNnTu2S6ONcYqw9I2++GJepRMXazTW2fj4vxw+QNchioJe1iHwRx3at1btQ/87jJJlz55D/Pjjj2LFimXyNzrGmWuQyY0OUaxJNWFpXq6FcNAPV1/yIeCHjh75XAwdOtCxLqzWlGKvSl5xlMpL/z6SPEztWld5w06duokcOXNK+vwlPvvsE8ULfPhhgmFK3bCe1/kDffBC20jbp3eF79d4uOELQukQpX55mcNT4hrtdb/ihWcBTUPpEPWyXtFYhfPd8G1+jJtf37Kbfod7f/57BN965113KZ7gBclj/S73QeCrwLPDWC70ii9ZulLNVbzOSPg7nh9hr9+LV14D8zD0tB86dFB1DfMw9qsPSB4d+monSP38Rz4/rNI6de6m9rHqgf1r0qShXKu2qZjKkoerVr2m4vFhR2HmzGni4IH9Km3goGGiZMlSTknwWaXkPhIW52+88f9Ey1ZtRCFpqPjuu+8Rn8s2V8o15r33Fqn8bgxEOg2kkkBq0yFqAdFU8mEn12v6ycBTHyMFRJEfBoDefnu4YuSpPPdvvvkW8ZY0rPFqidd4tBOeMX2KwMQvJZadOB4AMAaLfxkyZOTREnS9JKpVrajAkYAE9gDgbPacBQ5IQ0lYaNu1bamsOlMc/DslyPHzzz85UbD4PHfeYpFeAq3cAWBq1bKpOCKZ+1AOm5ypU2eJZyVQxh0WChhQIWaepyGM9y1VqrRabPDsFhD94oujAkaTvvv2WxQPcrlyvaCMFGCRMwGiKABl5h3atwmghV4RjBi0k0CyySV1TFFXzx5dxZIli03Vqjh8T6PeHiNefDFfUJ5ImBY/AFEAUt26dnRA96COyAgwXj179lEgGk+PpI+RAKKokwNovA2EdauSYAphNRjfvu7w3Tdu/KbchCcYwAkFiKIcZ3b1eriBs8SAJdCwc+f2YsP6tXo1zvND0vAUlNs//fQzThwCfjDtARWGeLh8+bIE8sqLY8eOBuXIJIF6zA3k/BhXMI9xcXXF8WNfULUBfo0atSVz+6ECBMIBom76HdCA4SGpv2UYS2nerImRdtQMLL0PH/62uP32OyhK+XwDkxRAFJXMmjVdDB0yUB0YUOVo57ffLgb8BgZJRr4EY+QT+279mL+9rB9uAVGvax3RLrX4fvJT4QBR0HNA/z4K/DfRFoeRTZs0l4erI1SyCRD1sg5hs9yxQ5uQaxgOqTLKOW7+vDmqfTeAKAqAN2oqN9MXLpxX5fV/JSQ/CNAT84RuZZ7ywviU4g3lPBzKmTbTfswfXmgbafv8nfwcj0j5gsQAUS9zeEpco0FvL/sVLzwL2g4FiCItqesVykbiIuXb/Bg3P7/lSPsdjgb89xgX94YjSKOXwUF3u3adRI2atfUkKfTQQmzcsE6kkzzp2rWbgtJNEV6/Fz94DYwnDpZQVyiXN29+tcfGnkV34FVg4MnEA1Pe8uWlYd3efenR8ffs2a0O3XDIFspBIGnWrPkibdq0obKk6ngLiPo0/JiUQjk9jT9T+P/ZuwpwK4o2PIqIiL+KLRalIN0tSod0SJd0d0h3N4gI0t0dktIlJWEACggijaR9/3nn+i2ze/ace2LvPXfhm+c5Z2an953d2W/e+WaGbORBbj5l3hui4fN3UoCnuwiEEEWa/fv3iT69eygNSXpW8HGBQN27d39FvFHedjZOpevdu7s4I2etyMSLF09AS6pnr36S0HyRvE223MZBTJw4XmqTTVcDXQoEaVaiZCnRtm1Hnx0tPrbQ9DtvcwJxtuw5RevW7UTq1GkoW5ONsqEBu2L5MlPZmGHE6fOdOnX1Wm+Qvyh37tzZUgPknsoXeOF+cZrfmtWrjFNgAyVEkdn169dE926dlVYlEc3x4z8pSpUqo0jMNq2bKw1cb4Qo8vj11wsqj6+/3qe0MuEHA4EAmsD58t0/gTEyxPwfbJsil1WrVih8UAcyGCBmyZJVdOvWS2njkr9u+yO0OEGIUpkLF84T4z4dYxr0PfLII0rbGBo3IM2sxp86+kuI4l1bumSRWLR4gfj57Bml3UPlWQlR+O/evVMRzhekFiYZPANduvSQM+X3RLOmDZW3L0IUEQ4c+Fqe/j5enDp1Umk20zsfCCFK5c+T78B4qY109eoV8lIazHi+oDFuJcsQyQmh3SgsCsfdu3fVTD9OIP3555/F3bt3VIroIESRMTS3+/btqfoAaCzAPPlkAlGwUGE1sVStaqUoCVGk8bfeiBuVCfZdxqTVkMEDxcqVyw3cUBYI+Oo1aon69RupiQNr+foAJlhCFHkePXpEkqID5PMaqUmmlwNtNWigFy1aXPeOUrMZkZ3ov4P9fgRKiNLNhfKtozweBttJeSoqQhR44ls3ZPAApUlD+KJP7t6jt9TQjCeqVqmgvO0IUYofzHeI0oJ0hDYoDZjxnU2fPoMYMmSkmCE1gKbKCWuYQAlRpLly5YroLCe9MDCmb0SCBE+JqtVqiKZNm4uiRQooOQOaS7g/OwOtvj5SNsS3hvJAvJdeflnKZ+3lapaSHsmc6j+QcTDY+lu+R8WlhxPtAZz8kQuiIkRRv2D78Nj4jSa8Qx2vBCOzoGxfhCjCg/leIZ2/xh+5zcl2c+JZxr35U29fGOjvI06Zx8oXTJaeO/ezkew1Oa7pJcea2bLnMPx0hz9yux5fdwf7vCAPJ2QNrOgaNLC/2Lx5o9KCpbolTJhQNGjQRGl92pGhFA99wECpTLFq5QpjvIowrCxo1Kip0jqluFb70qWLasyxd+8eU9mQaUE8N2zYRK1EsKbj60gEmBB16EnQhQdrltYw/ZrcZCMtuZkQtSIZ/msnBfhQ7wbLrb/99lvVwaVIkVIRG4HkeePGDZn+mNKSxHLyOHHi+J0cnf45SVi8+NJLIlGi12wH2t4yg2YWlhBgqf4LL7wgsDwWefhj8G78fPasOHP2tEqDgba+RN5XHv/++48U9E+pwVDatOkl8WFeAu4rrT9h+JAdP35c1ieOIukCwZPyxyznCamxduvWTZFSLml+Vn5EAzGhtCnKRLuA4IaWLpZ4x0aDgd8P338nnn7mGZEsWXIRP3782FhNo04QUk6ePCmXY7/jlbQ3IseQQ9XpxAk10E2aNKlpiXwMVSFWFYP3Ds/UP1KjF+RrMO+u0zcU7LsMLcWzkrDHACSpJHv87Vudqv+dO3fEmTOnJdl5WjwpNRFek317EgeeMSf671C+H8HgE8q3Lpjy3JYmXPIUtPFO//STeEfKTZBBgjHBfofwDP70048CfTDkEKe1dSAXguzBpCz1ZegTsmZJrwbJtWp9LNq26+jzlvEOf/fdcTkWEfIbm0wtvfSZwOHAYLENphrR3R7B1CncfXgwdY4qTajjleiSWaLrexUVHtERHhueZSshSv0rFC5+lOOvt9+BHBy51VN0YEB5hvK8OCFrII9z586Jq3K8gu2LCAeqX1Q21eHy5cty5WNKNU6PKg2Fy3NpBLbzuCa3YkucJKnavgjKI2x8I8CEqG98/A5FR+TNWMP0a3KTjTzIzYSoN0TD5x8uAT58d8wlMwKMACPACDACjAAj4CwCLE85i6e33PStKbp17y0qVqzkLSr7MwKMACMQNALeCNGgM+SEjEAMIcCEqENAE4lpl501TL8mN9lIT24mRO3QDK8fC/DhxZ9LZwQYAUaAEWAEGAH3I8DyVOhtOGvWDKUN/phc4VO7Tl3x/POeGq/Y0mfp0kWqsPnzlwgcjMmGEWAEGAGnEWBC1GlEOb+YQoAJUYeQJhLTLjtrmH5NbrKRntxMiNqhGV4/FuDDiz+XzggwAowAI8AIMALuR4DlqdDbcP68OWofZOSEPcfbtGkv3pWEJ4hRbFuBA2Rwkj1MsWIfikGDhys3/zECjAAj4DQCTIg6jSjnF1MIMCHqENJEYtplZw3Tr8lNNtKTmwlROzTD68cCfHjx59IZAUaAEWAEGAFGwP0IsDzlTBt26dzBID295fj662+IyVNmqMM5vMVhf0aAEWAEQkGACdFQ0OO04USACVGH0CcS0y47a5h+TW6ykZ7cTIjaoRlePxbgw4s/l84IMAKMACPACDAC7keA5Snn2nDjxvVi9Kjh6mBEGkMg9yeeeEKULVtBtGrdLtYfQOgcGpwTI8AIhAOBuXNniYED+qqiN2zcFvBhQuGoM5fJCAABJkQdeg50AcSapTVMvyY32UhLbiZErUiG/5oF+PC3AdeAEWAEGAFGgBFgBNyNAMtTzrffvXv3xI8/nhK/3bgh3kqcWJ4wnEg8+uijzhfEOTICjAAjwAgwAg8IAkyIOtSQRGLaZWcN06/JTTbSk5sJUTs0w+vHAnx48efSGQFGgBFgBBgBRsD9CLA85f425DtgBBgBRoARYATcjgATog61IJGYdtlZw/RrcpON9ORmQtQOzfD6sQAfXvy5dEaAEWAEGAFGgBFwPwIsT7m/DfkOGAFGgBFgBBgBtyPAhKhDLUgkpl121jD9mtxkIz25mRC1QzO8fizAhxd/Lp0RYAQYAUaAEWAE3I8Ay1Pub0O+A0aAEWAEGAFGwO0IMCHqUAsSiWmXnTVMvyY32UhPbiZE7dAMrx8L8OHFn0tnBBgBRoARYAQYAfcjwPKU+9uQ74ARYAQYAUaAEXA7AkyIOtSCRGLaZWcN06/JTTbSk5sJUTs0w+vHAnx48efSGQFGgBFgBBgBRsD9CLA85f425DtgBBgBRoARYATcjgATog61IJGYdtlZw/RrcpON9ORmQtQOzfD6sQAfXvy5dEaAEWAEGAFGgBFwPwIsT7m/DfkOGAFGgBFgBBgBtyPAhKhDLUgkpl121jD9mtxkIz25mRC1QzO8fizAhxd/Lp0RYAQYAUaAEWAE3I8Ay1Pub0O+A0aAEWAEGAFGwO0IMCHqUAsSiWmXnTVMvyY32UhPbiZE7dAMrx8L8OHFn0tnBBgBRoARYAQYAfcjwPKU+9uQ74ARYAQYAUaAEXA7AkyIOtSCRGLaZWcN06/JTTbSk5sJUTs0w+vHAnx48efSGQFGgBFgBBgBRsD9CLA85f425DtgBBgBRoARYATcjgATog61IJGYdtlZw/RrcpON9ORmQtQOzfD6sQAfXvy5dEaAEWAEGAFGgBFwPwIsT7m/DfkOGAFGgBFgBBgBtyPAhKhDLUgkpl121jD9mtxkIz25mRC1QzO8fizAhxd/Lp0RYAQYAUaAEWAE3I8Ay1Pub0O+A0aAEWAEGAFGwO0IMCHqUAsSiWmXnTVMvyY32UhPbiZE7dAMrx8L8OHFn0tnBBgBRoARYAQYAfcjwPKU+9uQ74ARYAQYAUaAEXA7AkyIOtSCRGLaZWcN06/JTTbSk5sJUTs0w+vHAnx48efSGQFGgBFgBBgBRsD9CLA85f425DtgBBgBRoARYATcjgATog61IJGYdtlZw/RrcpON9ORmQtQOzfD6sQAfXvy5dEaAEWAEGAFGgBFwPwIsT7m/DfkOGAFGgBFgBBgBtyPAhKhDLUgkpl121jD9mtxkIz25mRC1QzO8fizAhxd/Lp0RYAQYAUaAEWAE3I8Ay1Pub0O+A0aAEWAEGAFGwO0IMCHqUAsSiWmXnTVMvyY32UhPbiZE7dAMrx8L8OHFn0tnBBgBRoARYAQYAfcjwPKU+9uQ74ARYAQYAUaAEXA7AkyIOtSCRGLaZWcN06/JTTbSk5sJUTs0w+vHAnx48efSGQFGgBFgBBgBRsD9CLA85f425DtgBBgBRoARYATcjgATog61IJGYdtlZw/RrcpON9ORmQtQOzfD6sQAfXvy5dEaAEWAEGAFGgBFwPwIsT7m/DfkOGAFGgBFgBBgBtyPAhKhDLUgkpl121jD9mtxkIz25mRC1QzO8fizAhxd/Lp0RYAQYAUaAEWAE3I8Ay1Pub0O+A0aAEWAEGAFGwO0IMCHqUAsSiWmXnTVMvyY32UhPbiZE7dAMrx8L8OHFn0tnBBgBRoARYAQYAfcjwPKU+9uQ74ARYAQYAUaAEXA7AkyIOtSCRGLaZWcN06/JTTbSk5sJUTs0w+vHAnx48efSGQFGgBFgBBgBRsD9CLA85f425DtgBBgBRoARYATcjgATog61IJGYdtlZw/RrcpON9ORmQtQOzfD6sQAfXvy5dEaAEWAEGAFGgBFwPwIsT7m/DfkOGAFGgBFgBBgBtyPAhKhDLUgkpl121jD9mtxkIz25mRC1QzO8fizAhxd/Lp0RYAQYAUaAEWAE3I8Ay1Pub0O+A0aAEWAEGAFGwO0IMCHqUAsSiWmXnTVMvyY32UhP7thOiKKeX3+9z3TLzz33nEiWLLnJ70G6YAH+QWpNvhdGgBFgBBgBRoARCAcCLE+FA3UukxFgBBgBRoARYAR0BJgQ1dEIwU0kpl0W1jD9mtxkIz25nSREv//+O3Hz5k2jeo8++ojInDmrcW3nuHbtqjh16pQpKEmSpOKFF15Qfv/884/ImCGVKbxIkWJiyNCRJr9QLqZOmSSGDx9symLX7gMiQYIEJr+YuniYBfhJkyaIP//8UyR+K7EoVrxETEHO5fiJwODBA8Tdu3dEhgyZRJky5fxM5Wy02PqMHD58SCxZslDdbOPGzcTLL7/i7I1zbrEKgdjwLsQqQHxU5tKli2LcuDEqRpky5WX/kdFHbPugNatXitNnTou4ceOKevUamiLxu2eCgy80BB5Weery5cti4cJ5ComcOXMH9c5pMAbl7Nevl/jrr79E1qzZxYcflgwqD07ECEQnArNmzRAnTnwvXnzxJdG0aYvoLIrzZgQ8ENi3d49YtXqF8m/XrpN46qmnPOKwx4ODABOiDrUlkZh22VnD9Gtyk4305HaSEK1fv7bYs3uXUb3HHosrDhw8alzbOVbLQU6njm1NQb169xdly5ZXfn///bfIlDG1Kbxw4WJi6DDnCNHJkyeKkSOGmsrYuWt/2Dqmh1WARwPkyJ5JEW7vvfe++HTcBFObPMgXIP6LFyuobrFy5Wqizsf1YuXt5n0vh7hx47ooLcnQPn0GhKWOsfUZWbF8qejSpaPCZOGi5eKdd1KEBR8uNGYQiA3vQszcaeilnDx5QpQrGznB1bfvQFGqdNmAM23erJHYsmWzeOKJ+GLvvkOm9PzumeDgCw2Bh1WeOn78mKhcKXLSsk2bDqJ2nboaKjHjzJY1g/j993uiUqWqokvXHjFTKJcSqxGAAsqcOTNVHVeuWqcmuMJZ4aZNGoht27aIpEmTiaXLVoezKly2nwgcPLBfdOrUTsXuP2BwlIpXfmYblmh4Fwb076PK3rR5h6EMFpbKcKHRjgATog5BTCSmXXbWMP2a3GQjPbmdJETr1ast9u4JjBBdtWqF+OS/jo3uq1evfqJsuQrqkglRQuXhsGMr2RXd6OvPed26DUTLVuZJgugu39/8YwMJFFufESZl/H2KHox4seFdcAuSTIi6paUevHoyISoEE6IP3nPt1jsaM3qEmDhxvKr+1/uPiMcffzyst8KEaFjhD6rwXbt2iIYNPlZpx4+fJHLlzhNUPrEhEROisaEVYq4OTIg6hDWRmHbZWcP0a3KTjfTkZkJUCNYQtXuiwuMXW8mu6EaDCVH/EY6tzwgTov634YMQkwlR/1uRCVH/seKYziLAhCgTos4+UZxbKAgwIRoKepwWCDAhys+BWxFgQtShliMS0y47a5h+TW6ykZ7csZ0QtdtDlJfM2z0BD4bfxAnjxZ9//SneknuIlihR6sG4KT/ugglRP0D6L0psfUaYEPW/DR+EmEyI+t+KThCiWE1y+vRPaollgwaNTYXzu2eCgy80BB5WQvTy5Uti/vy5ColcufKIjBkzaajEjJOXzMcMzm4qhQlRN7VW7KwrE6Kxs124VlEjwIRo1Bj5FYNITLvI1jD9mtxkIz25YzshanevTvuxhqjTiHJ+gSLAhGigiMW++EzKxL42ic4aMSHqP7pOEKK+SuN3zxc6D3fYw0qIxoZWZ0I0NrRC7KoDE6Kxqz3cWBsmRN3YalxnIMCEqEPPAZGYdtlZw/RrcpON9OR2AyHauFE98ccffxi3XaBAIVGtek3jmhwbN64XOKTpu2+Pi9u3bwkczPP+B/lFmjTpRJfOHSiashs1aiqyZc+h3NOmThLDhplPmV+zdqNYunSxOsTh9E8/ijfeeEu8myqVqFChUrSf1hlbBfibN2+q/X6eeOIJE5bhvLh+/ZrSGHrqqf/FaDWguXzhwi/izp074qWXXhLPPptQPPLII0HXIVRCFCe5XvjlF5HotdfEY489FlA90BecP39OJEz4nEiQIIHPtN5IoKtXr4inn34m6A3yUYffbtwQzyZM6LP8YAKvXLmikr3wwgsBJUef8/vvv4tnnnnGr3ROkjJOvGvAFM9oggRP+X0P1hvFc/nL+fPi5VdeFvHixcx7f/Hir+pZDGZvsUDbzHq/4X4XcDI0+pFAn1U8L7/8cl4dBIjTcuPFi2e9tbBeeyNE//33H3H16jV1v6H0n4G+e7dv31aHw7322ush9dthBZUL9wuB2CpPXbt2VfbLz4o4ceL4dR/RHSkUGQJ1Q//z/PMvmPoetxGiGDfgOxc3btyA4Q627w64IJsEoX6nQ6k7ZGActJko0Wt+9aWhEqKh1BVyKg771WU6J/cQDVbWRJOGIvfQI3Hj+nXxtJRXH330UfLy2w627qH2G6gg+sI//vhTvPrqq37VN1hCFPLdlSuXxVU5Jkj43HNS7ngxxvrfo0ePiJkzp4n+/Qeb2sfbHqJ3794VV6Q8+Pobr8v4zn8j+vXtJfIXKChy5sztF+YcyRkEmBB1BkeDxLTLDi+6bvRrcpONeOR2AyFKQhXdX+Uq1UTnzt3pUtn6R9YUIC9AjOIUQd0MHjxcFC32ofKyI0QhqP722w09iXJj0FazZh3Rpm0Hvz7+Hhn44eGEAA9yeOyYkao01JcOqbIrvkP71uLEiR/EG2++JUaPHmeK8scfv4sRw4eK7du3irNnz6h7fvvtFKJjpy4iXbp08hTT8ip+ZXkyeqXKVU1pa9WsKm7e/E12uoVE8+atxFdfbRILF8wTZ86cFlflB1A+hKqj375jr5GuXt1acoB8RbyX9wN5EEB7w193/CKJv+GSwD58+KASItAmr7/+hsiaNbtoLdPowo6ermOHNuKHH74Xb7/9jhg8ZIQeZLixxGzO7Bnqev6CpR6CMQb248aNEZs3bxT/SLKIDD6upUuXE7Vrfyyee+558vZpjx41XOVDkU6dOqmcCSUpaM2jTNnyolatyE3EKT7sZcsWi1mzZoiTJ06Iv//+S9b3cZH87bdFbRm3WPHIU531+Loby08HD+4vDh86JG7duqna9k25VUGe3O+pQ53siG+dEO3du7+YMOEzMX3aFJUegmaSJElFvXoNvJaNCYuJMg3MhIlTlGAyd+5ssXXrV0pQwb1ny5ZDdOjYRbz44ot6dQ23P88ICI+hQwaKHTu2qWcEiV966WX5zKYX7dp/IoX3REZ+Vsds2f6YDME7gTYGwdRQTqBUrFhJ4F3BM5A6TVqB07J1Eygpo6eF24l3rUjR4vIZrCsmfD5OzJ49U9y9e0cV86Z8t8uUKSfq1mto22+dPXNGtGzZRMVt266jSJ78bTFE4rdp0waFQRxJsr/zTgrRuHEz8YGcZLIzgwcPELt2blc4fz5hsvj+++/EjBlTBU47vnzpkvjnn8j35TO5CX769BlMWezbt1d8LuuMySz0GXiWkidPLgoWKqKep6gEwmDbjCoRjneBysZAZPCgfuLrr/epdwD+eOayZssuOnbsrMhhiqvbGIgsXDhPTJn8hfj11wtGEPrDrPIdqi4nDb21lRH5PwcI1dq1q4mIf/8VueX73659J2sUdf3RR2XFuZ/Pyj40hZg2fbZtHOpnM8gluj16RJ6eindGP2UeE5VDZN+zevUq1W89+WQCkSpVatGhwyci5bupbPMdMWKo2CpPmcfEzeQpkX00RfTn3QNeY8eOEpvktxHfMshATz31lEiVOq1oJ7/n3sqlMth2JwJOyFP6t3qQlB3RF9oZkEO1a1WVz/Tf6hto3doBpOEQ2U8eOnRQyTn4XufIkVN07tJdTl5dEP369lTZ9pHfljTyG0NG759btGyj3tHFixeItWtWqXT4fsNkyZJNjB4T+X2FnNS0SX3l37hJc1G4cFHltv6FIkNcunRR9O/XW/Vd6LcxEZMxY2b5nWkgsmfPKUh2d/KUeZww3bt3pPzfrXsvkSlTFustqevy5UoJTLiUL/+RqF6jlimOLps2bdpcfqemKVnssGwX+YEUSRInEXXq1BMlS5UxpbNeBNJ3o7/p0rmj+PbbYyobKFfYKXYgcPfunWLQwH4qnt6P6s9BsN9plan8C6TulIZs3MvkyRPFyhXLxE9SYeRf+d1AX5oyZSolI+DbRQZEX6OGdelSkV/XJXEHkzRpMg95ZO68xSZSHfFCqeuff/4pRo4cJjas/1J9J0EWop5lypYTlStXk+9IaKfMhyJrBiP36M8A+gLIUtOkDI5vI8YQ8eM/Kd59913Rrl0nkSZtOsDn1YRS92D6DZIRX3vtdTH208/V+GXsmFGGjP68nFDJ815eJfdYlVwa1K8jsA0IzL1799QEDNyJEr0m7zk+nIax9gtQnJk8aaJYIMefJBMjMvqrggWLiNp16ooUKVIa6Z1yQHFmw4Z1YtbM6bLPP6CyPXT4W5+E6LlzPyt58Nixo0pGgWyENu70SVc1vrKrG+GKMY6/snexogWUIgxk/arVaoiSJUtLPGJG6cHuHh4WPyZEHWppIjHtsrOG6dfkJhvpye0kIVq/fm2xZ/f9U+YxiJ4wYYpddQ2/PfJUegzeddO7zwA1eCe/rFnSmTREQbx16dKDggWE1S+++Ny49scRFSEaVR69JBlUVpJU0WGcEODxoSuQ/z354bgrhfeUYuGiZbZVxce1RInCKgwf13r1GhrxILy3aN5EkojfGX7kiBMnjsDAoF3blsoLRAmEbt3o5FlaqaXbt29PPVi5kc/BQ8cN/4IF8goI2SDzBg0aZviTY8tXm2Xbd1SkCfnp9quvJhJDho6QxJeZcEGcalUriiNHvlEDjdlzFurJDDdImU/loBnGegImPlB1JGkArUFv5o033lQfJBC0UZmu8j6WL18aVTQVXlsK5zpBDCGvb5+ekrhb5DV9+Qofia5de9rOgK5bt1Z079bZJBzoGSWXpPHYsZ97EId6m0IQ+UySw3amatUa6gNuDdNnQydNmi7ayucH2gVWA43biV9MtRVSonpGQGS2btVMkR7WfHENTdahw0bKgWguUzC0C7t17STWrl1t8qcLvBu7du0Ux44dUQPPYEgZystqO/WulStXUQmKGFDZmdx58kqic4QavOjhJ0/eJ6zaSnJophTgMJCxGpBtdes2EOgrrKZNmxZq0JFICrvDh49WxIDduzJt2myRMVNmlRzfIZDq4z8bKwnTf6xZqmsM8tHX2BHkobYZCgjXu4Cy9+/fJ9q3a20QofDTzUsvvyyGDh3lsSoBuIGc//LLNXp0Dzf6ZPTN/hgQogf2fy2e+t//5MqIXR6TQXivypcraWS1ctU6AaJdNxi4Fizwnhog4xtNk2T689WrVz+xes1Kk6xAeYAg6tdvoDFZSf6wO3VqJ1bLfURBFm/ctE0PElERoniW27Rurvp/U8L/LqCNjAEHSAo2DxYCTshTe/fslrJRJKnm7dsG1BYtmi969eymAJwxc55p4geybru2rWwn2kEENJKTbv369VJpJ02eISd4syk3/vT3p0/fAWL7tq227352Sa5OnDhVpdNlu+49ens826HKEPv27pGkS0tB5JYq9L+/J56Ir77f9evVlvLSPeEkIYrJ+SaNI4neT8dNUAoPetnkzpD+XdUP4XvVslVb8la2Lsc8/fTTYsb0qaZwuihXvqLo2bMvXZrsYPpukNRVKpdTmEH2xfhIJw9RAFbrQNEAChkgOEAQ0ooB/TkI9juNMoKpO9LBYPKsU6e26hmM9DH/475atGgj6nxcTwXgfkC++Gv27jss9Mn4UOqKicIWLZqoiVa78jt26ip27timFGaSJk0mli6zl/3s0sIvWFkzFLlHfwa6de+tSMVvDh/yqCLG3z179lGKGh6BIdQ9lH6DZMTEiZPKMd6HXscPkCtGSeWcZMmSG1UvUjifWvFkePhw6P0Cntdq1T4SZ6QCiDeD/mr4iNEij5SPnTC//fab+hbMnTPLNFmN+1m8ZKVpEmDOnJliQP8+qth+/QbJSeSuapLYWg8Qo5CNChSMHK/r4YRrILJ3x45t1YQankUYjLkqyDEjZLaXX35Fz57dDiLAhKhDYNKDa5edNUy/JjfZSE/u6CRE7erpj18ghCiIhJIlioq/5EE8gZhQCVFo8K1es0E8+eSTgRTrV1wnBHgU1KtXN7Fo4XxV5py5i0Tq1Gk8yh8lZ04nTZog8PFcv36LIXghYsMGH6vT/ODGrD80zF5+5VVx9Og3SisJgg+0AmB8EaIQNM5IjZxHH3lUaQFhkA8hFAZ+mM0j44vsgoBftmwJ1dYYOGNWL3PmrOLPP/9QmoDzpKYhDLQMMVj/3/8iy6C8QyVEy0ky4KQkBfDx7CQ1ZDNnyaqWiEEoWr16haDyQbRB+zEqs1VqRZ46GakV+o/UZACxDwNNV+uHGTO9+gBp8uSJYqTUmILBAA2/V+Ryk3PnfpYamOPFqlXLVRgG+QjTDWb0cS/QfoTgCe1H4HhBvkvQCCSSBfX4YtI008ebBhIgfiHolihRSm1L8aSclT5wcL+YOmWS8S5Omz7H4yAH/eMPYgPL+9GOyZImFxclEQ4N4oMyH5hMkjSbKskzq/H1jEALrEzp4uJnqcUG89FHVaQAUUiRbZisQfkQ6PCMLFu2xrRE/4uJ46WG9AiVDgJBzVp1lDYxtAdnz5opNZt/EgmkFsTtW7ccJ0SdetegpYHJkEyZs6h7f1O20/dyQmPK5C8Mghga41YNQF3IpjzKlCmvsHtavkdo2wmff6YmWADQmDHjZbvnU1jRHwll0K6P90Q8ceniRTUZg20cnpNafY88+oiKWqdOPYNIW75siSTtOyl/DP4QllJqN0BbatXK5eq9RqC3dyrUNgvnuwBtsg+LF1IaM3ifOnToLNstsxzERyhNW8z6X7lyWQmnK1d9aZq937B+nZwgaa5wy5+/oMCqibRp06u8MHGDvgHfRhi791AFWP7mzp2ltL3gPe6ziR590Kefjhafj//USGWdQEPA/Hlz1MQXvg0bNm5V/SP89ecLB+ZhoIpJHmg+/PH771KLYr3RZ0HbfpXsv60aIqEQoo0lgbJDEikJEjwlyfzWUiuksPo+HD9+VGmSHz16RGltzJu/xHYSBvfAxp0IOCFPQV4uVaqYGlSjfwMhb7elR/XqlQTICUwoLl68wgAMffKHxQsa5GGJEqXFB/nyq0mHnTu2y8OP5qjnkeQpX4QoJrgxSY16vPNOCkWaPRE/UrMHKzTQv8NERYiGIkNgOWeJDwsbEzmYwC4qVydAexsrdzCxHOfROOL2ndtKzoithChkEGid4VuXN+8HSp6HJteUKV8YShiQ5ayTp6H03SDXGzb8WMkk6Ovmyz6HCAhMIFavVkm1L56vKVNnqn6dHiS9Hw32Ox1K3VGPzp90ECtXRipYgICHjPWCJPT3H/ha4BuC7z4MJrxB9t6+fUssmD9P+eFvx45tYu/e3eq6RYvWcsL+MSMMDshd+H7AhFrXZk0bqtVHyAsa11WkLAzt3xNyAnjG9ClKo/LZZ59V72XSpIERoqHImqHIPfozgOcX2uGQm6AE8rtc0YfVa8gfBmMgfEutW1GFUvdQ+g2SEUHuYaIEMl+9+o2URut5uTXTksULjTFnarlyY/acBcb4A6v37sh+FObM2dNi8aIFyg0lAMgUuilUuIhaNQg/kI2Q+2Gg1IAVi9CKPHPmtMAkFVZS4r1Df4qt8vBeBWt+/PGUHCvMUIouuD8YPMv58hVQ2si0TZ+eP+qGOsKgbLRNfXloZGYpw0MTFkpA8+ZFjoOg/YuxrVU5gHDFPfgre6M8fCPmzZ8tli5ZrJ4j+IELKFyoiNJexzPFxlkEHjZCFGRjtBi5LEGuaLP/Se2aCP33999/R9BPvmAR+EkiwPhJzZoI/LZu3Rzx5x93HPnVrFExIuU7r4f8mzdnmqk+6dMmM+XZo3sHI7xFs/qmMJTfqGGtiBM/HIu4dPF8xKgRAz3CEWf50vlGHhM/H+0RJ02qJBED+/eIWL9uZcTQwX0i0qVJ6hFn/ZcrjTycwhD5DOjfV1imtwAAQABJREFU05F8Dx/aZ9S5e9f2Hnneu3sz4r3cmVScpo3rmMK3bllvpK1ft1rEnds3TOFHvtkfkSlDCiMOcLZikCNbWiO8Qb3qEed+/tEjjjVN3jyZVZrWrRp5xEUeaLvUqRJH7Nr5lUf4gvkzjPL69unqEV6xfHEVXqFcMY8wqseY0UOMPG7fum7Eu3L5QsS7Kd5QYXgeKL5u43kADqNGDoq4dvWibRw9vu6+e+c3o9whg3r7THvp13MRWTKlVPF7dLv/Luj5NWpQU4WjDa5euWDKr17dqioMOO7ds90UhjwmThhj1OWrTV+awvU2/WzcCFMY0m7auMZIi3L0OsE9bernRvgHebN61O33ezcj9H5kz66tHnn4ekY+/2yUkf+E8aM90n69b0cE3m08RzrO6CuyZH5X+ef/ILvHs4r2L1WioJF39arlPPJetGCWEX70yAGPcCsWdO30u9a4Ue0IPE+UP2zcX4kP86v6pU2dNOLHU9+Zwo8fO2TUHdjYYfeN7E8ypEuu4hUrkjcC/YdeRrOmdY08ChXIFXHo4F5TuB4X7uvXLkXkyZVRpcmfL4cH5r/fuxXRqUNLI88v1y435edEm4XzXRg2pK+6N/Sjp05+a7o34LP/650Rqd99S8UZO2aoKRz9G9opY/p3IvBsWrG9fOmXiE/HDFP90bovV3iEW+Pj+sIvZ4zyPunYyiNN0cJ5VZmZM0b2PWVKFfKIU6tmpAxQs3oFU5j+fKEftet3Bg3spfLHfeE9ttaxTevGKhzfLGuYr3dvy1frjHxXLF/okRb9I/oilIv6W/Pma2fkw3Dh6JQ89cXEscZztHzZAo/n5Nvjh43wKZPHm8KHDe1nhFnfZeACmRfPH/12bDfL5fr7gzjI7+ZvV01lWPE9+cNxI7/Zsyab4oYqQwwf1t/I204e+v67IxHZsqQ24niTU6x19udalzE2blhtui89faqUb6ry9e88hetyDNqV/MnesW2TUXe7PiGUvhtl6M9SxQofGvJ1qxYNjHLnzZ3uUS/rcxDMdzqUuuObRHIw5AyrDIBvCL79eEY/qljCo/64dyofcXQZm7DXbYobzDdy29YNBpaQKW/dNL8vkNGBPb1zxYu+b1tfvT66O1hZM1S5R38G8Iwf2L/bo94jhw8w7suuvwm27qH2G1YZ8ZfzZ0x1h/zfrk1To+6LF80xhRP++jfdOkahOGSXLhkpt1f+qJRtXseOHowct8mxWyByO+X/x++31binbp0qxruBZypXjvTqWT975qRtuZReHxNhbIIxCoWRPWvmZAOTzp1ae4RbcY1K9qZ8yca3ZO7sqRGQ6eh9gI33A1yJdTxB6dgOXDYC50b8m87JEU9HvB1sndOD2xv/B//Yah5BxZzllCNz85WtNUy/JjfZyI3cTmqI1pPLY/bKGZdQDZbU6Xteelsyj3vAshi6F5SLGbN1678yZhjhR7MncJPBcmzaYxFabcOHD6YgZWOJDZbakMHsVN8+PehS2V263F8SaAoI8cIJjQaqQpXKFdQSXyyD3Lx5u0nLCDNPzZs3UlGtGkFQp1+zOlK1Hyr+yZLdX7pAeQ8bOkjuXTNZXfrSEMWs1eo16z00Nikf3fam/QctvVIli6qopeS+Tn3l0gI7Qxoa2INw954DJi2OUDREMVOXM0cmtQTr/ffziTFjx9sVH7Sf7PxEpoypVXq7JV56xtiPZpDccxDmy3Vf2W5EflhqqdSQ2iowWGKH/U1hfpLaoaWlpgtMqdJlPfbBhL/sXMVuuTQc79Ubb75paPMhjDREoSGN98xOSwbLU458c1i8IrWJEUc3+myot/cHS/Hq1q2pkmFJEPbu1I23ZwRx8n2QW+3NBo27FSvX2m5GfuTIYXHzt5tqr1naYwl7Mfbu1V0V01VuM/BRpSp6kcq9Re7R1LxZ5PuSJUu2oPYx9MhUejj5rmF2d+XKL8Vrr73uUZT+vluXUutaB29JDYply1bZYod9WadLzQqYyVNmSk3ZrEY5ej8LzZbMUuvYl8F+Tn3+2wvOuiqA0t24cUMULZJfbe0ArdepU2dRkNo/M5Q2C/e7kDtXVjUrX7ZsBdGrd+T7bNzcfw7svbZT7suaSG5PsfbLTUbwCKkBOkVqicN40/43IgfgqF8/ctsbLJ/a/NUO4zsKLXgsl4e2wyefdDO2P1m5Ui6bf+stVQLaKl++3EojzPre6s9XPqnROmrUfU1Tqh40XfD+QoMb+1n1k4cP6CZYDdFWLZsqzXdsY4JVHXYGW+6Qhj5wBt5sHgwEnJKn8HwXKphXaQ7iIArs1aYb6hvjxYsnNUi3G6tgEAfbF0ETEZqA0EKyO/gQy6ShsQzjS0M0m9yb8wu5nUxUxpeGaCgyBMotKHGAJiDkbbxTuGerwUqVMWMiV1zEVg1RaKh9uW6z0c/p91CndnW1tBwHr2ySsrNuQum7KR/qz3BdsWJleXDrm8Y4xLotGKXR+9Fgv9Oh1B3btGBLIXwHlq9Yq+pMdSMbzx1W6GB7nZy5chsafhSun/dg3ZaK4pAdSl0/6dRerTpAPXAegN0ekQcPHhC1akbKekmTBqYhGqysGarcoz8DhQsXU9s/EV5kY7zyft4cSvOxWLEP1ZZDFAY72LqH2m/oMmL/AUPUCjO9XnBfvXpFbbEArU2sUps0ebo1itIixaoqmPFyT/pcufN4xCEPGvdhzIJvu74dA8UJ1oaW6tSpk8Xp0z8aWaRNl15UqVJdFClSzGPbISOS5tDHRNjmjPZd16IoZ6VK5cS3cj9+jG33fX3Y1GfpuPoje1vz1q+xvzU0vdev+9JY7YdVnZUrVxMff1zftP+pno7d/iHwsGmIPrSEKA2m/HssvMeyDo69EaI4bbBAfnNHWF+q3zeXyzB0oxMZ5K8vmcdy0hEjhlCQsvWBHjz8LcuUSZAXTgnwKB5LEHr06KJqggEmBppkWsqB4uZNGyShlkgJ6dhsnEzVKhXk0vgj6vCMRYsjl19TGNnfygNQKslDNmB8EaL6vlaU1pvtjezauGGdaC33gIMZ//lkkUsKWnZG/7iAyMXSCDL0YcTSmWD2ECWiD/lh2VoBeULfO3IjbuCHcuzIQSo7KjsQQrSfPB0QSyiwdL+83OPKzoDUxEcNpCaWidCejzqOGNAFesIgEaK+2rRP7x5y8/K5ShDGflD6YElvH+sea3QfOCkzrxTmYGrXrqsOMKMw2N6eEezb816eyH3X7PoBPQ+re/jwIXK5/xfKe9v2vbYHcwHL3LmyqCXpThKiTr5rICEhEHkzuXJmVvX/8MNSYsDA+32eLmTbvcuUn/7OY2817LFGhoQyvAd79x2yJVQpLuyBA/rKg59mKAFrz95DpudEj0f5gqTbui1yqR3CQ22zcL4LOFX1g/cj97DNli2H2ppBv2dyf/PNIbXvJfpmHaMd27fJPreeioblZ3nzvq/eZRDhbyVObCzBpHz8tfU9EPWlorRcHv3F6DHj5MRITrV9QvPmreXyrshJgiVLFoke3TsrQR0EApbPktGfr2bNWwnrYTMUr1TJYmpwkU4upZ8p92DUDREIIGEC2UMUW2hgKRsIBBwYZ2ewx+gG+Y2B8fV9sUvLfrEbASflKVoujPdx9ZqNxh7b+H4XkHvnXr92TVj7VpAT2bNFLj3E9jXYxsbOYKIJpCqML0LU1/uj5+uLEA1FhgBRkS1relWU3QGnVAfsl1m0SD51GVsJ0Vy58sj3fRJV2WT3799bYA9AGPS9dHBLqH03FYJDFGtUryy+++5b5QXiDjIGJv6++GKaLWmu96PBfKdDrTsOqjpx4nu5p3UmMX3GHLqVgGx/CdFQ60ryPmRzjAW8GTpcJhBCNBRZM1S5R38G7LatofvEIYaIi6Xnc+YuJG+5N23wcnIo/QYqQLIcJu73ybGB3cQQ4rVo3ljgEF4QcRs2bIWXyezatUNt6QbPqAhRHKg1edIElR75YYuhjPL5fUWN25L7pahjKly7oLEIvLA/f3Mp26RKFanYokXz6dTHRNZ+X0+ofx+s+7cTrv7K3nq+3tx4/8aMGWlsu4d41v19vaVlf+8IMCHqHZuAQvCx9GasYfo1uclGHuR2UkPUSoii08Om4b4M9vAI9lAlEHYgE3TTQ24ijVMldXNKfhSw96RuotIQ3blrv2kvEeCVPl1KPQu5aXh9SdK1M/k5ceGkAA/hNb8kja37HmIWrmDB95U2j1VbDPfwXp7salP3D/IV8Dh5nu4Rm1XnyR2pBWYnnBF55k0TkfLRbfrAWA9V0vcKXLV6ve3MNPLZvv3+hvvD5MEuhQoVMbInASlYQhRaqjVrVLE9BAikXxp5cBTIx9x57AfdRkVsHIEQog3q11GnkNpkY+tVSJ4uO2zYKBXmL462GUlPalM7DS5K89lnY43N0r/aslNgZpaM/vH3pYlFByLYDaS8PSOY2axZo7Iqqlcvs5Y5le/NxoErIESwhw/efW+mQvnSan8vJwlRJ9+1MmXKi959+nurvvioYhk1AEsr96SdNXuBEU8XsrGxu7fTdbEfWK6cWVQ6a/9HQlkiqV2nazMahVgctG8qtKbWb9hiCb1/qWtDbt2629gPK9Q2C+e7oGum3L9T364l0NTXJnj0vbGsKdEG0MREv0z7NVvj2F3rWp7YG65rt54qGhGV9F7hJPk1a1YprZsFCyP3k6PTenPk8NxDWX++fB1IWPfjmnKgtEedPmw94CIYQhQTQ1mzpDc0Hezu2eqHE78rV65m9eZrlyLgpDylv7e6zKPv6WvVnCftasDXvsMnokaN2rZIbty4Xh0GiEDrwFh/f/QVH7YZ/efpixANRYb44YfvRYXypVQpvu5Hf/fsvuO+6u4rTJfx9MNTrGlIhrBbcUNyjC/ZVD9gU5dj9GfAWqa3a2vfTfGwzzM0g+lgSXwL581fbJKZKC5s/TkI5jsdSt3RniDCocGPPXD7DzBr8Ov19OX2lxANpa4oP0/ubOqMA19jGMSjdyEQQjQUWTNUuUd/Bnz1BfXqRa7YtN5XKHUnrICbP0YfeyA+yYiYuIWmvDeD/dNnzpiqlCowGWHV6gyEEMXEA7S9wRdYDSa2kid/R61IrVKlapST+Nb0NKaEP/gOtZ+7lB308x6saazX+pgIK+qwss7ObJZ7w7aUB4TBWFd0Eq6J/JS97fInP3AdOJR1rjyTY4skpfHew0BTHnJ9KIo/VMbDbDMh6lDrE4lpl501TL8mN9lIT24nCVHqgKl+UO0+cPAoXdraq+SpsZ/I02N1Q4Mu8vOmIaoLmhS3q81yV12Ao3g6ITp58v0DaijcSojCP13aFBSs7No22mumCEFeOCnAowo0cMYMNGaWsDSHtgmIEyeO6uQgiOkmW1a5QbfcFNrbkgzE1TUF9MEB5UNCZ2l5GFOfPgPI26ftjezCaeYg2mB8fTTQkeOjDTNg4FCprVFSufFHH69gCVHkARIYmoQQyvFc0ccCYWSaNG2hToyla3/sQAjRj+vUEF9/vVfNntIBCr7KQNti+QaMjqO35fa+8vKnTXFqODYqh9EHErjWP/5rv9xsaNggTDcZM6RShw7YDaS8PSP79u0VdT+uobLxNVjQyyE3kTk45GDLll3k7WGTNqeThKiT71rFipVNh5RZb4DqnzLlu2oZGYXrQrauPU/hZOvvfHU5sO8gB/hkDKFMCrtrfQi7FJ+eY19LmREXs9QT5TMFg4N6sMwRJtQ2C+e7oD+rILGTv31fk13dnM0f3mFrP71z5w6lCX5ILv2jQbWeFNqU8xcsMQ430sO8uZs0qa9OEH7++ReUJuapUyfVcnl8z7GM/plnnlFL0LEUHWaF3KLh+eefl0v0cini0ao5jDj689W370C1XQf8rYYmVa2DOMQLhhBFv5pVDuJxgBy0p/Plj/q04/TpM5pOB7fWka/dhYDT8hQdrojBJ5aLY1BNfRFOT16+Yo0JIAzEaeK+Sxfv2yxt27ZF5YPEvghRX++PXvBZuXS5RInCyst6yjz1vdCYClSGOC6XbVaWyzdhPuncTS0PVRc2f/Rts/uO20T3y8tJQtSXbOpNjnGq78bNQnu4SuXySoMd1yBDQIjq2vXwJ6P3o8F8p0Opu96XRjXxSvW1s/0lREOpK8rNkT2T2mqnYKEicjXJaLuqKD/63tl9c7wl0usWqKxJ716wco/+DPjqC7x9S52oezD9BrAkGdGun9Sx1lf/7Nz1tVRU+J8eHNCSeSSU+y/KU98XqFPVcSgw5Firwaq3z+XqQ/Tn/hqM/7Zt3SJmzpomcGgrmWRyi7nKkhgtIVdkJkiQgLxtbX1MtGnzDtPBxnoC/fswavQ4dVAThROuOGXeH9mb0un27du35WFQS6RW/GyhbwGQKlUaUb1GLb+3ANDzZLcnAkyIemISlA+RmHaJrWH6NbnJRnpyu5kQ1QfnhIndEh470lUXJiY/4ISo/gGlpcSk8YOTNcd++jnBZ9i0NMaqSWZEkA5d8za6CVHsZ4q9FmF87ZGiL/mcO2+xaflCrZpV1QnmWO6+cFGkVpPKUPsjYQ0fxf0Hjpr2adGiKSdmHn/99Vd1WiH2Z8Tp7DglFjOFy5ev8arFas0H14EQorQkHScmQ1gA0e2vWSu1ujpI7S4YqyaLP3nEZkL0ypUrIr/cwxDGTuvZ1/3RMibE8bUsBPsyXZdL+p0kRJ181+y08/T7pvazTnTofYS+DFpPC7cer4tlcB+oUNZb7h+6UO4jivdl//5vvM7OExGG533X7vvau6G2WTjfBf1Zbdu2g6glJ9dCMfieX716VZ3eflhqSqMvwmnJML4G/XZl6ifgoq/dLQX9z+Xp8nneyyvGjZuokshN4dWS/zt3bgss4U0kyaHOn7RXbblZCvU4uVc3+nMTzCAOedFzAJI3kCXzUX3r9Hqy+8FDwGlCFFvR9O/XWwGFbWcw+C1SOJ8adNu9y/oSVatWvY62nm90E6KhyBD6KgHrpJh+P/o2U04Sovqk94iRY+VWBYX0YpVbHlAhsmROq8Y5DRs1FU3lJLVu6Dvoq2/0Rog62Xe3bdtS7tW3Vq+aiCRmJtl+D/V+NJjvdKh1p77U296OphvxckEyNoJ97SEaal1pNYx18tdarZIli4ozcvVXIISoXrdAZc1Q5R79GQjmWxpK3UPpN4A7yYhx4z6u9sH0Rj5SPG8KCoFoiFrbG+ToRbn/8YUL5+X+7DsUSYo9b2F84WnNx3qNdpk5c5pYtXK52mca4QmkzFqyVGmB/g/fCTujE6LTZ8yV21FktItmUiZZsnSVKT/CKxhCFON4aIOuWLFMTSCgcChK5Zf9avVqNUXGTJlt68OewSHAhGhwuHmkIhLTI0B6WMP0a3KTjfTkdjMhivsoJJd9Y/8vMthPDQf4PPdc5DLdf//9R87Of2RsVk/xHiZCFPdcu1ZVceDAfqVdNWjwMLWEAP7WmSb4wdBBFFgKDjV5aAtZDQ5UwsFKMNFNiH4n9yv96L/9SmvXqSc/rO2t1VHXtPcMSMJduw+IJ5980ojXtWsngcE+nhEQiXYfYxJQ33zzLaVNayT2w6Hv1zpQHtpVvLh5mwZfWWCmEYcqwY5q8DBzxjQxeHDksuhp02YH9MHCflUQFGFqSxKmjSRj7AzeKfQRWEKuz86GMpBAOfrH32kNUeSfC3t83rrlsW8Swshcv35NCSxx48Y1nmt9s/jRYz4TH3yQn6Ibtq4Z4yQh6uS7Fj/+k3Ip0gaj/zMqLx0H5ftfS/YDMDQxoi7kny5k+9Kg1geJ1j1oAxXKZsglUUPk0igYb0sfMelQtEgBtdG+dS+sUNss3O8CPau+9uNV4ATxh34Ee6NduPCLeOutxEqL099sQHhgf1MsjawmBeIdO7YrjQHrYIH2U3z77RRy8ucNpTWaW+7R+dn4yL149fL058uajx7Pm1YL4gRLiNJe2U8//Yz6lqFPY/PwIOA0IYr3o0D+vGoP3aJFi6t91nF4EAb5GzZusdXuo8NhUr6bSsyfv8QWfJJdEBjdhGgoMgTq9/77OdV+qehbli1fbUve6QeRRiXTIE9/DZaZ46A9mNat28utqyL3UtbT65P11pVCiBeqHONE360f5AZi+fKli2oiC/X7WB7o2qpVpAIArsno/Wiw3+lQ6k59Kfav/3LdJttn/c6dO+qwQNQZKxqsE/b6ygzrCiK6T7JDqWu7tq3EunVr1CTdCnkAFDQyrYZWP+B7GQghinyobla5RC/DTtYMVe7Rn4Fgv6XB1j3UfoNkRGDkTeaDpiJkl99+u+F1r1pdy3XI0JHGCjgde3/d0KQvWbKIGu/4OtTI3/xwBgIOzsI5D5fkO00GkwhQ2CokNZZ1o4+J7Lb3oLgkG2HcCqUNfek64RoIIYo9WmdMn6q2KKIy/ve/p9W5FJWrVPe6eo/ish0cAg8bIYoXK1qM7LQjvP3krEeE/pMaZxH0k7OlEfjJAY7xkxoeEfht3bo54s8/7jjyq1mjYkTKd143fmlSJYky3yWL5xrxKe28OdNM6dKnTWaK06N7ByN84ICepjDkUSBfjojZsyZHrF65JKJm9Qoe4YizfOl8I4/xn430iHPt6kUjnPCh+pE9sH8PjzgUNxR7QP+ejue7eNEc4x6LFMqj3HnzZI64d/embVnz580w4vfp3cUjzuVLv0S8lzuTEWfUiIEecXJkS6vCO3Zo4RHmDR/UCfi2btXIlOaP329HlCtTVIVlypAi4vRPP5jCkd+unV8Z9WnVooFHuN7Oc2ZP8Qg/8cOxiLSpk6o8mjWtawrftHFNxMe1K6vfiuULTWF0L3t2bTXKnzt7qm0cimtn55fPLe69xIf5I3C/dnHg98v5MxGZM6ZUcStVLBlx985vHnF/+vH7iObN6kU0alAzYtHC2UY48q1QrphKmzH9OxLHE0YYlTdj2kTjPpYvW2AK96dNx44ZaqT/9cJZU/ppUz83wuzKpjqkfvctFa9Ht/vvOoV5e0YQPqBfdyN/vP+UhuxDB/dGZEiXXMXp3rW9EY62T50qsfKvWL54xJ3bN4wwpP393q2IenWrGnlXr1rOFI44ixbMMsKPHjngEU51sNpOvmt4frp1aedRNu6nauXSqn7vpngj4vChfaY4x48dMuqOPPT+kep77ucfI7JlSa3ioQ1+u3HFlAfeGaTFc0xpfNnnz/0UgXcZafBM3rp51SPdmNFDjHrNnDHJFB5qm4X7XcD3A/eO3/p1K033RrhNnDBGvcPNmnws8blmxGnTurHqi9q1aRpx9coFw5/Swa5VM/J7nPe9zLbhelyru3Gj2qpe1D7oF69d/dWUD+pM9ce3Hu55c6eb4lC++vO1cP5M2zh6nYsXfd8jDu4ZZeC7Q/mS7evd27B+lVFP9A+URre/2vSlwhn95TeWd0OPx25nZMWYxDE65KnOnVqrZypdmqQRH+TNqtwtmtW3fbZwrx3aNTOewbVrlnnE27d3hxGOZ3zHdrNc7u/7o+N68ofjRp6Qh/WwUGQI5INvJ737M6d/Ycob4ZcunjdwQTzrdxx9GfoU+h08sMcjD72+uhv9doZ0b6vyC+bPGXH71nWPtB3aNzfqB+z09HCHKseE0nej/M0b10akSvmmqiP66d/v3VTf05IfFjDqvWaVp/yiPwfANZjvdCh11/v8Xj06eeCKb1GRwu+peyhWJK9HOO4d/T89OytXLLKNQ+0VSl0hu1I5rVs29JCpgTn6e4pj982hetjZwcqaoco9+jMQ7Lc02LqH2m+QjAjMy5QuHHHzN0+ZTx/TT/5inO3zgbEDtZvOB1jbCVjTuG34sP4ezwDiQ47NkilyPNW2dRNTecOG9DX6qEYNa5nCrGVZrzEuW7pknjHeovpiLKHH1cdEGNfZjYs2blht3C9kMz093ISrv7I30oAnoToVLZw3AuM+q0xvLYevQ5d/wLkR/6ZzcsTTEW8HW+f04PbG/8E/tpqH9pT5evUiN3Em3jy69xBFOZhN+rB4QbWMlcr1x37YNESh7YO9F/V95uo3aKxOxbPDC5q1OEAGs5EwOB214keV1R5H2IMFS8bOnz+ntIgQHt0aoihD32QdGqsdO3ZWJ3LKzkXslFpMw4YNUnvDYAPuZcvXytPfzZtTX5UHSWHJz61bN+XphnGVZkEeeTIgTg/FPY0dM0rgZD0sF5gzZ6GANgcZLHsrXaqYCseMN5bJYKYvSZIkcqncv+Lbb4/JE2IHGctUFy1e4fXkaMrTardv18rQEMiWLYfaIwZLRmAwe42lP2QmyVMTR8nTE2Gw5x00ZlPI8CtXLqtTqYcPGywuX76kZhFx6EmSJEkpqcDJ1TjdVHagSmMYB6dkliebXrhwQWCfmrFjR6k995LLA1zmL1hqOgkyVM0KfTY0OjRE0R+ULFFEaRRCY6dtuw7y8LDCqo1wgNun8t6g/YpnBG2E/XTJ9O3TU2rvzFGXwL9Fy9ZK+weHaX0ulwxv2rRB4Yl3yUkNUSffNcwey4+jKFWqjNz3p7aABg80IUeNGiYO7P9a3RvC+sqDk3Sjax0gj0fkDydmFpYHcmHW+MCBr0W/fr3EJbnUCKZ3nwGiTJnIfeQon2BmqfWDjbA9B05NTZHiXfGr1GxctnypmCWXIMFgm4v5CxZ7aCKF2mbhfBfwrJb4sLDqU/CstmzVRm3Kj/3jvpUa8SvlEqbFiyMPvrIe/jFxwni5t+oIhU3yt98R7dt3ktuDpFH7e+K937xpo1z+1VOF4/kfPmKMcvv7p29RgjTQmIbmtG6wLBWapOhPYdCnQuPn6aef1qMpt/58BavV0knuNb5a7jke6JJ5VKBxo3pS03Wbqku58hXV9wyrAH766Uexe9dOtU/t33//pd4XLEfzdvqtyoD/XIWA0xqiuPljx46qvR91ICZMnCKwZYmdwYnrpaQWEr4d0Ozp0KGzeP+DfFKrNK7SwIY89ddffxryVHRriKKOocgQkJM+LF5YYMsMyEON5OFtHxYvKRI+l1AcPnxI7VuP7YTwbZMDOY9VL9D8x2FnZGbLA/7SyP7fXzN61HB5EnvkVk+Q0xpKWfatxEmUzIOVOmvXrlZZeev7QpVjQum7z549I5+dCqrfhNbinLmLVL+NCmPpLsKw9RKW2+J08MTyvsjo/Wiw3+lQ6o56NG5cX+zYvlVVCQfvValaXfXJ2NceJ2GTnOFtlRS0d7EPL+RPaOtXlHlAPsV7AVO0aDHjOx9qXatXryS+kc8jDA74gQYeyjp58gd1JsH2bVuVLIjt1wLVEEXdgpU1Q5F79Gcg2G9pKHUPpd8gGZHkVGjXtm3XUW1thvHk/HlzlGYl2gvfZ3yL0UdaDWRcrA6FrIO8sFdnunQZ1POEuDjUCHICjH4QFLaKqlW7jpQnU8jnLZ76/s+cOU1t3YS4nT7pqmQDuGFGjBgqpkyO3CZI3zIoMtT/f/SJOCRqgzw4b//+I6rOlFofE+FesLq1izzYEXue35PPJcYdGM/h+wAZa8nSlUpOofSwCddANESLFyuoMMb+oLnlyh7042yiH4GHTUOUCdH/nqmYIERRFPaCw/6S+MD6ax42QhS4YHk7lrnDoPPDgQCvyU2YvRkQkM2bNVLCmTUO0uNj3KVLRxUUE4QoCpoy+Qt56v1wJWRb64RrLOXp3bufKFrsQ7tgtWS+e/fOtochUQLsiddACthWAzwaNayrlspRGIg1PHcgZclUqFhJdO/emy79ts+d+1keXlLKlD8ltm4TgIFVV4k9Cf4UT7fxce3Ro486QVH3h3va1ElipCRUMVixM/go4yTDVKlSm4JDHUjoH//oIERRWRCfWC6FJTd2Bv1St+69RNmy5U3BGORhUufkiR9M/nRRrVpNSXgflIPhI44SosjfqXcNSziPykM88CzZGSxvHv/5JCksvmgK1oVsEKkLJDGsP9N6ZBzuM2jwcJNQh/BghDI8x5/IvSet+6jp5aGPwtYeEGKtJtQ2Q37hehdQNp7VDu1b+5zQA+E5Q+4tpW/OjwFBO7n/3IYN65CNYZ555lnTc48B52w5uZM48f1BtRHZhwOHfbyfN6c6WA/R7Jadwr9bt0/EsqWL4RTvvfe+WganLix/+vMV7CAuFEIUhFSrlk3U5IClasblU//7n5g8eYZp4skIZIdrEYgOQhRg4HTw48cjDw0FsbVq9Xqfg0p8+wYN7Gcre+C9bdSoqRg0qJ/COSYI0VBliNWrV4ru8v1HPnYG9zN16mTVh1iXzIdKiCI9iEP0K97Mq68mkoedzDOIET1eqHIM8gqm7757967cl+8jVW9sb4P6vS37d93s2L5N7nnaQD0nIOnQf9PWT3o/Gux3Oti6Ux3Rl2JccOLE9+TlYZcrV1H07NXXw5889IlM8iPbuod7MDhTXjj4FIcm0UQu+ZONZcyPx4unCN5ACVHkEaysGYrcoz8DwX5LQ617sGMPkhFxqFLy5Mk95BdqF/SHI0eNVaQg+VltjH0gO9kZfTk+lrDXqFFZnfVAcePEiSPiy+3UsL0WGSiczJg5V8SL9wR5OUaIUoa//nrB4xR5fUwEJSU6QJTSkI06t2vXSVSrXpO8DJtwDYQQhQKMVWnIyJAd0YYAE6IOQeuL8LOG6dfkJhvVIbeTe4jWr1/bdNKaP4QohKpO/x2WQzD16t3fRFZkk6fEYgaPjN3BSdgcuV3bFkpjlOKRDY2QxfKEOd2MkBozBQoWVl4g2UaMGKIHyz0m9xuzTRTgccq8j70sKU0wdnQJ8PpeKTlz5hbYAzAqc17O2n3Sqb2c9T9oPDOYeasj7x37rWTPlkFlEVOEKArbv3+fwObe0O6h5xgfi9Rp0koytL+a6fV1XyCMBvTvrYgjSo/4+Eh/0rmrADbeDGYkR0ntBGycbSUToUlXq/bHChu7WU1veer+2B8LmqpHpMbq+XPn5GFLf6lgKyFKaRYunCfGfTpGaYaSH8hqaIt16dpDYJ8pbwb78GCDd2woTyaeFA6hHdmzVz8P0gxxQh1I6B//6CJEUU987Lt17aSeFWonEMQYfHTt1svrKdLoZ/r27SnWrF6lZmSRF/acLViosCLaq1WtFC2EKMpx4l2rWLGy1DRsqzR0Nmz40iA1oX1RXGrwdJYzzyDxrUYXsjFZBJx6y3cM7z3INxgQRk0aN1cnTlrT4zoYoYzymSc3dR8vtXChxU0G9cyXr4Bsr55KS5X8rXYobUZ5heNdoLKxz1SP7l3E3r17jGcOYXjuIPw2bNjE0J6hNGRjUABNcTw7VpMte065x147uZ9uGmuQX9e0Bxv6hK+27DIRspQBBu+NG0fu4edrcKY/X77i1f9PhkiaNJlYuixSy4vKCoUQRR4g+IcNGyRWLF+mNNsoX8gpOH2+U6eutn0exWPbnQhElzwFmbJnz64KlBYtWot69RtFCRAOBMK7jr19yeBZ79Klh9QGuieaNW2ovGOCEKXyQ5EhoMmOSXF9EhGTqZAHK1WuKrydMu9BiErSz5esQnXVbbzPEyeOl6sIppveZ0yKlyhZSrRt29G2z0IeocoxVI9A+276RkJGGzZstJIrKC/d1vcX1Q9A1PvRYL/TVE6gdad0sNF+AyW5v2rlCmPSDP6vvPKqIvYx5vJlIHcvXbJIrtJZIH6WGrM4qJKMlRCFfyh1xT6e3bt1Ftu3bzVkdpDRWCnTTq6saNO6uVoZZffNoTr5soOVNZFnMHKP/gwE+y2l+wml7sH0G/T8Y6y1dNlK+f5+LjUnpxmTuHgvMmbMJPoPGKIOaqR6erOxcgmrZU6dOqlWftF4TidEkRbP67RpU5RCDbTadYNDPUuXKiuaNmvp8f13SkNUL8/q1sdEOGV+545tiojVZWEoBfSSY7Js2XNYk6trwjUQQtQ2I/aMdgSYEHUIYnrZ7bKzhunX5CYb6cntJCG6YvlSk2bSo3HiqMGcXX3J74TUxtqw/ku6VDYGwfpyZXR4RAwhApbWQBvFakAmbdu6Rc7aHxM3pHbYu3IpDZa2ogPEjKZu9CXN0M7avWuHHizq1mvoMQjFZuC6ySA7bl/kmR43EHd0CfCoA1T3MTsJjYZAZodwkMDxY8fEC1KzDIJDbDCo07fffqvaKUWKlLZEj6964iN5Rm6oDTtJkmQeBLivtFguiuVNWE79r1wyn+i119RSnPjx4/tKFm1hV65cET98/514+pln1OmDgdTjxo0bask/BjLJk7+ttgyItorGcMYgyzBokx2e6lP8xQXvCPD8R5KBGKjFkX1ZTJlg3jUa4IEQhfYrDJ7Ro0e+EXElGYr3wxdJrwvZuvY8lkNjAgEDHWgZQmCNToOBz8kTJ8RLL78s+5mkxtI5f8p0os3C+S6gvbCc8Nq1ayKxXNaH/tlfvKEpi74IA5wXXnhBbQWRKNFr/sDmNQ4Ox8CziOXjzz/veageEoIsxyQRDOK4Yak5ZJ+fz54VZ86eVoMubCvhhnorkPkvYASiS54CIffNN4dVfSBrBnJYl+rnTp5UE09Wbf2Ab9ChBKHKEN99d9z4Tvhbpa5dIw+63LBxq9q+x9901njog879/LN48aWX1DuNyc+YNKH03YHUMzq+06HUHVsinDp1Sn4DLkvN+pS2hzkGcn9RxQ2lrpDzjx8/Lvv6OEphwGmZLlhZE/ccitwTFWb+hIdS90D6DSLuQIguX7FGVQ3fYxCa16Xc826q1AH1o/7cmx4H8gq0NE+fPi1+u3FdvCK1yBMnTmx7OJieLqbdeM5//PGUuCLfq3dSpLDVco/pOnF5ziDAhKgzOBokpl12RHBSmH5NbrIRh9xOEqJUdkzZUIXH7IpukiZL7nHiHDQcV61abkSDsGQ9pc0IjAWO6BLgY8GtcRUYAUYgGhCwI0QDKcbbQCuQPDguI8AIMAKxDQGWp2Jbi9yvT7myJaR2+3mxe88Bvyd/7qd++Fz8nX742vxBumM7QvRBuj++F0YgKgSYEI0KIT/DicS0i24N06/JTTbSk9vNhChmJ4sUzq9U5XVMsIdjdrlcEGbz5o3qIAY9HJtrDxs2SveKVW4W4GNVc3BlGIFYjwATorG+ibiCjAAjEAYEWJ4KA+h+FAkN9Ny5sigtWRz8yCZqBJgQjRojjhF7EWBCNPa2DdcsZhBgQtQhnInEtMvOGqZfk5tspCe3mwlR3MdSeaADNnb312AJIvYm00/d9jdtTMVjAT6mkOZyGIEHAwEmRB+MduS7YAQYAWcRYHnKWTydyg17Bw4e3F94O8TSqXIepHyYEH2QWvPhuxcmRB++Nuc7NiPAhKgZj6CviMS0y8Aapl+Tm2ykJ7fbCVHcCw6GWbhgHpxRGrsDmaJMFMMRWICPYcC5OEbA5QgwIeryBuTqMwKMQLQgwPJUtMAaUqbY77l4sYLihtzHb936r6J978mQKhuLEjMhGosag6sSMAJMiAYMGSd4wBBgQtShBiUS0y47a5h+TW6ykZ7cDwIhivuZO3eWmDZ1su1puwjHCcnt239iOr0e/rHRsAAfG1uF68QIxF4E3n8/p9wk/oaoUKGSOpU90JpioFWhfCmVbOCgYaJo0eKBZsHxGQFGgBGIdQiwPBXrmkTMnz9X9O/XS54GX1rgpGw2/iHA32n/cOJYsROBtm1bio0b1smDjJKolZqxs5ZcK0Yg+hBgQtQhbInEtMvOGqZfk5tspCf3g0KIEiaHDh0Ue/bskid//yNPHY8vnk2YUJ4gl1CklSfTezspl9LGFpsF+NjSElwPRoARYAQYAUaAEXArAixPubXluN6MACPACDACjMCDgwATog61JZGYdtlZw/RrcpON9OR+0AhRO2zc5scCvNtajOvLCDACjAAjwAgwArENAZanYluLcH0YAUaAEWAEGIGHDwEmRB1qcyIx7bKzhunX5CYb6cnNhKgdmuH1YwE+vPhz6YwAI8AIMAKMACPgfgRYnnJ/G/IdMAKMACPACDACbkeACVGHWpBITLvsrGH6NbnJRnpyMyFqh2Z4/ViADy/+XDojwAgwAowAI8AIuB8Blqfc34Z8B4wAI8AIMAKMgNsRYELUoRYkEtMuO2uYfk1uspGe3EyI2qEZXj8W4MOLP5fOCDACjAAjwAgwAu5HgOUp97ch3wEjwAgwAowAI+B2BJgQdagFicS0y84apl+Tm2ykJzcTonZohtePBfjw4s+lMwKMACPACDACjID7EWB5yv1tyHfACDACjAAjwAi4HQEmRB1qQSIx7bKzhunX5CYb6cnNhKgdmuH1YwE+vPhz6YwAI8AIMAKMACPgfgRYnnJ/G/IdMAKMACPACDACbkeACVGHWpBITLvsrGH6NbnJRnpyMyFqh2Z4/ViADy/+XDojwAgwAowAI8AIuB8Blqfc34Z8B4wAI8AIMAKMgNsRYELUoRYkEtMuO2uYfk1uspGe3EyI2qEZXj8W4MOLP5fOCDACjAAjwAgwAu5HgOUp97ch3wEjwAgwAowAI+B2BJgQdagFicS0y84apl+Tm2ykJzcTonZohtePBfjw4s+lMwKMACPACDACjID7EWB5yv1tyHfACDACjAAjwAi4HQEmRB1qQSIx7bKzhunX5CYb6cnNhKgdmuH1YwE+vPhz6YwAI8AIMAKMACPgfgRYnnJ/G/IdMAKMACPACDACbkeACVGHWpBITLvsrGH6NbnJRnpyMyFqh2Z4/ViADy/+XDojwAgwAowAI8AIuB8Blqfc34Z8B4wAI8AIMAKMgNsRYELUoRYkEtMuO2uYfk1uspGe3EyI2qEZXj8W4MOLP5fOCDACjAAjwAgwAu5HgOUp97ch3wEjwAgwAowAI+B2BJgQdagFicS0y84apl+Tm2ykJzcTonZohtePBfjw4s+lMwKMACPACDACjID7EWB5yv1tyHfACDACjAAjwAi4HQEmRB1qQSIx7bKzhunX5CYb6cnNhKgdmuH1YwE+vPhz6YwAI8AIMAKMACPgfgRYnnJ/G/IdMAKMACPACDACbkeACVGHWpBITLvsrGH6NbnJRnpyMyFqh2Z4/ViADy/+XDojwAgwAowAI8AIuB8Blqfc34Z8B4wAI8AIMAKMgNsRYELUoRYkEtMuO2uYfk1uspGe3EyI2qEZXj8W4MOLP5fOCDACjAAjwAgwAu5HgOUp97ch3wEjwAgwAowAI+B2BJgQdagFicS0y84apl+Tm2ykJzcTonZohtePBfjw4s+lMwKMACPACDACjID7EWB5yv1tyHfACDACjAAjwAi4HQEmRB1qQSIx7bKzhunX5CYb6cnNhKgdmuH1YwE+vPhz6YwAI8AIMAKMACPgfgRYnnJ/G/IdMAKMACPACDACbkeACVGHWpBITLvsrGH6NbnJRnpyMyFqh2Z4/ViADy/+XDojwAgwAowAI8AIuB8Blqfc34Z8B4wAI8AIMAKMgNsRYELUoRYkEtMuO2uYfk1uspGe3EyI2qEZXj8W4MOLP5fOCDACjAAjwAgwAu5HgOUp97ch3wEjwAgwAowAI+B2BJgQdagFicS0y84apl+Tm2ykJzcTonZohtePBfjw4s+lMwKMACPACDACjID7EWB5yv1tyHfACDACjAAjwAi4HQEmRB1qQSIx7bKzhunX5CYb6cnNhKgdmuH1YwE+vPhz6YwAI8AIMAKMACPgfgRYnnJ/G/IdMAKMACPACDACbkeACVGHWpBITLvsrGH6NbnJRnpyMyFqh2Z4/ViADy/+XDojwAgwAowAI8AIuB8Blqfc34Z8B4wAI8AIMAKMgNsRYELUoRYkEtMuO2uYfk1uspGe3EyI2qEZXj8W4MOLP5fOCDACjAAjwAgwAu5HgOUp97ch3wEjwAgwAowAI+B2BJgQdagFicS0y84apl+Tm2ykJzcTonZohtePBfjw4s+lMwKMACPACDACjID7EWB5yv1tyHcQGgI3b94U33//nSmTxIkTixdffMnkxxeMQDAI3Lh+Xfwb8a+R9PHH44mnnnrKuL527arhhiNBgqdEvHjxlN/58+fEL7/8YgpPmzadeOKJJ0x+fMEIPAgIMCHqUCsSiWmXnTVMvyY32UhPbicI0YsXfxVnz561q1bAfs8++6x4++13Ak73ICV4GAX4NatXitNnTou4ceOKevUaPhDNOWnSBPHnn3+KxG8lFsWKl3D0ni5fviwWLpyn8syZM7fIkCGjo/lzZoxAbEZg/vy54vjxo+KFF14UzZq1jM1VjZa6Xbp0UYwbN0blXaFCJZEmTdpoKSe6M71166bYvm2rOHnqpPhR/tD/J02WXMkA7733vnj88cejuwqc/wOOQGyTp/bt3SNWrV6hUG/XrpOJOHBTU4DI2LN7lzj140lx+qefxPPPvyCSJU8uUqZ8V2TPnjPGbuXbb4+repw+85O4+Ouv4hk5hnj99TdE9mw5RMZMmcVjjz0WY3WJyYJOnjwhrksiikx8SSClkUSSndm9e6doUL+OKahr157io0pVTH6x+eKPP34XO3fuED/+eEr8JH9Xr10TiV5NJF57/XWRNGkykTFjZvHMM8/4vIW7d++KY8eOmuIkS5ZMPPfc8yY/t1/E9H3mz5dHXLly2YCtZMnSol//wer69OmfRKmSRY0wOHr16ifKlqug/MaMGSkmTvjMFL502WrVpiZPvmAEHgAEmBB1qBGJxLTLzhqmX5ObbKQntxOE6PTpU8TQIQPtqhWwX5738sqB3sSA0z1ICWKbAB8T2DZv1khs2bJZzgrGF3v3HYqWIg8e2C86dWqn8u4/YLDInDlrtJRDmebInkncvXtHYGD/6bgJ5O2Iffz4MVG5UjmVV5s2HUTtOnUdyZczYQTcgECbNi3EhvVfisSJk4rlK9a4ocqO1hGD4XJlIydZBg8eLooW+9DR/GMis82bN4revbqLq1ev2Bb3xhtvil69+4ssWaK3n7YtnD0fGARimzw1Z85MMaB/H4Xvps075KTOC67C+t9//xGTJ02UcvpY8ffff9nWHZO0PXr2FYkSJbINd8ITfWDPnl3FN4e9y4sJn3tOfFynnqhRs7Z49NE4ThQba/Jo0byx+OqrTUZ9fH0Ld+3aIRo2+NiIC0eXLj1EpcpVTX6x8QJE6Lx5c9QzZ9U01Ov76KOPioIFi8hvRj+pgZhADzLcIM8rfVTWuIbDrd9P001YLmL6PkMiREePEBMnjjfdwZKlq0QyOTHKhhF40BBgQtShFiUS0y47a5h+TW6ykZ7csY0QzZ0nr/jsMyZE27Ztb9fMD6xfTBCiulA4fvwkkSt3nmjFkwnRaIWXM3+IEWBC1N2E6ASpETJWaob4Y7p26yU++qiyP1E5DiPggQAToh6QBO2BcUN9qWm4d8+uKPPAkthp0+eIVKlSRxk30Air5YqiLl06in/+/tuvpNmktujIUZ+6VhvX7iZJZqawtxInEStWrKVLk63LvhTQxQWEKFZY1f24pjh8+CBVO0o7RYqUYsrUWbZtrSsSUEaDBg1zfAUX5R0uO6bvkwnRcLU0l+s2BJgQdajFiMS0y84apl+Tm2ykJzcTonZohtcvtgnwMYEGCXfRqSGqC4VMiMZEq3IZjED0IMCEqHsJ0e+++1Zpt//77/09x3w9JSBWFi5aLt6SW4+wYQQCRSC2yVNu1hCdO3eW6N+vt99NAJJu4cJlxn6Bfif0EXHbti2iaZMGPmLYB4EUnTBxitQUfdQ+gst8SWamaj+IhChWdK1eFbm9BN2nP3bWrNnFZ+O/8NhyJaaJQn/qGh1xYvo+mRCNjlbkPB9EBJgQdahVicS0y84apl+Tm2ykJ3dsI0R5ybwQsU2At3venPZbJYUe7DWDPeQaNGjsdPYqv5gmRCdOGC/+/OtPNZAvUaKUo/d0+fIlgX0UYXLlyiP3T8rkaP6cGSMQmxFgQtSdhCiW21auXEF8J5cu6gb7DxYsWFhtMYKl9Ldv39aD1dLOLlKjiQ0jECgCsU2ecisheuHCBVG6VDHx++/3TE2QPPnbImeu3OLM6dMCZCWNLSjS0GGjROHC5j0EKSxQ+2+pEYo6/Pyz55kFjzzyiEgh9y/FsupLFy/aZt1/wBDhtCxmW1AMeAZCiNrtIYr+NDYvmT9x4gdRvlxJDySxNUDq1GnknrXPCywNx56g2JrKalq2aivq1jUT5zFNFFrrFFPXMX2fIRGiNnuI8pL5mHpSuJyYRoAJUYcQtwoaerbWMP2a3GQjHbmdIET1eljdh+X+PjWqVzJ5N2naQjRq1NTkxxf3EYhtAvz9mrnbFdOEqLvR4tozArEXASZE3UmI4qTjihVKmx4s7BU6f8FSY983HBhXoUIpcV0emkHG1/54FIdtRsAOgdgmT7mVEJ01c7oYNKifCeJicu/igXLJMchImD1yKX39erWVm/4qVqwsunXvRZch2bNmzRCDBvb1yKO+nESvXftj8b//Pa3CQJgOHtRf7UuvR4YW5fLla4z66mFucwdCiLrt3lBfHBqKPaZ180nnbqJKleq6l/jnn3/EQPlMzJs72+T/qjxwae2Xm0xtHdNEoalCMXgR0/cZCiEag7BwUYxA2BFgQtShJiAS0y47a5h+TW6ykZ7csZkQPXjwgFi2bLE4dfKkOskyvjxwBxstv/NOClGzVh3x0ksve0Cxdu1qMV9uwK2biV9MFRs3rhcLF8wTR458I3CS/bvvplKz1rHxMIqYEODv3LmjljH5OoHz9u1b6jkhIVPHNCr3H3/8ITUJfo/y1Meo8vEVjmf4txs3xLMJE/qKZoSFSojevHlTLcF5Qp7mGV0Geybh99RTT0VLEaHkf0NijeWr8ePHd7xuWD57/fo1dVJtsJlfuRJ5OEugh1RA6+SX8+dFotdec8WJtKE+h3hvzp8/JxImfM4goYLFPDrT4ZmAtiD67FZS20M33ghRaAf98cef4tVXX9WjO+bu17eXyF+goMChITFhjh49ImbOnCb6yxNb9aWe3g5Vomf55Vdelu+q8/3UtGmTZZ/+rChevITHckR/8MAJ23Xr1jRF7dChs6heo5bJD4fOgDjSzcZN28WLL76oe7GbEYgSgZiQp6yV8NV3eSNE7969K67IyYDX33g9Wg4ACrXvGvfpaDF+/KemW8VEBk6V1005qdV3Umr3kfG1lJvi+GND/viweCFx69ZNU/S2bTuIWrU9D5WEDFqt6kfihx++M8Un7TOsSLISbtAqfPzxx9VhRad/+lGenH3FGCshLH36DEZe+A5PmTxRYAsQ9MfQak+WPLmAxmz58hVF2rTpjbh2jpUrl4uNG9aJb2X63+/dE3nzfiDe/yCfPGTrRTFq5DBTku49eqv+v2eProY/yrxx47pxDbk0TRrzKfNFixZXJ8n/JO+lT2+zhj0UU+7duyvv4QsjDzhwCGidj+uZ/HDxzTeHxMgR5nrhsKp8+QoYcXHI0/p1a8UJWbfTP/2kDgxL/vY7CreaNeuoFWBG5Cgc/fv3FnPnzDLFwuGkqJ+dwSqzs2dOm4KqVK0hZsyYKnCgKgzesePHj5ri4IR66ynzn42f6PH9dGo8intAXrvlQVenZX1v37ql6vOXXE0W57HHxKOP3N/SAbLs4CEjTPXFBWS4li2amFZS/PXXXwa+odxnMG0YCiG6ds0qY7Ub3ejoMePkGOh/6hLvAhSryCROkkRUr15LYIJm77494uKvF8Q7ct/YDOkzeuUFKC365RnyEOg9e3crzeJnpSyDc0uKFSsuD3e8KqZPm0JRlT1i5NhoHcOaCuOLhwIBJkQdamYiMe2ys4bp1+QmG+nJHRsJUXRaOHRh/GdjBdx25umnnxF9+w0UH3yQ3xQ8beokueR8sMkPAhuEFjtTq9bHonWb9qbBpl28mPRzUoAfPHiA2LVzuyKPP58wWc26rl27RhzY/7X6eGbKlFnkzv2eqFa9pjGTunjRAiX4/io/NDCvvPKqEtRat24vnnzySZ9QzJ49QyxdulhguQs2vH/xxZdEQ3g/ivQAAEAASURBVKkNXLFiJdGhfWslOKZOk1b07TvQlM+IEUPFVnnKPEiayVNmmMJWr14pJsrnAQZ7QF2VQupcORu8detXUmC9LNMkFNgfqkPHLh4D5gbyAAAsL4e5J4XOX345r9yJEr3mQexBiyFTpiwqnP5wwuWI4UPF9u1bxdmzZxRGb7+dQnTs1EWkS5dO7oVXXkWtXLmax/KjenVrqROU35OCbhv5jOnG2i4g7FcsXyp27dqphNREr70uIMw2adLclnj45Zdf5D5a9VWWjWUc65K0UPOnuoJgGTNmpDrRG1oXceM+LjLKZ6a6fF7w7uHk0kuXLqoDqtq3/4SS+W3v3bNbPWuY0caypwQJnhJlypQTzVu0Fgvmz1HPEjLDIMbOYBAydMhAsWPHNnHx4q8qCiZK0qVLL9rJ+vg65XbLV5vl8/SZ+F72DSCKcW9vS+G9dJmyHloIyBhCde/ekRoLds8K1a98uVKy3/pHDoo+8iB6atWsKm7e/E2SaoVE8+at1MALEzVnpGB8VZJ5smNWg+HtO/ZSdsoO5TmkjDAAHDy4vzh86JAaVEKr5823Eos88v3HYE8n+qld8T5+MWma1/4R7dalcwdVRKtW7VQ/QeUFa2MiZvHihWLO7JmKuM2UOYuYOtU8MLISopg4GztmlPEMPP/8CwLbr3Ts2NkQrK31CaYtihUtoOqEQW/VajVEyZKlPQZO1nICvYbGywY5UIbAf+jQAZX80OFvTW2AwbB+ynwGuWXGEPkebNq0QfW7GFhh4rBx42bqPbWrw+rV5n71ETkQmyXJV/RBeJfwzME0aNBE1K4TSTh079ZZvpOL1ACyojzoqFKlqgGdkr1F9vHQbNLNqNHjTINqhKHPoT6f4i5eslKRDXTNNiPgDwJOylNRledP32UlRM+d+1lqM/ZTA3TI5U8+mUARSJ0+6SqSJElqW2Q4+q5hQwcJTIjoZueurz36V9Tt4MFIAgpxn302odi6bbeeLCg3iJMOHdqY0kK+hBZg3LhxTf50QfIFXcNu2qyFyJw5q8K7SuVI+Y3CX3/9DYH2sDNjxo4X77+fTwUdlZN0+AaRjGyNHydOHDWuAAloNRjTDBrYz2PCh+JBJj/wH4FHfnPmLhJxHn1UHi5nPiGdwr3ZGN+0bddRYGKtapUKpmjDho9WcvMHH+QyHU6V8Lnn5ETkdiWH6AlAxi5evED3Ehs3bVMyPsi4IUMGeBCYeuTUqdOK4SPG+D1ZOV0SV5DtdJM0aTLRuXN3kTVbdmO8oofbuVtI4vArObEaiNm956Ax1nF6PJpMKvWcOnXStjoYGx2TbaWb+fOXiJRSgUc3dlsg4DAprMAIxOj3GUobhkKITp0ySQwfPthU7a1bdxuKLs2aNlRjPYoQP/6TaisyuwPVoEiCQxgxYWs1IInbtm0pdmzfag1SslXOXHk8wjZt3hGQfOORMXswAhYEmBC1ABLsJZGYdumtYfo1uclGenLHRkKUBl1292n169W7vyhb9r5QY0eIWtNYr6vKWUQIn7HFOCnAE3EAgq2GnFWzLnmie27QsIlo1qylWLJkkejRvTN5m2wsbZw6bbYH6YhImI3v1rWTgIaunalXr6EaaB87dkRkyZLNg/SkzdMh4ELI0o0+gJg0abr6qOkz4xQXgje0gSEYkClSOJ+4cOEXuvRpW2efQZ62aN7EQ8MAmUDgHTR4uGgnP7AwIB5ATOqmYIG8iiwsJj/OOMlSN3q7dOjwiWjdqpnxTurxcC/TZ8z1IG/Pnjkj98IqrKJCe6BCBfO2FKHmj4yxdLV162biG212lur22GNxxafjPhe9enZTJHMhuUfYMLlXWCAG7+pIOfsLAshqMGCBEAiCBuabI99boyjSHbiBqLYzmDQZOmykyJEjlykYAu6Y0SPE5MkTbTFH5IKFiqg20wdaIMWbNI4koa3Pil5AhvTvqokc7F8FolE3ed/LobQ6SkvSN63U5ujbt6cerNx4tg4eur/HYqjPITJdJ7U20K/a7bWFcGhxjB37uUEg69pAvg4g69Wrm1i0cL4isvHeRjVhgrK8GTzTs2ZNl6sClpjqabfkkp5vLKUuVvxD8dm4MbbZvvnmWwKEGwYhVhNMW3Ts2FZgYE7fT/Q5FSp8pCZDXn75FWsRAV3/9ttvYtGi+WpQqQ+0UXeQgbQsFZnqhCg0pGZK8pQmBPRCkQbPYYuWZiIBcfR+FZpe7eWE1RlJmltNM0nc077OWLI6auRQpf2PeJhEKFq0mJxQq+XXadJ2hKhONFDZ9eSyW+tJ1vu+Puw4+Uzlsf3gIuCkPOUNpUD6Lv2969dvkOghiaa///7LI2sQo/3kpH+BgpHfeT1COPouO0JUJ1RQP6wKyvdBbnHnzv09gNOmSy/79fl69YNy43s9Uk6c6wb9GmTLYIwdSegrnzFjJCEqNTihKQnS105usaYnuVr379/fU/NRD7dzgxBFX165Ujm7YK9+IGTbte8kV1kcVtqyekTa27WjJJnXyG+abqx9MuT79/PmNH2XoUiBg4tgmsjJ+e3bPIkmPU+4sbpg6bJVfq0EApldr14taxbqGkoaqVKlFvjmYlI3S5asJrlfT2TdWkAP8+betfuAsXomlPGoHdnnrUz4d+naU/Tr2xNOw1SpUl1gqwDd/J+974CTosj+r5/5DhUD6gmeIIgBIxkRkIzknNOSg6IEyTknSaKSc845JyXnIGAkiAEMeHqKenei///71vKa6pqa2emZXmZnqff57FZ1pe5+3VP96lsv8HqJy2C5hUBSkFG9kHqf0TzDaABR0+/6/e17pHIM7gUB1OCbOFy64YYbpAKFvplUv14t0jQ9Eu4wsp0FRD2xyzYOgwMWEA2DSeE04UWYqa1epx5znlP053xKA0QPHNgvmjSub7pFYxnMuVetXu+YPEQCiGICXbFyXYqJYuunAM/AAT6Y0PaDEAOn8jAzh3bX5MkTHJMN+GGaSRoAMNlp1LiZeCTTI+L8ha/FXNLU+ojagsqWrSAGDxke8CwmTxov3iKQCQQhBS4NoG0HrbS5c2aTBtxZkYZ272AeEg0gCsAUZv7QWMqS+VHxLWknQsOONRKwuw7QlgmBh34lLULQuS8+F9B+BVWpUj3geZcoWUpAQ4AJWnJ79uySh9mz55Saiw+QIHbixAfSzAjAFbT9QJECotCIxG8RLhyqVKkmeXfm7GkxZfJEB+DAc4E2oUrhAqKRjo9zAWyE5irosceeEHXq1BMZM2UibeuPxdQpE2nR86usA8jmFRA9evSIaFC/luwPEzVoMkDz9Mcff5RRRXft2iEAaDJ/dUAUu9mVKpZxgivUqFGbFo4l5CJl3949EuyB1ie0h1esWOfsNuOEy0j7sHfv7vLceN7NmrUkQDArveMf0jywTBz/4Jis058phE2/ANHMmbPQ+3hOmkdBsL//gQfofhP9n8FkSvW5Fu17ePbsGXq3ykstEGiBQmMbgPMFAvyhUbhhwzp5vxCooQ2KhRfAtZdLFZX8RLAbaHbohOdfrGhBuUiqXj1yP3HQdoA2JDS++buEnf4KFSpLoFEXbHEdPK8BNECQDyyQGhPw9+STT5IG59fyGfNvF5opc+ctcgGKGINBBS/PAv3w21uwcK5YvmypY74JjcySJUpJTftnn71qVon2SdGZM6dpjpxFvu2Wy3tBe8wtRYoUowBEdUWevPkChlABUfAKmtKY04oULSbupG/iYdLQmjhhnNQ2R2dezKsDqcAMft8wLU2fPoPUSktHpunsTgXXAXNOJgC30BKFaxo1uAnmXgCjxcilwA033MjNPae7d+8SLVs0dvUzaQm7GtgDy4EgHPBTntJPEcncpf7u8NvFtwzf+JykCQ8rFlguLFiQKMNAG2r1mo0Bm9ApZe7S+YGNxkkkC6qE780rZJ4dLQ0c2DfAT+ScuQuTNE0Pdt5IANFCLxUmrfgqAUHhIMPAmkLflMLG8XKybnk4Y0Z5GfgWQ27h71ywa9PLAYhinVIzQg3RUICoCXgsVaq0GP7maOcyoOgACy+VYMoNKybIEG1fD4wJAdnq66+/CrhXbAb37z9YHcqYB+DcoEFtRx4zNlIKsRYsRZtzrVq1cf1eXmvTSsAM3Asx0B/tetQrIApN6jKli7tM4XFfAAj5e4w5olDBvFIJhe+pQoVKJCv/HPF9RvsMkxMQ1TVE+Z5DpfnzFxDjJ0xxmsAapgttZnslC4h65ZhtnxQHLCCaFIfCrA/1EdXr1GPOc4rTcT4lAaIQDKtVrSAgNDBBCOhEZo/lylWU4MiECe+KFWSSrRI+BgNopx1kAkSxuISJM4DAb7/9VowZMzLAhAIaYSPJhAQE7Rz49wmHIt2dDjW2nwI8Awc4H3g4aLDbNOH0qc9EteqVHJMZgJlLl61ynNOjH55L3bo1HCEQJkpYODP99NNPZKJAH3ECO1E+c9Y8l39XfKgbN6rvaFpGA4gC+FiydKXr+mCe3Lx5E0ejaAYBogDXdAJAAnAJFErrDfWqSQp8Fo0e847LLAumKdASYI07HTzDGOFoiKJd0aLFJeCEd53pJwIGK1A0VWjCAszGTi4LRGgTLiCKtpGMf/jwQZHQsC66i+efzyE1AdKkSSOP8Q8RZwFo8gLAKyCa0LCONAvDb3PS5Blyh58HhwZnL9JSXkmagkw6IAq/V6NGJQLz7dt3ckx6nfakxZHQsJ7UvFE1NQHilStbUroygMA+a/Z8l7bCZdo06PhGWwkEg+/b3tvlmAT6CYjiOgEyQbvX5AuZ78OP95B3/gHaTZs2m55ndh5epjCDhPYPSP1dYJEDQRn9Nm16P8B0SA16sIDMugDqh0swx16zepWYTRqhqr+5LKQNWatWXVGe5vRQ2qbqvJaRNESmz5jjeo6YE3p070rz+Ap5SabowgwqoEE4z0K/N2hDrSW/ZfPnz3G5ZIFGFLTx8U1Rf7Nqf3x/d+3aIYHg3eTShL/H8GVWtWp1AXN0zHXB6BTN22wyjzbQAtLNMxHJHQtKXCdAZWiZ4vfGpAIzWNCDRyXomgGIh0N8D/Dzht8GfrcgfANq164rqtB9YDHnhbBJ15R8jALgVQmLcyzSLVkOeOWAn/IUzh3t3KX+7gCYTZ8xm1y8uDdRFtEmb/8r7lmw0dGn7wDXbcdy7nJdiHIA7XZYjKiEb8fGjdukWbVaHknepOm3ctV6kSnTI5EMZzSZ54Gw0YZN0ltIA54J1h6Q+wb0781FMsUmUOvWr0qNwo0b1ouuXTu6tEfho3DcuEmyLX9T1QGwOQmQ8DaSN1auWm7UtAQgijn85MkTTleAz+xSBYX4XgwkX9Mq/eMf/xCw7AoFiGIehyuY87RByoT3Em57+Busg1IM0mHOL1+ulMsKC9eBbwm0NuHaacCA3gH3hPt5iiLFJ0W4JrggUjWOk+oDua1t2zfk5iTa4luJjXbQF6QUob+jAOzz5HFvOubMmZOe4V/Jsh6VF0L/oHjy8MMPuzYP4bt09OiRjmUUt2VtXhyrcwPXTyW5DrExIrnPy5f/jPoZJicgatIQhVuHxo2akoLGI9K9kLpWYJ7s3HVAKhlAuxkyP69VuB4WfbVqwYXVz1L+NYHmFhBlbtnULw5YQNQnTvKiyTScXqcec55T9Od8SgJE4aOvIQElKtWrn0B+g9y+CatVreiAa2iLBdzhIyflYm/q1ECzGmiAwSchE3Yey9IEeZ52L5kwBvy0ybEUMIjrg6X79h8NMGcO1jbccj8FeBU4WLtus0sDkq9HNZnpTH444U9UJ3WHTTenUYGRHj36SCfuen/VVDIaQLR7994BvjpxLjVYR89e/aTPUv0avACiMI1dR7uKeB8AJACo0Uk1IYsGEGUn//r4qtmyLvh7AUQjGR9+IVetSgST5s5dJJ5+5ln98qQjdF4ceAFEz537XApgGFDXROCTIDgONBQB5oB0QBRmeT/8cFEK+9AQN2mkYRHw879/lk7R+fqhMczX3H/AYFGxYqAJGgB+9uOEfmnTppXX4CcgCtOxtes2JQkYRfseYnOpIgHroAoVKwf47kU5FjV7yW8kvgn/JAEdZuYgVVPPZJoI/7kIUJAt29Ni/oIlsk9S//A84RsSQj27vQBIV6RIMem3Fb7BwiF1XkOUY5PPKLwfWOjhnNB+nTJ1pmtoBhXCfRauztoBNJ4BjG7auIE2kP4na6H1W6tWXdG4cTN6P69udkBLffr0qeLzz884owBErV27nvw9qG4anAZaBos8BkThNgBmiOo5uDl8sMEXGwiLJixSmVRgBgE2WtLCMFL6mr6lC0hjdDm5XOHnCu22ChUrSe15AL1JEfzyNSOfz/riN2++F8SECVON95fUmLbecsAvecqvuUv93VUldxu9e/c3PiRoIsIyB+AU3EWomxmxmruMF0qFJpAGbaOdV9Tzwf8fAvaoZPKvqNaHyps0RG+/4w7pKidY4J6EhLrS/z6PexsFekUAmBtvvImLZOyDAxTsRSVsaANchDsdXnuhPkOGh8SatZtccxuUD9hKhceYO28xBUx6hg9lqgPEoYJXhQJEMdjkyRPEW6QoolKfPgPkphaCWOF9w7qJCb6ju/foTUoIgWbtNQlkKlny6ubVN+Syqnv3ztxVpmzK7yoMcvDVV1+Ssspw6cc+SBNjsb5OQSNsuOluB+DOCm6tdPJjPWrSEIXFCuJfmNYUuIYvyHIIAJ5K8If+7ruJoLr+fsAd2vr1W9Tmnu7Tj2eYnIAob+irN6gD6uoaltstWbpKWimatHyh2QwNZyYo/UBWRDwElWwgR5UbNu8HBywg6gcXaQz1Q6oPqdepx5znFH05n5IAUQAwHKCD72/R4hUBvmFMHxnWWjTVQeDALqlK77zzlpigRczcvGW71NZStePUPqZ8vACiMJ3es/eQ6RaEau6uL5q5w6effiJ3S3GsRwWGsDJ9WqIvoR079zsAEvdFivftxfy5pOZPNIDorNkLXJE++RzQqCxUKHGXNyGhiWhPfvV08gKIwgE9BGYEUIJGqok+Ig0sNmGKFBDFbvb+A8eMWlmbNm0QHchxP+jtdya4zFbDBUQjHZ+FLmglwJ2EiWC6kzdPomaLF0B0B/kDwq4vaBSZYpt8pKFONXVSAVGY7BYskAdNpLm7utkhC0P8GzJ4ALmAmCUXIOA7NOPCJT8BUYA8kyZNT/LU0b6HiGLbrl0beR4EVfMSHR2/WQjmMIuGNi3mUWwQgNR3v3ef/jKAlKxI4p/63mIsaNc0JPca0Ez3QgyIQgPp4MEPXGCBOg6/QwAnN2/erlY5JvPhPgtX5yAHAPIREAh+VZnwnqkBq1hzHPXQHoI7DLhN8EIqIGqae3gs9TnxApfrVGAmmFY9tw03hTbGYrr3kSOGOcBwKH+7PC4A5VYtmwaAoVjsLViw1PhN4b42tRwIxQG/AFG/5i71dzdl6izarEn8lun3oAaVgdk8b1ShHQOi13ru0q8Rx/ie4ruqU+Eixcga6x3nm6HXez02meMjCnSxYiW8DiXbmwDRYBHr+QRefNJzH6TLaFP9DnKJg7lfJV1ZA3XYWBs0sJ/aTOgAECr9BEQhPyO4Emv5Y3xork6bPtv4fBmgRQDVXj3dCivomxR5kRd5LFg8HCKlmc9pk/ezU5+KD0lbFpsUwQharBs3vef4AkU7L4Bocq1HTc9SvwcEZN1PkdCZsNkJayXIvhXKv8zFMjVtVnu5Tz+e4bUERB98ML3YQFrnKsHtEyy7VBpPm6j5878oFVugWKCSSRZWFVy4rdUQZU7Y1C8OWEDUJ04yiGkaTq9TjznPKfpzPiUBouPGvR0QHIPV3tV7NvmzQbAdaBfpGqJS4/OK9qg6hil4EGvCpUZA1LSLyPxQd/chuGV5NCtXOSnMDUoUf0ket233htR64sr2BLggKjL8Ye3eYwZd0ZY1e6MBRBn45nOrKQez4d1rtQ55L4BowQJ5Sfj4SUCof4uCspgIphYFXkzUuDKBEgx8hAyqlD6DjJJqGl99D3WTUXVxFjKoUoTj8/0jqip22oMRC0JeBFx1ARVKwwORWOeQSTVIBURV/6N9+w4Ulcn3arjE/jgBwG3a/H643WQ7PwHRYNqa+gXxc4j0PVQ3O0wbQ/r59GN1g2nipGlOgKoB/fuQhvA8z8GUsANfpXJ5xzcsNHKgpVuzZm2RKVP4po8MiAKoheZ7MBo2bLCYPWu6XJRj80oFJhlUCPdZBDsHyvE9hXuD+fPnkg/Arc7CEmZxmLNU4L1unepkwviBHA6ALlxaQJM0GDBiOq8KiMJMsnz5iqZmtAH1i8j/Qi5ZB7/Q7WjuZlKBmVDzKrdPKj19+pRczK9aucJxJQJ+wy+tbhKsjgUNjlcoKIe+uMVvdMbMuS73LGo/m7ccCIcDfgGifs1d6u8OgE0w1xjbtm0Rr7/WWt7iu2RyXYA2T5hiNXfx+Tk1uahCXZ68L4h3aBMXG7J+0aqVywM0DfXNeS/ngkZ6HZqLVQoFsEJDMkf2p5y1k9ovqTyeHwLw6ZHeTdZMMN3FRp5KDECqZX4CohjXZM4PJRGUAzxmgkXCylWJm+SqFRPXh5M+Q5Y3c8jyKBqCW5xPP/lEfPTxR2LH9vfkGkQfT1fw8AIU+rEeVV078bWZ1rRcx+lG0oTmgK1c1q5dR/ETrUmmTU3UFEU5gFLIsfdRbAWVvNynH8+Q1wF8DZBH2H0D4kjoIK4qt+trdoyhBlVqRYFM1cjwCLaKdYNKJi1QViJRZVjus3o1bTBlTLSE4jLTRoTVEGXu2NQvDlhA1CdOMohpGk6vU485zyn6cz4lAaIms43t2/e6AqLg2hHlt1On9sg6BB9yOXLkChsQNfk74p27j+kDy/6bnBMEyeCD66fQh9P4JcBjLAYOkhMQZR8v8Ovy/vt7cFojsbZbdIDoNlogpzeOn/35bNKsxw9ANE/u52mB/rs0/UGkchNhAZ8n93OyKmJA1GDuwudSTXYiBkQjHD9vnuwyIIvqW5evS01h1n6e/Dx5AURVASWYOT/OoWoeq4CoKvwgSi/8TYZL8GV78OB+aaq2TjMzSmoMPwHRcAMLRPseIvo6BHvQho3viQcfDO6X0nT/cB9QvFhBgQBVMIPDbwGawRCAYdpcrXpN8vfq1mYxjaOW4Xezkha3c2bPcPxFY+MqX7780h1GYYrka3KBoI7B85q6OFPrOa++Q7v3HHT8waKeQYVwnwWPqaaXLl2ie1lGkeHnukzg4UagXv2GRhN4aOHs2P4++U+dIRAAjCkLueUAMFqOFhOqv16uV1MVEB02bKR4uXRZtdrJq3OU7n5GBWbWbwg+rzqDGTJYlG7buoWCmM1xabQAzKxFfkSrVq0hfZsZusoigMivtG7haJNyO/SHdhIAb0uWA9FwwE95yo+5S/3dhdJAUi0pxtCmbBHanGWK1dzF50c6aeJ40oa/anbKddBaffttf8FQjG0y+04q2BpkEz3mQMmSL8tNf9N4b40dR5qSRflWAtLcuZ51BbMJaBCkAHN0ZprfESNBpR49Al1MIZAlAlqqdC0AUfV943NXIf+1S5e6gUvVX/WUKRPFmNEjuHnYaVLf7e+//56+p2dd4z1AVh6qlrSrkg5MAKZ6rWjvBShMjvUorgFKI1AeCUWXL1+WCig/kNsfJlg5Qva6ePF7LhLBFBa83KcfzzAlA6KqAgYzbvmKtSJz5ix8KNM5FNhy6BC3prsFRF0ssgc+cMACoj4wEUMwiGkaTq9TjznPqTpWSgJE1R1xvkd9hw/lMEmEHzqVeNdNBVu43qSFpmqfcbtwPlTcNjlTPwV4Bg6SExBlM2TwRDcPVfn0UqF80ul3PACicOT+2WefUATT4DvZCEhVuXKi76HUBohWr1ZRBhAw7cbyM4XQhgUCNCe8AKKqGbeu+cJjI1V9hqmA6MWLFwmQe1E2hWN08D5c6t+vN/k7my8DBR069EGSwJs6rhrgKJgmCXwR5cr5jJyrTdF1vS5ko30P1c0j01yq3l+wfLeunWRwIviy27zlfRkFuXfv7rL5fDJn9mruzefB92j3rp0ysNLuXTuc79uDZBJVnYBWBOW5J4jvSZ7XoHl5gEzmAaiaiNuZNmu8Pgt1fPz2oQ0KszoOrHbjjTeKomS+Wa9uA2NQN7U/5wFsziZgeA0F8YO5OQjuTcpXqEhas3WC+hlTAdHXXmsnmpKfbBOp7bp3d/tfVoEZr4AoXAMsWbxIagmrwQqefe55ef+YD8CPULSdtHravv6qDHymtsOiF1qlwTTn0Pazzz4V8G2n0oMPZvAM+Kv9bT51csBPeYo5FM3cpf7uZs6aHxDkjs+httM3DmM9d8ElxvTpU/hSnRQAzQgKTqpqxDuVlMEG0qeffqwWyXwOUmZIiiBvwIULQE6VTOavXP9Gh7YU1Mnt8ocj00cCiLJcxON7sS5QXQxx/9q164mu3XryoUxVqw6uYGUNPkbK7mC4DPMmXCuYyHSvaqAe9MFGHazAvv/+O9MQsgwaiTDdvvvue+Tx1q2BEeb9sDY4dOiAaJRQz3Ud2GQM5ascskTLlk1cfXQXCKoLGW44eMibFFOiPB86qR/r0alTA2NahLvOfPvtMWIiBREORQj2CgsTnbzcpx/PMCUDort27qA1QlMXizBHlShRylXWp08PAf/uKoXasFLb2bzlQLgcsIBouJxKop0KaOpN9Tr1mPOcoi/nUxIgalKtR/RfqL4zIUp0mdLFnGh6KEeUZph2gEyAKGs2yQb078cf/0UOlIs7C1mU33333aSmf9VnC7eNReqnAM+AQHIConNmzyRH9AMlq4LtsKs7lrECRFXNQl3jUn/ObD4E7V8IePfem05vItTo3KkNEGUwEiDY6jUbjGarqsDoBRD95JOPBRYWoPoNEkTHjoE+qBDJt1TJogLAC0gFRHGcH/5of/mFIpU+Q/61FqMogPA7B8iEIDX8/GbPmiGGDRsk27JJjd4RoCbvzEPwZw1wLMSgEQuC+VKjxm4hC+UqSG4StL0uZKN9D6HtXqN6ogZtQoLZty6uG6AWvgnQXLj99jtQ5JDqogD3vXnzBmnyndQCxRkgjMxZ8guGeQSao9DMBt1MEX6hzYMgb3pACZ7X0G78+Cki/4sFkHURFt9wlA/XF88/n0PMnDXPVe/1WaAzzBlnzZwu1KAZ8FWGyPC1aHEbTHvddWLDAXy4wXXJggVzXY79EQwKmpa68K4CnQAhZ5NvZRNNpI3Dt2kDEaQDByrgEi4git8uvrEbN653tDph9o/nVI+e0zPPJGrMm65FLYMW1BtvtBV/EsihEjZgJk6cFlKrFO2bNUtwadeizDQHo9zS9c0BP+UpEye9zl3q765Jk+YC0ctNxO84QChsNKsgYyznrsGD+pNG+OyASwY42K/fIGnGG1B5pUB1A6S20b/vap2aX7t2teii+QP8O0WEHzV6rMs/NtYJgwf1k98TtT80zyHPYbPGBBIGk195DA5yyMeY++FjPV26q/Ihzj1zxlRuItOy5SpI7UYdOMLmF/wh3kn+RUGQeyqUL+2K2o5yEyDKrqpQD0KAp+079rrcwiTWmLVrdUAUbZMyn9Zd95w7dzVAJp+radMWAn4tVXr/vW2knXnCKcJzwIZnMMImO95xfdOrMX4vNLZpA3QQPe/5ZKmgkr4JjI20qlXc4Gew74Yf69FoANFvvrlAMnARZ62u3hfy2CzGuvcm+v7q5OU+/XiG+nudkkzm4QO/bJkSLhYhiOUskgfZEgkayWXLFA9w22MBURfb7IEPHLCAqA9MxBAMYpqG0+vUY85zqo6VkgBRXBd2BbE7qBJ2wGAW+zM5lJ5F2jSn6KOmkqolFsynEUDRsuXKi+++/VbubH9NUXFVqlGjtujRs49aFLO8nwI8AwfJCYjig1qpUlm5uIVG5fQZcyUIxQzEzvOrr7YQO3ckgtaxAkTPnz9PgFYReVmIhNmdNKaCkepoHIFfOnfu5moK5+aI8sy76SahKiwfohkCI0TyiWJpMr+OFh7siLwM7Z4PHjzcJYTCdLBB/VoCgBvICyAKTQ9EPoeggsXMipVrA4Lq6GY8+oJJdYA+cuRYUbxESWabTAHAJzSsIwUc9bcNwad8uVJyMwRgKlxtMODJA8A5O5y0YyGq+mfC/AlXAgDsYMoLsxt1kYr+PXp0EStXLJNDLSV/vI8+mpWHlanXhWy07yGuGT4r4QMMUb+haaSDdgtI03HgwL7y+hB5ExE4dWL/v9g4+pHAO5DJdy3KGzao4/gce+31dhQ0qTGKwyL45UVAIiy4sSAAmcwieV5DPeYck+sS1Vze5GvO67PAuQCw8rcDZn9169anSOqVibd/Q3XUhN8GwEb4PVX9th099pELaFABUZzUFJxM9XmITcNVqze4rhM8BrgBChcQ7dWzm1i+fInsA5941ShKNgBbjB8uQWu5S5c3HD+raj+A7IjGHIwAHj1HAHCzZhYQDcYjW+7mgJ/ylHtk91G4c5f6uwMghmjI+pysmi8XIfkXwYlUisXchW8JrIFw/ToBYMyePade7DoeN36SOHnyBH2X67rKcaB/3wMaXCmALFm9WiVpvaO3wWYKZEtsLu3bt8eRzdR2QyiieJkrEcUjAUTVTXUe99Gsj0m3MU8++aQ4ffq06Ne3lwv8QzvWmhw6dJB0FcN9kSJwZ4OGCeLWW26V6xs9wjzamADRN4cPETNnTkO1Q7CuyEAyJRO+5TXIP7fpXk2A6IULAOEKc/eA1KSRaFqztWnTjtzp1CDt/z/l92wYKUzg/WEKR7NWVTjgfkhxf7ivzJmzCFh+YBN6zZpVjizKbSG/7dl72PXNA1j9Qr4c3ESmaPfcc9ldFg14V2+99bao16PRAKK4OF0LWL1wyFUd3uisFjl5P+7TyzNMyYAomMLu2hwGUSYfuWiqRpZIP/30k5hKrh90zXO0tYCoyjGb94MDFhD1g4s0hvpB0YfU69RjznOKvpxPaYAoduVgJvrHH//Tb9F4nDHTI+TjZpUDwJk0RI0dlUJoIkFgue+++5TS2GX9FOAZOEhOQBSc4iAryOfJk492iNtJQQ/Pc8L4d8TWrZsleARfhLECRCFMs0kQhCD46kOwD/bng6Am911xTg7feACBADyA6tSpL6rXqCXNOE+c+EBGAQUwgvsBpTZAFPNDvbo1pCYg7q9UqdICu/MZM2YSnxAI+uabQ2Qd+Cj5ShpiI0aMQdOwSA2MBtPY7j16kw/gnBJsgxky3hmAjcxffcEE7T8Amz+QjyX8fju80UkUL16SzPf/kouhd8jcCFqPCOqCBSf8LzGpQirO2a59JwlcwsxoNZ176RWfWVUJ7OndOxEw4r5vjRkp4FsKhAVYi+atBOYgAOPLli4WuC8QrmXkqLEyr/7zupD14z384IOjon69WnLOB3CFjZ+cOXORFsoFgYU3TLOgqQfwduGi5UaNg4UL5okBA/o4twIge+u2nUbwSg0a1K6dWZPWGShIBhoi0CKERu8NN95Am1huzQ+e1/j9w4KmXfs3xBNPZJOAJa4X2pYgmBICCIamsEpenwX6lildXI4H/6AvvljQtUmgju1H/tixoxIY3Ux8OHToeFBAFDyApkPbdh1kxGVo+EITCyA3NgBB/foPpk2rKq7LUoEZL4Ao5j9o7ZYjrScsGr2QusnjpR+3RYA3mOVaQJQ5YtOkOOCnPJXUuVCf1Nyl/u7w24WmV/fuvWRU799poxGyEkzSIQPDQmPZ8tXyu6ueOxZzl8mnonpNSeX37jtCoNWHUQGiOIfJBDapc6NeB5ZNIGFSGqIYR930xHFShO/EuPGTZTOAL9hUg/9tL2QCRBcunE9yd/BNfYzPoJnpXk2AKPq0bNFE7N69E1kXQRsWwW50jUSvazYMOossGrCxFYogg7Zq2dR4LaH6cR3k1bYG7esihV90LIC4rZ7iXcXGnNd709ejqqzJ5wjXZB7t1Y0R7s/pylXrRSaSPYNRct4nzqk+w5QOiEKWql+vZjBWBS23gGhQ1tiKCDlgAdEIGad3YxBTL8exXqcec55TtX1KA0RxbTAdxIdevV6U6wQgC+Z1T5OGEFMwDVGuN6WhTElN7ZO7zE8BnoGD5AZEYdrctGlCgPYu86pu3QYCprcnTx6PGSCKa1GBOL42Tt95d6IoWPAlPhRHjhwWiOT588//dso4A5OdAQOGOFFPUxsgivuE9mdrivB4UXHizvePtHTpsgKCBnZWvWiIoi9+250pMBoDiChTCVp/Tz39jGMCpQOiaAstEPgIg0m0ibCY7NmrL/l5reqqhkl81y4dA3yLqY2gPTpx0lSBRYBKMGmrXauaA5SrdZyHlsbsOQsccJ3LkUaykI32PcR5MS+OpuAHWKybCIty+HPNlu0pUzUt4H4VxYoWdNyMYGc9WDAlPwBR9SIA3OrBoHheg5Zm1sceE5tIq9JEadPeJUaPeVuCDXp9JM/CdC36uH4fQ1NW96eJjRpoqIPgdmLRwgWOqwH9/NjMGDpspAtQRRsVmAkXEDVdi36+UMfQ5OlK2qGREgMWFhCNlIPXXz8/5Smv3DPNF+rvrhltqOn+8Pkc0Lp8440ucvOByziNxdxl8rHH1xNOCiAI/kOj0RDl88B0vnv3zgEuN7heT/E9Hz9hikibNq1TZQIJeX5xGhky0EBtSNYnZ8+eMdS6i2BRATAzffoMTgX8FIKXXsgEiMKcHMojmJODUSSA6KZNG0SH9q8FDKkH5VMbIEI3rA2SWrOhT0KjphTstaPaPWgeflchgx465LYaDNrhSkX+/AWkPIMNB53CUZphQBR9o1mPRguIgp9w03ThwnnXbYRyk8MNvd5nNM8wpQOi4Ak2iGEN5YUsIOqFW7ZtOBywgGg4XAqjTaiPjV6nHnOeU5yK88kNiEI7qV5d985M61deI+fXr4S8Y3wAO3fq4PKnpnaAec7QYSMCFoqmjwAiZW+mj7xOAEygVVS/foJeFdNjPwV4Bg6SGxAFw2BGPWBAH7Fu7RpHwxeaZDBn7tdvIJnu1ow5IIrrhPYUIqSePn3K8Z2Ich0QRdnXpAUK8OzYsSPObwZapI1IqIMGYd48ibvcqREQxf1fvHhRdOvaUYKPPGfAzK8OmQq/8kobEtaKSYEcoAv8snolmEVBGxQanyD4I4TmwPDho8lX4zTSDJwiy02AKCqw4OzZo4sUmBnsgxCclczYevTsG1ILYe7cWfLcbAKO8e68M62A/6P2HToFaBSiHgS/pJMmjZc+L1VND/jwKle+AgWD6hw0SngkC1mcM5r3EP1BMPfr16+XOEda20xwFwCN7j59ByapId+nNzmdX7pIdg0VTMlvQJSvVU15XgMgumTpSqnlOmf2DEejGBsW2bPnEIPI1YO6GFXHiPRZqGPEKq8CoohgnD5DBqmlzy4scF2333EHLSbbyGj3putUgZlwAVHTOF7KAGToPgC99GfAwgKiXrh2fbf1U57yg5Pq7w4LbgSUGzXqTZfWWoYMD4m+NCfnyZvPeMpYzF19+/aU7kyMFxRGoZ+AKE736aefEI96CpOJOV8OvucNGjaSmpK6a5wTxz8gyx+3H0ueX7h/sBQywODB/QOCsKjtn8z2FFnSjHZZp3D95k0bRbduHaXMzGWcZsnyqJRN+RipCRBFOUBZaKwG4wEDoqZ7NQWWwZiXL1+mzc8CjmsclIFMLoASaxL/Hzx4QM7tcNViIlj8YAOgRYvWpuqgZZDrRo0cLgP4YY0RimARhACDUHLB+YIR5P/xJHcGs0RUAVGMEel6dNrUyfTbHu66DC8aouiou49CWZ8+A0L6YEUbkNf7jPQZRgOImni0neJ53EWbCaDWrZs57tZwbAr0anJlYVrPmXiJMeFOqnDhImIdufNRacfO/a5NFLXO5i0HIuGABUQj4ZqhDwMShioHrOE6tS3nOUUbzic3IAqzVT1yW25agOfKlZsvNWgKP407d26XPmJOEXgFP22PZskqHnvscVGwUCFpJqh3NgGiBw4eo3F2kF+fkzI67d3k++wJ8vcDUxaYU6Y0SmkCvFf+wMz5008+Fn+SiTqCoUDTId7p0qVfxIcnT4p05FYhc+Ys8X47nq8f989+KPmZwlQ+d67npFDJgrfngakD5iII9hCkEZQlTZo0noeBoAyTdxpMCkxefDpCw/XsmTNk+p5J+gb1cnKYyn/15Zfivvvvl8CbSSPBy3hJtfXjPYTZ3kcfnZSmmjCTD/f3CZ+shw8fIi3S0NFek7qH5KoHqI5Njv/Su5DtqacdVxjJdb6UNi5+R/DL+8UX56SfNZjTARhOSfTZZ58aNyfDvcbS5P8P9wVg9TxtVqkEX7M5cuRSi2zecoBcuQynTarwNNJixS5YLZw5c1pcJB/Xjz3+uNG6IFbXxufVA+Nwebhpk6YtZJBEuKXRCSBWpITv/r69ewTMm6EtmfauuyQICbcwOXPmDgqMQd6Av2qVeH5Ry0LlYSEDMPLM2dPy3BnSPyTnp2efey7JAHPnzn0u1yVwI/D1V1/JuRpuTeD+Zc2ala7TViOLDHbn5KqgA8z7+/fvlWN8f/F78ZdiBfIcBRPMn/9FKVvp91qSNrEBvppo1qzpYtvWLU4VLBQGDR7mHAfLYM22a9cO+S4j1gOUTh7JnFk88fgTEtzXLW6CjWMqx29k/769Ys+eXVLWw33feNONIu2dd0nQCoGtqlWvleTGLo+NdwXPD2vUX0l2UAnvo+5iJ5L1KKx79tL1qoTfQSiwVm2L/PDhg2UgRy4HsL99xz6Xb1SuM6WR3KfXZ4iAmL///ptzevjVLVw4MQAp5M3Fi+Y7dcgULFRYPE7vBMjEo0aNmznBwWBV8gX9VpjSkUJKdfo9qAQZfsXypWqRKFuWApllDFzfYx2D38tHhAdAAeMpkhULFCgkcQooaDBhM2Xnrv18aFPLAV84YAFRX9h4FcQ0DYePg0rqMec5RTvOJzcgql7TtcibTBQOHT4R8HG7FtcS6TniQYCP9N5sv9TDgS/OnSM/giXlDfXs1S9ASEk9d2rvBIv1ShXLSEYEC6ZkuWQ5YDlgOZDSOGDlqZT2ROz1WA5YDoTDAWjrFiqUT1z65ReneTgBqZzGNiMDuW1/f5uLE3CNprrag6/+UiWLSnCcG8IKdcbMuXxoU8sBXzhgAVFf2HgVxDQNxwAn16nHnOcUbThvAVHmWMpJrQCfcp7F9Xolc+bMEl999aW4ibR7Exo1Effemy6AFWrE6YULl0nNzIBGtiBVcIC1FOACY8vWHRFp8aYKRtibsBywHIgrDlh5Kq4el71YywHLgSscWE8m3J3I175K02fMsZYQKkOSyEMTGwFYVYJ7q0aNm0qf+d99951YuWKZdIumtulGge5q1aqrFtm85UDUHLCAaNQsTByAQUzTcHqdesx5TtGf8xYQNXEztmVWgI8t/+3ZhVCjisP/LJzgP0lR1QGMwnwFJlWIBg8qXbqsDNpi+ZY6OQAXGMWLFRI//fSj9Jvbu3f/1Hmj9q4sBywHUh0HrDyV6h6pvSHLgeuCA00pUO3+fXucew0VC8JpZDMBHOhBAdhWrlweUB6sAIFRV6/ZGFeWpcHuxZanLA5YQNSn58Egpmk4vU495jyn6M95C4iauBnbMivAx5b/9uyJHOjerZMDegbjyUMP/VNMnTYrILhZsPa2PP44sG7tatG5cwd54aGCKcXfndkrthywHEjtHLDyVGp/wvb+LAdSHwfOnz8vSr9c1Fmr4w5fb9tBNGnSPPXdbDLf0a+//iqaNG5AcUROhHWmN0eMESVLvhxWW9vIcsALBywg6oVbIdoyiGlqotepx5znFP05n9oAUVNQpcNHTpJz75tMbEuRZVaAT5GP5bq8qC1bNom3xoyUAQt4zgAjEM2zcuVqom27N8J27n5dMjAV3DS0FA4e2CeeeCKbmL9gSSq4I3sLlgOWA9cLB6w8db08aXuflgOphwNj3xolJk0a79wQgl9u3rLd6L7KaWQzQTmAwKtjRo8QK1YsFZcuuYNocaeMGTOJfv0Hi+zZc3CRTS0HfOWABUR9YqcKSOhD6nXqMec5RV/OpzZAFBH1vqSozyohon1Ki7arXp+etwK8zhF7HGsO/P777zJy6L8pYiSiscOkJLkjqsf6nu35LQcsBywHLAfimwNWnorv52ev3nLgeuTAxx99KH5RgLu/kRKCGgjoeuSJH/f8xx9/iF27dsgo8xjv9jvuEHfddbcEmnPnzmPN5P1gsh0jKAcsIBqUNd4qGMQ09dLr1GPOc4r+nE9tgKiJN/FWZgX4eHti9notBywHLAcsBywHLAdSGgesPJXSnoi9HssBywHLAcsBy4HrjwMWEPXpmTOIaRpOr1OPOc8p+nPeAqImbsa2zArwseW/PbvlgOWA5YDlgOWA5UD8c8DKU/H/DO0dWA5YDlgOWA5YDsQ7Bywg6tMTZBDTNJxepx5znlP057wFRE3cjG2ZFeBjy397dssBywHLAcsBywHLgfjngJWn4v8Z2juwHLAcsBywHLAciHcOWEDUpyfIIKZpOL1OPeY8p+jPeQuImrgZ2zIrwMeW//bslgOWA5YDlgOWA5YD8c8BK0/F/zO0d2A5YDlgOWA5YDkQ7xywgKhPT5BBTNNwep16zHlO0Z/zFhA1cTO2ZVaAjy3/7dktBywHLAcsBywHLAfinwNWnor/Z2jvwHLAcsBywHLAciDeOWABUZ+eIIOYpuH0OvWY85yiP+ctIGriZmzLrAAfW/7bs1sOWA5YDlgOWA5YDsQ/B6w8Ff/P0N6B5YDlgOWA5YDlQLxzwAKiPj1BBjFNw+l16jHnOUV/zltA1MTN2JZZAT62/LdntxywHLAcsBywHLAciH8OWHkq/p+hvQPLAcsBywHLAcuBeOeABUR9eoIMYpqG0+vUY85ziv6ct4CoiZuxLbMCfGz5b89uOWA5YDlgOWA5YDkQ/xyw8lT8P0N7B5YDlgOWA5YDlgPxzgELiPr0BBnENA2n16nHnOcU/TlvAVETN2NbZgX42PLfnt1ywHLAcsBywHLAciD+OWDlqfh/hvYOLAcsBywHLAcsB+KdAxYQ9ekJMohpGk6vU485zyn6c94CoiZuxrbMCvCx5b89u+WA5YDlgOWA5YDlQPxzwMpT8f8M7R1YDlgOWA5YDlgOxDsHLCDq0xNkENM0nF6nHnOeU/TnvAVETdyMbZkV4GPLf3t2ywHLAcsBywHLAcuB+OeAlafi/xnaO7AcsBywHLAcsByIdw5YQNSnJ8ggpmk4vU495jyn6M95C4iauBnbMivAx5b/9uyWA5YDlgOWA5YDlgPxzwErT8X/M7R3YDlgOWA5YDlgORDvHLCAqE9PkEFM03B6nXrMeU7Rn/MWEDVxM7ZlVoCPLf/t2S0HLAcsBywHLAcsB+KfA1aeiv9naO/AcsBywHLAcsByIN45YAFRn54gg5im4fQ69ZjznKI/5y0gauJmbMusAB9b/tuzWw5YDlgOWA5YDlgOxD8HrDwV/8/Q3oHlgOWA5YDlgOVAvHPAAqI+PUEGMU3D6XXqMec5RX/OW0DUxM3YllkBPrb8t2e3HLAcsBywHLAcsByIfw5YeSr+n6G9A8sBywHLAcsBy4F454AFRH16ggximobT69RjznOK/py3gKiJm7EtswJ8bPlvz245YDlgOWA5YDlgORD/HLDyVPw/Q3sHlgOWA5YDlgOWA/HOAQuI+vQEGcQ0DafXqcec5xT9OW8BURM3Y1tmBfjY8t+e3XLAcsBywHLAcsByIP45YOWp+H+G9g4sBywHLAcsBywH4p0DFhD16QkyiGkaTq9TjznPKfpz3gKiJm7GtswK8LHlvz275YDlgOWA5YDlgOVA/HPAylPx/wztHVgOWA5YDlgOWA7EOwcsIOrTE2QQ0zScXqcec55T9Oe8BURN3IxtmRXgY8t/e3bLAcsBywHLAcsBy4H454CVp+L/Gdo7sBywHLAcsBywHIh3DlhA1KcnyCCmaTi9Tj3mPKfoz3kLiJq4GdsyK8DHlv/27JYDlgOWA5YDlgOWA/HPAStPxf8ztHdgOWA5YDlgOWA5EO8csICoT0+QQUzTcHqdesx5TtGf8xYQNXEztmVWgI8t/+3ZLQcsBywHLAcsBywH4p8DVp6K/2do78BywHLAcsBywHIg3jlgAVGfniCDmKbh9Dr1mPOcoj/nLSBq4mZsy6wAH1v+27NbDlgOWA5YDlgOWA7EPwesPBX/z9DegeWA5YDlgOWA5UC8c8ACoj49QQYxTcPpdeox5zlFf85bQNTEzdiWWQE+tvy3Z7ccsBywHLAcsBywHIh/Dlh5Kv6fob0DywHLAcsBywHLgXjngAVEfXqCDGKahtPr1GPOc4r+nLeAqImbsS2zAnxs+W/PbjlgOWA5YDlgOWA5EP8csPJU/D9DeweWA5YDlgOWA5YD8c4BC4j69AQZxDQNp9epx5znFP05bwFREzdjW2YF+Njy357dcsBywHIgGg789OOP4q//95czxC233Cpuv/1259hmLAcsB64NB6w8dW34bM9iOWA5YDlgOWA5YDkQnAMWEA3OG081DGKaOul16jHnOUV/zvsJiH7yycfi559/di7vhhv+T+TMmds51jP//e9/xQcfHNOL5XHOnDnFDTfcaKxL7YXJJcB///334sCBfeLMmdPy7/Lly+Khh/5Jfw+JzJmziBw5colbbrklJHu//fYb8cUXX7jaPP98dnHzzTe7yuL94LfffhMnT55w3UaWLFnEPffc6yq7Hg4aN6ovDh7c79xq9uw5xYyZc53jcDN+vH/hnsu2iy8OmOaVSO/grrvuElmzPhZpd1/6FS1SQFy8+L0zVvnyFcXAQcOc41hnvvvuW/Huu2PlZVSrVlM8/fQzsb6kqM//r3/9IDDH3HtvOvq7V/zf//1f1GPaAeKfA8klT50+9Zk4euyIOHvmjDh79oxIkyaNyJDhIfHPfz4sHs2aVTzzzHMp9h00zbepUY6Lxds7bNhg8dtvv4pcufKIcuUqxOIS7DnjiAPHjh0Vu3fvlFdcrVoNcd9998fR1dtLtRywHPDCAQuIeuFWiLYMYpqa6HXqMec5RX/O+wmINmuWIPbt3eNc3s033yIOHT7uHKuZ//3vf+LVV1qIvXt3q8Uy36NnX1GjRq2A8uulwG8B/vvvvxOTJ00QixcvFH/88b+gbLzttr+JRo2bilatXg3aZubMaeLN4UNc9Vu37RLp0qVzlcX7wUcffShq1qjsuo1hw0aKl0uXdZVdDwfRAqJ+vn/XA7+vx3s0zSuR8qFAwUIE9k2KtLsv/VI6IHqKwJwqlcvJe43neW3Xzh1iypSJcvPq999/c54dNvYefjijqFa9pqhatbq49dbbnLqUkvnzzz9FmdLF5eXUqlVXfntTyrWlpuvwW56CbDCONhPee29rSDbdf/8DoifJsi8VLhKyXSwqTfNtapTjYsHbQgXziZ9++lFUr15L9OzVNxaXEPE5V61cLt5+e4zsDyUHfEcfzpgxyfHUfuPGT5YKFkl2SsUNpk+bIubNmy3vcPWajSEVRmbMmCpGvDlUtp07b3Gq2JxMxY82prfm5b2K6YXakwflgAVEg7LGWwWDmKZeep16zHlO0Z/zfgKiTZsmiP37rgKiN910szh8xK1lh3MDDG3VsqnUVsQxEzQ6evXuRwuYGlx0XaZ+CvBff/2VqF2rmhTQwmVmpUpVRb/+g4zN1Y83N9iydSftat7Hh6ki/fDDk6JWzSquexk6dIQoXSYRRHBVpPKDaABRv9+/VM7q6/b2TAv0SJnxYoFCYtw4C4iG4l+8A6KwLnmFNlRVeSPY/UKrf/jwUSJ3nrzBmsSkHBYaObI/Jc/dpElz8XrbDjG5jtR+Uj/lKYCgr7Vp5YllAwcOFeUrVPLUJ7ldvaeWAABAAElEQVQbXy9yXHLz0TR+PAOi8+fPEYMG9nNuC5YDM2fNFzfddJNTZsqo/RYtXiEef/wJU7PrpmzsW6PEpEnj5f0ePHQ8pOWd+lu0gOh184pEdKNe3quITmA7JTsHLCDqE4sZxDQNp9epx5znFP05f60B0f/+9z+idavmRjB0wIAhKU5wNPE6ucv8EuAvXbok6tWtIc3jvV5zs+atRJs2bQO6qR9vrrSAKHMidaaRAqLJ8f6lTg7bu7KA6LV9B+IZEIXs0vGNdmLjxnWSaXfemVZUqFhZuklImzatOH3qlDhx8rg4Tu542G0BrB/GjZ8U0oXPtX0CQlhA9Npw3C95Ci6h6terJf7zn989XfgNN9wg3n5ngihAGzUpha4XOS4W/E5NgCj417RpC/Ha6+1DstICom72eAGu1N+iBUTdfLRHbg54ea/cPe1RSuGABUR9ehIMYpqG0+vUY85ziv6cv5aAKMDQZk0biaNHD7tuAZqhFgy9yhK/BPi5c2eJIYMHXB2YcjfeeKPIlu0p8cQT2chH6w3ixInjAoL+5ct/uNrhYPacBeLZZ593lasfb66wgChzInWmkQKiyfH+pU4O27vyExC1JvNJv0/xDIjim1WndjV5k4899oSYNn2WuOOOOwNu+o8//hAdOrwu3tu2RdY9+GB6sXbdZvkNDGgcgwILiF4bpvslT7Vv10Zs3rzRddF/+9vfxTPPPieefOJJ8R25Jvrk44+MG9B33XW3WL9hq/j73//u6h+rg+tFjosFf1MLIHr7HXeIS7/8ItcJkybPELlz5wnKTguIulnjBbg6evSI2LVrhxygOrl4gasNS5YDJg54ea9M/W1Z7DlgAVGfngGDmKbh9Dr1mPOcoj/nrxUgiiA1LVs0sWCo6eFpZX4J8J07dxDr1q52RgfwDHOWxx573ClD5ocfLop2bdsEPBtTIJDrRZC2JvNXX5FIAdHkeP+uXpXNXS8cQNCB+vVqum639SuviZYtX3GVpaQD60M0+Z7GnDmzxNAhiRt90LwrVKhw0JMBdOzWtSMtOHfKNnAFU6xYiaDtr2WFBUSvDbf9kqf03zQCUi5ctEzcfvsdrhs5cfwD8frrr1CAr+9c5X37DRKVK1d1lcXq4HqR42LB39QCiEJJpV+/XtLF2T/+8aBYvGSluPPOwI0n8NgCou43zQJXbn7YI384YN8rf/gYy1EsIOoT9xnENA2n16nHnOcU/Tl/LQBRgKFNmzSQ2ojqtQOgg1/G6zFQjcoHPe+XAI+gGdAEYkKgic2bt4u77r6bi5wUAR5mzpjmMgf7O0VNbdiwsQx+hWcIQnTSL790R5l/7jl3lPlMjzwievVK9EPUqlUz8d///Mc5z8svlxFFihYTG9avE59++om48M158eflP2U96mrUrE2BCLqKr7/6yunz9DPPivbtOzrHyKxYsVSsWL7MKbuBNF8nT57uHHPml19+FlOnTJJBN8AL+J7LnDmLyPLoo6Js2QquXe+xY0eLI4cPya643w8/dPu/RT/4o1MJZpgI2OHHNUfCK76Wv/76U8ydM1scPnyQnvkp8Q3x9Z//zCij3RYs+FKS0U7Bm9mzZoiPPv5QnPv8c+nYPf+LBYhH5UXXLh0jijLv1/uHe7x06Rfy3daab1emCJhSRvPpOnToIKmlww2hDf1Gxy7ycP36tWLhgnlcJdO+/QaKJUsWiZ07totz587K3Xm8z9ipz54jp2zzH3p/58yZSe/sWvH552dlFNAnn3xKlC1XXhQpUsw1Hg7Qpl/fXq7yVq3biM8++4Q2KNZQ+qmMSPwY+dnC9SMSLeZCzMnr162hxcVcGbUYx8+S9lH+/AVErdp1Q2q2Ibr25EnjxUcffSh/V/DhVZCCC8GUePz4d8TnZ8861/Pcc887/gpN1wpfhpgr4C/vc4qefPHiRed74QyiZEaMHCPuvvsepSQxq/6eUHLrbbeJd94ZTxonNwa0DVUQDSB65MhhOVfAjPr0mVPib2Q6nSXLo3JTqEHDRklqYyAa+/TpU8UpemanT58Sv5O5bJbMj8r5o1KlqgKRmU2kgyemzaWTJ0+IqVMnic8+/ZR4nAieZMmSVWD+xLiYn24jnkVD0KacPXuGGEQR7mERwITfuymoEkC6819/LR74xwPJEogIQEzatHfJ9x7vWCQ0evQImtMnyq4LFy4TTzyZLZJhfO2D7+eFC+fFr7/+Su/U/QIagfhNh6JoAVFowF44f16kz5AhSR9/wa4D13vrrbeG7I+5F3ORSQs32Lgo//nnn8X5818TYHi7nDNxnliQH/LUTz/+SMB7PtflP/XUM2Le/MWuMj7AvLGEgliqlDXr4+KWW28RCIyhEr7PCGap0xdfnBN9evdwFeO7xH7McY7JkyeIw4cOEfj6rXz3Hnkks8iU6RGa354QFStVds1vCGIaqRzHFxGJnGH6xiTn99ArX/jevKTffHOBgubMESVKlAoIgmMCRPH7wfyQJs3tNP+l9XKqsNru2PE+yasnZTBa07c4rEGokQ5sHjywn9ZoA2X3kiVLizdHjDYOpfdLyofoX3/9JX788V/i3nvTGcdLKYWRXmdKBK7wDsKnP96PNLS285Ow+XPvvfd6lu34Gvz4liE2Cf7wvfFKfpzfyzmxDsW6wutcEO179fvvv9Na6tI1ifmB+8P7BjkIWs+RPBcvPI2XthYQ9elJYUILRnqdesx5TjEG5/0ERJsZoszv2LnPgqHBHlqQcj8EeAwN5/96JNQiRYuLtgR4QHAOl/K/kFNOouG2z5btaTF/wRLZPG+e7EKN/ps+fQYJqmIBqRPA1w5vdJYLdSzYmV58sSD5f5vMhzJFlNdx4952ym4kQPTI0Q+dY2QAOMBk8jxNysGoZq06omvXHvJD/tprrR3zymDt9fK9+45IMzgd/IvkmiPhFa4HgFWnju1coKV+nQBkELDMFG35/fe2CWhz/vbbr3o3CQBDKETUVKbs2XOKGTPn8mHQ1K/3DycwLUgB3CEYiUq6NmvefC+Qc/vpssmM6VPEiBHD1OYCJo/q+6lWduzUVS54mjdrTCDnGbXKyQPE79W7v+tjj/eudi23JhDAAAhBJipR8mXpMgSabFu2bDI1kUEKhg4baYze+jGBoAgwo2skYaAMGR4Sf5A7jO++/dYZFxp10KwDma4Vmk9fffWl017NYAG4adMGtUiAT/XrJ7jKLpHQVaRwftc9lyFwfciQN13twjmIBBDFOztx4jgxnuYI5E0E35MDBg4RhQsXNVUL/C66d+9MwM6/jfUAGFu2elU0J3/LKtiIxqEAUXx7+/fvLRYvWmAclwtxfYhSXKpUaS4KK8XcCtPeObNnOlr/R4995LpGHRB9PnsOCjw0RGzdupk2qC6LGymIxmOPPS5a0f0F48+wYYPFnt07pbA7YeJU6Xpl1qzpcmH+/XffiT//vCyvd9z4KQIgPKhXz25i+fIlcl6pXqOWqFmzjkiXztuieNWqFaJ7t05yvIRGTQM2y2RFGP/eGjNSbNuWaE7/1thxtIH0sLEXFlkNG9SRm4XF6f1/hbSTmcDHd+lbhHHAN6a777lHVKxYRSQkNHZtoqnnRNvTp0/JLnfTJqW+2VapclW5IcljcorNQGjJnvrsM+nq5uabb5EbXwn0/WSwjNtyqj+rxYsXiPW0KXn40EEZATlHjpwC36y69Ro4QO5S2ijCZgrAHxC0xBAxvV27jkFNv7GwxNjTpk52+qEvFkW58+QT9Wj8YO8T2iUH+SVPmeSgZs1aSp7pzy7YfQAkLlL4RfHHH/9zmgA837ptZwAojQ2lSTSHqbRm7Sb5nuId6Nunl9HVEbeHTIR5uX2HxN+K6fq5rSlV5TjURypnmL4xyfU9jIQvpnsPVgbzZmwcb9m6Sf7eJ5MpeZ68bqBcBUTxbZw44V0xd+5sR756+OGMolKlKqJJ0xbOb00939q1q53nPnHSNGpzA83lM8SePbul7AzXY6DmzVuLhEZNZB5R3vGtAl9Lly4n6tVvGGAJJhsm8U8HNvENAJAOwBXUr/9gee36MHq/YIDo/n175ZwC8BbyZpo0t8vx2rzWTixaOI++DUvl0MuWr3GdIhKeRNKHT+r1OqEoAgtIpn/96wcCfBNl5syZswQ85/kLlspnhfaQp9595y3Z9Z13JwqskUAtmjcWAPehmDJjxtyA+UE2on9Qgujfr7c87Nixq4Aig0rQWB816k35Xf7110vyWh7OmEnKFfi+Y56IhDAfDCOwfP/+fQL3iw2zfC/kl99HgF+4fhDko2DfJT++ZZCZ8f7j9wFZPn2GhwTk8takhJDUpqsf5//kk49FUnIP83fu3FnyHYdSBOSF++67X7Ro+YpUwMAaDvLEUxTIDNrZoGjeKz4n5osxY0aJ3bt2CGxOQR6+99504qmnnhZt270hHn00Kzd1pbrMEO59bt/+npS7sRmvEn4H1arVFLXr1Iv4nVPHi9e8BUR9enIMYpqG0+vUY85ziv6cT05AFOdBlEL9h4EJePDg4VYzFAwykF8C/Dv0kZ1ACxoTQWABKPogfXzh/ypX7rxBF6b58uZwhDnTWHrZk6SVt4A++KA8uZ93aZ3qbdXjBg0aSW2+cMBFCBBYrDEBkMCin+nkyRMyAILJNyq34bRy5WoCmoJtXm0p3n9/GxeHle7Ze1jutvpxzZHwCto7lSqVdQFewS4ci97pJFiptJtMSVu2vCrIqXXB8uECon69f7iOcAHRRgn1xKFDB5xLz5P3BUdz2ASIOg2DZO5/4IEkeVunTn3RhUB1Jrx7OiDKdcHScM7zBP1OsdGgalhCA6typXJBQV3T+VRAFHMz+2M0tdXL+vUbJHr37u58P1CfKVNmsXLVOlfTJUsW0oK9p6sMi7t8+fK7ysI5iAQQZeAtnPFNpqy8wAynPzYbBpIGpkqhAFGAYtDsCocwr82fvyQsLch///vfpO28UMwnzSUGsXAOaMQuXbbatShTAdEOBJjMJvAUwrdOALKw6WAKqtG+/WtiMy3msAAZOfItkdAQoGHiYl0dB4s51rYGkDdm9JtOO4B5L79cmkClhtK3tdovWP6rr74UlSqWkdogaFO1Wg2Bb4eXTT70O0ALuSZkuQLCPQaL8r527WrRhTaMQFOnzRa5cuWWefzOGyXUde5FFmr/ALICLMYmA6gHgRYrafEWDulgL4DZAf37SEA5WH/wokePPgELDvVZ1Sdes9aXPk7zFq3Fq6++LpYtWyJ69+qmV8tj3BO+I/fdd5+rHjIlFnUbNrjnAlcjOoB2IBbi14r8kqcS6FkDQNYJv1F8EzOQpu4/Hkwvtfpz5swdVAvL9A6MHDlWFC9R0hkavCxR/CUJiHAhf3d37twuQapgGz3cntOu3XqK2rXriWjkuGjkjGv1PYyUL8ynYOllAi7wTgOUVNcy2PQAIJo162OurgyIVqlSXWpI792721XPBy9SkK3hw0e5NlNRN2/ebDF4UH/ZbOGi5aIj/abOEZCh06sU9BRgEwiWTfiN//DDRadZHtqAwAbHSy8VcW2GOQ0MGROwCbCrWtWKBIh/TxshaaSbCIC6Kpn6qfXIQ/6Cdj827HTC7wWa/uAx6IPjn7iaRMKTSPrgpJFc59ekdFH65WKuaw51sP/AMcf6Q5WVVq3eIDISWAlS5edRo8aKYsWvzg+ywZV/Xbq8IdauWSUBya3bdriUHvBchg8b4tqAUfs+/3wOMYK+3fpcrrYx5bExAJ/KeCd0euCBf4ihw0aQPFBXVnXr3kvUqpWY57Z+fcs60YZDu7avuuRRPgfWuDNnzSelh79xkZP6df5w5R4oQ/Ts0YU2Idc616BmmjZtIQHdkyePk3yRh+SMWbI6mvcKA5w9e0YqBcHCyUSwQOrataeoXKVaQLUqM4R7n+o8EDDglQJYRIwc9ZbrPQ3WNjWWW0DUp6fKIKZpOL1OPeY8p+jP+eQGRPVrhfA4BGbytINjycwBvwT4CxcuiKpVy0vH6OYzuUvxIcbEWLduA2f3Ei1eyJeTzLEuuRuHOMqW7aqGaCQgnx/gYt061cVx2hkNlyB4AmTVNWqT6u9FQzQpEDcSXsFEnIVI9VrxLM+d+1wtknnsPMKMGgTztyqVyxuDQMgGQf7xwixItVPs1/uHAWMFiDo3EyKDOW3J0lUSeEKzSBaAIYZ3VUHLF7usTHBnsGbNSj4MK40GEB07drw0q9tFu80qzSPQDjvOTIjGfOzYET6UWoSbNr/vAuWcyiQyXgHRA2Tm16Rx/SRGvVoNzYZVq9c7Gnp418qVKxVUM/Rqz6u5SZOni7wEvjMFA0Tx3S1YIK9rbICOAMygEQqNQT2KdeHCRQU0GIPRmTOnyV3GLAm0cV9sOhYpUkwuRHQNJoyjAqLQ5rh06ZLAAr4IuTO5k/hx+Mgh0mwa5wDteO7QDlSJBWaYwN96261y4wCmujDhvufue8T/3ZBoMt6ItDjVBTSAW2iJwn2F6n4FGzYARosVK+4C/dVzch5aiLpbinvvTSe1ojJmyiQ1qZ8n1xePPf54yLEqVigtFw3oi/fzJtKM1Ym1znXgv0qV8tKVAiLYd+nSXeQkoBTjQPtj7dpVYgG5vgBhEwCbASBoT8B9A+hPmn8BjoNy04akHoUcrmLUQCZTp04So0nTB4RNGPz948EHpTb3pInjnXkAmzOoU4mfFTTIAPBAGxSuOuA+B9paAOgRQAXUjECWmeTaIF26+8iUu5l4JNMj4vyFr6WW20fUFgR3DoOHDJd5/rd500YCZdrIw6JkiQI3H88885zUHjp58oS8dmzggGbMnEcgYg6ZT+5/fslT2CzFpmk4hN805kPwr0SJUq4uH3xwVNSre3UOR6U6J+N49+5dpHGWqGGFYxBr57Ul/6Rbt25OLLzyH88Kvzv8nn78179cddBA3bJ1hwBQF6kcF42cgWfvdYPQdQMhDtTvYaR8ufnmm41nwHdgEWnxL1gw1wVMI4gWAB5o7ps00BgQ5XkVAAdcHWAj4ZNPP5ba01+QOwQQKwGoF6ACeZhPP6U+6UlxARs+6WgTgucozO94b5jwu960cb10uXOE5m8mfFsg01ckrVRcUyhSAQ3EG2BNT7yPrWjjHN+vZ2heAtCEbwxTsH5cDwCtQf1a8hA8gzUYNsmgRQkwb9euHfL7x9YYoQDRcHkSCR8jvU5sGCxaeNXiA/ezf/9eeb+vkfbrjTe6vytw18P8CwaIYlMTICsAZH1+YL7CJRhkDQBumG+7devFVUKdZ/ANwqZm1qxZydrrJ6lROW7cOxIoLU5A60gCXMMlbHqWK1fSURSA1SFcP6VNm1ZA9po2dTK5jLnLAUtNgKgf3zJoF+N9fJKA9Cq0bgUQe+bsaTFl8kRncxffsja0caCTH+f3IvfAndVbb42Sl4HrxPPHRgo0NuHqDO660kAOo2+wCohG815hPqhMbvN4M6VcuYpSvktLcibejSnkSo6/B+qmNfOKZYZw7xObMcWLFZLvK7ROsfEJmY4ekXTjNYVkjAMH9snh27RpR3JGeN9Svp7UklpA1KcnySCmaTi9Tj3mPKfoz/lrCYgCOBhGO6IlyUTUUnAO+CXA4wwQnCEoeiFoqw0e/KazGMPu8+Uru7obN65zFno8JnYv76RFMRP802TL9pQ81M3Auc1NN90szfxup48aE/sQjRYQNWm3YCcUwjPM/tavXxOwmK5evZZU5Wczly+++DxAww2mDXny5OPLlWnOnDnlgjvaa8ZgXnmVI2cu2rmv4DIJhol4bzLhhhCMjx4AMxV0wIJ99ZqNUnsFwn5/cpqvUhbSJuvdZ4CANuJuMoeFZpSu9RUuIIpx/Xj/MI4fgCh8t40c6dbkY+Eci5x9e/fQon+WMzfivEwQ+ipUqCR99gE8gNaESp07d5faGCgLpnUJTUKY3GLXVgUg1HHAf2h14Hcxe85M8cGxo2q1ANAwekyiZvTHFNG4RvVKrnqAMzBLhR9ULL7gF5gXGdxQFa5DLVahDfIoCdC3kBYfE7ToIPjocwpcT3Tv3ls2A+jxcim3GXo0WmFeAFGY7OI3AR4z4bvTqXM3EuIrSl5MIBPGFVdM87gNnu2AgUPlIfz2LV26iKtkWqVqdYFdfICnK1cuE2+SeTl/Q9EAi12Y+fECORggik2K8gS2qjSIrCUAToEw5mzSktm2dYvTBOAKXByomg5oh0UXzOLxO+Vrueeee2kTrLqAOTrmumB06tRVH6JoAz+7WJyrBFcMDRrUlr9/LMahZcqLOLRjgRl53P/wN0c78z7KkiK+B2i07ty53ZnHsPivTYs78DyU30qYGgJQNG388LkBAJSj312jRs3EgwQe6gT+Db3iI0/X0kNbLFgqlE+UV1QewfS5YIE8ku94L0watHC5IP1Q0/OD6bIORmDBkiN74ncylIYqrgPzX5kyxSVwDTcD3Xsk/tZQx8QuSgCArVm70cU79VnhdzBosHsePE3vQzWaS9jsH4u2pcsStY54fPy26tatIfBegBA1Hc+KCSZ2s2dNl25IAC7rAVgAhAMEh9UGrEgA9F8L8lOeGjpkoPQn7eW6YSU1avTbcsHO/XR5AXPUtvd2Ob6YO3dqL9atW8PNJU/fe3+3nAOKFS3oco+CjYw+fQc4baH5PG7cVXdCqGjbrgM92z8jkuMwV0QjZ1yr72GkfHn22ecd3iGDDQ3MC9hoBNAEwkZCKVLiqF27nmvjT1Zq/xgQRTHAJqx5GMREGQCpxrRhB60taMivWLnW0SBHvQrk4XuC7wNAdXwHwiWYtwLIXbN6lbOpBQAJbjjqkMkq5msThQI2R7w5lEy3p8puzZq1FDBzZwrVD21gPXCY1hH4fiBiPWvZo+6vv/6imAPdxMoVy3AoKRQgGi5PIuFjtNfJ1+/F12MwQBRj8ZwOvm3YuM3lExj12HQbOLAvsjJgLgPYOG5Qv7Z0mYOyufMWS9coKGdSA6uZADFup6dwRfT22NGyuG7dBlK2Ut9NaETDfQCeK0gHRP38lkEeBpiL+ZMJ41egjU64+cLvFlZ8rt+fj9/ScOQe/N7lt5vATnwvZ86a53qOkCWw6YqND5AKiPI9cerlvVIt4gDKN6XfrEqI4QFXQABF8T2eR++IykdVZgjnPtW13vgJUyn2wYvq6eh9+FNuGmDtBLygbl33pq2rcSo+sICoTw+XFz2m4fQ69ZjznKI/5/0ERJs2TRD79+0xXZ5Thh0D/FiiDRbhDJgKM34K8GAPdu2GDxskAKCES9BWWrxkRcCiWv2I8lhbtu4ManJh0noEeAQARf1I8VhI9cUCtFl0H6KhtC2bNUuQ4BaPCaETwoTqqw4+SMEXJgA/3br14kOpNVOrZhXnGBkEAAvmCyfaa8b4XnmlmtSgP6h3n/6kjZVJ5vFv27YtcpHqFFBm7NhEbS+dT2ijmuzgWBXWcAzyAoiivR/vnx+AKHauR40ajktySPd/adKEefa55wmkurr7j8BFNWskatnyQDBVBRANgs+mOqShrFLhIsVoh/hdp0gVHrgQ/kw3bnrPcbQOAAKLPNV/KzR/8YxApufff8Bg6buQxzS5RIDJCnxVgUyL1dvvuEO+62hnIgi62Am+ePF7pxrA1fvb98jftBr0Bg0gLG/esl36S3I6eMh4AUSxedOQFl8q1aufIGBapRJMAFkARTmu8fCRk3LBlv35bC6zPux2AwxUacjgARI8V8umTJlJfhLzyqJggChAIQBpKsFcED7fMOdiToTmgA6eqe3h2xGBnlS/tgD0sViH1lIwjSd1DIAcmLNA0HxcvmKNSxjmtgB+Z86cJg9Vc3EUqALztOmzBe4jUvqaTA4XEFi2nEy1+X3H76FCxUrSvBpAr4mgPbNv315xkDQPDh06KD479amj6ai2xwYcAoJgAaUSNGzwG8OmT/78BUg2maJWCwYBsAjfvGWH1HxBAwQneCFfDrnog0nq2LfHu/qFc3DZAyCqArcbNr5nBHfV34k+D6jPau26zS4Ahq9VBeHUDR6uR7p27VX3Abhn3DvTqFFvknbQJHmoa4xzm1ikfspTmPuWLVtMgMAYl3lyUveFDarpM+Y4Gwqmzch27TrK4Eqq1hePq4Ke+twF8PqVV1+X/qIxj/3zn/90ga88hpp6keNM3xkvcsa1+h5Gy5eDBw9IN0zqGgYABgJ9gv/QeguHGBDFnIPN5/Tp0wd0w2ZJmzaJAIW+WagCea3JX3HLlq8E9A+3ABpmCD46n8BR1hQD6FGIfretW70a4IolFLAJeaRevZoCWuIYYzJ97xjYDNXvnLIJiO8TNs50AkiCTVTefA8FiIbLE6989OM6+b68AFeqjK3L37AogA9XkAnUqklrFDwPaO3OmbuITy/9eVevVlEew50PNuN1wvPEuwpADFZj7LdSb6cflyxRWLrkgcuI9eu3ujZquS1cp7B5uA6I+vktwyZ0FlIi0EldH65ctZ5knEecJn6ePxy5R7Vm6dGjj5xPnIu5klGtD/wCRFkGhXIM3it1M5vPP4ZcWEyZkrgW0P0hqzJDOPe5c+d2mlOayaERCwRa4JYCOWAB0UCeRFTCIKaps16nHnOeU/TnvJ+AqAlgMV0rfvAAuLB7YymQA34K8Dw6njecTn9MUcTPnD4lPqXd6U9pF5l38bidmqqmflzuRZBGHx3kU7XTeEw9jRZcLFO6uCsoTCQLVpgRxhoQTYpXJl9kOi9NxyygsLkot8Gibdbs+XwoUyza8WFlkAKFXgFR9In2/fMDEDVpiOrgAhZFjRvVwyU7ZPq469ooKmhvAhkHkvZhedJCZAKQkyvXs45GFspN7ymCXa0jEIIJwMzBQ8flYZ8+pMlI4JhKqEMblXiBxmXqe2W6VviUbJjQhJsbU/jvhdCpEmv/Fynyosts0wQ0qf2SyqtAD7cNtihatepqwB1uq5r+cZnpXYDGGxZ6EPhVMoFDJr6pIBQLozwOFiTsZ7Q8aRzy4pTr9RRCLPo0btKMvpO3uaoBRiPYAgh+6GASlo12+L2QCoi2ooUxFuUmUsH/PqQ5Dq1NJhaY8b7tP3CUeHfVhJLbeE2hkbV48UIxcsQwx+8ZwPtg4LxpfCyuEXDoEAWbgDnmOVqQg7AJO3nKDPLx+Lw85n+9e3WXIBfApHXrtzhaj1gwFi9WUJp1mgKCQVvy+AfH5DAw44Sp/2OkjfMg+ZEEiK7/Dvl8nHoBRAcO6Cs1vqABDg1gE+FbDmACc23Tpm6tVX5W0BLbs/eqOa06jmrWp4Pf3A5aJdAWBHXq1E0C+Vy3a+cOAq+bykNolxcq9JJ44YUXJVAHNwYA7mJBySFPARDfvWuHBB6gUQiNvK+++jLk7almggB+MC+ziwt0ZJcM0KIdMKAPlVylWbQhx4HJ+pFVR1IB2RCkC78Z+Jk0aYp7keOilTNMc2VyfA+j5Qv7YgTXMxKAgu8gvpX4Jngh/t6GAjYwHge50t1PqECeF829UNeIOWEXva+Y6zj4ou6jGP1DAZuox1xao3plqXWK92rJ0pVSEz1Uvx0UkOmV1s3RnTakg/vCZG1ItAsFiIbLE6989OM6ce0gvwBRzOlYz8DqBlp6ANjxnQKpFkL6txk+bzu+0Va2gxyBzVYTbdq8QZq+m2R/U3sE6MGaDu9TjRq1RY+efUzNZBAufua83uCGfn3LgB/AFyvzg8dHCuuRDuRTFwTrGvyOmfw6f7hyz8iRw8X0aZPl6Xfs3O8oPPD1IAU/X8yfS1qAhJo3wn2v1I13XRZQz6vKgexrmutZZgj3PrFGK0WbGghsBfA1J+E8hWnjBd9+yLMApU3Pis93vaQWEPXpSeNHE4z0OvWY85xiDM77CYg2bZq0hihfP4KdvEMTlQVFmSNX0+QQ4K+OfjWHj9uHJ0+KEyePyyAKuuNlRBrev/+oS+PIiyCNM+XJ/Zyz64vjunUbiM5duiMblKIBRPFe58jxtAtoCmZiGPQCqCI2gKg3XukBhELdj1oHv2bt2r3hCORcZ1r0o47NiLhdJIAo91VTL++fH4DoVNJeYh98fB279xxyaePBdBR+d1RSgS4u17VR1M2D48ePibp1anBTmcIHZOHCbhPRlwrlcyKRopFpl1430cRv8ghpMoIgcEKIZ4IfOUQr1qkGabOymSvqXBqiBm1WmHcWK1ZCH8Z1fPEi/AUVdG2oFChYSPou5F1i7gCgNBqf0V4AUZiKQvtbpZ27DgSY70J7AVoMKkHD8/9o8asD4iZ+wG0AokWrBE0eALWgUIAoQPemFMwn1GYUj3v//Q+IefMXu7RrVf/IeB+g9VirVl3HxQn3DZWqgnAwDRL0h4ZR/hdyyaF43uBxWWBOT1pUAJOjpdO0UYeF9aqVK5wgfsFAzHDPBTOt0aNHOgsS+NHr33+wq7sK2Kg+x9R3xAQQwpweZonqZhEPDLnm6aeflcDkiwUKcrEr9QKINm/WSAQLzuIa9MpBCXJLNGLEGKfKeVYZHiLNnS1OuZpRtRaXkUZ0FgJ1dULgLQT7ASFCbWP6lqiEYDAAIkyE9wSuRwDA6+b0pvZ+lV0reeonMo08eeK4dFUDjTzdlyf8xE6ZOtO5rYEDCeS+4meWC+eSltfgwf1d/s8ZKOU2P/74L/JJWcnx4cflphSL2bfIIkQ3X/Qix0UrZ1yr72G0fFGBC/ASIBH8MsLFVzha98x/BkQrV04M1snlegp3NwC1dO0+FcjT3VLoY4RzjA0ibJwuXDjfCbYHYAIbGnDPo1IoYJPbIRJ8r56JFhes8Rmq39y5swQsKkALFy4L0ErlcVVZJxQgGi5PvPLRj+vkewkXuEL7UBqiqId/6LFjRyFL88cs5zvPcy02ueAj+O9//7tsg39qH6cwRAYbKO9v3xuiRWIVNn+qku9skElRILGV29WMDoj69i0LIXccps1QDuoEjWS8p0zX4vx8LqQIPrV580a5zsB6IxjxmsIPQFT1hdu370Bj0CRcBzbmsEYH6T5oHZkhBJ9lR+XfenLz0q1bZ+kWRymWWYDycOn26quvC68BMPWx4vnYAqI+PT0GMU3D6XXqMec5RX/O+wmINmsWaKp88NAHAj7ZYGakE0DRceMmeRI29DFS47EfAjwCbfzwww8u9mSlBQ6CKJgIi/PmzRsHuDxYQALMk+S0msmLII0+uUkLjv0w4bh+gwSKmuk2X0W5StEAohgnV85nnAjEOIZWE3ZQvVAsAFGvvGrVsqnc9fdyX2hbvXot0bNXXxnc5d///snpzsKtU3AlAz8zR45c/ZCHA4j6/f5ZQDTxYaiAKKJrbtmyyXlc95BZMfzM6cSCFpergGi4i1Xuq6YsMKllcIkCX2FMcMgOkNbLgpL7cuoFEIVvVg5Uw/23k6Cvz3sQ3Dp1as9NZJpo0nqTqE9mgSohCmuJEqXUInIXcJFATzcgCrPVFhSlGxQKEEX99u3viUEEHp0nU/GkSAXb0RZz9Y7t75OP2Rku1yBZyHQMwCh8ZqZJkybksCogOmzYSPFy6bLG9qrArLse4OePKPPBQDbjoEohAEv4S51HfkQ5CAWqoU0IAb1q1Rphm6oqw7qykHXwPABiQ3NTd3+AxrVqVpX+Pu+7737ptgIaDrzBqwNS6uDw/wXtD5iLQXvSBHIH02b2AojCx9jBg/sF/Hvrvl7V6+E8+KcuAsN5Vn4Aojg/ArAAIDl65LARLAaPFy5aJgNQ8fUmZ+qHPIU56H//+5/rMjHX4T0xEcBR+J5VwXJozUI7l7Vk1N8gj4HFMJ6zSibgAd/Xfn17uuZatY+ah2nrqlUbXCC0FzkuWjkj3G9MtBuEuOdo+YKNQ/juXrd2jaOhju8qtLKrkdxk8kOs8hp5BkRZztLr+bhO7WrSZQ38tSOoJ5MbyNtmNLnntqFS+JCfP2+ugLbgH38kvrtwQ1KxUmWpmAD3OzqFAjbVtqpJNDaMoTE9aGA/2US3yFCtMYKZOKOjCkiHBkTD44lXPvpxncwjPwFRyBolSrwklTyg7YkNTMxF+Kb9/PO/6b2sST5YE3nP58emMPsRhqn9LbRBlxSF8105efJqgDRdo1AdX/UjrwOi1+JbprpO0gHRa3F+lResuIB5+P3396hVrjzPB34AonBTxoFFQ214wwoG607ILfo6ORyZwXUDVw6wUTyVAjYhgNLXBvkWrkTeHTdRBps09U/tZRYQ9ekJM4hpGk6vU485zyn6cz65AdFDh4/LcwUDRWHyB9960SyYTfyI5zI/BHiTSWtCQhPRnsyAgpHqT4Tb6L7A4E8OfuVUgn9AaDKZyCvIhzHgp0gNJqPvoKMNmz0gD4IPw127D8g877zLA/qHgEpwZO2FVFNR7jd4yJsUXbc8H7rSaK8Zg3nlle7vEho4XjS1VE0znB+ACgRWlfDBLPxSfgG/ZkzhAKJ+v38A1cEflXSNNdRVqlhGLoq4HbTnOAjR1KmpS0NUXUDw/ergHwRnRDWHGQuTajIf7mKV+6rpPvIX3axpgloUkEfU8M4U0Cga8gKIwmfu668lgpJ8TpN239ixo0mLYhw3kSk0SW+gyOisEcmVuo83lENbD5oGKqmapEkBouiHZ/Pee1vFsWNHBBYa5z7/PKhfQl2Tmc8LUGX27BkUPONqABBojJSvUFFAMx6/aROpYIzJNxn3Udt1795b+n7mukgFZvSH1tKSxdBamudEhEU5/PXWIysCaDiawCaAmjPIfyroITIhrEHBo8Ih3tSBb1aTlsaypYvJB3Ci5QLmCwCnCH4FOckESJnOCY33b775RpqVwkcggAgsWLGJsXLluoBAJl4A0f79elPE6/kEdOP6Dzqgmuk6TGXhPCu/AFE+P3iHTVlESz5GUabBj6NHD8tqk6Yu9/M79UOeatqkoQuwxzXqppj6desyAQBRPDvVBFu3vtDHwLuzlbS/7r77Hr1KHu/fR/5zCUA9TpqpZ8+eEd9cOG8E5ceOTfQbzoN4keOilTPC/cb4AYjy/UXKF+6PeQauC6BViTwI8xHc2mCjJi8pczCwzX04ZUAU7iImTEycq7hOTbldyZKlpX9jrvMK5HE/pJCTEDR03tw5iQHdrlSmJ9kwnEB14QKisByoVq2S3NDDew0wBQHVQDoguoW049qRlhzoXVKAKUBrPhN16PC62LRxvayKBSDqx3XyffkJiGJM5g0sJrDBvHPHdmdDV1+job264WuqR5tICOuAF/Pnll1DKbfg99e0aUPZTgdEr8W3LBQgei3Or/JW9TcPE/9g8VN4/vMDEP3+++/JN3oBeRnBNmRR+cW5cxTQs6Rsp8s54cgMsmOIf3hfLly4IAPV4fe1jeRdBG6MZhM9xOniosoCoj49JgYxTcPpdeox5zlFf877CYiyRgVfH3YCDh85IQ9xPguKMmdCp34I8NjphqmsSjCfgvmqHlgCbaAJBNOokycT/ROiDMK4bjI/d+5V8xe0AalmHIklV/97BfnQs1fPbmL58iXOIFhAwGH4U089LcsgoFYhsw3VJE0F6XS/i+iEKIuI9gqC0NiiRWNx+NBBeYx/an8cf/bZVdMQHINatQruay/aa8b4XnmlOutGfxAEcAjiTPjdzZ07W/ysaIJmJ80WaJ1169pJrF69gpvKdNy4yeSX8KqJpyqcc0OdV1yupsnx/pV+uZhrxxFC/qLFy51oyqoQxteimsBOTWWAqApg8P2qZtsoM/mj8wsQxbtVoTz5wzz3OZ8+IIU2HsClaMgLIIrdaVyTSur9ovzXX38lv1zFXO4KsKGDjR2QDmZiZ3/t2s0urcvWrZvJRYnscOXf6tUbxcMZM8ojfQzW7MD1QVhlAgCrBiOC2efyZUsDgn/NnrMgwPclj4EUGtR4HxBZmP2LohxmuljA6xquKtCpBw1DP6aJBBpzRFl9bolEYP7kk49Jo3KK2EgLX9ZawncGZqn1yHzzmWcSzbf4/KaUXUAAkJg6bZaLf6b20EItQJsClyjKa46cucT06XMCmuH7V5QWEGhTgFw/ZM36uAwQhG+mGkwpoGOIAhVkHUIB+cqUKedqDa0MRJlHmpRbl9mzZohhFBgRFK4PPfVk4TwrdT6J1GRePaeex31iDr9AoJ0aHE5v5/exH/KUCUB88MH0EuAxbTpAQ6pqlQoyYAnfj24yj/K1a68GqeJ2alq8eEkZRZnLIPucOXOGD2UK/8GsEY73GBr6rVo2cWR8NHq9bQfRpElzp58XOS5aOeNaAKJ+8cVh0JUMNq0ALkFrVHU7A61xBAatUqVaQFAZBjoBFGKD2hSMSQVs9Ijtqsy1fkN42pC4/5kzpwvMOapWMua7enUbiqLFihEQb9ZmVu85XEAUfWCW2yihrgxACLAYftFBOiCKOb/6lQA/wUA0bCaVKllUbpRhjFgAon5cJ64dpGpowmoHWsbBKCmTefRTN5979OwrNm/aIDdlde1iPsfHH39Evl4ryUP4EW7evBVXRZ0ycAezZyhQqBs8PPiwYYMdgFwHRK/Ft0z9fekaotfi/MwHpGoQJ5PrLLRRLRJDAaJe3qv88ElK8gzWvVj/mkj9rukbfOHIDKYxQ5Wpa064ebiPrEWuN7KAqE9PnEFM03B6nXrMeU7Rn/PXChDlc+IHsWbNyoBbgKbo2xS1FB/W6538EODBwzavtiQV/W0B7IRvpJcKF6Fo5BllVGNMxhCk2Nk6dzBpZqrRMbkdtFZUs/pMjzzimHB4Bfkwpmq6wucAuF68eAlySH2X1DRRhT60Uc2TVOGB+991190UOORVkYaEVACEH36YCNRzvQqcoQygCaIIq4QPP3invqPjxk+SQU+ivWacxyuvAIKUIy0maCExIUI43ANgF/4iAS9TpkwMcFfBPjF3kpmn7u8RJlXNmrUQj5MZF8wuZkyf4swVfI5wAFG09fv9Y9MTvg6k996bTpqGwrcdtO1YKOc2qjlwagNEAawB2FNdUuC+ExKakEPz3NIPHQKlAIhQSQUIw12sqv3VvCpQqeXIZ8v2NEW3vbqxodeHe+wFEMWYJp932ARCUKufKcr7LNKo1P0lq1qgqtDJ14igOfC3dif9vlasWCbfNa5DqguxwQDRCRPeFe+8PUbtKhDcAkA2fIDhWY4YMZRMHd2g3fwFS8MKnAStw40b18vFCHxjMh099pFr4aIComhjCnYBYLVK5fJyfgFgjEilf/vb33hIJ8q8l91+deMIc3K1ajUkYBvMwsA5mZLZvGkjnTtR4wjfHrg00H0kKs3FgP59pCYqygAKARwyEfuwwzx/++13yPsuTSDmUAIzdcLciYUVqDKBIqp5OrdVF2V60Atu8zIBhHCb8GjWx8iX3MqgWmcXL16UGquICIxvEKK+3kRAskpf0zjQGv+DQBxo2AKEZwpncRMtIIqgNPgmYfHftVsPZ6OKrwFps2aJbpVg+r95c+IGhFqfHHk/5KnffvtN8l+XkQDmF6Rvbe48eUWmTI8QGPWT1IZdsWJpwLxssmiABQYC9OnyDPNhLMnE0EpkUn3jcRlcTw0gs2UEuYFcv4YCiXXr2pGrZapr/3iR46KVM8L9xjDQwhfuxae2X3zhc5vSQ4cOyN+8KmfokZnRjwFR5OvUqS+6dO2BrEN45s1Iew7ANTZ1MLer8nMkgOiqlctF9+6d5TluvvkW8tldmgKeJbjGdS4gRMYLIIphTN8zHRDFNwkBPL/88gv6xqURK1auDQiwBjkVFmpMsQBE/bhOvv6VJCP06NFFHr5Jvpyx4ReMwgFE8bvmzWcEV/rqqy/lb717d7fVBp8D7WEBBhkAVhHLV6wNsOIDCD182BC5gZqJwM327d1zBo+lp2rwsl69+9E33O1iCM8Zfkb/85//yK46IHotvmXqt1cHRK/F+VWenSOFgUqVykrNSKypp8+Y67KIhXz+6qstnA12XZZUx/LyXg0fPljMok0SkMntE6x0qpOWN75pkOFW0DsC3+dM4cgM3BYp1ldQSsH6uB29SyZFCHWDHQHCgEFcb2QBUZ+eOCa5YKTXqcec5xRjcP5aAqI4L3783cnprgkULVykmFyYqYAT+lxv5IcAD555cTJv4rHJvOXs2TNSuDG157JsChDiFeTDGFiIV6xQxqVdwWObUgiV8MH0OEX4ZepM/gHX0c5+OARz+1Wr1wfs4iJoCnbeQ9HefUckkOHHNUfCKyy8evYI7ZNVvX4AytBaYI2Sli2akM+3nWqTJPPhAqJ+v38mADfUxUKDBzvYAJpAqQ0QxT2pplk4Dof8BEQvXbpELhVeCPCvh+voHkRYD+ca1TZeAVFoYUI7izUQ1bFMeUQUXrp0lSOkQisIrhew6AiHoEWIBQciaTIFA0RholSxYukA4B4gHCKUf372LC0kfudhZAohFfOM1+8i+AYzxs3kZ/bQoeNBAVGcG9pDbdt1kMG0AAYCYBg4sK8TuKVf/8Ek1FdxXZdXgRmdAYieOPGBBJfLlasgN5Ncg4Z58O47bwm45WDCIgKA90Mk2Ke77z4JTJ0lP4tY4ENbBoTnPI80JbBANBH8D+K5qxTM+gFRXLHIx6IC3x8A6tDCfYQ2A//88y/x0UcnybXMUMdEfAm9X1kJ9NQJkYBhSg7KkyefKEIyEDSSQZkzZxHQAGJSQQOAoljAYuPq4sXv5ebHyBHD5OIG7yNACTVwQTjPKlpAVA3kAYC3Y8cuclMkbdq08rrgK3bAgD7ydnTNR1mYTP/8kqcOHjwggSx90y2cywb4D7+ppojvALE5CrE6FgKdbHtvt+t3i3OXK1vSZSnBfTLQu4+5SwdtUa9rFXuV46KRM64FIOoXX5iXoVJo/86dM4t8ES+mII1vizx587maMyCKeRXrHZiT165dTy7+MReNGTPCsU6qQHPWgIFDXf0jBURH0O8fLkRqkKuUdOnSucYM98ArIIr7a9K4AX1fEt1V4Tw6IIoyNUAdfgPde/Sm4Kc5pZXGqlUrxASayzFv4f0FxQIQxXmjvU6MAUJwTlixYZ2N7011isiO+Rj3CAJgzRq74QCi6APlBDxjpttu+xuZz++Qm3dcpqb4/jeoX0teAzYcu3TpQRvlueT3CZaA8PN45Mgh2YWVJNT+wfJYE5UrW0quz/CO49sH6wcEzTlIfiP70wYkNnjwboB0QBRlyf0tCwWIXovz4xwqqZuy+M6/9no7aYUCWRXv/tatm533PxQg6uW9gluLsvStgCUlNu5ea9NOFC5SVPqS/uCDY7TRO8jxYW8CTMORGdR7xByAuQDPHYo53br1ktY78LuMdQLc4MF6E3Er8D18f/ueoBvA6ripLW8BUZ+eKIOYpuH0OvWY85yiP+evNSCKc+MHEwoUHT16rPOxQPvrjfwS4ME3LMAbN67vMqMMh59taPJs1rylsalJU09tGC0girHUnTB1bFO+VatAU3bsAjZsUFvuSpv6qGXBhAGT1qfaD3kGRJGP9pojAURxXnVRjeNghIU7TDZUjZNztHtZr25N+ZEK1k8vDxcQRT+/37+ePbuKFRTlNBzSwYzUCIhCk7le3Rri9OlT4bBEtvETEMWA3bt1oqAdbtcLAPG2vbcrqLAe9sVSQ6+AKMYGuDOgf2/nOxfsfFisTJw4TTxNO/cqYRHfgoLMQZALRfhNIUCZriURDBDFWIgsPXhwf2fBEGp81CEacL36DZNqFrT+G/LhqAMxqoYozBgXLVwQAMTygNB+HEqBl7D4UcmrwIy+pmtRx/SSf4dAUSzqwgG+sSAcP2GKUWtBPScHXEBZqGBKqD9CQYOwoaT654V/MMhWqtZ2teqBQS/QH/QVge4A79UxEmtI05s0h1WtHYAFPUgLDIv2YIRn1Lt3/4CosuE8q2gBUch1b5AfwM2bN7ouD5twavA+/OZgwpcp0yOudsl14Kc8BT9oHTu2N0bRDXb9eCaTJs9wokPr7eBj7eVSRQLmqmDazJgPIYP9rFiG6GOqx9COHzkKMrX79+tFjsN4kcoZ1wIQxfX5xReMFQ5Ba/jy5cuuYFXox4Ao5k0AoJCxTAS3HJiT7qMNHJUiAUSxMYONLAbc1PG85L0CohgbczoCN/L7aAJEMSdCSSHY3AXNuaeefsaxjIgVIBrtdaq8VkEwtRx51ZdkuIAoNLWLFy/kgMbh+GFG8LTRpHkLv43ByKSJHawtl0Pegwu8YN/exmSJMZW0fkH/n72rgLeieNujWIiigImFGHS3igIi3Q0q0iHdIF3SnYI00iEKGJQgoYBBqqSooAJKSOlfvvvNM9d3mbN3zrnnnN179y688/uds7PT88zszDvPlIkQTei+LD5CNKHjJ5zoie+zUaN6cXYmkf2rr9ZVR1CAqA5FiMJ9uPUKbrdt2yI6y/5K739hritcptVRTl7aVTgyg93PnDkz1R0jxC/BHguOsLMF8gEp7LrB7psbUTEh6lKp65XMHqTdTn8nPT3hl/RuEqKNG8e9ZR6XKpkUPo4e3bvGOcMQbkuVKiMGDxl+w5KibgrwwBONMTovbJ+ncoe5SWHgjIuXUAbBFGaeBg7oZ1zlCz86IZo/Xw5r6wTsgp0hBDu7wuADqyewBcOkMOvVokVrSfg2jiPswz3IjF6SQLMP0CgsNNQ9e/YJesMy3GHVC1YiBev4dUIU7p2k2QlW78kVC1ghFCydadLcJ/r2GyhAhtkVBNqWLZrJW5K/t1upFUog3fQyiIQQRYBu1j8MQLBVdcrUSep8nDgJlgbYsom86sQv3M2Y/m6csxntl9WAWKwst7foykSY40wsnDlFSr9AYe+e3XKrXHWyUk8Q0UWKFAswe0murNTPwTUJpvYLLfRzmSkwfI+4tODLL7aRkfXETO2dye8MmBDRCdFw02oFaNDgNluQ6roqW7aCGDR4mG4Utd4UfqiD4ikizFh36dwhIO9khyfq8ZChI+KQheQG30Wnju3UpUdkpj+x7RdHMuTOnVc3VvpQhCgcQGDv1LmdtQIzTgDSACtAmshJqUaNzRNTJj/hmumEKPKQ9pFHlKBNqykRDurOm81bBSVjoxGYw01fuO5AJuFYCAzQ7CtrEQba+DfqNVA3swe7zECPa6W8nIq2G9u3GevuSI/VeGPGjFSXWtlXDlLc9SWxeeutt5KXOE+sOBs/boy8GGe3OP7LLxbZZidEyeOSJQvFxAnj1MpQMgMxj34XK6/orGyywzOcsnJKiFJ8ID2w/fW43MJvV9je3a5dR+s8cLt9Qry7LU/t27dXylPdA9r/YOlGG9NNbpnOmClzMCfK3HSTe6gthTgiBgPdb76JXeFlChx1AoPOvn0HGFdiRyLHUfjRyBnh9jFu9Idu4EJ5jfZJhCiOcWrWvIUY9Hb/ABkUpGWZMuUVUWRqk6IhRKNNq91fNIQowtCPMTERohQPCDqsiINsDgUZPoe8SG/YsNFye+8Meb7zNGXuFSGqIpd/0aaT/OOJsdb7y5eKpcsWi59/OhZwZnk0hCjC7Na1kzXumj1ngbwwNheMQypM3PXv10tNmuvjP8gv7dp1CnpRbMhApSUmOpCen2TeSGHisbO8RDNz5izyOKfiyrhHjz5y1XJtchLwTKi+LD5ClBKRUPFT+PoTRwgMGNBHfLR6lTVOwxESxV8pIfrJ8cqrdWqqOzziI0TDrVcUN+RY7MzBDod///0fGatt8rjwFLtSTCocmcHkD8c0DB82SB0JYrfH2eEtWrYJyS/Y/Vxv70yIulSiemNmD9Jup7+Tnp7wS3o3CVGcY4MVD6TQ2YU6zBmkKGYULknCxa5elOcmZcmS1W58Q7y7LcATaOfPnxdbt3wub2PfrAZeMMdKrpRyS9u9chXHE+nSiapVawScI0J+TU8Mng8ePKAIh3/+/ttycv8DD1grpkAo6o0wtvo99/wLltv4NCDAtmz+XJJ1P4hDhw+qMwBTyy2FIL3Kla8YsE0+WFi4ERqNNNJ66uRJcXOyZKKg3OZUVZ5fgVxnTgAAQABJREFUF+z2Vj0sdChYfQBh++J/ghzZg6ywD3ajTbNTrCCY7JBbVo7KSxeOHD2sMMI2nUwZM6ttXfYz5ygPeF6+fFlt2/gBZSq3+zwgD7vOmy+/EpZWr16pBDpy/9DDaUXlylXpNeynm/UP2/G3bt2ibpQ/KOsG2rM0ae6TZ1M9KGrLc7uMFxlIwfALOWOqq4aNmgasqkC49vMbi8oVNvrWVfhXt8+evnY5Dm68pjP7cHzC0iWL9GjUwNS+IgorkPWVYdj+ar/wDHUfhCAp1N2mTd+kV+uJi2PWr1untup+9/1+ceXyFUVytZTCx9YtmwNu8sbWYWxxggo3rVZEBg3OVGvdKvDQftPZagavYRnhu1u2dHGA23xy21FeeU5qfOrcuXNi8+ZNagvbIUl2J0+eXDz91DPi2WcziMIvvhjvpBtw/XzTJqv9gVD79FNPi6eefkad05syZUpjEnCQvl622EJsJ8QRFi5B2rN7t3WZxN0yvPtkPcY5YTibEtuNE0vhG8LEB9qRRx55VKC+glTxg0LacaP5iRO/yLr+u2z7UqstqvdHeGj/eHm+6xR5zitIC5xxea/cthyOwrmAwA5b4P5PbpkHwYy2F/UtoRR2QRz44XvVfz8l62RCxhVNHjARBjxAWmMLL+p02rSPRBOUIz8JJU+hvDdt2qhun/9LylZQOJ4Ffc898gdZJ9TZgXqmsEr44MEfLKNgl39ZDqQGdR7HAuHIm19PnFDvqAOqH3zoIXm+eAV1eZXux6QPR47T/UUqZ4Tbx7jVH7qFi55np3qc931Yyq9YxYmjnewyo9Pwk4J/TOxgUgiLKkLlD+Vz9OgRJXvgEr0UKVIkheTHSUNSTCfqEdpU+2WMcRJvMMDChu+lbCjhF0899VRYYx9DMHGM8H1/Jy/xxXmQdEwLSFjs0IOyn4McJwBp4HVflpjxY3Uq+u2rkv/A5GUyKdMnhkK8GAPj5veMGTKFLdtEmzbUt2NydfxP8nen/MYfkX3/k+nTxytzRxufX/wxIepSSaGBDqbsdvo76emJMEjvJiEaLG1sHhkCCSXAR5YKds0IMAKMQPwI2C/PwgHtH3201jdkWvw5ZBc3AgIgv0u8UlQN1INdpnQj4HC95TGpy1P6DcOEvWlXAtnxkxFgBBiBpIyAfgzABx9+rCZXk3J6OW2MQGIhwISoS0gTiWkKzm6nv5OenvBPeiZETWh6a5bUBXhv0eHYGQFGIKkggBULr8hzrfTzgbAlxrSKNamkmdPBCJgQ0Fc6288fNrlnM38gkNTlqf79esszjxdYYCaXR5xs+vyLsHfqWB5ZwwgwAoxAAiKA3W+jRw1XqxtTp0ot6jdoJOw7z7BKGLeqH5MrWXEx3Lr1m+O4ScAkctCMQJJGgAlRl4qHSExTcHY7/Z309IR/0jMhakLTW7OkLsB7iw7HzggwAkkFgXfk9uIJcpsxKWyxXrtuk7wo4gEy4icj4AsEWrZoKrdAf6Zuo/9QrmphdX0gkJTlKWxjLPxCgYDjNXAreZ8+A64P8DkXjAAjcF0hoF+uVrDgc6JevYYiQ8aMcuv3LQLHV40ePVyeL7pb5blnr36ievXA8+WvKzA4M4xAhAgwIRohYMGcE4lpsrfb6e+kpyf8k54JUROa3polZQHeW2Q4dkaAEUgqCKAPKV3qZXlu43ErSc8/X1hMmvyu9c4aRsAPCOCc2lIli6kz8MK5TMkPeeI0xiKQlOWp5fLSld693gooqrnvLRTZs+cMMOMXRoARYASSAgI4g/KNN14NemM6pRGy4ISJU4wX3pIbfjICNxoCTIi6VOJEYpqCs9vp76SnJ/yTnglRE5remiVlAd5bZDh2RoARSCoIbJMXVDVt0iAgOSNGjhWvvFIywIxfGIGkjgBWOk+aOE5dBrJmzcYEv3AgqeNxPaUvKctTdV+vLb799msLblyOtfz9VdY7axgBRoARSGoI4BLB2bNniDmzZ1oXQlIaU8kLDVu0aKNWhvrlUkZKOz8ZgYRGgAlRlxAmEtMUnN1Ofyc9PeGf9EyImtD01iwpC/DeIsOxMwKMQFJB4PjxX+Tq0BMBycmZM1fIG2YDHPMLI8AIMAIJjEBSlacgg+/cuSMg9w888EBYN8MHeOIXRoARYAQ8QuDMmT/FkSOHJacgRHp5i3jq1Gk8SglHywgkfQSYEHWpjIjENAVnt9PfSU9P+Cc9E6ImNL01S6oCvLeocOyMACPACDACjAAjwAiEjwDLU+FjxS4ZAUaAEWAEGAFGIGEQYELUJVyJxDQFZ7fT30lPT/gnPROiJjS9NWMB3lv8OXZGgBFgBBgBRoAR8D8CLE/5vww5B4wAI8AIMAKMgN8RYELUpRIkEtMUnN1Ofyc9PeGf9EyImtD01owFeG/x59gZAUaAEWAEGAFGwP8IsDzl/zLkHDACjAAjwAgwAn5HgAlRl0qQSExTcHY7/Z309IR/0jMhakLTWzMW4L3Fn2NnBBgBRoARYAQYAf8jwPKU/8uQc8AIMAKMACPACPgdASZEXSpBIjFNwdnt9HfS0xP+Sc+EqAlNb81YgPcWf46dEWAEGAFGgBFgBPyPAMtT/i9DzgEjwAgwAowAI+B3BJgQdakEicQ0BWe3099JT0/4Jz0ToiY0vTVjAd5b/Dl2RoARYAQYAUaAEfA/AixP+b8MOQeMACPACDACjIDfEWBC1KUSJBLTFJzdTn8nPT3hn/RMiJrQ9NaMBXhv8efYGQFGgBFgBBgBRsD/CLA85f8y5BwwAowAI8AIMAJ+R4AJUZdKkEhMU3B2O/2d9PSEf9IzIWpC01szFuC9xZ9jZwQYAUaAEWAEGAH/I8DylP/LkHPACDACjAAjwAj4HQEmRF0qQSIxTcHZ7fR30tMT/knPhKgJTW/NWID3Fn+OnRFgBBgBRoARYAT8jwDLU/4vQ84BI8AIMAKMACPgdwSYEHWpBInENAVnt9PfSU9P+Cc9E6ImNL01YwHeW/w5dkaAEWAEGAFGgBHwPwIsT/m/DDkHjAAjwAgwAoyA3xFgQtSlEiQS0xSc3U5/Jz094Z/0TIia0PTWjAV4b/Hn2BkBRoARYAQYAUbA/wiwPOX/MuQcMAKMACPACDACfkeACVGXSpBITFNwdjv9nfT0hH/SMyFqQtNbMxbgvcWfY2cEGAFGgBFgBBgB/yPA8pT/y5BzwAgwAowAI8AI+B0BJkRdKkEiMU3B2e30d9LTE/5Jz4SoCU1vzViA9xZ/jp0RYAQYAUaAEWAE/I8Ay1P+L0POASPACDACjAAj4HcEmBB1qQSJxDQFZ7fT30lPT/gnPROiJjS9NWMB3lv8OXZGgBFgBBgBRoAR8D8CLE/5vww5B4wAI8AIMAKMgN8RYELUpRIkEtMUnN1Ofyc9PeGf9EyImtD01owFeG/x59gZAUaAEWAEGAFGwP8IsDzl/zLkHDACjAAjwAgwAn5HgAlRl0qQSExTcHY7/Z309IR/0jMhakLTWzMW4L3Fn2NnBBgBRoARYAQYAf8jwPKU/8uQc8AIMAKMACPACPgdASZEXSpBIjFNwdnt9HfS0xP+Sc+EqAlNb81YgPcWf46dEWAEGAFGgBFgBPyPAMtT/i9DzgEjwAgwAowAI+B3BJgQdakEicQ0BWe3099JT0/4Jz0ToiY0vTVjAd5b/Dl2RoARYAQYAUaAEfA/AixP+b8MOQeMACPACDACjIDfEWBC1KUSJBLTFJzdTn8nPT3hn/RMiJrQ9NaMBXhv8efYGQFGgBFgBBgBRsD/CLA85f8y5BwwAowAI8AIMAJ+R4AJUZdKkEhMU3B2O/2d9PSEf9IzIWpC01szFuC9xZ9jZwQYAUaAEWAEGAH/I8DylP/LkHPACDACjAAjwAj4HQEmRF0qQSIxTcHZ7fR30tMT/knPhKgJTW/NWID3Fn+OnRFgBBgBRoARYAT8jwDLU/4vQ84BI8AIMAKMACPgdwSYEHWpBInENAVnt9PfSU9P+Cc9E6ImNL01YwHeW/w5dkaAEWAEGAFGgBHwPwIsT/m/DDkHjAAjwAgwAoyA3xFgQtSlEiQS0xSc3U5/Jz094Z/0TIia0PTWjAV4b/Hn2BkBRoARYAQYAUbA/wiwPOX/MuQcMAKMACPACDACfkeACVGXSpBITFNwdjv9nfT0hH/SMyFqQtNbMxbgvcWfY2cEGAFGgBFgBBgB/yPA8pT/y5BzwAgwAowAI8AI+B0BJkRdKkEiMU3B2e30d9LTE/5Jz4SoCU1vzViA9xZ/jp0RYAQYAUaAEWAE/I8Ay1P+L0POASPACDACjAAj4HcEmBB1qQSJxDQFZ7fT30lPT/gnPROiJjS9NfNagF+0aIHYv3+vuPfeVKJt2w7egsGxR4zAqVOnxJIlC5W/QoWeFzlz5oo4jK1bNotP13ys/HXq1E2kSJEi4jASy8PQoYPEpUsXZT5zi0qVqiRWtDd8PAmJ+47tX4pVqz9UGHfs2FXcdddd1x3ep0+fFp9v+kz8/PNP4s8zfwbk7+GH04qmTd8MMOMXdxDwU9vmTo5v7FC8lqcSsp28sUvW/dxz2+A+pvGF6Ia8Gl8cbM8I2BEYOLCv+N///ify5SsgypYtH2D90eqV4sdjP4pbb71VNGrUNMDOby9uyNIrViwT33zztUie/E7RpctbfoMgSaWXCVGXioNITFNwdjv9nfT0hH/SMyFqQtNbs4QQ4Nu3ayX27dsrMmXKLEaPmRAyg+3btxZr13wi0j7yqPj443Uh3Sak5dWrV0WZ0sVVFLVqvSrqN2iUkNFdN2Hv379P1KoZSwy2b99Z1KvfMOK8zZwxTYwcOVT5+2zjVpE6dZqIw4jWQ6Tl/mLhguLs2TOioiRD+/cfFG207C9CBBIS9/nz54pBb/dXKVq/YYu47777Ikyde84jaTvDjRUTFsOHDVFEvslPRtlOL1q03GTFZg4R8LJtc5h09h4FAm7LU37tnyJNdxRQ+94Ltw2JX4RuyKuJn2qO0e8I5M+XU1y5clnUrFlHdO/ROyA7rVo2Exs3bhB33JFcbN/xbYCdGy8JIVMGS5cbsnSvnm+J999fKlKmvEds3rI9WFRsHgYCTIiGAVI4TojENLm12+nvpKcn/JOeCVETmt6auS3AIzd1X68tvv32a5E9R04xd27s6sFguUwqhOi///4rcufKopLZsGET0YZXqwYrsgBzNwRMLwcGkZZ7QhJzAcDySwACCYm7G0JcQGIdvETSdoYTzcGDB0TNGlXEv//+TznHrHvuPHnFbbfdZnl/7NHHRMdOXa131riHgJdtm3u54JDCRcBtecqv/VOk6Q4X3+vJHbcNiV+absiriZ9qjtHvCHhJiLotU4YqCzdkaSZEQyEcmR0TopHhFdQ1kZgmB3Y7/Z309IR/0jMhakLTWzO3BXjkJpIGmAlRb8vfaexuCJheDgwiHbglJDHntCyuZ/8JibsbQpxb2EfSdoYT58gRQ8XMmdOU0yZyWzy2ZN1xxx3heGU3LiDgZdvmQvI5iAgRcFue8mv/FGm6I4T5unDObUPiF6Mb8mrip5pj9DsCTIiGX4JMiIaPVXwumRCND6Ew7YnENDm32+nvpKcn/JOeCVETmt6auS3AIzeRDOqZEPW2/J3GfurUSbnddoEK5rnnXhC5cuWOOEgvBwaRDtwSkpiLGLgbyENC4n49E6KtWzUXn322XiS75RaxQR4HcO+9995Atcb7rHrZtnmf+xsvBW7LU37tnyJN941XU4TgtiHxS90NeTXxU80x+h2BUIToqlUfih9/PKrOEG3SpLnrWY1kPO40cjdkaSZEnZbCNf9MiF7DwpGOSExTIHY7/Z309IR/0jMhakLTWzO3BXjkJpIGmAlRb8s/KcTu5cAg0oFbQhJzSaEskmoaEhJ3N4Q4t3CLpO0MJ04KL3PmrGLBwqXheGE3LiLgZdvmYjY4qDARcFue8mv/FGm6w4T3unLGbcN1VZycGUYgKAKhCNGgnlyyIBkwnCPsnEbphizNhKjTUrjmnwnRa1g40hGJaQrEbqe/k56e8E96JkRNaHpr5rYAj9xE0gAHI0T/+uu8uOmmm6O68fn8+fPqjLxItoYmtACPb+DXX0/IG9TvEvfcc0+iFPrly5fFhQsXxP33358o8YUTyaVLl8T58+fEQw89bDmPdGCAPOFio0fkRVw33XSTFU40mkjLPRgx98cfp9Uh4LgpMlLlRTmdkTeNI6133XV3pMl1xT1WaqRJk0bcfHOysMJLCNwp4mBCHOrq6VOnxKOPPRp2OinMaJ+RtJ3hxOEkPCd1BN/ViePH5WV5j4hb5OrUxFJo+0+cOK76jfvvf0DcfvvtEUXtpG1xo22LKLHsOMkh4LY8lRT6pz///EPKLPeKZMnCa6tRKJGmO9KCpPblwYcelN944hwB4qQ9TAptA2EWTZuM29kha3l54WCoOvLPP/8I/O66665QziK2g2x29uxZ8fDD1+TViANx6AG3k/964kSi96UOk215d1o2VG8T61vHWO348V9EqlSp5XgthZWPcDWQP9KkuS9A9nCTED19+rRKSrjfohMZ8P/+7/8E2j3kJxzlhiwdKSGa1NumcHBLKDdMiLqELJGYpuDsdvo76ekJ/6RnQtSEprdmbgjw69atEePHjbYygs7kypUr6qy6RyRppatnnnlWDB02yjKyE6Lr1n4qRo0aLn766ZgSwNKmfUSUKVteNG/eMuTA+u+/r4hRI4eLzZs3WX6feSaD6NK1u8iePbu8Cb2qihM3yNesVUfpx44ZKbeRXrvZ/vDhQ8o8VapUcW46r1S5qnjjjQZWukNp3qhbR5F+JUuVEfXqNRRT3pko5s2ba93y/PjjT4hK8pbyhvI8PxOh99OxY6JNmzdVFK3btBfPP19YLFu2WHz80SpJqv4qQBZD5c2bX4wdN0np6Q84jBkzSmzd8rnahoEODZ1ZlixZRdt2HcXTTz9DTtVTL7u6deuLylWqBdjrL507tRO4pOUxmf6xYycqqxNSUGvxZmOlb/5mK1GiRCndi6VfvHihmD9vjjhy5LBAmh6VF7m89FJR0b5DZ/He3Nnx3jIPoXD8+DFivaxrqBtoUyD8Zs6STXSUYeCm7HCVk3LXibl+/d4WU6ZMErNnzVBlcsstt4onn0wvz2lsIkqXKRcyOZGWEwW2evVKMVXGCTVl6gxZf26W+M0S27ZtFb///ptAuFBNmrwp6tVvqPT0h7LCmZK7dn2j3KLuoRzy5Ssg2rXvZCTqIczWrFFZBRHqG+jdq7vYvftb8WyGjGLIkBEUZcATgtzQIQPF9u1fCgyy7747pShY6DnRokVrVZZNm8R+X9g2ZMfPLdwDEvTfi12I++WXn1U69+3bq+rZnXemEDnkBXFdu/VQ5WsPwwlG+veHcCNpO+3pwHsk4eFbxzevq2jqiO5/42cbZL2cJH74/js1QL311tsE2vyKlSqL2rVf050q/TdffyX69eul9D179RW5c+eN4wYGVatUkO3GVVG1ag3x2utvBLhB27BkyUIxY/q74rfffrXsUL/z5S8oXnutrihSpJhlbtc4bVuctm329PC7fxFwQ55KCv0TBvXDhg6Sl2N+IzDZh++4YMFC4q3uvZQMMnBAH1VI/QcMFlmzZlN6J+lWARj+dFmoQ8cuSn4ZNmywWL9+rbj677/qKJBnn82g5MNg33hi95l6NqJtG9xoFykdkbbJ5I/66507d4jTp08pY0wy5ctfQHTp8pYijMhtOE8n/SSFP1TWyW1bN4sHHnhQvDNluurvPvzgfSX/XL58SZKGj4pSUu5+U8qi+sWB5D9cefX995eJObNnSnn1kLh69aqafCd5FfVp1n/ncs+cNS9AbnKz3FasWCbee2+OOHTwoLoUEd/g0888I+rJcYhdPqL8RftMCmXj9be+d89uNfbEObMXL15QY7PHn0gnSpYsrdqXUBNCJ0/+Lt4e2E/gW8GCD0zE5sqVR47xmogCBQqJUIQoxrub5C3zIGCnz5hjLMILFy6I4bLd2yLHdZDzofANZM+eQ16I2U2kTZvW8heJDGgfj1Mg27/8QkyePEEAi0uXLqqFPBiztmrdTixeNF/eAr9MOV3+/iryop5OZWkEEg4h6nbbFJCJ6+iFCVGXCpNITFNwdjv9nfT0hH/SMyFqQtNbMzcEeDSOvXp2CysjEJ7nzV9iudUJ0b59B4hmTRsqAcRy8J8mW7bssrOYGzDrRm4gvLdu9aY4cOB7MrKe6MSGDB0pSbM2ygzEKog7qB7du4gPpDAVjqpXv5FoL0mjcBSRN1WqVFerlb74YqvR2/MvvCiGSXLYPqt96NBBUaVyLKHWf8AgsfnzTeKTTz6KE0YBOUCZOnWmZX706BHRQebzkCQtTQorZrt16xlAeqKjfblYYQFh8tlnM4olS1eYvAoIK+XKlVB2IGlxOQuUbt6rdz9RrVpNZU5/IBt6yrqxWp6TY1KvSAI1c+YsYszoWBLts41b45DREADat2sl9kiBxaQg+IKsssdtcgszJ+VOZVtRCgcg6ydNHGeMpk6d11WaTJbRlBOFowscixa/LzpJkvqYPH/Irlq2aitJ0WvnEWFQ1F3WdwhrJvXww2nFsOGjpICVM8AaBGu+vDmUWahvoFGjemL7l9tEsG05GFijDGlgpUfy4IMPyW90hBT0X1XGGHRj4kJXbuCuh6frdUwHDhwievfuYd3KrrsDMTpw4GDxcvHY74DsnGDkpO2k+PVnJOHVb9BYtJOTJKSirSPwj0mOcWNHienTp1r9PYVLz+KvlFRkub6KGhNYbzaPnVCZMHGKKFz4JXIe8MyZI5OKo2HDJqJN2w6WHWQLTNSY2kfLkdSgzUfbb1dO2hY32jZ7evjd3wi4IU953T99Kdvxjh3ainPnzsYpjDRp7hPNmrWQ7WBfZTdt+hw5oZZf6Z2kO05E/xnoslAHOfE5V06eEiGg+8HkB9oGyCZ2pbfvidFnIn6nbYPTdhFpiLZNht+vvtohOnVsZ+yvYf/Agw+K4cPHiJw5c+E1LOWkn6QI9PFC587dRLu2LY39TQY5MTt7zgKRPHly8qqe8cmr/0qSvW/fnmLFf4RPgGf5gj4MiwuCyatulBvIyQH9+0jSaak9euu9arUaokePPhGt2rY8GzRJoWy8/NYXLHhPTgANlt/tPwZ0hKznucWIkWONu+12yAn+jh3byJWUZ+L4veOO5GLquzNFYykfX7lyWdSsWUd079E7wF3Xrh3V+AiTDevWfx5gh5eDcjyHeo6FICaVMuU9YviI0XLC6jllHYkMaB+PIwCQ/aPleAwTAXaVJ08+tfgEizCgdu/5IcCJ3tZGI0sjsPgI0YRomwIycR29MCHqUmESiWkKzm6nv5OenvBPeiZETWh6a+aGAI8GG6QdqYUL5ykiECSLndi4T27fLl++IjmVJGNrsXbNJ2q7cbJkN4t06dKLKlWriYcfSisOHT4opr07RWB7LVRrOTvVqHEzyy9psLJs27Yt6hWzcpjJelBuyd67d7daNQRSlIggnRDdtOkzcfhQ7KrQq3L1EVY4QGHF3AuSrNRVVknIkuCvm5v0RN6A6AThmDtPXlGjRm3x+GOPix8kaYuVTNS5YYVWx05dA4LRBQOQlCB6sWUNKyEwK3hH8tgtYliNSCu8IMhVliQqkWPlylUURYu9LO6RnSVW7k2bNlXNeiKiWXJWO1fuPFacEACXLlmk3ucvWKoEPsvyPw0EwGnTpqgVGWvWbLS2TsUnYKJzHSFXJUJhMNWkaXMV/u+//y4ws48LX1KnTqNWDMKNiRBtLgmTLZI4SZHiLjngaSeKS0IKqwv379+rZk337t0jtzTfLBYuWi4gCMennJQ7le1jsiyPy5XQ5cpVEC/J1Wd3Jr9TfP3NV+qiBBKqZs2eH+eSKSflhHzpAgfVjbSSmEVdwLdF25OLFn1ZvPhiEQUFygh1A+nCKgOsHIVg888/f6sZ54UL5il3WBm9ctWnCltlIP/cEJSxWhxk+klZ5lBFixUXZeQKWhwdsWPHdvU94LIfIktDEaLR4q4iDvKnY4pvFoPZxpJMziO/W2yZA1GINg0quSxnYKQfQ+EEIydtpyk7kYSXLXsOuco8nwrGSR1BAMuXLZFEcncVFlYdN5btNFazfLd/v1jxwXKxZ/cuZae3vzBwOoBcu+ZT2YfETnAVk/WqVu1XRbZsOVR7sm/fXjFarr7AhBmU6Xt00ra40baphPHfdYOAG/KUl/0T5JWyZYpbg3vIEUWKFlPHq2zdslleoDhf9Q8kT+mEqJN0B6sAuixE8lSlSlXlpNQrIqWUAdDnTnlnkprQRRjjxk2W/XHRgOD09j0x+kxE7rRtcNouIg3RtskXL16UdeAV1Yaiv+3c+S0pw+aRBGuMWp2JVZroqzGRuXLVJ3KRQqw8ijhDKSf9JIVL4wXIghhXZpI7g6rInQ5Iy5Gjh9V4gQhz9OGt5MSwruKTV7FbaYjcxQIFuRTyKkijUydPig8/XKFWJoeSV90ot+lyUhH9FhQm1vF7SG7Z/+WXn+XuoMli1aoPlB0WAcDODZUUysarbx3jo9dejV3IAVIRkyrPSNkFRyVgjDJp0gQlO2PcMXJU4AIIHIVRrmwJS3bFyl2sUMZqT+zEekfuDkwmj4W6IFecYkV7pIQoZNFKFcuIn3/+SRUzxpFo+0BWfvnFNjUe+EcS6JDdV6z4SNwrn5HIgPbxOBYu1H29looLC02wKxJjRZC9WNSyZcvnaqxO7X8oQjQaWRoRhyJEE6ptUhm+Dv9uNEIUnUKCKDm7GBPsJz/GGP0nB/kx9JMfcAx+8iO1fn///XcMfps2bYj55++L/EtCGAx6u4/r5VGrRoWYjM8+GlOjerl4w27ZoqFyC/eNG74ac+Xy+QA/J44fi8mbJ5NykydXxjj2mzauCfB/8cLZAP97dn8VkztnBsvNmFGDA+ypPl66eM5yM2xIP6Mbchvfs2D+bFZYzZvVi0HYup+Tvx+PKVe2mHKTLUv6mCOHvw+w37/vW8s/cBkxfGDM+XN/BLjRw4N+6jtjLT8Tx4+I43bvnq9jgB/Cq1yppMTxL8vNrm93WH579ehkmVMcly+djyn8fG7lpkXz+gH2hw7st/zOe296gB3ymS9PZmUP/z8ePRhg//eVCzG9e3W2/CNtv/36U4CbjZ99atl/+MGSADuk74/Tv8YUeTGfcvNG3epx7CkPwZ6RlrtetpMmjooT3/p1H1npbdSwThx7J+WEPMya+Y4Vfvas6WNWfrg0BjgGyx/MmzR6TfnJkjldzLatn8Vxu3jRHCvMAf17BNj/df4Py27woOBtRd3Xqyt3pm9+/LjhVhj9+74VJ734hjNnfNxyM3vWlIA0IA9OcQ+Fj45p1sxPxuzcsSVO/O/NnW6l762u7QLs3cCI0hdJ20l+Qj3DDc9JHTnz58mY5wvlVPgUL1Yo5tcTxwLwwTeGdgPfd45sT8X8+cdvlr3+vaxbu9oyt+eJ6oe9bUZ9Rbi5cjwbc/rUr3H8nzp5ImbCuBExaPc//eTDAHsnbYsbbZs9j/zuf9nQbXkqsfsnyBr4nvBDu22vkwvnz7Ls4WbLZrNMH2m67fHQu10WmjJ5bJw07ZbyS87sT6t0lS75YgzkFfKPp96+J0af6Ubb4LRddNImjxg2QGEJufnwoe8CsASeX+3cGpMl0xNB64iOva53o5/UxwtvStlal2MR18nffrFkBfQ1qId6GkLJq+g/CuTLqvIVK68eCPCLcPr16abs6Ruxy6tOyw3pz5s7Vk7v3bNznPiRhmZN6qo0QCaC/KvnL1p9Uigbr751kpEqli8eYx8/As+pU8ZZZf7ltk0BeI8c8bZlN3xo/wA7+P3h+z0x+fNmsdyYyrR9u+bKHnXOXn7vTBpj+TW1fZBVIbOiPtplIwqL8meSzckNPevUqqjCwve9dUvgWAHfWudOraz0IE7yR0+9rY1GlkY4XTu3UXEANwqXngnVNlH419sTnBvxbzonRzwd8XZ46pwe9MH4P5gnVcWEqPyArrdKnJj5cVuAR9ojaYB1AWf3rp3GshwqCUoSQOzkYbu2zZRdpgyPxXy3f5fR/6CBvSz/iUmIgoA6euQHY5rWfLLyWppGDwlwowsGIJrCqQ8vPJdLhQdCwj4gIP/oMAnHzZvWBYRbtXJpZQfyGcIR+cFTTysEPt0ulIC5YN5MK74Z0ycH+KMw/vzjd0sIRdrsAiaEXpgjX+TH/pw4YaQVz49H4wqxdvf6e6QDNyLmniuYI+bCX2eMaaperaxKD4haPS7onZaTLnCMHTM0Tvj2+A78sNfCpnPHlkHdQ1gCzhBi9Hy5ISgTYV2oYPaYc2dPG9PQtnUTK52hCNFocbfjor/rmHZ/q70xfXCPiQTCSP/G3MCI0hNJ20l+Qj3DCc9pHZk7Z5pVdiDXTekBSbBh3cfqB5KS3DgdQA4Z3NeK+5uvv7TCpfBDPZ20LW60baHSxnb+lOvclqcSu3+iic+XCueNQyZRnaxSqZT1zSUmIVqyROE4E+KUprcH9LTSZB/I6+17YvSZbrQNTttFJ20yTWJ369I2aHvaoF4thXexIgWCuqGyoacb/aQ+Xggm748eOciqC+jbKH48Q8mrOtkfTF4F0UwyoEledVpuM6ZNstJ+7MdDAWmnfOzYvsVyE6y/JbfhPpNC2ejjnsT61rFgBuWI39Il84x4gySlxSQgBHVMXyycR/lFu/nX+T8D7MgdJmQpjkgJUZpofuXl54K2fZiggGz19c5txvjDkQGR1oMH9lnpbNOqsTEsjM9o8gl5ojzSU29ro5GlEU4oQjSh2iZK//X2vNEI0ZvA1CbESt9Qwdrt9HfS0xNpIz1vmU+IknIWphtbvOwpiORWO9oCgwtpdn61W219toeHy4Q6d449G2ry5GniuedfsJzUqV1Nbo3fI7c4ZBBLl8VuJbEs/9N8991+62IY+5ZNcitnSETuXFnUq/2cOnIT7pO2VWNb8oyZc4N6e65QHrWlvmzZCmLQ4GGWO33riP0sSMuRpjl37pwo/ELsOV4429N0jhac6+F2e6tnwCUn+vaqgW8PDTjWoE2bFmLD+rXyps204qOP1wWUUagtSDgsfIbc/gO1adMXajuHerH94YxROrPJvmUe20WOHDksnkj3pHjh+cI2n7Gv2CK1du2n6mXyO9PFc889b3RnMoy03Kls7ee36mH379dbLF68QB3Kvn3HLuvcWzfKSd/+Zz/6QE8D6XFJWTt5didUKGz0cJctX2ldvuV0KxX840B59AHY7tOjZx+VFvvf559vlJdzNVHGobbMR4O7PS77u553fQuo3d3s2TPUEQ0wx7Z5XI4G5RQjFch/f5G0nbq/YPpwwnNaRwYPGiAvjZuj2gXUd2y1Clc53WK4ZfPn8mzQRio6nPH64osviUKFnleXYDyRLp3aShksLU7aFjfatmDpYnP/IuC2PJWY/ROOBymQP/YMaWzFxZZck9LbwWDtZaTpNsUDM11mCSa7wZ0u4/XpM0Aeu1Qdxkrp7Xti9JlutA1O28Vo22RcdljkpdizCPPnL6guxCMc9Se2GeNM95vlUUVfbv/WknF0N3a9G/0kjRdwaQ36Gpwda1dr5BFcHeRRXFDjJ7xjHR2E91DyKs5NnD5tCpyFlFdpSy/c2eVVp+U2cEBfdTwPzp6sqtVhxEVKrtASOPMSMlUoeZ/ch/NMCmXjxbeOs8c7dYw9VgFHueE8TpNas/YTdeRTjhy5xJy5C5QTHAWVP1/s+fo4quett2Ivh7T7x0VepUrGHuMRyZZ5fbyAI4hwoVE0KhwZEOHqMvgoeTSA/ax8irt1q+YCR51BhdoyH6xvgD+9D9FladjR94Wy2LxlO4yUSsi2ieK43p432pZ5JkSvtxqcyPlxW4BH8sNtgOGWBJyH5Jmfn675DEZxFG7ua1D/NWU+bPhodesfOSr8QgF1+H8ReWYi3XxOdvQ8f/68JNNiz8oLJlS7JcAjTiLNcNZVv/5vUzLiPGtUryS+l7cx48Ko9+Yttux1wQCXKlWsWMWyM2n0c1/69h0YcGmS7j5UBw67YsVeEBf++kvdXk+3Hf4hb5gtXvwldf6N6WKSUAImDgLHjYc4S2brtq/0pATocS7SuHGjlJkuYELww4U+dCZngKcgLyYyLYhTZRxpuVPZQngCcWxSkyaNty5b0vPjRjnpg7uPP1mvLnYypYHM3p06WX4XsdiuWr1G4Ewwk9IFeRwe/8orJZUzp4IyzjOqWqW8Cgu3BONMIpP6UV4MVaF8KWVlKkMnuJvi0810TNEGoS0yqQ0b1ok2rd9UVhMnTbXOGXaKkR5XJG2n7i+YPpzwnNYROsMZ57itWbsxWFKM5nq9i+ZSJQQ66O3+6iwtUwRp5fm6OLMW7X7KlCktJ07bFqdtm5UQ1lxXCLgtTyVm/6S31Z3khTWvv17PWDbo01H/oYINeiNNtzEiaajLQriko3yFSkanFy78JZ4rlFfZ2S+L09v3xOgz3WgbnLaL0bbJ33zztXijbm0jxsEMl8sJ1KeefiaYtWXuRj9J4wW06yhLk/r6653WBY328UIoeRWXPmJiPVp5FWlxWm5NGtcXwS5hNeUVl5KOGDHGZBWRWVIoGy++dX3sEQ5gOKtzo1zcAXXgwA+iWtUKSh+qvdRljUgI0XDHCyoBIf7CkQHhHZPamEiBWrRoubo8Sb3Y/oYMHijee2+2Mg1FiEYjSyPQYIRoQrZNtixeN69MiLpUlLSq0xSc3U5/Jz094Z/0vELUhKa3Zm4L8MhNuA0w3FoCziOPio/l6kOT+ubrrySRUkdZ2QUcrD7D7X0lSpRWN+2Z/OtEYGISotWr1xI9e/U1JUmZ0erWjBkzCdx+SkoXDAYMGCwqVKxMVsYnLqZp2OB1ZWdf3al7wAHd+fJmV7ePYgUFVlLoiogFzLpj1g7k2cwZ08TIkUPVbZYQQEF66CqUgNmqZTOxceMGce+9qcSmz2OFCN0v6XHJ1KhRsStkdQIRg6p8cgYWh5FjtS0uiYpPYQY3R47YVS7xuYV9pAM3IuZwy3z//oOMUUyZMkmMHzda2en5caOcAgd3GyQhmtaYBjKcNHGcPBR+vHoNJaBACIcwDjVo8HBRtmwsielUUMbFNrVrVVXh2lclK8P//nDxTamSxdRbKEI0Gtz1eEx6HdP1G7ZYF4bZ3eoz6GPGThRF5SQMlFOM9HgiaTt1f8H04YTntI40qP+62Llzu1qViRXkkSinA0iKa+vWLWrVzLdyQH/27Bkytp64wXXR4uXqYjcYOm1bnLZtVsJYc10h4LY8lZj9E3baQCaB6t69t6hZK1bmsheQ3g4mJiE6dOhIUap0WXty1Lsu470miVzcQE5Kb98//iTh+0w32gan7WK0bbIuo2BCHxfjxadKliwdRy40+XGjn3Q6XkhIeRV5dqvcHnjwQevCVBOWZAZ5HPg7VUmhbPRxjxffOi7tvU2uPI5P0UW2+/fvE7Vqxi5WCSXbIjwap0ZCiOrfYqjJoHjT+3pt8e23X4vsclw0d+7CoM5prAcHy99fJZ566mmj25Ejh8lx4bvKLhQhGo0sjUCDEaI6Hm63TcaMXgeGNxohCrIxQZSc1Qh6qOpVvlQpztkZfj17wu0zr4BDuGeWwC2dCVSsaMGgmOIgazqDxX6xTvmyLyu76lXLBPX/nXZJUWKeIVqvbo2gaULe6Syi1i0Dz2vRz9JZsmhuyDAQzvFffrTwCXVGln5+Eg4Kh1/9p8eLw6thV6rEiypsXLqiuyW9Hqb9UiW68ARlp1+kQn7p2aN7Byv99jNE44ufwoj2Ge0ZbV06tzbigXTolwjp+XGjnPQzeuyXVJkwWLF8oYXtNsOFSuRn/rwZlrtvv9lu5Q344HxelCEuRCL39id983VqVwpwg0P/6dsdOKBHgJ0eBs60JXehzhCNBnc9HpNex3T7l5uDplF3p59f5hQjPU2EYzgH4Ov+gunDCc9pHenZvaMqO5yZbL8UL1i6yFy/FO+j1e8bsccZXlQHR8nz4civ6YkLxnAR39dffRGD89go/6hb9rrjpG1xo20zpZ/NAvskv+HhtjyVmP0TzvalNhhn8wbDHu0zuUvMM0RxFl+wNOmyy5xZUwPc6e12YvSZbrQNTtvFaNtktJ1UtrgAMhje0Zi70U86HS+Eklchn1DecbZ9sDyGklfdKjecWRnfZZnB0heNeVIoG/0bTqxv/YP3F1llHukZ5BjTUH3BNx8Md13uj+QMUf1bHGO7ZyJYXCZzkoHikyk/WrXcyo/9rgg93FYtG1nudHPo9bY2GlkaYQQ7Q1THw+22yZ6P6+X9RjtDlAlR+QFdL5XXi3y4LcAjD6/VqaIazDKlXoq3bJwKOHQxBm6UtN9uTHjqtwQGI0Rxgx7dZGzqtCiscJ5EdOLmY50Q0/3qJC+Rj2SvCwbhEKLwh8uQ0DlXq1I6KObvTh1vdWRr16wyuqNbBl98IY+6kZw6/E8+/sDoPpSAiYEJ+Q91YHnRl/Jb7ux4Nf/vUiXcOBhKSCXsIn1GWu5UtnZyRY83GCHqRjnpAkc4gzvcwEtlEOqWeLq5FMTT2TOnAsoaFycgjEYN6wSYU54huOPCJLh5q1vgDexwU6hANmWHG4Dtt8JSGPog0ktCNNhNnUjnG3Wrq3ygndAvnoKdU4wIh0jaTvIT6hmOMOy0jkx/d6LCBeUfrF0BqfnTsUPq95d2+QAuQaP6iRtVTXnRJ7SWL1tgdGPyBzPUN2pfSr7yQoBfJ22LG21bsDSzuX9lOrflqcTun+jSikoVSwR8K3qdpL4C320wQjTSdOvh63pdFgol2+h97sbPPg1Ie2L3mW60DU7bRSdtMsmS6O/0snBD77SfdDpeCCWvzp39rtUXBetn0I9Rf4L6b5dX3Sw3+43mbuAfKgyvy8aTb11e5EvyB9qQUPiY7EjuhWwRbDJYv+DMNLYMdcs8fYu49NYUP8x+/+1nJVcFG/+GK1PqF0wFW7yAy7dwsSlhZk+T3tZGK0sHI0QRF+GREG2TPS/XwzsToi6tF+UVov4VyiP5kN0W4BE3yCI0mNmypI/55ecjQRtyuHUq4CxaOMdqnPv36x4nLqx6oJtTkaZghCjSglWqcFOubDFHs7NEmiEszNTbywNCFRGPIKB2SdJKd6MLBuESovrs9qqVywLCQ9gQ3AgH5FMnJfS4ly2db+GJTh55ADmq36qtuw8lYIKwy541vQoDYZlWiYIEQRz0swuYIFjIbtDAXnHyhbR8tv6TGAzS8AO5o6cvHH0k5U5lGy0h6rScdIEjHEIUZCXdCpw7Z4YYCOx2TLBylDDGbe92+4YN6ih7rAD8/rvdcexx0yn5R/rs/vUVFfZVxHB7+NB3ATdXekmIYmWGCdd1a1dbeQSRZs+jU4wovEjaTvIT6hkOIeq0jmAFBOoW6gAEd1PbgltLYQ8y+fgvRy38EHfO7M8ou+LFCsUhmpE33OxK9Qtto55fDCZw43HH9i1isBpZtyM9Edm4EZbM8HTStrjRtulpYf31IW8lhDyVmP1T544trW/t449WBHwvqKP6Ddf4JoMRonAbSbqD1X9dFkJ8WNFldwsZExOmsIescu7s6QA3id1nutE2OG0XnbTJg9/ubdWBNZ+uDMCSsMciA8hbLd9sYGzvyZ396bSfdDpeCCWv4lZ3LKxAPcLuAdMEfHzyqtNywyo4utG8ZvXyMVi5acfw6JEfYrBKD/jbFxrUrllRjbsw9jLtArOHpb97XTZefeuYaEGZ582d0TheBQnYq0cnhbd9UQHM4Rc/EOo6ntCf/P14TJEX81luIiVEMeah8FevXB4nfOzmolvfkRZ7/HgPV6ZEXcNt9ogP8tzPPx2OE96kiaOs9MCdPT69rY1Wlg5FiCZk22TPy/XwfqMRonyp0nVwzoOXWXD7zCvkZdHC+WLAgD5SJ9Q5lJWrVFNnDCVLlkzce8+9AbfEOz0T6P/+76o82LqiOnwf8eF21Oo1aqmLUfbu3S3eHthPHD/+i/jnn39grS7XwOVAJoXbBnHrIFT+/AXVGYGpUqdW7+nTPyVw1mc4is6ZvFnewIkDtSvIiwBwrtUTT6RTlyiNGTNCfP3VThUU7AbIywJ0pZ+lE84ZovCLSwXKli0hzvz5p0h2yy2idat2okjRYuoikd27d4khQ94WJyQOUPqlOcpA+wNOxV9+MeAcvsZNmotWrdpqrq5pQ53JBFf6zZ1Py4P3u3TtLrJmzS5wM/z77y9TZ9Hccccd8hzYKypQ/cxNiqV5s0Ziy5bP1SvOPkUZ44bvo0ePiC+2bZUXMo2WZwL+T+GLs29ukfmPREVS7lS20Z5l6bScIj0PDTjoh5GnSXOf6NLlLZE7T1559uXfYuuWzfJQ/iEKf5TDig8+Fg8/HHipENw0a9ZQQZo6dRrRomUbkS1rNnFF+seZWdOnTVX4P/xwWnX20J133hkAPy7mKle2pLh48YK6lRbfX5ky5dSNnjt3fCnPYu2j6hu+FSgvzxDFN4s8du/eS51be1nWy/Xr14qRI4aqy71uueVWmceVqq7pmXSKEYUVSdtJfkI9wzlDFP6d1pHp06eK0aOGq6Tkzp1HtGvfWeB7x+3PKz9cIZYti700rmq1GqJ37/4BSR47ZqR49913lFnGTJlFU9nePJHuSXHq1EmxfNkSebb0amVXvHgJMVLefqor/VKEp595VnTq1FVkzpxV3HPPPcr/hvXrrL7I5N9J2+JG26bnhfX+RyAh5KnE7J9wI3KF8iWVvHTbbbfJszjfEi8VKSpuvfVW2QdvVvIULjkkeSrYGaIoyUjSHazkdVkIbfNN8gdZpIS8TObuu1MKXKAzcGBfdQM0wugnz/WuJM/31pUXfaYbbYOTdhH5j7ZNvnDhguyvSwjc6nzrrbeJNm3byws3i4tUqVLHac9xvj1k1HCV037S6XghPnlVx/yZZzKIzl26iSxZsqm+BPLqDNnPARO66NMkr+phRNqfAcdp8qb7MfLGeyicid++fSeRQY49Tp8+Jfbs2a1kEfSN+D4XL1khnnwyvXKLv1frVFduoG/XrpOo36ARtGEpr8vGq299165v5b0XtdRdJw888KDo2rWHyJM3r7h69f/Evn17lHz7zTdfKQztl9ziGylbpoSSbXH3QjN5eWPZMuVFqtSpBMLFvQy//fabHAdeleFdFZGcIYoI8S2WL1dSQIZGvevQsbO85LaEStuXX24TE8aPUWMpyO5Ll31ovDQ1EpkSslbnTrG32eNy0e49egvIc2fOnBEfSjnunckTVL2j9j/UGaLRytLBzhAlPBKqbVIFfJ393WhniDIhep1V4MTOTkII8LgIoGaNKuLgwR/iZCerJFLmzV9imTsVcBAQBvM4yP78+XNWuKRBJwWBrXv3Lsoo2KVKsPzll5/ljdgVxOXLl8i79axXv5ESTCyDEBoizUqVKiP2yosKEK5JQeCa/M40cf/99wdY64JBuIQoAti2bYvszNqLc+fOBoSnv+BA8I6SNAilRgwfImbNmq6cAL/VH61VF6aY/MQnYKJDb/FmE1lGsQKFPQyQT+XKVRCzZ89QViYBE4O0tm3eVGSy3T+933X33XIAMCds0pr84RlJuVPZRkuIIj4n5RTN4A5x4uKqsWNHKqEM73Z1xx3JRb9+A4NeWtG7V3exfPm179bkf8zYCaJQoeftVuodwlSf3j2sgYTdUYOGTaTgOUUZe0mIgvyfKi/FMqlkyZKJjh27ildfq2uyFk4xQqCRtJ3GRNgMwyVE4c1JHcGFbd26dhKffho7oWRLhnrFwHLK1OmKyNDtcaFD7VrVrEkt3Y70INvnvrdQtpUPkJF6gkTv2KGNuh1Yt7hHTrzp7SBuDka/ky7dk7oz4aRtcaNtC0gMv/gegYSQpxK7f0Ifg5uEaYJKLxR8V82atZATrAOVcShCNJJ063Hoel0WwqTy4kXz1USe7ob0uFxmiLx4CQNxXXnRZ7rRNjhpF5F/J20yyBYQIyBCgilMQM2Zs0CkSJEimBOjuZN+0ul4IT559eLFi6JFiybWggV7BrBAonSpsupGbtiZ5FWn5QayqYccr9BEoD0NeEcdx8QiFpvoygkhinC8LBsvv3WMdzCJgQtcg6lg5P/q1SvlRUDdrEkiu3+0lzNnTleX/0ZKiCIsfIsdO7QNkGf0ODBJj8t7K1eOvbxUt4M+EplSbjAWXTq3D1r3smXLLrLIMfyC+e+paEIRotHK0qEIUUSakG2TytR19MeEqEuFiQ8jmLLb6e+kpyfCID3fMh8MUe/ME0KAR24uXbok3p06WeBG0p9//lm+X1SZTAhCFAEfl6sfMSDftesbq75h8FxfEplYlVQgf+zN46EIUYSD267Hjxsj9sjVpcd/+UWtfIN5NIRo9eq15Ox6BzVLuHbtJ5Ygj5ndMnIWEcQPZvbsShcMIiFEEc5vv/2qbunbuXOHlXaYp33kUbUysGjRl/EaUkFoLF++pMIRBNc7U2LJUZOn+ARM+MHMKGa8FyyYp4QCmIFcwircfv3fFh+tXqVusoe5ScCEOVYzYiXjhx+sULOxMIOCMIDb5zGrayeWY12E9x9uubtBiCJF0ZZTtIM7xPnVVztE/3691cpaapNRDhBw+vV7W6RP/xScBVWrVn2oyhFpJ4XVyHnz5hM9e/ZVq3bJ3PTcs2eX+kZ/+umYZY0Z+c5yxWrmzFlEmdLFlXmPHn1EjZq1LTfQuIV7QKD/veiY4mbMrVs+F6PkakfMypN6RH4/ffsOFPkLFCQj49MpRgg03LbTmACbYSSEKLw6rSPz5s1Rqwj0gXTKlPfI9qSiaN+hs1ppZkuiesX3PVX2F+/NnR3wfYOoL1e+gujQoUvIgTcGj2hj0A/YVf4CheRqmY5ypU9Wu5UVd7RtixttmzFRbOhLBBJKnkrs/umLL7YqcuTXX09Y5YD+obu8ff7ylcuiZYumyjwUIQoH4abbisSm0WUh3Dz9jCTh+sk+DHIeEbaYDH2zeSu5C+cNm+/YV719D+eWeT0QJ+2hG22D03YReYm2TT558ndVB7Zv/zJgIvPOO1OoScGmTd9Uq8V0vMLVR9tPJjQhivRjNd+4saMlbnMDFkdgtWafPv3lmGZTWPKqk/4M6ViyZKGYOGGcWhmKdygsUMAOCKzcw1jKrnRCtL3cpVGvfkO7k3jfvSobr791LKzp36+XOHz4kDWGBFgPPPigWm1btmz5oNhhJwwW3Rw6eMByg8UeGG/WrFUnqlvmrYCk5tdffxU9e3RV8hnaFSiQ4mgPe0jZO4e8QT6UilSmBEGM1aCY2IGCnI84hg0bLebIxSszZ05T5qEI0Whl6fgIUUSckG2Tyth18seEqEsFSQNmU3B2O/2d9PSEf9IzIWpC01uzhBLgvcrVhQt/if379on75KrL+AiehEojkTcgRDFzB4XZ+r1yu8utkgzNkCFjUGLArTRhlvmg7Jz/+uu8yJghk7g3VaqIgsZ2D4Tx6KOPxdlCHVFAmmMImocPH1ZbsbJlyyHsW6s1p0G1aEt+/uknceynH0XatI+orcuRbpEPGrgHFk7LKZok4xv57rvv1GAGddFEyocKF3Xqxx+PSn/J1Yo7bKeMREGYgQCJYw9ou5e+ZXvc+MnipZeKRhKk627xvR45clicPnVKPJshQ5yVifFF6BSj+MJPaHundQREyNEjR+TW93SqDYkkvdgO+IucRLv/gQfUN25f8RUqLGxhQ93EAOK+++5TW8jQToSjnLQtbrRt4aSR3SRtBK43eQpt9aFDh9TA28mEY7SlZidJSpUuq4JC+4rdN9jWiVXfIIoSUjlpD91qG5y0i8Am2jYZfeHhQwel3PanSCe3Z+NIHbfwTsr9JMrtiOzDMAGM464gCyPfM2dMi92JihYAAEAASURBVJcQ1eui03I7ffq0OPDD9yKlPAbmqaeeFsmTJ9eDj6NfsWKZJM+6iUGDh8tjtIKTeHE82gwSu2ySyreOVcLff79f8hZC4v2UOirCBk3Q17Nnzyq/1C4FdRilBY4Wg+yMxOE4hvjqQpTRKG+Qh47KY8nQB2C8liJFZCvBKW6nsjSFY3omZNtkis9vZkyIulRiRGKagrPb6e+kpyf8k54JUROa3ppdbwK8t2jGxm4iRJNCujgNjEBSRWDp0kWib5+eKnkffPixGuQm1bRyuhgBRoARMCHA8pQJlejNgpEk0YfIPhkBZwhESog6iy1y32+/3U9taZ43b7HIKrc4+0Xxt+6XkuJ0+gUBJkRdKikiMU3B2e30d9LTE/5Jz4SoCU1vzViAdx9/JkTdx5RD9CcCOL8Il+1clWc9ppaXMuCQf/uKXmwBqlSprDgmV/alkiuZ163fHMeNP3PPqWYEGIEbCQGWp9wtbSZJ3MWTQ3OOQFInROvUrqZWT2/ZuiPOed3Oc59wIfC3nnDYcsg3JgJMiLpU7kRimoKz2+nvpKcn/JOeCVETmt6asQDvPv5MiLqPKYfoXwT024YLFnxO1KvXUN6amlGeI3uLOHjgB3mY/XDrZtSevfqJ6tVr+jeznHJGgBG4YRFgecrdomeSxF08OTTnCCRlQvR7uZ26Ro3KokDBQvJM7pnOM5uIIfC3nohgc1Q3BAJMiLpUzERimoKz2+nvpKcn/JOeCVETmt6asQDvPv5MiLqPKYfoXwRwFtUbb7wacOC8KTfPP19YTJg4Jc4twSa3bMYIMAKMQFJDgOUpd0uESRJ38eTQnCOQlAnR9u1aibVrPxVjxk4URYvGf4GqczTcC4G/dfew5JAYASDAhKhL9YBITFNwdjv9nfT0hH/SMyFqQtNbMxbg3cf/pZcKiXPycO1q1WrKGwD7uB8Bh8gI+AwBHH4+W95OOWf2THWplp78VKlTixYt2qiVoW5d1qCHz3pGgBFgBBIDAZan3EUZJEm1qhVUoIOHjBClSpVxNwIOjRGIEIFZ8obtUfIYIKj1GzYL3CaeFBRuR8e38vDDacXKVZ/6bmKZv/WkUIs4DdcTAkyIulSaRGKagrPb6e+kpyf8k54JUROa3pqxAO8t/hw7I3CjIXDmzJ/qBnfc4pk+ffokM6C40cqB88sIMALuIsDylLt4cmiMACPACDACjAAjEDkCTIhGjpnRB5GYJku7nf5OenrCP+mZEDWh6a0ZC/De4s+xMwKMACPACDACjID/EWB5yv9lyDlgBBgBRoARYAT8jgAToi6VIJGYpuDsdvo76ekJ/6RnQtSEprdmLMB7iz/HzggwAowAI8AIMAL+R4DlKf+XIeeAEWAEGAFGgBHwOwJMiLpUgkRimoKz2+nvpKcn/JOeCVETmt6asQDvLf4cOyPACDACjAAjwAj4HwGWp/xfhpwDRoARYAQYAUbA7wgwIepSCRKJaQrObqe/k56e8E96JkRNaHprxgK8t/hz7IwAI8AIMAKMACPgfwRYnvJ/GXIOGAFGgBFgBBgBvyPAhKhLJUgkpik4u53+Tnp6wj/pmRA1oemtGQvw3uLPsTMCjAAjwAgwAoyA/xFgecr/Zcg5YAQYAUaAEWAE/I4AE6IulSCRmKbg7Hb6O+npCf+kZ0LUhKa3ZizAe4s/x84IMAKMACPACDAC/keA5Sn/lyHngBFgBBgBRoAR8DsCTIi6VIJEYpqCs9vp76SnJ/yTnglRE5remrEA7y3+HDsjwAgwAowAI8AI+B8Blqf8X4acA0aAEWAEGAFGwO8IMCHqUgkSiWkKzm6nv5OenvBPeiZETWh6a8YCvLf4c+yMACPACDACjAAj4H8EWJ7yfxlyDhgBRoARYAQYAb8jwISoSyVIJKYpOLud/k56esI/6ZkQNaHprRkL8N7iz7EzAowAI8AIMAKMgP8RYHnK/2XIOWAEGAFGgBFgBPyOABOiLpUgkZim4Ox2+jvp6Qn/pGdC1ISmt2YswHuLP8fOCDACjAAjwAgwAv5HgOUp/5ch54ARYAQYAUaAEfA7AkyIulSCRGKagrPb6e+kpyf8k54JUROa3pqxAO8t/hw7I8AIMAKMACPACPgfAZan/F+GnANGgBFgBBgBRsDvCDAh6lIJEolpCs5up7+Tnp7wT3omRE1oemvGAry3+HPsjAAjwAgwAowAI+B/BFie8n8Zcg4YAUaAEWAEGAG/I8CEqEslSCSmKTi7nf5OenrCP+mZEDWh6a0ZC/De4s+xMwKMACPACDACjID/EWB5yv9lyDlgBBgBRoARYAT8jgAToi6VIJGYpuDsdvo76ekJ/6RnQtSEprdmLMB7iz/HzggwAowAI8AIMAL+R4DlKf+XIeeAEWAEGAFGgBHwOwJMiLpUgkRimoKz2+nvpKcn/JOeCVETmt6asQDvLf4cOyPACDACjAAjwAj4HwGWp/xfhpwDRoARYAQYAUbA7wgwIepSCRKJaQrObqe/k56e8E96JkRNaHprxgK8t/hz7IwAI8AIMAKMACPgfwRYnvJ/GXIOGAFGgBFgBBgBvyPAhKhLJUgkpik4u53+Tnp6wj/pmRA1oemtGQvw3uLPsTMCjAAjwAgwAoyA/xFgecr/Zcg5YAQYAUaAEWAE/I4AE6IulSCRmKbg7Hb6O+npCf+kZ0LUhKa3ZizAe4s/x84IMAKMACPACDAC/keA5Sn/lyHngBFgBBgBRoAR8DsCTIi6VIJEYpqCs9vp76SnJ/yTnglRE5remrEA7y3+HDsjwAgwAowAI8AI+B8Blqf8X4acA0aAEWAEGAFGwO8IMCHqUgkSiWkKzm6nv5OenvBPeiZETWh6a8YCvLf4c+yMACPACDACjAAj4H8EWJ7yfxlyDhgBRoARYAQYAb8jwISoSyVIJKYpOLud/k56esI/6ZkQNaHprRkL8N7iz7EzAowAI8AIMAKMgP8RYHnK/2XIOWAEGAFGgBFgBPyOABOiLpUgkZim4Ox2+jvp6Qn/pGdC1ISmt2YswHuLP8fOCDACjAAjwAgwAv5HgOUp/5ch54ARYAQYAUaAEfA7AkyIulSCRGKagrPb6e+kpyf8k54JUROa3pqxAO8t/hw7I8AIMAKMACPACPgfAZan/F+GnANGgBFgBBgBRsDvCDAh6lIJEolpCs5up7+Tnp7wT3omRE1oemvGAry3+HPsjAAjwAgwAowAI+B/BFie8n8Zcg4YAUaAEWAEGAG/I8CEqEslSCSmKTi7nf5OenrCP+mZEDWh6a0ZC/De4s+xMwKMACPACDACjID/EWB5yv9lyDlgBBgBRoARYAT8jgAToi6VIJGYpuDsdvo76ekJ/6RnQtSEprdmLMB7i39Sif3UqVNiyZKFKjmFCj0vcubMlVSSlmjp2LZtizjww/fi+Inj4p9//gmIt3bt10SGDBkDzPiFEQiFwLRpU1Q9SvdEOlG6TLlQTsOyW7Rogdi/f6+4995Uom3bDmH5YUehEfho9Urx47Efxa233ioaNWoa2jHbMgLxIMDyVDwAadb87cWC4bbsdfLk72LixHEq8EqVqnomyw0c2Ff873//E/nyFRBly5bXSl4It/vGgMD5xRECu3Z9K5YvX6LCaN68pXjwwYcchceenSGwdctm8emaj1UgnTp1EylSpHAWIPu+YRBgQtSloiYS0xSc3U5/Jz094Z/0TIia0PTWjAV4b/FPKrHv379P1KpZRSWnffvOol79hkklaQmejj///EO0b9dKfP31V0HjGjtukihSpFhQe79bzJwxTcyfP1dlY+WqTxVBlJTzdPXqVVGmdHGVxFq1XhX1GzRKcsktWCC3uHTpoihc+CUxYeIUY/pQ7/bt2ysyZcosRo+ZYHRDhu3btxZr13wi0j7yqPj443VkzE8HCLRq2Uxs3LhB3HFHcrF9x7cOQorr1Q911J5qv7UD9vR7/Z6U5KmkXpYJ+e15XQ8iiT8c2SuStuTQoYOiSuXYCbgBAwaLChUrR5Ic19zmz5dTXLlyWdSsWUd079E7INxw+sYAD/ySaAh8+MH7onv3Liq+JUs/EM8+m8H1uJN62+R6hh0ECKxGjhyqQvhs41aROnUaB6Gx1xsJASZEXSptIjFNwdnt9HfS0xP+Sc+EqAlNb82SkgDvLRI3duzhCOXXK0KdO7WTBNNqK3tPP/OseOyxx613aBo3biayZs0WYHY9vYwbO0pMnTpZZWnnV3vEbbfdlqSz9++//4rcubKoNDZs2ES0SYIrJsMZ9NV9vbb49tuvRfYcOcXcubErtIMBz4RoMGSiN09IUsYPddSOnN/aAXv6vX5PSvJUUi/LhPz2vK4HkcQfjuwVSVvChGgk6LNbOwKJQYgm9bbJjomX70yIeom+v+NmQtSl8iMS0xSc3U5/Jz094Z/0TIia0PTWLCkJ8N4icWPHHo5Qfj0idOnSJVGwQOzxANga9M6U6SJ9+qeux6yGzJPfBNRIBoghM56AlkyIJiC4LgWdkKSMH+qoHUa/tQP29Hv9npTkqaRelgn57XldDyKJPxzZK5K2hAnRSNBnt3YEmBC1I+LtOxOi3uLv59iZEHWp9IjENAVnt9PfSU9P+Cc9E6ImNL01S0oCvLdI3Nixnzp1UuCMQqjnnntB5MqV+4YA5Lvv9ouaNWK3lL1et57AGT03okrqg2d7mUQyQLT7Taz3qVMmi3/+9494Qp4hWq5cBWO0vELUCEuiGa5a9aH48cej6oiIJk2auxqvH+qoPcN+awfs6ff6PSnJU0m9LBPy2/O6HkQSfziyVyRtiR8I0XD6xkgwZLfuIcCEqHtYuhESE6JuoHhjhsGEqEvlTiSmKTi7nf5OenrCP+mZEDWh6a1ZUhLgvUWCY78REcBFSk2bNFBZHzd+snjppaI3IgwiqQ+e7YUSyQDR7jcpvTMhmpRKw920+LGO+q0dcLfEnIeWlOQpLkvn5ZlUQoikLfEDIZpUcOV0xEWACdG4mHhpwoSol+j7O24mRF0qPyIxTcHZ7fR30tMT/knPhKgJTW/NEkqAv3Llijh+/Bdx0003iQceeFDcddddnmT0/PnzImXKlCHj/uOP0zJ9d4vbb789pLtQlvHF83//d1X88cefIk2aNOLmm28OFZTRDhf/3HPPvSJZsmRG+8Q2xO2hv544IS94eUTccsstYUePywF+/fWEuHjxoqwXD6gbs1FH3FK///6bSJUqddhnYOqE6OTJ08Rzz7/gSlKQv7Nnz4i0aR9R30AkgV6+fFlcuHBB3H///ZF4C3D7zz//qBvOw/3unAye0b7jWwfuTm7APHvmjEh5zz1hfR+RDBADgEliL24Qon/9dV7WsZtdb2Od1OEzZ/5Uqy7RrkarIq3DiAd18fTpU+KP06dFqtSpxX333e9KmxlNu+W0jkbbxup4A49zZ8+Ke1Ol0o2D6p20A0EDvYEsEkqegnxx4sRx9Y3ff/8DYckqTsvSjX7IzaLHbeyQFe67776Igo0Gu4giSATHkbQlwQhRkkGBn5syF7KPupkmzX0B9TLUpUqJAJmKAnIU5LBH5EWEbufZngen9Sza+m1Ph+kd/QDk7hQp7pLjiHtMTiyzSAlR9I0nT56Ut9E/GJbshoiibZui6YetjMWj+fvvv+UlYFfixSeeYJQMEkmfq4eHI7zOnz8nHnroYcuYCVELCtZEiAATohECFsw5GtBgym6nv5OengiD9EyIBkPUO3O3BfhNmz4TkyeNF3v37gnIFM5lrFatpqhd57U4A9Rv5O3e/fr1Uu579uorcufOG+CXXqpWqSAg1FWtWkO89vobZKyeb9StozqSYi+/Iho1aireffcdsUneHvzDD98rQS1fvvyibNkK4qUisSsA//77ipgwYZxYLLeJX7x4QaXp8cefEDVq1BZ1Xn3dKDz9dOyYaNPmTRVf6zbtxVNPPS1mz5ohkOfffvtVPJHuSZE/XwFRq/ar4hl5MQ/UCUkaDh8+WHy2Yb3499//yduM71B2rVq3EwULPqfcBPuDkDls6CB56co3kkw9LQmG26SfQuKt7r2kcPOrGDigj/LaX94kql/4Y0/n888XFsuWLRYff7RK+QOBApU3b36B29OhkM4WbzZW+uZvthIlSpRSevvfihXLxHvvzRGHDh5U+UGann7mGVHvjQaidJnYm03tfvAOIX3ixHFiw4Z14qq8EIcUSIuKFauIevUaRH174o4d28U770wU38vt7xAmbrnlVvH000+L4q+UlHWhiRTSAknkJo3rC2xTg8KgDzhDgbxMnjy50tPfgoXLAoR8Mjc90c5Nnz5VrPxwhTh69Iisq/+nBrAZM2YWzZu3FPnyFzB5U2aoj2PGjBJbt3yutvDCLwYYWbJkFW3bdZT5ecbod6isH9u2blaTDjj/dN26NQIC7bZtW2XeLqkbyUuVKiPelGWqX5QE4rhZ04ZWmCDcz0hCEgrfqn3wYMJh757dYtSo4QJnoOEbgp/H5fbwkiVLq/yayHt73cwhLxOahW9IfquHDx+S+N8pb1zPJDp27CqyZstupQ+asWNGqvpDhnAPlUqSPfabNytVrirekHUylGrbpoU4duxHRcpPnzEnTp7hd8jggQJ1HnVo5apPpdt74wQ5e/YMsXzZElV3Zs9ZYE0QNGr4hvpuC79YRLRv30n5Q/mMHzfaCgNEMoRwtAsYtOkKbcjQYaMsI/ulSuvWfqrw/+mnYyrtqL9lypZX2EcySWFFIDVO6jDakJEjhopdu74RqF+oD48++pjIJ9vEdjL/wQZi0dZhPd0gYKdPmyoWL14oLl26aFlhkqt48ZKiXv2GIkOGjJY5aVB/UfdA5qMO2FWk7ZYbdTSaNnb16pVi6pTYtnzK1BmKEF6wYJ7qm0AQ4xvJn7+g6Nyle8BEixvtgB2zG/ndTXkKhPiSJQvFjOnvKvmCcMV3lU+W5Wuv1RVFihQjY/XNOW3T3eqHIHfNmTNT9Q2nJFly9Wpsnz9JTjqizYeK79uDm9OnT4uhQwaKnTt3qIkOmIEQRl/apctb6ruFmV1Fip3dv/4OoqtevVdFjOyTIUt17NRVt7b0NeTRO7/8/JOU7zKIWbPnWea6pkvn9uLAgR9ETnkkUe/e/ZVVMNkr2rYEbZZ+y/xLso4MG/q2WL16lZLZ7rwzhcicOYvo3LmbyJgps568iPQnT/4u3h7YT5UN5C60tbly5RENpcxVoEAhKQsHv2U+vr6xbt36onKVakHTg4swDx48IB6TMvvYsRMD3KHsx48fI9bLvhZ9I/o0TAxnzpJNdOzQOWie9TFEq1ZtxWefrRdLZH8CGeEPKR/JgJQcsHnLdis+p/Us2vptJcCgoXyUlHJfvXoNxRQpG8+bN9fqFzHOqVSpiiynpkaZJ1xCdKHsXz74YLmqzyATUa8yZswo26V6UvYuEZAyp/1MpP1wQOTxvMybN0e8//4yVZ8wNkH70rRZC1G9ek2Beoa4s8gLVQfIcZauou1z9TBID7llvkzHkSOH1bgBchN2q7WX9fW9ubP5lnkCip8RIcCEaERwBXdMJKbJhd1Ofyc9PeGf9EyImtD01sxNAX7BgveUgBQqR4ULvyRGjhorhac7LGebN28SbzaPJeMmTJwi4MakcubIpDoL063SLxYuqGaCK1SopFYfgniwKxA0EyZMUasAu7/VWXwoiSuTelESGCAK7Ss5dUGzQ8cuYtHC+eJnKQDbFTrUefMXi7vvTinq1K6mOjm7GwxqcDN2gwax+bbbf/nlNim8tRXnzp21WymirJnssAcO7Kvspk2fI0mH/JY7PZ39BwwSmz/fJD755CPLnjQFJLk6depM9Qqiqly5WCGmV+9+irwmd3hitdaA/n2k4LBUNw7QV61WQ/To0ScO4b1v315RXw4oQPwEU7jVHYQeBIFwFdqVKZIEAAGPmWOTAuk7ZOjIABKgZImiarbc5N5utmPnroC6arendwyaunbtoLAmM/2Jute6dXtRv0Ej3VjpQZ526NBGkswH4tjBAGRZt249jQMEnSTDAKdd25ZWe6sHBjIIZB0RviDiSpd6WXcSUr99xy6VDnKEb33Y0MHif/KMTJPKmTO3GDFybADucKfXzZ69+imycfeub+MEkUyuOu7Tp78iy8myR/cuUgB/n15DPuvVb2SRkMEcTpgwVrwzeYKynjdvcRwCFpMvRYu+IM78+ady06fPAFGlavU4wVWuVFaRuSVKlBbDR4y27Iu//KJcOfG7migYMmSEMofg3atneOfUYpJj3vwlVnh6WfftO0AR2qZ6n00SydNnzFUDVMtzGBondXjjZxtEd1k+GBib1MMPpxXDho8S2bPnjGOt5yuSOkwBId2vvlpDHJNngQZTd9yRXPU7L7zwYoCTrl07itXyHFG02evWfx5gF0275aSOOmlj58+fKwa9HUuwTJs2W7UnWBllV/fem0pMfXemRQ47bQfs4d/o727JU+jbMBg39ds6xpi8xGQblNOydKsfGinb/Xpv1DH297NmzRO5cudR6Q317cHBV1/tEJ06trOIUOVJ+3vgwQflZPMYkTNnLs00drwRKXYBARheQIh+/dVOcdfdd4uNG7ep1e+6M5BzVauUt4wweQbiSVcgv4q/XFjJsN279xY1a9VR1sFkr2jbEr2P7dt3oFj90Urx5Rfb9KQoPSazBw4cLEqVLhvHLj6DHdu/lJOWbaxJVN092lq0MY0b1ZN14LKoWbOO6N6jt+5E4hC3b7xw4YJ4uVhhNZH77LMZxZKlZvlcxwsLE7AAghSIt/btWok9e3aTUcATk8Jdu/WII9/CEY0hKkqyMFvW7JIA6yNNAxXkuG++3a8Mo/lG9dCird96GCY95aNKlepqsv+LL7aanInnZV84TE642ncRxUeIopwgw6yVE7LBFBaF4Dz+W2+9VTlx0jZF0w8HS5duDhK3Z4+u4uOPV+vGlh71CgsL9u3boxaP2CdMo+1zrQikBoR6T4klZBCTekUuTMHkxZjRsfLjZxu3xpn8N/ljM0YACDAh6lI9QGMfTNnt9HfS0xNhkJ4J0WCIemfulgCPFYwQcjBAx2o2COq5peCLaoQZ8WlyxeaOHV+qjLZq1U40btLMyrSbhChWmGGVQ+3ar1krMLdt2yJA4KgVe1KgxUrVmTPeVStmsJIMW5MPHjgghbjJIckPXdBEPMluSSaFvmYiU+bMyt+HK1dYhFjGjJnU7PWaTz8WIApB8kI4+EoK1bNmTVerJLGSEUJf+vRPWVhAA4GjbJnilrBZrlxFUaRoMeV/65bN8vKj+YpsJfIhFCEKwfLAge/Vdvtnn82gVhLekTyWjH7yyfQCM/FQupBpIkSny5WPo0cNV27r1Hld4PfQww+LX375Wa5MmixWrfpA2UHYhJ2uqsiBAsg+CMpdu3YXefLmU6QuBhGrV38oMNMMhRWzWN0UrvpgxXJJwMau1sCxDPUlCZZRri7E6tlVKz8QW7bEEhz2cHF51EWJMdSxn34Uy5YuVnoIkLgAR1d136gfh+DV7Un/VrfOYqUsfygQzVhpfF+a+8RXX+9Ude/k778rO5AV+krRf+WMdOXK5SwyB2VdtNjL4p6U94jdu78V0+SqN6y+hNIHk8pA/hGZlCLFXaqdzSRXfFSRKysefPAhceToYfndTVErh+C+sbw0BisfoC5c+Euujl6o9PgDVtu3f6HeW8vVy8mSBR6DoOOAdL32ak3lFthiUPKMXCV89uxZtTp10qQJiigtXryEJKHGKXf0p39DIKGwWhnlBqLsivxuN2xYJ1CuUJhQWIVVmXJ1G9QmuRL78KFDSn9VkpVYQQOFFYh2ogurS/VJAuXQ9ndYzvwDe6j6cmKinVyJq6vtX34hB1tvWEbPPfeCmPzONOsdGszoV6pYRpmBAH7llZKWvWnQhzqPCQpSCxfOU4OWhyVhWKvWq2SsnvfJdql8+YqWGZV1Slk3kiW7WaRLl14StNXEww+lFYcOH1RlTSufUYaNGl9rY61AQmiircNoO4AjyHEMsrEaM0+efHIS5W9Vr+j7xipFEAUoV11RviKtwxQGiEAMTqAwiMEuAfRBWNmDiSWsyMVkDI4c+ejjdQEDwFCkTDTtlpM66qSN1Qdn+K6wQhjl8FT6p8XvkpTHSqdvvvlKYYR+eaYkpqCctAMqAP4LQMAteWrtmk9l295KhV2sWHG16yRbthwCK/lBEKAvpp0Ns2bPV5cgOilLt/ohfGO333G7QH8H2QNH6qSWq69vuvkmlRe09UQUhvr2cFxH2TKvqPxisrRz57dE7jx5pAwXo3ZEYFX56dOnVD+3ctUnAZOW0WAXUIiGF32yf+KkqXH6G31yDd7tRB3MMIE+YEDshPHadZuUDATzYLJXtG2J3sdCnsHuJUwQYmXu37IdXLt2jSWvYYcO+thIjjbBtt5yZUtYRDV2BmEXClbZY3cAduskuzmZuCDlFqy4C5cQBRZ9+/YUS5csglbMX7BU7ZBRL9ofyKFp06ZI+fsWsWbNxoAjFJrLhRVb5AIL9CWt27STuwNKqP5m//69YviwwWrnGhY6LFy03JoUoqCJSIQ8fkyuLL1ZHkMDMgrEOx27BTPsYoNyUs+c1G9Kb7An5QNEJ8YSufPkVfLo4/I7+kGOBbDiHCtnoSD/21c8x0eIgsBbISd2oXLkyKXGN48//rjaNTZn7ixLltXHeU7apmj6YZW4eP7enTpZri6O3YEDeRkyLnbl4JLFee/NlfLDUZECGP71V7yEaCR9rp6sWTOniRFyVw1UGjleaNK0uarzv8v2E+WAVcrY/YR2H4oJUQUD/4WJABOiYQIVnzMiMU3u7Hb6O+npCf+kZ0LUhKa3Zm4J8OvXrxXYggo1+Z3p8qby5wMyhtVWIGDQsKeUQvOrr14jzdwkRBGpaSUXtiT0/29bPtwUlYOMUZKs0VeBYutSpYql1eA57SOPypnDdXBqKV3QBJm5eMn7atu85UBqunTpID5avdIywkpS+9bdTz/9WK7+bKPcYDa6f/9BlntoxskBPG1/bCkJLPvtx9ie27t3d8tPKEIUjkCENZbkCFYaBlPBhHK4x9mOZSRBC+HKJNzCTetWzVXnjRVIq1ZfIz2weqvwC/lVGwCyAgMFu8LqMgiscv+OeP31egGEhd0tvUOgLF+upBLKUVazZ89TZC/Zg/zu07uHtaJ1jNxWVbToy2RtPUGW06VK0Z4humfPLkUQop1DvcIKmWTJkllxYLIAZ0ViNXF2OSiZO/caEakLRCYSC5MJ2AIFUjSTFM7nyxWDep0lMgmRYeAMAlK3R9lVqFBarZ6+/fbbxbYvvra2dFsJlJpIznSicy+x6hQrGGkVAIUHwn/E8CHq1U7i6t8Q0jn3vUUBxz3A00S5cnPyfys3TfUfbjCAz50rC7TCtGJcWYTxh62FSBMG3atWB64q79+vt9yCvUANroA/BmAbNmwJ2DaPFcog3DBBsunzbQEDcxMhak8SYWmvF3Z3eNfLGhMs48ZjFfu1enb69GlZ1qWUAI8B4Zat2wPsTWGSmZM63LJFU0VWA5935cogkKG6whbwnj1iV8W+Jr9vrALVlZ6vaOpw9WoV1dEoWJU8e858PWilBwm9ds0nSv+yHCA/+2wGy00wUsaNdiuSOuqkjUVmdEIU548tXfZBAPGM/rdJk4ZiuySIoezfpTKUf5G0A+SHn9cQcEueAuE3d85M1a6sWbvRImQopnPnzimCDcfwoF8oUuTa1nlyE0lZutkPoS0dNny0IpMoLaZnsG8Pbint2IYLOQth6grtFdpOTMDb+wg3sNPjgl6f8K9cuZro229ggJMK5UuLH388YvUVmBBftDhwN0PjxvXUSk0cXfHutFmW/1CyFzmKpC3R+1jsRAJhbl9FO2rUcEmMTVXBt2vXybhzheK2P7EdHduwoUwyHVYav/5aLWu3gElmDNY3fiePPaopjx6AwqRyj559lJ7+UN4lXimijjx6WU58jRo9nqzkar5rshzqH47u0RUmX3HsFghifXcUuSEiEe/YJYaFAZhoD6ac1DMn9TtYeshczwfk0REjxgTIfJi4btDgdbVIAROYKz5YHbAzKxQhiqPQXq1TXcnz2NKNSWD9KCb0m40a1hXff/+darswWQGy0K4o/zDf+dWegDB0t270w3p4pAcGakwjyc60aR9RcoNe1oi3Qf3X1WIS+MmbN3+cI3Wc9rlIAyZ9UC+B0Rw5LkibNi0lUWH89tv9rAUjsGBC1IKHNWEgcKMRovhoEkRJQkEemWP+yU4pRv/JzjqGfnIJeAx+//zzj/WTS9Nj8Nu0aUPMP39f5F8SwmDQ231cKY/16z6Kyfjso+o3dcq4iMLU/a5buzqo38wZH1fhDxvSL46bgvmzKbtiRQrEXLn8Vxz7K5fPx7xYOI+Vxj27v4rjBnWz+1vtLTdnz5wKcLN/37eWXacOLQLsqF4f+GGv5ea5gjliLl08Z3RXskRh5a5KpVJx7As/n1vZvVQ4b1D/8Ed4b9kc+F3p6az7evU44VNa9eehA/ut8Oa9Nz3Az4xpkyy7Yz8eCrCjMHZs32K5WbxojuXm3NnTMVRuTRu/bpmTv2if782dbsW3aOG1+PTwTv5+PCZ3zgzKXZ3alYxxb/zsUyucz9Z/YnSjh2nSt23dRIWRJdMTMYcPfWcMA/huWPdxDOL4+8oFy80Lz+VSfosXKxRz+dJ5y1yPB/WdynrzpnUBblq2aGjZfbd/V4AdhTF65CDLDeonmevPEcMGWG4u/HXG6Abu8d1QWpYumWd0d/HC2Zg8uTIqd507tQpwo9fN1i0bB9hRelBncmZ/Wvlv16ap0Q2+K0qHqT2gsOJ7jh833Apn966dVlxoLwoVzK7s5s6ZZtXh+fNmWG4QdqUKrwRN54svxLY37do2C/Cjp6lWjQrKf43q5YK6Ifd6WetpJXs8h2p15cjh7+MNk/xGW4f19q5zx5ZB40P+UF5ZMz8ZY69fer6iqcPVq5ZRYaO9PX/uj6BpoLzqz/btmiu/aHN1czfarUjqqJM2FumeNfMdlQ9gPGfW1IC8UL62fL7ecoP2k8z1Z7jtgO6H9ddkWrfkqSGD+1pl9c3XXxrLKj7cIylLN/uhbVs/Cyu9wb495Ctfnswq/926tA0aVoN6tZQbyHw6Fm5gp4dH+jfqVlfxQdbU++p9e79R5uj/585+V+nxHaLPJ7+QRbJkTqfs7N9eKNmL/EfSluh9bPNm9aw0UFh4/nH615jsWdOr9ASTZXX3up7kaLSZf53/0xj+hHEjLBx69+wcx02ovrFq5dLKb948mWT4ge35mk9WWuFi3KCn602ZV+AOWUo31/UTJ4y0/P949ECAOxpDFMiXVeGj+zPpndQzJ/XblBbdjPKB+nb0yA8BeSR3Oo5jRg8JcLN08XsWRnv3fB1gB3kMGKOuHzp4rX5TuHhCxoUb/EZJ2VO3I324bZMb/TDFqT8xxqE04pvV7Ui/5tNrde21OlXiuHHa5y6YN9NKw4zpk+OEj3T8+cfvMaiPlNbffv3J6I7SzM9rfTFjcVFxbsS/6Zwc8XTE2+Gpc3rQB+P/YJ5U1U1IWBhEccROQgVrt9PfSU9PREx6XiEacTEkuAe3VjRghUvJksXU+T9YHZdHzqgVkTOIT6RLp2Yf06V70niANzK4ebN7Z4hi1nLc+MlG3LASELPIWMm0c+fugFV85AEXBg0ZPEC9YoYfM/2k9Jl308pPuJONhTxMPoc6cxNbeadNn03eA5446xHnnOJMqq1bd1p2uOSnQP7Yc/aw9Rxb0E0KF7lgCxBUqBWi9tUTprBgFmqVwsABfQW29mLLe1XDGYrwj3xjWxm+dfuqAZzvt2f3LjhT2+hefrm4eFauLsQ2YWxt1WeYlaMw/gYPGiAPip+jVkN+uf3boOcl0uozrFzd9HnslnA9eH1VQbQrRLHq4OBBeVFCkBVqeny6Hqt8sHoWyo6Z7k6vd93e6qmOgyB7yt/tcvUnzvnEihC7WiNXx3Vo31oZj5/wjlr9YHcT7ow9zrTr1DF22z22c2P7tkmtWfuJ2jaJLVVz5i6wnOh5MW0rJIe0cjOLvAjh/9s7E7irpvWPL7qoDJmJi2QohGuKCsnYoJCUEhUZSkmIJqEyNJKoiESG5kkIqZQGU8pQrgoN4prrKlzy/6/fentO66x3nXP2ec8+7353fuvzqb2mvfZe373fs5/922s964XR4yU7sdUP8FBGiNr3ve1SQKbLY6Qlvsrf2PY641IALgLErcPatWtU3TrnmnPCSBWMWLFDqlEwdp2ijBDF6PT33v8waSSwtImF026/vWAUdjb3c1HvYSzs1FH7bEPwzQyQ87JHU0ycNC1pkbBc7+GH9BTKEXoKJQKmN2KU6Qn6b3F/8/tyeNJISTkf2aYbpZbr71Y292iuv7E2X4w0kYVrpJ/Y4hl95pmnmayWLa8xCzbY5YgH/R1w92O6gEBY9tS8t+Zq36CtTaMYJXnmmTVVtWo1zMJrsKkwxTNTCHotw3wO4Vn+zruLA41MT/W3h1lEZ9WsbrqH0ZSYxuoLcN3y0UcFv4O2DRAGO9/xJkwYq+65+05ThGcAngUIMl0e1+fhwUO0L8pqxg62pwxPmjRB3dWjq7E5Z856K2kxKPsZ5HNXhGNk81tiP2PT2X8yqvU4Z9YKjpcqwPUI7FsE+Ins2rWHtypmW9W+oJYpy2aEKHawZ0Dde1/fJLcxHfQstFkzZxjbEe5PMMtEAlzXwIUNFjc9vcYZkp20hY/RGfqZheA+r2RkpW/0aFIjWxJFvc9yvb9952LnST8wU+OpkQWuZOxyiVevdpKZ9YXFZu9/oJ9km6na8AeOMH7C1KQZFWInuHZdYuctkZr6OYNFOrGwKWZMuSHobxP2y/U57B4b6YED+xm3aYjPfesd74KPeJepUf1kwyjTCNGiPHPtUdpz5ixMuIbCOdnhTstFAUeI2mQYz0Tg7zZClIJopjuC5WkJhGXA4yB4Ge/a9Q6zkqV7UAgnMDTateug4LvSDmEKor4p6HIsrPD5ij5H+LJ7Uz+AfGHatKmqa5dOpui558cq+O2SYBuaWHGwwUUFU3ukXLZn64VY4N8KDrExXcUXMJ174sRxRsh7V4uzEjC9U5zzd9JTSzGF3BcgpkJURUgniGJRJazinimkM8qv06uyp3LM7mvX7Td88kD48S3yASGvinZgD0Gwxul+I9Z3DBG38WKIKYWpQiajI1dB1BbA4f/zvvsL/AGlOh87f/HiDzSXy03WPffc6100CYXpXkJETDpAT/uZ/upMu/lEfJH2Y9qyxRUm7ZtKhoKgBir8xQ4e/GCi7UwR92/N/htKd2+2bt3STO+tWPEwNXlKYaf32bwgZjrHJk0aqmVLPzG/S1OmFiw+JtPl5ZqKyw0zbX7mW8Z4HfnUk2b1TxFNcS/bIV+CKKZEv/b6bPtQifh7772rp3o1N+lU1zpReUskl3vY9sMFlwPu1FY5lv0b7/pazfUehs/oVi2bG/9wcjzZ4oX58MOPNH9bTZs2KyTUpBJlsH+uv1vZ3KO5/sbagih+B/B74AuyMKFPpED9oL8DvraZp/Tzvp9e0KrAfsiVx/33bfWN67aF64vpsFhQSfwbunWCXsvieg6555fqb++DDxZpNzFN3epp05P0R5bD9MdVCbmyk3bsLaa41qpVw/jFtKdzi7Aoz3CxM+FSZtz4KaYJfFCbO/dNr5/0dLaXHD+b3xL7GXtPz/u0f+dLpZmk7TVXX2X8+qd6xiZV3pKAC59GlzYwqXT2KZ4pp5x8vPEr7futSfdshL1z9tmnF/LdaNwWnFvT8LcXE8PJ2MfbcqoZN1279Ujy2y1CIux6d0XxVI0V5T4L4/5OdT7Il35cfPGlqmev+1JWbXzZxWZqOxZhfE4vKikh1ZR5MMZgDT3iTC/Amt7WxbR6fKzAgAd8AHVD0N8m7Jfrc9g9NtJYeAvCOPyszl9Q4FvbV6/RpReZafOZBNGiPHMTg2IynINtc1MQ9V0l5qUiQEE0FZks82VUp283t8xOS1y22F/iHCHqoxltXpgGPHqCh9cIvRAMFlD66qu1hTqH0U1Dhj6e+LqOCvbLcq6rzMddEIWPHqxMj9Ct29aVSE2G9R+MaxjZCOkE0XTCrdVc2hGi8KXz3nvvmNFXsgiTva8bh0jp+m/asGGD+SKLaw2jGsaVG9reeJO64YYCP7RumZuWc8Kq9C+/MsMtTqQHD97qjxULGdh+glApV0EULyqn6BETWDwgkwGaOKktkXfffUddo305IbgjIbZUMRs9vUG/XBxnmGGVc/jIlZAQkw4s7PNW6nyw6H3tx7aZSaYSyYIaqEOHDFZDhxb47YLP0x0dEVCOaW/te8Z+WUt3b4q/tVQva9m8INrn4otjkYEHHywYIYEX60MrVkysLj948DBV86xaZnRdLf2Shusso3hk5II7wkKOke6lT+oUZYQofOa6/o2lvSDXWurKNpd72L4fINJCrPUFfFCB6Idw/wP9Vb169RPVwriH9RQfNUEvjoaPch9//KH5iJA4wJYIPsg9pv1bQySVkEqUkfJcfreyuUfl9wwjXO2/FzkPd+v+xiYLorOSfJHZ+57wr6ON30WfSIF6QX8H7DYZ30ogbHtq/vyCBSEXa5HQ90ERvufGjpuUWKBn65kEv5bF9Ryyzw3xVH979vngmXr4EVuFTrcNScPewN+EHXJhZ7djx9u2vdYsiocFUN6YOVetXLnCfMCGXTtr9jwz0mzmzK3+9F+c9qq+NnupmmdWN+Kgz799PgXRXJ6xdr8lvlR/OLxcf0BEcGerSB3ZVj1FL5SYxSrzsh+2IjRixgsW4sOHNvkAWapUKfPx177e9jMMIyOxMGWmgFGO9kh6ERLTvUP42sz2Pgvr/vadC/KkH5dddnliAShfXbxn4H3D9XebShC1Gfv86NrHgN/7Dz543yyghuvnhmyfM7k8h91jIy0fKLCo2JtvFvjV9tUTRpkF0eyfue3b3aCPPUv7pPfPXpPzse1TCqJChdsgBCiIBqEUoI6ImL6qbpmdlrhssb/EKYj6aEabF7YBb/cGzqKx4jdGPWJq5Sy9Yh4EBfeF3n5Z9k09RZsQhU4+6VhzL12vRbMbtXhmBzEC0hkz8uXeHbVmtxP1CFF7+ppv5Ws5V3vV03wLojJaDiPh5i94zzstW84ryBYjur755huzCjQWVMI07A0b1htXBlP1CL1Uo8zstnvqBbKwcjJG7L1vpg9vXVzGricvXTj3BQsLfwnOVRDFsWSESDoXCfY5Sfy7775T52iRDSGdGGy/MLmuGsIQk3D8oAaqPSU71SqwaC9VKImC6Lp1X+npfWebU8Z1OPGEk/SI5RZmqjUM0B122MGUyahkCGu9et2vLji/lvk9enjwUHXWWQX72/2OiyCKcy7qPYwF5LCQHAKm5+Fl1Bfs6aajx0xMWnAlrHtYjgtxFKu0fv31V9odyTwjkmJBMwRXIJDfBwhLEDjShWx/t/ACGXThr1x/YymIprtyxVeWL3sKNvQPP/xgFoRZomcW4Jm5ePEi07FUNk/Q3/Tieg65VyHV397333+vztYjMRFuvfV21UK7d8glFIVdquNNnTJJde/e2RTj927hwgXqMb0A4OlnnKmGDClYpAgj6DDlHwvxYco6RvNi1pGZXeAsyoeG7Oe7fGxzj5/Nb0lYz1j3HJDGauHVq51sinwL5Mk+9j3l+/iS6dlo9wELgrbXH1/lGYUFj+D6xw2Zyt36bjrIO4S7j50Oep+FfX/b54C49MN27+PWseudf34d1X/AQ4kqqQRRVKhfv7ZapQe9VK2avDBYYuctEbm+qVyYBf1tcttFOtvnsK8NcbmFMriaSrXgrEz9z4cgKoty4RzwXrXLLrsiWijIuw4KKIgWwsOMNAQoiKaBk02RiJi+fdwyOy1x2WJ/iVMQ9dGMNi9fBryvV1273K6mTSuYQoSXT7yEItiCRMeO/hUvV65Yrqf+XGjquyOMkClGQKqXA9SJgyCK86xR/RSz8mDlo45WY8dOQlahIKu6oyDfguizo55WffsWTL1JtTpxoRPMIsP2GfVAnwF69ceC65yuiVGjRqp+eiVehFSjimE41b7gHLNCbCpflGEIouLXCj5WX31tZpJ/MOnDxo0bzTVFGiMbxNdndfgo0itdVqlyrFmxXerb22ee2eov1vUBGpaYZI/0S2d0YfVQTLVCSOefzD5/O26/6LjilF0v0whRjDCG2ISt74XLbitIvHnzJurDJYuNj1uMGsHq8u5vidynGKFy9TXXqeF6hXn4AJ49e77XD668FNTR93MffV/7gowMTDUS1t4nrGtttynxot7Dn+pVgRtvWRW4ZavW6pZb/NOF5fcK9/2ChYtU2bJl5dB6n5vMKvDuh7JEBR0pyshX2R+CQ/36Fxg75NJGjdVdd/WSopSj1BIV0kTkfkAV3+9WNvdorr+xYQmiQX8H0mD5WxcVlz2Fe6tO7XO06L9OHXJIBYWRiG7I5loWx3PIPb9UgijqyfkE9efotp0uHYRdqv0hCELs1AtUaN+GV6l5897Ss6I+L/ShRWzdI46opD/wHqRm6lGjNbRfy6HDnijUdBBBNJvfkrCesYVOdEtGzZrV1E8//mjuO6xQvv32hT9Gjx07WvXudZfZw/d8DvJsbKlntSzSs1swq6dP3wHGLQoaHPTwED2D45wtZ7N1I88wuOfCFGZMh84mBHmHyKa9dPdZPu9v6UeZMmXVK9NnqD333KvQadvPUxGcpVI6QfSmm9qq2bPeMOsJpLJ1l2mboInYBPpjxi36o4Ybsvltcvd105mew259pJ979hltk91rilJ90LZHQ+dDEB0z+nl17733mHNINUMMA4EurHe++Z1HxXS2uWmI/5GARYCCqAUjl6iImL423DI7LXHZYn+JUxD10Yw2LywDfsSI4drn30LjNL6jfimG7xg3PK4FhEf0FGYETKM4+OBDTBz3x6lVTzDTazAFGj4D3YV28FUeX+cR3EU5kCdGgCtioExCXATR7tqh+dSpk81pPzToUbNIiPQB2yVauLlSCzgS8i2I4ot2/QsvMCMeMM0IIyP+oUdm2gHuEeCo/A/9ogAfolhwBwFT5PGyj3BJw0aFptIj3zbOfFPKUMcN3333rT6n2mrTpo1GTMQ57bRT6aRqjz02RD36SIEP1+533qOFmwJ/nXalMARRTHvB9BeEpk2bm6lk9jEwUrpZs8bmyzr854qfStTp1+9+NeqZkaa661sRmXDAf1mjixX6C8Foiv7bsH1VhiUm2SNf+mu/t+fra+gL+FuFfyhMtcILB/5WXTcEEKL79X1Affvtf1QF3V9bJAvzZa22FgTW6fvucL3oxgTt/F9EZt95Z8qzBSksYoL7asjQ4er0089M7IrR27XOqmF8JGOK5J9//mHucxizvhDkpU8c5u+ww47m5cVlabcb1rW225R4Ue9h3A9NL2+kli79WIucO+vf5hcL+a98//13Ey+ztWvXVX37JfugzaVf+Lu4s3sX040q2hcaZg649wEWqsNI7F9++UVP1U9eQCKVKBPW71bQezSX31h0PixBNOjvgNw33CYTCMuewn2JRbAgZnTp2t27MJh8NIKbhRkz5iSfiE5lcy2L4znknmCqvz3UGzigrxo58kmzCxbJxEgzNzz99Aj1vvaZDFsEH8nluRgGO/dYdlqEN3lO4Lf7zTnzk0Z42b+n8qxI5c8ziCCK4wf9LQnzGWv3W+K9e92tP9S/YJLdu9+tGjdpKkVmC1+r+Gj6zTdfm3RRBVF7thZE/1WrvjS2xquvzfIuiDpnzmzV7sbrzTFbtLhaYTaNG+ZrARuzqxDatm2vMOhAQpB3CKmLbS73WS73t30Ovrj0A2W+afMQ2a7VM2AgNuNZiRkbR1kc0gmis/UsP3zcRPDZupidgWswb95cc43Gax+6tm9fs6P+L+hvU1jPYTmubHEvXXxxPTNjET5URz79fGImEOpAzG7X7nrjHgPpfAiiWHisQf0LzMcV3N9YPNQdJWpPl8d5UBAFBYagBCiIBiWVoZ6ImL5qbpmdlrhssb/EKYj6aEabF5YBj5deOGnHgwSjprp27WGmT5YvX968iGL0FaZWrl//s/GZ8uacBUkvrg8PGqieeKJgGgyMlOuva2NWi8QLL74ATp9esLDKueeerwY+OLgQNDECtgVB1H5QQhi+/fauxo8hpu5iRMJ99/Y0/qgwSgEh34KoOcaTj6tBejVnBIiiELkqVT7KLB4F5+kw8HCtcL5YSEAWzoKIdFGDOkbYg/EFZ/jnnXeBLj9U+7L7Sy1b9onq369PYvrfhIkvplxV1hzc+s9e0AVGDVYtr1TpKPWNHjUzZepk/RW4QIg98sjK2s/aRO9IhjAEUZxSmzbXqnla/EXAggtNmzU3I6DhexUjPBe9/54pc0eSYcRJPf0FGCMuMKXupvYd1Vm1zjYLZXz44RL9Ffs+I/phZ59gmouYZE5oy38Ygd2wYX3zWw2h8zLdB1xD+TBRu3adBD8I8lgMCr/rEPA6d+6uTjr5ZHM9P/nkI+NDGP6jEHr1Tl7UK8yXtU633WymjuI4mMKFUSPwCYWAEZfwjRU0QLw9Ty/YIM+qcuV2Nz7hXOFffE9Ju+6IXcnHNoggOnbMC3p00d26tjKuIvDRACOIS5UqpXbX51C9RoFLBZSHda3Rli8U9R62F4mAb7077uiqTjzpZLP4Al5ABwzoY3x6YlralKnT9QrB5ZMOn2u/rtO+SWXRN0z/a9GylVkZd8cdd1JffPG5elb/DsC9BkLnLt31x4kCv70mrYWnl1960fyt2lPmw/rdyuYefbKIv7HoR1iCaDa/AzguQzKBsOwpeyENfPDp1KmzdjNRxfioxHN21sw3Er8bqWyibK5lcTyHkkml9iGKevh4gZFR+CAIwbHDzbeYD8N77LGnthmWqmkvTjGLUqKuuwhOGOzQbqpguwlBHbhLwSgzO0B0wkhSfAxFgCgKMcO3AFZQQTTob0mYz1i7TxLHNalX93zzgRw23Q16Ya96devrZ+8e5mM9/H/CJdJff21O6a84yLMR9i3q2b5zr9XvBe21G4JUoc0NrY0Yh3L4W8dvPQZe4DmwcMF8vSDkQ+ZDJgSoSZNfSvqwH+Qdwj5uLvdZLve3fQ6+uPRj++23N+9jDRpcrODeAH3GDJ9BgwYk7FGU9b63T1Iz6QRRVBTXQYjjfauJthUP0oxXrPhMu48YkngWX970CvMeiHpuCPrbFNZz2D0+0rawD/vxpg4d9btHJT3i+wvjBgOjumH/4j7MhyCKc3hIv1ON0M99BAwiuqNzN7PI7H/+842aPHmiWXcBdhMWGkOgIGow8L+ABCiIBgSVqZq8GPrquWV2WuKyxf4SpyDqoxltXlgGPHoxSk9j7t/vgcT1Rt6uu+5mDCcIpRIwfRTTSO2AUWUYaQRjLlUoX/4A9exzYxJT7e16YgRsC4Io+oUX3D4P3GsMGrufiEOsweJDMuWjOARRGAUYuSrCtHtOSMMAw3RUiDp2gGByw/XXqF9/3ZTIxkMevwvwtyWh0WVNVI8ePSWZcYtz6qJ9c73+2vSUdQ/UoyoxxerIIyt564QliELExijR5cv/7T0OMhs21Asi3bN1QSSpiHO4vdMt5mOB5LlbLLRym34pdkOuYpLdnm0g2vmIu36WMDoHxhx8AqcK7osq6oX5srZ27Rq9oEWDpPtKziXd9G2p426xUjk+7CC4i1dJXXtkA37bYKCKj1GpI9sgL31/an5NGjf03jeuG4Uwr7Wco73N5R7GSIaHHx5oXoDtNiUOdxI9e96ratepJ1mJba79wki6K7VAv0qP+pAAQbmMnpYPdxQSIJCPenZ00kjydKPUwvjdyubIOTVeAAAupElEQVQezeU3NixBFKyy+R0QttwWEAjLnoK9dNutHcxKyDZbPPvxUVkCPl49/8J4VaHCoZKVtM3mWub7OZR0YjqR7m8Pdd9+e4F+LnZUP+m/71QBYvGoUaPVzjvvnKgSFrtEg04EI85rnlnNzGhCkc+FE/Jl9D/iZ5xR07j2QdwNQQXRoL8lYT5j3XOV9Mvad3SPO7sYsUjy7C3s05EjRxhGRR0hivYG9O+jYGsgQHzFApqw6VIFPMNu7tDWCH+p6mDAxogRowp9MA3yDmG3met9VtT72z4HX1z6gdkYmMmD+8YXIP4Ne+xJ/T61T1JxJkF0nfa53r5dG6/NIg3B1cXAgQ97R7ZLnaC/TWE8h+WY9hbCfuvWLdWK5Z/Z2Yn4FVdcpQdqfKDwkT9fgiiEcXxklwEEiYNviWCGwIUXNjCDKpBFQdQlxHQ6AhRE09HJokxETN8ubpmdlrhssb/EKYj6aEabF5YBL73AA7h/v/vNdAzJky2+UN7YroOe+lNXspK2EMeGDx9m/LvAIb0EvExfWL+BdrB/R5LhK+XYihGwrQii6BNGPd3Vo1vCfwzyKlY8zKw+/6tevVOmBxWHIIpjI4wfP0YNeXSwGRlakFNgqGL0Srfud5np65JvbzGqZZAeBfzStKmFRBMISy1aXq1aaR+EqcQluy03Dl88w/TCBj/88H2iCIJrrVrnqO533p3WKAtLEMWBIeo/oEXsl6a9mHhZQj5W3sYLAkS2VAHTy3rc2VW9p6cAYiq2BEyTx4g79MUXchWT7DbxOz150gQ1YeI4tWb1qqQXUVcQxX4wVHvpxa1WrlyR+I1HPqZwwhdwvXr1kUwKYb+swTh/ZPAg9ZFeWfyrtWsT7IoiiNo+nR4f/pTCogRuwEgqWTE43W8N9gsiiKLepk2bFEY7z537plqzZo2Zro/84hZEccxc7mGIyVgc6As9Gkee+aVKlVLHVDlWi6H3md8uHMMNYdzDOO+nn35KQZi1nx04FkZeX9TgEvPscV/+MokyYfxuZXuPFuU3NkxBNNvfAfd6/p3TYdtT+ACJmRlfadcgbqh6ajX9O3ubOuaYKm5RIp3ttczncyhxUlsimf72UA0j92EDvfPO22ZWjLSB6epXNL9KXX9928QsBimTba7spB3f9rZbb1avvfaKmaY/+80FXrt03ltz9cyR1mb3dP6ygwqiaCjIb0nYz1hf/5GHkbrd9EdyW1CCgNNGjxhtcnkzlcsq83JMsKmvpxXjPq5WrYZ67PECcVTKfVu8R2BWwotTpyQ9CzBKF6vPd+7cvZAIiHaCvEP4jpfLfZbL/e07F7sfmC7f4eZbFUbszpjxamLwAUY91tUjert26+FdTCiTIIpj4HkLt0hwawD3QhLwwab5lS0U/JJigES6kM1vUxjPYd+5YORl7953q1definx+4LflnPPO998wL2iWZO8CqI4J7gZwG/8aP0e85t+r0OA3YRRqz173WfObeDAArdMFEQNHv4XkAAF0YCgMlXDj1Wq4JbZaYnLFm1InIJoKqLR5YdtwEtPsIgMRuys1v/K7ryzOvCAA9WhFSsmpt1KvVRbPADXanFgn333NT7pMj1cU7WzLeTDaFqxYoWZSu6+0EfVP/i8++zfn6rdypVThx12uCpTpkygU8FUMqz4jGkpf+kp8wccqO8LPTU76P7pDmI4LV9uBLmKWdxr6dosShmmiq1cuVK7EPhOj0Ko7HVqn6pdjBJbrr9YY6pdZT39f/c99khVtcTk42/900+X6t95pe+Fw7yLSpWYk01zIrg3MWoAYR+94Fuq3xzc+5s3/2mE9rJ6FOK2GHK5hyEaL1u2zAgVlSpV9r505YsZRu1A1Pnyyy/V+p9/UvvrWQUVKlTI+Z7M5+9WKhZF/Y1N1R7z808gX/YUfpfwzPz666/V3nvvbdxrHKBtqnyFkvYcwt8fptn+qF3LwC813G5gxGCQkA92eObhdw4uVfbSbkJ8Ab9FsGMRUMd1v+LbJ4558BmK5z8+/KYaqZxLv+CiB/cj1hdw3a2kaxfvnWtWr1arVn9p3iEwICOf1yCX+yyX+9tlIMIuBNE7e9xjitH+x9q11Q5aDMUzuSgDD9zjII17fLX+eL527RrzwTOfv0k4Xr6ew7i/8D6zWfcHH6IhSBZ3EJsL99Gxxx6ftPBkcZ8Lj7dtEKAgGtJ1FBHT15xbZqclLlvsL3EKoj6a0ebly4CPtlc8OgmQAAmQAAmQAAkUHwHaU8XHmkciARIoTMAniBauxRwSIIFtnQAF0ZCusIiYvubcMjstcdlif4lTEPXRjDaPBny0/Hl0EiABEiABEiCB+BOgPRX/a8gekECcCVAQjfPV47mTQHgEKIiGxFJETF9zbpmdlrhssb/EKYj6aEabRwM+Wv48OgmQAAmQAAmQQPwJ0J6K/zVkD0ggzgQoiMb56vHcSSA8AhREQ2IpIqavObfMTktctthf4hREfTSjzaMBHy1/Hp0ESIAESIAESCD+BGhPxf8asgckEGcCFETjfPV47iQQHgEKoiGxFBHT15xbZqclLlvsL3EKoj6a0ebRgI+WP49OAiRAAiRAAiQQfwK0p+J/DdkDEogzgZo1q+kFBX9WjRo1Ud3vvDvOXeG5kwAJ5ECAgmgO8OxdRcS08yTultlpicsW+0icgqgQLDlbGvAl51rwTEiABEiABEiABOJJgPZUPK8bz5oESIAESIAEtiUCFERDupoiYvqac8vstMRli/0lTkHURzPaPBrw0fLn0UmABEiABEiABOJPgPZU/K8he0ACJEACJEACcSdAQTSkKygipq85t8xOS1y22F/iFER9NKPNowEfLX8enQRIgARIgARIIP4EaE/F/xqyByRAAiRAAiQQdwIUREO6giJi+ppzy+y0xGWL/SVOQdRHM9o8GvDR8ufRSYAESIAESIAE4k+A9lT8ryF7QAIkQAIkQAJxJ0BBNKQrKCKmrzm3zE5LXLbYX+IURH00o82jAR8tfx6dBEiABEiABEgg/gRoT8X/GrIHJEACJEACJBB3AhREQ7qCImL6mnPL7LTEZYv9JU5B1Ecz2jwa8NHy59FJgARIgARIgATiT4D2VPyvIXtAAiRAAiRAAnEnQEE0pCsoIqavObfMTktctthf4hREfTSjzaMBHy1/Hp0ESIAESIAESCD+BGhPxf8asgckQAIkQAIkEHcCFERDuoIiYvqac8vstMRli/0lTkHURzPaPBrw0fLn0UmABEiABEiABOJPgPZU/K8he0ACJEACJEACcSdAQTSkKygipq85t8xOS1y22F/iFER9NKPNowEfLX8enQRIgARIgARIIP4EaE/F/xqyByRAAiRAAiQQdwIUREO6giJi+ppzy+y0xGWL/SVOQdRHM9o8GvDR8ufRSYAESIAESIAE4k+A9lT8ryF7QAIkQAIkQAJxJ0BBNKQrKCKmrzm3zE5LXLbYX+IURH00o82jAR8tfx6dBEiABEiABEgg/gRoT8X/GrIHJEACJEACJBB3AhREQ7qCImL6mnPL7LTEZYv9JU5B1Ecz2jwa8NHy59FJgARIgARIgATiT4D2VPyvIXtAAiRAAiRAAnEnQEE0pCsoIqavObfMTktctthf4hREfTSjzaMBHy1/Hp0ESIAESIAESCD+BGhPxf8asgckQAIkQAIkEHcCFERDuoIiYvqac8vstMRli/0lTkHURzPaPBrw0fLn0UmABEiABEiABOJPgPZU/K8he0ACJEACJEACcSdAQTSkKygipq85t8xOS1y22F/iFER9NKPNowEfLX8enQRIgARIgARIIP4EaE/F/xqyByRAAiRAAiQQdwIUREO6giJi+ppzy+y0xGWL/SVOQdRHM9o8GvDR8ufRSYAESIAESIAE4k+A9lT8ryF7QAIkQAIkQAJxJ0BBNKQrKCKmrzm3zE5LXLbYX+IURH00o82jAR8tfx6dBEiABEiABEgg/gRoT8X/GrIHJEACJEACJBB3AhREQ7qCImL6mnPL7LTEZYv9JU5B1Ecz2jwa8NHy59FJgARIgARIgATiT4D2VPyvIXtAAiRAAiRAAnEnQEE0pCsoIqavObfMTktctthf4hREfTSjzaMBHy1/Hp0ESIAESIAESCD+BGhPxf8asgckQAIkQAIkEHcCFERDuoIiYvqac8vstMRli/0lTkHURzPaPBrw0fLn0UmABEiABEiABOJPgPZU/K8he0ACJEACJEACcSdAQTSkKygipq85t8xOS1y22F/iFER9NKPNowEfLX8enQRIgARIgARIIP4EaE/F/xqyByRAAiRAAiQQdwIUREO6giJi+ppzy+y0xGWL/SVOQdRHM9o8GvDR8ufRSYAESIAESIAE4k+A9lT8ryF7QAIkQAIkQAJxJ0BBNKQrKCKmrzm3zE5LXLbYX+IURH00o82jAR8tfx6dBEiABEiABEgg/gRoT8X/GrIHJEACJEACJBB3AhREQ7qCImL6mnPL7LTEZYv9JU5B1Ecz2jwa8NHy59FJgARIgARIgATiT4D2VPyvIXtAAiRAAiRAAnEnQEE0pCsoIqavObfMTktctthf4hREfTSjzaMBHy1/Hp0ESIAESIAESCD+BGhPxf8asgckQAIkQAIkEHcCFERDuoIiYvqac8vstMRli/0lTkHURzPaPBrw0fLn0UmABEiABEiABOJPgPZU/K8he0ACJEACJEACcSdAQTSkKygipq85t8xOS1y22F/iFER9NKPNy6cB//3336u5c2arNWtWqx9/+jGpo+XLH6Cuv75tUh4TJEACJEACJEACJBBHAvm0p7LhsWTJYjVp0nizS5s27dR+++2fze6sSwIkQAIkQAIkEGMCFERDungiYvqac8vstMRli/0lTkHURzPavHwZ8OPHj1H9+/VRmzZt9Haw8lFHq7FjJ3nLmFlAYPPmzapunXNN4vLLr1Ctrm5NNCRAAiRAAiRAAiWQQL7sqWy7+uLUyapbtzvMbuMnTFVHHlkp2yZYXxO4pWN79cknH6ujtL360KBHyYQESIAESIAEYkGAgmhIl0lETF9zbpmdlrhssb/EKYj6aEablw8Dfvnyz1STxg3Vn3/+YTpXpkxZdeJJJ6sdd9wx0dmD/nmQuq1T50SakcIE/vzzT3XiCceYgmuuuU51uPnWwpWYQwIkQAIkQAIkEDmBfNhTRekUBdGiUCu8z1VXNlWLFy9Sxx3/L/Xss2MKV2AOCZAACZAACZRAAhREQ7ooImL6mnPL7LTEZYv9JU5B1Ecz2rx8GPADB/RVI0c+aTp2nZ4W37r19ap06dLRdjSGR6cgGsOLxlMmARIgARL4WxLIhz1VFJAURItCrfA+FEQLM2EOCZAACZBAySdAQTSkayQipq85t8xOS1y22F/iFER9NKPNy4cBf1P7Nmr27Jmq1D/+oWbNmqd23333aDsZ06NTEI3pheNpkwAJkAAJ/O0I5MOeKgpECqJFoVZ4HwqihZkwhwRIgARIoOQToCAa0jUSEdPXnFtmpyUuW+wvcQqiPprR5uXDgBcj8uijq6jRYyZE28EYH52CaIwvHk+dBEiABEjgb0UgH/ZUUQBSEC0KtcL7iC3LKfOF2TCHBEiABEig5BKgIBrStRER09ecW2anJS5b7C9xCqI+mtHm5cOAz8WI/EmvRr/DDjuoXXbZtVjBbNiwQe22225pj/nDD9+b89ppp53S1vMVon34UM3GdUAugiiOt27dV/p8d1H77LOvKso5+/rBPBIgARIgARIggcIE8mFPyVH++OMP9fW6deqAAw9U/9Czb9KFbAXRX375Rf3880/qwAP/qbbbbrt0Tacsy7cNFcY5/u9//1P4B7soSCiqLfvbb7+pr75aa1juu+9+gY8X5JxYhwRIgARIgAQyEaAgmolQwHIRMX3V3TI7LXHZYn+JUxD10Yw2LwwD/o03XlePDH4o0REYgjAIIf7BwLbDJQ0bqauuamVnaeFunYLf0SVLPlD/+c83xoj8p1506ZRTTlUdb+mkypUrl1RfEn373q8WzH9LweB87PER6t///lSNGjVSLV36ifru22/V5s1/mqpDhz2pjtdO8RFaXNVMbdiwXp19znnGt+kTTzym5rw5y+y7115762NWVfXqNVA1z6pl6v/++2/q0UcHq3FjR6uNG39RpUqVUgcffIhq3LipanbFlWlfHrDvgwP7q7femqNWr15l6h5xRCV1R+du6rjjjlOXN7nUHAMryDe5vJmJPzxooHYz8IaJ47+VK1eY+B577KH23HOvRD4iF19yqWrR4upEHl6Yxo8fo54a8YT65puvE/l4wTml6mmqefOr1FlnnZ3IZ4QESIAESIAESCAcAmHYU+6ZTJkyUT333Ci1Yvlys1DlDjvsqA4/4gjVUj/769S90K1u0kEEUdgLjzwySM3U9hvsE9jpEAqPPuZYddutt6vKemV1XyhOG6qo5+jahrBRwWTBgvnq1183aVH5n6p27bqqbdv2SYt9ZmPLHnHEkapvvweTEM2ZM1sNG/qI+vjjj5LyK1Y8TDVq1EQ1bdbc2JBJhUyQAAmQAAmQQMgEKIiGBFRETF9zbpmdlrhssb/EKYj6aEabF4YBP3nyRNXjzi6BOtLq6mtVx463Jeq+OXuW6tbtDiNSJjKtSPnyB6h+/R/UAmKBoGkVqVtuuUnNeP1VY9wOHPiwfkFoZoRYuw7iTz/9vDrhxJNM9plnnGZGQjRocLEWODcqGMBugOj56KOPq+o1Tlfdut6uXnxxiluloK0zz1IPDx6qtt9++0LlGJ15U/u26rPPPi1Uhvb79B2oXzo6mLI2bdqpNtowR+iuWUzVhnuQ0LJVa82gk6mKv7HbO3VUr776StpdcRwcj4EESIAESIAESCA8AmHYU3I2GMnYu9fdavLk1G6HLm3UWHXvfnchkS2TIIoPz7d0bK8++uhDOVzSFrNZOnfpbkS8pAKdKC4bKpdztG3D22/vojre3C7xHmL3p1KlyuqZUaNVmTJlTHY2tmyVKseq518Yn2hu9Ojn1H339kykfZEzzqipBj74sJ6xw0VGfXyYRwIkQAIkEA4BCqLhcPQaD9K0CJy+tJTJFnUkTkFUiJWcbRgG/PLln6m35s5JdGrMmOfNdG2ImRj9aIdjjztenXzyKSZr9apV6pJLLlR//PE/PU1+R9Wy1TXqpJNO0VOaflfz5s1VY0Y/b+phdOS0l15Tu+6aPKVdjN5y5XZXO5XeSX37n/+oI4+sbKaU7bnHnmq77QumfrXSwiFGdSKIMV+mTFmFEZxNmzZXp51W3ZQtWDBPwaj966+/1C677mpeBkY+9YSqqkdXYjTmPvvso5Z/9pka/sQw9dOPP5p97r67t2p46WUmbv93/XVX69EI80zWCSecpC6+uKHab//yeuTAh2YEJ0RRjFRFsAVRjDBYuaJgVOjmvzYrjBhFwGjZ008/08TlvyrHHmdGtCI94/XXtDhaIKqeffa56vKmV6hjjz1e/fjjD+qTTz5WDz3Y31wT1H36mRfUCSeciCgDCZAACZAACZBACATCsKfkNEaMGG6e20g3a3al+bd/+fJq7do1avjjw9RLL001VSFcotwOmQTRNm2uVfP0zJWdd95F3dShozr33PONfbV06ceqf78HzAhHfOgdM3aSgmhoh+KyoXI5R7EN0T+8fxylR7s21LOT9ttvf/X5FyvVk088bmYjoV/XXtdGtW9/s+liNrbs3toerF//IrMf3Cmde86ZelbSZnX44UeYD9wn6o/w+tD6o/i/9fEeU++++7ap2759R33MG0yc/5EACZAACZBAPghQEA2JqoiYvubcMjstcdlif4lTEPXRjDYvTANeehLU71K7G69XEACxGv0TT4w0Yqi0gS2mit3ZvWDkafMrWyp86beDGL3IO+igg/VI0ofU0UcfY1cpFBdjHgU+MXPcuDGqV88eif1qaXHxwQcHJ40CxRT/iy+qY0ajYurV9Olbp7hjx4UL56vrri1wC4ARAQ8NetT4RZVGMbUf0842bdposmxBVOpg++eff6oTTyjozzXXXKc63HyrXZwUxxSxZ7W7AAi9r894s5A/1PXr16uxY14wU+6O0ow4dT4JHxMkQAIkQAIkkBOBsOypn3/6SdWte66C38wmTZqpbt3vKnReN7Vvo2bPnql2330P9dLLyR+M0wmi+FCLD7YIsJkuuKBOUtv//e8GdWnDBsbtzqmnVVPDh49MKi8OGyrXc7RtQ3wgHujYcODboEEdM1sI/tUXLFzk9csa1JadOXOGurnDjYbTsMdGqOrVayQx+0t/3B43doz5QL2b/oB/hXa3xEACJEACJEAC+SJAQTQksiJi+ppzy+y0xGWL/SVOQdRHM9q8sAx4uxdBjMgvv/xCNahf2+yG6eu97+1jN5GIN2/eRH24ZLE2VndQC99elOTvyTZ6nxr5bCFBNdGIFRFj/oADDlQvvzIjSehENRiu559fy4w2RXrc+CmFRkgg/5577lQTxo9FVJ/XB6ps2bImjv/uuONW9crL04zP0ImTpqnDDjs8USaRAf376Kn8I0wyDEH0QT0C9Ck9ogThhdET1DHHVDFx/kcCJEACJEACJJB/AmHZU889+4zq0+dec8KvvjZbldcjQ92wRNtFV2r7CKFX7/vVRRc1TFRJJ4hCuIOABz/tsIF8Ab7VZXbK9FdnKthLEorDhsr1HG3bcNLkl7w22JBHH1bDhj1qujX1xemqQoVDpYuJbRBbFpXf0qNt2+pRtwi33nZHkm93k8n/SIAESIAESKAYCVAQDQm2iJi+5twyOy1x2WJ/iVMQ9dGMNi8sA97uRRAj8o0Zr2lfogVTvH1f1KW9F154Vt1/Xy+ThLiI6UgSxOiFv6t33l2sxc1SUpRyK8Z8zZq11OBHhnnryXR3jFx9770PC/nnwk5Y5KDPA73N/mPHTVaVKx+VaKtZ00ZmyhkWUJowsWBaW6JwS2TZsqWqSeNLTCoMQXTeW3P11PvWpr2yZXdWZ55ZU1WrVsMsanVIhQpmqph7DkyTAAmQAAmQAAmEQyAse+re3vcouB4qXbqMutTjkgdnC9c+cPED+7p16+v11PdbEp1IJ4hefFFd9fnnK9UhWgA8vcYZiX3sCPx3ztA2GoJrnxWHDZXrOYptiNGf77y7xLv45eva//yt2g89wiOPPqZtprNM3P4viC2L+hhxesEFZ5sFm+AO6aSTq6qztI0J2wvCM8RWLG7JQAIkQAIkQALFQYCCaEiURcT0NeeW2WlfXPIoiPpoRpsXlgFv9yKIEfnE8GHq4YcLVuh86eXXzZR3uw2J21/eB+iFk8477wIp2rqokh69gFEMQYIY8xdpn569et3v3eWO229Rr7zykoLv0jfnLPTWmTZtqurapZMpe+75scZfp1Q84/RT1fr1P6uzap2j+zhEspO2GzZs0C8jp5i8MARRNAThGAKyL2CEB6b/41i77Zbsi9VXn3kkQAIkQAIkQALBCYRlT8HlDlzvBA3nnV9bDRgwKFE9lSAKEfWUk483ftsTlTNEunbrkeQLPt82VBjnKIIo7J5UtuGiRe/phTgLfNz7XAcASxBbVvBN1zZj1653GLdEkifb3XYrp+B+oF27DurQQytKNrckQAIkQAIkkBcCPkHU/jCXKo6Tscvck0tX5tYtzvR2WmzUbrvDD+madcvstC8ueRREw79OubYYlgFvn0cQI3LokMFq6NBHzG6vvT5b7a8XHPIF2x/n/Q/0V/Xq1U9USxi9Hj+eiUpOJN/GPA5X9ZR/af+iv+qp93VU/wEPOWdQkPztt990veNNIixBFI3Nn1+wMNTiDxYZ/1gFR9v6/z777KvGjpuk9tpr762ZjJEACZAACZAACeREICx76upWV+rZKe+offfbT111VauM54TFgmxfoKkEUfglP0XbHZv1FgtY1jr7nIxtH3/8Cer44/+VqJdvGyqMcwxiG36w6H09tb2Z6VcYgigagiuoEU8ONwsoffXV2gQzicD105ChjycW8pR8bkmABEiABEggTAIUREOiKSKmrzm3zE774pJHQdRHM9q8sAx4uxdBBFH42ISvTYR0/j8nTBir7rn7TlNv9JiJSYsmBTF6zY7Wf/k25nEoLEiwfPm/9ajR49Rzz4+zjr41unLFcnXJJReajDAFUTkC/uZ++OEHszDCksUfqFdffUUtXrzIFKcbHSv7c0sCJEACJEACJBCcQFj2VK+ed6lx40abVeDnL3gv7WgN39mlEkRRt0H9Olq4+9xMEcdU8WxDcdhQuZ5jENswH4KozRKLU3399dfaFvxMwUXULL0AFoRo30Kc9n6MkwAJkAAJkECuBCiI5kpwy/4iYvqac8vstC8ueRREfTSjzQvLgLd7EUQQ/VT70Gy8xYdmy1at9fT3gunndjuIy0qqGKKNlUDtxYuCGL1ue8VhzMuCAPBfhelavtGYWFAJCyshpBJEMXUMq8xjm2qlWbd/qdJoo07tc7SBvk4dckgF9eK0V1NVZT4JkAAJkAAJkECWBMKyp54d9bTq2/c+c/Snn35enXDiSVmdSTpBtINeVGnWzBnadU45Y5/ssssuWbVdHDZUrucYxDYMIojKSN2KFQ9Tk6e8nBUnt3LXLreradOmmOw3Zs5VmK3DQAIkQAIkQAL5IEBBNCSqImL6mnPL7LQvLnkURH00o80Ly4C3exFEEMU90fTyRmrp0o+1yLmzmjjpxaSVTNHe+++/q1q1bG6arl27rurbr8DnqBwriNErdWVbHMb85MkTVY87u5hDXtG8hR4J21UOb7br169XDfXo0O+++9akUwmiKKytRcx1eurV4UccqSZMmJpypEjnzrcZx/577rmX6tK1u9p118J+Qq+9tqV6e+ECMw1vxow55tj4b/68t1T79m1MeqfSO+lp9+8lyhghARIgARIgARLITCAse+r7779X9S+8QG3c+Iuern6CmUXzD73Iox0wJXvgwH7qj//9T8GHaP36FyWK0wmic+bMVu1uvN7UbdHiarMqemLHLRHYBFiwCaFt2/aq8lFHbylRqjhsqFzPMYhtGEQQvVPbcVO0PbfDDjuqV6bPUPvuu1+Cgx0ZMWK4eufthWYBzo764769+KfUe/zxoeqRwQUulKa99Jo6+OBDTNHvv/+uqlc7WaqpZ0a9oI45pkoizQgJkAAJkAAJZEuAgmi2xFLUFxHTV+yW2WlfXPIoiPpoRpsXlgFv9yKIIIr6H2g/ly2uamp2xShKCIcnnnSygoEIg3zAgD7aF+dveqXV0mrK1OmqfPny9mG2Lqp04D/V9OlvJJWlShSHMf/XX5tVo0svUiv0tHiEZs2uVJc1vtz4Sf344w/Vfff2VHiZ+Z9+kUFIJ4h2uu1mM90d9apWPU3V0gs17bHnnkgqjFqQ1e2HPz5MDR5cIBhDPO3UqbN2L1BFlStXzgivs2a+oXr3vlvvpdS5556vBj442MTxn71wFVhjVVYGEiABEiABEiCB4ATCtKeefPJxNeihAebgEEUxi6ZS5aPU999/pz766EM1cEBf82zfcccd1bjxU5IW60kniKLBNje0VvPmzTVtN9Sr2MNGgUD3xRefq4UL5mtb4iGzOBBmk0ya/JKyxdjisKFyPcewBNGxY15I2E0HHXSwuqRhIwV/raVKlVK7l9tdVa9xumGIj/fXXH2Vmc2zy6676sWVehgfrbBZf/nlF/XhksXGRRQW29x9dyzWuSDxcfv3338zC12ZhvR/z2s3S1W0uyUGEiABEiABEigqAQqiRSXn7CcippNtkm6ZnfbFJY+CqI9mtHlhGvDSk6CCKOo/NeIJvRL7QLV582bZPWlbunQZ1bPnvap2nXpJ+UgEMXrdnYrLmIfY277dDWrDhvXuKRhDuHfvB1S3bneYsnSC6Nq1a4xP0l9/3VSoHdvVAKbE33ZrBzVD+6qyQzlttMMIl4Dpcc+/MF5VqHCoZFEQTZBghARIgARIgASKRiBMewofTLtrG2H69NRTtbfffnt11129jFBnn3EmQXTdunXq5g5t1aefLrN3S4pD2BsxYlTio6sUFpcNlcs5BrENg4wQxQJPTRo3ND7hpf+yrVLlWGNLSXrUqJGqf78HlLzvIB8zdTDKF/aZhD59Bqg6dQv8xyOPgqiQ4ZYESIAESCAsAhREQyJpP9TdJt0yO+2LSx4FUZdk9OkwDXjpTTaCKPbB13UsIoDRCXKv4Av8Mdrg7NnzPjMSUtq2t0GMXrs+4sVlzONYGAXapXMntWTJB4l+wW9Uq1at1aWNGqtTqxas3JpOEEU769Z9padaDVIf6dGlX61da0ZuIN8WRJFGwMsTRpXg2G6oemo11bHjbYWmY3GEqEuKaRIgARIgARLIjkA+7Knx48eoIY8ONiND5WzgUx0zQLp1v0tBmHNDJkEU9TETB7NwXpw6xYh20gZWQsfq8507d9d+LveR7MS2OG2oop5jENswiCCKTm/atEk9MXyYmjv3TbVmzRqd3mhYuIIoMj/++CMtit6vFukV7N2A0bY3tuug3SDVTSqiIJqEgwkSIAESIIEQCFAQDQEimhBhytecW2anfXHJoyDqoxltXj4M+KL26Jdf/quWLVumMAWsUqXKZqp8UdsqSfuhX0s/+UTtrV8uKlY8rFhO7ccff9AryX5hVjnde++9FaZ7HXDAgcVybB6EBEiABEiABP5uBPJpT8Gv6Gf//lTtpt3gHHbY4apMmTKh4IV9vmb1arVq9ZfGRoBwZ0+RD+UgOTYSh3O0u7hx40a1atWXarX+V3bnndWB2vY6tGJFtf32pexqjJMACZAACZBAXghQEA0Jq4iYvubcMjudLk5B1Ecz2rx8GvDR9oxHJwESIAESIAESIIHiIUB7qng48ygkQAIkQAIkQAKpCYggihklEoLEUdeuJ/vKNl2Z1Iliu50WIP8vHwdO16xbZqfTxSmI5uNK5dYmDfjc+HFvEiABEiABEiABEqA9xXuABEiABEiABEggagIUREO6Araw6TbpltnpdHEKoi7J6NM04KO/BjwDEiABEiABEiCBeBOgPRXv68ezJwESIAESIIFtgQAF0ZCuoi1suk26ZanSdj7iFERdktGnacBHfw14BiRAAiRAAiRAAvEmQHsq3tePZ08CJEACJEAC2wKBdIKoO+09U9rm4da1y6KMl4gp8wDgip8CRfIpiAqRkrWlAV+yrgfPhgRIgARIgARIIH4EaE/F75rxjEmABEiABEhgWyPgCqK2kJkqLgzscsmTbboyqRPFNhJBFB0VoVM6bad9cQqiQqpkbWnAl6zrwbMhARIgARIgARKIHwHaU/G7ZjxjEiABEiABEtjWCBRVEM0keGYqj4pj3gRRdMgWNt0OumV2OlV84cJ56rRTq7pNMR0hARrwEcLnoUmABEiABEiABLYJArSntonLyE6QAAmQAAmQQKwJQBA97bQaiT7YQmaqOCrbZYmdt0TSlbl1iztNQbS4iW9jx6MBv41dUHaHBEiABEiABEig2AnQnip25DwgCZAACZAACZCAQ4CCqAMkl6Q90tNtxy1LlbbzOULUpRh9mgZ89NeAZ0ACJEACJEACJBBvArSn4n39ePYkQAIkQAIksC0QSCWIuqM8M6VtFm5duyzqeIkcIQoothAqcQqiUd8uhY9PA74wE+aQAAmQAAmQAAmQQDYEaE9lQ4t1SYAESIAESIAE8kHAFkRtIdOO47iZ0va5uXXtsqjjJUYQBQgRPlPF3357vjq1KnyI/h+qMJQAAjTgS8BF4CmQAAmQAAmQAAnEmgDtqVhfPp48CZAACZAACWwDBLZTb7/zjjr11OqmL7aQmSounbbLJU+26cqkTlTbyARRdNgWQN20r2zJkkXquGOP1Wp0VLh4XJcADXiXCNMkQAIkQAIkQAIkkB0B2lPZ8WJtEiABEiABEiCBcAn8nx53+OFHH6njjz8x7QhQV+B00+5ZZSp36xdnOq+CKDriCpt259yydGmUffnl52qfffZWO5ctYzfDeIQEaMBHCJ+HJgESIAESIAES2CYI0J7aJi4jO0ECJEACJEACsSWwcdOv6rvvvlcVKlRMEkRdQTNT2gbg1rXLSkK8RAmiAGKLom5806ZNWhRdqY4+6ijULAn8/vbnQAP+b38LEAAJkAAJkAAJkECOBGhP5QiQu5MACZAACZAACeRAYDu1dNkyLYYepsqWLZtSEPUJnL48OZF0ZVInym2kgig6bouemdKou2bNan2BSqu99twjSm489hYCNOB5K5AACZAACZAACZBAbgRoT+XGj3uTAAmQAAmQAAkUncAPP/6kNm36TR100MEpxVC07gqcbto9g0zlbv3iTsdKEAUciKIrVnym9thjdy2K7omc4mbG41kEaMBbMBglARIgARIgARIggSIQoD1VBGjchQRIgARIgARIIEcC26kffvxR/fTTz+rww4/MKHi6Aqebdk8mU7lbv7jTeRdE0SF3FKjdSV+Zm2enJY6Rov/973p1yCGHqLJlymy5cBRHbbbFEacBXxyUeQwSIAESIAESIIFtmQDtqW356rJvJEACJEACJFCSCGxnNLpNv/6qVq1apXbdtZwZGYoztAVMO+6WSW/cOpKfqr5dXhLikQuigCAipwAJmoZP0W+//UatX/+z+u233wq1I+1xSwIkQAIkQAIkQAIkQAIkQAIkQAIkQAIkQAJ/ZwIQMUuXLq3Kldtd7bvv/sZnKHi44ma2aZepu79bXhLSJVIQBZigoqhAdOv72pC67ta3r1uHaRIgARIgARIgARIgARIgARIgARIgARIgARKImkBQwdFXz83LNo2+u/u4PDKVu/WjSBeLIIqOZRIdfeVuXqZ0uuO4+0YBm8ckARIgARIgARIgARIgARIgARIgARIgARIggXwRSCVG+vLdvExpnLNbx+1HpnK3flTpWAmigOQKm27aV8cH17efrx7zSIAESIAESIAESIAESIAESIAESIAESIAESKAkEggiQPrquHluGn0Nmmdz8e1jl5eUeIkRRAHEJ1LmkpeqzaLC951LUdvifiRAAiRAAiRAAiRAAiRAAiRAAiRAAiRAAiQgBMIUE1O15cvPJU/OXba+tqSsJG2LTRBFpzMJiqnKfflB82zYvn3scsZJgARIgARIgARIgARIgARIgARIgARIgARIII4EMomRvvKgeeDhq2tzylRu1406XqIEUcBIJVr68n15AjRdmdSxt9nWt/dlnARIgARIgARIgARIgARIgARIgARIgARIgATyTSBb0TFdfV+ZLw99SpVv9zdIHbt+lPFiFUTR0SDCY6o62eYL2FT7STm3JEACJEACJEACJEACJEACJEACJEACJEACJLAtEMgkTKYqzzbfZpVqX7tOSYqXSEEUgFKJmKny0+3jAk/XhluXaRIgARIgARIgARIgARIgARIgARIgARIgARIoqQSCipHp6qUqS5Xvsghaz90vqnSxC6LoaFBBMl29dGXZHCMq8DwuCZAACZAACZAACZAACZAACZAACZAACZAACeSTQCahMl15ujL7nIPWs/eJOh6JIIpOZxI0BUymepnKszmWHJNbEiABEiABEiABEiABEiABEiABEiABEiABEogjgSACZaY6mcqFS9B6Ur+kbCMTRAEgiJgZtF7QtlzwRd3PbYdpEiABEiABEiABEiABEiABEiABEiABEiABEigOAkUVIoPsF6QO+hi0XnHwyPYYsRBEpVNBxMsgdaQ9bkmABEiABEiABEiABEiABEiABEiABEiABEhgWycQRLwMUsfmlG19e9+o45EKouh8tgJmvutHfUF4fBIgARIgARIgARIgARIgARIgARIgARIgARLIhUC2YmW+6+fSl3zsG7kgik5lK3IWdR8XYFGO67bBNAmQAAmQAAmQAAmQAAmQAAmQAAmQAAmQAAkUN4FsRUzf+RWljaLs4zt2lHn/D+cvFKsovEyyAAAAAElFTkSuQmCC)"
      ],
      "metadata": {
        "id": "VE_wEg7ljucC"
      },
      "id": "VE_wEg7ljucC"
    },
    {
      "cell_type": "markdown",
      "id": "28493b9b-a1ae-4f31-87bc-c10ee4447f44",
      "metadata": {
        "id": "28493b9b-a1ae-4f31-87bc-c10ee4447f44"
      },
      "source": [
        "- For an alternative way to load the weights from the Hugging Face Hub, see [../02_alternative_weight_loading](../02_alternative_weight_loading)\n",
        "- If you are interested in seeing how the GPT architecture compares to the Llama architecture (a popular LLM developed by Meta AI), see the bonus content at [../07_gpt_to_llama](../07_gpt_to_llama)"
      ]
    },
    {
      "cell_type": "markdown",
      "id": "f2a66474-230d-4180-a8ff-843e04f1f1c4",
      "metadata": {
        "id": "f2a66474-230d-4180-a8ff-843e04f1f1c4"
      },
      "source": [
        "## Summary and takeaways"
      ]
    },
    {
      "cell_type": "markdown",
      "id": "fc7ed189-a633-458c-bf12-4f70b42684b8",
      "metadata": {
        "id": "fc7ed189-a633-458c-bf12-4f70b42684b8"
      },
      "source": [
        "- See the [./gpt_train.py](./gpt_train.py) script, a self-contained script for training\n",
        "- The [./gpt_generate.py](./gpt_generate.py) script loads pretrained weights from OpenAI and generates text based on a prompt\n",
        "- You can find the exercise solutions in [./exercise-solutions.ipynb](./exercise-solutions.ipynb)"
      ]
    }
  ],
  "metadata": {
    "accelerator": "GPU",
    "colab": {
      "gpuType": "T4",
      "provenance": []
    },
    "kernelspec": {
      "display_name": "Python 3",
      "name": "python3"
    },
    "language_info": {
      "codemirror_mode": {
        "name": "ipython",
        "version": 3
      },
      "file_extension": ".py",
      "mimetype": "text/x-python",
      "name": "python",
      "nbconvert_exporter": "python",
      "pygments_lexer": "ipython3",
      "version": "3.11.4"
    }
  },
  "nbformat": 4,
  "nbformat_minor": 5
}